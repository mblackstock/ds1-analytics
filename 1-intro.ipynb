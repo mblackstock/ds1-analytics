{
 "cells": [
  {
   "cell_type": "markdown",
   "metadata": {
    "id": "HJ4zsaHIKrkt"
   },
   "source": [
    "# 1. Introduction to Data Science\n",
    "\n",
    "Data Science is an interdisciplinary field focused on extracting knowledge from data used to solve problems in a wide range of application domains.\n",
    "\n",
    "<img src=\"https://miro.medium.com/max/1850/1*E1haIGB9K4K89PsFZgm-pw.jpeg\" width=\"400\">\n",
    "\n",
    "In this course we'll introduce you to tools and techniques used such as loading, cleaning, wrangling, transformation, exploration and visualization of data to find patterns, build reports and communicate results to assist in decision making.\n",
    "\n",
    "This series of project \"notebooks\" will guide you through several scenarios for you to learn how to use Python and associated tools and libraries such as Pandas for exploring data.  By the end of this course, you will have an understanding of how to use a hosted Python-based Jupyter notebook system to load data, manipulate the data and produce visualizations to create notebooks to communicate interesting facts about data. "
   ]
  },
  {
   "cell_type": "markdown",
   "metadata": {},
   "source": [
    "# What is Data?\n",
    "\n",
    "Data is a collection of information.  There are two types of data - structured, and unstructured.\n",
    "\n",
    "Unstructured data is information like audio and video files, documents, word docs, powerpoints, chat logs, emails, social media, satellite images.  It may also be data that is semi structured, for example, you may have information about different things like people, animals or houses that differs from thing to thing.  The labels for the different things changes as well.\n",
    "\n",
    "<img src=\"http://www.eclipsesol.com/wp-content/uploads/unstructured-data-pictures.jpg\">\n",
    "\n",
    "Structured data is organized and consistent and easier to work with and fits nicely into a database.  It is organized into tables with rows and columns.\n",
    "\n",
    "Much of Data Science and Analysis is taking unstructured data and making it structured, or cleaning the data to make it more consistent then changing the structure so that it is easier to work with and see patterns.  In this course, we're mainly working with structured or semi-structured data."
   ]
  },
  {
   "cell_type": "markdown",
   "metadata": {},
   "source": [
    "## Database table\n",
    "\n",
    "A Database table is the main data structure that we use in data analysis. Sometimes we just call it a  table.  In the pandas library it is represented by a DataFrame. \n",
    "\n",
    "This is organized into rows and columns with names.  For example a table could consist of the following data:\n"
   ]
  },
  {
   "cell_type": "code",
   "execution_count": 32,
   "metadata": {},
   "outputs": [
    {
     "data": {
      "text/html": [
       "<div>\n",
       "<style scoped>\n",
       "    .dataframe tbody tr th:only-of-type {\n",
       "        vertical-align: middle;\n",
       "    }\n",
       "\n",
       "    .dataframe tbody tr th {\n",
       "        vertical-align: top;\n",
       "    }\n",
       "\n",
       "    .dataframe thead th {\n",
       "        text-align: right;\n",
       "    }\n",
       "</style>\n",
       "<table border=\"1\" class=\"dataframe\">\n",
       "  <thead>\n",
       "    <tr style=\"text-align: right;\">\n",
       "      <th></th>\n",
       "      <th>Duration</th>\n",
       "      <th>Average_Pulse</th>\n",
       "      <th>Max_Pulse</th>\n",
       "      <th>Calorie_Burnage</th>\n",
       "      <th>Hours_Work</th>\n",
       "      <th>Hours_Sleep</th>\n",
       "    </tr>\n",
       "  </thead>\n",
       "  <tbody>\n",
       "    <tr>\n",
       "      <th>0</th>\n",
       "      <td>30.0</td>\n",
       "      <td>80</td>\n",
       "      <td>120</td>\n",
       "      <td>240.0</td>\n",
       "      <td>10.0</td>\n",
       "      <td>7.0</td>\n",
       "    </tr>\n",
       "    <tr>\n",
       "      <th>1</th>\n",
       "      <td>45.0</td>\n",
       "      <td>85</td>\n",
       "      <td>120</td>\n",
       "      <td>250.0</td>\n",
       "      <td>10.0</td>\n",
       "      <td>7.0</td>\n",
       "    </tr>\n",
       "    <tr>\n",
       "      <th>2</th>\n",
       "      <td>45.0</td>\n",
       "      <td>90</td>\n",
       "      <td>130</td>\n",
       "      <td>260.0</td>\n",
       "      <td>8.0</td>\n",
       "      <td>7.0</td>\n",
       "    </tr>\n",
       "    <tr>\n",
       "      <th>3</th>\n",
       "      <td>60.0</td>\n",
       "      <td>95</td>\n",
       "      <td>130</td>\n",
       "      <td>270.0</td>\n",
       "      <td>8.0</td>\n",
       "      <td>7.0</td>\n",
       "    </tr>\n",
       "    <tr>\n",
       "      <th>4</th>\n",
       "      <td>60.0</td>\n",
       "      <td>100</td>\n",
       "      <td>140</td>\n",
       "      <td>280.0</td>\n",
       "      <td>0.0</td>\n",
       "      <td>7.0</td>\n",
       "    </tr>\n",
       "    <tr>\n",
       "      <th>5</th>\n",
       "      <td>NaN</td>\n",
       "      <td>NaN</td>\n",
       "      <td>NaN</td>\n",
       "      <td>NaN</td>\n",
       "      <td>NaN</td>\n",
       "      <td>NaN</td>\n",
       "    </tr>\n",
       "    <tr>\n",
       "      <th>6</th>\n",
       "      <td>60.0</td>\n",
       "      <td>105</td>\n",
       "      <td>140</td>\n",
       "      <td>290.0</td>\n",
       "      <td>7.0</td>\n",
       "      <td>8.0</td>\n",
       "    </tr>\n",
       "    <tr>\n",
       "      <th>7</th>\n",
       "      <td>60.0</td>\n",
       "      <td>110</td>\n",
       "      <td>145</td>\n",
       "      <td>300.0</td>\n",
       "      <td>7.0</td>\n",
       "      <td>8.0</td>\n",
       "    </tr>\n",
       "    <tr>\n",
       "      <th>8</th>\n",
       "      <td>45.0</td>\n",
       "      <td>NaN</td>\n",
       "      <td>AF</td>\n",
       "      <td>NaN</td>\n",
       "      <td>8.0</td>\n",
       "      <td>8.0</td>\n",
       "    </tr>\n",
       "    <tr>\n",
       "      <th>9</th>\n",
       "      <td>45.0</td>\n",
       "      <td>115</td>\n",
       "      <td>145</td>\n",
       "      <td>310.0</td>\n",
       "      <td>8.0</td>\n",
       "      <td>8.0</td>\n",
       "    </tr>\n",
       "    <tr>\n",
       "      <th>10</th>\n",
       "      <td>60.0</td>\n",
       "      <td>120</td>\n",
       "      <td>150</td>\n",
       "      <td>320.0</td>\n",
       "      <td>0.0</td>\n",
       "      <td>8.0</td>\n",
       "    </tr>\n",
       "    <tr>\n",
       "      <th>11</th>\n",
       "      <td>60.0</td>\n",
       "      <td>9 000</td>\n",
       "      <td>130</td>\n",
       "      <td>NaN</td>\n",
       "      <td>NaN</td>\n",
       "      <td>8.0</td>\n",
       "    </tr>\n",
       "    <tr>\n",
       "      <th>12</th>\n",
       "      <td>45.0</td>\n",
       "      <td>125</td>\n",
       "      <td>150</td>\n",
       "      <td>330.0</td>\n",
       "      <td>8.0</td>\n",
       "      <td>8.0</td>\n",
       "    </tr>\n",
       "  </tbody>\n",
       "</table>\n",
       "</div>"
      ],
      "text/plain": [
       "    Duration Average_Pulse Max_Pulse  Calorie_Burnage  Hours_Work  Hours_Sleep\n",
       "0       30.0            80       120            240.0        10.0          7.0\n",
       "1       45.0            85       120            250.0        10.0          7.0\n",
       "2       45.0            90       130            260.0         8.0          7.0\n",
       "3       60.0            95       130            270.0         8.0          7.0\n",
       "4       60.0           100       140            280.0         0.0          7.0\n",
       "5        NaN           NaN       NaN              NaN         NaN          NaN\n",
       "6       60.0           105       140            290.0         7.0          8.0\n",
       "7       60.0           110       145            300.0         7.0          8.0\n",
       "8       45.0           NaN        AF              NaN         8.0          8.0\n",
       "9       45.0           115       145            310.0         8.0          8.0\n",
       "10      60.0           120       150            320.0         0.0          8.0\n",
       "11      60.0         9 000       130              NaN         NaN          8.0\n",
       "12      45.0           125       150            330.0         8.0          8.0"
      ]
     },
     "execution_count": 32,
     "metadata": {},
     "output_type": "execute_result"
    }
   ],
   "source": [
    "import pandas as pd\n",
    "\n",
    "data = pd.read_csv(\"datasets/exercise/data.csv\")\n",
    "data\n",
    "\n"
   ]
  },
  {
   "cell_type": "markdown",
   "metadata": {},
   "source": [
    "## Types of data\n",
    "\n",
    "There are three main types of data to consider.\n",
    "\n",
    "* Numerical - Contains numerical values. Can be divided into two categories:\n",
    "    * Discrete: Numbers are counted as \"whole\". Example: You cannot have trained 2.5 sessions, it is either 2 or 3\n",
    "    * Continuous: Numbers can be of infinite precision. For example, you can sleep for 7 hours, 30 minutes and 20 seconds, or 7.533 hours\n",
    "* Categorical - Contains values that cannot be measured up against each other. Example: A color or a type of training\n",
    "* Ordinal - Contains categorical data that can be measured up against each other. Example: School grades where A is better than B and so on"
   ]
  },
  {
   "cell_type": "markdown",
   "metadata": {},
   "source": [
    "# What is Data Analysis?\n",
    "\n",
    "Data Analysis is the process of inspecting, cleaning, transforming and modeling data to discover userful information, and support decision making.\n",
    "\n",
    "Open source tools include languages like R, Python and julia.  We're focusing on Python!\n",
    "\n",
    "## Process\n",
    "\n",
    "<img src=\"https://raw.githubusercontent.com/mblackstock/ds1-analytics/main/images/process.png\">\n",
    "\n",
    "The process includes the following:\n",
    "\n",
    "* Data Extraction\n",
    "* Cleaning\n",
    "* Wrangling\n",
    "* Analysis\n",
    "* Taking Action\n",
    "\n",
    "## Extraction\n",
    "* Accessing databases using SQL\n",
    "* Accessing APIs\n",
    "* Different file formats\n",
    " * CSV\n",
    " * JSON\n",
    " * XML\n",
    "\n",
    "## Cleaning\n",
    "* Missing values, empty data\n",
    "* Data imputation (substituting)\n",
    "* fixing incorrect or missing values\n",
    "* removing non-relevant data\n",
    "* Sanitation using statistics\n",
    "\n",
    "## Wrangling\n",
    "* Reshaping and transforming structures\n",
    "* handling categorical data\n",
    "* hierarchical data\n",
    "* indexing data\n",
    "* merging, compbining and joining\n",
    "\n",
    "## Analysis\n",
    "* Exploring data\n",
    "* building statistical models\n",
    "* visualizing and representing data\n",
    "* correlation and causation Analysis\n",
    "* statistical Analysis\n",
    "* reporting\n",
    "\n",
    "## Taking Action\n",
    "* building ETL pipelines\n",
    "* building ML models\n",
    "* providing live dashboards and alerts\n",
    "* making decisions and doing testing"
   ]
  },
  {
   "cell_type": "markdown",
   "metadata": {},
   "source": [
    "# Tools\n",
    "\n",
    "## Python for Data Science\n",
    "One of the post popular languages for data science today is Python. It is also used by professionals in many other contexts such as tools build control and management, dynamic data pipelines and backend web development. It is easy to pick up for anyone who has some previous coding experience. It is also used in the early UTG courses with PixelPad so it is likely familiar to many of you!  Python was named after the comedy troupe and show Monty Python's Flying Circus.\n",
    "\n",
    "## What is Jupyter?\n",
    "\n",
    "<img src=\"https://upload.wikimedia.org/wikipedia/commons/thumb/3/38/Jupyter_logo.svg/207px-Jupyter_logo.svg.png\" width=200>\n",
    "\n",
    "The [Jupyter Notebook](https://jupyter.org/) is an open source web application used to create and share documents that contain live code, equations, visualizations, and text.  It is possible to run Jupyter locally on your PC, and there are several Jupyter services available, and they are largely compatible with each other.  In this course we'll be using the [Google CoLab service](https://colab.research.google.com/), but others like [Kaggle](https://www.kaggle.com/) are also available.  You can also [install Jupyter](https://jupyter.org/install) on your machine directly.\n",
    "\n",
    "### Why Jupyter?\n",
    "\n",
    "Jupyter provides an interactive real time environment to explore data and do analysis\n",
    "\n",
    "You can issue commands and it responds right away.\n",
    "\n",
    "Other tools like spreadsheets are fine but when we have lots of data, we can't keep it on the screen all the time. We work with python and Jupyter by keeping the data in mind, not looking at it.  This is important when we're working with LOTS of data, which is often the case.\n",
    "\n",
    "Notebooks are a combination of text and code blocks that may have some associated output like text or visualizations.\n",
    "\n",
    "When you open a notebook in Jupyter, it creates a virtual machine for you to run your code in.\n",
    "\n",
    "# Libraries\n",
    "\n",
    "Much of becoming proficient is getting familiar with key Python libraries.\n",
    "\n",
    "<img src=\"https://pandas.pydata.org/static/img/pandas.svg\" width=\"200\">\n",
    "\n",
    "* [**pandas**](https://pandas.pydata.org/) - the cornerstone Python library for data analsysis and manipulation.  Most of this course will focus on the use of Pandas and related Python libraries for visualization.\n",
    "* [**numpy**](https://numpy.org/) - foundation of Pandas and other numeric computation systems in Python.  Super fast, written in C/C++ since Python is not fast.  Relatively simple API.\n",
    "* [**matplotlib**](https://matplotlib.org/) - foundation of viusalization libraries on Python.  Pandas is integrated with this library.\n",
    "* [**seaborn**](https://seaborn.pydata.org/) - statistical valuation tool built on matplotlib.\n",
    "\n",
    "## Getting Help\n",
    "\n",
    "While the libraries have excellent documentation, they may not answer your questions directly.  Fortunately many of the questions you wil have have been answered on Stack Overflow and other online sources.\n",
    "\n",
    "### Search\n",
    "\n",
    "Start with Googling the question and mentioning the library you want to use such as pandas.  For example 'how to groupby multiple columns with pandas'.  Sometimes you will get a blog post, but often this will take you to a related Stack Overflow Q&A, or access Stack Overflow directly.  As of this writing there were [204,733](https://stackoverflow.com/questions/tagged/pandas) questions with the pandas tag.\n",
    "\n",
    "### Help function\n",
    "\n",
    "Many of the python methods will provide excellent documentation as python docstrings.  These can be looked up using the help funciton.  This will be covered in the course."
   ]
  },
  {
   "cell_type": "markdown",
   "metadata": {
    "id": "QH7mu30iL7If"
   },
   "source": [
    "# Getting started\n",
    "\n",
    "## Accessing Google CoLaboratory\n",
    "\n",
    "To access Google's CoLab Jupyter environment you'll need a Google account since it integrates with Google Docs for storage.  Like Google docs word processing and spreadsheet documents, you can share your CoLab Notebooks with others.\n",
    "\n",
    "### Login to Google\n",
    "\n",
    "Login with your google account to get access to Google Drive.  We'll save our notebooks and data there.\n",
    "\n",
    "### Create a notebook.\n",
    "Navigate to https://colab.research.google.com to get started.  We'll work together to set up your first notebook.\n",
    "\n",
    "Create a new notebook.\n",
    "\n",
    "It looks like a web site, but its actually interactive.  Sort of like replit.com.  In a notebook you can add text and run Python code in blocks."
   ]
  },
  {
   "cell_type": "markdown",
   "metadata": {
    "id": "3YhgdmcZM4xK"
   },
   "source": [
    "## Text Blocks\n",
    "\n",
    "First, we'll start by creating a text block using markdown.  Markdown is a syntax for creating formatted text. We can write some markup as follows (feel free to change it as you like):\n",
    "\n",
    "```markdown\n",
    "# My First notebook\n",
    "\n",
    "This is my first notebook for playing around with Python and Pandas a bit before diving into our first project!\n",
    "```\n",
    "\n",
    "Markdown is very powerful.  You can format your text in many ways, and even include images.  For more info on Markdown in CoLab see https://colab.research.google.com/notebooks/markdown_guide.ipynb\n",
    "\n",
    "(Demonstrate headings, links, bullets, italics, bold, non-formatted, images, tables)"
   ]
  },
  {
   "cell_type": "markdown",
   "metadata": {
    "id": "r0DmHbRnKrku"
   },
   "source": [
    "## Code Blocks\n",
    "We can write python code blocks.  Demos"
   ]
  },
  {
   "cell_type": "code",
   "execution_count": 2,
   "metadata": {
    "id": "6pGM2dHXKrku",
    "outputId": "6700bc93-331d-41e7-b98e-4e57776aaa88"
   },
   "outputs": [
    {
     "data": {
      "text/plain": [
       "[1, 2, 3, 4]"
      ]
     },
     "execution_count": 2,
     "metadata": {},
     "output_type": "execute_result"
    }
   ],
   "source": [
    "numbers = [1,2,3,4]\n",
    "numbers"
   ]
  },
  {
   "cell_type": "markdown",
   "metadata": {},
   "source": [
    "Lets change two numbers in the middle using slice syntax."
   ]
  },
  {
   "cell_type": "code",
   "execution_count": 3,
   "metadata": {
    "id": "MkZYJ6SaKrkv",
    "outputId": "e95a4e3a-0ee9-4d5c-abbd-e9d52073dd69"
   },
   "outputs": [
    {
     "data": {
      "text/plain": [
       "[1, 2, 9, 10, 4]"
      ]
     },
     "execution_count": 3,
     "metadata": {},
     "output_type": "execute_result"
    }
   ],
   "source": [
    "numbers[2:3] = [9,10]\n",
    "numbers"
   ]
  },
  {
   "cell_type": "markdown",
   "metadata": {
    "id": "yWSwugfmKrkv"
   },
   "source": [
    "As you can see you can create variables and access them in subsequent code blocks."
   ]
  },
  {
   "cell_type": "markdown",
   "metadata": {},
   "source": [
    "## Quick Visualizations\n",
    "\n",
    "Now lets try something a little fancier!\n",
    "\n",
    "This is something that we can't do in the command line!"
   ]
  },
  {
   "cell_type": "code",
   "execution_count": 4,
   "metadata": {
    "id": "VFn2gO4wKrkv",
    "outputId": "f0037f38-7397-454d-8450-837ac570afef"
   },
   "outputs": [
    {
     "data": {
      "text/plain": [
       "[<matplotlib.lines.Line2D at 0x11d995fd0>]"
      ]
     },
     "execution_count": 4,
     "metadata": {},
     "output_type": "execute_result"
    },
    {
     "data": {
      "image/png": "[encoded data removed]",
      "text/plain": [
       "<Figure size 432x288 with 1 Axes>"
      ]
     },
     "metadata": {
      "needs_background": "light"
     },
     "output_type": "display_data"
    }
   ],
   "source": [
    "import numpy as np\n",
    "from matplotlib import pyplot as plt\n",
    "\n",
    "data = np.random.randn(50)\n",
    "plt.plot(data)"
   ]
  },
  {
   "cell_type": "markdown",
   "metadata": {
    "id": "q1o0y7U0Krkw"
   },
   "source": [
    "In this sample code we're using the `numpy` library and the `matplotlib` for visualizations.  \n",
    "\n",
    "The first two lines import those libraries.  The last two lines generate an array of random data and generates a plot of this data.\n",
    "\n",
    "Since our data is nice and simple, we don't have to manipulate it, and we've decided to use the default plot.\n",
    "\n",
    "As you can see these libraries are very powerful out of the box.  Much of this course is about how to use these libraries effectively.\n"
   ]
  },
  {
   "cell_type": "markdown",
   "metadata": {},
   "source": [
    "# Process\n",
    "\n",
    "Lets go through a simple data analysis project to understand the steps.\n",
    "\n",
    "First, we'll create a new notebook about the solar system.\n",
    "\n",
    "At the top, lets add a text block introducing our analysis.  We'll look at the relationship between mass and diameter of the planets.\n",
    "\n",
    "You can use content from wikipedia or other sources available from googling.\n",
    "\n",
    "Add an image to your markdown displaying the solar system."
   ]
  },
  {
   "cell_type": "markdown",
   "metadata": {},
   "source": [
    "## Extract\n",
    "Lets get some data about the solar system.  Google 'solar system data'.  You may see the [planetary fact sheet](https://nssdc.gsfc.nasa.gov/planetary/factsheet/).  This has some great data about the solar system.\n",
    "\n",
    "Lets draw a bar chart of the different planetary masses.\n",
    "\n",
    "First, we'll copy the data into a normal python data structure.\n",
    "\n",
    "We can copy and paste, then reformat the data.  You can use a python dict or a an array.  \n"
   ]
  },
  {
   "cell_type": "code",
   "execution_count": 5,
   "metadata": {},
   "outputs": [
    {
     "name": "stdout",
     "output_type": "stream",
     "text": [
      "VENUS 4.87\n"
     ]
    }
   ],
   "source": [
    "names = [\"MERCURY\",\"VENUS\",\"EARTH\",\"MOON\",\"MARS\",\"JUPITER\",\"SATURN\",\"URANUS\",\"NEPTUNE\",\"PLUTO\"]\n",
    "mass = [0.330,4.87,5.97,0.073,0.642,1898,568,86.8,102,0.0146]\n",
    "\n",
    "print (names[1], mass[1])"
   ]
  },
  {
   "cell_type": "markdown",
   "metadata": {},
   "source": [
    "This is one way to store our data, but it is not very convenient to access the data related to different planets and manipulate it.  This is where Pandas comes in.  Lets create a pandas DataFrame from this data."
   ]
  },
  {
   "cell_type": "code",
   "execution_count": 6,
   "metadata": {},
   "outputs": [
    {
     "data": {
      "text/html": [
       "<div>\n",
       "<style scoped>\n",
       "    .dataframe tbody tr th:only-of-type {\n",
       "        vertical-align: middle;\n",
       "    }\n",
       "\n",
       "    .dataframe tbody tr th {\n",
       "        vertical-align: top;\n",
       "    }\n",
       "\n",
       "    .dataframe thead th {\n",
       "        text-align: right;\n",
       "    }\n",
       "</style>\n",
       "<table border=\"1\" class=\"dataframe\">\n",
       "  <thead>\n",
       "    <tr style=\"text-align: right;\">\n",
       "      <th></th>\n",
       "      <th>names</th>\n",
       "      <th>mass</th>\n",
       "    </tr>\n",
       "  </thead>\n",
       "  <tbody>\n",
       "    <tr>\n",
       "      <th>0</th>\n",
       "      <td>MERCURY</td>\n",
       "      <td>0.3300</td>\n",
       "    </tr>\n",
       "    <tr>\n",
       "      <th>1</th>\n",
       "      <td>VENUS</td>\n",
       "      <td>4.8700</td>\n",
       "    </tr>\n",
       "    <tr>\n",
       "      <th>2</th>\n",
       "      <td>EARTH</td>\n",
       "      <td>5.9700</td>\n",
       "    </tr>\n",
       "    <tr>\n",
       "      <th>3</th>\n",
       "      <td>MOON</td>\n",
       "      <td>0.0730</td>\n",
       "    </tr>\n",
       "    <tr>\n",
       "      <th>4</th>\n",
       "      <td>MARS</td>\n",
       "      <td>0.6420</td>\n",
       "    </tr>\n",
       "    <tr>\n",
       "      <th>5</th>\n",
       "      <td>JUPITER</td>\n",
       "      <td>1898.0000</td>\n",
       "    </tr>\n",
       "    <tr>\n",
       "      <th>6</th>\n",
       "      <td>SATURN</td>\n",
       "      <td>568.0000</td>\n",
       "    </tr>\n",
       "    <tr>\n",
       "      <th>7</th>\n",
       "      <td>URANUS</td>\n",
       "      <td>86.8000</td>\n",
       "    </tr>\n",
       "    <tr>\n",
       "      <th>8</th>\n",
       "      <td>NEPTUNE</td>\n",
       "      <td>102.0000</td>\n",
       "    </tr>\n",
       "    <tr>\n",
       "      <th>9</th>\n",
       "      <td>PLUTO</td>\n",
       "      <td>0.0146</td>\n",
       "    </tr>\n",
       "  </tbody>\n",
       "</table>\n",
       "</div>"
      ],
      "text/plain": [
       "     names       mass\n",
       "0  MERCURY     0.3300\n",
       "1    VENUS     4.8700\n",
       "2    EARTH     5.9700\n",
       "3     MOON     0.0730\n",
       "4     MARS     0.6420\n",
       "5  JUPITER  1898.0000\n",
       "6   SATURN   568.0000\n",
       "7   URANUS    86.8000\n",
       "8  NEPTUNE   102.0000\n",
       "9    PLUTO     0.0146"
      ]
     },
     "execution_count": 6,
     "metadata": {},
     "output_type": "execute_result"
    }
   ],
   "source": [
    "planet_df = pd.DataFrame({'names':names, 'mass':mass})\n",
    "planet_df"
   ]
  },
  {
   "cell_type": "markdown",
   "metadata": {},
   "source": [
    "We now have our data in a table that is easy to understand.  This data structure is called a DataFrame.  The numbers on the left are the indices into rows, and the columns each have a name.  Lets add another column.\n",
    "\n",
    "Cut and paste and reformat the data from the site, then create an array, and assign it to the column."
   ]
  },
  {
   "cell_type": "code",
   "execution_count": 7,
   "metadata": {},
   "outputs": [
    {
     "data": {
      "text/html": [
       "<div>\n",
       "<style scoped>\n",
       "    .dataframe tbody tr th:only-of-type {\n",
       "        vertical-align: middle;\n",
       "    }\n",
       "\n",
       "    .dataframe tbody tr th {\n",
       "        vertical-align: top;\n",
       "    }\n",
       "\n",
       "    .dataframe thead th {\n",
       "        text-align: right;\n",
       "    }\n",
       "</style>\n",
       "<table border=\"1\" class=\"dataframe\">\n",
       "  <thead>\n",
       "    <tr style=\"text-align: right;\">\n",
       "      <th></th>\n",
       "      <th>names</th>\n",
       "      <th>mass</th>\n",
       "      <th>diameter</th>\n",
       "    </tr>\n",
       "  </thead>\n",
       "  <tbody>\n",
       "    <tr>\n",
       "      <th>0</th>\n",
       "      <td>MERCURY</td>\n",
       "      <td>0.3300</td>\n",
       "      <td>4879</td>\n",
       "    </tr>\n",
       "    <tr>\n",
       "      <th>1</th>\n",
       "      <td>VENUS</td>\n",
       "      <td>4.8700</td>\n",
       "      <td>12104</td>\n",
       "    </tr>\n",
       "    <tr>\n",
       "      <th>2</th>\n",
       "      <td>EARTH</td>\n",
       "      <td>5.9700</td>\n",
       "      <td>12756</td>\n",
       "    </tr>\n",
       "    <tr>\n",
       "      <th>3</th>\n",
       "      <td>MOON</td>\n",
       "      <td>0.0730</td>\n",
       "      <td>3475</td>\n",
       "    </tr>\n",
       "    <tr>\n",
       "      <th>4</th>\n",
       "      <td>MARS</td>\n",
       "      <td>0.6420</td>\n",
       "      <td>6792</td>\n",
       "    </tr>\n",
       "    <tr>\n",
       "      <th>5</th>\n",
       "      <td>JUPITER</td>\n",
       "      <td>1898.0000</td>\n",
       "      <td>142984</td>\n",
       "    </tr>\n",
       "    <tr>\n",
       "      <th>6</th>\n",
       "      <td>SATURN</td>\n",
       "      <td>568.0000</td>\n",
       "      <td>120536</td>\n",
       "    </tr>\n",
       "    <tr>\n",
       "      <th>7</th>\n",
       "      <td>URANUS</td>\n",
       "      <td>86.8000</td>\n",
       "      <td>51118</td>\n",
       "    </tr>\n",
       "    <tr>\n",
       "      <th>8</th>\n",
       "      <td>NEPTUNE</td>\n",
       "      <td>102.0000</td>\n",
       "      <td>49528</td>\n",
       "    </tr>\n",
       "    <tr>\n",
       "      <th>9</th>\n",
       "      <td>PLUTO</td>\n",
       "      <td>0.0146</td>\n",
       "      <td>2370</td>\n",
       "    </tr>\n",
       "  </tbody>\n",
       "</table>\n",
       "</div>"
      ],
      "text/plain": [
       "     names       mass  diameter\n",
       "0  MERCURY     0.3300      4879\n",
       "1    VENUS     4.8700     12104\n",
       "2    EARTH     5.9700     12756\n",
       "3     MOON     0.0730      3475\n",
       "4     MARS     0.6420      6792\n",
       "5  JUPITER  1898.0000    142984\n",
       "6   SATURN   568.0000    120536\n",
       "7   URANUS    86.8000     51118\n",
       "8  NEPTUNE   102.0000     49528\n",
       "9    PLUTO     0.0146      2370"
      ]
     },
     "execution_count": 7,
     "metadata": {},
     "output_type": "execute_result"
    }
   ],
   "source": [
    "diameter = [4879,12104,12756,3475,6792,142984,120536,51118,49528,2370]\n",
    "planet_df['diameter'] = diameter\n",
    "planet_df"
   ]
  },
  {
   "cell_type": "code",
   "execution_count": 8,
   "metadata": {},
   "outputs": [
    {
     "data": {
      "text/html": [
       "<div>\n",
       "<style scoped>\n",
       "    .dataframe tbody tr th:only-of-type {\n",
       "        vertical-align: middle;\n",
       "    }\n",
       "\n",
       "    .dataframe tbody tr th {\n",
       "        vertical-align: top;\n",
       "    }\n",
       "\n",
       "    .dataframe thead th {\n",
       "        text-align: right;\n",
       "    }\n",
       "</style>\n",
       "<table border=\"1\" class=\"dataframe\">\n",
       "  <thead>\n",
       "    <tr style=\"text-align: right;\">\n",
       "      <th></th>\n",
       "      <th>names</th>\n",
       "      <th>mass</th>\n",
       "      <th>diameter</th>\n",
       "    </tr>\n",
       "  </thead>\n",
       "  <tbody>\n",
       "    <tr>\n",
       "      <th>0</th>\n",
       "      <td>MERCURY</td>\n",
       "      <td>0.33</td>\n",
       "      <td>4879</td>\n",
       "    </tr>\n",
       "    <tr>\n",
       "      <th>1</th>\n",
       "      <td>VENUS</td>\n",
       "      <td>4.87</td>\n",
       "      <td>12104</td>\n",
       "    </tr>\n",
       "  </tbody>\n",
       "</table>\n",
       "</div>"
      ],
      "text/plain": [
       "     names  mass  diameter\n",
       "0  MERCURY  0.33      4879\n",
       "1    VENUS  4.87     12104"
      ]
     },
     "execution_count": 8,
     "metadata": {},
     "output_type": "execute_result"
    }
   ],
   "source": [
    "planet_df[:2]"
   ]
  },
  {
   "cell_type": "markdown",
   "metadata": {},
   "source": [
    "## Wrangling\n",
    "\n",
    "Now that we have the data in a nice table we can access it using slicing, but it wold be better to access data in columns by the planet name.  Lets change the index to the `name` column."
   ]
  },
  {
   "cell_type": "code",
   "execution_count": 9,
   "metadata": {},
   "outputs": [
    {
     "data": {
      "text/html": [
       "<div>\n",
       "<style scoped>\n",
       "    .dataframe tbody tr th:only-of-type {\n",
       "        vertical-align: middle;\n",
       "    }\n",
       "\n",
       "    .dataframe tbody tr th {\n",
       "        vertical-align: top;\n",
       "    }\n",
       "\n",
       "    .dataframe thead th {\n",
       "        text-align: right;\n",
       "    }\n",
       "</style>\n",
       "<table border=\"1\" class=\"dataframe\">\n",
       "  <thead>\n",
       "    <tr style=\"text-align: right;\">\n",
       "      <th></th>\n",
       "      <th>mass</th>\n",
       "      <th>diameter</th>\n",
       "    </tr>\n",
       "    <tr>\n",
       "      <th>names</th>\n",
       "      <th></th>\n",
       "      <th></th>\n",
       "    </tr>\n",
       "  </thead>\n",
       "  <tbody>\n",
       "    <tr>\n",
       "      <th>MERCURY</th>\n",
       "      <td>0.3300</td>\n",
       "      <td>4879</td>\n",
       "    </tr>\n",
       "    <tr>\n",
       "      <th>VENUS</th>\n",
       "      <td>4.8700</td>\n",
       "      <td>12104</td>\n",
       "    </tr>\n",
       "    <tr>\n",
       "      <th>EARTH</th>\n",
       "      <td>5.9700</td>\n",
       "      <td>12756</td>\n",
       "    </tr>\n",
       "    <tr>\n",
       "      <th>MOON</th>\n",
       "      <td>0.0730</td>\n",
       "      <td>3475</td>\n",
       "    </tr>\n",
       "    <tr>\n",
       "      <th>MARS</th>\n",
       "      <td>0.6420</td>\n",
       "      <td>6792</td>\n",
       "    </tr>\n",
       "    <tr>\n",
       "      <th>JUPITER</th>\n",
       "      <td>1898.0000</td>\n",
       "      <td>142984</td>\n",
       "    </tr>\n",
       "    <tr>\n",
       "      <th>SATURN</th>\n",
       "      <td>568.0000</td>\n",
       "      <td>120536</td>\n",
       "    </tr>\n",
       "    <tr>\n",
       "      <th>URANUS</th>\n",
       "      <td>86.8000</td>\n",
       "      <td>51118</td>\n",
       "    </tr>\n",
       "    <tr>\n",
       "      <th>NEPTUNE</th>\n",
       "      <td>102.0000</td>\n",
       "      <td>49528</td>\n",
       "    </tr>\n",
       "    <tr>\n",
       "      <th>PLUTO</th>\n",
       "      <td>0.0146</td>\n",
       "      <td>2370</td>\n",
       "    </tr>\n",
       "  </tbody>\n",
       "</table>\n",
       "</div>"
      ],
      "text/plain": [
       "              mass  diameter\n",
       "names                       \n",
       "MERCURY     0.3300      4879\n",
       "VENUS       4.8700     12104\n",
       "EARTH       5.9700     12756\n",
       "MOON        0.0730      3475\n",
       "MARS        0.6420      6792\n",
       "JUPITER  1898.0000    142984\n",
       "SATURN    568.0000    120536\n",
       "URANUS     86.8000     51118\n",
       "NEPTUNE   102.0000     49528\n",
       "PLUTO       0.0146      2370"
      ]
     },
     "execution_count": 9,
     "metadata": {},
     "output_type": "execute_result"
    }
   ],
   "source": [
    "planet_df.set_index('names', inplace=True)\n",
    "planet_df"
   ]
  },
  {
   "cell_type": "markdown",
   "metadata": {},
   "source": [
    "Awesome.  Our data is wrangled and in good shape.  We can now access data using the row and column keys."
   ]
  },
  {
   "cell_type": "code",
   "execution_count": 10,
   "metadata": {},
   "outputs": [
    {
     "data": {
      "text/plain": [
       "6792"
      ]
     },
     "execution_count": 10,
     "metadata": {},
     "output_type": "execute_result"
    }
   ],
   "source": [
    "planet_df.loc['MARS','diameter']"
   ]
  },
  {
   "cell_type": "markdown",
   "metadata": {},
   "source": [
    "## Analysis\n",
    "\n",
    "Now that we have some numbers we can use visualizations to get a better understanding of what they mean.  First, lets look at them on their own."
   ]
  },
  {
   "cell_type": "code",
   "execution_count": 11,
   "metadata": {},
   "outputs": [
    {
     "data": {
      "text/plain": [
       "<AxesSubplot:ylabel='names'>"
      ]
     },
     "execution_count": 11,
     "metadata": {},
     "output_type": "execute_result"
    },
    {
     "data": {
      "image/png": "[encoded data removed]",
      "text/plain": [
       "<Figure size 432x288 with 1 Axes>"
      ]
     },
     "metadata": {
      "needs_background": "light"
     },
     "output_type": "display_data"
    }
   ],
   "source": [
    "planet_df['mass'].plot.barh()"
   ]
  },
  {
   "cell_type": "code",
   "execution_count": 12,
   "metadata": {},
   "outputs": [
    {
     "data": {
      "text/plain": [
       "<AxesSubplot:ylabel='names'>"
      ]
     },
     "execution_count": 12,
     "metadata": {},
     "output_type": "execute_result"
    },
    {
     "data": {
      "image/png": "[encoded data removed]",
      "text/plain": [
       "<Figure size 432x288 with 1 Axes>"
      ]
     },
     "metadata": {
      "needs_background": "light"
     },
     "output_type": "display_data"
    }
   ],
   "source": [
    "planet_df['diameter'].plot.barh()"
   ]
  },
  {
   "cell_type": "markdown",
   "metadata": {},
   "source": [
    "Jupiter is truly massive even compared to the large planet Saturn. Another question we may want to look at is the relationship between the mass of the planets and the diameter.\n",
    "What would be a good plot to see that?  We can try a scatter plot."
   ]
  },
  {
   "cell_type": "code",
   "execution_count": 13,
   "metadata": {},
   "outputs": [
    {
     "data": {
      "text/plain": [
       "<AxesSubplot:xlabel='diameter', ylabel='mass'>"
      ]
     },
     "execution_count": 13,
     "metadata": {},
     "output_type": "execute_result"
    },
    {
     "data": {
      "image/png": "[encoded data removed]",
      "text/plain": [
       "<Figure size 432x288 with 1 Axes>"
      ]
     },
     "metadata": {
      "needs_background": "light"
     },
     "output_type": "display_data"
    }
   ],
   "source": [
    "import matplotlib as plt\n",
    "\n",
    "planet_df.plot.scatter(x='diameter', y='mass')\n",
    "\n",
    "# x=planet_df['diameter'].values\n",
    "# y=3.14*(x/10000)**3\n",
    "# plt.pyplot.plot(x,y)\n"
   ]
  },
  {
   "cell_type": "markdown",
   "metadata": {},
   "source": [
    "The relationship looks like it is a relationship where mass = diameter^3, does this make sense?  remember that mass is related to volume and volume = pi*r^3."
   ]
  },
  {
   "cell_type": "markdown",
   "metadata": {},
   "source": [
    "## Cleaning\n",
    "\n",
    "Another important step in data anlaysis is data cleaning.  Since we extracted the data manually from the web site using cut and paste, we were actually cleaning the data manually, removing extra spaces, adding commas, etc.  To illustrate some of the issues around cleaning data, here's a faster way to import data from HTML tables."
   ]
  },
  {
   "cell_type": "code",
   "execution_count": 14,
   "metadata": {},
   "outputs": [
    {
     "data": {
      "text/html": [
       "<div>\n",
       "<style scoped>\n",
       "    .dataframe tbody tr th:only-of-type {\n",
       "        vertical-align: middle;\n",
       "    }\n",
       "\n",
       "    .dataframe tbody tr th {\n",
       "        vertical-align: top;\n",
       "    }\n",
       "\n",
       "    .dataframe thead th {\n",
       "        text-align: right;\n",
       "    }\n",
       "</style>\n",
       "<table border=\"1\" class=\"dataframe\">\n",
       "  <thead>\n",
       "    <tr style=\"text-align: right;\">\n",
       "      <th></th>\n",
       "      <th>0</th>\n",
       "      <th>1</th>\n",
       "      <th>2</th>\n",
       "      <th>3</th>\n",
       "      <th>4</th>\n",
       "      <th>5</th>\n",
       "      <th>6</th>\n",
       "      <th>7</th>\n",
       "      <th>8</th>\n",
       "      <th>9</th>\n",
       "      <th>10</th>\n",
       "    </tr>\n",
       "  </thead>\n",
       "  <tbody>\n",
       "    <tr>\n",
       "      <th>0</th>\n",
       "      <td>NaN</td>\n",
       "      <td>MERCURY</td>\n",
       "      <td>VENUS</td>\n",
       "      <td>EARTH</td>\n",
       "      <td>MOON</td>\n",
       "      <td>MARS</td>\n",
       "      <td>JUPITER</td>\n",
       "      <td>SATURN</td>\n",
       "      <td>URANUS</td>\n",
       "      <td>NEPTUNE</td>\n",
       "      <td>PLUTO</td>\n",
       "    </tr>\n",
       "    <tr>\n",
       "      <th>1</th>\n",
       "      <td>Mass (1024kg)</td>\n",
       "      <td>0.330</td>\n",
       "      <td>4.87</td>\n",
       "      <td>5.97</td>\n",
       "      <td>0.073</td>\n",
       "      <td>0.642</td>\n",
       "      <td>1898</td>\n",
       "      <td>568</td>\n",
       "      <td>86.8</td>\n",
       "      <td>102</td>\n",
       "      <td>0.0146</td>\n",
       "    </tr>\n",
       "    <tr>\n",
       "      <th>2</th>\n",
       "      <td>Diameter (km)</td>\n",
       "      <td>4879</td>\n",
       "      <td>12104</td>\n",
       "      <td>12756</td>\n",
       "      <td>3475</td>\n",
       "      <td>6792</td>\n",
       "      <td>142984</td>\n",
       "      <td>120536</td>\n",
       "      <td>51118</td>\n",
       "      <td>49528</td>\n",
       "      <td>2370</td>\n",
       "    </tr>\n",
       "    <tr>\n",
       "      <th>3</th>\n",
       "      <td>Density (kg/m3)</td>\n",
       "      <td>5427</td>\n",
       "      <td>5243</td>\n",
       "      <td>5514</td>\n",
       "      <td>3340</td>\n",
       "      <td>3933</td>\n",
       "      <td>1326</td>\n",
       "      <td>687</td>\n",
       "      <td>1271</td>\n",
       "      <td>1638</td>\n",
       "      <td>2095</td>\n",
       "    </tr>\n",
       "    <tr>\n",
       "      <th>4</th>\n",
       "      <td>Gravity (m/s2)</td>\n",
       "      <td>3.7</td>\n",
       "      <td>8.9</td>\n",
       "      <td>9.8</td>\n",
       "      <td>1.6</td>\n",
       "      <td>3.7</td>\n",
       "      <td>23.1</td>\n",
       "      <td>9.0</td>\n",
       "      <td>8.7</td>\n",
       "      <td>11.0</td>\n",
       "      <td>0.7</td>\n",
       "    </tr>\n",
       "    <tr>\n",
       "      <th>5</th>\n",
       "      <td>Escape Velocity (km/s)</td>\n",
       "      <td>4.3</td>\n",
       "      <td>10.4</td>\n",
       "      <td>11.2</td>\n",
       "      <td>2.4</td>\n",
       "      <td>5.0</td>\n",
       "      <td>59.5</td>\n",
       "      <td>35.5</td>\n",
       "      <td>21.3</td>\n",
       "      <td>23.5</td>\n",
       "      <td>1.3</td>\n",
       "    </tr>\n",
       "    <tr>\n",
       "      <th>6</th>\n",
       "      <td>Rotation Period (hours)</td>\n",
       "      <td>1407.6</td>\n",
       "      <td>-5832.5</td>\n",
       "      <td>23.9</td>\n",
       "      <td>655.7</td>\n",
       "      <td>24.6</td>\n",
       "      <td>9.9</td>\n",
       "      <td>10.7</td>\n",
       "      <td>-17.2</td>\n",
       "      <td>16.1</td>\n",
       "      <td>-153.3</td>\n",
       "    </tr>\n",
       "    <tr>\n",
       "      <th>7</th>\n",
       "      <td>Length of Day (hours)</td>\n",
       "      <td>4222.6</td>\n",
       "      <td>2802.0</td>\n",
       "      <td>24.0</td>\n",
       "      <td>708.7</td>\n",
       "      <td>24.7</td>\n",
       "      <td>9.9</td>\n",
       "      <td>10.7</td>\n",
       "      <td>17.2</td>\n",
       "      <td>16.1</td>\n",
       "      <td>153.3</td>\n",
       "    </tr>\n",
       "    <tr>\n",
       "      <th>8</th>\n",
       "      <td>Distance from Sun (106 km)</td>\n",
       "      <td>57.9</td>\n",
       "      <td>108.2</td>\n",
       "      <td>149.6</td>\n",
       "      <td>0.384*</td>\n",
       "      <td>227.9</td>\n",
       "      <td>778.6</td>\n",
       "      <td>1433.5</td>\n",
       "      <td>2872.5</td>\n",
       "      <td>4495.1</td>\n",
       "      <td>5906.4</td>\n",
       "    </tr>\n",
       "    <tr>\n",
       "      <th>9</th>\n",
       "      <td>Perihelion (106 km)</td>\n",
       "      <td>46.0</td>\n",
       "      <td>107.5</td>\n",
       "      <td>147.1</td>\n",
       "      <td>0.363*</td>\n",
       "      <td>206.6</td>\n",
       "      <td>740.5</td>\n",
       "      <td>1352.6</td>\n",
       "      <td>2741.3</td>\n",
       "      <td>4444.5</td>\n",
       "      <td>4436.8</td>\n",
       "    </tr>\n",
       "    <tr>\n",
       "      <th>10</th>\n",
       "      <td>Aphelion (106 km)</td>\n",
       "      <td>69.8</td>\n",
       "      <td>108.9</td>\n",
       "      <td>152.1</td>\n",
       "      <td>0.406*</td>\n",
       "      <td>249.2</td>\n",
       "      <td>816.6</td>\n",
       "      <td>1514.5</td>\n",
       "      <td>3003.6</td>\n",
       "      <td>4545.7</td>\n",
       "      <td>7375.9</td>\n",
       "    </tr>\n",
       "    <tr>\n",
       "      <th>11</th>\n",
       "      <td>Orbital Period (days)</td>\n",
       "      <td>88.0</td>\n",
       "      <td>224.7</td>\n",
       "      <td>365.2</td>\n",
       "      <td>27.3*</td>\n",
       "      <td>687.0</td>\n",
       "      <td>4331</td>\n",
       "      <td>10747</td>\n",
       "      <td>30589</td>\n",
       "      <td>59800</td>\n",
       "      <td>90560</td>\n",
       "    </tr>\n",
       "    <tr>\n",
       "      <th>12</th>\n",
       "      <td>Orbital Velocity (km/s)</td>\n",
       "      <td>47.4</td>\n",
       "      <td>35.0</td>\n",
       "      <td>29.8</td>\n",
       "      <td>1.0*</td>\n",
       "      <td>24.1</td>\n",
       "      <td>13.1</td>\n",
       "      <td>9.7</td>\n",
       "      <td>6.8</td>\n",
       "      <td>5.4</td>\n",
       "      <td>4.7</td>\n",
       "    </tr>\n",
       "    <tr>\n",
       "      <th>13</th>\n",
       "      <td>Orbital Inclination (degrees)</td>\n",
       "      <td>7.0</td>\n",
       "      <td>3.4</td>\n",
       "      <td>0.0</td>\n",
       "      <td>5.1</td>\n",
       "      <td>1.9</td>\n",
       "      <td>1.3</td>\n",
       "      <td>2.5</td>\n",
       "      <td>0.8</td>\n",
       "      <td>1.8</td>\n",
       "      <td>17.2</td>\n",
       "    </tr>\n",
       "    <tr>\n",
       "      <th>14</th>\n",
       "      <td>Orbital Eccentricity</td>\n",
       "      <td>0.205</td>\n",
       "      <td>0.007</td>\n",
       "      <td>0.017</td>\n",
       "      <td>0.055</td>\n",
       "      <td>0.094</td>\n",
       "      <td>0.049</td>\n",
       "      <td>0.057</td>\n",
       "      <td>0.046</td>\n",
       "      <td>0.011</td>\n",
       "      <td>0.244</td>\n",
       "    </tr>\n",
       "    <tr>\n",
       "      <th>15</th>\n",
       "      <td>Obliquity to Orbit (degrees)</td>\n",
       "      <td>0.034</td>\n",
       "      <td>177.4</td>\n",
       "      <td>23.4</td>\n",
       "      <td>6.7</td>\n",
       "      <td>25.2</td>\n",
       "      <td>3.1</td>\n",
       "      <td>26.7</td>\n",
       "      <td>97.8</td>\n",
       "      <td>28.3</td>\n",
       "      <td>122.5</td>\n",
       "    </tr>\n",
       "    <tr>\n",
       "      <th>16</th>\n",
       "      <td>Mean Temperature (C)</td>\n",
       "      <td>167</td>\n",
       "      <td>464</td>\n",
       "      <td>15</td>\n",
       "      <td>-20</td>\n",
       "      <td>-65</td>\n",
       "      <td>-110</td>\n",
       "      <td>-140</td>\n",
       "      <td>-195</td>\n",
       "      <td>-200</td>\n",
       "      <td>-225</td>\n",
       "    </tr>\n",
       "    <tr>\n",
       "      <th>17</th>\n",
       "      <td>Surface Pressure (bars)</td>\n",
       "      <td>0</td>\n",
       "      <td>92</td>\n",
       "      <td>1</td>\n",
       "      <td>0</td>\n",
       "      <td>0.01</td>\n",
       "      <td>Unknown*</td>\n",
       "      <td>Unknown*</td>\n",
       "      <td>Unknown*</td>\n",
       "      <td>Unknown*</td>\n",
       "      <td>0.00001</td>\n",
       "    </tr>\n",
       "    <tr>\n",
       "      <th>18</th>\n",
       "      <td>Number of Moons</td>\n",
       "      <td>0</td>\n",
       "      <td>0</td>\n",
       "      <td>1</td>\n",
       "      <td>0</td>\n",
       "      <td>2</td>\n",
       "      <td>79</td>\n",
       "      <td>82</td>\n",
       "      <td>27</td>\n",
       "      <td>14</td>\n",
       "      <td>5</td>\n",
       "    </tr>\n",
       "    <tr>\n",
       "      <th>19</th>\n",
       "      <td>Ring System?</td>\n",
       "      <td>No</td>\n",
       "      <td>No</td>\n",
       "      <td>No</td>\n",
       "      <td>No</td>\n",
       "      <td>No</td>\n",
       "      <td>Yes</td>\n",
       "      <td>Yes</td>\n",
       "      <td>Yes</td>\n",
       "      <td>Yes</td>\n",
       "      <td>No</td>\n",
       "    </tr>\n",
       "    <tr>\n",
       "      <th>20</th>\n",
       "      <td>Global Magnetic Field?</td>\n",
       "      <td>Yes</td>\n",
       "      <td>No</td>\n",
       "      <td>Yes</td>\n",
       "      <td>No</td>\n",
       "      <td>No</td>\n",
       "      <td>Yes</td>\n",
       "      <td>Yes</td>\n",
       "      <td>Yes</td>\n",
       "      <td>Yes</td>\n",
       "      <td>Unknown</td>\n",
       "    </tr>\n",
       "    <tr>\n",
       "      <th>21</th>\n",
       "      <td>NaN</td>\n",
       "      <td>MERCURY</td>\n",
       "      <td>VENUS</td>\n",
       "      <td>EARTH</td>\n",
       "      <td>MOON</td>\n",
       "      <td>MARS</td>\n",
       "      <td>JUPITER</td>\n",
       "      <td>SATURN</td>\n",
       "      <td>URANUS</td>\n",
       "      <td>NEPTUNE</td>\n",
       "      <td>PLUTO</td>\n",
       "    </tr>\n",
       "  </tbody>\n",
       "</table>\n",
       "</div>"
      ],
      "text/plain": [
       "                               0        1        2      3       4      5   \\\n",
       "0                             NaN  MERCURY    VENUS  EARTH    MOON   MARS   \n",
       "1                   Mass (1024kg)    0.330     4.87   5.97   0.073  0.642   \n",
       "2                   Diameter (km)     4879    12104  12756    3475   6792   \n",
       "3                 Density (kg/m3)     5427     5243   5514    3340   3933   \n",
       "4                  Gravity (m/s2)      3.7      8.9    9.8     1.6    3.7   \n",
       "5          Escape Velocity (km/s)      4.3     10.4   11.2     2.4    5.0   \n",
       "6         Rotation Period (hours)   1407.6  -5832.5   23.9   655.7   24.6   \n",
       "7           Length of Day (hours)   4222.6   2802.0   24.0   708.7   24.7   \n",
       "8      Distance from Sun (106 km)     57.9    108.2  149.6  0.384*  227.9   \n",
       "9             Perihelion (106 km)     46.0    107.5  147.1  0.363*  206.6   \n",
       "10              Aphelion (106 km)     69.8    108.9  152.1  0.406*  249.2   \n",
       "11          Orbital Period (days)     88.0    224.7  365.2   27.3*  687.0   \n",
       "12        Orbital Velocity (km/s)     47.4     35.0   29.8    1.0*   24.1   \n",
       "13  Orbital Inclination (degrees)      7.0      3.4    0.0     5.1    1.9   \n",
       "14           Orbital Eccentricity    0.205    0.007  0.017   0.055  0.094   \n",
       "15   Obliquity to Orbit (degrees)    0.034    177.4   23.4     6.7   25.2   \n",
       "16           Mean Temperature (C)      167      464     15     -20    -65   \n",
       "17        Surface Pressure (bars)        0       92      1       0   0.01   \n",
       "18                Number of Moons        0        0      1       0      2   \n",
       "19                   Ring System?       No       No     No      No     No   \n",
       "20         Global Magnetic Field?      Yes       No    Yes      No     No   \n",
       "21                            NaN  MERCURY    VENUS  EARTH    MOON   MARS   \n",
       "\n",
       "          6         7         8         9        10  \n",
       "0    JUPITER    SATURN    URANUS   NEPTUNE    PLUTO  \n",
       "1       1898       568      86.8       102   0.0146  \n",
       "2     142984    120536     51118     49528     2370  \n",
       "3       1326       687      1271      1638     2095  \n",
       "4       23.1       9.0       8.7      11.0      0.7  \n",
       "5       59.5      35.5      21.3      23.5      1.3  \n",
       "6        9.9      10.7     -17.2      16.1   -153.3  \n",
       "7        9.9      10.7      17.2      16.1    153.3  \n",
       "8      778.6    1433.5    2872.5    4495.1   5906.4  \n",
       "9      740.5    1352.6    2741.3    4444.5   4436.8  \n",
       "10     816.6    1514.5    3003.6    4545.7   7375.9  \n",
       "11      4331     10747     30589     59800    90560  \n",
       "12      13.1       9.7       6.8       5.4      4.7  \n",
       "13       1.3       2.5       0.8       1.8     17.2  \n",
       "14     0.049     0.057     0.046     0.011    0.244  \n",
       "15       3.1      26.7      97.8      28.3    122.5  \n",
       "16      -110      -140      -195      -200     -225  \n",
       "17  Unknown*  Unknown*  Unknown*  Unknown*  0.00001  \n",
       "18        79        82        27        14        5  \n",
       "19       Yes       Yes       Yes       Yes       No  \n",
       "20       Yes       Yes       Yes       Yes  Unknown  \n",
       "21   JUPITER    SATURN    URANUS   NEPTUNE    PLUTO  "
      ]
     },
     "execution_count": 14,
     "metadata": {},
     "output_type": "execute_result"
    }
   ],
   "source": [
    "dfs = pd.read_html('https://nssdc.gsfc.nasa.gov/planetary/factsheet/')\n",
    "dfs[0]"
   ]
  },
  {
   "cell_type": "markdown",
   "metadata": {},
   "source": [
    "This single method looks at web pages and finds the HTML tables on the web pages, returning an array of DataFrames (tables).  This is one of the many methods for extracting data using pandas.\n",
    "\n",
    "This approach is fast, but the data is not quite ready to be used.  It needs to be cleaned, removing extra rows, changing rows into headings, and pivoting data to index the data by planet rather than different features.  There are lots of HTML tables on wikipedia and elsewhere, so this data extraction technique is helpful."
   ]
  },
  {
   "cell_type": "code",
   "execution_count": 15,
   "metadata": {},
   "outputs": [
    {
     "data": {
      "text/html": [
       "<div>\n",
       "<style scoped>\n",
       "    .dataframe tbody tr th:only-of-type {\n",
       "        vertical-align: middle;\n",
       "    }\n",
       "\n",
       "    .dataframe tbody tr th {\n",
       "        vertical-align: top;\n",
       "    }\n",
       "\n",
       "    .dataframe thead th {\n",
       "        text-align: right;\n",
       "    }\n",
       "</style>\n",
       "<table border=\"1\" class=\"dataframe\">\n",
       "  <thead>\n",
       "    <tr style=\"text-align: right;\">\n",
       "      <th></th>\n",
       "      <th>MERCURY</th>\n",
       "      <th>VENUS</th>\n",
       "      <th>EARTH</th>\n",
       "      <th>MOON</th>\n",
       "      <th>MARS</th>\n",
       "      <th>JUPITER</th>\n",
       "      <th>SATURN</th>\n",
       "      <th>URANUS</th>\n",
       "      <th>NEPTUNE</th>\n",
       "      <th>PLUTO</th>\n",
       "    </tr>\n",
       "    <tr>\n",
       "      <th>features</th>\n",
       "      <th></th>\n",
       "      <th></th>\n",
       "      <th></th>\n",
       "      <th></th>\n",
       "      <th></th>\n",
       "      <th></th>\n",
       "      <th></th>\n",
       "      <th></th>\n",
       "      <th></th>\n",
       "      <th></th>\n",
       "    </tr>\n",
       "  </thead>\n",
       "  <tbody>\n",
       "    <tr>\n",
       "      <th>Mass (1024kg)</th>\n",
       "      <td>0.330</td>\n",
       "      <td>4.87</td>\n",
       "      <td>5.97</td>\n",
       "      <td>0.073</td>\n",
       "      <td>0.642</td>\n",
       "      <td>1898</td>\n",
       "      <td>568</td>\n",
       "      <td>86.8</td>\n",
       "      <td>102</td>\n",
       "      <td>0.0146</td>\n",
       "    </tr>\n",
       "    <tr>\n",
       "      <th>Diameter (km)</th>\n",
       "      <td>4879</td>\n",
       "      <td>12104</td>\n",
       "      <td>12756</td>\n",
       "      <td>3475</td>\n",
       "      <td>6792</td>\n",
       "      <td>142984</td>\n",
       "      <td>120536</td>\n",
       "      <td>51118</td>\n",
       "      <td>49528</td>\n",
       "      <td>2370</td>\n",
       "    </tr>\n",
       "    <tr>\n",
       "      <th>Density (kg/m3)</th>\n",
       "      <td>5427</td>\n",
       "      <td>5243</td>\n",
       "      <td>5514</td>\n",
       "      <td>3340</td>\n",
       "      <td>3933</td>\n",
       "      <td>1326</td>\n",
       "      <td>687</td>\n",
       "      <td>1271</td>\n",
       "      <td>1638</td>\n",
       "      <td>2095</td>\n",
       "    </tr>\n",
       "    <tr>\n",
       "      <th>Gravity (m/s2)</th>\n",
       "      <td>3.7</td>\n",
       "      <td>8.9</td>\n",
       "      <td>9.8</td>\n",
       "      <td>1.6</td>\n",
       "      <td>3.7</td>\n",
       "      <td>23.1</td>\n",
       "      <td>9.0</td>\n",
       "      <td>8.7</td>\n",
       "      <td>11.0</td>\n",
       "      <td>0.7</td>\n",
       "    </tr>\n",
       "    <tr>\n",
       "      <th>Escape Velocity (km/s)</th>\n",
       "      <td>4.3</td>\n",
       "      <td>10.4</td>\n",
       "      <td>11.2</td>\n",
       "      <td>2.4</td>\n",
       "      <td>5.0</td>\n",
       "      <td>59.5</td>\n",
       "      <td>35.5</td>\n",
       "      <td>21.3</td>\n",
       "      <td>23.5</td>\n",
       "      <td>1.3</td>\n",
       "    </tr>\n",
       "    <tr>\n",
       "      <th>Rotation Period (hours)</th>\n",
       "      <td>1407.6</td>\n",
       "      <td>-5832.5</td>\n",
       "      <td>23.9</td>\n",
       "      <td>655.7</td>\n",
       "      <td>24.6</td>\n",
       "      <td>9.9</td>\n",
       "      <td>10.7</td>\n",
       "      <td>-17.2</td>\n",
       "      <td>16.1</td>\n",
       "      <td>-153.3</td>\n",
       "    </tr>\n",
       "    <tr>\n",
       "      <th>Length of Day (hours)</th>\n",
       "      <td>4222.6</td>\n",
       "      <td>2802.0</td>\n",
       "      <td>24.0</td>\n",
       "      <td>708.7</td>\n",
       "      <td>24.7</td>\n",
       "      <td>9.9</td>\n",
       "      <td>10.7</td>\n",
       "      <td>17.2</td>\n",
       "      <td>16.1</td>\n",
       "      <td>153.3</td>\n",
       "    </tr>\n",
       "    <tr>\n",
       "      <th>Distance from Sun (106 km)</th>\n",
       "      <td>57.9</td>\n",
       "      <td>108.2</td>\n",
       "      <td>149.6</td>\n",
       "      <td>0.384*</td>\n",
       "      <td>227.9</td>\n",
       "      <td>778.6</td>\n",
       "      <td>1433.5</td>\n",
       "      <td>2872.5</td>\n",
       "      <td>4495.1</td>\n",
       "      <td>5906.4</td>\n",
       "    </tr>\n",
       "    <tr>\n",
       "      <th>Perihelion (106 km)</th>\n",
       "      <td>46.0</td>\n",
       "      <td>107.5</td>\n",
       "      <td>147.1</td>\n",
       "      <td>0.363*</td>\n",
       "      <td>206.6</td>\n",
       "      <td>740.5</td>\n",
       "      <td>1352.6</td>\n",
       "      <td>2741.3</td>\n",
       "      <td>4444.5</td>\n",
       "      <td>4436.8</td>\n",
       "    </tr>\n",
       "    <tr>\n",
       "      <th>Aphelion (106 km)</th>\n",
       "      <td>69.8</td>\n",
       "      <td>108.9</td>\n",
       "      <td>152.1</td>\n",
       "      <td>0.406*</td>\n",
       "      <td>249.2</td>\n",
       "      <td>816.6</td>\n",
       "      <td>1514.5</td>\n",
       "      <td>3003.6</td>\n",
       "      <td>4545.7</td>\n",
       "      <td>7375.9</td>\n",
       "    </tr>\n",
       "    <tr>\n",
       "      <th>Orbital Period (days)</th>\n",
       "      <td>88.0</td>\n",
       "      <td>224.7</td>\n",
       "      <td>365.2</td>\n",
       "      <td>27.3*</td>\n",
       "      <td>687.0</td>\n",
       "      <td>4331</td>\n",
       "      <td>10747</td>\n",
       "      <td>30589</td>\n",
       "      <td>59800</td>\n",
       "      <td>90560</td>\n",
       "    </tr>\n",
       "    <tr>\n",
       "      <th>Orbital Velocity (km/s)</th>\n",
       "      <td>47.4</td>\n",
       "      <td>35.0</td>\n",
       "      <td>29.8</td>\n",
       "      <td>1.0*</td>\n",
       "      <td>24.1</td>\n",
       "      <td>13.1</td>\n",
       "      <td>9.7</td>\n",
       "      <td>6.8</td>\n",
       "      <td>5.4</td>\n",
       "      <td>4.7</td>\n",
       "    </tr>\n",
       "    <tr>\n",
       "      <th>Orbital Inclination (degrees)</th>\n",
       "      <td>7.0</td>\n",
       "      <td>3.4</td>\n",
       "      <td>0.0</td>\n",
       "      <td>5.1</td>\n",
       "      <td>1.9</td>\n",
       "      <td>1.3</td>\n",
       "      <td>2.5</td>\n",
       "      <td>0.8</td>\n",
       "      <td>1.8</td>\n",
       "      <td>17.2</td>\n",
       "    </tr>\n",
       "    <tr>\n",
       "      <th>Orbital Eccentricity</th>\n",
       "      <td>0.205</td>\n",
       "      <td>0.007</td>\n",
       "      <td>0.017</td>\n",
       "      <td>0.055</td>\n",
       "      <td>0.094</td>\n",
       "      <td>0.049</td>\n",
       "      <td>0.057</td>\n",
       "      <td>0.046</td>\n",
       "      <td>0.011</td>\n",
       "      <td>0.244</td>\n",
       "    </tr>\n",
       "    <tr>\n",
       "      <th>Obliquity to Orbit (degrees)</th>\n",
       "      <td>0.034</td>\n",
       "      <td>177.4</td>\n",
       "      <td>23.4</td>\n",
       "      <td>6.7</td>\n",
       "      <td>25.2</td>\n",
       "      <td>3.1</td>\n",
       "      <td>26.7</td>\n",
       "      <td>97.8</td>\n",
       "      <td>28.3</td>\n",
       "      <td>122.5</td>\n",
       "    </tr>\n",
       "    <tr>\n",
       "      <th>Mean Temperature (C)</th>\n",
       "      <td>167</td>\n",
       "      <td>464</td>\n",
       "      <td>15</td>\n",
       "      <td>-20</td>\n",
       "      <td>-65</td>\n",
       "      <td>-110</td>\n",
       "      <td>-140</td>\n",
       "      <td>-195</td>\n",
       "      <td>-200</td>\n",
       "      <td>-225</td>\n",
       "    </tr>\n",
       "    <tr>\n",
       "      <th>Surface Pressure (bars)</th>\n",
       "      <td>0</td>\n",
       "      <td>92</td>\n",
       "      <td>1</td>\n",
       "      <td>0</td>\n",
       "      <td>0.01</td>\n",
       "      <td>Unknown*</td>\n",
       "      <td>Unknown*</td>\n",
       "      <td>Unknown*</td>\n",
       "      <td>Unknown*</td>\n",
       "      <td>0.00001</td>\n",
       "    </tr>\n",
       "    <tr>\n",
       "      <th>Number of Moons</th>\n",
       "      <td>0</td>\n",
       "      <td>0</td>\n",
       "      <td>1</td>\n",
       "      <td>0</td>\n",
       "      <td>2</td>\n",
       "      <td>79</td>\n",
       "      <td>82</td>\n",
       "      <td>27</td>\n",
       "      <td>14</td>\n",
       "      <td>5</td>\n",
       "    </tr>\n",
       "    <tr>\n",
       "      <th>Ring System?</th>\n",
       "      <td>No</td>\n",
       "      <td>No</td>\n",
       "      <td>No</td>\n",
       "      <td>No</td>\n",
       "      <td>No</td>\n",
       "      <td>Yes</td>\n",
       "      <td>Yes</td>\n",
       "      <td>Yes</td>\n",
       "      <td>Yes</td>\n",
       "      <td>No</td>\n",
       "    </tr>\n",
       "    <tr>\n",
       "      <th>Global Magnetic Field?</th>\n",
       "      <td>Yes</td>\n",
       "      <td>No</td>\n",
       "      <td>Yes</td>\n",
       "      <td>No</td>\n",
       "      <td>No</td>\n",
       "      <td>Yes</td>\n",
       "      <td>Yes</td>\n",
       "      <td>Yes</td>\n",
       "      <td>Yes</td>\n",
       "      <td>Unknown</td>\n",
       "    </tr>\n",
       "  </tbody>\n",
       "</table>\n",
       "</div>"
      ],
      "text/plain": [
       "0                             MERCURY    VENUS  EARTH    MOON   MARS  \\\n",
       "features                                                               \n",
       "Mass (1024kg)                   0.330     4.87   5.97   0.073  0.642   \n",
       "Diameter (km)                    4879    12104  12756    3475   6792   \n",
       "Density (kg/m3)                  5427     5243   5514    3340   3933   \n",
       "Gravity (m/s2)                    3.7      8.9    9.8     1.6    3.7   \n",
       "Escape Velocity (km/s)            4.3     10.4   11.2     2.4    5.0   \n",
       "Rotation Period (hours)        1407.6  -5832.5   23.9   655.7   24.6   \n",
       "Length of Day (hours)          4222.6   2802.0   24.0   708.7   24.7   \n",
       "Distance from Sun (106 km)       57.9    108.2  149.6  0.384*  227.9   \n",
       "Perihelion (106 km)              46.0    107.5  147.1  0.363*  206.6   \n",
       "Aphelion (106 km)                69.8    108.9  152.1  0.406*  249.2   \n",
       "Orbital Period (days)            88.0    224.7  365.2   27.3*  687.0   \n",
       "Orbital Velocity (km/s)          47.4     35.0   29.8    1.0*   24.1   \n",
       "Orbital Inclination (degrees)     7.0      3.4    0.0     5.1    1.9   \n",
       "Orbital Eccentricity            0.205    0.007  0.017   0.055  0.094   \n",
       "Obliquity to Orbit (degrees)    0.034    177.4   23.4     6.7   25.2   \n",
       "Mean Temperature (C)              167      464     15     -20    -65   \n",
       "Surface Pressure (bars)             0       92      1       0   0.01   \n",
       "Number of Moons                     0        0      1       0      2   \n",
       "Ring System?                       No       No     No      No     No   \n",
       "Global Magnetic Field?            Yes       No    Yes      No     No   \n",
       "\n",
       "0                               JUPITER    SATURN    URANUS   NEPTUNE    PLUTO  \n",
       "features                                                                        \n",
       "Mass (1024kg)                      1898       568      86.8       102   0.0146  \n",
       "Diameter (km)                    142984    120536     51118     49528     2370  \n",
       "Density (kg/m3)                    1326       687      1271      1638     2095  \n",
       "Gravity (m/s2)                     23.1       9.0       8.7      11.0      0.7  \n",
       "Escape Velocity (km/s)             59.5      35.5      21.3      23.5      1.3  \n",
       "Rotation Period (hours)             9.9      10.7     -17.2      16.1   -153.3  \n",
       "Length of Day (hours)               9.9      10.7      17.2      16.1    153.3  \n",
       "Distance from Sun (106 km)        778.6    1433.5    2872.5    4495.1   5906.4  \n",
       "Perihelion (106 km)               740.5    1352.6    2741.3    4444.5   4436.8  \n",
       "Aphelion (106 km)                 816.6    1514.5    3003.6    4545.7   7375.9  \n",
       "Orbital Period (days)              4331     10747     30589     59800    90560  \n",
       "Orbital Velocity (km/s)            13.1       9.7       6.8       5.4      4.7  \n",
       "Orbital Inclination (degrees)       1.3       2.5       0.8       1.8     17.2  \n",
       "Orbital Eccentricity              0.049     0.057     0.046     0.011    0.244  \n",
       "Obliquity to Orbit (degrees)        3.1      26.7      97.8      28.3    122.5  \n",
       "Mean Temperature (C)               -110      -140      -195      -200     -225  \n",
       "Surface Pressure (bars)        Unknown*  Unknown*  Unknown*  Unknown*  0.00001  \n",
       "Number of Moons                      79        82        27        14        5  \n",
       "Ring System?                        Yes       Yes       Yes       Yes       No  \n",
       "Global Magnetic Field?              Yes       Yes       Yes       Yes  Unknown  "
      ]
     },
     "execution_count": 15,
     "metadata": {},
     "output_type": "execute_result"
    }
   ],
   "source": [
    "df = dfs[0]\n",
    "\n",
    "# fix the missing heading\n",
    "df.iloc[0,0] = 'features'\n",
    "\n",
    "# change the name of the columns to the first row\n",
    "df.columns = df.loc[0]\n",
    "# remove the first and last row\n",
    "df = df.drop([0,21])\n",
    "\n",
    "# change the index to the features column and drop it\n",
    "df = df.set_index(\"features\")\n",
    "df"
   ]
  },
  {
   "cell_type": "markdown",
   "metadata": {},
   "source": [
    "That's a good start to cleaning the data.  There are still some other issues that need to be looked at such as replacing \"Unknown*\" with values that represent invalid values, and transposing data so that columns are rows, etc.."
   ]
  },
  {
   "cell_type": "markdown",
   "metadata": {},
   "source": [
    "# Python primer\n",
    "\n",
    "You're probably familiar with many features of python such as control statements and a bit about lists, but its important to understand the data structures available, functions, list comprehensions, and other features so you can more easily understand other people's code and make your own code more efficient.  Lets review and do some problems to get up to speed on python data structures.\n",
    "\n",
    "> Some of this is based on exersizes from the Kaggle Python Primer https://www.kaggle.com/learn/python"
   ]
  },
  {
   "cell_type": "markdown",
   "metadata": {},
   "source": [
    "## Tuples\n",
    "\n",
    "Tuples are non-mutable lists.  They are often used to return multiple values from functions.  The syntax uses the parenthesis, or just lists without parenthesis.  You can also expand into variables using tuples.  The values cannot be changed."
   ]
  },
  {
   "cell_type": "code",
   "execution_count": 16,
   "metadata": {},
   "outputs": [
    {
     "name": "stdout",
     "output_type": "stream",
     "text": [
      "(1, 2, 3, 4, 5)\n",
      "1 2\n",
      "2 1\n",
      "1 2 [3, 4, 5]\n"
     ]
    }
   ],
   "source": [
    "values = 1,2,3,4,5\n",
    "print(values)\n",
    "\n",
    "a, b = 1,2\n",
    "print(a,b)\n",
    "\n",
    "b, a = a, b\n",
    "print(a,b)\n",
    "\n",
    "a,b,*rest = values\n",
    "\n",
    "print(a, b, rest)"
   ]
  },
  {
   "cell_type": "markdown",
   "metadata": {},
   "source": [
    "## Lists\n",
    "\n",
    "Lists are variable length mutable lists (arrays).  They have lots of methods like `append`, `sort` and others."
   ]
  },
  {
   "cell_type": "code",
   "execution_count": 17,
   "metadata": {},
   "outputs": [
    {
     "name": "stdout",
     "output_type": "stream",
     "text": [
      "range(0, 10)\n",
      "[0, 1, 2, 3, 4, 5, 6, 7, 8, 9]\n"
     ]
    }
   ],
   "source": [
    "gen = range(10)\n",
    "print(gen)\n",
    "gen_list = list(gen)\n",
    "print(gen_list)"
   ]
  },
  {
   "cell_type": "code",
   "execution_count": 18,
   "metadata": {},
   "outputs": [
    {
     "name": "stdout",
     "output_type": "stream",
     "text": [
      "[0, 1, 2, 3, 4, 5, 6, 7, 8, 9, 'hello']\n"
     ]
    }
   ],
   "source": [
    "gen_list.append(\"hello\")\n",
    "print(gen_list)"
   ]
  },
  {
   "cell_type": "code",
   "execution_count": 19,
   "metadata": {},
   "outputs": [
    {
     "data": {
      "text/plain": [
       "[1, 2, 3, 5, 8, 9]"
      ]
     },
     "execution_count": 19,
     "metadata": {},
     "output_type": "execute_result"
    }
   ],
   "source": [
    "a = [5,8,3,9,2,1]\n",
    "a.sort()\n",
    "a"
   ]
  },
  {
   "cell_type": "markdown",
   "metadata": {},
   "source": [
    "### Slicing Lists\n",
    "\n",
    "List elements can be accessed using the slice syntax.  This is extremely powerful, and used often.\n",
    "\n",
    "![slice illustration](https://raw.githubusercontent.com/mblackstock/ds1-analytics/main/images/slice.png)\n",
    "\n",
    "Lines between cells are numbers from 0 to length left to right and from -1 to length right to left.  You can indicate you want from the beginning by starting with a colon (:) or to the end by ending with a colon (:).  "
   ]
  },
  {
   "cell_type": "code",
   "execution_count": 20,
   "metadata": {},
   "outputs": [
    {
     "data": {
      "text/plain": [
       "[2, 3, 7, 5]"
      ]
     },
     "execution_count": 20,
     "metadata": {},
     "output_type": "execute_result"
    }
   ],
   "source": [
    "seq = [7,2,3,7,5,6,0,1]\n",
    "seq[1:5]"
   ]
  },
  {
   "cell_type": "code",
   "execution_count": 21,
   "metadata": {},
   "outputs": [
    {
     "data": {
      "text/plain": [
       "[7, 2, 3, 6, 3, 5, 6, 0, 1]"
      ]
     },
     "execution_count": 21,
     "metadata": {},
     "output_type": "execute_result"
    }
   ],
   "source": [
    "seq[3:4] = [6,3]\n",
    "seq"
   ]
  },
  {
   "cell_type": "code",
   "execution_count": 22,
   "metadata": {},
   "outputs": [
    {
     "name": "stdout",
     "output_type": "stream",
     "text": [
      "LL\n",
      "ELL\n",
      "HE\n",
      "LO!\n",
      "O!\n"
     ]
    }
   ],
   "source": [
    "str = \"HELLO!\"\n",
    "\n",
    "print(str[2:4])\n",
    "print(str[-5:-2])\n",
    "print(str[:2])\n",
    "print(str[3:])\n",
    "print(str[-2:])\n"
   ]
  },
  {
   "cell_type": "markdown",
   "metadata": {},
   "source": [
    "## dicts\n",
    "\n",
    "Dicts are one of the most important data structures in Python.  It is also called a *hash map* or *associative array*.  Here are some examples."
   ]
  },
  {
   "cell_type": "code",
   "execution_count": 23,
   "metadata": {},
   "outputs": [
    {
     "data": {
      "text/plain": [
       "[1, 2, 3, 4]"
      ]
     },
     "execution_count": 23,
     "metadata": {},
     "output_type": "execute_result"
    }
   ],
   "source": [
    "d1 = {'a':'some value', 'b':[1,2,3,4]}\n",
    "d1['b']"
   ]
  },
  {
   "cell_type": "code",
   "execution_count": 24,
   "metadata": {},
   "outputs": [
    {
     "data": {
      "text/plain": [
       "{'a': 'some value', 'b': [1, 2, 3, 4], 7: 'an integer key'}"
      ]
     },
     "execution_count": 24,
     "metadata": {},
     "output_type": "execute_result"
    }
   ],
   "source": [
    "d1[7] = 'an integer key'\n",
    "d1"
   ]
  },
  {
   "cell_type": "code",
   "execution_count": 25,
   "metadata": {},
   "outputs": [
    {
     "data": {
      "text/plain": [
       "True"
      ]
     },
     "execution_count": 25,
     "metadata": {},
     "output_type": "execute_result"
    }
   ],
   "source": [
    "'b' in d1"
   ]
  },
  {
   "cell_type": "code",
   "execution_count": 26,
   "metadata": {},
   "outputs": [
    {
     "data": {
      "text/plain": [
       "{'a': 'some value', 'b': [1, 2, 3, 4]}"
      ]
     },
     "execution_count": 26,
     "metadata": {},
     "output_type": "execute_result"
    }
   ],
   "source": [
    "del d1[7]\n",
    "d1"
   ]
  },
  {
   "cell_type": "code",
   "execution_count": 27,
   "metadata": {},
   "outputs": [
    {
     "data": {
      "text/plain": [
       "['a', 'b', 'dummy']"
      ]
     },
     "execution_count": 27,
     "metadata": {},
     "output_type": "execute_result"
    }
   ],
   "source": [
    "d1['dummy'] = 'another value'\n",
    "list(d1.keys())"
   ]
  },
  {
   "cell_type": "code",
   "execution_count": 28,
   "metadata": {},
   "outputs": [
    {
     "data": {
      "text/plain": [
       "['some value', [1, 2, 3, 4], 'another value']"
      ]
     },
     "execution_count": 28,
     "metadata": {},
     "output_type": "execute_result"
    }
   ],
   "source": [
    "list(d1.values())"
   ]
  },
  {
   "cell_type": "markdown",
   "metadata": {},
   "source": [
    "You can create dicts by 'zipping' keys and values together"
   ]
  },
  {
   "cell_type": "code",
   "execution_count": 29,
   "metadata": {},
   "outputs": [
    {
     "data": {
      "text/plain": [
       "{'a': 1, 'b': 2, 'c': 3}"
      ]
     },
     "execution_count": 29,
     "metadata": {},
     "output_type": "execute_result"
    }
   ],
   "source": [
    "key_list = ['a','b','c']\n",
    "value_list = [1,2,3]\n",
    "\n",
    "mapping = {}\n",
    "for key, value in zip(key_list, value_list):\n",
    "    mapping[key] = value\n",
    "\n",
    "mapping"
   ]
  },
  {
   "cell_type": "code",
   "execution_count": 30,
   "metadata": {},
   "outputs": [
    {
     "data": {
      "text/plain": [
       "{'a': 1, 'b': 2, 'c': 3}"
      ]
     },
     "execution_count": 30,
     "metadata": {},
     "output_type": "execute_result"
    }
   ],
   "source": [
    "mapping = dict(zip(key_list, value_list))\n",
    "mapping"
   ]
  },
  {
   "cell_type": "markdown",
   "metadata": {},
   "source": [
    "When retrieving key that doesn't exist, you will get an exception, to avoid this use the `get` method."
   ]
  },
  {
   "cell_type": "code",
   "execution_count": 31,
   "metadata": {},
   "outputs": [
    {
     "ename": "KeyError",
     "evalue": "'d'",
     "output_type": "error",
     "traceback": [
      "\u001b[0;31m---------------------------------------------------------------------------\u001b[0m",
      "\u001b[0;31mKeyError\u001b[0m                                  Traceback (most recent call last)",
      "\u001b[0;32m<ipython-input-31-3eb0ba5a0ea0>\u001b[0m in \u001b[0;36m<module>\u001b[0;34m\u001b[0m\n\u001b[0;32m----> 1\u001b[0;31m \u001b[0mmapping\u001b[0m\u001b[0;34m[\u001b[0m\u001b[0;34m'd'\u001b[0m\u001b[0;34m]\u001b[0m\u001b[0;34m\u001b[0m\u001b[0;34m\u001b[0m\u001b[0m\n\u001b[0m",
      "\u001b[0;31mKeyError\u001b[0m: 'd'"
     ]
    }
   ],
   "source": [
    "mapping['d']"
   ]
  },
  {
   "cell_type": "code",
   "execution_count": null,
   "metadata": {},
   "outputs": [],
   "source": [
    "mapping.get('d', -1)"
   ]
  },
  {
   "cell_type": "markdown",
   "metadata": {},
   "source": [
    "Note:\n",
    ">Python 3.6 introduced a new implementation of dict. This new implementation represents a big win in terms of memory usage and iteration efficiency. Additionally, the new implementation provides a new and somewhat unexpected feature: **dict objects now keep their items in the same order they were introduced**. Initially, this feature was considered an implementation detail, and the documentation advised against relying on it."
   ]
  },
  {
   "cell_type": "markdown",
   "metadata": {},
   "source": [
    "## Sets\n",
    "\n",
    "Sets are collections of unique values.  If you add duplicates, they are dropped."
   ]
  },
  {
   "cell_type": "code",
   "execution_count": null,
   "metadata": {},
   "outputs": [],
   "source": [
    "a = {1,2,3,3,4,5}\n",
    "a"
   ]
  },
  {
   "cell_type": "markdown",
   "metadata": {},
   "source": [
    "union and intersection"
   ]
  },
  {
   "cell_type": "code",
   "execution_count": null,
   "metadata": {},
   "outputs": [],
   "source": [
    "a = {1,2,3,4,5}\n",
    "b = {4,5,6,7,8}\n",
    "a.union(b)"
   ]
  },
  {
   "cell_type": "code",
   "execution_count": null,
   "metadata": {},
   "outputs": [],
   "source": [
    "a | b"
   ]
  },
  {
   "cell_type": "code",
   "execution_count": null,
   "metadata": {},
   "outputs": [],
   "source": [
    "a.intersection(b)"
   ]
  },
  {
   "cell_type": "code",
   "execution_count": null,
   "metadata": {},
   "outputs": [],
   "source": [
    "a & b"
   ]
  },
  {
   "cell_type": "markdown",
   "metadata": {},
   "source": [
    "# Challenges\n",
    "\n",
    "Lets do some problems.\n",
    "\n",
    "## Arrays"
   ]
  },
  {
   "cell_type": "code",
   "execution_count": null,
   "metadata": {},
   "outputs": [],
   "source": [
    "def select_second(L):\n",
    "    \"\"\"Return the second element of the given list. If the list has no second\n",
    "    element, return None.\n",
    "    \"\"\"\n",
    "    pass\n",
    "\n",
    "print(select_second([1,2,3]))\n",
    "print(select_second([]))"
   ]
  },
  {
   "cell_type": "code",
   "execution_count": null,
   "metadata": {},
   "outputs": [],
   "source": []
  },
  {
   "cell_type": "code",
   "execution_count": null,
   "metadata": {},
   "outputs": [],
   "source": [
    "def losing_team_captain(teams):\n",
    "    \"\"\"Given a list of teams, where each team is a list of names, return the 2nd player (captain)\n",
    "    from the last listed team\n",
    "    \"\"\"\n",
    "    pass\n",
    "\n",
    "teams = [['player1-team1', 'player2-team1', 'player3-team1','player4-team1'],['player1-team2', 'player2-team2', 'player3-team2','player4-team2'],['player1-team3', 'player2-team3', 'player3-team3','player4-team3']]\n",
    "losing_team_captain(teams)"
   ]
  },
  {
   "cell_type": "code",
   "execution_count": null,
   "metadata": {},
   "outputs": [],
   "source": [
    "def purple_shell(racers):\n",
    "    \"\"\"Given a list of racers, set the first place racer (at the front of the list) to last\n",
    "    place and vice versa.\n",
    "    \n",
    "    >>> r = [\"Mario\", \"Bowser\", \"Luigi\"]\n",
    "    >>> purple_shell(r)\n",
    "    >>> r\n",
    "    [\"Luigi\", \"Bowser\", \"Mario\"]\n",
    "    \"\"\"\n",
    "    pass\n",
    "\n",
    "r = [\"Mario\", \"Bowser\", \"Luigi\"]\n",
    "purple_shell(r)\n",
    "r\n"
   ]
  },
  {
   "cell_type": "code",
   "execution_count": null,
   "metadata": {},
   "outputs": [],
   "source": [
    "a = [1, 2, 3]\n",
    "b = [1, [2, 3]]\n",
    "c = []\n",
    "d = [1, 2, 3][1:]\n",
    "\n",
    "# what are the lengths of the above arrays?"
   ]
  },
  {
   "cell_type": "code",
   "execution_count": null,
   "metadata": {},
   "outputs": [],
   "source": [
    "def fashionably_late(arrivals, name):\n",
    "    \"\"\"Given an ordered list of arrivals to the party and a name, return whether the guest with that\n",
    "    name was fashionably late.\n",
    "    Fashionably late is when at least 1/2 of the guests have arrived, but you're not the last one!\n",
    "    \"\"\"\n",
    "    pass\n",
    "\n",
    "party_attendees = ['Adela', 'Fleda', 'Owen', 'May', 'Mona', 'Gilbert', 'Ford']\n",
    "fashionably_late(party_attendees, 'Owen')\n",
    "fashionably_late(party_attendees, 'Ford')\n",
    "fashionably_late(party_attendees, 'Adela')\n",
    "fashionably_late(party_attendees, 'Mona')"
   ]
  },
  {
   "cell_type": "markdown",
   "metadata": {},
   "source": [
    "## Loops\n",
    "\n",
    "A list comprehension is a shorter syntax when you want to derive one list from another.  For example:"
   ]
  },
  {
   "cell_type": "markdown",
   "metadata": {},
   "source": [
    "This can be changed to:"
   ]
  },
  {
   "cell_type": "code",
   "execution_count": null,
   "metadata": {},
   "outputs": [],
   "source": [
    "# print all even numbers between 0 and 20\n",
    "[ x for x in range(0,10) if x%2 == 0]"
   ]
  },
  {
   "cell_type": "code",
   "execution_count": null,
   "metadata": {},
   "outputs": [],
   "source": [
    "# Fix the bug!\n",
    "def has_lucky_number(nums):\n",
    "    \"\"\"Return whether the given list of numbers is lucky. A lucky list contains\n",
    "    at least one number divisible by 7.\n",
    "    \"\"\"\n",
    "    for num in nums:\n",
    "        if num % 7 == 0:\n",
    "            return True\n",
    "        else:\n",
    "            return False\n",
    "\n",
    "print(has_lucky_number([3,4,7,14,3])) # True\n",
    "print(has_lucky_number([3,18,24,36])) # False"
   ]
  },
  {
   "cell_type": "code",
   "execution_count": null,
   "metadata": {},
   "outputs": [],
   "source": [
    "def menu_is_boring(meals):\n",
    "    \"\"\"Given a list of meals served over some period of time, return True if the\n",
    "    same meal has ever been served two days in a row, and False otherwise.\n",
    "    \"\"\"\n",
    "    pass\n",
    "meals = ['Pot Roast', 'Chicken', 'Tacos', 'Tacos', 'Steak']\n",
    "print(menu_is_boring(meals))\n",
    "meals = ['Pot Roast', 'Chicken', 'Tacos', 'Steak', 'Salad']\n",
    "print(menu_is_boring(meals))"
   ]
  },
  {
   "cell_type": "markdown",
   "metadata": {},
   "source": [
    "## List Comprehension\n",
    "\n",
    "List comprehension offers a shorter syntax when you want to create a new list based on the values of an existing list.\n",
    "\n",
    "Syntax:\n",
    "\n",
    "```python\n",
    "newlist = [expression for item in iterable if condition == True]\n",
    "```"
   ]
  },
  {
   "cell_type": "markdown",
   "metadata": {},
   "source": [
    "Change to a list comprehension"
   ]
  },
  {
   "cell_type": "code",
   "execution_count": null,
   "metadata": {},
   "outputs": [],
   "source": [
    "\n",
    "fruits = [\"apple\", \"banana\", \"cherry\", \"kiwi\", \"mango\"]\n",
    "newlist = []\n",
    "\n",
    "for x in fruits:\n",
    "  if \"a\" in x:\n",
    "    newlist.append(x)\n",
    "\n",
    "print(newlist)"
   ]
  },
  {
   "cell_type": "markdown",
   "metadata": {},
   "source": [
    "Use a list comprehension for the next two."
   ]
  },
  {
   "cell_type": "code",
   "execution_count": null,
   "metadata": {},
   "outputs": [],
   "source": [
    "# What will we get?\n",
    "# [1, 2, 3, 4] > 2"
   ]
  },
  {
   "cell_type": "code",
   "execution_count": null,
   "metadata": {},
   "outputs": [],
   "source": [
    "# Libraries that we'll use like numpy and pandas do element wise comparisons.  Lets implement that!\n",
    "# use a list comprehension\n",
    "def elementwise_greater_than(L, thresh):\n",
    "    \"\"\"Return a list with the same length as L, where the value at index i is \n",
    "    True if L[i] is greater than thresh, and False otherwise.\n",
    "    \n",
    "    >>> elementwise_greater_than([1, 2, 3, 4], 2)\n",
    "    [False, False, True, True]\n",
    "    \"\"\"\n",
    "    pass\n",
    "\n",
    "elementwise_greater_than([1, 2, 3, 4],2)\n"
   ]
  },
  {
   "cell_type": "code",
   "execution_count": null,
   "metadata": {},
   "outputs": [],
   "source": [
    "def short_planets(planets):\n",
    "    \"\"\"\n",
    "    Return the list of short named planets (less than 6 chars)\n",
    "    >>> planets = ['Mercury', 'Venus', 'Earth', 'Mars', 'Jupiter', 'Saturn', 'Uranus', 'Neptune']\n",
    "    >>> short_planets(planets)\n",
    "    ['VENUS!', 'EARTH!', 'MARS!']\n",
    "    \"\"\"\n",
    "    pass\n",
    "\n",
    "planets = ['Mercury', 'Venus', 'Earth', 'Mars', 'Jupiter', 'Saturn', 'Uranus', 'Neptune']\n",
    "short_planets(planets)"
   ]
  },
  {
   "cell_type": "markdown",
   "metadata": {},
   "source": [
    "Given a function called play_slot_machine that returns how much you win, write code that finds the\n",
    "average slot payout, assuming each play costs $1.00.  Use a list comprehension instead of a loop."
   ]
  },
  {
   "cell_type": "code",
   "execution_count": 33,
   "metadata": {},
   "outputs": [
    {
     "name": "stdout",
     "output_type": "stream",
     "text": [
      "0\n"
     ]
    },
    {
     "data": {
      "text/plain": [
       "0.3052"
      ]
     },
     "execution_count": 33,
     "metadata": {},
     "output_type": "execute_result"
    }
   ],
   "source": [
    "import random\n",
    "\n",
    "# given this function\n",
    "def play_slot_machine():\n",
    "    r = random.randint(0,75)\n",
    "    if r == 1:\n",
    "        return 100\n",
    "    return 0\n",
    "\n",
    "def estimate_average_slot_payout(n_runs):\n",
    "    \"\"\"Run the slot machine n_runs times and return the average net profit per run.\n",
    "    Example calls (note that return value is nondeterministic!):\n",
    "    >>> estimate_average_slot_payout(1)\n",
    "    -1\n",
    "    >>> estimate_average_slot_payout(1)\n",
    "    0.5\n",
    "    \"\"\"\n",
    "    # your code here\n",
    "    winnings = 0\n",
    "    for play in range(n_runs):\n",
    "        winnings += play_slot_machine()-1\n",
    "    \n",
    "    return winnings/n_runs\n",
    "    pass\n",
    "\n",
    "estimate_average_slot_payout(1000000)"
   ]
  },
  {
   "cell_type": "markdown",
   "metadata": {},
   "source": [
    "## Strings"
   ]
  },
  {
   "cell_type": "markdown",
   "metadata": {},
   "source": [
    "There is a saying that \"Data scientists spend 80% of their time cleaning data, and 20% of their time complaining about cleaning data.\" Write a function to help clean US zip code data. Given a string, it should return whether or not that string represents a valid zip code. For our purposes, a valid zip code is any string consisting of exactly 5 digits.\n",
    "\n",
    "HINT: `str` has a method that will be useful here. Use `help(str)` to review a list of string methods.\n",
    "\n"
   ]
  },
  {
   "cell_type": "code",
   "execution_count": null,
   "metadata": {},
   "outputs": [],
   "source": [
    "def is_valid_zip(zip_code):\n",
    "    \"\"\"Returns whether the input string is a valid (5 digit) US zip code\n",
    "    \"\"\"\n",
    "    # your code here\n",
    "    pass\n",
    "\n",
    "# Hint - try help(str) to find a useful method\n",
    "is_valid_zip('12345')    # True\n",
    "is_valid_zip('V3J2M7')  # False"
   ]
  },
  {
   "cell_type": "markdown",
   "metadata": {},
   "source": [
    "A researcher has gathered thousands of news articles. But she wants to focus her attention on articles including a specific word. Complete the function below to help her filter her list of articles.\n",
    "\n",
    "Your function should meet the following criteria:\n",
    "\n",
    "- Do not include documents where the keyword string shows up only as a part of a larger word. For example, if she were looking for the keyword “closed”, you would not include the string “enclosed.” \n",
    "- She does not want you to distinguish upper case from lower case letters. So the phrase “Closed the case.” would be included when the keyword is “closed”\n",
    "- Do not let periods or commas affect what is matched. “It is closed.” would be included when the keyword is “closed”. But you can assume there are no other types of punctuation."
   ]
  },
  {
   "cell_type": "code",
   "execution_count": null,
   "metadata": {},
   "outputs": [],
   "source": [
    "def word_search(doc_list, keyword):\n",
    "    \"\"\"\n",
    "    Takes a list of documents (each document is a string) and a keyword. \n",
    "    Returns list of the index values into the original list for all documents \n",
    "    containing the keyword.\n",
    "\n",
    "    Example:\n",
    "    doc_list = [\"The Learn Python Challenge Casino.\", \"They bought a car\", \"Casinoville\"]\n",
    "    >>> word_search(doc_list, 'casino')\n",
    "    >>> [0]\n",
    "    \"\"\"\n",
    "    # your code here\n",
    "    pass\n",
    "\n",
    "doc_list = [\"The Learn Python Challenge Casino.\", \"They bought a car\", \"Casinoville\"]\n",
    "word_search(doc_list, 'casino')\n"
   ]
  },
  {
   "cell_type": "markdown",
   "metadata": {},
   "source": [
    "Now the researcher wants to supply multiple keywords to search for. Complete the function below to help her.\n",
    "\n",
    "(You're encouraged to use the `word_search` function you just wrote when implementing this function. Reusing code in this way makes your programs more robust and readable - and it saves typing!)"
   ]
  },
  {
   "cell_type": "code",
   "execution_count": null,
   "metadata": {},
   "outputs": [],
   "source": [
    "def multi_word_search(doc_list, keywords):\n",
    "    \"\"\"\n",
    "    Takes list of documents (each document is a string) and a list of keywords.  \n",
    "    Returns a dictionary where each key is a keyword, and the value is a list of indices\n",
    "    (from doc_list) of the documents containing that keyword\n",
    "\n",
    "    >>> doc_list = [\"The Learn Python Challenge Casino.\", \"They bought a car and a casino\", \"Casinoville\"]\n",
    "    >>> keywords = ['casino', 'they']\n",
    "    >>> multi_word_search(doc_list, keywords)\n",
    "    {'casino': [0, 1], 'they': [1]}\n",
    "    \"\"\"\n",
    "    # your code here\n",
    "    pass\n",
    "\n",
    "doc_list = [\"The Learn Python Challenge Casino.\", \"They bought a car and a casino\", \"Casinoville\"]\n",
    "keywords = ['casino', 'they']\n",
    "multi_word_search(doc_list, keywords)"
   ]
  },
  {
   "cell_type": "markdown",
   "metadata": {},
   "source": [
    "## Answers"
   ]
  },
  {
   "cell_type": "code",
   "execution_count": null,
   "metadata": {},
   "outputs": [],
   "source": [
    "def select_second(L):\n",
    "    if len(L)>1:\n",
    "        return L[1]\n",
    "    return None\n",
    "\n",
    "print(select_second([1,2,3]))\n",
    "print(select_second([]))"
   ]
  },
  {
   "cell_type": "code",
   "execution_count": null,
   "metadata": {},
   "outputs": [],
   "source": [
    "def losing_team_captain(teams):\n",
    "    \"\"\"Given a list of teams, where each team is a list of names, return the 2nd player (captain)\n",
    "    from the last listed team\n",
    "    \"\"\"\n",
    "    last_team = teams[-1]\n",
    "    return last_team[1]\n",
    "\n",
    "teams = [['player1-team1', 'player2-team1', 'player3-team1','player4-team1'],['player1-team2', 'player2-team2', 'player3-team2','player4-team2'],['player1-team3', 'player2-team3', 'player3-team3','player4-team3']]\n",
    "losing_team_captain(teams)"
   ]
  },
  {
   "cell_type": "code",
   "execution_count": null,
   "metadata": {},
   "outputs": [],
   "source": [
    "def purple_shell(racers):\n",
    "    \"\"\"Given a list of racers, set the first place racer (at the front of the list) to last\n",
    "    place and vice versa.\n",
    "    \n",
    "    >>> r = [\"Mario\", \"Bowser\", \"Luigi\"]\n",
    "    >>> purple_shell(r)\n",
    "    >>> r\n",
    "    [\"Luigi\", \"Bowser\", \"Mario\"]\n",
    "    \"\"\"\n",
    "    temp = r[0]\n",
    "    r[0] = r[-1]\n",
    "    r[-1] = temp\n",
    "    return r\n",
    "\n",
    "r = [\"Mario\", \"Bowser\", \"Luigi\"]\n",
    "purple_shell(r)"
   ]
  },
  {
   "cell_type": "code",
   "execution_count": null,
   "metadata": {},
   "outputs": [],
   "source": [
    "def fashionably_late(arrivals, name):\n",
    "    \"\"\"Given an ordered list of arrivals to the party and a name, return whether the guest with that\n",
    "    name was fashionably late.\n",
    "    Fashionably late is when at least 1/2 of the guests have arrived, but you're not the last one!\n",
    "    \"\"\"\n",
    "    half = (len(arrivals)+1)//2\n",
    "    index = arrivals.index(name)\n",
    "    return index > half-1\n",
    "\n",
    "party_attendees = ['Adela', 'Fleda', 'Owen', 'May', 'Mona', 'Gilbert', 'Ford']\n",
    "print(fashionably_late(party_attendees, 'Owen'))\n",
    "print(fashionably_late(party_attendees, 'Ford'))\n",
    "print(fashionably_late(party_attendees, 'Adela'))\n",
    "print(fashionably_late(party_attendees, 'Mona'))\n",
    "print(fashionably_late(party_attendees, 'May'))"
   ]
  },
  {
   "cell_type": "code",
   "execution_count": null,
   "metadata": {},
   "outputs": [],
   "source": [
    "# Fix the bug!\n",
    "def has_lucky_number(nums):\n",
    "    \"\"\"Return whether the given list of numbers is lucky. A lucky list contains\n",
    "    at least one number divisible by 7.\n",
    "    \"\"\"\n",
    "    for num in nums:\n",
    "        if num % 7 == 0:\n",
    "            return True\n",
    "    return False   # fix\n",
    "\n",
    "print(has_lucky_number([3,4,7,14,3])) # True\n",
    "print(has_lucky_number([3,18,24,36])) # False"
   ]
  },
  {
   "cell_type": "code",
   "execution_count": null,
   "metadata": {},
   "outputs": [],
   "source": [
    "fruits = [\"apple\", \"banana\", \"cherry\", \"kiwi\", \"mango\"]\n",
    "newlist = [x for x in fruits if \"a\" in x]\n",
    "\n",
    "print(newlist)"
   ]
  },
  {
   "cell_type": "code",
   "execution_count": null,
   "metadata": {},
   "outputs": [],
   "source": [
    "def menu_is_boring(meals):\n",
    "    \"\"\"Given a list of meals served over some period of time, return True if the\n",
    "    same meal has ever been served two days in a row, and False otherwise.\n",
    "    \"\"\"\n",
    "    for i in range(1, len(meals)):\n",
    "        if meals[i] == meals[i-1]:\n",
    "            return True\n",
    "    return False\n",
    "    pass\n",
    "    \n",
    "    pass\n",
    "meals = ['Pot Roast', 'Chicken', 'Tacos', 'Tacos', 'Steak']\n",
    "print(menu_is_boring(meals))\n",
    "meals = ['Pot Roast', 'Chicken', 'Tacos', 'Steak', 'Salad']\n",
    "print(menu_is_boring(meals))"
   ]
  },
  {
   "cell_type": "code",
   "execution_count": null,
   "metadata": {},
   "outputs": [],
   "source": [
    "# Libraries that we'll use like numpy and pandas do element wise comparisons.  Lets implement that!\n",
    "# use a list comprehension\n",
    "def elementwise_greater_than(L, thresh):\n",
    "    \"\"\"Return a list with the same length as L, where the value at index i is \n",
    "    True if L[i] is greater than thresh, and False otherwise.\n",
    "    \n",
    "    >>> elementwise_greater_than([1, 2, 3, 4], 2)\n",
    "    [False, False, True, True]\n",
    "    \"\"\"\n",
    "    return [x > 2 for x in L]\n",
    "\n",
    "elementwise_greater_than([1, 2, 3, 4],2)"
   ]
  },
  {
   "cell_type": "code",
   "execution_count": null,
   "metadata": {},
   "outputs": [],
   "source": [
    "def short_planets(planets):\n",
    "    \"\"\"\n",
    "    Return the list of short named planets (less than 6 chars)\n",
    "    >>> planets = ['Mercury', 'Venus', 'Earth', 'Mars', 'Jupiter', 'Saturn', 'Uranus', 'Neptune']\n",
    "    >>> short_planets(planets)\n",
    "    ['VENUS!', 'EARTH!', 'MARS!']\n",
    "    \"\"\"\n",
    "    return [p for p in planets if len(p) < 6]\n",
    "\n",
    "planets = ['Mercury', 'Venus', 'Earth', 'Mars', 'Jupiter', 'Saturn', 'Uranus', 'Neptune']\n",
    "short_planets(planets)"
   ]
  },
  {
   "cell_type": "code",
   "execution_count": null,
   "metadata": {},
   "outputs": [],
   "source": [
    "import random\n",
    "\n",
    "# given this function\n",
    "def play_slot_machine():\n",
    "    \"\"\" Win $10 with probability 1/90 \"\"\"\n",
    "    r = random.randint(0,75)\n",
    "    if r == 1:\n",
    "        return 100\n",
    "    return 0\n",
    "\n",
    "print(play_slot_machine())\n",
    "\n",
    "\n",
    "def estimate_average_slot_payout(n_runs):\n",
    "    \"\"\"Run the slot machine n_runs times and return the average net profit per run.\n",
    "    Example calls (note that return value is nondeterministic!):\n",
    "    >>> estimate_average_slot_payout(1)\n",
    "    -1\n",
    "    >>> estimate_average_slot_payout(1)\n",
    "    0.5\n",
    "    \"\"\"\n",
    "    # your code here\n",
    "    payouts = [play_slot_machine() - 1 for i in range(0,n_runs)]\n",
    "    return sum(payouts)/n_runs\n",
    "\n",
    "estimate_average_slot_payout(10000000)"
   ]
  },
  {
   "cell_type": "code",
   "execution_count": null,
   "metadata": {},
   "outputs": [],
   "source": [
    "def is_valid_zip(zip_str):\n",
    "    return len(zip_str) == 5 and zip_str.isdigit()\n",
    "\n",
    "print(is_valid_zip('12345'))    # True\n",
    "print(is_valid_zip('V3J2M7'))  # False"
   ]
  },
  {
   "cell_type": "code",
   "execution_count": null,
   "metadata": {},
   "outputs": [],
   "source": [
    "def word_search(documents, keyword):\n",
    "    \"\"\"\n",
    "    Takes a list of documents (each document is a string) and a keyword. \n",
    "    Returns list of the index values into the original list for all documents \n",
    "    containing the keyword.\n",
    "\n",
    "    Example:\n",
    "    doc_list = [\"The Learn Python Challenge Casino.\", \"They bought a car\", \"Casinoville\"]\n",
    "    >>> word_search(doc_list, 'casino')\n",
    "    >>> [0]\n",
    "    \"\"\"\n",
    "    # list to hold the indices of matching documents\n",
    "    indices = [] \n",
    "    # Iterate through the indices (i) and elements (doc) of documents\n",
    "    for i, doc in enumerate(documents):\n",
    "        # Split the string doc into a list of words (according to whitespace)\n",
    "        tokens = doc.split()\n",
    "        # Make a transformed list where we 'normalize' each word to facilitate matching.\n",
    "        # Periods and commas are removed from the end of each word, and it's set to all lowercase.\n",
    "        normalized = [token.rstrip('.,').lower() for token in tokens]\n",
    "        # Is there a match? If so, update the list of matching indices.\n",
    "        if keyword.lower() in normalized:\n",
    "            indices.append(i)\n",
    "    return indices\n",
    "\n",
    "doc_list = [\"The Learn Python Challenge Casino.\", \"They bought a car\", \"Casinoville\"]\n",
    "word_search(doc_list, 'learn')"
   ]
  },
  {
   "cell_type": "code",
   "execution_count": null,
   "metadata": {},
   "outputs": [],
   "source": [
    "def multi_word_search(doc_list, keywords):\n",
    "    \"\"\"\n",
    "    Takes list of documents (each document is a string) and a list of keywords.  \n",
    "    Returns a dictionary where each key is a keyword, and the value is a list of indices\n",
    "    (from doc_list) of the documents containing that keyword\n",
    "\n",
    "    >>> doc_list = [\"The Learn Python Challenge Casino.\", \"They bought a car and a casino\", \"Casinoville\"]\n",
    "    >>> keywords = ['casino', 'they']\n",
    "    >>> multi_word_search(doc_list, keywords)\n",
    "    {'casino': [0, 1], 'they': [1]}\n",
    "    \"\"\"\n",
    "    # list to hold the indices of matching documents\n",
    "    result = {}\n",
    "    for keyword in keywords:\n",
    "        indeces = word_search(doc_list, keyword)\n",
    "        if (len(indeces)>0):\n",
    "            result[keyword] = indeces\n",
    "    return result\n",
    "\n",
    "doc_list = [\"The Learn Python Challenge Casino.\", \"They bought a car and a casino\", \"Casinoville\"]\n",
    "keywords = ['casino', 'they', 'python', 'a', 'did']\n",
    "multi_word_search(doc_list, keywords)"
   ]
  },
  {
   "cell_type": "markdown",
   "metadata": {},
   "source": [
    "# Quick Numpy\n",
    "\n",
    "Numpy is a numerical processing library for handling multi-dimensional numerical arrays very fast.  It is good for numbers, dates, booleans, but there is no speed improvement for strings.\n",
    "\n",
    "It provides a lot of flexibility when dealing with arrays of numbers.\n",
    "\n",
    "We often don't use numpy directly, but its good to understand a bit about how it works since pandas is built on top and works in a similar way."
   ]
  },
  {
   "cell_type": "code",
   "execution_count": 34,
   "metadata": {},
   "outputs": [
    {
     "data": {
      "text/plain": [
       "array([1., 2., 3.])"
      ]
     },
     "execution_count": 34,
     "metadata": {},
     "output_type": "execute_result"
    }
   ],
   "source": [
    "import numpy as np\n",
    "\n",
    "a = np.array([1.0,2.0,3.0])\n",
    "a"
   ]
  },
  {
   "cell_type": "code",
   "execution_count": 35,
   "metadata": {},
   "outputs": [
    {
     "data": {
      "text/plain": [
       "array([[ 1.28479075, -1.36797986,  1.14448119, -1.27751181],\n",
       "       [-0.15837986,  1.41789097, -1.00753824,  1.03020163]])"
      ]
     },
     "execution_count": 35,
     "metadata": {},
     "output_type": "execute_result"
    }
   ],
   "source": [
    "a = np.random.randn(8)\n",
    "a = a.reshape(2,4)\n",
    "a"
   ]
  },
  {
   "cell_type": "code",
   "execution_count": 36,
   "metadata": {},
   "outputs": [
    {
     "data": {
      "text/plain": [
       "array([ 1.28479075, -1.36797986,  1.14448119, -1.27751181])"
      ]
     },
     "execution_count": 36,
     "metadata": {},
     "output_type": "execute_result"
    }
   ],
   "source": [
    "a[0]"
   ]
  },
  {
   "cell_type": "code",
   "execution_count": 37,
   "metadata": {},
   "outputs": [
    {
     "data": {
      "text/plain": [
       "-1.0075382371907708"
      ]
     },
     "execution_count": 37,
     "metadata": {},
     "output_type": "execute_result"
    }
   ],
   "source": [
    "a[1,2]"
   ]
  },
  {
   "cell_type": "code",
   "execution_count": 38,
   "metadata": {},
   "outputs": [
    {
     "data": {
      "text/plain": [
       "(2, 3)"
      ]
     },
     "execution_count": 38,
     "metadata": {},
     "output_type": "execute_result"
    }
   ],
   "source": [
    "m = np.array([[1,2,3],[4,5,6]])\n",
    "m.shape"
   ]
  },
  {
   "cell_type": "markdown",
   "metadata": {},
   "source": [
    "3 dimensional array"
   ]
  },
  {
   "cell_type": "code",
   "execution_count": 39,
   "metadata": {},
   "outputs": [
    {
     "data": {
      "text/plain": [
       "(1, 2, 3)"
      ]
     },
     "execution_count": 39,
     "metadata": {},
     "output_type": "execute_result"
    }
   ],
   "source": [
    "b = np.array([\n",
    "    [\n",
    "        [1,2,3],\n",
    "        [9,8,2]\n",
    "    ]\n",
    "])\n",
    "b.shape"
   ]
  },
  {
   "cell_type": "code",
   "execution_count": 40,
   "metadata": {},
   "outputs": [
    {
     "data": {
      "text/plain": [
       "8"
      ]
     },
     "execution_count": 40,
     "metadata": {},
     "output_type": "execute_result"
    }
   ],
   "source": [
    "b[0,1,1]"
   ]
  },
  {
   "cell_type": "code",
   "execution_count": 41,
   "metadata": {},
   "outputs": [
    {
     "data": {
      "text/plain": [
       "array([[2, 3]])"
      ]
     },
     "execution_count": 41,
     "metadata": {},
     "output_type": "execute_result"
    }
   ],
   "source": [
    "ar = np.array([\n",
    "    [1,2,3],\n",
    "    [4,5,6],\n",
    "    [7,8,9]\n",
    "])\n",
    "ar[:1,1:]"
   ]
  },
  {
   "cell_type": "code",
   "execution_count": 42,
   "metadata": {},
   "outputs": [
    {
     "data": {
      "text/plain": [
       "array([[ 1,  2,  3],\n",
       "       [-1, -1, -1],\n",
       "       [ 7,  8,  9]])"
      ]
     },
     "execution_count": 42,
     "metadata": {},
     "output_type": "execute_result"
    }
   ],
   "source": [
    "ar[1] = -1\n",
    "ar"
   ]
  },
  {
   "cell_type": "code",
   "execution_count": 43,
   "metadata": {},
   "outputs": [
    {
     "data": {
      "text/plain": [
       "array([[ 1,  0,  3],\n",
       "       [-1,  0, -1],\n",
       "       [ 7,  0,  9]])"
      ]
     },
     "execution_count": 43,
     "metadata": {},
     "output_type": "execute_result"
    }
   ],
   "source": [
    "ar[:,1] = 0\n",
    "ar"
   ]
  },
  {
   "cell_type": "code",
   "execution_count": 44,
   "metadata": {},
   "outputs": [],
   "source": [
    "ar = np.array([\n",
    "    [1,2,3],\n",
    "    [4,5,6],\n",
    "    [7,8,9]\n",
    "])"
   ]
  },
  {
   "cell_type": "code",
   "execution_count": 45,
   "metadata": {},
   "outputs": [
    {
     "data": {
      "text/plain": [
       "array([4., 5., 6.])"
      ]
     },
     "execution_count": 45,
     "metadata": {},
     "output_type": "execute_result"
    }
   ],
   "source": [
    "ar.mean(axis=0) # by column"
   ]
  },
  {
   "cell_type": "code",
   "execution_count": 46,
   "metadata": {},
   "outputs": [
    {
     "data": {
      "text/plain": [
       "array([ 6, 15, 24])"
      ]
     },
     "execution_count": 46,
     "metadata": {},
     "output_type": "execute_result"
    }
   ],
   "source": [
    "ar.sum(axis=1) # by row"
   ]
  },
  {
   "cell_type": "code",
   "execution_count": 47,
   "metadata": {},
   "outputs": [
    {
     "data": {
      "text/plain": [
       "array([[1, 2],\n",
       "       [4, 5],\n",
       "       [7, 8]])"
      ]
     },
     "execution_count": 47,
     "metadata": {},
     "output_type": "execute_result"
    }
   ],
   "source": [
    "ar[:,:2] # all of the rows, first two columns"
   ]
  },
  {
   "cell_type": "markdown",
   "metadata": {},
   "source": [
    "## Vectorized operations\n",
    "\n",
    "One of numpy's powerful features is called *broadcasting*.  It is a fast way of dealing with lists."
   ]
  },
  {
   "cell_type": "code",
   "execution_count": 48,
   "metadata": {},
   "outputs": [
    {
     "data": {
      "text/plain": [
       "array([0, 1, 2, 3])"
      ]
     },
     "execution_count": 48,
     "metadata": {},
     "output_type": "execute_result"
    }
   ],
   "source": [
    "s = np.arange(4)\n",
    "s"
   ]
  },
  {
   "cell_type": "code",
   "execution_count": 49,
   "metadata": {},
   "outputs": [
    {
     "data": {
      "text/plain": [
       "array([4, 5, 6, 7])"
      ]
     },
     "execution_count": 49,
     "metadata": {},
     "output_type": "execute_result"
    }
   ],
   "source": [
    "s+4"
   ]
  },
  {
   "cell_type": "code",
   "execution_count": 50,
   "metadata": {},
   "outputs": [
    {
     "data": {
      "text/plain": [
       "array([2, 3, 4, 5])"
      ]
     },
     "execution_count": 50,
     "metadata": {},
     "output_type": "execute_result"
    }
   ],
   "source": [
    "s+=2\n",
    "s"
   ]
  },
  {
   "cell_type": "code",
   "execution_count": 51,
   "metadata": {},
   "outputs": [
    {
     "data": {
      "text/plain": [
       "array([0, 1, 2, 3])"
      ]
     },
     "execution_count": 51,
     "metadata": {},
     "output_type": "execute_result"
    }
   ],
   "source": [
    "t = np.arange(4)\n",
    "t"
   ]
  },
  {
   "cell_type": "code",
   "execution_count": 52,
   "metadata": {},
   "outputs": [
    {
     "data": {
      "text/plain": [
       "array([2, 4, 6, 8])"
      ]
     },
     "execution_count": 52,
     "metadata": {},
     "output_type": "execute_result"
    }
   ],
   "source": [
    "s+t"
   ]
  },
  {
   "cell_type": "code",
   "execution_count": 53,
   "metadata": {},
   "outputs": [
    {
     "data": {
      "text/plain": [
       "array([ 0,  3,  8, 15])"
      ]
     },
     "execution_count": 53,
     "metadata": {},
     "output_type": "execute_result"
    }
   ],
   "source": [
    "s*t"
   ]
  },
  {
   "cell_type": "markdown",
   "metadata": {},
   "source": [
    "## Boolean operators\n",
    "\n",
    "We can select data in arrays using boolean operators"
   ]
  },
  {
   "cell_type": "code",
   "execution_count": 56,
   "metadata": {},
   "outputs": [
    {
     "data": {
      "text/plain": [
       "array([2, 3, 4, 5])"
      ]
     },
     "execution_count": 56,
     "metadata": {},
     "output_type": "execute_result"
    }
   ],
   "source": [
    "s"
   ]
  },
  {
   "cell_type": "code",
   "execution_count": 57,
   "metadata": {},
   "outputs": [
    {
     "data": {
      "text/plain": [
       "array([False,  True,  True,  True])"
      ]
     },
     "execution_count": 57,
     "metadata": {},
     "output_type": "execute_result"
    }
   ],
   "source": [
    "s>2"
   ]
  },
  {
   "cell_type": "code",
   "execution_count": 58,
   "metadata": {},
   "outputs": [
    {
     "data": {
      "text/plain": [
       "array([3, 4, 5])"
      ]
     },
     "execution_count": 58,
     "metadata": {},
     "output_type": "execute_result"
    }
   ],
   "source": [
    "s[s>2]"
   ]
  },
  {
   "cell_type": "code",
   "execution_count": 59,
   "metadata": {
    "tags": []
   },
   "outputs": [
    {
     "data": {
      "text/plain": [
       "3.5"
      ]
     },
     "execution_count": 59,
     "metadata": {},
     "output_type": "execute_result"
    }
   ],
   "source": [
    "s.mean()"
   ]
  },
  {
   "cell_type": "code",
   "execution_count": 60,
   "metadata": {
    "tags": []
   },
   "outputs": [
    {
     "data": {
      "text/plain": [
       "array([4, 5])"
      ]
     },
     "execution_count": 60,
     "metadata": {},
     "output_type": "execute_result"
    }
   ],
   "source": [
    "s[s>s.mean()]"
   ]
  },
  {
   "cell_type": "code",
   "execution_count": 61,
   "metadata": {
    "tags": []
   },
   "outputs": [
    {
     "data": {
      "text/plain": [
       "array([[91, 84, 13],\n",
       "       [14, 82, 10],\n",
       "       [66, 91, 95]])"
      ]
     },
     "execution_count": 61,
     "metadata": {},
     "output_type": "execute_result"
    }
   ],
   "source": [
    "ar = np.random.randint(100, size=(3,3))\n",
    "ar"
   ]
  },
  {
   "cell_type": "code",
   "execution_count": 62,
   "metadata": {},
   "outputs": [
    {
     "data": {
      "text/plain": [
       "array([ True,  True,  True])"
      ]
     },
     "execution_count": 62,
     "metadata": {},
     "output_type": "execute_result"
    }
   ],
   "source": [
    "ar[:,1] > 30"
   ]
  },
  {
   "cell_type": "code",
   "execution_count": null,
   "metadata": {
    "tags": []
   },
   "outputs": [],
   "source": [
    "ar[ar[:,1] > 30]"
   ]
  },
  {
   "cell_type": "markdown",
   "metadata": {},
   "source": [
    "Now, filter all elements"
   ]
  },
  {
   "cell_type": "code",
   "execution_count": null,
   "metadata": {
    "tags": []
   },
   "outputs": [],
   "source": [
    "ar[ar>30]"
   ]
  },
  {
   "cell_type": "markdown",
   "metadata": {},
   "source": [
    "## Size and speed\n",
    "\n",
    "One of the biggest benefits of numpy is the size and speed of data structures and execution."
   ]
  },
  {
   "cell_type": "code",
   "execution_count": null,
   "metadata": {},
   "outputs": [],
   "source": [
    "import sys\n",
    "\n",
    "sys.getsizeof(1)"
   ]
  },
  {
   "cell_type": "code",
   "execution_count": null,
   "metadata": {},
   "outputs": [],
   "source": [
    "np.dtype(int).itemsize"
   ]
  },
  {
   "cell_type": "code",
   "execution_count": null,
   "metadata": {},
   "outputs": [],
   "source": [
    "l = list(range(10000))\n",
    "ar = np.arange(10000)"
   ]
  },
  {
   "cell_type": "code",
   "execution_count": null,
   "metadata": {},
   "outputs": [],
   "source": [
    "%time np.sum(ar**2)"
   ]
  },
  {
   "cell_type": "code",
   "execution_count": null,
   "metadata": {},
   "outputs": [],
   "source": [
    "%time sum([x ** 2 for x in l])"
   ]
  },
  {
   "cell_type": "markdown",
   "metadata": {},
   "source": [
    "# Next up\n",
    "\n",
    "* Start our first project - analysing IGN video game rating data!"
   ]
  }
 ],
 "metadata": {
  "colab": {
   "name": "intro.ipynb",
   "provenance": [],
   "toc_visible": true
  },
  "interpreter": {
   "hash": "293e2dea07eed22cf8c9200dfa67c76ea78bbef78f3f095ef93c7b987d1f9f8b"
  },
  "kernelspec": {
   "display_name": "Python 3",
   "language": "python",
   "name": "python3"
  },
  "language_info": {
   "codemirror_mode": {
    "name": "ipython",
    "version": 3
   },
   "file_extension": ".py",
   "mimetype": "text/x-python",
   "name": "python",
   "nbconvert_exporter": "python",
   "pygments_lexer": "ipython3",
   "version": "3.9.0"
  }
 },
 "nbformat": 4,
 "nbformat_minor": 4
}

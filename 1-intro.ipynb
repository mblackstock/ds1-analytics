{
  "nbformat": 4,
  "nbformat_minor": 0,
  "metadata": {
    "language_info": {
      "codemirror_mode": {
        "name": "ipython",
        "version": 3
      },
      "file_extension": ".py",
      "mimetype": "text/x-python",
      "name": "python",
      "nbconvert_exporter": "python",
      "pygments_lexer": "ipython3",
      "version": "3.9.0"
    },
    "orig_nbformat": 2,
    "kernelspec": {
      "name": "python3",
      "display_name": "Python 3.9.0 64-bit ('ds1-analytics': virtualenvwrapper)"
    },
    "colab": {
      "name": "intro.ipynb",
      "provenance": [],
      "toc_visible": true
    },
    "interpreter": {
      "hash": "293e2dea07eed22cf8c9200dfa67c76ea78bbef78f3f095ef93c7b987d1f9f8b"
    }
  },
  "cells": [
    {
      "cell_type": "markdown",
      "metadata": {
        "id": "HJ4zsaHIKrkt"
      },
      "source": [
        "# 1. Introduction to Data Science\n",
        "\n",
        "Data Science is an interdisciplinary field focused on extracting knowledge from data used to solve problems in a wide range of application domains.\n",
        "\n",
        "In this course we'll introduce you to tools and techniques used such as loading, cleaning, wrangling, transformation, exploration and visualization of data to find patterns, build reports and communicate results to assist in decision making.\n",
        "\n",
        "This series of project notebooks will guide you through several scenarios for you to learn how to use Python and associated tools and libraries such as Pandas for exploring data.  By the end of this course, you will have an understanding of how to use a hosted Python-based Jupyter notebook system to load data, manipulate the data and produce visualizations to create notebooks to communicate interesting facts about data. "
      ]
    },
    {
      "source": [
        "# What is Data?\n",
        "\n",
        "Data is a collection of information.  There are two types of data - structured, and unstructured.\n",
        "\n",
        "Unstructured data is information that is not consistent.  For example you may have information about different things like people, animals or houses that differs from thing to thing.  The labels for the different things changes as well.\n",
        "\n",
        "> Diagram with Circles with connected things, different information in the circles.\n",
        "\n",
        "Structured data is organized and consistent and easier to work with.\n",
        "\n",
        "> Table of rectangles.\n",
        "\n",
        "Much of Data Science and Analysis is taking unstructured data and making it structured, or changing the structure so that it is easier to work with.\n",
        "\n",
        "It's common to work with very large data sets when doing analysis."
      ],
      "cell_type": "markdown",
      "metadata": {}
    },
    {
      "source": [
        "## Database table\n",
        "\n",
        "A Database table is the main data structure that we use in data analysis. Sometimes we just call it a  table.  In the pandas library it is represented by a DataFrame. \n",
        "\n",
        "For example a table could consist of the following data (csv format)\n",
        "```\n",
        "Duration,Average_Pulse,Max_Pulse,Calorie_Burnage,Hours_Work,Hours_Sleep\n",
        "30,80,120,240,10,7\n",
        "45,85,120,250,10,7\n",
        "45,90,130,260,8,7\n",
        "60,95,130,270,8,7\n",
        "60,100,140,280,0,7\n",
        ",,,,,\n",
        "60,105,140,290,7,8\n",
        "60,110,145,300,7,8\n",
        "45,,AF,,8,8\n",
        "45,115,145,310,8,8\n",
        "60,120,150,320,0,8\n",
        "60,9 000,130,,,8\n",
        "45,125,150,330,8,8\n",
        "```\n",
        "\n",
        "This is organized into rows and columns with names.\n",
        "\n",
        "> picture of rows, columns, elements in the table, names or columns\n"
      ],
      "cell_type": "markdown",
      "metadata": {}
    },
    {
      "source": [
        "## Types of data\n",
        "\n",
        "There are three main types of data to consider.\n",
        "\n",
        "* Numerical - Contains numerical values. Can be divided into two categories:\n",
        "    * Discrete: Numbers are counted as \"whole\". Example: You cannot have trained 2.5 sessions, it is either 2 or 3\n",
        "    * Continuous: Numbers can be of infinite precision. For example, you can sleep for 7 hours, 30 minutes and 20 seconds, or 7.533 hours\n",
        "* Categorical - Contains values that cannot be measured up against each other. Example: A color or a type of training\n",
        "* Ordinal - Contains categorical data that can be measured up against each other. Example: School grades where A is better than B and so on"
      ],
      "cell_type": "markdown",
      "metadata": {}
    },
    {
      "source": [
        "# What is Data Analysis?\n",
        "\n",
        "Data Analysis is the process of inspecting, cleaning, transforming and modeling data to discover userful information, and support decision making.\n",
        "\n",
        "Open source tools include languages like R, Python and julia.  We're focusing on Python!\n",
        "\n",
        "> Draw the following as boxes, from left to right\n",
        "\n",
        "## Process\n",
        "\n",
        "The process includes the following:\n",
        "\n",
        "* Data Extraction\n",
        "* Cleaning\n",
        "* Wrangling\n",
        "* Analysis\n",
        "* Taking Action\n",
        "\n",
        "## Extraction\n",
        "* Accessing databases using SQL\n",
        "* Accessing APIs\n",
        "* Different file formats\n",
        " * CSV\n",
        " * JSON\n",
        " * XML\n",
        "\n",
        "## Cleaning\n",
        "* Missing values, empty data\n",
        "* Data imputation (substituting)\n",
        "* fixing incorrect or missing values\n",
        "* removing non-relevant data\n",
        "* Sanitation using statistics\n",
        "\n",
        "## Wrangling\n",
        "* Reshaping and transforming structures\n",
        "* handling categorical data\n",
        "* hierarchical data\n",
        "* indexing data\n",
        "* merging, compbining and joining\n",
        "\n",
        "## Analysis\n",
        "* Exploring data\n",
        "* building statistical models\n",
        "* visualizing and representing data\n",
        "* correlation and causation Analysis\n",
        "* statistical Analysis\n",
        "* reporting\n",
        "\n",
        "## Taking Action\n",
        "* building ETL pipelines\n",
        "* building ML models\n",
        "* providing live dashboards and alerts\n",
        "* making decisions and doing testing"
      ],
      "cell_type": "markdown",
      "metadata": {}
    },
    {
      "source": [
        "# Tools\n",
        "\n",
        "## Python for Data Science\n",
        "One of the post popular languages for data science today is Python. It is also used by professionals in many other contexts such as tools build control and management, dynamic data pipelines and backend web development. It is easy to pick up for anyone who has some previous coding experience. It is also used in the early UTG courses with PixelPad so it is likely familiar to many of you!  Python was named after the comedy troupe and show Monty Python's Flying Circus.\n",
        "\n",
        "## What is Jupyter?\n",
        "\n",
        "The [Jupyter Notebook](https://jupyter.org/) is an open source web application used to create and share documents that contain live code, equations, visualizations, and text.  It is possible to run Jupyter locally on your PC, and there are several Jupyter services available, and they are largely compatible with each other.  In this course we'll be using the [Google CoLab service](https://colab.research.google.com/), but others like [Kaggle](https://www.kaggle.com/) are also available.\n",
        "\n",
        "# Libraries\n",
        "\n",
        "Much of becoming proficient is getting familiar with key Python libraries.\n",
        "\n",
        "* [**pandas**](https://pandas.pydata.org/) - the cornerstone Python library for data analsysis and manipulation.  Most of this course will focus on the use of Pandas and related Python libraries for visualization.\n",
        "* [**numpy**](https://numpy.org/) - foundation of Pandas and other numeric computation systems in Python.  Super fast, written in C/C++ since Python is not fast.  Relatively simple API.\n",
        "* [**matplotlib**](https://matplotlib.org/) - foundation of viusalization libraries on Python.  Pandas is integrated with this library.\n",
        "* [**seaborn**](https://seaborn.pydata.org/) - statistical valuation tool built on matplotlib.\n",
        "\n",
        "## Getting Help\n",
        "\n",
        "While the libraries have excellent documentation, they may not answer your questions directly.  Fortunately many of the questions you wil have have been answered on Stack Overflow and other online sources.\n",
        "\n",
        "### Search\n",
        "\n",
        "Start with Googling the question and mentioning the library you want to use such as pandas.  For example 'how to groupby multiple columns with pandas'.  Sometimes you will get a blog post, but often this will take you to a related Stack Overflow Q&A, or access Stack Overflow directly.  As of this writing there were [204,733](https://stackoverflow.com/questions/tagged/pandas) questions with the pandas tag.\n",
        "\n",
        "### Help function\n",
        "\n",
        "Many of the python methods will provide excellent documentation as python docstrings.  These can be looked up using the help funciton.  This will be covered in the course.\n",
        "\n",
        "\n"
      ],
      "cell_type": "markdown",
      "metadata": {}
    },
    {
      "cell_type": "markdown",
      "metadata": {
        "id": "QH7mu30iL7If"
      },
      "source": [
        "# Getting started\n",
        "\n",
        "## Accessing Google CoLaboratory\n",
        "\n",
        "To access Google's CoLab Jupyter environment you'll need a Google account since it integrates with Google Docs for storage.  Like Google docs word processing and spreadsheet documents, you can share your CoLab Notebooks with others.\n",
        "\n",
        "### Login to Google\n",
        "\n",
        "Login with your google account to get access to Google Drive.  We'll save our notebooks and data there.\n",
        "\n",
        "### Create a notebook.\n",
        "Navigate to https://colab.research.google.com to get started.  We'll work together to set up your first notebook.\n",
        "\n",
        "Create a new notebook.\n",
        "\n",
        "It looks like a web site, but its actually interactive.  Sort of like replit.  You can add text and run Python code in blocks.\n",
        "\n",
        "## Why Jupyter\n",
        "\n",
        "Interactive real time environment to explore data and do some analysis\n",
        "\n",
        "You can issue commands and it responds right away.\n",
        "\n",
        "Other tools like spreadsheets are fine but when we have lots of data, we can't keep it on the screen all the time.  It doesn't scale.  We work with python and Jupyter by keeping the data in mind, not looking at it.\n",
        "\n",
        "Notebooks are a combination of text and code blocks that may have some associated output like text or visualizations.\n",
        "\n",
        "When you open a notebook in colab, it creates a virtual machine for you to run your code in.\n",
        "\n",
        "Lets try it out."
      ]
    },
    {
      "cell_type": "markdown",
      "metadata": {
        "id": "3YhgdmcZM4xK"
      },
      "source": [
        "## Text Blocks\n",
        "\n",
        "First, we'll start by creating a text block using markdown.  Markdown is a syntax for creating formatted text. We can write some markup as follows (feel free to change it as you like):\n",
        "\n",
        "```markdown\n",
        "# My First notebook\n",
        "\n",
        "This is my first notebook for playing around with Python and Pandas a bit before diving into our first project!\n",
        "```\n",
        "\n",
        "Markdown is very powerful.  You can format your text in many ways, and even include images.  For more info on Markdown in CoLab see https://colab.research.google.com/notebooks/markdown_guide.ipynb\n",
        "\n",
        "(Demonstrate headings, links, bullets, italics, bold, non-formatted, images, tables)"
      ]
    },
    {
      "cell_type": "markdown",
      "metadata": {
        "id": "r0DmHbRnKrku"
      },
      "source": [
        "## Code Blocks\n",
        "We can write python code blocks.  Demos"
      ]
    },
    {
      "cell_type": "code",
      "metadata": {
        "id": "6pGM2dHXKrku",
        "outputId": "6700bc93-331d-41e7-b98e-4e57776aaa88"
      },
      "source": [
        "numbers = [1,2,3,4]\n",
        "numbers"
      ],
      "execution_count": 2,
      "outputs": [
        {
          "output_type": "execute_result",
          "data": {
            "text/plain": [
              "[1, 2, 3, 4]"
            ]
          },
          "metadata": {},
          "execution_count": 2
        }
      ]
    },
    {
      "source": [
        "Lets change two numbers in the middle using slice syntax."
      ],
      "cell_type": "markdown",
      "metadata": {}
    },
    {
      "cell_type": "code",
      "metadata": {
        "id": "MkZYJ6SaKrkv",
        "outputId": "e95a4e3a-0ee9-4d5c-abbd-e9d52073dd69"
      },
      "source": [
        "numbers[2:3] = [9,10]\n",
        "numbers"
      ],
      "execution_count": 3,
      "outputs": [
        {
          "output_type": "execute_result",
          "data": {
            "text/plain": [
              "[1, 2, 9, 10, 4]"
            ]
          },
          "metadata": {},
          "execution_count": 3
        }
      ]
    },
    {
      "cell_type": "markdown",
      "metadata": {
        "id": "yWSwugfmKrkv"
      },
      "source": [
        "As you can see you can create variables and access them in subsequent code blocks."
      ]
    },
    {
      "source": [
        "## Quick Visualizations\n",
        "\n",
        "Now lets try something a little fancier!\n",
        "\n",
        "This is something that we can't do in the command line!"
      ],
      "cell_type": "markdown",
      "metadata": {}
    },
    {
      "cell_type": "code",
      "metadata": {
        "id": "VFn2gO4wKrkv",
        "outputId": "f0037f38-7397-454d-8450-837ac570afef"
      },
      "source": [
        "import numpy as np\n",
        "from matplotlib import pyplot as plt\n",
        "\n",
        "data = np.random.randn(50)\n",
        "plt.plot(data)"
      ],
      "execution_count": 4,
      "outputs": [
        {
          "output_type": "execute_result",
          "data": {
            "text/plain": [
              "[<matplotlib.lines.Line2D at 0x11d4047c0>]"
            ]
          },
          "metadata": {},
          "execution_count": 4
        },
        {
          "output_type": "display_data",
          "data": {
            "text/plain": "<Figure size 432x288 with 1 Axes>",
            "image/svg+xml": "<?xml version=\"1.0\" encoding=\"utf-8\" standalone=\"no\"?>\n<!DOCTYPE svg PUBLIC \"-//W3C//DTD SVG 1.1//EN\"\n  \"http://www.w3.org/Graphics/SVG/1.1/DTD/svg11.dtd\">\n<svg height=\"248.518125pt\" version=\"1.1\" viewBox=\"0 0 380.482812 248.518125\" width=\"380.482812pt\" xmlns=\"http://www.w3.org/2000/svg\" xmlns:xlink=\"http://www.w3.org/1999/xlink\">\n <metadata>\n  <rdf:RDF xmlns:cc=\"http://creativecommons.org/ns#\" xmlns:dc=\"http://purl.org/dc/elements/1.1/\" xmlns:rdf=\"http://www.w3.org/1999/02/22-rdf-syntax-ns#\">\n   <cc:Work>\n    <dc:type rdf:resource=\"http://purl.org/dc/dcmitype/StillImage\"/>\n    <dc:date>2021-06-20T09:41:35.976820</dc:date>\n    <dc:format>image/svg+xml</dc:format>\n    <dc:creator>\n     <cc:Agent>\n      <dc:title>Matplotlib v3.4.2, https://matplotlib.org/</dc:title>\n     </cc:Agent>\n    </dc:creator>\n   </cc:Work>\n  </rdf:RDF>\n </metadata>\n <defs>\n  <style type=\"text/css\">*{stroke-linecap:butt;stroke-linejoin:round;}</style>\n </defs>\n <g id=\"figure_1\">\n  <g id=\"patch_1\">\n   <path d=\"M -0 248.518125 \nL 380.482812 248.518125 \nL 380.482812 0 \nL -0 0 \nz\n\" style=\"fill:none;\"/>\n  </g>\n  <g id=\"axes_1\">\n   <g id=\"patch_2\">\n    <path d=\"M 38.482813 224.64 \nL 373.282813 224.64 \nL 373.282813 7.2 \nL 38.482813 7.2 \nz\n\" style=\"fill:#ffffff;\"/>\n   </g>\n   <g id=\"matplotlib.axis_1\">\n    <g id=\"xtick_1\">\n     <g id=\"line2d_1\">\n      <defs>\n       <path d=\"M 0 0 \nL 0 3.5 \n\" id=\"m43f1449296\" style=\"stroke:#000000;stroke-width:0.8;\"/>\n      </defs>\n      <g>\n       <use style=\"stroke:#000000;stroke-width:0.8;\" x=\"53.700994\" xlink:href=\"#m43f1449296\" y=\"224.64\"/>\n      </g>\n     </g>\n     <g id=\"text_1\">\n      <!-- 0 -->\n      <g transform=\"translate(50.519744 239.238437)scale(0.1 -0.1)\">\n       <defs>\n        <path d=\"M 2034 4250 \nQ 1547 4250 1301 3770 \nQ 1056 3291 1056 2328 \nQ 1056 1369 1301 889 \nQ 1547 409 2034 409 \nQ 2525 409 2770 889 \nQ 3016 1369 3016 2328 \nQ 3016 3291 2770 3770 \nQ 2525 4250 2034 4250 \nz\nM 2034 4750 \nQ 2819 4750 3233 4129 \nQ 3647 3509 3647 2328 \nQ 3647 1150 3233 529 \nQ 2819 -91 2034 -91 \nQ 1250 -91 836 529 \nQ 422 1150 422 2328 \nQ 422 3509 836 4129 \nQ 1250 4750 2034 4750 \nz\n\" id=\"DejaVuSans-30\" transform=\"scale(0.015625)\"/>\n       </defs>\n       <use xlink:href=\"#DejaVuSans-30\"/>\n      </g>\n     </g>\n    </g>\n    <g id=\"xtick_2\">\n     <g id=\"line2d_2\">\n      <g>\n       <use style=\"stroke:#000000;stroke-width:0.8;\" x=\"115.816022\" xlink:href=\"#m43f1449296\" y=\"224.64\"/>\n      </g>\n     </g>\n     <g id=\"text_2\">\n      <!-- 10 -->\n      <g transform=\"translate(109.453522 239.238437)scale(0.1 -0.1)\">\n       <defs>\n        <path d=\"M 794 531 \nL 1825 531 \nL 1825 4091 \nL 703 3866 \nL 703 4441 \nL 1819 4666 \nL 2450 4666 \nL 2450 531 \nL 3481 531 \nL 3481 0 \nL 794 0 \nL 794 531 \nz\n\" id=\"DejaVuSans-31\" transform=\"scale(0.015625)\"/>\n       </defs>\n       <use xlink:href=\"#DejaVuSans-31\"/>\n       <use x=\"63.623047\" xlink:href=\"#DejaVuSans-30\"/>\n      </g>\n     </g>\n    </g>\n    <g id=\"xtick_3\">\n     <g id=\"line2d_3\">\n      <g>\n       <use style=\"stroke:#000000;stroke-width:0.8;\" x=\"177.93105\" xlink:href=\"#m43f1449296\" y=\"224.64\"/>\n      </g>\n     </g>\n     <g id=\"text_3\">\n      <!-- 20 -->\n      <g transform=\"translate(171.56855 239.238437)scale(0.1 -0.1)\">\n       <defs>\n        <path d=\"M 1228 531 \nL 3431 531 \nL 3431 0 \nL 469 0 \nL 469 531 \nQ 828 903 1448 1529 \nQ 2069 2156 2228 2338 \nQ 2531 2678 2651 2914 \nQ 2772 3150 2772 3378 \nQ 2772 3750 2511 3984 \nQ 2250 4219 1831 4219 \nQ 1534 4219 1204 4116 \nQ 875 4013 500 3803 \nL 500 4441 \nQ 881 4594 1212 4672 \nQ 1544 4750 1819 4750 \nQ 2544 4750 2975 4387 \nQ 3406 4025 3406 3419 \nQ 3406 3131 3298 2873 \nQ 3191 2616 2906 2266 \nQ 2828 2175 2409 1742 \nQ 1991 1309 1228 531 \nz\n\" id=\"DejaVuSans-32\" transform=\"scale(0.015625)\"/>\n       </defs>\n       <use xlink:href=\"#DejaVuSans-32\"/>\n       <use x=\"63.623047\" xlink:href=\"#DejaVuSans-30\"/>\n      </g>\n     </g>\n    </g>\n    <g id=\"xtick_4\">\n     <g id=\"line2d_4\">\n      <g>\n       <use style=\"stroke:#000000;stroke-width:0.8;\" x=\"240.046078\" xlink:href=\"#m43f1449296\" y=\"224.64\"/>\n      </g>\n     </g>\n     <g id=\"text_4\">\n      <!-- 30 -->\n      <g transform=\"translate(233.683578 239.238437)scale(0.1 -0.1)\">\n       <defs>\n        <path d=\"M 2597 2516 \nQ 3050 2419 3304 2112 \nQ 3559 1806 3559 1356 \nQ 3559 666 3084 287 \nQ 2609 -91 1734 -91 \nQ 1441 -91 1130 -33 \nQ 819 25 488 141 \nL 488 750 \nQ 750 597 1062 519 \nQ 1375 441 1716 441 \nQ 2309 441 2620 675 \nQ 2931 909 2931 1356 \nQ 2931 1769 2642 2001 \nQ 2353 2234 1838 2234 \nL 1294 2234 \nL 1294 2753 \nL 1863 2753 \nQ 2328 2753 2575 2939 \nQ 2822 3125 2822 3475 \nQ 2822 3834 2567 4026 \nQ 2313 4219 1838 4219 \nQ 1578 4219 1281 4162 \nQ 984 4106 628 3988 \nL 628 4550 \nQ 988 4650 1302 4700 \nQ 1616 4750 1894 4750 \nQ 2613 4750 3031 4423 \nQ 3450 4097 3450 3541 \nQ 3450 3153 3228 2886 \nQ 3006 2619 2597 2516 \nz\n\" id=\"DejaVuSans-33\" transform=\"scale(0.015625)\"/>\n       </defs>\n       <use xlink:href=\"#DejaVuSans-33\"/>\n       <use x=\"63.623047\" xlink:href=\"#DejaVuSans-30\"/>\n      </g>\n     </g>\n    </g>\n    <g id=\"xtick_5\">\n     <g id=\"line2d_5\">\n      <g>\n       <use style=\"stroke:#000000;stroke-width:0.8;\" x=\"302.161106\" xlink:href=\"#m43f1449296\" y=\"224.64\"/>\n      </g>\n     </g>\n     <g id=\"text_5\">\n      <!-- 40 -->\n      <g transform=\"translate(295.798606 239.238437)scale(0.1 -0.1)\">\n       <defs>\n        <path d=\"M 2419 4116 \nL 825 1625 \nL 2419 1625 \nL 2419 4116 \nz\nM 2253 4666 \nL 3047 4666 \nL 3047 1625 \nL 3713 1625 \nL 3713 1100 \nL 3047 1100 \nL 3047 0 \nL 2419 0 \nL 2419 1100 \nL 313 1100 \nL 313 1709 \nL 2253 4666 \nz\n\" id=\"DejaVuSans-34\" transform=\"scale(0.015625)\"/>\n       </defs>\n       <use xlink:href=\"#DejaVuSans-34\"/>\n       <use x=\"63.623047\" xlink:href=\"#DejaVuSans-30\"/>\n      </g>\n     </g>\n    </g>\n    <g id=\"xtick_6\">\n     <g id=\"line2d_6\">\n      <g>\n       <use style=\"stroke:#000000;stroke-width:0.8;\" x=\"364.276133\" xlink:href=\"#m43f1449296\" y=\"224.64\"/>\n      </g>\n     </g>\n     <g id=\"text_6\">\n      <!-- 50 -->\n      <g transform=\"translate(357.913633 239.238437)scale(0.1 -0.1)\">\n       <defs>\n        <path d=\"M 691 4666 \nL 3169 4666 \nL 3169 4134 \nL 1269 4134 \nL 1269 2991 \nQ 1406 3038 1543 3061 \nQ 1681 3084 1819 3084 \nQ 2600 3084 3056 2656 \nQ 3513 2228 3513 1497 \nQ 3513 744 3044 326 \nQ 2575 -91 1722 -91 \nQ 1428 -91 1123 -41 \nQ 819 9 494 109 \nL 494 744 \nQ 775 591 1075 516 \nQ 1375 441 1709 441 \nQ 2250 441 2565 725 \nQ 2881 1009 2881 1497 \nQ 2881 1984 2565 2268 \nQ 2250 2553 1709 2553 \nQ 1456 2553 1204 2497 \nQ 953 2441 691 2322 \nL 691 4666 \nz\n\" id=\"DejaVuSans-35\" transform=\"scale(0.015625)\"/>\n       </defs>\n       <use xlink:href=\"#DejaVuSans-35\"/>\n       <use x=\"63.623047\" xlink:href=\"#DejaVuSans-30\"/>\n      </g>\n     </g>\n    </g>\n   </g>\n   <g id=\"matplotlib.axis_2\">\n    <g id=\"ytick_1\">\n     <g id=\"line2d_7\">\n      <defs>\n       <path d=\"M 0 0 \nL -3.5 0 \n\" id=\"m08852b973b\" style=\"stroke:#000000;stroke-width:0.8;\"/>\n      </defs>\n      <g>\n       <use style=\"stroke:#000000;stroke-width:0.8;\" x=\"38.482813\" xlink:href=\"#m08852b973b\" y=\"217.030172\"/>\n      </g>\n     </g>\n     <g id=\"text_7\">\n      <!-- −2.0 -->\n      <g transform=\"translate(7.2 220.829391)scale(0.1 -0.1)\">\n       <defs>\n        <path d=\"M 678 2272 \nL 4684 2272 \nL 4684 1741 \nL 678 1741 \nL 678 2272 \nz\n\" id=\"DejaVuSans-2212\" transform=\"scale(0.015625)\"/>\n        <path d=\"M 684 794 \nL 1344 794 \nL 1344 0 \nL 684 0 \nL 684 794 \nz\n\" id=\"DejaVuSans-2e\" transform=\"scale(0.015625)\"/>\n       </defs>\n       <use xlink:href=\"#DejaVuSans-2212\"/>\n       <use x=\"83.789062\" xlink:href=\"#DejaVuSans-32\"/>\n       <use x=\"147.412109\" xlink:href=\"#DejaVuSans-2e\"/>\n       <use x=\"179.199219\" xlink:href=\"#DejaVuSans-30\"/>\n      </g>\n     </g>\n    </g>\n    <g id=\"ytick_2\">\n     <g id=\"line2d_8\">\n      <g>\n       <use style=\"stroke:#000000;stroke-width:0.8;\" x=\"38.482813\" xlink:href=\"#m08852b973b\" y=\"188.144781\"/>\n      </g>\n     </g>\n     <g id=\"text_8\">\n      <!-- −1.5 -->\n      <g transform=\"translate(7.2 191.944)scale(0.1 -0.1)\">\n       <use xlink:href=\"#DejaVuSans-2212\"/>\n       <use x=\"83.789062\" xlink:href=\"#DejaVuSans-31\"/>\n       <use x=\"147.412109\" xlink:href=\"#DejaVuSans-2e\"/>\n       <use x=\"179.199219\" xlink:href=\"#DejaVuSans-35\"/>\n      </g>\n     </g>\n    </g>\n    <g id=\"ytick_3\">\n     <g id=\"line2d_9\">\n      <g>\n       <use style=\"stroke:#000000;stroke-width:0.8;\" x=\"38.482813\" xlink:href=\"#m08852b973b\" y=\"159.259391\"/>\n      </g>\n     </g>\n     <g id=\"text_9\">\n      <!-- −1.0 -->\n      <g transform=\"translate(7.2 163.058609)scale(0.1 -0.1)\">\n       <use xlink:href=\"#DejaVuSans-2212\"/>\n       <use x=\"83.789062\" xlink:href=\"#DejaVuSans-31\"/>\n       <use x=\"147.412109\" xlink:href=\"#DejaVuSans-2e\"/>\n       <use x=\"179.199219\" xlink:href=\"#DejaVuSans-30\"/>\n      </g>\n     </g>\n    </g>\n    <g id=\"ytick_4\">\n     <g id=\"line2d_10\">\n      <g>\n       <use style=\"stroke:#000000;stroke-width:0.8;\" x=\"38.482813\" xlink:href=\"#m08852b973b\" y=\"130.374\"/>\n      </g>\n     </g>\n     <g id=\"text_10\">\n      <!-- −0.5 -->\n      <g transform=\"translate(7.2 134.173218)scale(0.1 -0.1)\">\n       <use xlink:href=\"#DejaVuSans-2212\"/>\n       <use x=\"83.789062\" xlink:href=\"#DejaVuSans-30\"/>\n       <use x=\"147.412109\" xlink:href=\"#DejaVuSans-2e\"/>\n       <use x=\"179.199219\" xlink:href=\"#DejaVuSans-35\"/>\n      </g>\n     </g>\n    </g>\n    <g id=\"ytick_5\">\n     <g id=\"line2d_11\">\n      <g>\n       <use style=\"stroke:#000000;stroke-width:0.8;\" x=\"38.482813\" xlink:href=\"#m08852b973b\" y=\"101.488609\"/>\n      </g>\n     </g>\n     <g id=\"text_11\">\n      <!-- 0.0 -->\n      <g transform=\"translate(15.579688 105.287827)scale(0.1 -0.1)\">\n       <use xlink:href=\"#DejaVuSans-30\"/>\n       <use x=\"63.623047\" xlink:href=\"#DejaVuSans-2e\"/>\n       <use x=\"95.410156\" xlink:href=\"#DejaVuSans-30\"/>\n      </g>\n     </g>\n    </g>\n    <g id=\"ytick_6\">\n     <g id=\"line2d_12\">\n      <g>\n       <use style=\"stroke:#000000;stroke-width:0.8;\" x=\"38.482813\" xlink:href=\"#m08852b973b\" y=\"72.603218\"/>\n      </g>\n     </g>\n     <g id=\"text_12\">\n      <!-- 0.5 -->\n      <g transform=\"translate(15.579688 76.402436)scale(0.1 -0.1)\">\n       <use xlink:href=\"#DejaVuSans-30\"/>\n       <use x=\"63.623047\" xlink:href=\"#DejaVuSans-2e\"/>\n       <use x=\"95.410156\" xlink:href=\"#DejaVuSans-35\"/>\n      </g>\n     </g>\n    </g>\n    <g id=\"ytick_7\">\n     <g id=\"line2d_13\">\n      <g>\n       <use style=\"stroke:#000000;stroke-width:0.8;\" x=\"38.482813\" xlink:href=\"#m08852b973b\" y=\"43.717827\"/>\n      </g>\n     </g>\n     <g id=\"text_13\">\n      <!-- 1.0 -->\n      <g transform=\"translate(15.579688 47.517046)scale(0.1 -0.1)\">\n       <use xlink:href=\"#DejaVuSans-31\"/>\n       <use x=\"63.623047\" xlink:href=\"#DejaVuSans-2e\"/>\n       <use x=\"95.410156\" xlink:href=\"#DejaVuSans-30\"/>\n      </g>\n     </g>\n    </g>\n    <g id=\"ytick_8\">\n     <g id=\"line2d_14\">\n      <g>\n       <use style=\"stroke:#000000;stroke-width:0.8;\" x=\"38.482813\" xlink:href=\"#m08852b973b\" y=\"14.832436\"/>\n      </g>\n     </g>\n     <g id=\"text_14\">\n      <!-- 1.5 -->\n      <g transform=\"translate(15.579688 18.631655)scale(0.1 -0.1)\">\n       <use xlink:href=\"#DejaVuSans-31\"/>\n       <use x=\"63.623047\" xlink:href=\"#DejaVuSans-2e\"/>\n       <use x=\"95.410156\" xlink:href=\"#DejaVuSans-35\"/>\n      </g>\n     </g>\n    </g>\n   </g>\n   <g id=\"line2d_15\">\n    <path clip-path=\"url(#p3f50cd6bec)\" d=\"M 53.700994 89.904654 \nL 59.912497 25.156876 \nL 66.124 83.583224 \nL 72.335503 40.351827 \nL 78.547005 61.719009 \nL 84.758508 105.04529 \nL 90.970011 113.314545 \nL 97.181514 49.929158 \nL 103.393017 134.139354 \nL 109.604519 88.028716 \nL 115.816022 17.083636 \nL 122.027525 135.122405 \nL 128.239028 94.002702 \nL 134.45053 214.756364 \nL 140.662033 162.733681 \nL 146.873536 141.505983 \nL 153.085039 66.72563 \nL 159.296542 94.148324 \nL 165.508044 101.461101 \nL 171.719547 93.04626 \nL 177.93105 125.607387 \nL 184.142553 128.658523 \nL 190.354056 41.011829 \nL 196.565558 45.536433 \nL 202.777061 78.130121 \nL 208.988564 151.153246 \nL 215.200067 179.763018 \nL 221.411569 29.425752 \nL 227.623072 111.442526 \nL 233.834575 80.049634 \nL 240.046078 174.955286 \nL 246.257581 116.722807 \nL 252.469083 112.751779 \nL 258.680586 156.955686 \nL 264.892089 34.305513 \nL 271.103592 80.253757 \nL 277.315095 132.680602 \nL 283.526597 73.133636 \nL 289.7381 106.30072 \nL 295.949603 135.203196 \nL 302.161106 128.322687 \nL 308.372608 178.976447 \nL 314.584111 176.171711 \nL 320.795614 82.153169 \nL 327.007117 95.969456 \nL 333.21862 70.589814 \nL 339.430122 107.426514 \nL 345.641625 19.613558 \nL 351.853128 60.381805 \nL 358.064631 200.11391 \n\" style=\"fill:none;stroke:#1f77b4;stroke-linecap:square;stroke-width:1.5;\"/>\n   </g>\n   <g id=\"patch_3\">\n    <path d=\"M 38.482813 224.64 \nL 38.482813 7.2 \n\" style=\"fill:none;stroke:#000000;stroke-linecap:square;stroke-linejoin:miter;stroke-width:0.8;\"/>\n   </g>\n   <g id=\"patch_4\">\n    <path d=\"M 373.282813 224.64 \nL 373.282813 7.2 \n\" style=\"fill:none;stroke:#000000;stroke-linecap:square;stroke-linejoin:miter;stroke-width:0.8;\"/>\n   </g>\n   <g id=\"patch_5\">\n    <path d=\"M 38.482813 224.64 \nL 373.282812 224.64 \n\" style=\"fill:none;stroke:#000000;stroke-linecap:square;stroke-linejoin:miter;stroke-width:0.8;\"/>\n   </g>\n   <g id=\"patch_6\">\n    <path d=\"M 38.482813 7.2 \nL 373.282812 7.2 \n\" style=\"fill:none;stroke:#000000;stroke-linecap:square;stroke-linejoin:miter;stroke-width:0.8;\"/>\n   </g>\n  </g>\n </g>\n <defs>\n  <clipPath id=\"p3f50cd6bec\">\n   <rect height=\"217.44\" width=\"334.8\" x=\"38.482813\" y=\"7.2\"/>\n  </clipPath>\n </defs>\n</svg>\n",
            "image/png": "[encoded data removed]"
          },
          "metadata": {
            "needs_background": "light"
          }
        }
      ]
    },
    {
      "cell_type": "markdown",
      "metadata": {
        "id": "q1o0y7U0Krkw"
      },
      "source": [
        "In this sample code we're using the `numpy` library and the `matplotlib` for visualizations.  \n",
        "\n",
        "The first two lines import those libraries.  The last two lines generate an array of random data and generates a plot of this data.\n",
        "\n",
        "Since our data is nice and simple, we don't have to manipulate it, and we've decided to use the default plot.\n",
        "\n",
        "As you can see these libraries are very powerful out of the box.  Much of this course is about how to use these libraries effectively.\n"
      ]
    },
    {
      "source": [
        "# Process\n",
        "\n",
        "Lets go through a simple data analysis project to understand the steps.\n",
        "\n",
        "First, we'll create a new notebook about the solar system.\n",
        "\n",
        "At the top, lets add a text block introducing our analysis.  We'll look at the relationship between mass and diameter of the planets.\n",
        "\n",
        "You can use content from wikipedia or other sources available from googling.\n",
        "\n",
        "Add an image to your markdown displaying the solar system."
      ],
      "cell_type": "markdown",
      "metadata": {}
    },
    {
      "source": [
        "## Extract\n",
        "Lets get some data about the solar system.  Google 'solar system data'.  You may see the [planetary fact sheet](https://nssdc.gsfc.nasa.gov/planetary/factsheet/).  This has some great data about the solar system.\n",
        "\n",
        "Lets draw a bar chart of the different planetary masses.\n",
        "\n",
        "First, we'll copy the data into a normal python data structure.\n",
        "\n",
        "We can copy and paste, then reformat the data.  You can use a python dict or a an array.  \n"
      ],
      "cell_type": "markdown",
      "metadata": {}
    },
    {
      "cell_type": "code",
      "execution_count": 5,
      "metadata": {},
      "outputs": [
        {
          "output_type": "stream",
          "name": "stdout",
          "text": [
            "VENUS 4.87\n"
          ]
        }
      ],
      "source": [
        "\n",
        "names = [\"MERCURY\",\"VENUS\",\"EARTH\",\"MOON\",\"MARS\",\"JUPITER\",\"SATURN\",\"URANUS\",\"NEPTUNE\",\"PLUTO\"]\n",
        "mass = [0.330,4.87,5.97,0.073,0.642,1898,568,86.8,102,0.0146]\n",
        "\n",
        "print (names[1], mass[1])"
      ]
    },
    {
      "source": [
        "This is one way to store our data, but it is not very convenient to access the data related to different planets and manipulate it.  This is where Pandas comes in.  Lets create a pandas data frame from this data."
      ],
      "cell_type": "markdown",
      "metadata": {}
    },
    {
      "cell_type": "code",
      "execution_count": 6,
      "metadata": {},
      "outputs": [
        {
          "output_type": "execute_result",
          "data": {
            "text/plain": [
              "     names       mass\n",
              "0  MERCURY     0.3300\n",
              "1    VENUS     4.8700\n",
              "2    EARTH     5.9700\n",
              "3     MOON     0.0730\n",
              "4     MARS     0.6420\n",
              "5  JUPITER  1898.0000\n",
              "6   SATURN   568.0000\n",
              "7   URANUS    86.8000\n",
              "8  NEPTUNE   102.0000\n",
              "9    PLUTO     0.0146"
            ],
            "text/html": "<div>\n<style scoped>\n    .dataframe tbody tr th:only-of-type {\n        vertical-align: middle;\n    }\n\n    .dataframe tbody tr th {\n        vertical-align: top;\n    }\n\n    .dataframe thead th {\n        text-align: right;\n    }\n</style>\n<table border=\"1\" class=\"dataframe\">\n  <thead>\n    <tr style=\"text-align: right;\">\n      <th></th>\n      <th>names</th>\n      <th>mass</th>\n    </tr>\n  </thead>\n  <tbody>\n    <tr>\n      <th>0</th>\n      <td>MERCURY</td>\n      <td>0.3300</td>\n    </tr>\n    <tr>\n      <th>1</th>\n      <td>VENUS</td>\n      <td>4.8700</td>\n    </tr>\n    <tr>\n      <th>2</th>\n      <td>EARTH</td>\n      <td>5.9700</td>\n    </tr>\n    <tr>\n      <th>3</th>\n      <td>MOON</td>\n      <td>0.0730</td>\n    </tr>\n    <tr>\n      <th>4</th>\n      <td>MARS</td>\n      <td>0.6420</td>\n    </tr>\n    <tr>\n      <th>5</th>\n      <td>JUPITER</td>\n      <td>1898.0000</td>\n    </tr>\n    <tr>\n      <th>6</th>\n      <td>SATURN</td>\n      <td>568.0000</td>\n    </tr>\n    <tr>\n      <th>7</th>\n      <td>URANUS</td>\n      <td>86.8000</td>\n    </tr>\n    <tr>\n      <th>8</th>\n      <td>NEPTUNE</td>\n      <td>102.0000</td>\n    </tr>\n    <tr>\n      <th>9</th>\n      <td>PLUTO</td>\n      <td>0.0146</td>\n    </tr>\n  </tbody>\n</table>\n</div>"
          },
          "metadata": {},
          "execution_count": 6
        }
      ],
      "source": [
        "import pandas as pd\n",
        "\n",
        "planet_df = pd.DataFrame({'names':names, 'mass':mass})\n",
        "planet_df"
      ]
    },
    {
      "source": [
        "We now have our data in a table that is easy to understand.  This data structure is called a DataFrame.  The numbers on the left are the indices into rows, and the columns each have a name.  Lets add another column.\n",
        "\n",
        "Cut and paste and reformat the data from the site, then create an array, and assign it to the column."
      ],
      "cell_type": "markdown",
      "metadata": {}
    },
    {
      "cell_type": "code",
      "execution_count": 7,
      "metadata": {},
      "outputs": [
        {
          "output_type": "execute_result",
          "data": {
            "text/plain": [
              "     names       mass  diameter\n",
              "0  MERCURY     0.3300      4879\n",
              "1    VENUS     4.8700     12104\n",
              "2    EARTH     5.9700     12756\n",
              "3     MOON     0.0730      3475\n",
              "4     MARS     0.6420      6792\n",
              "5  JUPITER  1898.0000    142984\n",
              "6   SATURN   568.0000    120536\n",
              "7   URANUS    86.8000     51118\n",
              "8  NEPTUNE   102.0000     49528\n",
              "9    PLUTO     0.0146      2370"
            ],
            "text/html": "<div>\n<style scoped>\n    .dataframe tbody tr th:only-of-type {\n        vertical-align: middle;\n    }\n\n    .dataframe tbody tr th {\n        vertical-align: top;\n    }\n\n    .dataframe thead th {\n        text-align: right;\n    }\n</style>\n<table border=\"1\" class=\"dataframe\">\n  <thead>\n    <tr style=\"text-align: right;\">\n      <th></th>\n      <th>names</th>\n      <th>mass</th>\n      <th>diameter</th>\n    </tr>\n  </thead>\n  <tbody>\n    <tr>\n      <th>0</th>\n      <td>MERCURY</td>\n      <td>0.3300</td>\n      <td>4879</td>\n    </tr>\n    <tr>\n      <th>1</th>\n      <td>VENUS</td>\n      <td>4.8700</td>\n      <td>12104</td>\n    </tr>\n    <tr>\n      <th>2</th>\n      <td>EARTH</td>\n      <td>5.9700</td>\n      <td>12756</td>\n    </tr>\n    <tr>\n      <th>3</th>\n      <td>MOON</td>\n      <td>0.0730</td>\n      <td>3475</td>\n    </tr>\n    <tr>\n      <th>4</th>\n      <td>MARS</td>\n      <td>0.6420</td>\n      <td>6792</td>\n    </tr>\n    <tr>\n      <th>5</th>\n      <td>JUPITER</td>\n      <td>1898.0000</td>\n      <td>142984</td>\n    </tr>\n    <tr>\n      <th>6</th>\n      <td>SATURN</td>\n      <td>568.0000</td>\n      <td>120536</td>\n    </tr>\n    <tr>\n      <th>7</th>\n      <td>URANUS</td>\n      <td>86.8000</td>\n      <td>51118</td>\n    </tr>\n    <tr>\n      <th>8</th>\n      <td>NEPTUNE</td>\n      <td>102.0000</td>\n      <td>49528</td>\n    </tr>\n    <tr>\n      <th>9</th>\n      <td>PLUTO</td>\n      <td>0.0146</td>\n      <td>2370</td>\n    </tr>\n  </tbody>\n</table>\n</div>"
          },
          "metadata": {},
          "execution_count": 7
        }
      ],
      "source": [
        "diameter = [4879,12104,12756,3475,6792,142984,120536,51118,49528,2370]\n",
        "planet_df['diameter'] = diameter\n",
        "planet_df"
      ]
    },
    {
      "cell_type": "code",
      "execution_count": 8,
      "metadata": {},
      "outputs": [
        {
          "output_type": "execute_result",
          "data": {
            "text/plain": [
              "     names  mass  diameter\n",
              "0  MERCURY  0.33      4879\n",
              "1    VENUS  4.87     12104"
            ],
            "text/html": "<div>\n<style scoped>\n    .dataframe tbody tr th:only-of-type {\n        vertical-align: middle;\n    }\n\n    .dataframe tbody tr th {\n        vertical-align: top;\n    }\n\n    .dataframe thead th {\n        text-align: right;\n    }\n</style>\n<table border=\"1\" class=\"dataframe\">\n  <thead>\n    <tr style=\"text-align: right;\">\n      <th></th>\n      <th>names</th>\n      <th>mass</th>\n      <th>diameter</th>\n    </tr>\n  </thead>\n  <tbody>\n    <tr>\n      <th>0</th>\n      <td>MERCURY</td>\n      <td>0.33</td>\n      <td>4879</td>\n    </tr>\n    <tr>\n      <th>1</th>\n      <td>VENUS</td>\n      <td>4.87</td>\n      <td>12104</td>\n    </tr>\n  </tbody>\n</table>\n</div>"
          },
          "metadata": {},
          "execution_count": 8
        }
      ],
      "source": [
        "planet_df[:2]"
      ]
    },
    {
      "source": [
        "## Wrangling\n",
        "\n",
        "Now that we have the data in a nice table we can access it using slicing, but it wold be better to access data in columns by the planet name.  Lets change the index to the `name` column."
      ],
      "cell_type": "markdown",
      "metadata": {}
    },
    {
      "cell_type": "code",
      "execution_count": 9,
      "metadata": {},
      "outputs": [
        {
          "output_type": "execute_result",
          "data": {
            "text/plain": [
              "              mass  diameter\n",
              "names                       \n",
              "MERCURY     0.3300      4879\n",
              "VENUS       4.8700     12104\n",
              "EARTH       5.9700     12756\n",
              "MOON        0.0730      3475\n",
              "MARS        0.6420      6792\n",
              "JUPITER  1898.0000    142984\n",
              "SATURN    568.0000    120536\n",
              "URANUS     86.8000     51118\n",
              "NEPTUNE   102.0000     49528\n",
              "PLUTO       0.0146      2370"
            ],
            "text/html": "<div>\n<style scoped>\n    .dataframe tbody tr th:only-of-type {\n        vertical-align: middle;\n    }\n\n    .dataframe tbody tr th {\n        vertical-align: top;\n    }\n\n    .dataframe thead th {\n        text-align: right;\n    }\n</style>\n<table border=\"1\" class=\"dataframe\">\n  <thead>\n    <tr style=\"text-align: right;\">\n      <th></th>\n      <th>mass</th>\n      <th>diameter</th>\n    </tr>\n    <tr>\n      <th>names</th>\n      <th></th>\n      <th></th>\n    </tr>\n  </thead>\n  <tbody>\n    <tr>\n      <th>MERCURY</th>\n      <td>0.3300</td>\n      <td>4879</td>\n    </tr>\n    <tr>\n      <th>VENUS</th>\n      <td>4.8700</td>\n      <td>12104</td>\n    </tr>\n    <tr>\n      <th>EARTH</th>\n      <td>5.9700</td>\n      <td>12756</td>\n    </tr>\n    <tr>\n      <th>MOON</th>\n      <td>0.0730</td>\n      <td>3475</td>\n    </tr>\n    <tr>\n      <th>MARS</th>\n      <td>0.6420</td>\n      <td>6792</td>\n    </tr>\n    <tr>\n      <th>JUPITER</th>\n      <td>1898.0000</td>\n      <td>142984</td>\n    </tr>\n    <tr>\n      <th>SATURN</th>\n      <td>568.0000</td>\n      <td>120536</td>\n    </tr>\n    <tr>\n      <th>URANUS</th>\n      <td>86.8000</td>\n      <td>51118</td>\n    </tr>\n    <tr>\n      <th>NEPTUNE</th>\n      <td>102.0000</td>\n      <td>49528</td>\n    </tr>\n    <tr>\n      <th>PLUTO</th>\n      <td>0.0146</td>\n      <td>2370</td>\n    </tr>\n  </tbody>\n</table>\n</div>"
          },
          "metadata": {},
          "execution_count": 9
        }
      ],
      "source": [
        "planet_df.set_index('names', inplace=True)\n",
        "planet_df"
      ]
    },
    {
      "source": [
        "Awesome.  Our data is wrangled and in good shape.  We can now access data using the row and column keys."
      ],
      "cell_type": "markdown",
      "metadata": {}
    },
    {
      "cell_type": "code",
      "execution_count": 10,
      "metadata": {},
      "outputs": [
        {
          "output_type": "execute_result",
          "data": {
            "text/plain": [
              "6792"
            ]
          },
          "metadata": {},
          "execution_count": 10
        }
      ],
      "source": [
        "planet_df.loc['MARS','diameter']"
      ]
    },
    {
      "source": [
        "## Analysis\n",
        "\n",
        "Now that we have some numbers we can use visualizations to get a better understanding of what they mean.  First, lets look at them on their own."
      ],
      "cell_type": "markdown",
      "metadata": {}
    },
    {
      "cell_type": "code",
      "execution_count": 11,
      "metadata": {},
      "outputs": [
        {
          "output_type": "execute_result",
          "data": {
            "text/plain": [
              "<AxesSubplot:ylabel='names'>"
            ]
          },
          "metadata": {},
          "execution_count": 11
        },
        {
          "output_type": "display_data",
          "data": {
            "text/plain": "<Figure size 432x288 with 1 Axes>",
            "image/svg+xml": "<?xml version=\"1.0\" encoding=\"utf-8\" standalone=\"no\"?>\n<!DOCTYPE svg PUBLIC \"-//W3C//DTD SVG 1.1//EN\"\n  \"http://www.w3.org/Graphics/SVG/1.1/DTD/svg11.dtd\">\n<svg height=\"248.518125pt\" version=\"1.1\" viewBox=\"0 0 417.99375 248.518125\" width=\"417.99375pt\" xmlns=\"http://www.w3.org/2000/svg\" xmlns:xlink=\"http://www.w3.org/1999/xlink\">\n <metadata>\n  <rdf:RDF xmlns:cc=\"http://creativecommons.org/ns#\" xmlns:dc=\"http://purl.org/dc/elements/1.1/\" xmlns:rdf=\"http://www.w3.org/1999/02/22-rdf-syntax-ns#\">\n   <cc:Work>\n    <dc:type rdf:resource=\"http://purl.org/dc/dcmitype/StillImage\"/>\n    <dc:date>2021-06-20T09:41:36.631158</dc:date>\n    <dc:format>image/svg+xml</dc:format>\n    <dc:creator>\n     <cc:Agent>\n      <dc:title>Matplotlib v3.4.2, https://matplotlib.org/</dc:title>\n     </cc:Agent>\n    </dc:creator>\n   </cc:Work>\n  </rdf:RDF>\n </metadata>\n <defs>\n  <style type=\"text/css\">*{stroke-linecap:butt;stroke-linejoin:round;}</style>\n </defs>\n <g id=\"figure_1\">\n  <g id=\"patch_1\">\n   <path d=\"M 0 248.518125 \nL 417.99375 248.518125 \nL 417.99375 0 \nL 0 0 \nz\n\" style=\"fill:none;\"/>\n  </g>\n  <g id=\"axes_1\">\n   <g id=\"patch_2\">\n    <path d=\"M 75.99375 224.64 \nL 410.79375 224.64 \nL 410.79375 7.2 \nL 75.99375 7.2 \nz\n\" style=\"fill:#ffffff;\"/>\n   </g>\n   <g id=\"patch_3\">\n    <path clip-path=\"url(#p4defbc8e93)\" d=\"M 75.99375 219.204 \nL 76.049189 219.204 \nL 76.049189 208.332 \nL 75.99375 208.332 \nz\n\" style=\"fill:#1f77b4;\"/>\n   </g>\n   <g id=\"patch_4\">\n    <path clip-path=\"url(#p4defbc8e93)\" d=\"M 75.99375 197.46 \nL 76.811892 197.46 \nL 76.811892 186.588 \nL 75.99375 186.588 \nz\n\" style=\"fill:#1f77b4;\"/>\n   </g>\n   <g id=\"patch_5\">\n    <path clip-path=\"url(#p4defbc8e93)\" d=\"M 75.99375 175.716 \nL 76.996688 175.716 \nL 76.996688 164.844 \nL 75.99375 164.844 \nz\n\" style=\"fill:#1f77b4;\"/>\n   </g>\n   <g id=\"patch_6\">\n    <path clip-path=\"url(#p4defbc8e93)\" d=\"M 75.99375 153.972 \nL 76.006014 153.972 \nL 76.006014 143.1 \nL 75.99375 143.1 \nz\n\" style=\"fill:#1f77b4;\"/>\n   </g>\n   <g id=\"patch_7\">\n    <path clip-path=\"url(#p4defbc8e93)\" d=\"M 75.99375 132.228 \nL 76.101604 132.228 \nL 76.101604 121.356 \nL 75.99375 121.356 \nz\n\" style=\"fill:#1f77b4;\"/>\n   </g>\n   <g id=\"patch_8\">\n    <path clip-path=\"url(#p4defbc8e93)\" d=\"M 75.99375 110.484 \nL 394.850893 110.484 \nL 394.850893 99.612 \nL 75.99375 99.612 \nz\n\" style=\"fill:#1f77b4;\"/>\n   </g>\n   <g id=\"patch_9\">\n    <path clip-path=\"url(#p4defbc8e93)\" d=\"M 75.99375 88.74 \nL 171.415698 88.74 \nL 171.415698 77.868 \nL 75.99375 77.868 \nz\n\" style=\"fill:#1f77b4;\"/>\n   </g>\n   <g id=\"patch_10\">\n    <path clip-path=\"url(#p4defbc8e93)\" d=\"M 75.99375 66.996 \nL 90.575836 66.996 \nL 90.575836 56.124 \nL 75.99375 56.124 \nz\n\" style=\"fill:#1f77b4;\"/>\n   </g>\n   <g id=\"patch_11\">\n    <path clip-path=\"url(#p4defbc8e93)\" d=\"M 75.99375 45.252 \nL 93.129381 45.252 \nL 93.129381 34.38 \nL 75.99375 34.38 \nz\n\" style=\"fill:#1f77b4;\"/>\n   </g>\n   <g id=\"patch_12\">\n    <path clip-path=\"url(#p4defbc8e93)\" d=\"M 75.99375 23.508 \nL 75.996203 23.508 \nL 75.996203 12.636 \nL 75.99375 12.636 \nz\n\" style=\"fill:#1f77b4;\"/>\n   </g>\n   <g id=\"matplotlib.axis_1\">\n    <g id=\"xtick_1\">\n     <g id=\"line2d_1\">\n      <defs>\n       <path d=\"M 0 0 \nL 0 3.5 \n\" id=\"m5b0c5b15fc\" style=\"stroke:#000000;stroke-width:0.8;\"/>\n      </defs>\n      <g>\n       <use style=\"stroke:#000000;stroke-width:0.8;\" x=\"75.99375\" xlink:href=\"#m5b0c5b15fc\" y=\"224.64\"/>\n      </g>\n     </g>\n     <g id=\"text_1\">\n      <!-- 0 -->\n      <g transform=\"translate(72.8125 239.238437)scale(0.1 -0.1)\">\n       <defs>\n        <path d=\"M 2034 4250 \nQ 1547 4250 1301 3770 \nQ 1056 3291 1056 2328 \nQ 1056 1369 1301 889 \nQ 1547 409 2034 409 \nQ 2525 409 2770 889 \nQ 3016 1369 3016 2328 \nQ 3016 3291 2770 3770 \nQ 2525 4250 2034 4250 \nz\nM 2034 4750 \nQ 2819 4750 3233 4129 \nQ 3647 3509 3647 2328 \nQ 3647 1150 3233 529 \nQ 2819 -91 2034 -91 \nQ 1250 -91 836 529 \nQ 422 1150 422 2328 \nQ 422 3509 836 4129 \nQ 1250 4750 2034 4750 \nz\n\" id=\"DejaVuSans-30\" transform=\"scale(0.015625)\"/>\n       </defs>\n       <use xlink:href=\"#DejaVuSans-30\"/>\n      </g>\n     </g>\n    </g>\n    <g id=\"xtick_2\">\n     <g id=\"line2d_2\">\n      <g>\n       <use style=\"stroke:#000000;stroke-width:0.8;\" x=\"117.992847\" xlink:href=\"#m5b0c5b15fc\" y=\"224.64\"/>\n      </g>\n     </g>\n     <g id=\"text_2\">\n      <!-- 250 -->\n      <g transform=\"translate(108.449097 239.238437)scale(0.1 -0.1)\">\n       <defs>\n        <path d=\"M 1228 531 \nL 3431 531 \nL 3431 0 \nL 469 0 \nL 469 531 \nQ 828 903 1448 1529 \nQ 2069 2156 2228 2338 \nQ 2531 2678 2651 2914 \nQ 2772 3150 2772 3378 \nQ 2772 3750 2511 3984 \nQ 2250 4219 1831 4219 \nQ 1534 4219 1204 4116 \nQ 875 4013 500 3803 \nL 500 4441 \nQ 881 4594 1212 4672 \nQ 1544 4750 1819 4750 \nQ 2544 4750 2975 4387 \nQ 3406 4025 3406 3419 \nQ 3406 3131 3298 2873 \nQ 3191 2616 2906 2266 \nQ 2828 2175 2409 1742 \nQ 1991 1309 1228 531 \nz\n\" id=\"DejaVuSans-32\" transform=\"scale(0.015625)\"/>\n        <path d=\"M 691 4666 \nL 3169 4666 \nL 3169 4134 \nL 1269 4134 \nL 1269 2991 \nQ 1406 3038 1543 3061 \nQ 1681 3084 1819 3084 \nQ 2600 3084 3056 2656 \nQ 3513 2228 3513 1497 \nQ 3513 744 3044 326 \nQ 2575 -91 1722 -91 \nQ 1428 -91 1123 -41 \nQ 819 9 494 109 \nL 494 744 \nQ 775 591 1075 516 \nQ 1375 441 1709 441 \nQ 2250 441 2565 725 \nQ 2881 1009 2881 1497 \nQ 2881 1984 2565 2268 \nQ 2250 2553 1709 2553 \nQ 1456 2553 1204 2497 \nQ 953 2441 691 2322 \nL 691 4666 \nz\n\" id=\"DejaVuSans-35\" transform=\"scale(0.015625)\"/>\n       </defs>\n       <use xlink:href=\"#DejaVuSans-32\"/>\n       <use x=\"63.623047\" xlink:href=\"#DejaVuSans-35\"/>\n       <use x=\"127.246094\" xlink:href=\"#DejaVuSans-30\"/>\n      </g>\n     </g>\n    </g>\n    <g id=\"xtick_3\">\n     <g id=\"line2d_3\">\n      <g>\n       <use style=\"stroke:#000000;stroke-width:0.8;\" x=\"159.991944\" xlink:href=\"#m5b0c5b15fc\" y=\"224.64\"/>\n      </g>\n     </g>\n     <g id=\"text_3\">\n      <!-- 500 -->\n      <g transform=\"translate(150.448194 239.238437)scale(0.1 -0.1)\">\n       <use xlink:href=\"#DejaVuSans-35\"/>\n       <use x=\"63.623047\" xlink:href=\"#DejaVuSans-30\"/>\n       <use x=\"127.246094\" xlink:href=\"#DejaVuSans-30\"/>\n      </g>\n     </g>\n    </g>\n    <g id=\"xtick_4\">\n     <g id=\"line2d_4\">\n      <g>\n       <use style=\"stroke:#000000;stroke-width:0.8;\" x=\"201.99104\" xlink:href=\"#m5b0c5b15fc\" y=\"224.64\"/>\n      </g>\n     </g>\n     <g id=\"text_4\">\n      <!-- 750 -->\n      <g transform=\"translate(192.44729 239.238437)scale(0.1 -0.1)\">\n       <defs>\n        <path d=\"M 525 4666 \nL 3525 4666 \nL 3525 4397 \nL 1831 0 \nL 1172 0 \nL 2766 4134 \nL 525 4134 \nL 525 4666 \nz\n\" id=\"DejaVuSans-37\" transform=\"scale(0.015625)\"/>\n       </defs>\n       <use xlink:href=\"#DejaVuSans-37\"/>\n       <use x=\"63.623047\" xlink:href=\"#DejaVuSans-35\"/>\n       <use x=\"127.246094\" xlink:href=\"#DejaVuSans-30\"/>\n      </g>\n     </g>\n    </g>\n    <g id=\"xtick_5\">\n     <g id=\"line2d_5\">\n      <g>\n       <use style=\"stroke:#000000;stroke-width:0.8;\" x=\"243.990137\" xlink:href=\"#m5b0c5b15fc\" y=\"224.64\"/>\n      </g>\n     </g>\n     <g id=\"text_5\">\n      <!-- 1000 -->\n      <g transform=\"translate(231.265137 239.238437)scale(0.1 -0.1)\">\n       <defs>\n        <path d=\"M 794 531 \nL 1825 531 \nL 1825 4091 \nL 703 3866 \nL 703 4441 \nL 1819 4666 \nL 2450 4666 \nL 2450 531 \nL 3481 531 \nL 3481 0 \nL 794 0 \nL 794 531 \nz\n\" id=\"DejaVuSans-31\" transform=\"scale(0.015625)\"/>\n       </defs>\n       <use xlink:href=\"#DejaVuSans-31\"/>\n       <use x=\"63.623047\" xlink:href=\"#DejaVuSans-30\"/>\n       <use x=\"127.246094\" xlink:href=\"#DejaVuSans-30\"/>\n       <use x=\"190.869141\" xlink:href=\"#DejaVuSans-30\"/>\n      </g>\n     </g>\n    </g>\n    <g id=\"xtick_6\">\n     <g id=\"line2d_6\">\n      <g>\n       <use style=\"stroke:#000000;stroke-width:0.8;\" x=\"285.989234\" xlink:href=\"#m5b0c5b15fc\" y=\"224.64\"/>\n      </g>\n     </g>\n     <g id=\"text_6\">\n      <!-- 1250 -->\n      <g transform=\"translate(273.264234 239.238437)scale(0.1 -0.1)\">\n       <use xlink:href=\"#DejaVuSans-31\"/>\n       <use x=\"63.623047\" xlink:href=\"#DejaVuSans-32\"/>\n       <use x=\"127.246094\" xlink:href=\"#DejaVuSans-35\"/>\n       <use x=\"190.869141\" xlink:href=\"#DejaVuSans-30\"/>\n      </g>\n     </g>\n    </g>\n    <g id=\"xtick_7\">\n     <g id=\"line2d_7\">\n      <g>\n       <use style=\"stroke:#000000;stroke-width:0.8;\" x=\"327.988331\" xlink:href=\"#m5b0c5b15fc\" y=\"224.64\"/>\n      </g>\n     </g>\n     <g id=\"text_7\">\n      <!-- 1500 -->\n      <g transform=\"translate(315.263331 239.238437)scale(0.1 -0.1)\">\n       <use xlink:href=\"#DejaVuSans-31\"/>\n       <use x=\"63.623047\" xlink:href=\"#DejaVuSans-35\"/>\n       <use x=\"127.246094\" xlink:href=\"#DejaVuSans-30\"/>\n       <use x=\"190.869141\" xlink:href=\"#DejaVuSans-30\"/>\n      </g>\n     </g>\n    </g>\n    <g id=\"xtick_8\">\n     <g id=\"line2d_8\">\n      <g>\n       <use style=\"stroke:#000000;stroke-width:0.8;\" x=\"369.987428\" xlink:href=\"#m5b0c5b15fc\" y=\"224.64\"/>\n      </g>\n     </g>\n     <g id=\"text_8\">\n      <!-- 1750 -->\n      <g transform=\"translate(357.262428 239.238437)scale(0.1 -0.1)\">\n       <use xlink:href=\"#DejaVuSans-31\"/>\n       <use x=\"63.623047\" xlink:href=\"#DejaVuSans-37\"/>\n       <use x=\"127.246094\" xlink:href=\"#DejaVuSans-35\"/>\n       <use x=\"190.869141\" xlink:href=\"#DejaVuSans-30\"/>\n      </g>\n     </g>\n    </g>\n   </g>\n   <g id=\"matplotlib.axis_2\">\n    <g id=\"ytick_1\">\n     <g id=\"line2d_9\">\n      <defs>\n       <path d=\"M 0 0 \nL -3.5 0 \n\" id=\"m3407c43025\" style=\"stroke:#000000;stroke-width:0.8;\"/>\n      </defs>\n      <g>\n       <use style=\"stroke:#000000;stroke-width:0.8;\" x=\"75.99375\" xlink:href=\"#m3407c43025\" y=\"213.768\"/>\n      </g>\n     </g>\n     <g id=\"text_9\">\n      <!-- MERCURY -->\n      <g transform=\"translate(20.878125 217.567219)scale(0.1 -0.1)\">\n       <defs>\n        <path d=\"M 628 4666 \nL 1569 4666 \nL 2759 1491 \nL 3956 4666 \nL 4897 4666 \nL 4897 0 \nL 4281 0 \nL 4281 4097 \nL 3078 897 \nL 2444 897 \nL 1241 4097 \nL 1241 0 \nL 628 0 \nL 628 4666 \nz\n\" id=\"DejaVuSans-4d\" transform=\"scale(0.015625)\"/>\n        <path d=\"M 628 4666 \nL 3578 4666 \nL 3578 4134 \nL 1259 4134 \nL 1259 2753 \nL 3481 2753 \nL 3481 2222 \nL 1259 2222 \nL 1259 531 \nL 3634 531 \nL 3634 0 \nL 628 0 \nL 628 4666 \nz\n\" id=\"DejaVuSans-45\" transform=\"scale(0.015625)\"/>\n        <path d=\"M 2841 2188 \nQ 3044 2119 3236 1894 \nQ 3428 1669 3622 1275 \nL 4263 0 \nL 3584 0 \nL 2988 1197 \nQ 2756 1666 2539 1819 \nQ 2322 1972 1947 1972 \nL 1259 1972 \nL 1259 0 \nL 628 0 \nL 628 4666 \nL 2053 4666 \nQ 2853 4666 3247 4331 \nQ 3641 3997 3641 3322 \nQ 3641 2881 3436 2590 \nQ 3231 2300 2841 2188 \nz\nM 1259 4147 \nL 1259 2491 \nL 2053 2491 \nQ 2509 2491 2742 2702 \nQ 2975 2913 2975 3322 \nQ 2975 3731 2742 3939 \nQ 2509 4147 2053 4147 \nL 1259 4147 \nz\n\" id=\"DejaVuSans-52\" transform=\"scale(0.015625)\"/>\n        <path d=\"M 4122 4306 \nL 4122 3641 \nQ 3803 3938 3442 4084 \nQ 3081 4231 2675 4231 \nQ 1875 4231 1450 3742 \nQ 1025 3253 1025 2328 \nQ 1025 1406 1450 917 \nQ 1875 428 2675 428 \nQ 3081 428 3442 575 \nQ 3803 722 4122 1019 \nL 4122 359 \nQ 3791 134 3420 21 \nQ 3050 -91 2638 -91 \nQ 1578 -91 968 557 \nQ 359 1206 359 2328 \nQ 359 3453 968 4101 \nQ 1578 4750 2638 4750 \nQ 3056 4750 3426 4639 \nQ 3797 4528 4122 4306 \nz\n\" id=\"DejaVuSans-43\" transform=\"scale(0.015625)\"/>\n        <path d=\"M 556 4666 \nL 1191 4666 \nL 1191 1831 \nQ 1191 1081 1462 751 \nQ 1734 422 2344 422 \nQ 2950 422 3222 751 \nQ 3494 1081 3494 1831 \nL 3494 4666 \nL 4128 4666 \nL 4128 1753 \nQ 4128 841 3676 375 \nQ 3225 -91 2344 -91 \nQ 1459 -91 1007 375 \nQ 556 841 556 1753 \nL 556 4666 \nz\n\" id=\"DejaVuSans-55\" transform=\"scale(0.015625)\"/>\n        <path d=\"M -13 4666 \nL 666 4666 \nL 1959 2747 \nL 3244 4666 \nL 3922 4666 \nL 2272 2222 \nL 2272 0 \nL 1638 0 \nL 1638 2222 \nL -13 4666 \nz\n\" id=\"DejaVuSans-59\" transform=\"scale(0.015625)\"/>\n       </defs>\n       <use xlink:href=\"#DejaVuSans-4d\"/>\n       <use x=\"86.279297\" xlink:href=\"#DejaVuSans-45\"/>\n       <use x=\"149.462891\" xlink:href=\"#DejaVuSans-52\"/>\n       <use x=\"213.945312\" xlink:href=\"#DejaVuSans-43\"/>\n       <use x=\"283.769531\" xlink:href=\"#DejaVuSans-55\"/>\n       <use x=\"356.962891\" xlink:href=\"#DejaVuSans-52\"/>\n       <use x=\"420.070312\" xlink:href=\"#DejaVuSans-59\"/>\n      </g>\n     </g>\n    </g>\n    <g id=\"ytick_2\">\n     <g id=\"line2d_10\">\n      <g>\n       <use style=\"stroke:#000000;stroke-width:0.8;\" x=\"75.99375\" xlink:href=\"#m3407c43025\" y=\"192.024\"/>\n      </g>\n     </g>\n     <g id=\"text_10\">\n      <!-- VENUS -->\n      <g transform=\"translate(34.685938 195.823219)scale(0.1 -0.1)\">\n       <defs>\n        <path d=\"M 1831 0 \nL 50 4666 \nL 709 4666 \nL 2188 738 \nL 3669 4666 \nL 4325 4666 \nL 2547 0 \nL 1831 0 \nz\n\" id=\"DejaVuSans-56\" transform=\"scale(0.015625)\"/>\n        <path d=\"M 628 4666 \nL 1478 4666 \nL 3547 763 \nL 3547 4666 \nL 4159 4666 \nL 4159 0 \nL 3309 0 \nL 1241 3903 \nL 1241 0 \nL 628 0 \nL 628 4666 \nz\n\" id=\"DejaVuSans-4e\" transform=\"scale(0.015625)\"/>\n        <path d=\"M 3425 4513 \nL 3425 3897 \nQ 3066 4069 2747 4153 \nQ 2428 4238 2131 4238 \nQ 1616 4238 1336 4038 \nQ 1056 3838 1056 3469 \nQ 1056 3159 1242 3001 \nQ 1428 2844 1947 2747 \nL 2328 2669 \nQ 3034 2534 3370 2195 \nQ 3706 1856 3706 1288 \nQ 3706 609 3251 259 \nQ 2797 -91 1919 -91 \nQ 1588 -91 1214 -16 \nQ 841 59 441 206 \nL 441 856 \nQ 825 641 1194 531 \nQ 1563 422 1919 422 \nQ 2459 422 2753 634 \nQ 3047 847 3047 1241 \nQ 3047 1584 2836 1778 \nQ 2625 1972 2144 2069 \nL 1759 2144 \nQ 1053 2284 737 2584 \nQ 422 2884 422 3419 \nQ 422 4038 858 4394 \nQ 1294 4750 2059 4750 \nQ 2388 4750 2728 4690 \nQ 3069 4631 3425 4513 \nz\n\" id=\"DejaVuSans-53\" transform=\"scale(0.015625)\"/>\n       </defs>\n       <use xlink:href=\"#DejaVuSans-56\"/>\n       <use x=\"68.408203\" xlink:href=\"#DejaVuSans-45\"/>\n       <use x=\"131.591797\" xlink:href=\"#DejaVuSans-4e\"/>\n       <use x=\"206.396484\" xlink:href=\"#DejaVuSans-55\"/>\n       <use x=\"279.589844\" xlink:href=\"#DejaVuSans-53\"/>\n      </g>\n     </g>\n    </g>\n    <g id=\"ytick_3\">\n     <g id=\"line2d_11\">\n      <g>\n       <use style=\"stroke:#000000;stroke-width:0.8;\" x=\"75.99375\" xlink:href=\"#m3407c43025\" y=\"170.28\"/>\n      </g>\n     </g>\n     <g id=\"text_11\">\n      <!-- EARTH -->\n      <g transform=\"translate(35.982813 174.079219)scale(0.1 -0.1)\">\n       <defs>\n        <path d=\"M 2188 4044 \nL 1331 1722 \nL 3047 1722 \nL 2188 4044 \nz\nM 1831 4666 \nL 2547 4666 \nL 4325 0 \nL 3669 0 \nL 3244 1197 \nL 1141 1197 \nL 716 0 \nL 50 0 \nL 1831 4666 \nz\n\" id=\"DejaVuSans-41\" transform=\"scale(0.015625)\"/>\n        <path d=\"M -19 4666 \nL 3928 4666 \nL 3928 4134 \nL 2272 4134 \nL 2272 0 \nL 1638 0 \nL 1638 4134 \nL -19 4134 \nL -19 4666 \nz\n\" id=\"DejaVuSans-54\" transform=\"scale(0.015625)\"/>\n        <path d=\"M 628 4666 \nL 1259 4666 \nL 1259 2753 \nL 3553 2753 \nL 3553 4666 \nL 4184 4666 \nL 4184 0 \nL 3553 0 \nL 3553 2222 \nL 1259 2222 \nL 1259 0 \nL 628 0 \nL 628 4666 \nz\n\" id=\"DejaVuSans-48\" transform=\"scale(0.015625)\"/>\n       </defs>\n       <use xlink:href=\"#DejaVuSans-45\"/>\n       <use x=\"63.183594\" xlink:href=\"#DejaVuSans-41\"/>\n       <use x=\"131.591797\" xlink:href=\"#DejaVuSans-52\"/>\n       <use x=\"193.824219\" xlink:href=\"#DejaVuSans-54\"/>\n       <use x=\"254.908203\" xlink:href=\"#DejaVuSans-48\"/>\n      </g>\n     </g>\n    </g>\n    <g id=\"ytick_4\">\n     <g id=\"line2d_12\">\n      <g>\n       <use style=\"stroke:#000000;stroke-width:0.8;\" x=\"75.99375\" xlink:href=\"#m3407c43025\" y=\"148.536\"/>\n      </g>\n     </g>\n     <g id=\"text_12\">\n      <!-- MOON -->\n      <g transform=\"translate(37.140625 152.335219)scale(0.1 -0.1)\">\n       <defs>\n        <path d=\"M 2522 4238 \nQ 1834 4238 1429 3725 \nQ 1025 3213 1025 2328 \nQ 1025 1447 1429 934 \nQ 1834 422 2522 422 \nQ 3209 422 3611 934 \nQ 4013 1447 4013 2328 \nQ 4013 3213 3611 3725 \nQ 3209 4238 2522 4238 \nz\nM 2522 4750 \nQ 3503 4750 4090 4092 \nQ 4678 3434 4678 2328 \nQ 4678 1225 4090 567 \nQ 3503 -91 2522 -91 \nQ 1538 -91 948 565 \nQ 359 1222 359 2328 \nQ 359 3434 948 4092 \nQ 1538 4750 2522 4750 \nz\n\" id=\"DejaVuSans-4f\" transform=\"scale(0.015625)\"/>\n       </defs>\n       <use xlink:href=\"#DejaVuSans-4d\"/>\n       <use x=\"86.279297\" xlink:href=\"#DejaVuSans-4f\"/>\n       <use x=\"164.990234\" xlink:href=\"#DejaVuSans-4f\"/>\n       <use x=\"243.701172\" xlink:href=\"#DejaVuSans-4e\"/>\n      </g>\n     </g>\n    </g>\n    <g id=\"ytick_5\">\n     <g id=\"line2d_13\">\n      <g>\n       <use style=\"stroke:#000000;stroke-width:0.8;\" x=\"75.99375\" xlink:href=\"#m3407c43025\" y=\"126.792\"/>\n      </g>\n     </g>\n     <g id=\"text_13\">\n      <!-- MARS -->\n      <g transform=\"translate(40.228125 130.591219)scale(0.1 -0.1)\">\n       <use xlink:href=\"#DejaVuSans-4d\"/>\n       <use x=\"86.279297\" xlink:href=\"#DejaVuSans-41\"/>\n       <use x=\"154.6875\" xlink:href=\"#DejaVuSans-52\"/>\n       <use x=\"224.169922\" xlink:href=\"#DejaVuSans-53\"/>\n      </g>\n     </g>\n    </g>\n    <g id=\"ytick_6\">\n     <g id=\"line2d_14\">\n      <g>\n       <use style=\"stroke:#000000;stroke-width:0.8;\" x=\"75.99375\" xlink:href=\"#m3407c43025\" y=\"105.048\"/>\n      </g>\n     </g>\n     <g id=\"text_14\">\n      <!-- JUPITER -->\n      <g transform=\"translate(30.370313 108.847219)scale(0.1 -0.1)\">\n       <defs>\n        <path d=\"M 628 4666 \nL 1259 4666 \nL 1259 325 \nQ 1259 -519 939 -900 \nQ 619 -1281 -91 -1281 \nL -331 -1281 \nL -331 -750 \nL -134 -750 \nQ 284 -750 456 -515 \nQ 628 -281 628 325 \nL 628 4666 \nz\n\" id=\"DejaVuSans-4a\" transform=\"scale(0.015625)\"/>\n        <path d=\"M 1259 4147 \nL 1259 2394 \nL 2053 2394 \nQ 2494 2394 2734 2622 \nQ 2975 2850 2975 3272 \nQ 2975 3691 2734 3919 \nQ 2494 4147 2053 4147 \nL 1259 4147 \nz\nM 628 4666 \nL 2053 4666 \nQ 2838 4666 3239 4311 \nQ 3641 3956 3641 3272 \nQ 3641 2581 3239 2228 \nQ 2838 1875 2053 1875 \nL 1259 1875 \nL 1259 0 \nL 628 0 \nL 628 4666 \nz\n\" id=\"DejaVuSans-50\" transform=\"scale(0.015625)\"/>\n        <path d=\"M 628 4666 \nL 1259 4666 \nL 1259 0 \nL 628 0 \nL 628 4666 \nz\n\" id=\"DejaVuSans-49\" transform=\"scale(0.015625)\"/>\n       </defs>\n       <use xlink:href=\"#DejaVuSans-4a\"/>\n       <use x=\"29.492188\" xlink:href=\"#DejaVuSans-55\"/>\n       <use x=\"102.685547\" xlink:href=\"#DejaVuSans-50\"/>\n       <use x=\"162.988281\" xlink:href=\"#DejaVuSans-49\"/>\n       <use x=\"192.480469\" xlink:href=\"#DejaVuSans-54\"/>\n       <use x=\"253.564453\" xlink:href=\"#DejaVuSans-45\"/>\n       <use x=\"316.748047\" xlink:href=\"#DejaVuSans-52\"/>\n      </g>\n     </g>\n    </g>\n    <g id=\"ytick_7\">\n     <g id=\"line2d_15\">\n      <g>\n       <use style=\"stroke:#000000;stroke-width:0.8;\" x=\"75.99375\" xlink:href=\"#m3407c43025\" y=\"83.304\"/>\n      </g>\n     </g>\n     <g id=\"text_15\">\n      <!-- SATURN -->\n      <g transform=\"translate(28.535938 87.103219)scale(0.1 -0.1)\">\n       <use xlink:href=\"#DejaVuSans-53\"/>\n       <use x=\"65.351562\" xlink:href=\"#DejaVuSans-41\"/>\n       <use x=\"126.009766\" xlink:href=\"#DejaVuSans-54\"/>\n       <use x=\"187.09375\" xlink:href=\"#DejaVuSans-55\"/>\n       <use x=\"260.287109\" xlink:href=\"#DejaVuSans-52\"/>\n       <use x=\"329.769531\" xlink:href=\"#DejaVuSans-4e\"/>\n      </g>\n     </g>\n    </g>\n    <g id=\"ytick_8\">\n     <g id=\"line2d_16\">\n      <g>\n       <use style=\"stroke:#000000;stroke-width:0.8;\" x=\"75.99375\" xlink:href=\"#m3407c43025\" y=\"61.56\"/>\n      </g>\n     </g>\n     <g id=\"text_16\">\n      <!-- URANUS -->\n      <g transform=\"translate(27.1375 65.359219)scale(0.1 -0.1)\">\n       <use xlink:href=\"#DejaVuSans-55\"/>\n       <use x=\"73.193359\" xlink:href=\"#DejaVuSans-52\"/>\n       <use x=\"138.675781\" xlink:href=\"#DejaVuSans-41\"/>\n       <use x=\"207.083984\" xlink:href=\"#DejaVuSans-4e\"/>\n       <use x=\"281.888672\" xlink:href=\"#DejaVuSans-55\"/>\n       <use x=\"355.082031\" xlink:href=\"#DejaVuSans-53\"/>\n      </g>\n     </g>\n    </g>\n    <g id=\"ytick_9\">\n     <g id=\"line2d_17\">\n      <g>\n       <use style=\"stroke:#000000;stroke-width:0.8;\" x=\"75.99375\" xlink:href=\"#m3407c43025\" y=\"39.816\"/>\n      </g>\n     </g>\n     <g id=\"text_17\">\n      <!-- NEPTUNE -->\n      <g transform=\"translate(21.9375 43.615219)scale(0.1 -0.1)\">\n       <use xlink:href=\"#DejaVuSans-4e\"/>\n       <use x=\"74.804688\" xlink:href=\"#DejaVuSans-45\"/>\n       <use x=\"137.988281\" xlink:href=\"#DejaVuSans-50\"/>\n       <use x=\"198.291016\" xlink:href=\"#DejaVuSans-54\"/>\n       <use x=\"259.375\" xlink:href=\"#DejaVuSans-55\"/>\n       <use x=\"332.568359\" xlink:href=\"#DejaVuSans-4e\"/>\n       <use x=\"407.373047\" xlink:href=\"#DejaVuSans-45\"/>\n      </g>\n     </g>\n    </g>\n    <g id=\"ytick_10\">\n     <g id=\"line2d_18\">\n      <g>\n       <use style=\"stroke:#000000;stroke-width:0.8;\" x=\"75.99375\" xlink:href=\"#m3407c43025\" y=\"18.072\"/>\n      </g>\n     </g>\n     <g id=\"text_18\">\n      <!-- PLUTO -->\n      <g transform=\"translate(36.59375 21.871219)scale(0.1 -0.1)\">\n       <defs>\n        <path d=\"M 628 4666 \nL 1259 4666 \nL 1259 531 \nL 3531 531 \nL 3531 0 \nL 628 0 \nL 628 4666 \nz\n\" id=\"DejaVuSans-4c\" transform=\"scale(0.015625)\"/>\n       </defs>\n       <use xlink:href=\"#DejaVuSans-50\"/>\n       <use x=\"60.302734\" xlink:href=\"#DejaVuSans-4c\"/>\n       <use x=\"111.015625\" xlink:href=\"#DejaVuSans-55\"/>\n       <use x=\"184.208984\" xlink:href=\"#DejaVuSans-54\"/>\n       <use x=\"245.292969\" xlink:href=\"#DejaVuSans-4f\"/>\n      </g>\n     </g>\n    </g>\n    <g id=\"text_19\">\n     <!-- names -->\n     <g transform=\"translate(14.798438 132.704375)rotate(-90)scale(0.1 -0.1)\">\n      <defs>\n       <path d=\"M 3513 2113 \nL 3513 0 \nL 2938 0 \nL 2938 2094 \nQ 2938 2591 2744 2837 \nQ 2550 3084 2163 3084 \nQ 1697 3084 1428 2787 \nQ 1159 2491 1159 1978 \nL 1159 0 \nL 581 0 \nL 581 3500 \nL 1159 3500 \nL 1159 2956 \nQ 1366 3272 1645 3428 \nQ 1925 3584 2291 3584 \nQ 2894 3584 3203 3211 \nQ 3513 2838 3513 2113 \nz\n\" id=\"DejaVuSans-6e\" transform=\"scale(0.015625)\"/>\n       <path d=\"M 2194 1759 \nQ 1497 1759 1228 1600 \nQ 959 1441 959 1056 \nQ 959 750 1161 570 \nQ 1363 391 1709 391 \nQ 2188 391 2477 730 \nQ 2766 1069 2766 1631 \nL 2766 1759 \nL 2194 1759 \nz\nM 3341 1997 \nL 3341 0 \nL 2766 0 \nL 2766 531 \nQ 2569 213 2275 61 \nQ 1981 -91 1556 -91 \nQ 1019 -91 701 211 \nQ 384 513 384 1019 \nQ 384 1609 779 1909 \nQ 1175 2209 1959 2209 \nL 2766 2209 \nL 2766 2266 \nQ 2766 2663 2505 2880 \nQ 2244 3097 1772 3097 \nQ 1472 3097 1187 3025 \nQ 903 2953 641 2809 \nL 641 3341 \nQ 956 3463 1253 3523 \nQ 1550 3584 1831 3584 \nQ 2591 3584 2966 3190 \nQ 3341 2797 3341 1997 \nz\n\" id=\"DejaVuSans-61\" transform=\"scale(0.015625)\"/>\n       <path d=\"M 3328 2828 \nQ 3544 3216 3844 3400 \nQ 4144 3584 4550 3584 \nQ 5097 3584 5394 3201 \nQ 5691 2819 5691 2113 \nL 5691 0 \nL 5113 0 \nL 5113 2094 \nQ 5113 2597 4934 2840 \nQ 4756 3084 4391 3084 \nQ 3944 3084 3684 2787 \nQ 3425 2491 3425 1978 \nL 3425 0 \nL 2847 0 \nL 2847 2094 \nQ 2847 2600 2669 2842 \nQ 2491 3084 2119 3084 \nQ 1678 3084 1418 2786 \nQ 1159 2488 1159 1978 \nL 1159 0 \nL 581 0 \nL 581 3500 \nL 1159 3500 \nL 1159 2956 \nQ 1356 3278 1631 3431 \nQ 1906 3584 2284 3584 \nQ 2666 3584 2933 3390 \nQ 3200 3197 3328 2828 \nz\n\" id=\"DejaVuSans-6d\" transform=\"scale(0.015625)\"/>\n       <path d=\"M 3597 1894 \nL 3597 1613 \nL 953 1613 \nQ 991 1019 1311 708 \nQ 1631 397 2203 397 \nQ 2534 397 2845 478 \nQ 3156 559 3463 722 \nL 3463 178 \nQ 3153 47 2828 -22 \nQ 2503 -91 2169 -91 \nQ 1331 -91 842 396 \nQ 353 884 353 1716 \nQ 353 2575 817 3079 \nQ 1281 3584 2069 3584 \nQ 2775 3584 3186 3129 \nQ 3597 2675 3597 1894 \nz\nM 3022 2063 \nQ 3016 2534 2758 2815 \nQ 2500 3097 2075 3097 \nQ 1594 3097 1305 2825 \nQ 1016 2553 972 2059 \nL 3022 2063 \nz\n\" id=\"DejaVuSans-65\" transform=\"scale(0.015625)\"/>\n       <path d=\"M 2834 3397 \nL 2834 2853 \nQ 2591 2978 2328 3040 \nQ 2066 3103 1784 3103 \nQ 1356 3103 1142 2972 \nQ 928 2841 928 2578 \nQ 928 2378 1081 2264 \nQ 1234 2150 1697 2047 \nL 1894 2003 \nQ 2506 1872 2764 1633 \nQ 3022 1394 3022 966 \nQ 3022 478 2636 193 \nQ 2250 -91 1575 -91 \nQ 1294 -91 989 -36 \nQ 684 19 347 128 \nL 347 722 \nQ 666 556 975 473 \nQ 1284 391 1588 391 \nQ 1994 391 2212 530 \nQ 2431 669 2431 922 \nQ 2431 1156 2273 1281 \nQ 2116 1406 1581 1522 \nL 1381 1569 \nQ 847 1681 609 1914 \nQ 372 2147 372 2553 \nQ 372 3047 722 3315 \nQ 1072 3584 1716 3584 \nQ 2034 3584 2315 3537 \nQ 2597 3491 2834 3397 \nz\n\" id=\"DejaVuSans-73\" transform=\"scale(0.015625)\"/>\n      </defs>\n      <use xlink:href=\"#DejaVuSans-6e\"/>\n      <use x=\"63.378906\" xlink:href=\"#DejaVuSans-61\"/>\n      <use x=\"124.658203\" xlink:href=\"#DejaVuSans-6d\"/>\n      <use x=\"222.070312\" xlink:href=\"#DejaVuSans-65\"/>\n      <use x=\"283.59375\" xlink:href=\"#DejaVuSans-73\"/>\n     </g>\n    </g>\n   </g>\n   <g id=\"patch_13\">\n    <path d=\"M 75.99375 224.64 \nL 75.99375 7.2 \n\" style=\"fill:none;stroke:#000000;stroke-linecap:square;stroke-linejoin:miter;stroke-width:0.8;\"/>\n   </g>\n   <g id=\"patch_14\">\n    <path d=\"M 410.79375 224.64 \nL 410.79375 7.2 \n\" style=\"fill:none;stroke:#000000;stroke-linecap:square;stroke-linejoin:miter;stroke-width:0.8;\"/>\n   </g>\n   <g id=\"patch_15\">\n    <path d=\"M 75.99375 224.64 \nL 410.79375 224.64 \n\" style=\"fill:none;stroke:#000000;stroke-linecap:square;stroke-linejoin:miter;stroke-width:0.8;\"/>\n   </g>\n   <g id=\"patch_16\">\n    <path d=\"M 75.99375 7.2 \nL 410.79375 7.2 \n\" style=\"fill:none;stroke:#000000;stroke-linecap:square;stroke-linejoin:miter;stroke-width:0.8;\"/>\n   </g>\n  </g>\n </g>\n <defs>\n  <clipPath id=\"p4defbc8e93\">\n   <rect height=\"217.44\" width=\"334.8\" x=\"75.99375\" y=\"7.2\"/>\n  </clipPath>\n </defs>\n</svg>\n",
            "image/png": "[encoded data removed]"
          },
          "metadata": {
            "needs_background": "light"
          }
        }
      ],
      "source": [
        "planet_df['mass'].plot.barh()"
      ]
    },
    {
      "cell_type": "code",
      "execution_count": 12,
      "metadata": {},
      "outputs": [
        {
          "output_type": "execute_result",
          "data": {
            "text/plain": [
              "<AxesSubplot:ylabel='names'>"
            ]
          },
          "metadata": {},
          "execution_count": 12
        },
        {
          "output_type": "display_data",
          "data": {
            "text/plain": "<Figure size 432x288 with 1 Axes>",
            "image/svg+xml": "<?xml version=\"1.0\" encoding=\"utf-8\" standalone=\"no\"?>\n<!DOCTYPE svg PUBLIC \"-//W3C//DTD SVG 1.1//EN\"\n  \"http://www.w3.org/Graphics/SVG/1.1/DTD/svg11.dtd\">\n<svg height=\"248.518125pt\" version=\"1.1\" viewBox=\"0 0 417.99375 248.518125\" width=\"417.99375pt\" xmlns=\"http://www.w3.org/2000/svg\" xmlns:xlink=\"http://www.w3.org/1999/xlink\">\n <metadata>\n  <rdf:RDF xmlns:cc=\"http://creativecommons.org/ns#\" xmlns:dc=\"http://purl.org/dc/elements/1.1/\" xmlns:rdf=\"http://www.w3.org/1999/02/22-rdf-syntax-ns#\">\n   <cc:Work>\n    <dc:type rdf:resource=\"http://purl.org/dc/dcmitype/StillImage\"/>\n    <dc:date>2021-06-20T09:41:36.837023</dc:date>\n    <dc:format>image/svg+xml</dc:format>\n    <dc:creator>\n     <cc:Agent>\n      <dc:title>Matplotlib v3.4.2, https://matplotlib.org/</dc:title>\n     </cc:Agent>\n    </dc:creator>\n   </cc:Work>\n  </rdf:RDF>\n </metadata>\n <defs>\n  <style type=\"text/css\">*{stroke-linecap:butt;stroke-linejoin:round;}</style>\n </defs>\n <g id=\"figure_1\">\n  <g id=\"patch_1\">\n   <path d=\"M 0 248.518125 \nL 417.99375 248.518125 \nL 417.99375 0 \nL 0 0 \nz\n\" style=\"fill:none;\"/>\n  </g>\n  <g id=\"axes_1\">\n   <g id=\"patch_2\">\n    <path d=\"M 75.99375 224.64 \nL 410.79375 224.64 \nL 410.79375 7.2 \nL 75.99375 7.2 \nz\n\" style=\"fill:#ffffff;\"/>\n   </g>\n   <g id=\"patch_3\">\n    <path clip-path=\"url(#p9a442a2735)\" d=\"M 75.99375 219.204 \nL 86.874016 219.204 \nL 86.874016 208.332 \nL 75.99375 208.332 \nz\n\" style=\"fill:#1f77b4;\"/>\n   </g>\n   <g id=\"patch_4\">\n    <path clip-path=\"url(#p9a442a2735)\" d=\"M 75.99375 197.46 \nL 102.985909 197.46 \nL 102.985909 186.588 \nL 75.99375 186.588 \nz\n\" style=\"fill:#1f77b4;\"/>\n   </g>\n   <g id=\"patch_5\">\n    <path clip-path=\"url(#p9a442a2735)\" d=\"M 75.99375 175.716 \nL 104.439882 175.716 \nL 104.439882 164.844 \nL 75.99375 164.844 \nz\n\" style=\"fill:#1f77b4;\"/>\n   </g>\n   <g id=\"patch_6\">\n    <path clip-path=\"url(#p9a442a2735)\" d=\"M 75.99375 153.972 \nL 83.743069 153.972 \nL 83.743069 143.1 \nL 75.99375 143.1 \nz\n\" style=\"fill:#1f77b4;\"/>\n   </g>\n   <g id=\"patch_7\">\n    <path clip-path=\"url(#p9a442a2735)\" d=\"M 75.99375 132.228 \nL 91.140044 132.228 \nL 91.140044 121.356 \nL 75.99375 121.356 \nz\n\" style=\"fill:#1f77b4;\"/>\n   </g>\n   <g id=\"patch_8\">\n    <path clip-path=\"url(#p9a442a2735)\" d=\"M 75.99375 110.484 \nL 394.850893 110.484 \nL 394.850893 99.612 \nL 75.99375 99.612 \nz\n\" style=\"fill:#1f77b4;\"/>\n   </g>\n   <g id=\"patch_9\">\n    <path clip-path=\"url(#p9a442a2735)\" d=\"M 75.99375 88.74 \nL 344.79141 88.74 \nL 344.79141 77.868 \nL 75.99375 77.868 \nz\n\" style=\"fill:#1f77b4;\"/>\n   </g>\n   <g id=\"patch_10\">\n    <path clip-path=\"url(#p9a442a2735)\" d=\"M 75.99375 66.996 \nL 189.987899 66.996 \nL 189.987899 56.124 \nL 75.99375 56.124 \nz\n\" style=\"fill:#1f77b4;\"/>\n   </g>\n   <g id=\"patch_11\">\n    <path clip-path=\"url(#p9a442a2735)\" d=\"M 75.99375 45.252 \nL 186.442168 45.252 \nL 186.442168 34.38 \nL 75.99375 34.38 \nz\n\" style=\"fill:#1f77b4;\"/>\n   </g>\n   <g id=\"patch_12\">\n    <path clip-path=\"url(#p9a442a2735)\" d=\"M 75.99375 23.508 \nL 81.278897 23.508 \nL 81.278897 12.636 \nL 75.99375 12.636 \nz\n\" style=\"fill:#1f77b4;\"/>\n   </g>\n   <g id=\"matplotlib.axis_1\">\n    <g id=\"xtick_1\">\n     <g id=\"line2d_1\">\n      <defs>\n       <path d=\"M 0 0 \nL 0 3.5 \n\" id=\"ma5b4b56408\" style=\"stroke:#000000;stroke-width:0.8;\"/>\n      </defs>\n      <g>\n       <use style=\"stroke:#000000;stroke-width:0.8;\" x=\"75.99375\" xlink:href=\"#ma5b4b56408\" y=\"224.64\"/>\n      </g>\n     </g>\n     <g id=\"text_1\">\n      <!-- 0 -->\n      <g transform=\"translate(72.8125 239.238437)scale(0.1 -0.1)\">\n       <defs>\n        <path d=\"M 2034 4250 \nQ 1547 4250 1301 3770 \nQ 1056 3291 1056 2328 \nQ 1056 1369 1301 889 \nQ 1547 409 2034 409 \nQ 2525 409 2770 889 \nQ 3016 1369 3016 2328 \nQ 3016 3291 2770 3770 \nQ 2525 4250 2034 4250 \nz\nM 2034 4750 \nQ 2819 4750 3233 4129 \nQ 3647 3509 3647 2328 \nQ 3647 1150 3233 529 \nQ 2819 -91 2034 -91 \nQ 1250 -91 836 529 \nQ 422 1150 422 2328 \nQ 422 3509 836 4129 \nQ 1250 4750 2034 4750 \nz\n\" id=\"DejaVuSans-30\" transform=\"scale(0.015625)\"/>\n       </defs>\n       <use xlink:href=\"#DejaVuSans-30\"/>\n      </g>\n     </g>\n    </g>\n    <g id=\"xtick_2\">\n     <g id=\"line2d_2\">\n      <g>\n       <use style=\"stroke:#000000;stroke-width:0.8;\" x=\"120.594145\" xlink:href=\"#ma5b4b56408\" y=\"224.64\"/>\n      </g>\n     </g>\n     <g id=\"text_2\">\n      <!-- 20000 -->\n      <g transform=\"translate(104.687895 239.238437)scale(0.1 -0.1)\">\n       <defs>\n        <path d=\"M 1228 531 \nL 3431 531 \nL 3431 0 \nL 469 0 \nL 469 531 \nQ 828 903 1448 1529 \nQ 2069 2156 2228 2338 \nQ 2531 2678 2651 2914 \nQ 2772 3150 2772 3378 \nQ 2772 3750 2511 3984 \nQ 2250 4219 1831 4219 \nQ 1534 4219 1204 4116 \nQ 875 4013 500 3803 \nL 500 4441 \nQ 881 4594 1212 4672 \nQ 1544 4750 1819 4750 \nQ 2544 4750 2975 4387 \nQ 3406 4025 3406 3419 \nQ 3406 3131 3298 2873 \nQ 3191 2616 2906 2266 \nQ 2828 2175 2409 1742 \nQ 1991 1309 1228 531 \nz\n\" id=\"DejaVuSans-32\" transform=\"scale(0.015625)\"/>\n       </defs>\n       <use xlink:href=\"#DejaVuSans-32\"/>\n       <use x=\"63.623047\" xlink:href=\"#DejaVuSans-30\"/>\n       <use x=\"127.246094\" xlink:href=\"#DejaVuSans-30\"/>\n       <use x=\"190.869141\" xlink:href=\"#DejaVuSans-30\"/>\n       <use x=\"254.492188\" xlink:href=\"#DejaVuSans-30\"/>\n      </g>\n     </g>\n    </g>\n    <g id=\"xtick_3\">\n     <g id=\"line2d_3\">\n      <g>\n       <use style=\"stroke:#000000;stroke-width:0.8;\" x=\"165.19454\" xlink:href=\"#ma5b4b56408\" y=\"224.64\"/>\n      </g>\n     </g>\n     <g id=\"text_3\">\n      <!-- 40000 -->\n      <g transform=\"translate(149.28829 239.238437)scale(0.1 -0.1)\">\n       <defs>\n        <path d=\"M 2419 4116 \nL 825 1625 \nL 2419 1625 \nL 2419 4116 \nz\nM 2253 4666 \nL 3047 4666 \nL 3047 1625 \nL 3713 1625 \nL 3713 1100 \nL 3047 1100 \nL 3047 0 \nL 2419 0 \nL 2419 1100 \nL 313 1100 \nL 313 1709 \nL 2253 4666 \nz\n\" id=\"DejaVuSans-34\" transform=\"scale(0.015625)\"/>\n       </defs>\n       <use xlink:href=\"#DejaVuSans-34\"/>\n       <use x=\"63.623047\" xlink:href=\"#DejaVuSans-30\"/>\n       <use x=\"127.246094\" xlink:href=\"#DejaVuSans-30\"/>\n       <use x=\"190.869141\" xlink:href=\"#DejaVuSans-30\"/>\n       <use x=\"254.492188\" xlink:href=\"#DejaVuSans-30\"/>\n      </g>\n     </g>\n    </g>\n    <g id=\"xtick_4\">\n     <g id=\"line2d_4\">\n      <g>\n       <use style=\"stroke:#000000;stroke-width:0.8;\" x=\"209.794935\" xlink:href=\"#ma5b4b56408\" y=\"224.64\"/>\n      </g>\n     </g>\n     <g id=\"text_4\">\n      <!-- 60000 -->\n      <g transform=\"translate(193.888685 239.238437)scale(0.1 -0.1)\">\n       <defs>\n        <path d=\"M 2113 2584 \nQ 1688 2584 1439 2293 \nQ 1191 2003 1191 1497 \nQ 1191 994 1439 701 \nQ 1688 409 2113 409 \nQ 2538 409 2786 701 \nQ 3034 994 3034 1497 \nQ 3034 2003 2786 2293 \nQ 2538 2584 2113 2584 \nz\nM 3366 4563 \nL 3366 3988 \nQ 3128 4100 2886 4159 \nQ 2644 4219 2406 4219 \nQ 1781 4219 1451 3797 \nQ 1122 3375 1075 2522 \nQ 1259 2794 1537 2939 \nQ 1816 3084 2150 3084 \nQ 2853 3084 3261 2657 \nQ 3669 2231 3669 1497 \nQ 3669 778 3244 343 \nQ 2819 -91 2113 -91 \nQ 1303 -91 875 529 \nQ 447 1150 447 2328 \nQ 447 3434 972 4092 \nQ 1497 4750 2381 4750 \nQ 2619 4750 2861 4703 \nQ 3103 4656 3366 4563 \nz\n\" id=\"DejaVuSans-36\" transform=\"scale(0.015625)\"/>\n       </defs>\n       <use xlink:href=\"#DejaVuSans-36\"/>\n       <use x=\"63.623047\" xlink:href=\"#DejaVuSans-30\"/>\n       <use x=\"127.246094\" xlink:href=\"#DejaVuSans-30\"/>\n       <use x=\"190.869141\" xlink:href=\"#DejaVuSans-30\"/>\n       <use x=\"254.492188\" xlink:href=\"#DejaVuSans-30\"/>\n      </g>\n     </g>\n    </g>\n    <g id=\"xtick_5\">\n     <g id=\"line2d_5\">\n      <g>\n       <use style=\"stroke:#000000;stroke-width:0.8;\" x=\"254.395329\" xlink:href=\"#ma5b4b56408\" y=\"224.64\"/>\n      </g>\n     </g>\n     <g id=\"text_5\">\n      <!-- 80000 -->\n      <g transform=\"translate(238.489079 239.238437)scale(0.1 -0.1)\">\n       <defs>\n        <path d=\"M 2034 2216 \nQ 1584 2216 1326 1975 \nQ 1069 1734 1069 1313 \nQ 1069 891 1326 650 \nQ 1584 409 2034 409 \nQ 2484 409 2743 651 \nQ 3003 894 3003 1313 \nQ 3003 1734 2745 1975 \nQ 2488 2216 2034 2216 \nz\nM 1403 2484 \nQ 997 2584 770 2862 \nQ 544 3141 544 3541 \nQ 544 4100 942 4425 \nQ 1341 4750 2034 4750 \nQ 2731 4750 3128 4425 \nQ 3525 4100 3525 3541 \nQ 3525 3141 3298 2862 \nQ 3072 2584 2669 2484 \nQ 3125 2378 3379 2068 \nQ 3634 1759 3634 1313 \nQ 3634 634 3220 271 \nQ 2806 -91 2034 -91 \nQ 1263 -91 848 271 \nQ 434 634 434 1313 \nQ 434 1759 690 2068 \nQ 947 2378 1403 2484 \nz\nM 1172 3481 \nQ 1172 3119 1398 2916 \nQ 1625 2713 2034 2713 \nQ 2441 2713 2670 2916 \nQ 2900 3119 2900 3481 \nQ 2900 3844 2670 4047 \nQ 2441 4250 2034 4250 \nQ 1625 4250 1398 4047 \nQ 1172 3844 1172 3481 \nz\n\" id=\"DejaVuSans-38\" transform=\"scale(0.015625)\"/>\n       </defs>\n       <use xlink:href=\"#DejaVuSans-38\"/>\n       <use x=\"63.623047\" xlink:href=\"#DejaVuSans-30\"/>\n       <use x=\"127.246094\" xlink:href=\"#DejaVuSans-30\"/>\n       <use x=\"190.869141\" xlink:href=\"#DejaVuSans-30\"/>\n       <use x=\"254.492188\" xlink:href=\"#DejaVuSans-30\"/>\n      </g>\n     </g>\n    </g>\n    <g id=\"xtick_6\">\n     <g id=\"line2d_6\">\n      <g>\n       <use style=\"stroke:#000000;stroke-width:0.8;\" x=\"298.995724\" xlink:href=\"#ma5b4b56408\" y=\"224.64\"/>\n      </g>\n     </g>\n     <g id=\"text_6\">\n      <!-- 100000 -->\n      <g transform=\"translate(279.908224 239.238437)scale(0.1 -0.1)\">\n       <defs>\n        <path d=\"M 794 531 \nL 1825 531 \nL 1825 4091 \nL 703 3866 \nL 703 4441 \nL 1819 4666 \nL 2450 4666 \nL 2450 531 \nL 3481 531 \nL 3481 0 \nL 794 0 \nL 794 531 \nz\n\" id=\"DejaVuSans-31\" transform=\"scale(0.015625)\"/>\n       </defs>\n       <use xlink:href=\"#DejaVuSans-31\"/>\n       <use x=\"63.623047\" xlink:href=\"#DejaVuSans-30\"/>\n       <use x=\"127.246094\" xlink:href=\"#DejaVuSans-30\"/>\n       <use x=\"190.869141\" xlink:href=\"#DejaVuSans-30\"/>\n       <use x=\"254.492188\" xlink:href=\"#DejaVuSans-30\"/>\n       <use x=\"318.115234\" xlink:href=\"#DejaVuSans-30\"/>\n      </g>\n     </g>\n    </g>\n    <g id=\"xtick_7\">\n     <g id=\"line2d_7\">\n      <g>\n       <use style=\"stroke:#000000;stroke-width:0.8;\" x=\"343.596119\" xlink:href=\"#ma5b4b56408\" y=\"224.64\"/>\n      </g>\n     </g>\n     <g id=\"text_7\">\n      <!-- 120000 -->\n      <g transform=\"translate(324.508619 239.238437)scale(0.1 -0.1)\">\n       <use xlink:href=\"#DejaVuSans-31\"/>\n       <use x=\"63.623047\" xlink:href=\"#DejaVuSans-32\"/>\n       <use x=\"127.246094\" xlink:href=\"#DejaVuSans-30\"/>\n       <use x=\"190.869141\" xlink:href=\"#DejaVuSans-30\"/>\n       <use x=\"254.492188\" xlink:href=\"#DejaVuSans-30\"/>\n       <use x=\"318.115234\" xlink:href=\"#DejaVuSans-30\"/>\n      </g>\n     </g>\n    </g>\n    <g id=\"xtick_8\">\n     <g id=\"line2d_8\">\n      <g>\n       <use style=\"stroke:#000000;stroke-width:0.8;\" x=\"388.196514\" xlink:href=\"#ma5b4b56408\" y=\"224.64\"/>\n      </g>\n     </g>\n     <g id=\"text_8\">\n      <!-- 140000 -->\n      <g transform=\"translate(369.109014 239.238437)scale(0.1 -0.1)\">\n       <use xlink:href=\"#DejaVuSans-31\"/>\n       <use x=\"63.623047\" xlink:href=\"#DejaVuSans-34\"/>\n       <use x=\"127.246094\" xlink:href=\"#DejaVuSans-30\"/>\n       <use x=\"190.869141\" xlink:href=\"#DejaVuSans-30\"/>\n       <use x=\"254.492188\" xlink:href=\"#DejaVuSans-30\"/>\n       <use x=\"318.115234\" xlink:href=\"#DejaVuSans-30\"/>\n      </g>\n     </g>\n    </g>\n   </g>\n   <g id=\"matplotlib.axis_2\">\n    <g id=\"ytick_1\">\n     <g id=\"line2d_9\">\n      <defs>\n       <path d=\"M 0 0 \nL -3.5 0 \n\" id=\"m1cc9b6a43e\" style=\"stroke:#000000;stroke-width:0.8;\"/>\n      </defs>\n      <g>\n       <use style=\"stroke:#000000;stroke-width:0.8;\" x=\"75.99375\" xlink:href=\"#m1cc9b6a43e\" y=\"213.768\"/>\n      </g>\n     </g>\n     <g id=\"text_9\">\n      <!-- MERCURY -->\n      <g transform=\"translate(20.878125 217.567219)scale(0.1 -0.1)\">\n       <defs>\n        <path d=\"M 628 4666 \nL 1569 4666 \nL 2759 1491 \nL 3956 4666 \nL 4897 4666 \nL 4897 0 \nL 4281 0 \nL 4281 4097 \nL 3078 897 \nL 2444 897 \nL 1241 4097 \nL 1241 0 \nL 628 0 \nL 628 4666 \nz\n\" id=\"DejaVuSans-4d\" transform=\"scale(0.015625)\"/>\n        <path d=\"M 628 4666 \nL 3578 4666 \nL 3578 4134 \nL 1259 4134 \nL 1259 2753 \nL 3481 2753 \nL 3481 2222 \nL 1259 2222 \nL 1259 531 \nL 3634 531 \nL 3634 0 \nL 628 0 \nL 628 4666 \nz\n\" id=\"DejaVuSans-45\" transform=\"scale(0.015625)\"/>\n        <path d=\"M 2841 2188 \nQ 3044 2119 3236 1894 \nQ 3428 1669 3622 1275 \nL 4263 0 \nL 3584 0 \nL 2988 1197 \nQ 2756 1666 2539 1819 \nQ 2322 1972 1947 1972 \nL 1259 1972 \nL 1259 0 \nL 628 0 \nL 628 4666 \nL 2053 4666 \nQ 2853 4666 3247 4331 \nQ 3641 3997 3641 3322 \nQ 3641 2881 3436 2590 \nQ 3231 2300 2841 2188 \nz\nM 1259 4147 \nL 1259 2491 \nL 2053 2491 \nQ 2509 2491 2742 2702 \nQ 2975 2913 2975 3322 \nQ 2975 3731 2742 3939 \nQ 2509 4147 2053 4147 \nL 1259 4147 \nz\n\" id=\"DejaVuSans-52\" transform=\"scale(0.015625)\"/>\n        <path d=\"M 4122 4306 \nL 4122 3641 \nQ 3803 3938 3442 4084 \nQ 3081 4231 2675 4231 \nQ 1875 4231 1450 3742 \nQ 1025 3253 1025 2328 \nQ 1025 1406 1450 917 \nQ 1875 428 2675 428 \nQ 3081 428 3442 575 \nQ 3803 722 4122 1019 \nL 4122 359 \nQ 3791 134 3420 21 \nQ 3050 -91 2638 -91 \nQ 1578 -91 968 557 \nQ 359 1206 359 2328 \nQ 359 3453 968 4101 \nQ 1578 4750 2638 4750 \nQ 3056 4750 3426 4639 \nQ 3797 4528 4122 4306 \nz\n\" id=\"DejaVuSans-43\" transform=\"scale(0.015625)\"/>\n        <path d=\"M 556 4666 \nL 1191 4666 \nL 1191 1831 \nQ 1191 1081 1462 751 \nQ 1734 422 2344 422 \nQ 2950 422 3222 751 \nQ 3494 1081 3494 1831 \nL 3494 4666 \nL 4128 4666 \nL 4128 1753 \nQ 4128 841 3676 375 \nQ 3225 -91 2344 -91 \nQ 1459 -91 1007 375 \nQ 556 841 556 1753 \nL 556 4666 \nz\n\" id=\"DejaVuSans-55\" transform=\"scale(0.015625)\"/>\n        <path d=\"M -13 4666 \nL 666 4666 \nL 1959 2747 \nL 3244 4666 \nL 3922 4666 \nL 2272 2222 \nL 2272 0 \nL 1638 0 \nL 1638 2222 \nL -13 4666 \nz\n\" id=\"DejaVuSans-59\" transform=\"scale(0.015625)\"/>\n       </defs>\n       <use xlink:href=\"#DejaVuSans-4d\"/>\n       <use x=\"86.279297\" xlink:href=\"#DejaVuSans-45\"/>\n       <use x=\"149.462891\" xlink:href=\"#DejaVuSans-52\"/>\n       <use x=\"213.945312\" xlink:href=\"#DejaVuSans-43\"/>\n       <use x=\"283.769531\" xlink:href=\"#DejaVuSans-55\"/>\n       <use x=\"356.962891\" xlink:href=\"#DejaVuSans-52\"/>\n       <use x=\"420.070312\" xlink:href=\"#DejaVuSans-59\"/>\n      </g>\n     </g>\n    </g>\n    <g id=\"ytick_2\">\n     <g id=\"line2d_10\">\n      <g>\n       <use style=\"stroke:#000000;stroke-width:0.8;\" x=\"75.99375\" xlink:href=\"#m1cc9b6a43e\" y=\"192.024\"/>\n      </g>\n     </g>\n     <g id=\"text_10\">\n      <!-- VENUS -->\n      <g transform=\"translate(34.685938 195.823219)scale(0.1 -0.1)\">\n       <defs>\n        <path d=\"M 1831 0 \nL 50 4666 \nL 709 4666 \nL 2188 738 \nL 3669 4666 \nL 4325 4666 \nL 2547 0 \nL 1831 0 \nz\n\" id=\"DejaVuSans-56\" transform=\"scale(0.015625)\"/>\n        <path d=\"M 628 4666 \nL 1478 4666 \nL 3547 763 \nL 3547 4666 \nL 4159 4666 \nL 4159 0 \nL 3309 0 \nL 1241 3903 \nL 1241 0 \nL 628 0 \nL 628 4666 \nz\n\" id=\"DejaVuSans-4e\" transform=\"scale(0.015625)\"/>\n        <path d=\"M 3425 4513 \nL 3425 3897 \nQ 3066 4069 2747 4153 \nQ 2428 4238 2131 4238 \nQ 1616 4238 1336 4038 \nQ 1056 3838 1056 3469 \nQ 1056 3159 1242 3001 \nQ 1428 2844 1947 2747 \nL 2328 2669 \nQ 3034 2534 3370 2195 \nQ 3706 1856 3706 1288 \nQ 3706 609 3251 259 \nQ 2797 -91 1919 -91 \nQ 1588 -91 1214 -16 \nQ 841 59 441 206 \nL 441 856 \nQ 825 641 1194 531 \nQ 1563 422 1919 422 \nQ 2459 422 2753 634 \nQ 3047 847 3047 1241 \nQ 3047 1584 2836 1778 \nQ 2625 1972 2144 2069 \nL 1759 2144 \nQ 1053 2284 737 2584 \nQ 422 2884 422 3419 \nQ 422 4038 858 4394 \nQ 1294 4750 2059 4750 \nQ 2388 4750 2728 4690 \nQ 3069 4631 3425 4513 \nz\n\" id=\"DejaVuSans-53\" transform=\"scale(0.015625)\"/>\n       </defs>\n       <use xlink:href=\"#DejaVuSans-56\"/>\n       <use x=\"68.408203\" xlink:href=\"#DejaVuSans-45\"/>\n       <use x=\"131.591797\" xlink:href=\"#DejaVuSans-4e\"/>\n       <use x=\"206.396484\" xlink:href=\"#DejaVuSans-55\"/>\n       <use x=\"279.589844\" xlink:href=\"#DejaVuSans-53\"/>\n      </g>\n     </g>\n    </g>\n    <g id=\"ytick_3\">\n     <g id=\"line2d_11\">\n      <g>\n       <use style=\"stroke:#000000;stroke-width:0.8;\" x=\"75.99375\" xlink:href=\"#m1cc9b6a43e\" y=\"170.28\"/>\n      </g>\n     </g>\n     <g id=\"text_11\">\n      <!-- EARTH -->\n      <g transform=\"translate(35.982813 174.079219)scale(0.1 -0.1)\">\n       <defs>\n        <path d=\"M 2188 4044 \nL 1331 1722 \nL 3047 1722 \nL 2188 4044 \nz\nM 1831 4666 \nL 2547 4666 \nL 4325 0 \nL 3669 0 \nL 3244 1197 \nL 1141 1197 \nL 716 0 \nL 50 0 \nL 1831 4666 \nz\n\" id=\"DejaVuSans-41\" transform=\"scale(0.015625)\"/>\n        <path d=\"M -19 4666 \nL 3928 4666 \nL 3928 4134 \nL 2272 4134 \nL 2272 0 \nL 1638 0 \nL 1638 4134 \nL -19 4134 \nL -19 4666 \nz\n\" id=\"DejaVuSans-54\" transform=\"scale(0.015625)\"/>\n        <path d=\"M 628 4666 \nL 1259 4666 \nL 1259 2753 \nL 3553 2753 \nL 3553 4666 \nL 4184 4666 \nL 4184 0 \nL 3553 0 \nL 3553 2222 \nL 1259 2222 \nL 1259 0 \nL 628 0 \nL 628 4666 \nz\n\" id=\"DejaVuSans-48\" transform=\"scale(0.015625)\"/>\n       </defs>\n       <use xlink:href=\"#DejaVuSans-45\"/>\n       <use x=\"63.183594\" xlink:href=\"#DejaVuSans-41\"/>\n       <use x=\"131.591797\" xlink:href=\"#DejaVuSans-52\"/>\n       <use x=\"193.824219\" xlink:href=\"#DejaVuSans-54\"/>\n       <use x=\"254.908203\" xlink:href=\"#DejaVuSans-48\"/>\n      </g>\n     </g>\n    </g>\n    <g id=\"ytick_4\">\n     <g id=\"line2d_12\">\n      <g>\n       <use style=\"stroke:#000000;stroke-width:0.8;\" x=\"75.99375\" xlink:href=\"#m1cc9b6a43e\" y=\"148.536\"/>\n      </g>\n     </g>\n     <g id=\"text_12\">\n      <!-- MOON -->\n      <g transform=\"translate(37.140625 152.335219)scale(0.1 -0.1)\">\n       <defs>\n        <path d=\"M 2522 4238 \nQ 1834 4238 1429 3725 \nQ 1025 3213 1025 2328 \nQ 1025 1447 1429 934 \nQ 1834 422 2522 422 \nQ 3209 422 3611 934 \nQ 4013 1447 4013 2328 \nQ 4013 3213 3611 3725 \nQ 3209 4238 2522 4238 \nz\nM 2522 4750 \nQ 3503 4750 4090 4092 \nQ 4678 3434 4678 2328 \nQ 4678 1225 4090 567 \nQ 3503 -91 2522 -91 \nQ 1538 -91 948 565 \nQ 359 1222 359 2328 \nQ 359 3434 948 4092 \nQ 1538 4750 2522 4750 \nz\n\" id=\"DejaVuSans-4f\" transform=\"scale(0.015625)\"/>\n       </defs>\n       <use xlink:href=\"#DejaVuSans-4d\"/>\n       <use x=\"86.279297\" xlink:href=\"#DejaVuSans-4f\"/>\n       <use x=\"164.990234\" xlink:href=\"#DejaVuSans-4f\"/>\n       <use x=\"243.701172\" xlink:href=\"#DejaVuSans-4e\"/>\n      </g>\n     </g>\n    </g>\n    <g id=\"ytick_5\">\n     <g id=\"line2d_13\">\n      <g>\n       <use style=\"stroke:#000000;stroke-width:0.8;\" x=\"75.99375\" xlink:href=\"#m1cc9b6a43e\" y=\"126.792\"/>\n      </g>\n     </g>\n     <g id=\"text_13\">\n      <!-- MARS -->\n      <g transform=\"translate(40.228125 130.591219)scale(0.1 -0.1)\">\n       <use xlink:href=\"#DejaVuSans-4d\"/>\n       <use x=\"86.279297\" xlink:href=\"#DejaVuSans-41\"/>\n       <use x=\"154.6875\" xlink:href=\"#DejaVuSans-52\"/>\n       <use x=\"224.169922\" xlink:href=\"#DejaVuSans-53\"/>\n      </g>\n     </g>\n    </g>\n    <g id=\"ytick_6\">\n     <g id=\"line2d_14\">\n      <g>\n       <use style=\"stroke:#000000;stroke-width:0.8;\" x=\"75.99375\" xlink:href=\"#m1cc9b6a43e\" y=\"105.048\"/>\n      </g>\n     </g>\n     <g id=\"text_14\">\n      <!-- JUPITER -->\n      <g transform=\"translate(30.370313 108.847219)scale(0.1 -0.1)\">\n       <defs>\n        <path d=\"M 628 4666 \nL 1259 4666 \nL 1259 325 \nQ 1259 -519 939 -900 \nQ 619 -1281 -91 -1281 \nL -331 -1281 \nL -331 -750 \nL -134 -750 \nQ 284 -750 456 -515 \nQ 628 -281 628 325 \nL 628 4666 \nz\n\" id=\"DejaVuSans-4a\" transform=\"scale(0.015625)\"/>\n        <path d=\"M 1259 4147 \nL 1259 2394 \nL 2053 2394 \nQ 2494 2394 2734 2622 \nQ 2975 2850 2975 3272 \nQ 2975 3691 2734 3919 \nQ 2494 4147 2053 4147 \nL 1259 4147 \nz\nM 628 4666 \nL 2053 4666 \nQ 2838 4666 3239 4311 \nQ 3641 3956 3641 3272 \nQ 3641 2581 3239 2228 \nQ 2838 1875 2053 1875 \nL 1259 1875 \nL 1259 0 \nL 628 0 \nL 628 4666 \nz\n\" id=\"DejaVuSans-50\" transform=\"scale(0.015625)\"/>\n        <path d=\"M 628 4666 \nL 1259 4666 \nL 1259 0 \nL 628 0 \nL 628 4666 \nz\n\" id=\"DejaVuSans-49\" transform=\"scale(0.015625)\"/>\n       </defs>\n       <use xlink:href=\"#DejaVuSans-4a\"/>\n       <use x=\"29.492188\" xlink:href=\"#DejaVuSans-55\"/>\n       <use x=\"102.685547\" xlink:href=\"#DejaVuSans-50\"/>\n       <use x=\"162.988281\" xlink:href=\"#DejaVuSans-49\"/>\n       <use x=\"192.480469\" xlink:href=\"#DejaVuSans-54\"/>\n       <use x=\"253.564453\" xlink:href=\"#DejaVuSans-45\"/>\n       <use x=\"316.748047\" xlink:href=\"#DejaVuSans-52\"/>\n      </g>\n     </g>\n    </g>\n    <g id=\"ytick_7\">\n     <g id=\"line2d_15\">\n      <g>\n       <use style=\"stroke:#000000;stroke-width:0.8;\" x=\"75.99375\" xlink:href=\"#m1cc9b6a43e\" y=\"83.304\"/>\n      </g>\n     </g>\n     <g id=\"text_15\">\n      <!-- SATURN -->\n      <g transform=\"translate(28.535938 87.103219)scale(0.1 -0.1)\">\n       <use xlink:href=\"#DejaVuSans-53\"/>\n       <use x=\"65.351562\" xlink:href=\"#DejaVuSans-41\"/>\n       <use x=\"126.009766\" xlink:href=\"#DejaVuSans-54\"/>\n       <use x=\"187.09375\" xlink:href=\"#DejaVuSans-55\"/>\n       <use x=\"260.287109\" xlink:href=\"#DejaVuSans-52\"/>\n       <use x=\"329.769531\" xlink:href=\"#DejaVuSans-4e\"/>\n      </g>\n     </g>\n    </g>\n    <g id=\"ytick_8\">\n     <g id=\"line2d_16\">\n      <g>\n       <use style=\"stroke:#000000;stroke-width:0.8;\" x=\"75.99375\" xlink:href=\"#m1cc9b6a43e\" y=\"61.56\"/>\n      </g>\n     </g>\n     <g id=\"text_16\">\n      <!-- URANUS -->\n      <g transform=\"translate(27.1375 65.359219)scale(0.1 -0.1)\">\n       <use xlink:href=\"#DejaVuSans-55\"/>\n       <use x=\"73.193359\" xlink:href=\"#DejaVuSans-52\"/>\n       <use x=\"138.675781\" xlink:href=\"#DejaVuSans-41\"/>\n       <use x=\"207.083984\" xlink:href=\"#DejaVuSans-4e\"/>\n       <use x=\"281.888672\" xlink:href=\"#DejaVuSans-55\"/>\n       <use x=\"355.082031\" xlink:href=\"#DejaVuSans-53\"/>\n      </g>\n     </g>\n    </g>\n    <g id=\"ytick_9\">\n     <g id=\"line2d_17\">\n      <g>\n       <use style=\"stroke:#000000;stroke-width:0.8;\" x=\"75.99375\" xlink:href=\"#m1cc9b6a43e\" y=\"39.816\"/>\n      </g>\n     </g>\n     <g id=\"text_17\">\n      <!-- NEPTUNE -->\n      <g transform=\"translate(21.9375 43.615219)scale(0.1 -0.1)\">\n       <use xlink:href=\"#DejaVuSans-4e\"/>\n       <use x=\"74.804688\" xlink:href=\"#DejaVuSans-45\"/>\n       <use x=\"137.988281\" xlink:href=\"#DejaVuSans-50\"/>\n       <use x=\"198.291016\" xlink:href=\"#DejaVuSans-54\"/>\n       <use x=\"259.375\" xlink:href=\"#DejaVuSans-55\"/>\n       <use x=\"332.568359\" xlink:href=\"#DejaVuSans-4e\"/>\n       <use x=\"407.373047\" xlink:href=\"#DejaVuSans-45\"/>\n      </g>\n     </g>\n    </g>\n    <g id=\"ytick_10\">\n     <g id=\"line2d_18\">\n      <g>\n       <use style=\"stroke:#000000;stroke-width:0.8;\" x=\"75.99375\" xlink:href=\"#m1cc9b6a43e\" y=\"18.072\"/>\n      </g>\n     </g>\n     <g id=\"text_18\">\n      <!-- PLUTO -->\n      <g transform=\"translate(36.59375 21.871219)scale(0.1 -0.1)\">\n       <defs>\n        <path d=\"M 628 4666 \nL 1259 4666 \nL 1259 531 \nL 3531 531 \nL 3531 0 \nL 628 0 \nL 628 4666 \nz\n\" id=\"DejaVuSans-4c\" transform=\"scale(0.015625)\"/>\n       </defs>\n       <use xlink:href=\"#DejaVuSans-50\"/>\n       <use x=\"60.302734\" xlink:href=\"#DejaVuSans-4c\"/>\n       <use x=\"111.015625\" xlink:href=\"#DejaVuSans-55\"/>\n       <use x=\"184.208984\" xlink:href=\"#DejaVuSans-54\"/>\n       <use x=\"245.292969\" xlink:href=\"#DejaVuSans-4f\"/>\n      </g>\n     </g>\n    </g>\n    <g id=\"text_19\">\n     <!-- names -->\n     <g transform=\"translate(14.798438 132.704375)rotate(-90)scale(0.1 -0.1)\">\n      <defs>\n       <path d=\"M 3513 2113 \nL 3513 0 \nL 2938 0 \nL 2938 2094 \nQ 2938 2591 2744 2837 \nQ 2550 3084 2163 3084 \nQ 1697 3084 1428 2787 \nQ 1159 2491 1159 1978 \nL 1159 0 \nL 581 0 \nL 581 3500 \nL 1159 3500 \nL 1159 2956 \nQ 1366 3272 1645 3428 \nQ 1925 3584 2291 3584 \nQ 2894 3584 3203 3211 \nQ 3513 2838 3513 2113 \nz\n\" id=\"DejaVuSans-6e\" transform=\"scale(0.015625)\"/>\n       <path d=\"M 2194 1759 \nQ 1497 1759 1228 1600 \nQ 959 1441 959 1056 \nQ 959 750 1161 570 \nQ 1363 391 1709 391 \nQ 2188 391 2477 730 \nQ 2766 1069 2766 1631 \nL 2766 1759 \nL 2194 1759 \nz\nM 3341 1997 \nL 3341 0 \nL 2766 0 \nL 2766 531 \nQ 2569 213 2275 61 \nQ 1981 -91 1556 -91 \nQ 1019 -91 701 211 \nQ 384 513 384 1019 \nQ 384 1609 779 1909 \nQ 1175 2209 1959 2209 \nL 2766 2209 \nL 2766 2266 \nQ 2766 2663 2505 2880 \nQ 2244 3097 1772 3097 \nQ 1472 3097 1187 3025 \nQ 903 2953 641 2809 \nL 641 3341 \nQ 956 3463 1253 3523 \nQ 1550 3584 1831 3584 \nQ 2591 3584 2966 3190 \nQ 3341 2797 3341 1997 \nz\n\" id=\"DejaVuSans-61\" transform=\"scale(0.015625)\"/>\n       <path d=\"M 3328 2828 \nQ 3544 3216 3844 3400 \nQ 4144 3584 4550 3584 \nQ 5097 3584 5394 3201 \nQ 5691 2819 5691 2113 \nL 5691 0 \nL 5113 0 \nL 5113 2094 \nQ 5113 2597 4934 2840 \nQ 4756 3084 4391 3084 \nQ 3944 3084 3684 2787 \nQ 3425 2491 3425 1978 \nL 3425 0 \nL 2847 0 \nL 2847 2094 \nQ 2847 2600 2669 2842 \nQ 2491 3084 2119 3084 \nQ 1678 3084 1418 2786 \nQ 1159 2488 1159 1978 \nL 1159 0 \nL 581 0 \nL 581 3500 \nL 1159 3500 \nL 1159 2956 \nQ 1356 3278 1631 3431 \nQ 1906 3584 2284 3584 \nQ 2666 3584 2933 3390 \nQ 3200 3197 3328 2828 \nz\n\" id=\"DejaVuSans-6d\" transform=\"scale(0.015625)\"/>\n       <path d=\"M 3597 1894 \nL 3597 1613 \nL 953 1613 \nQ 991 1019 1311 708 \nQ 1631 397 2203 397 \nQ 2534 397 2845 478 \nQ 3156 559 3463 722 \nL 3463 178 \nQ 3153 47 2828 -22 \nQ 2503 -91 2169 -91 \nQ 1331 -91 842 396 \nQ 353 884 353 1716 \nQ 353 2575 817 3079 \nQ 1281 3584 2069 3584 \nQ 2775 3584 3186 3129 \nQ 3597 2675 3597 1894 \nz\nM 3022 2063 \nQ 3016 2534 2758 2815 \nQ 2500 3097 2075 3097 \nQ 1594 3097 1305 2825 \nQ 1016 2553 972 2059 \nL 3022 2063 \nz\n\" id=\"DejaVuSans-65\" transform=\"scale(0.015625)\"/>\n       <path d=\"M 2834 3397 \nL 2834 2853 \nQ 2591 2978 2328 3040 \nQ 2066 3103 1784 3103 \nQ 1356 3103 1142 2972 \nQ 928 2841 928 2578 \nQ 928 2378 1081 2264 \nQ 1234 2150 1697 2047 \nL 1894 2003 \nQ 2506 1872 2764 1633 \nQ 3022 1394 3022 966 \nQ 3022 478 2636 193 \nQ 2250 -91 1575 -91 \nQ 1294 -91 989 -36 \nQ 684 19 347 128 \nL 347 722 \nQ 666 556 975 473 \nQ 1284 391 1588 391 \nQ 1994 391 2212 530 \nQ 2431 669 2431 922 \nQ 2431 1156 2273 1281 \nQ 2116 1406 1581 1522 \nL 1381 1569 \nQ 847 1681 609 1914 \nQ 372 2147 372 2553 \nQ 372 3047 722 3315 \nQ 1072 3584 1716 3584 \nQ 2034 3584 2315 3537 \nQ 2597 3491 2834 3397 \nz\n\" id=\"DejaVuSans-73\" transform=\"scale(0.015625)\"/>\n      </defs>\n      <use xlink:href=\"#DejaVuSans-6e\"/>\n      <use x=\"63.378906\" xlink:href=\"#DejaVuSans-61\"/>\n      <use x=\"124.658203\" xlink:href=\"#DejaVuSans-6d\"/>\n      <use x=\"222.070312\" xlink:href=\"#DejaVuSans-65\"/>\n      <use x=\"283.59375\" xlink:href=\"#DejaVuSans-73\"/>\n     </g>\n    </g>\n   </g>\n   <g id=\"patch_13\">\n    <path d=\"M 75.99375 224.64 \nL 75.99375 7.2 \n\" style=\"fill:none;stroke:#000000;stroke-linecap:square;stroke-linejoin:miter;stroke-width:0.8;\"/>\n   </g>\n   <g id=\"patch_14\">\n    <path d=\"M 410.79375 224.64 \nL 410.79375 7.2 \n\" style=\"fill:none;stroke:#000000;stroke-linecap:square;stroke-linejoin:miter;stroke-width:0.8;\"/>\n   </g>\n   <g id=\"patch_15\">\n    <path d=\"M 75.99375 224.64 \nL 410.79375 224.64 \n\" style=\"fill:none;stroke:#000000;stroke-linecap:square;stroke-linejoin:miter;stroke-width:0.8;\"/>\n   </g>\n   <g id=\"patch_16\">\n    <path d=\"M 75.99375 7.2 \nL 410.79375 7.2 \n\" style=\"fill:none;stroke:#000000;stroke-linecap:square;stroke-linejoin:miter;stroke-width:0.8;\"/>\n   </g>\n  </g>\n </g>\n <defs>\n  <clipPath id=\"p9a442a2735\">\n   <rect height=\"217.44\" width=\"334.8\" x=\"75.99375\" y=\"7.2\"/>\n  </clipPath>\n </defs>\n</svg>\n",
            "image/png": "[encoded data removed]"
          },
          "metadata": {
            "needs_background": "light"
          }
        }
      ],
      "source": [
        "planet_df['diameter'].plot.barh()"
      ]
    },
    {
      "source": [
        "Jupiter is truly massive even compared to the large planet Saturn. Another question we may want to look at is the relationship between the mass of the planets and the diameter.\n",
        "What would be a good plot to see that?  We can try a scatter plot."
      ],
      "cell_type": "markdown",
      "metadata": {}
    },
    {
      "cell_type": "code",
      "execution_count": 13,
      "metadata": {},
      "outputs": [
        {
          "output_type": "execute_result",
          "data": {
            "text/plain": [
              "<AxesSubplot:xlabel='diameter', ylabel='mass'>"
            ]
          },
          "metadata": {},
          "execution_count": 13
        },
        {
          "output_type": "display_data",
          "data": {
            "text/plain": "<Figure size 432x288 with 1 Axes>",
            "image/svg+xml": "<?xml version=\"1.0\" encoding=\"utf-8\" standalone=\"no\"?>\n<!DOCTYPE svg PUBLIC \"-//W3C//DTD SVG 1.1//EN\"\n  \"http://www.w3.org/Graphics/SVG/1.1/DTD/svg11.dtd\">\n<svg height=\"262.19625pt\" version=\"1.1\" viewBox=\"0 0 395.328125 262.19625\" width=\"395.328125pt\" xmlns=\"http://www.w3.org/2000/svg\" xmlns:xlink=\"http://www.w3.org/1999/xlink\">\n <metadata>\n  <rdf:RDF xmlns:cc=\"http://creativecommons.org/ns#\" xmlns:dc=\"http://purl.org/dc/elements/1.1/\" xmlns:rdf=\"http://www.w3.org/1999/02/22-rdf-syntax-ns#\">\n   <cc:Work>\n    <dc:type rdf:resource=\"http://purl.org/dc/dcmitype/StillImage\"/>\n    <dc:date>2021-06-20T09:41:37.039594</dc:date>\n    <dc:format>image/svg+xml</dc:format>\n    <dc:creator>\n     <cc:Agent>\n      <dc:title>Matplotlib v3.4.2, https://matplotlib.org/</dc:title>\n     </cc:Agent>\n    </dc:creator>\n   </cc:Work>\n  </rdf:RDF>\n </metadata>\n <defs>\n  <style type=\"text/css\">*{stroke-linecap:butt;stroke-linejoin:round;}</style>\n </defs>\n <g id=\"figure_1\">\n  <g id=\"patch_1\">\n   <path d=\"M 0 262.19625 \nL 395.328125 262.19625 \nL 395.328125 0 \nL 0 0 \nz\n\" style=\"fill:none;\"/>\n  </g>\n  <g id=\"axes_1\">\n   <g id=\"patch_2\">\n    <path d=\"M 53.328125 224.64 \nL 388.128125 224.64 \nL 388.128125 7.2 \nL 53.328125 7.2 \nz\n\" style=\"fill:#ffffff;\"/>\n   </g>\n   <g id=\"PathCollection_1\">\n    <defs>\n     <path d=\"M 0 2.236068 \nC 0.593012 2.236068 1.161816 2.000462 1.581139 1.581139 \nC 2.000462 1.161816 2.236068 0.593012 2.236068 0 \nC 2.236068 -0.593012 2.000462 -1.161816 1.581139 -1.581139 \nC 1.161816 -2.000462 0.593012 -2.236068 0 -2.236068 \nC -0.593012 -2.236068 -1.161816 -2.000462 -1.581139 -1.581139 \nC -2.000462 -1.161816 -2.236068 -0.593012 -2.236068 0 \nC -2.236068 0.593012 -2.000462 1.161816 -1.581139 1.581139 \nC -1.161816 2.000462 -0.593012 2.236068 0 2.236068 \nz\n\" id=\"m4315302379\" style=\"stroke:#1f77b4;\"/>\n    </defs>\n    <g clip-path=\"url(#pda930d0170)\">\n     <use style=\"fill:#1f77b4;stroke:#1f77b4;\" x=\"73.97712\" xlink:href=\"#m4315302379\" y=\"214.723515\"/>\n     <use style=\"fill:#1f77b4;stroke:#1f77b4;\" x=\"89.615871\" xlink:href=\"#m4315302379\" y=\"214.25068\"/>\n     <use style=\"fill:#1f77b4;stroke:#1f77b4;\" x=\"91.027146\" xlink:href=\"#m4315302379\" y=\"214.136116\"/>\n     <use style=\"fill:#1f77b4;stroke:#1f77b4;\" x=\"70.938116\" xlink:href=\"#m4315302379\" y=\"214.750281\"/>\n     <use style=\"fill:#1f77b4;stroke:#1f77b4;\" x=\"78.117872\" xlink:href=\"#m4315302379\" y=\"214.691021\"/>\n     <use style=\"fill:#1f77b4;stroke:#1f77b4;\" x=\"372.909943\" xlink:href=\"#m4315302379\" y=\"17.083636\"/>\n     <use style=\"fill:#1f77b4;stroke:#1f77b4;\" x=\"324.320507\" xlink:href=\"#m4315302379\" y=\"155.601418\"/>\n     <use style=\"fill:#1f77b4;stroke:#1f77b4;\" x=\"174.062959\" xlink:href=\"#m4315302379\" y=\"205.717776\"/>\n     <use style=\"fill:#1f77b4;stroke:#1f77b4;\" x=\"170.621352\" xlink:href=\"#m4315302379\" y=\"204.134716\"/>\n     <use style=\"fill:#1f77b4;stroke:#1f77b4;\" x=\"68.546307\" xlink:href=\"#m4315302379\" y=\"214.756364\"/>\n    </g>\n   </g>\n   <g id=\"matplotlib.axis_1\">\n    <g id=\"xtick_1\">\n     <g id=\"line2d_1\">\n      <defs>\n       <path d=\"M 0 0 \nL 0 3.5 \n\" id=\"mf71ede3b0e\" style=\"stroke:#000000;stroke-width:0.8;\"/>\n      </defs>\n      <g>\n       <use style=\"stroke:#000000;stroke-width:0.8;\" x=\"63.416364\" xlink:href=\"#mf71ede3b0e\" y=\"224.64\"/>\n      </g>\n     </g>\n     <g id=\"text_1\">\n      <!-- 0 -->\n      <g transform=\"translate(60.235114 239.238437)scale(0.1 -0.1)\">\n       <defs>\n        <path d=\"M 2034 4250 \nQ 1547 4250 1301 3770 \nQ 1056 3291 1056 2328 \nQ 1056 1369 1301 889 \nQ 1547 409 2034 409 \nQ 2525 409 2770 889 \nQ 3016 1369 3016 2328 \nQ 3016 3291 2770 3770 \nQ 2525 4250 2034 4250 \nz\nM 2034 4750 \nQ 2819 4750 3233 4129 \nQ 3647 3509 3647 2328 \nQ 3647 1150 3233 529 \nQ 2819 -91 2034 -91 \nQ 1250 -91 836 529 \nQ 422 1150 422 2328 \nQ 422 3509 836 4129 \nQ 1250 4750 2034 4750 \nz\n\" id=\"DejaVuSans-30\" transform=\"scale(0.015625)\"/>\n       </defs>\n       <use xlink:href=\"#DejaVuSans-30\"/>\n      </g>\n     </g>\n    </g>\n    <g id=\"xtick_2\">\n     <g id=\"line2d_2\">\n      <g>\n       <use style=\"stroke:#000000;stroke-width:0.8;\" x=\"106.707023\" xlink:href=\"#mf71ede3b0e\" y=\"224.64\"/>\n      </g>\n     </g>\n     <g id=\"text_2\">\n      <!-- 20000 -->\n      <g transform=\"translate(90.800773 239.238437)scale(0.1 -0.1)\">\n       <defs>\n        <path d=\"M 1228 531 \nL 3431 531 \nL 3431 0 \nL 469 0 \nL 469 531 \nQ 828 903 1448 1529 \nQ 2069 2156 2228 2338 \nQ 2531 2678 2651 2914 \nQ 2772 3150 2772 3378 \nQ 2772 3750 2511 3984 \nQ 2250 4219 1831 4219 \nQ 1534 4219 1204 4116 \nQ 875 4013 500 3803 \nL 500 4441 \nQ 881 4594 1212 4672 \nQ 1544 4750 1819 4750 \nQ 2544 4750 2975 4387 \nQ 3406 4025 3406 3419 \nQ 3406 3131 3298 2873 \nQ 3191 2616 2906 2266 \nQ 2828 2175 2409 1742 \nQ 1991 1309 1228 531 \nz\n\" id=\"DejaVuSans-32\" transform=\"scale(0.015625)\"/>\n       </defs>\n       <use xlink:href=\"#DejaVuSans-32\"/>\n       <use x=\"63.623047\" xlink:href=\"#DejaVuSans-30\"/>\n       <use x=\"127.246094\" xlink:href=\"#DejaVuSans-30\"/>\n       <use x=\"190.869141\" xlink:href=\"#DejaVuSans-30\"/>\n       <use x=\"254.492188\" xlink:href=\"#DejaVuSans-30\"/>\n      </g>\n     </g>\n    </g>\n    <g id=\"xtick_3\">\n     <g id=\"line2d_3\">\n      <g>\n       <use style=\"stroke:#000000;stroke-width:0.8;\" x=\"149.997682\" xlink:href=\"#mf71ede3b0e\" y=\"224.64\"/>\n      </g>\n     </g>\n     <g id=\"text_3\">\n      <!-- 40000 -->\n      <g transform=\"translate(134.091432 239.238437)scale(0.1 -0.1)\">\n       <defs>\n        <path d=\"M 2419 4116 \nL 825 1625 \nL 2419 1625 \nL 2419 4116 \nz\nM 2253 4666 \nL 3047 4666 \nL 3047 1625 \nL 3713 1625 \nL 3713 1100 \nL 3047 1100 \nL 3047 0 \nL 2419 0 \nL 2419 1100 \nL 313 1100 \nL 313 1709 \nL 2253 4666 \nz\n\" id=\"DejaVuSans-34\" transform=\"scale(0.015625)\"/>\n       </defs>\n       <use xlink:href=\"#DejaVuSans-34\"/>\n       <use x=\"63.623047\" xlink:href=\"#DejaVuSans-30\"/>\n       <use x=\"127.246094\" xlink:href=\"#DejaVuSans-30\"/>\n       <use x=\"190.869141\" xlink:href=\"#DejaVuSans-30\"/>\n       <use x=\"254.492188\" xlink:href=\"#DejaVuSans-30\"/>\n      </g>\n     </g>\n    </g>\n    <g id=\"xtick_4\">\n     <g id=\"line2d_4\">\n      <g>\n       <use style=\"stroke:#000000;stroke-width:0.8;\" x=\"193.288341\" xlink:href=\"#mf71ede3b0e\" y=\"224.64\"/>\n      </g>\n     </g>\n     <g id=\"text_4\">\n      <!-- 60000 -->\n      <g transform=\"translate(177.382091 239.238437)scale(0.1 -0.1)\">\n       <defs>\n        <path d=\"M 2113 2584 \nQ 1688 2584 1439 2293 \nQ 1191 2003 1191 1497 \nQ 1191 994 1439 701 \nQ 1688 409 2113 409 \nQ 2538 409 2786 701 \nQ 3034 994 3034 1497 \nQ 3034 2003 2786 2293 \nQ 2538 2584 2113 2584 \nz\nM 3366 4563 \nL 3366 3988 \nQ 3128 4100 2886 4159 \nQ 2644 4219 2406 4219 \nQ 1781 4219 1451 3797 \nQ 1122 3375 1075 2522 \nQ 1259 2794 1537 2939 \nQ 1816 3084 2150 3084 \nQ 2853 3084 3261 2657 \nQ 3669 2231 3669 1497 \nQ 3669 778 3244 343 \nQ 2819 -91 2113 -91 \nQ 1303 -91 875 529 \nQ 447 1150 447 2328 \nQ 447 3434 972 4092 \nQ 1497 4750 2381 4750 \nQ 2619 4750 2861 4703 \nQ 3103 4656 3366 4563 \nz\n\" id=\"DejaVuSans-36\" transform=\"scale(0.015625)\"/>\n       </defs>\n       <use xlink:href=\"#DejaVuSans-36\"/>\n       <use x=\"63.623047\" xlink:href=\"#DejaVuSans-30\"/>\n       <use x=\"127.246094\" xlink:href=\"#DejaVuSans-30\"/>\n       <use x=\"190.869141\" xlink:href=\"#DejaVuSans-30\"/>\n       <use x=\"254.492188\" xlink:href=\"#DejaVuSans-30\"/>\n      </g>\n     </g>\n    </g>\n    <g id=\"xtick_5\">\n     <g id=\"line2d_5\">\n      <g>\n       <use style=\"stroke:#000000;stroke-width:0.8;\" x=\"236.579\" xlink:href=\"#mf71ede3b0e\" y=\"224.64\"/>\n      </g>\n     </g>\n     <g id=\"text_5\">\n      <!-- 80000 -->\n      <g transform=\"translate(220.67275 239.238437)scale(0.1 -0.1)\">\n       <defs>\n        <path d=\"M 2034 2216 \nQ 1584 2216 1326 1975 \nQ 1069 1734 1069 1313 \nQ 1069 891 1326 650 \nQ 1584 409 2034 409 \nQ 2484 409 2743 651 \nQ 3003 894 3003 1313 \nQ 3003 1734 2745 1975 \nQ 2488 2216 2034 2216 \nz\nM 1403 2484 \nQ 997 2584 770 2862 \nQ 544 3141 544 3541 \nQ 544 4100 942 4425 \nQ 1341 4750 2034 4750 \nQ 2731 4750 3128 4425 \nQ 3525 4100 3525 3541 \nQ 3525 3141 3298 2862 \nQ 3072 2584 2669 2484 \nQ 3125 2378 3379 2068 \nQ 3634 1759 3634 1313 \nQ 3634 634 3220 271 \nQ 2806 -91 2034 -91 \nQ 1263 -91 848 271 \nQ 434 634 434 1313 \nQ 434 1759 690 2068 \nQ 947 2378 1403 2484 \nz\nM 1172 3481 \nQ 1172 3119 1398 2916 \nQ 1625 2713 2034 2713 \nQ 2441 2713 2670 2916 \nQ 2900 3119 2900 3481 \nQ 2900 3844 2670 4047 \nQ 2441 4250 2034 4250 \nQ 1625 4250 1398 4047 \nQ 1172 3844 1172 3481 \nz\n\" id=\"DejaVuSans-38\" transform=\"scale(0.015625)\"/>\n       </defs>\n       <use xlink:href=\"#DejaVuSans-38\"/>\n       <use x=\"63.623047\" xlink:href=\"#DejaVuSans-30\"/>\n       <use x=\"127.246094\" xlink:href=\"#DejaVuSans-30\"/>\n       <use x=\"190.869141\" xlink:href=\"#DejaVuSans-30\"/>\n       <use x=\"254.492188\" xlink:href=\"#DejaVuSans-30\"/>\n      </g>\n     </g>\n    </g>\n    <g id=\"xtick_6\">\n     <g id=\"line2d_6\">\n      <g>\n       <use style=\"stroke:#000000;stroke-width:0.8;\" x=\"279.869659\" xlink:href=\"#mf71ede3b0e\" y=\"224.64\"/>\n      </g>\n     </g>\n     <g id=\"text_6\">\n      <!-- 100000 -->\n      <g transform=\"translate(260.782159 239.238437)scale(0.1 -0.1)\">\n       <defs>\n        <path d=\"M 794 531 \nL 1825 531 \nL 1825 4091 \nL 703 3866 \nL 703 4441 \nL 1819 4666 \nL 2450 4666 \nL 2450 531 \nL 3481 531 \nL 3481 0 \nL 794 0 \nL 794 531 \nz\n\" id=\"DejaVuSans-31\" transform=\"scale(0.015625)\"/>\n       </defs>\n       <use xlink:href=\"#DejaVuSans-31\"/>\n       <use x=\"63.623047\" xlink:href=\"#DejaVuSans-30\"/>\n       <use x=\"127.246094\" xlink:href=\"#DejaVuSans-30\"/>\n       <use x=\"190.869141\" xlink:href=\"#DejaVuSans-30\"/>\n       <use x=\"254.492188\" xlink:href=\"#DejaVuSans-30\"/>\n       <use x=\"318.115234\" xlink:href=\"#DejaVuSans-30\"/>\n      </g>\n     </g>\n    </g>\n    <g id=\"xtick_7\">\n     <g id=\"line2d_7\">\n      <g>\n       <use style=\"stroke:#000000;stroke-width:0.8;\" x=\"323.160318\" xlink:href=\"#mf71ede3b0e\" y=\"224.64\"/>\n      </g>\n     </g>\n     <g id=\"text_7\">\n      <!-- 120000 -->\n      <g transform=\"translate(304.072818 239.238437)scale(0.1 -0.1)\">\n       <use xlink:href=\"#DejaVuSans-31\"/>\n       <use x=\"63.623047\" xlink:href=\"#DejaVuSans-32\"/>\n       <use x=\"127.246094\" xlink:href=\"#DejaVuSans-30\"/>\n       <use x=\"190.869141\" xlink:href=\"#DejaVuSans-30\"/>\n       <use x=\"254.492188\" xlink:href=\"#DejaVuSans-30\"/>\n       <use x=\"318.115234\" xlink:href=\"#DejaVuSans-30\"/>\n      </g>\n     </g>\n    </g>\n    <g id=\"xtick_8\">\n     <g id=\"line2d_8\">\n      <g>\n       <use style=\"stroke:#000000;stroke-width:0.8;\" x=\"366.450977\" xlink:href=\"#mf71ede3b0e\" y=\"224.64\"/>\n      </g>\n     </g>\n     <g id=\"text_8\">\n      <!-- 140000 -->\n      <g transform=\"translate(347.363477 239.238437)scale(0.1 -0.1)\">\n       <use xlink:href=\"#DejaVuSans-31\"/>\n       <use x=\"63.623047\" xlink:href=\"#DejaVuSans-34\"/>\n       <use x=\"127.246094\" xlink:href=\"#DejaVuSans-30\"/>\n       <use x=\"190.869141\" xlink:href=\"#DejaVuSans-30\"/>\n       <use x=\"254.492188\" xlink:href=\"#DejaVuSans-30\"/>\n       <use x=\"318.115234\" xlink:href=\"#DejaVuSans-30\"/>\n      </g>\n     </g>\n    </g>\n    <g id=\"text_9\">\n     <!-- diameter -->\n     <g transform=\"translate(198.061719 252.916562)scale(0.1 -0.1)\">\n      <defs>\n       <path d=\"M 2906 2969 \nL 2906 4863 \nL 3481 4863 \nL 3481 0 \nL 2906 0 \nL 2906 525 \nQ 2725 213 2448 61 \nQ 2172 -91 1784 -91 \nQ 1150 -91 751 415 \nQ 353 922 353 1747 \nQ 353 2572 751 3078 \nQ 1150 3584 1784 3584 \nQ 2172 3584 2448 3432 \nQ 2725 3281 2906 2969 \nz\nM 947 1747 \nQ 947 1113 1208 752 \nQ 1469 391 1925 391 \nQ 2381 391 2643 752 \nQ 2906 1113 2906 1747 \nQ 2906 2381 2643 2742 \nQ 2381 3103 1925 3103 \nQ 1469 3103 1208 2742 \nQ 947 2381 947 1747 \nz\n\" id=\"DejaVuSans-64\" transform=\"scale(0.015625)\"/>\n       <path d=\"M 603 3500 \nL 1178 3500 \nL 1178 0 \nL 603 0 \nL 603 3500 \nz\nM 603 4863 \nL 1178 4863 \nL 1178 4134 \nL 603 4134 \nL 603 4863 \nz\n\" id=\"DejaVuSans-69\" transform=\"scale(0.015625)\"/>\n       <path d=\"M 2194 1759 \nQ 1497 1759 1228 1600 \nQ 959 1441 959 1056 \nQ 959 750 1161 570 \nQ 1363 391 1709 391 \nQ 2188 391 2477 730 \nQ 2766 1069 2766 1631 \nL 2766 1759 \nL 2194 1759 \nz\nM 3341 1997 \nL 3341 0 \nL 2766 0 \nL 2766 531 \nQ 2569 213 2275 61 \nQ 1981 -91 1556 -91 \nQ 1019 -91 701 211 \nQ 384 513 384 1019 \nQ 384 1609 779 1909 \nQ 1175 2209 1959 2209 \nL 2766 2209 \nL 2766 2266 \nQ 2766 2663 2505 2880 \nQ 2244 3097 1772 3097 \nQ 1472 3097 1187 3025 \nQ 903 2953 641 2809 \nL 641 3341 \nQ 956 3463 1253 3523 \nQ 1550 3584 1831 3584 \nQ 2591 3584 2966 3190 \nQ 3341 2797 3341 1997 \nz\n\" id=\"DejaVuSans-61\" transform=\"scale(0.015625)\"/>\n       <path d=\"M 3328 2828 \nQ 3544 3216 3844 3400 \nQ 4144 3584 4550 3584 \nQ 5097 3584 5394 3201 \nQ 5691 2819 5691 2113 \nL 5691 0 \nL 5113 0 \nL 5113 2094 \nQ 5113 2597 4934 2840 \nQ 4756 3084 4391 3084 \nQ 3944 3084 3684 2787 \nQ 3425 2491 3425 1978 \nL 3425 0 \nL 2847 0 \nL 2847 2094 \nQ 2847 2600 2669 2842 \nQ 2491 3084 2119 3084 \nQ 1678 3084 1418 2786 \nQ 1159 2488 1159 1978 \nL 1159 0 \nL 581 0 \nL 581 3500 \nL 1159 3500 \nL 1159 2956 \nQ 1356 3278 1631 3431 \nQ 1906 3584 2284 3584 \nQ 2666 3584 2933 3390 \nQ 3200 3197 3328 2828 \nz\n\" id=\"DejaVuSans-6d\" transform=\"scale(0.015625)\"/>\n       <path d=\"M 3597 1894 \nL 3597 1613 \nL 953 1613 \nQ 991 1019 1311 708 \nQ 1631 397 2203 397 \nQ 2534 397 2845 478 \nQ 3156 559 3463 722 \nL 3463 178 \nQ 3153 47 2828 -22 \nQ 2503 -91 2169 -91 \nQ 1331 -91 842 396 \nQ 353 884 353 1716 \nQ 353 2575 817 3079 \nQ 1281 3584 2069 3584 \nQ 2775 3584 3186 3129 \nQ 3597 2675 3597 1894 \nz\nM 3022 2063 \nQ 3016 2534 2758 2815 \nQ 2500 3097 2075 3097 \nQ 1594 3097 1305 2825 \nQ 1016 2553 972 2059 \nL 3022 2063 \nz\n\" id=\"DejaVuSans-65\" transform=\"scale(0.015625)\"/>\n       <path d=\"M 1172 4494 \nL 1172 3500 \nL 2356 3500 \nL 2356 3053 \nL 1172 3053 \nL 1172 1153 \nQ 1172 725 1289 603 \nQ 1406 481 1766 481 \nL 2356 481 \nL 2356 0 \nL 1766 0 \nQ 1100 0 847 248 \nQ 594 497 594 1153 \nL 594 3053 \nL 172 3053 \nL 172 3500 \nL 594 3500 \nL 594 4494 \nL 1172 4494 \nz\n\" id=\"DejaVuSans-74\" transform=\"scale(0.015625)\"/>\n       <path d=\"M 2631 2963 \nQ 2534 3019 2420 3045 \nQ 2306 3072 2169 3072 \nQ 1681 3072 1420 2755 \nQ 1159 2438 1159 1844 \nL 1159 0 \nL 581 0 \nL 581 3500 \nL 1159 3500 \nL 1159 2956 \nQ 1341 3275 1631 3429 \nQ 1922 3584 2338 3584 \nQ 2397 3584 2469 3576 \nQ 2541 3569 2628 3553 \nL 2631 2963 \nz\n\" id=\"DejaVuSans-72\" transform=\"scale(0.015625)\"/>\n      </defs>\n      <use xlink:href=\"#DejaVuSans-64\"/>\n      <use x=\"63.476562\" xlink:href=\"#DejaVuSans-69\"/>\n      <use x=\"91.259766\" xlink:href=\"#DejaVuSans-61\"/>\n      <use x=\"152.539062\" xlink:href=\"#DejaVuSans-6d\"/>\n      <use x=\"249.951172\" xlink:href=\"#DejaVuSans-65\"/>\n      <use x=\"311.474609\" xlink:href=\"#DejaVuSans-74\"/>\n      <use x=\"350.683594\" xlink:href=\"#DejaVuSans-65\"/>\n      <use x=\"412.207031\" xlink:href=\"#DejaVuSans-72\"/>\n     </g>\n    </g>\n   </g>\n   <g id=\"matplotlib.axis_2\">\n    <g id=\"ytick_1\">\n     <g id=\"line2d_9\">\n      <defs>\n       <path d=\"M 0 0 \nL -3.5 0 \n\" id=\"m3d61b0ad48\" style=\"stroke:#000000;stroke-width:0.8;\"/>\n      </defs>\n      <g>\n       <use style=\"stroke:#000000;stroke-width:0.8;\" x=\"53.328125\" xlink:href=\"#m3d61b0ad48\" y=\"214.757884\"/>\n      </g>\n     </g>\n     <g id=\"text_10\">\n      <!-- 0 -->\n      <g transform=\"translate(39.965625 218.557103)scale(0.1 -0.1)\">\n       <use xlink:href=\"#DejaVuSans-30\"/>\n      </g>\n     </g>\n    </g>\n    <g id=\"ytick_2\">\n     <g id=\"line2d_10\">\n      <g>\n       <use style=\"stroke:#000000;stroke-width:0.8;\" x=\"53.328125\" xlink:href=\"#m3d61b0ad48\" y=\"188.720707\"/>\n      </g>\n     </g>\n     <g id=\"text_11\">\n      <!-- 250 -->\n      <g transform=\"translate(27.240625 192.519926)scale(0.1 -0.1)\">\n       <defs>\n        <path d=\"M 691 4666 \nL 3169 4666 \nL 3169 4134 \nL 1269 4134 \nL 1269 2991 \nQ 1406 3038 1543 3061 \nQ 1681 3084 1819 3084 \nQ 2600 3084 3056 2656 \nQ 3513 2228 3513 1497 \nQ 3513 744 3044 326 \nQ 2575 -91 1722 -91 \nQ 1428 -91 1123 -41 \nQ 819 9 494 109 \nL 494 744 \nQ 775 591 1075 516 \nQ 1375 441 1709 441 \nQ 2250 441 2565 725 \nQ 2881 1009 2881 1497 \nQ 2881 1984 2565 2268 \nQ 2250 2553 1709 2553 \nQ 1456 2553 1204 2497 \nQ 953 2441 691 2322 \nL 691 4666 \nz\n\" id=\"DejaVuSans-35\" transform=\"scale(0.015625)\"/>\n       </defs>\n       <use xlink:href=\"#DejaVuSans-32\"/>\n       <use x=\"63.623047\" xlink:href=\"#DejaVuSans-35\"/>\n       <use x=\"127.246094\" xlink:href=\"#DejaVuSans-30\"/>\n      </g>\n     </g>\n    </g>\n    <g id=\"ytick_3\">\n     <g id=\"line2d_11\">\n      <g>\n       <use style=\"stroke:#000000;stroke-width:0.8;\" x=\"53.328125\" xlink:href=\"#m3d61b0ad48\" y=\"162.68353\"/>\n      </g>\n     </g>\n     <g id=\"text_12\">\n      <!-- 500 -->\n      <g transform=\"translate(27.240625 166.482749)scale(0.1 -0.1)\">\n       <use xlink:href=\"#DejaVuSans-35\"/>\n       <use x=\"63.623047\" xlink:href=\"#DejaVuSans-30\"/>\n       <use x=\"127.246094\" xlink:href=\"#DejaVuSans-30\"/>\n      </g>\n     </g>\n    </g>\n    <g id=\"ytick_4\">\n     <g id=\"line2d_12\">\n      <g>\n       <use style=\"stroke:#000000;stroke-width:0.8;\" x=\"53.328125\" xlink:href=\"#m3d61b0ad48\" y=\"136.646353\"/>\n      </g>\n     </g>\n     <g id=\"text_13\">\n      <!-- 750 -->\n      <g transform=\"translate(27.240625 140.445572)scale(0.1 -0.1)\">\n       <defs>\n        <path d=\"M 525 4666 \nL 3525 4666 \nL 3525 4397 \nL 1831 0 \nL 1172 0 \nL 2766 4134 \nL 525 4134 \nL 525 4666 \nz\n\" id=\"DejaVuSans-37\" transform=\"scale(0.015625)\"/>\n       </defs>\n       <use xlink:href=\"#DejaVuSans-37\"/>\n       <use x=\"63.623047\" xlink:href=\"#DejaVuSans-35\"/>\n       <use x=\"127.246094\" xlink:href=\"#DejaVuSans-30\"/>\n      </g>\n     </g>\n    </g>\n    <g id=\"ytick_5\">\n     <g id=\"line2d_13\">\n      <g>\n       <use style=\"stroke:#000000;stroke-width:0.8;\" x=\"53.328125\" xlink:href=\"#m3d61b0ad48\" y=\"110.609176\"/>\n      </g>\n     </g>\n     <g id=\"text_14\">\n      <!-- 1000 -->\n      <g transform=\"translate(20.878125 114.408395)scale(0.1 -0.1)\">\n       <use xlink:href=\"#DejaVuSans-31\"/>\n       <use x=\"63.623047\" xlink:href=\"#DejaVuSans-30\"/>\n       <use x=\"127.246094\" xlink:href=\"#DejaVuSans-30\"/>\n       <use x=\"190.869141\" xlink:href=\"#DejaVuSans-30\"/>\n      </g>\n     </g>\n    </g>\n    <g id=\"ytick_6\">\n     <g id=\"line2d_14\">\n      <g>\n       <use style=\"stroke:#000000;stroke-width:0.8;\" x=\"53.328125\" xlink:href=\"#m3d61b0ad48\" y=\"84.571999\"/>\n      </g>\n     </g>\n     <g id=\"text_15\">\n      <!-- 1250 -->\n      <g transform=\"translate(20.878125 88.371218)scale(0.1 -0.1)\">\n       <use xlink:href=\"#DejaVuSans-31\"/>\n       <use x=\"63.623047\" xlink:href=\"#DejaVuSans-32\"/>\n       <use x=\"127.246094\" xlink:href=\"#DejaVuSans-35\"/>\n       <use x=\"190.869141\" xlink:href=\"#DejaVuSans-30\"/>\n      </g>\n     </g>\n    </g>\n    <g id=\"ytick_7\">\n     <g id=\"line2d_15\">\n      <g>\n       <use style=\"stroke:#000000;stroke-width:0.8;\" x=\"53.328125\" xlink:href=\"#m3d61b0ad48\" y=\"58.534822\"/>\n      </g>\n     </g>\n     <g id=\"text_16\">\n      <!-- 1500 -->\n      <g transform=\"translate(20.878125 62.334041)scale(0.1 -0.1)\">\n       <use xlink:href=\"#DejaVuSans-31\"/>\n       <use x=\"63.623047\" xlink:href=\"#DejaVuSans-35\"/>\n       <use x=\"127.246094\" xlink:href=\"#DejaVuSans-30\"/>\n       <use x=\"190.869141\" xlink:href=\"#DejaVuSans-30\"/>\n      </g>\n     </g>\n    </g>\n    <g id=\"ytick_8\">\n     <g id=\"line2d_16\">\n      <g>\n       <use style=\"stroke:#000000;stroke-width:0.8;\" x=\"53.328125\" xlink:href=\"#m3d61b0ad48\" y=\"32.497645\"/>\n      </g>\n     </g>\n     <g id=\"text_17\">\n      <!-- 1750 -->\n      <g transform=\"translate(20.878125 36.296864)scale(0.1 -0.1)\">\n       <use xlink:href=\"#DejaVuSans-31\"/>\n       <use x=\"63.623047\" xlink:href=\"#DejaVuSans-37\"/>\n       <use x=\"127.246094\" xlink:href=\"#DejaVuSans-35\"/>\n       <use x=\"190.869141\" xlink:href=\"#DejaVuSans-30\"/>\n      </g>\n     </g>\n    </g>\n    <g id=\"text_18\">\n     <!-- mass -->\n     <g transform=\"translate(14.798438 129.06375)rotate(-90)scale(0.1 -0.1)\">\n      <defs>\n       <path d=\"M 2834 3397 \nL 2834 2853 \nQ 2591 2978 2328 3040 \nQ 2066 3103 1784 3103 \nQ 1356 3103 1142 2972 \nQ 928 2841 928 2578 \nQ 928 2378 1081 2264 \nQ 1234 2150 1697 2047 \nL 1894 2003 \nQ 2506 1872 2764 1633 \nQ 3022 1394 3022 966 \nQ 3022 478 2636 193 \nQ 2250 -91 1575 -91 \nQ 1294 -91 989 -36 \nQ 684 19 347 128 \nL 347 722 \nQ 666 556 975 473 \nQ 1284 391 1588 391 \nQ 1994 391 2212 530 \nQ 2431 669 2431 922 \nQ 2431 1156 2273 1281 \nQ 2116 1406 1581 1522 \nL 1381 1569 \nQ 847 1681 609 1914 \nQ 372 2147 372 2553 \nQ 372 3047 722 3315 \nQ 1072 3584 1716 3584 \nQ 2034 3584 2315 3537 \nQ 2597 3491 2834 3397 \nz\n\" id=\"DejaVuSans-73\" transform=\"scale(0.015625)\"/>\n      </defs>\n      <use xlink:href=\"#DejaVuSans-6d\"/>\n      <use x=\"97.412109\" xlink:href=\"#DejaVuSans-61\"/>\n      <use x=\"158.691406\" xlink:href=\"#DejaVuSans-73\"/>\n      <use x=\"210.791016\" xlink:href=\"#DejaVuSans-73\"/>\n     </g>\n    </g>\n   </g>\n   <g id=\"patch_3\">\n    <path d=\"M 53.328125 224.64 \nL 53.328125 7.2 \n\" style=\"fill:none;stroke:#000000;stroke-linecap:square;stroke-linejoin:miter;stroke-width:0.8;\"/>\n   </g>\n   <g id=\"patch_4\">\n    <path d=\"M 388.128125 224.64 \nL 388.128125 7.2 \n\" style=\"fill:none;stroke:#000000;stroke-linecap:square;stroke-linejoin:miter;stroke-width:0.8;\"/>\n   </g>\n   <g id=\"patch_5\">\n    <path d=\"M 53.328125 224.64 \nL 388.128125 224.64 \n\" style=\"fill:none;stroke:#000000;stroke-linecap:square;stroke-linejoin:miter;stroke-width:0.8;\"/>\n   </g>\n   <g id=\"patch_6\">\n    <path d=\"M 53.328125 7.2 \nL 388.128125 7.2 \n\" style=\"fill:none;stroke:#000000;stroke-linecap:square;stroke-linejoin:miter;stroke-width:0.8;\"/>\n   </g>\n  </g>\n </g>\n <defs>\n  <clipPath id=\"pda930d0170\">\n   <rect height=\"217.44\" width=\"334.8\" x=\"53.328125\" y=\"7.2\"/>\n  </clipPath>\n </defs>\n</svg>\n",
            "image/png": "[encoded data removed]"
          },
          "metadata": {
            "needs_background": "light"
          }
        }
      ],
      "source": [
        "import matplotlib as plt\n",
        "\n",
        "planet_df.plot.scatter(x='diameter', y='mass')\n",
        "\n",
        "# x=planet_df['diameter'].values\n",
        "# y=3.14*(x/10000)**3\n",
        "# plt.pyplot.plot(x,y)\n"
      ]
    },
    {
      "source": [
        "The relationship looks like it is a relationship where mass = diameter^3, does this make sense?  remember that mass is related to volume and volume = pi*r^3."
      ],
      "cell_type": "markdown",
      "metadata": {}
    },
    {
      "source": [
        "## Cleaning\n",
        "\n",
        "Another important step in data anlaysis is data cleaning.  Since we extracted the data manually from the web site using cut and paste, we were actually cleaning the data manually, removing extra spaces, adding commas, etc.  To illustrate some of the issues around cleaning data, here's a faster way to import data from HTML tables using pandas:"
      ],
      "cell_type": "markdown",
      "metadata": {}
    },
    {
      "cell_type": "code",
      "execution_count": 38,
      "metadata": {},
      "outputs": [
        {
          "output_type": "execute_result",
          "data": {
            "text/plain": [
              "                               0        1        2      3       4      5   \\\n",
              "0                             NaN  MERCURY    VENUS  EARTH    MOON   MARS   \n",
              "1                   Mass (1024kg)    0.330     4.87   5.97   0.073  0.642   \n",
              "2                   Diameter (km)     4879    12104  12756    3475   6792   \n",
              "3                 Density (kg/m3)     5427     5243   5514    3340   3933   \n",
              "4                  Gravity (m/s2)      3.7      8.9    9.8     1.6    3.7   \n",
              "5          Escape Velocity (km/s)      4.3     10.4   11.2     2.4    5.0   \n",
              "6         Rotation Period (hours)   1407.6  -5832.5   23.9   655.7   24.6   \n",
              "7           Length of Day (hours)   4222.6   2802.0   24.0   708.7   24.7   \n",
              "8      Distance from Sun (106 km)     57.9    108.2  149.6  0.384*  227.9   \n",
              "9             Perihelion (106 km)     46.0    107.5  147.1  0.363*  206.6   \n",
              "10              Aphelion (106 km)     69.8    108.9  152.1  0.406*  249.2   \n",
              "11          Orbital Period (days)     88.0    224.7  365.2   27.3*  687.0   \n",
              "12        Orbital Velocity (km/s)     47.4     35.0   29.8    1.0*   24.1   \n",
              "13  Orbital Inclination (degrees)      7.0      3.4    0.0     5.1    1.9   \n",
              "14           Orbital Eccentricity    0.205    0.007  0.017   0.055  0.094   \n",
              "15   Obliquity to Orbit (degrees)    0.034    177.4   23.4     6.7   25.2   \n",
              "16           Mean Temperature (C)      167      464     15     -20    -65   \n",
              "17        Surface Pressure (bars)        0       92      1       0   0.01   \n",
              "18                Number of Moons        0        0      1       0      2   \n",
              "19                   Ring System?       No       No     No      No     No   \n",
              "20         Global Magnetic Field?      Yes       No    Yes      No     No   \n",
              "21                            NaN  MERCURY    VENUS  EARTH    MOON   MARS   \n",
              "\n",
              "          6         7         8         9        10  \n",
              "0    JUPITER    SATURN    URANUS   NEPTUNE    PLUTO  \n",
              "1       1898       568      86.8       102   0.0146  \n",
              "2     142984    120536     51118     49528     2370  \n",
              "3       1326       687      1271      1638     2095  \n",
              "4       23.1       9.0       8.7      11.0      0.7  \n",
              "5       59.5      35.5      21.3      23.5      1.3  \n",
              "6        9.9      10.7     -17.2      16.1   -153.3  \n",
              "7        9.9      10.7      17.2      16.1    153.3  \n",
              "8      778.6    1433.5    2872.5    4495.1   5906.4  \n",
              "9      740.5    1352.6    2741.3    4444.5   4436.8  \n",
              "10     816.6    1514.5    3003.6    4545.7   7375.9  \n",
              "11      4331     10747     30589     59800    90560  \n",
              "12      13.1       9.7       6.8       5.4      4.7  \n",
              "13       1.3       2.5       0.8       1.8     17.2  \n",
              "14     0.049     0.057     0.046     0.011    0.244  \n",
              "15       3.1      26.7      97.8      28.3    122.5  \n",
              "16      -110      -140      -195      -200     -225  \n",
              "17  Unknown*  Unknown*  Unknown*  Unknown*  0.00001  \n",
              "18        79        82        27        14        5  \n",
              "19       Yes       Yes       Yes       Yes       No  \n",
              "20       Yes       Yes       Yes       Yes  Unknown  \n",
              "21   JUPITER    SATURN    URANUS   NEPTUNE    PLUTO  "
            ],
            "text/html": "<div>\n<style scoped>\n    .dataframe tbody tr th:only-of-type {\n        vertical-align: middle;\n    }\n\n    .dataframe tbody tr th {\n        vertical-align: top;\n    }\n\n    .dataframe thead th {\n        text-align: right;\n    }\n</style>\n<table border=\"1\" class=\"dataframe\">\n  <thead>\n    <tr style=\"text-align: right;\">\n      <th></th>\n      <th>0</th>\n      <th>1</th>\n      <th>2</th>\n      <th>3</th>\n      <th>4</th>\n      <th>5</th>\n      <th>6</th>\n      <th>7</th>\n      <th>8</th>\n      <th>9</th>\n      <th>10</th>\n    </tr>\n  </thead>\n  <tbody>\n    <tr>\n      <th>0</th>\n      <td>NaN</td>\n      <td>MERCURY</td>\n      <td>VENUS</td>\n      <td>EARTH</td>\n      <td>MOON</td>\n      <td>MARS</td>\n      <td>JUPITER</td>\n      <td>SATURN</td>\n      <td>URANUS</td>\n      <td>NEPTUNE</td>\n      <td>PLUTO</td>\n    </tr>\n    <tr>\n      <th>1</th>\n      <td>Mass (1024kg)</td>\n      <td>0.330</td>\n      <td>4.87</td>\n      <td>5.97</td>\n      <td>0.073</td>\n      <td>0.642</td>\n      <td>1898</td>\n      <td>568</td>\n      <td>86.8</td>\n      <td>102</td>\n      <td>0.0146</td>\n    </tr>\n    <tr>\n      <th>2</th>\n      <td>Diameter (km)</td>\n      <td>4879</td>\n      <td>12104</td>\n      <td>12756</td>\n      <td>3475</td>\n      <td>6792</td>\n      <td>142984</td>\n      <td>120536</td>\n      <td>51118</td>\n      <td>49528</td>\n      <td>2370</td>\n    </tr>\n    <tr>\n      <th>3</th>\n      <td>Density (kg/m3)</td>\n      <td>5427</td>\n      <td>5243</td>\n      <td>5514</td>\n      <td>3340</td>\n      <td>3933</td>\n      <td>1326</td>\n      <td>687</td>\n      <td>1271</td>\n      <td>1638</td>\n      <td>2095</td>\n    </tr>\n    <tr>\n      <th>4</th>\n      <td>Gravity (m/s2)</td>\n      <td>3.7</td>\n      <td>8.9</td>\n      <td>9.8</td>\n      <td>1.6</td>\n      <td>3.7</td>\n      <td>23.1</td>\n      <td>9.0</td>\n      <td>8.7</td>\n      <td>11.0</td>\n      <td>0.7</td>\n    </tr>\n    <tr>\n      <th>5</th>\n      <td>Escape Velocity (km/s)</td>\n      <td>4.3</td>\n      <td>10.4</td>\n      <td>11.2</td>\n      <td>2.4</td>\n      <td>5.0</td>\n      <td>59.5</td>\n      <td>35.5</td>\n      <td>21.3</td>\n      <td>23.5</td>\n      <td>1.3</td>\n    </tr>\n    <tr>\n      <th>6</th>\n      <td>Rotation Period (hours)</td>\n      <td>1407.6</td>\n      <td>-5832.5</td>\n      <td>23.9</td>\n      <td>655.7</td>\n      <td>24.6</td>\n      <td>9.9</td>\n      <td>10.7</td>\n      <td>-17.2</td>\n      <td>16.1</td>\n      <td>-153.3</td>\n    </tr>\n    <tr>\n      <th>7</th>\n      <td>Length of Day (hours)</td>\n      <td>4222.6</td>\n      <td>2802.0</td>\n      <td>24.0</td>\n      <td>708.7</td>\n      <td>24.7</td>\n      <td>9.9</td>\n      <td>10.7</td>\n      <td>17.2</td>\n      <td>16.1</td>\n      <td>153.3</td>\n    </tr>\n    <tr>\n      <th>8</th>\n      <td>Distance from Sun (106 km)</td>\n      <td>57.9</td>\n      <td>108.2</td>\n      <td>149.6</td>\n      <td>0.384*</td>\n      <td>227.9</td>\n      <td>778.6</td>\n      <td>1433.5</td>\n      <td>2872.5</td>\n      <td>4495.1</td>\n      <td>5906.4</td>\n    </tr>\n    <tr>\n      <th>9</th>\n      <td>Perihelion (106 km)</td>\n      <td>46.0</td>\n      <td>107.5</td>\n      <td>147.1</td>\n      <td>0.363*</td>\n      <td>206.6</td>\n      <td>740.5</td>\n      <td>1352.6</td>\n      <td>2741.3</td>\n      <td>4444.5</td>\n      <td>4436.8</td>\n    </tr>\n    <tr>\n      <th>10</th>\n      <td>Aphelion (106 km)</td>\n      <td>69.8</td>\n      <td>108.9</td>\n      <td>152.1</td>\n      <td>0.406*</td>\n      <td>249.2</td>\n      <td>816.6</td>\n      <td>1514.5</td>\n      <td>3003.6</td>\n      <td>4545.7</td>\n      <td>7375.9</td>\n    </tr>\n    <tr>\n      <th>11</th>\n      <td>Orbital Period (days)</td>\n      <td>88.0</td>\n      <td>224.7</td>\n      <td>365.2</td>\n      <td>27.3*</td>\n      <td>687.0</td>\n      <td>4331</td>\n      <td>10747</td>\n      <td>30589</td>\n      <td>59800</td>\n      <td>90560</td>\n    </tr>\n    <tr>\n      <th>12</th>\n      <td>Orbital Velocity (km/s)</td>\n      <td>47.4</td>\n      <td>35.0</td>\n      <td>29.8</td>\n      <td>1.0*</td>\n      <td>24.1</td>\n      <td>13.1</td>\n      <td>9.7</td>\n      <td>6.8</td>\n      <td>5.4</td>\n      <td>4.7</td>\n    </tr>\n    <tr>\n      <th>13</th>\n      <td>Orbital Inclination (degrees)</td>\n      <td>7.0</td>\n      <td>3.4</td>\n      <td>0.0</td>\n      <td>5.1</td>\n      <td>1.9</td>\n      <td>1.3</td>\n      <td>2.5</td>\n      <td>0.8</td>\n      <td>1.8</td>\n      <td>17.2</td>\n    </tr>\n    <tr>\n      <th>14</th>\n      <td>Orbital Eccentricity</td>\n      <td>0.205</td>\n      <td>0.007</td>\n      <td>0.017</td>\n      <td>0.055</td>\n      <td>0.094</td>\n      <td>0.049</td>\n      <td>0.057</td>\n      <td>0.046</td>\n      <td>0.011</td>\n      <td>0.244</td>\n    </tr>\n    <tr>\n      <th>15</th>\n      <td>Obliquity to Orbit (degrees)</td>\n      <td>0.034</td>\n      <td>177.4</td>\n      <td>23.4</td>\n      <td>6.7</td>\n      <td>25.2</td>\n      <td>3.1</td>\n      <td>26.7</td>\n      <td>97.8</td>\n      <td>28.3</td>\n      <td>122.5</td>\n    </tr>\n    <tr>\n      <th>16</th>\n      <td>Mean Temperature (C)</td>\n      <td>167</td>\n      <td>464</td>\n      <td>15</td>\n      <td>-20</td>\n      <td>-65</td>\n      <td>-110</td>\n      <td>-140</td>\n      <td>-195</td>\n      <td>-200</td>\n      <td>-225</td>\n    </tr>\n    <tr>\n      <th>17</th>\n      <td>Surface Pressure (bars)</td>\n      <td>0</td>\n      <td>92</td>\n      <td>1</td>\n      <td>0</td>\n      <td>0.01</td>\n      <td>Unknown*</td>\n      <td>Unknown*</td>\n      <td>Unknown*</td>\n      <td>Unknown*</td>\n      <td>0.00001</td>\n    </tr>\n    <tr>\n      <th>18</th>\n      <td>Number of Moons</td>\n      <td>0</td>\n      <td>0</td>\n      <td>1</td>\n      <td>0</td>\n      <td>2</td>\n      <td>79</td>\n      <td>82</td>\n      <td>27</td>\n      <td>14</td>\n      <td>5</td>\n    </tr>\n    <tr>\n      <th>19</th>\n      <td>Ring System?</td>\n      <td>No</td>\n      <td>No</td>\n      <td>No</td>\n      <td>No</td>\n      <td>No</td>\n      <td>Yes</td>\n      <td>Yes</td>\n      <td>Yes</td>\n      <td>Yes</td>\n      <td>No</td>\n    </tr>\n    <tr>\n      <th>20</th>\n      <td>Global Magnetic Field?</td>\n      <td>Yes</td>\n      <td>No</td>\n      <td>Yes</td>\n      <td>No</td>\n      <td>No</td>\n      <td>Yes</td>\n      <td>Yes</td>\n      <td>Yes</td>\n      <td>Yes</td>\n      <td>Unknown</td>\n    </tr>\n    <tr>\n      <th>21</th>\n      <td>NaN</td>\n      <td>MERCURY</td>\n      <td>VENUS</td>\n      <td>EARTH</td>\n      <td>MOON</td>\n      <td>MARS</td>\n      <td>JUPITER</td>\n      <td>SATURN</td>\n      <td>URANUS</td>\n      <td>NEPTUNE</td>\n      <td>PLUTO</td>\n    </tr>\n  </tbody>\n</table>\n</div>"
          },
          "metadata": {},
          "execution_count": 38
        }
      ],
      "source": [
        "dfs = pd.read_html('https://nssdc.gsfc.nasa.gov/planetary/factsheet/')\n",
        "dfs[0]"
      ]
    },
    {
      "source": [
        "This single method looks at web pages and finds the HTML tables on the web pages, returning an array of DataFrames (tables).  This is one of the many methods for extracting data using pandas.\n",
        "\n",
        "This approach is fast, but the data is not quite ready to be used.  It needs to be cleaned, removing extra rows, changing rows into headings, and pivoting data to index the data by planet rather than different features.  There are lots of HTML tables on wikipedia and elsewhere, so this data extraction technique is helpful."
      ],
      "cell_type": "markdown",
      "metadata": {}
    },
    {
      "cell_type": "code",
      "execution_count": 39,
      "metadata": {},
      "outputs": [
        {
          "output_type": "execute_result",
          "data": {
            "text/plain": [
              "0                             MERCURY    VENUS  EARTH    MOON   MARS  \\\n",
              "features                                                               \n",
              "Mass (1024kg)                   0.330     4.87   5.97   0.073  0.642   \n",
              "Diameter (km)                    4879    12104  12756    3475   6792   \n",
              "Density (kg/m3)                  5427     5243   5514    3340   3933   \n",
              "Gravity (m/s2)                    3.7      8.9    9.8     1.6    3.7   \n",
              "Escape Velocity (km/s)            4.3     10.4   11.2     2.4    5.0   \n",
              "Rotation Period (hours)        1407.6  -5832.5   23.9   655.7   24.6   \n",
              "Length of Day (hours)          4222.6   2802.0   24.0   708.7   24.7   \n",
              "Distance from Sun (106 km)       57.9    108.2  149.6  0.384*  227.9   \n",
              "Perihelion (106 km)              46.0    107.5  147.1  0.363*  206.6   \n",
              "Aphelion (106 km)                69.8    108.9  152.1  0.406*  249.2   \n",
              "Orbital Period (days)            88.0    224.7  365.2   27.3*  687.0   \n",
              "Orbital Velocity (km/s)          47.4     35.0   29.8    1.0*   24.1   \n",
              "Orbital Inclination (degrees)     7.0      3.4    0.0     5.1    1.9   \n",
              "Orbital Eccentricity            0.205    0.007  0.017   0.055  0.094   \n",
              "Obliquity to Orbit (degrees)    0.034    177.4   23.4     6.7   25.2   \n",
              "Mean Temperature (C)              167      464     15     -20    -65   \n",
              "Surface Pressure (bars)             0       92      1       0   0.01   \n",
              "Number of Moons                     0        0      1       0      2   \n",
              "Ring System?                       No       No     No      No     No   \n",
              "Global Magnetic Field?            Yes       No    Yes      No     No   \n",
              "\n",
              "0                               JUPITER    SATURN    URANUS   NEPTUNE    PLUTO  \n",
              "features                                                                        \n",
              "Mass (1024kg)                      1898       568      86.8       102   0.0146  \n",
              "Diameter (km)                    142984    120536     51118     49528     2370  \n",
              "Density (kg/m3)                    1326       687      1271      1638     2095  \n",
              "Gravity (m/s2)                     23.1       9.0       8.7      11.0      0.7  \n",
              "Escape Velocity (km/s)             59.5      35.5      21.3      23.5      1.3  \n",
              "Rotation Period (hours)             9.9      10.7     -17.2      16.1   -153.3  \n",
              "Length of Day (hours)               9.9      10.7      17.2      16.1    153.3  \n",
              "Distance from Sun (106 km)        778.6    1433.5    2872.5    4495.1   5906.4  \n",
              "Perihelion (106 km)               740.5    1352.6    2741.3    4444.5   4436.8  \n",
              "Aphelion (106 km)                 816.6    1514.5    3003.6    4545.7   7375.9  \n",
              "Orbital Period (days)              4331     10747     30589     59800    90560  \n",
              "Orbital Velocity (km/s)            13.1       9.7       6.8       5.4      4.7  \n",
              "Orbital Inclination (degrees)       1.3       2.5       0.8       1.8     17.2  \n",
              "Orbital Eccentricity              0.049     0.057     0.046     0.011    0.244  \n",
              "Obliquity to Orbit (degrees)        3.1      26.7      97.8      28.3    122.5  \n",
              "Mean Temperature (C)               -110      -140      -195      -200     -225  \n",
              "Surface Pressure (bars)        Unknown*  Unknown*  Unknown*  Unknown*  0.00001  \n",
              "Number of Moons                      79        82        27        14        5  \n",
              "Ring System?                        Yes       Yes       Yes       Yes       No  \n",
              "Global Magnetic Field?              Yes       Yes       Yes       Yes  Unknown  "
            ],
            "text/html": "<div>\n<style scoped>\n    .dataframe tbody tr th:only-of-type {\n        vertical-align: middle;\n    }\n\n    .dataframe tbody tr th {\n        vertical-align: top;\n    }\n\n    .dataframe thead th {\n        text-align: right;\n    }\n</style>\n<table border=\"1\" class=\"dataframe\">\n  <thead>\n    <tr style=\"text-align: right;\">\n      <th></th>\n      <th>MERCURY</th>\n      <th>VENUS</th>\n      <th>EARTH</th>\n      <th>MOON</th>\n      <th>MARS</th>\n      <th>JUPITER</th>\n      <th>SATURN</th>\n      <th>URANUS</th>\n      <th>NEPTUNE</th>\n      <th>PLUTO</th>\n    </tr>\n    <tr>\n      <th>features</th>\n      <th></th>\n      <th></th>\n      <th></th>\n      <th></th>\n      <th></th>\n      <th></th>\n      <th></th>\n      <th></th>\n      <th></th>\n      <th></th>\n    </tr>\n  </thead>\n  <tbody>\n    <tr>\n      <th>Mass (1024kg)</th>\n      <td>0.330</td>\n      <td>4.87</td>\n      <td>5.97</td>\n      <td>0.073</td>\n      <td>0.642</td>\n      <td>1898</td>\n      <td>568</td>\n      <td>86.8</td>\n      <td>102</td>\n      <td>0.0146</td>\n    </tr>\n    <tr>\n      <th>Diameter (km)</th>\n      <td>4879</td>\n      <td>12104</td>\n      <td>12756</td>\n      <td>3475</td>\n      <td>6792</td>\n      <td>142984</td>\n      <td>120536</td>\n      <td>51118</td>\n      <td>49528</td>\n      <td>2370</td>\n    </tr>\n    <tr>\n      <th>Density (kg/m3)</th>\n      <td>5427</td>\n      <td>5243</td>\n      <td>5514</td>\n      <td>3340</td>\n      <td>3933</td>\n      <td>1326</td>\n      <td>687</td>\n      <td>1271</td>\n      <td>1638</td>\n      <td>2095</td>\n    </tr>\n    <tr>\n      <th>Gravity (m/s2)</th>\n      <td>3.7</td>\n      <td>8.9</td>\n      <td>9.8</td>\n      <td>1.6</td>\n      <td>3.7</td>\n      <td>23.1</td>\n      <td>9.0</td>\n      <td>8.7</td>\n      <td>11.0</td>\n      <td>0.7</td>\n    </tr>\n    <tr>\n      <th>Escape Velocity (km/s)</th>\n      <td>4.3</td>\n      <td>10.4</td>\n      <td>11.2</td>\n      <td>2.4</td>\n      <td>5.0</td>\n      <td>59.5</td>\n      <td>35.5</td>\n      <td>21.3</td>\n      <td>23.5</td>\n      <td>1.3</td>\n    </tr>\n    <tr>\n      <th>Rotation Period (hours)</th>\n      <td>1407.6</td>\n      <td>-5832.5</td>\n      <td>23.9</td>\n      <td>655.7</td>\n      <td>24.6</td>\n      <td>9.9</td>\n      <td>10.7</td>\n      <td>-17.2</td>\n      <td>16.1</td>\n      <td>-153.3</td>\n    </tr>\n    <tr>\n      <th>Length of Day (hours)</th>\n      <td>4222.6</td>\n      <td>2802.0</td>\n      <td>24.0</td>\n      <td>708.7</td>\n      <td>24.7</td>\n      <td>9.9</td>\n      <td>10.7</td>\n      <td>17.2</td>\n      <td>16.1</td>\n      <td>153.3</td>\n    </tr>\n    <tr>\n      <th>Distance from Sun (106 km)</th>\n      <td>57.9</td>\n      <td>108.2</td>\n      <td>149.6</td>\n      <td>0.384*</td>\n      <td>227.9</td>\n      <td>778.6</td>\n      <td>1433.5</td>\n      <td>2872.5</td>\n      <td>4495.1</td>\n      <td>5906.4</td>\n    </tr>\n    <tr>\n      <th>Perihelion (106 km)</th>\n      <td>46.0</td>\n      <td>107.5</td>\n      <td>147.1</td>\n      <td>0.363*</td>\n      <td>206.6</td>\n      <td>740.5</td>\n      <td>1352.6</td>\n      <td>2741.3</td>\n      <td>4444.5</td>\n      <td>4436.8</td>\n    </tr>\n    <tr>\n      <th>Aphelion (106 km)</th>\n      <td>69.8</td>\n      <td>108.9</td>\n      <td>152.1</td>\n      <td>0.406*</td>\n      <td>249.2</td>\n      <td>816.6</td>\n      <td>1514.5</td>\n      <td>3003.6</td>\n      <td>4545.7</td>\n      <td>7375.9</td>\n    </tr>\n    <tr>\n      <th>Orbital Period (days)</th>\n      <td>88.0</td>\n      <td>224.7</td>\n      <td>365.2</td>\n      <td>27.3*</td>\n      <td>687.0</td>\n      <td>4331</td>\n      <td>10747</td>\n      <td>30589</td>\n      <td>59800</td>\n      <td>90560</td>\n    </tr>\n    <tr>\n      <th>Orbital Velocity (km/s)</th>\n      <td>47.4</td>\n      <td>35.0</td>\n      <td>29.8</td>\n      <td>1.0*</td>\n      <td>24.1</td>\n      <td>13.1</td>\n      <td>9.7</td>\n      <td>6.8</td>\n      <td>5.4</td>\n      <td>4.7</td>\n    </tr>\n    <tr>\n      <th>Orbital Inclination (degrees)</th>\n      <td>7.0</td>\n      <td>3.4</td>\n      <td>0.0</td>\n      <td>5.1</td>\n      <td>1.9</td>\n      <td>1.3</td>\n      <td>2.5</td>\n      <td>0.8</td>\n      <td>1.8</td>\n      <td>17.2</td>\n    </tr>\n    <tr>\n      <th>Orbital Eccentricity</th>\n      <td>0.205</td>\n      <td>0.007</td>\n      <td>0.017</td>\n      <td>0.055</td>\n      <td>0.094</td>\n      <td>0.049</td>\n      <td>0.057</td>\n      <td>0.046</td>\n      <td>0.011</td>\n      <td>0.244</td>\n    </tr>\n    <tr>\n      <th>Obliquity to Orbit (degrees)</th>\n      <td>0.034</td>\n      <td>177.4</td>\n      <td>23.4</td>\n      <td>6.7</td>\n      <td>25.2</td>\n      <td>3.1</td>\n      <td>26.7</td>\n      <td>97.8</td>\n      <td>28.3</td>\n      <td>122.5</td>\n    </tr>\n    <tr>\n      <th>Mean Temperature (C)</th>\n      <td>167</td>\n      <td>464</td>\n      <td>15</td>\n      <td>-20</td>\n      <td>-65</td>\n      <td>-110</td>\n      <td>-140</td>\n      <td>-195</td>\n      <td>-200</td>\n      <td>-225</td>\n    </tr>\n    <tr>\n      <th>Surface Pressure (bars)</th>\n      <td>0</td>\n      <td>92</td>\n      <td>1</td>\n      <td>0</td>\n      <td>0.01</td>\n      <td>Unknown*</td>\n      <td>Unknown*</td>\n      <td>Unknown*</td>\n      <td>Unknown*</td>\n      <td>0.00001</td>\n    </tr>\n    <tr>\n      <th>Number of Moons</th>\n      <td>0</td>\n      <td>0</td>\n      <td>1</td>\n      <td>0</td>\n      <td>2</td>\n      <td>79</td>\n      <td>82</td>\n      <td>27</td>\n      <td>14</td>\n      <td>5</td>\n    </tr>\n    <tr>\n      <th>Ring System?</th>\n      <td>No</td>\n      <td>No</td>\n      <td>No</td>\n      <td>No</td>\n      <td>No</td>\n      <td>Yes</td>\n      <td>Yes</td>\n      <td>Yes</td>\n      <td>Yes</td>\n      <td>No</td>\n    </tr>\n    <tr>\n      <th>Global Magnetic Field?</th>\n      <td>Yes</td>\n      <td>No</td>\n      <td>Yes</td>\n      <td>No</td>\n      <td>No</td>\n      <td>Yes</td>\n      <td>Yes</td>\n      <td>Yes</td>\n      <td>Yes</td>\n      <td>Unknown</td>\n    </tr>\n  </tbody>\n</table>\n</div>"
          },
          "metadata": {},
          "execution_count": 39
        }
      ],
      "source": [
        "df = dfs[0]\n",
        "\n",
        "# fix the missing heading\n",
        "df.iloc[0,0] = 'features'\n",
        "\n",
        "# change the name of the columns to the first row\n",
        "df.columns = df.loc[0]\n",
        "# remove the first and last row\n",
        "df = df.drop([0,21])\n",
        "\n",
        "# change the index to the features column and drop it\n",
        "df = df.set_index(\"features\")\n",
        "df"
      ]
    },
    {
      "source": [
        "That's a good start to cleaning the data.  There are still some other issues that need to be looked at such as replacing \"Unknown*\" with values that represent invalid values, and transposing data so that columns are rows, etc.."
      ],
      "cell_type": "markdown",
      "metadata": {}
    },
    {
      "source": [
        "# Python primer\n",
        "\n",
        "You're probably familiar with many features of python such as control statements and a bit about lists, but its important to understand the data structures available, functions, list comprehensions, and other features so you can more easily understand other people's code and make your own code more efficient.  Lets review and do some problems to get up to speed on python data structures.\n",
        "\n",
        "> Some of this is based on exersizes from the Kaggle Python Primer https://www.kaggle.com/learn/python"
      ],
      "cell_type": "markdown",
      "metadata": {}
    },
    {
      "source": [
        "## Tuples\n",
        "\n",
        "Non-mutable lists.  They are often used to return multiple values from functions.  The syntax uses the parenthesis, or just lists without parenthesis.  You can also expand into variables using tuples.  The values cannot be changed."
      ],
      "cell_type": "markdown",
      "metadata": {}
    },
    {
      "cell_type": "code",
      "execution_count": 114,
      "metadata": {},
      "outputs": [
        {
          "output_type": "stream",
          "name": "stdout",
          "text": [
            "(1, 2, 3, 4, 5)\n1 2\n2 1\n1 2 [3, 4, 5]\n"
          ]
        }
      ],
      "source": [
        "values = 1,2,3,4,5\n",
        "print(values)\n",
        "\n",
        "a, b = 1,2\n",
        "print(a,b)\n",
        "\n",
        "b, a = a, b\n",
        "print(a,b)\n",
        "\n",
        "a,b,*rest = values\n",
        "\n",
        "print(a, b, rest)"
      ]
    },
    {
      "source": [
        "## Lists\n",
        "\n",
        "Variable length mutable lists (arrays).  They have lots of methods like append, sort and others."
      ],
      "cell_type": "markdown",
      "metadata": {}
    },
    {
      "cell_type": "code",
      "execution_count": 118,
      "metadata": {},
      "outputs": [
        {
          "output_type": "stream",
          "name": "stdout",
          "text": [
            "range(0, 10)\n[0, 1, 2, 3, 4, 5, 6, 7, 8, 9]\n"
          ]
        }
      ],
      "source": [
        "gen = range(10)\n",
        "print(gen)\n",
        "gen_list = list(gen)\n",
        "print(gen_list)"
      ]
    },
    {
      "cell_type": "code",
      "execution_count": 119,
      "metadata": {},
      "outputs": [
        {
          "output_type": "stream",
          "name": "stdout",
          "text": [
            "[0, 1, 2, 3, 4, 5, 6, 7, 8, 9, 'hello']\n"
          ]
        }
      ],
      "source": [
        "gen_list.append(\"hello\")\n",
        "print(gen_list)"
      ]
    },
    {
      "cell_type": "code",
      "execution_count": 121,
      "metadata": {},
      "outputs": [
        {
          "output_type": "execute_result",
          "data": {
            "text/plain": [
              "[1, 2, 3, 5, 8, 9]"
            ]
          },
          "metadata": {},
          "execution_count": 121
        }
      ],
      "source": [
        "a = [5,8,3,9,2,1]\n",
        "a.sort()\n",
        "a"
      ]
    },
    {
      "source": [
        "### Slicing Lists\n",
        "\n",
        "List elements can be accessed using the slice syntax.  This is extremely powerful, and used often.\n",
        "\n",
        "*Drawing of array with boxes.*\n",
        "\n",
        "Lines between cells are numbers from 0 to length left to right and from -1 to length right to left.  "
      ],
      "cell_type": "markdown",
      "metadata": {}
    },
    {
      "cell_type": "code",
      "execution_count": 125,
      "metadata": {},
      "outputs": [
        {
          "output_type": "execute_result",
          "data": {
            "text/plain": [
              "[2, 3, 7, 5]"
            ]
          },
          "metadata": {},
          "execution_count": 125
        }
      ],
      "source": [
        "seq = [7,2,3,7,5,6,0,1]\n",
        "seq[1:5]"
      ]
    },
    {
      "cell_type": "code",
      "execution_count": 126,
      "metadata": {},
      "outputs": [
        {
          "output_type": "execute_result",
          "data": {
            "text/plain": [
              "[7, 2, 3, 6, 3, 5, 6, 0, 1]"
            ]
          },
          "metadata": {},
          "execution_count": 126
        }
      ],
      "source": [
        "seq[3:4] = [6,3]\n",
        "seq"
      ]
    },
    {
      "source": [
        "str = \"HELLO!\"\n",
        "\n",
        "print(str[2:4])\n",
        "print(str[-5:-2])\n",
        "print(str[:2])\n",
        "print(str[3:])\n",
        "print(str[-2:])\n"
      ],
      "cell_type": "code",
      "metadata": {},
      "execution_count": 132,
      "outputs": [
        {
          "output_type": "stream",
          "name": "stdout",
          "text": [
            "LL\nELL\nHE\nLO!\nO!\n"
          ]
        }
      ]
    },
    {
      "source": [
        "## dicts\n",
        "\n",
        "May be one of the most important data structures in Python.  It is also called a hash map or associative array.  Here are some examples."
      ],
      "cell_type": "markdown",
      "metadata": {}
    },
    {
      "cell_type": "code",
      "execution_count": 133,
      "metadata": {},
      "outputs": [
        {
          "output_type": "execute_result",
          "data": {
            "text/plain": [
              "[1, 2, 3, 4]"
            ]
          },
          "metadata": {},
          "execution_count": 133
        }
      ],
      "source": [
        "d1 = {'a':'some value', 'b':[1,2,3,4]}\n",
        "d1['b']"
      ]
    },
    {
      "cell_type": "code",
      "execution_count": 135,
      "metadata": {},
      "outputs": [
        {
          "output_type": "execute_result",
          "data": {
            "text/plain": [
              "{'a': 'some value', 'b': [1, 2, 3, 4], 7: 'an integer key'}"
            ]
          },
          "metadata": {},
          "execution_count": 135
        }
      ],
      "source": [
        "d1[7] = 'an integer key'\n",
        "d1"
      ]
    },
    {
      "cell_type": "code",
      "execution_count": 137,
      "metadata": {},
      "outputs": [
        {
          "output_type": "execute_result",
          "data": {
            "text/plain": [
              "True"
            ]
          },
          "metadata": {},
          "execution_count": 137
        }
      ],
      "source": [
        "'b' in d1"
      ]
    },
    {
      "cell_type": "code",
      "execution_count": 138,
      "metadata": {},
      "outputs": [
        {
          "output_type": "execute_result",
          "data": {
            "text/plain": [
              "{'a': 'some value', 'b': [1, 2, 3, 4]}"
            ]
          },
          "metadata": {},
          "execution_count": 138
        }
      ],
      "source": [
        "del d1[7]\n",
        "d1"
      ]
    },
    {
      "cell_type": "code",
      "execution_count": 139,
      "metadata": {},
      "outputs": [
        {
          "output_type": "execute_result",
          "data": {
            "text/plain": [
              "['a', 'b', 'dummy']"
            ]
          },
          "metadata": {},
          "execution_count": 139
        }
      ],
      "source": [
        "d1['dummy'] = 'another value'\n",
        "list(d1.keys())"
      ]
    },
    {
      "cell_type": "code",
      "execution_count": 140,
      "metadata": {},
      "outputs": [
        {
          "output_type": "execute_result",
          "data": {
            "text/plain": [
              "['some value', [1, 2, 3, 4], 'another value']"
            ]
          },
          "metadata": {},
          "execution_count": 140
        }
      ],
      "source": [
        "list(d1.values())"
      ]
    },
    {
      "source": [
        "You can create dicts by 'zipping' keys and values together"
      ],
      "cell_type": "markdown",
      "metadata": {}
    },
    {
      "cell_type": "code",
      "execution_count": 142,
      "metadata": {},
      "outputs": [
        {
          "output_type": "execute_result",
          "data": {
            "text/plain": [
              "{'a': 1, 'b': 2, 'c': 3}"
            ]
          },
          "metadata": {},
          "execution_count": 142
        }
      ],
      "source": [
        "key_list = ['a','b','c']\n",
        "value_list = [1,2,3]\n",
        "\n",
        "mapping = {}\n",
        "for key, value in zip(key_list, value_list):\n",
        "    mapping[key] = value\n",
        "\n",
        "mapping"
      ]
    },
    {
      "cell_type": "code",
      "execution_count": 143,
      "metadata": {},
      "outputs": [
        {
          "output_type": "execute_result",
          "data": {
            "text/plain": [
              "{'a': 1, 'b': 2, 'c': 3}"
            ]
          },
          "metadata": {},
          "execution_count": 143
        }
      ],
      "source": [
        "mapping = dict(zip(key_list, value_list))\n",
        "mapping"
      ]
    },
    {
      "source": [
        "When retrieving key that doesn't exist, you will get an exception, to avoid this use the `get` method."
      ],
      "cell_type": "markdown",
      "metadata": {}
    },
    {
      "cell_type": "code",
      "execution_count": 73,
      "metadata": {},
      "outputs": [
        {
          "output_type": "error",
          "ename": "NameError",
          "evalue": "name 'mapping' is not defined",
          "traceback": [
            "\u001b[0;31m---------------------------------------------------------------------------\u001b[0m",
            "\u001b[0;31mNameError\u001b[0m                                 Traceback (most recent call last)",
            "\u001b[0;32m<ipython-input-73-3eb0ba5a0ea0>\u001b[0m in \u001b[0;36m<module>\u001b[0;34m\u001b[0m\n\u001b[0;32m----> 1\u001b[0;31m \u001b[0mmapping\u001b[0m\u001b[0;34m[\u001b[0m\u001b[0;34m'd'\u001b[0m\u001b[0;34m]\u001b[0m\u001b[0;34m\u001b[0m\u001b[0;34m\u001b[0m\u001b[0m\n\u001b[0m",
            "\u001b[0;31mNameError\u001b[0m: name 'mapping' is not defined"
          ]
        }
      ],
      "source": [
        "mapping['d']"
      ]
    },
    {
      "cell_type": "code",
      "execution_count": 147,
      "metadata": {},
      "outputs": [
        {
          "output_type": "execute_result",
          "data": {
            "text/plain": [
              "-1"
            ]
          },
          "metadata": {},
          "execution_count": 147
        }
      ],
      "source": [
        "mapping.get('d', -1)"
      ]
    },
    {
      "source": [
        "## Sets\n",
        "\n",
        "Sets are collections of unique values.  If you add duplicates, they are dropped"
      ],
      "cell_type": "markdown",
      "metadata": {}
    },
    {
      "cell_type": "code",
      "execution_count": 40,
      "metadata": {},
      "outputs": [
        {
          "output_type": "execute_result",
          "data": {
            "text/plain": [
              "{1, 2, 3, 4, 5}"
            ]
          },
          "metadata": {},
          "execution_count": 40
        }
      ],
      "source": [
        "a = {1,2,3,3,4,5}\n",
        "a"
      ]
    },
    {
      "source": [
        "union and intersection"
      ],
      "cell_type": "markdown",
      "metadata": {}
    },
    {
      "cell_type": "code",
      "execution_count": 149,
      "metadata": {},
      "outputs": [
        {
          "output_type": "execute_result",
          "data": {
            "text/plain": [
              "{1, 2, 3, 4, 5, 6, 7, 8}"
            ]
          },
          "metadata": {},
          "execution_count": 149
        }
      ],
      "source": [
        "a = {1,2,3,4,5}\n",
        "b = {4,5,6,7,8}\n",
        "a.union(b)"
      ]
    },
    {
      "cell_type": "code",
      "execution_count": 150,
      "metadata": {},
      "outputs": [
        {
          "output_type": "execute_result",
          "data": {
            "text/plain": [
              "{1, 2, 3, 4, 5, 6, 7, 8}"
            ]
          },
          "metadata": {},
          "execution_count": 150
        }
      ],
      "source": [
        "a | b"
      ]
    },
    {
      "cell_type": "code",
      "execution_count": 151,
      "metadata": {},
      "outputs": [
        {
          "output_type": "execute_result",
          "data": {
            "text/plain": [
              "{4, 5}"
            ]
          },
          "metadata": {},
          "execution_count": 151
        }
      ],
      "source": [
        "a.intersection(b)"
      ]
    },
    {
      "cell_type": "code",
      "execution_count": 152,
      "metadata": {},
      "outputs": [
        {
          "output_type": "execute_result",
          "data": {
            "text/plain": [
              "{4, 5}"
            ]
          },
          "metadata": {},
          "execution_count": 152
        }
      ],
      "source": [
        "a & b"
      ]
    },
    {
      "source": [
        "# Challenges\n",
        "\n",
        "Lets do some problems."
      ],
      "cell_type": "markdown",
      "metadata": {}
    },
    {
      "cell_type": "code",
      "execution_count": 77,
      "metadata": {},
      "outputs": [
        {
          "output_type": "stream",
          "name": "stdout",
          "text": [
            "2\nNone\n"
          ]
        }
      ],
      "source": [
        "def select_second(L):\n",
        "    \"\"\"Return the second element of the given list. If the list has no second\n",
        "    element, return None.\n",
        "    \"\"\"\n",
        "    pass\n",
        "\n",
        "print(select_second([1,2,3]))\n",
        "print(select_second([]))"
      ]
    },
    {
      "cell_type": "code",
      "execution_count": 63,
      "metadata": {},
      "outputs": [],
      "source": [
        "def losing_team_captain(teams):\n",
        "    \"\"\"Given a list of teams, where each team is a list of names, return the 2nd player (captain)\n",
        "    from the last listed team\n",
        "    \"\"\"\n",
        "    pass\n",
        "\n",
        "teams = [['player1-team1', 'player2-team1', 'player3-team1','player4-team1'],['player1-team2', 'player2-team2', 'player3-team2','player4-team2'],['player1-team3', 'player2-team3', 'player3-team3','player4-team3']]\n",
        "losing_team_captain(teams)"
      ]
    },
    {
      "cell_type": "code",
      "execution_count": 45,
      "metadata": {},
      "outputs": [
        {
          "output_type": "execute_result",
          "data": {
            "text/plain": [
              "['Mario', 'Bowser', 'Luigi']"
            ]
          },
          "metadata": {},
          "execution_count": 45
        }
      ],
      "source": [
        "def purple_shell(racers):\n",
        "    \"\"\"Given a list of racers, set the first place racer (at the front of the list) to last\n",
        "    place and vice versa.\n",
        "    \n",
        "    >>> r = [\"Mario\", \"Bowser\", \"Luigi\"]\n",
        "    >>> purple_shell(r)\n",
        "    >>> r\n",
        "    [\"Luigi\", \"Bowser\", \"Mario\"]\n",
        "    \"\"\"\n",
        "    pass\n",
        "\n",
        "r = [\"Mario\", \"Bowser\", \"Luigi\"]\n",
        "purple_shell(r)\n",
        "r\n"
      ]
    },
    {
      "cell_type": "code",
      "execution_count": 65,
      "metadata": {},
      "outputs": [],
      "source": [
        "a = [1, 2, 3]\n",
        "b = [1, [2, 3]]\n",
        "c = []\n",
        "d = [1, 2, 3][1:]\n",
        "\n",
        "# what are the lengths of the above arrays?"
      ]
    },
    {
      "cell_type": "code",
      "execution_count": 66,
      "metadata": {},
      "outputs": [],
      "source": [
        "def fashionably_late(arrivals, name):\n",
        "    \"\"\"Given an ordered list of arrivals to the party and a name, return whether the guest with that\n",
        "    name was fashionably late.\n",
        "    Fashionably late is when at least 1/2 of the guests have arrived, but you're not the last one!\n",
        "    \"\"\"\n",
        "    pass\n",
        "\n",
        "party_attendees = ['Adela', 'Fleda', 'Owen', 'May', 'Mona', 'Gilbert', 'Ford']\n",
        "fashionably_late(party_attendees, 'Owen')\n",
        "fashionably_late(party_attendees, 'Ford')\n",
        "fashionably_late(party_attendees, 'Adela')\n",
        "fashionably_late(party_attendees, 'Mona')"
      ]
    },
    {
      "source": [
        "## Loops and List Comprehensions\n",
        "\n"
      ],
      "cell_type": "markdown",
      "metadata": {}
    },
    {
      "cell_type": "code",
      "execution_count": 153,
      "metadata": {},
      "outputs": [
        {
          "output_type": "execute_result",
          "data": {
            "text/plain": [
              "[0, 2, 4, 6, 8]"
            ]
          },
          "metadata": {},
          "execution_count": 153
        }
      ],
      "source": [
        "# print all even numbers between 0 and 20\n",
        "[ x for x in range(0,10) if x%2 == 0]"
      ]
    },
    {
      "cell_type": "code",
      "execution_count": 67,
      "metadata": {},
      "outputs": [
        {
          "output_type": "stream",
          "name": "stdout",
          "text": [
            "False\nFalse\n"
          ]
        }
      ],
      "source": [
        "# Fix the bug!\n",
        "def has_lucky_number(nums):\n",
        "    \"\"\"Return whether the given list of numbers is lucky. A lucky list contains\n",
        "    at least one number divisible by 7.\n",
        "    \"\"\"\n",
        "    for num in nums:\n",
        "        if num % 7 == 0:\n",
        "            return True\n",
        "        else:\n",
        "            return False\n",
        "\n",
        "print(has_lucky_number([3,4,7,14,3])) # True\n",
        "print(has_lucky_number([3,18,24,36])) # False"
      ]
    },
    {
      "source": [
        "Use a list comprehension for the next two."
      ],
      "cell_type": "markdown",
      "metadata": {}
    },
    {
      "cell_type": "code",
      "execution_count": 68,
      "metadata": {},
      "outputs": [],
      "source": [
        "# What will we get?\n",
        "# [1, 2, 3, 4] > 2"
      ]
    },
    {
      "cell_type": "code",
      "execution_count": 69,
      "metadata": {},
      "outputs": [],
      "source": [
        "# Libraries that we'll use like numpy and pandas do element wise comparisons.  Lets implement that!\n",
        "# use a list comprehension\n",
        "def elementwise_greater_than(L, thresh):\n",
        "    \"\"\"Return a list with the same length as L, where the value at index i is \n",
        "    True if L[i] is greater than thresh, and False otherwise.\n",
        "    \n",
        "    >>> elementwise_greater_than([1, 2, 3, 4], 2)\n",
        "    [False, False, True, True]\n",
        "    \"\"\"\n",
        "    pass\n",
        "\n",
        "elementwise_greater_than([1, 2, 3, 4],2)\n"
      ]
    },
    {
      "cell_type": "code",
      "execution_count": 161,
      "metadata": {},
      "outputs": [
        {
          "output_type": "execute_result",
          "data": {
            "text/plain": [
              "['VENUS!', 'EARTH!', 'MARS!']"
            ]
          },
          "metadata": {},
          "execution_count": 161
        }
      ],
      "source": [
        "def short_planets(planets):\n",
        "    \"\"\"\n",
        "    Return the list of short named planets (less than 6 chars)\n",
        "    >>> planets = ['Mercury', 'Venus', 'Earth', 'Mars', 'Jupiter', 'Saturn', 'Uranus', 'Neptune']\n",
        "    >>> short_planets(planets)\n",
        "    ['VENUS!', 'EARTH!', 'MARS!']\n",
        "    \"\"\"\n",
        "    pass\n",
        "\n",
        "planets = ['Mercury', 'Venus', 'Earth', 'Mars', 'Jupiter', 'Saturn', 'Uranus', 'Neptune']\n",
        "short_planets(planets)"
      ]
    },
    {
      "cell_type": "code",
      "execution_count": 165,
      "metadata": {},
      "outputs": [
        {
          "output_type": "stream",
          "name": "stdout",
          "text": [
            "True\nFalse\n"
          ]
        }
      ],
      "source": [
        "def menu_is_boring(meals):\n",
        "    \"\"\"Given a list of meals served over some period of time, return True if the\n",
        "    same meal has ever been served two days in a row, and False otherwise.\n",
        "    \"\"\"\n",
        "    pass\n",
        "meals = ['Pot Roast', 'Chicken', 'Tacos', 'Tacos', 'Steak']\n",
        "print(menu_is_boring(meals))\n",
        "meals = ['Pot Roast', 'Chicken', 'Tacos', 'Steak', 'Salad']\n",
        "print(menu_is_boring(meals))"
      ]
    },
    {
      "cell_type": "code",
      "execution_count": 71,
      "metadata": {},
      "outputs": [
        {
          "output_type": "stream",
          "name": "stdout",
          "text": [
            "0\n"
          ]
        },
        {
          "output_type": "execute_result",
          "data": {
            "text/plain": [
              "-0.8862"
            ]
          },
          "metadata": {},
          "execution_count": 71
        }
      ],
      "source": [
        "import random\n",
        "\n",
        "# win $10 every 90 tries or so\n",
        "def play_slot_machine():\n",
        "    r = random.randint(0,90)\n",
        "    if r == 1:\n",
        "        return 10\n",
        "    return 0\n",
        "\n",
        "print(play_slot_machine())\n",
        "\n",
        "def estimate_average_slot_payout(n_runs):\n",
        "    \"\"\"Run the slot machine n_runs times and return the average net profit per run.\n",
        "    Example calls (note that return value is nondeterministic!):\n",
        "    >>> estimate_average_slot_payout(1)\n",
        "    -1\n",
        "    >>> estimate_average_slot_payout(1)\n",
        "    0.5\n",
        "    \"\"\"\n",
        "    # your code here\n",
        "    winnings = 0\n",
        "    for play in range(n_runs):\n",
        "        winnings += play_slot_machine()-1\n",
        "    \n",
        "    return winnings/n_runs\n",
        "    pass\n",
        "\n",
        "estimate_average_slot_payout(100000)"
      ]
    },
    {
      "source": [
        "## Strings"
      ],
      "cell_type": "markdown",
      "metadata": {}
    },
    {
      "source": [
        "There is a saying that \"Data scientists spend 80% of their time cleaning data, and 20% of their time complaining about cleaning data.\" Let's see if you can write a function to help clean US zip code data. Given a string, it should return whether or not that string represents a valid zip code. For our purposes, a valid zip code is any string consisting of exactly 5 digits.\n",
        "\n",
        "HINT: `str` has a method that will be useful here. Use `help(str)` to review a list of string methods."
      ],
      "cell_type": "markdown",
      "metadata": {}
    },
    {
      "cell_type": "code",
      "execution_count": 73,
      "metadata": {},
      "outputs": [],
      "source": [
        "def is_valid_zip(zip_code):\n",
        "    \"\"\"Returns whether the input string is a valid (5 digit) US zip code\n",
        "    \"\"\"\n",
        "    # your code here\n",
        "    pass\n",
        "\n",
        "# Hint - try help(str) to find a useful method\n",
        "is_valid_zip('12345')    # True\n",
        "is_valid_zip('V3J2M7')  # False"
      ]
    },
    {
      "source": [
        "A researcher has gathered thousands of news articles. But she wants to focus her attention on articles including a specific word. Complete the function below to help her filter her list of articles.\n",
        "\n",
        "Your function should meet the following criteria:\n",
        "\n",
        "- Do not include documents where the keyword string shows up only as a part of a larger word. For example, if she were looking for the keyword “closed”, you would not include the string “enclosed.” \n",
        "- She does not want you to distinguish upper case from lower case letters. So the phrase “Closed the case.” would be included when the keyword is “closed”\n",
        "- Do not let periods or commas affect what is matched. “It is closed.” would be included when the keyword is “closed”. But you can assume there are no other types of punctuation."
      ],
      "cell_type": "markdown",
      "metadata": {}
    },
    {
      "cell_type": "code",
      "execution_count": 74,
      "metadata": {},
      "outputs": [],
      "source": [
        "def word_search(doc_list, keyword):\n",
        "    \"\"\"\n",
        "    Takes a list of documents (each document is a string) and a keyword. \n",
        "    Returns list of the index values into the original list for all documents \n",
        "    containing the keyword.\n",
        "\n",
        "    Example:\n",
        "    doc_list = [\"The Learn Python Challenge Casino.\", \"They bought a car\", \"Casinoville\"]\n",
        "    >>> word_search(doc_list, 'casino')\n",
        "    >>> [0]\n",
        "    \"\"\"\n",
        "    # your code here\n",
        "    pass\n",
        "\n",
        "doc_list = [\"The Learn Python Challenge Casino.\", \"They bought a car\", \"Casinoville\"]\n",
        "word_search(doc_list, 'casino')\n"
      ]
    },
    {
      "source": [
        "Now the researcher wants to supply multiple keywords to search for. Complete the function below to help her.\n",
        "\n",
        "(You're encouraged to use the `word_search` function you just wrote when implementing this function. Reusing code in this way makes your programs more robust and readable - and it saves typing!)"
      ],
      "cell_type": "markdown",
      "metadata": {}
    },
    {
      "cell_type": "code",
      "execution_count": 75,
      "metadata": {},
      "outputs": [],
      "source": [
        "def multi_word_search(doc_list, keywords):\n",
        "    \"\"\"\n",
        "    Takes list of documents (each document is a string) and a list of keywords.  \n",
        "    Returns a dictionary where each key is a keyword, and the value is a list of indices\n",
        "    (from doc_list) of the documents containing that keyword\n",
        "\n",
        "    >>> doc_list = [\"The Learn Python Challenge Casino.\", \"They bought a car and a casino\", \"Casinoville\"]\n",
        "    >>> keywords = ['casino', 'they']\n",
        "    >>> multi_word_search(doc_list, keywords)\n",
        "    {'casino': [0, 1], 'they': [1]}\n",
        "    \"\"\"\n",
        "    # your code here\n",
        "    pass\n",
        "\n",
        "doc_list = [\"The Learn Python Challenge Casino.\", \"They bought a car and a casino\", \"Casinoville\"]\n",
        "keywords = ['casino', 'they']\n",
        "multi_word_search(doc_list, keywords)"
      ]
    },
    {
      "source": [
        "# Quick Numpy\n",
        "\n",
        "Numpy is a numerical processing library for handling multi-dimensional numerical arrays very fast.  It is good for numbers, dates, booleans, but there is no speed improvement for strings.\n",
        "\n",
        "It provides a lot of flexibility when dealing with arrays of numbers.\n",
        "\n",
        "We don't use numpy directly, at least not usually, but its good to understand a bit about how it works since it is built on top."
      ],
      "cell_type": "markdown",
      "metadata": {}
    },
    {
      "source": [
        "import numpy as np\n",
        "\n",
        "a = np.array([1.0,2.0,3.0])\n",
        "a"
      ],
      "cell_type": "code",
      "metadata": {},
      "execution_count": 6,
      "outputs": [
        {
          "output_type": "execute_result",
          "data": {
            "text/plain": [
              "array([1., 2., 3.])"
            ]
          },
          "metadata": {},
          "execution_count": 6
        }
      ]
    },
    {
      "cell_type": "code",
      "execution_count": 59,
      "metadata": {},
      "outputs": [
        {
          "output_type": "execute_result",
          "data": {
            "text/plain": [
              "array([[ 1.37639021,  0.51317556,  1.22592697, -0.12848066],\n",
              "       [ 0.0427746 ,  0.97067926,  1.40835782, -0.59782272]])"
            ]
          },
          "metadata": {},
          "execution_count": 59
        }
      ],
      "source": [
        "a = np.random.randn(8)\n",
        "a = a.reshape(2,4)\n",
        "a"
      ]
    },
    {
      "cell_type": "code",
      "execution_count": 60,
      "metadata": {},
      "outputs": [
        {
          "output_type": "execute_result",
          "data": {
            "text/plain": [
              "array([ 1.37639021,  0.51317556,  1.22592697, -0.12848066])"
            ]
          },
          "metadata": {},
          "execution_count": 60
        }
      ],
      "source": [
        "a[0]"
      ]
    },
    {
      "source": [
        "a[1,2]"
      ],
      "cell_type": "code",
      "metadata": {},
      "execution_count": 65,
      "outputs": [
        {
          "output_type": "execute_result",
          "data": {
            "text/plain": [
              "1.4083578188116417"
            ]
          },
          "metadata": {},
          "execution_count": 65
        }
      ]
    },
    {
      "cell_type": "code",
      "execution_count": 9,
      "metadata": {},
      "outputs": [
        {
          "output_type": "execute_result",
          "data": {
            "text/plain": [
              "(2, 3)"
            ]
          },
          "metadata": {},
          "execution_count": 9
        }
      ],
      "source": [
        "m = np.array([[1,2,3],[4,5,6]])\n",
        "m.shape"
      ]
    },
    {
      "source": [
        "3 dimensional array"
      ],
      "cell_type": "markdown",
      "metadata": {}
    },
    {
      "cell_type": "code",
      "execution_count": 66,
      "metadata": {},
      "outputs": [
        {
          "output_type": "execute_result",
          "data": {
            "text/plain": [
              "(1, 2, 3)"
            ]
          },
          "metadata": {},
          "execution_count": 66
        }
      ],
      "source": [
        "b = np.array([\n",
        "    [\n",
        "        [1,2,3],\n",
        "        [9,8,2]\n",
        "    ]\n",
        "])\n",
        "b.shape"
      ]
    },
    {
      "cell_type": "code",
      "execution_count": 67,
      "metadata": {},
      "outputs": [
        {
          "output_type": "execute_result",
          "data": {
            "text/plain": [
              "8"
            ]
          },
          "metadata": {},
          "execution_count": 67
        }
      ],
      "source": [
        "b[0,1,1]"
      ]
    },
    {
      "cell_type": "code",
      "execution_count": 68,
      "metadata": {},
      "outputs": [
        {
          "output_type": "execute_result",
          "data": {
            "text/plain": [
              "array([[2, 3]])"
            ]
          },
          "metadata": {},
          "execution_count": 68
        }
      ],
      "source": [
        "ar = np.array([\n",
        "    [1,2,3],\n",
        "    [4,5,6],\n",
        "    [7,8,9]\n",
        "])\n",
        "ar[:1,1:]"
      ]
    },
    {
      "cell_type": "code",
      "execution_count": 69,
      "metadata": {},
      "outputs": [
        {
          "output_type": "execute_result",
          "data": {
            "text/plain": [
              "array([[ 1,  2,  3],\n",
              "       [-1, -1, -1],\n",
              "       [ 7,  8,  9]])"
            ]
          },
          "metadata": {},
          "execution_count": 69
        }
      ],
      "source": [
        "ar[1] = -1\n",
        "ar"
      ]
    },
    {
      "cell_type": "code",
      "execution_count": 70,
      "metadata": {},
      "outputs": [
        {
          "output_type": "execute_result",
          "data": {
            "text/plain": [
              "array([[ 1,  0,  3],\n",
              "       [-1,  0, -1],\n",
              "       [ 7,  0,  9]])"
            ]
          },
          "metadata": {},
          "execution_count": 70
        }
      ],
      "source": [
        "ar[:,1] = 0\n",
        "ar"
      ]
    },
    {
      "cell_type": "code",
      "execution_count": 71,
      "metadata": {},
      "outputs": [],
      "source": [
        "ar = np.array([\n",
        "    [1,2,3],\n",
        "    [4,5,6],\n",
        "    [7,8,9]\n",
        "])"
      ]
    },
    {
      "cell_type": "code",
      "execution_count": 72,
      "metadata": {},
      "outputs": [
        {
          "output_type": "execute_result",
          "data": {
            "text/plain": [
              "array([4., 5., 6.])"
            ]
          },
          "metadata": {},
          "execution_count": 72
        }
      ],
      "source": [
        "ar.mean(axis=0)"
      ]
    },
    {
      "cell_type": "code",
      "execution_count": 28,
      "metadata": {},
      "outputs": [
        {
          "output_type": "execute_result",
          "data": {
            "text/plain": [
              "array([ 6, 15, 24])"
            ]
          },
          "metadata": {},
          "execution_count": 28
        }
      ],
      "source": [
        "ar.sum(axis=1)"
      ]
    },
    {
      "cell_type": "code",
      "execution_count": 29,
      "metadata": {},
      "outputs": [
        {
          "output_type": "execute_result",
          "data": {
            "text/plain": [
              "array([[1, 2],\n",
              "       [4, 5],\n",
              "       [7, 8]])"
            ]
          },
          "metadata": {},
          "execution_count": 29
        }
      ],
      "source": [
        "ar[:,:2]"
      ]
    },
    {
      "source": [
        "## Vectorized operations\n",
        "\n",
        "Here's where it is very powerful with broadcasting.  Fast way of dealing with lists."
      ],
      "cell_type": "markdown",
      "metadata": {}
    },
    {
      "cell_type": "code",
      "execution_count": 73,
      "metadata": {},
      "outputs": [
        {
          "output_type": "execute_result",
          "data": {
            "text/plain": [
              "array([0, 1, 2, 3])"
            ]
          },
          "metadata": {},
          "execution_count": 73
        }
      ],
      "source": [
        "s = np.arange(4)\n",
        "s"
      ]
    },
    {
      "cell_type": "code",
      "execution_count": 74,
      "metadata": {},
      "outputs": [
        {
          "output_type": "execute_result",
          "data": {
            "text/plain": [
              "array([4, 5, 6, 7])"
            ]
          },
          "metadata": {},
          "execution_count": 74
        }
      ],
      "source": [
        "s+4"
      ]
    },
    {
      "cell_type": "code",
      "execution_count": 75,
      "metadata": {},
      "outputs": [
        {
          "output_type": "execute_result",
          "data": {
            "text/plain": [
              "array([2, 3, 4, 5])"
            ]
          },
          "metadata": {},
          "execution_count": 75
        }
      ],
      "source": [
        "s+=2\n",
        "s"
      ]
    },
    {
      "cell_type": "code",
      "execution_count": 76,
      "metadata": {},
      "outputs": [
        {
          "output_type": "execute_result",
          "data": {
            "text/plain": [
              "array([0, 1, 2, 3])"
            ]
          },
          "metadata": {},
          "execution_count": 76
        }
      ],
      "source": [
        "t = np.arange(4)\n",
        "t"
      ]
    },
    {
      "cell_type": "code",
      "execution_count": 77,
      "metadata": {},
      "outputs": [
        {
          "output_type": "execute_result",
          "data": {
            "text/plain": [
              "array([2, 4, 6, 8])"
            ]
          },
          "metadata": {},
          "execution_count": 77
        }
      ],
      "source": [
        "s+t"
      ]
    },
    {
      "cell_type": "code",
      "execution_count": 78,
      "metadata": {},
      "outputs": [
        {
          "output_type": "execute_result",
          "data": {
            "text/plain": [
              "array([ 0,  3,  8, 15])"
            ]
          },
          "metadata": {},
          "execution_count": 78
        }
      ],
      "source": [
        "s*t"
      ]
    },
    {
      "source": [
        "## Boolean operators\n",
        "\n",
        "We can select data in arrays using boolean operators"
      ],
      "cell_type": "markdown",
      "metadata": {}
    },
    {
      "cell_type": "code",
      "execution_count": 46,
      "metadata": {},
      "outputs": [
        {
          "output_type": "execute_result",
          "data": {
            "text/plain": [
              "array([False, False,  True,  True])"
            ]
          },
          "metadata": {},
          "execution_count": 46
        }
      ],
      "source": [
        "s>1"
      ]
    },
    {
      "cell_type": "code",
      "execution_count": 48,
      "metadata": {},
      "outputs": [
        {
          "output_type": "execute_result",
          "data": {
            "text/plain": [
              "array([2, 3])"
            ]
          },
          "metadata": {},
          "execution_count": 48
        }
      ],
      "source": [
        "s[s>1]"
      ]
    },
    {
      "cell_type": "code",
      "execution_count": 54,
      "metadata": {},
      "outputs": [
        {
          "output_type": "execute_result",
          "data": {
            "text/plain": [
              "1.5"
            ]
          },
          "metadata": {},
          "execution_count": 54
        }
      ],
      "source": [
        "s.mean()"
      ]
    },
    {
      "cell_type": "code",
      "execution_count": 55,
      "metadata": {},
      "outputs": [
        {
          "output_type": "execute_result",
          "data": {
            "text/plain": [
              "array([2, 3])"
            ]
          },
          "metadata": {},
          "execution_count": 55
        }
      ],
      "source": [
        "s[s>s.mean()]"
      ]
    },
    {
      "cell_type": "code",
      "execution_count": 51,
      "metadata": {},
      "outputs": [
        {
          "output_type": "execute_result",
          "data": {
            "text/plain": [
              "array([[21, 24,  5],\n",
              "       [36, 49,  9],\n",
              "       [24, 60, 40]])"
            ]
          },
          "metadata": {},
          "execution_count": 51
        }
      ],
      "source": [
        "ar = np.random.randint(100, size=(3,3))\n",
        "ar"
      ]
    },
    {
      "cell_type": "code",
      "execution_count": 52,
      "metadata": {},
      "outputs": [
        {
          "output_type": "execute_result",
          "data": {
            "text/plain": [
              "array([[False, False, False],\n",
              "       [ True,  True, False],\n",
              "       [False,  True,  True]])"
            ]
          },
          "metadata": {},
          "execution_count": 52
        }
      ],
      "source": [
        "ar > 30"
      ]
    },
    {
      "cell_type": "code",
      "execution_count": 53,
      "metadata": {},
      "outputs": [
        {
          "output_type": "execute_result",
          "data": {
            "text/plain": [
              "array([36, 49, 60, 40])"
            ]
          },
          "metadata": {},
          "execution_count": 53
        }
      ],
      "source": [
        "ar[ar>30]"
      ]
    },
    {
      "source": [
        "## Size and speed"
      ],
      "cell_type": "markdown",
      "metadata": {}
    },
    {
      "cell_type": "code",
      "execution_count": 60,
      "metadata": {},
      "outputs": [
        {
          "output_type": "execute_result",
          "data": {
            "text/plain": [
              "28"
            ]
          },
          "metadata": {},
          "execution_count": 60
        }
      ],
      "source": [
        "sys.getsizeof(1)"
      ]
    },
    {
      "cell_type": "code",
      "execution_count": 69,
      "metadata": {},
      "outputs": [
        {
          "output_type": "execute_result",
          "data": {
            "text/plain": [
              "8"
            ]
          },
          "metadata": {},
          "execution_count": 69
        }
      ],
      "source": [
        "np.dtype(int).itemsize"
      ]
    },
    {
      "cell_type": "code",
      "execution_count": 65,
      "metadata": {},
      "outputs": [],
      "source": [
        "l = list(range(10000))\n",
        "ar = np.arange(10000)"
      ]
    },
    {
      "cell_type": "code",
      "execution_count": 66,
      "metadata": {},
      "outputs": [
        {
          "output_type": "stream",
          "name": "stdout",
          "text": [
            "CPU times: user 307 µs, sys: 100 µs, total: 407 µs\nWall time: 371 µs\n"
          ]
        },
        {
          "output_type": "execute_result",
          "data": {
            "text/plain": [
              "333283335000"
            ]
          },
          "metadata": {},
          "execution_count": 66
        }
      ],
      "source": [
        "%time np.sum(ar**2)"
      ]
    },
    {
      "cell_type": "code",
      "execution_count": 67,
      "metadata": {},
      "outputs": [
        {
          "output_type": "stream",
          "name": "stdout",
          "text": [
            "CPU times: user 4.54 ms, sys: 618 µs, total: 5.16 ms\nWall time: 5.31 ms\n"
          ]
        },
        {
          "output_type": "execute_result",
          "data": {
            "text/plain": [
              "333283335000"
            ]
          },
          "metadata": {},
          "execution_count": 67
        }
      ],
      "source": [
        "%time sum([x ** 2 for x in l])"
      ]
    },
    {
      "source": [
        "# Next up\n",
        "\n",
        "* Start our first project - analysing IGN video game rating data!"
      ],
      "cell_type": "markdown",
      "metadata": {}
    }
  ]
}
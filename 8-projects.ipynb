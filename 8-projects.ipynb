{
 "cells": [
  {
   "cell_type": "markdown",
   "metadata": {},
   "source": [
    "# 7. Projects\n",
    "\n",
    "This notebook contains ideas for possible projects, as well as possible datasets that students can use for their projects.\n",
    "\n",
    "\n",
    "Projects should contain the following\n",
    "\n",
    "* Introduction to the project, discussing the dataset\n",
    "* List of questions that you are interested in answering\n",
    "* Code to manipulate data and add any new features needed to answer your questions\n",
    "* Commentary that answers questions, raises new questions, and highlights interesting findings\n",
    "* Visualizations that answer questions and highlight interesting aspects of the data.\n",
    "\n",
    "\n",
    "Feel free to use stack overflow, documentation and other sources.\n",
    "Avoid just copying another analysis, but feel free to borrow ideas.\n",
    "\n",
    "The main thing is to have fun!"
   ]
  },
  {
   "cell_type": "markdown",
   "metadata": {},
   "source": [
    "## Instacart data analysis\n",
    "\n",
    "What can we learn about what people buy on Instacart?\n",
    "\n",
    "* Data https://www.kaggle.com/c/instacart-market-basket-analysis/data\n",
    "* Information https://tech.instacart.com/3-million-instacart-orders-open-sourced-d40d29ead6f2\n",
    "\n"
   ]
  },
  {
   "cell_type": "markdown",
   "metadata": {},
   "source": [
    "## Global Warming\n",
    "\n",
    "Data: https://www.kaggle.com/berkeleyearth/climate-change-earth-surface-temperature-data\n",
    "\n",
    "Can you show us that the temperature is rising over time for the world?  By country?\n",
    "\n",
    "Can you create a map visualization of the data?\n"
   ]
  },
  {
   "cell_type": "markdown",
   "metadata": {},
   "source": [
    "## Kaggle Competition\n",
    "\n",
    "Join a Kaggle competition to learn more about analysis and get a head start on machine learning.\n",
    "\n",
    "www.kaggle.com"
   ]
  },
  {
   "cell_type": "markdown",
   "metadata": {},
   "source": [
    "## Canadian Open Data\n",
    "\n",
    "https://open.canada.ca/en/open-data\n",
    "https://www.data.gov.bc.ca/\n",
    "\n",
    "\n",
    "Explore the Canadian and BC Open Data sites for project ideas!\n"
   ]
  },
  {
   "cell_type": "markdown",
   "metadata": {},
   "source": [
    "## Covid cases\n",
    "\n",
    "Download covid case data for your own visuals and analyis!\n",
    "\n",
    "http://www.bccdc.ca/health-info/diseases-conditions/covid-19/data"
   ]
  },
  {
   "cell_type": "markdown",
   "metadata": {},
   "source": [
    "## Explore NASA Data on Solar System or Exoplanets\n",
    "\n",
    "https://dev.to/stevenbruno/how-to-explore-nasa-exoplanet-archive-data-with-python-and-pandas-351g"
   ]
  },
  {
   "cell_type": "markdown",
   "metadata": {},
   "source": [
    "## Food database\n",
    "\n",
    "* https://fdc.nal.usda.gov/\n",
    "* https://fdc.nal.usda.gov/download-datasets.html\n",
    "\n",
    "Use these datasets to find food with the most nutrients you're interested in and answer other questions about the food we eat."
   ]
  },
  {
   "cell_type": "markdown",
   "metadata": {},
   "source": [
    "# UCI Machine Learning Lab data sets\n",
    "\n",
    "Some intersting data sets for all kinds of projects and questions.\n",
    "\n",
    "http://archive.ics.uci.edu/ml/index.php\n"
   ]
  },
  {
   "cell_type": "markdown",
   "metadata": {},
   "source": [
    "# Global suicide rates\n",
    "\n",
    "This [global suicide rates dataset](https://www.kaggle.com/russellyates88/suicide-rates-overview-1985-to-2016) covers suicide rates in various countries, with additional data including year, gender, age, population, GDP, and more. When carrying out your EDA, ask yourself: What patterns can you see? Are suicides rates climbing or falling in various countries? What variables (such as gender or age) can you find that might correlate to suicide rates?"
   ]
  },
  {
   "cell_type": "markdown",
   "metadata": {},
   "source": [
    "# Source of datasets (and ideas)\n",
    "\n",
    "https://careerfoundry.com/en/blog/data-analytics/where-to-find-free-datasets/\n"
   ]
  },
  {
   "cell_type": "markdown",
   "metadata": {},
   "source": [
    "# Covid-19\n",
    "Sites like Kaggle already [have thousands of Covid-19 data sets available](https://www.kaggle.com/search?q=covid+19). How can you represent the data? Could you use a global heatmap to show where cases have spiked, versus where there are very few? Perhaps you could create two overlapping bar charts to show known infections versus predicted infections."
   ]
  },
  {
   "cell_type": "markdown",
   "metadata": {},
   "source": [
    "# Instagram data analysis\n",
    "\n",
    "Whether you’re interested in social media, or celebrity and brand culture, [this dataset of the most-followed people on Instagram](https://data.world/socialmediadata/most-followed-on-instagram) has great potential for visualization. You could create an interactive bar chart that tracks changes in the most followed accounts over time. Or you could explore whether brand or celebrity accounts are more effective at influencer marketing. Otherwise, why not find another social media dataset to create a visualization? For instance, [this map of the USA by data scientist Greg Rafferty](https://towardsdatascience.com/the-top-50-most-followed-instagrammers-visualized-134ca4788938) nicely highlights the geographical source of trending topics on Instagram."
   ]
  },
  {
   "cell_type": "markdown",
   "metadata": {},
   "source": [
    "# Animated bar chart\n",
    "\n",
    "Can you use plotly to create an animated bar chart for data that changes over time?  This could be country population, or spotify streaming numbers for example.\n",
    "\n",
    "https://plotly.com/python/animations/"
   ]
  },
  {
   "cell_type": "code",
   "execution_count": null,
   "metadata": {},
   "outputs": [],
   "source": []
  }
 ],
 "metadata": {
  "kernelspec": {
   "display_name": "Python 3",
   "language": "python",
   "name": "python3"
  },
  "language_info": {
   "codemirror_mode": {
    "name": "ipython",
    "version": 3
   },
   "file_extension": ".py",
   "mimetype": "text/x-python",
   "name": "python",
   "nbconvert_exporter": "python",
   "pygments_lexer": "ipython3",
   "version": "3.9.0"
  }
 },
 "nbformat": 4,
 "nbformat_minor": 4
}

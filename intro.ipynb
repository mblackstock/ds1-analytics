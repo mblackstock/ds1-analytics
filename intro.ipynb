{
  "nbformat": 4,
  "nbformat_minor": 0,
  "metadata": {
    "language_info": {
      "codemirror_mode": {
        "name": "ipython",
        "version": 3
      },
      "file_extension": ".py",
      "mimetype": "text/x-python",
      "name": "python",
      "nbconvert_exporter": "python",
      "pygments_lexer": "ipython3",
      "version": "3.9.0"
    },
    "orig_nbformat": 2,
    "kernelspec": {
      "name": "python390jvsc74a57bd0fc433edbda7ed0756f38b26b53dae0b45ff459d6d1e8dc00bd78991799830354",
      "display_name": "Python 3.9.0 64-bit ('notebooks': virtualenvwrapper)"
    },
    "colab": {
      "name": "intro.ipynb",
      "provenance": [],
      "toc_visible": true
    }
  },
  "cells": [
    {
      "cell_type": "markdown",
      "metadata": {
        "id": "HJ4zsaHIKrkt"
      },
      "source": [
        "# Introduction to Data Science\n",
        "\n",
        "Data Science is an interdisciplinary field focused on extracting knowledge from data used to solve problems in a wide range of application domains.  In this course we'll introduce you to tools and techniques used such as loading, cleaning, wrangling, transformation, exploration and visualization of data to find patterns, build reports and communicate results to assist in decision making.\n",
        "\n",
        "This series of notebooks will guide you through several fun projects to you students how to use Python and associated tools and libraries such as Pandas for exploring data.  By the end of this course, you will have an understanding of how to use a hosted Python-based Jupyter notebook system to load data, manipulate the data and produce visualizations to create notebooks to communicate interesting facts about data. \n",
        "\n",
        "## Python for Data Science\n",
        "One of the post popular languages for data science today is Python. It is also used by professionals in many other contexts such as tools build control and management, dynamic data pipelines and backend web development. It is easy to pick up for anyone who has some previous coding experience. It is also used in the early UTG courses with PixelPad so it is likely familiar to many of you!  Python was named after the comedy troupe and show Monty Python's Flying Circus.\n",
        "\n",
        "## What is Jupyter?\n",
        "\n",
        "The Jupyter Notebook is an open source web application used to create and share documents that contain live code, equations, visualizations, and text.  It is possible to run Jupyter locally on your PC, and there are several Jupyter services available, and they are largely compatible with each other.  In this course we'll be mostly using the Google CoLab service, but others like Kaggle are also available ().\n",
        "\n",
        "## What is Pandas?\n",
        "\n",
        "Pandas is a powerful Python library for data analsysis and manipulation.  It is built on another important library called `numpy`.  Most of this course will focus on the use of Pandas and related Python libraries for visualization.\n",
        "\n",
        "## Accessing Google CoLaboratory\n",
        "\n",
        "To access Google's CoLab Jupyter environment you'll need a Google account since it integrates with Google Docs for storage.  Like Google docs word processing and spreadsheet documents, you can share your CoLab Notebooks with others.\n",
        "\n",
        "Navigate to https://colab.research.google.com to get started.  We'll work together to set up your first notebook.\n",
        "\n",
        "Lets open up the 'Welcome To Colaboratory' to view the various resources available online.\n",
        "\n",
        "** Walk through the various resources available on CoLab **\n",
        "\n",
        "Another Jupyter notebook and resource for data sets is a Google service called Kaggle.  We'll be using Kaggle for some notebooks and data sets as well.\n",
        "\n",
        "** Walk through the various resources available on Kaggle **\n",
        "\n"
      ]
    },
    {
      "cell_type": "markdown",
      "metadata": {
        "id": "QH7mu30iL7If"
      },
      "source": [
        "# Getting started\n",
        "\n",
        "Let's get started by creating a new Jupyter notebook on CoLab.\n",
        "\n",
        "Notebooks are a combination of text and code blocks that may have some associated output like text or visualizations."
      ]
    },
    {
      "cell_type": "markdown",
      "metadata": {
        "id": "3YhgdmcZM4xK"
      },
      "source": [
        "## Text Blocks\n",
        "\n",
        "First, we'll start by creating a text block using markdown.  Markdown is a syntax for creating formatted text. We can write some markup as follows (feel free to change it as you like):\n",
        "\n",
        "```markdown\n",
        "# My First notebook\n",
        "\n",
        "This is my first notebook for playing around with Python and Pandas a bit before diving into our first project!\n",
        "```"
      ]
    },
    {
      "cell_type": "markdown",
      "metadata": {
        "id": "r0DmHbRnKrku"
      },
      "source": [
        "Markdown is very powerful.  You can format your text in many ways, and even include images.  For more info on Markdown in CoLab see https://colab.research.google.com/notebooks/markdown_guide.ipynb\n",
        "\n",
        "## Code Blocks\n",
        "We can write python code blocks like this:"
      ]
    },
    {
      "cell_type": "code",
      "metadata": {
        "id": "6pGM2dHXKrku",
        "outputId": "6700bc93-331d-41e7-b98e-4e57776aaa88"
      },
      "source": [
        "planets = ['Mercury', 'Venus', 'Earth', 'Mars', 'Jupiter', 'Saturn', 'Uranus', 'Neptune']\n",
        "planets"
      ],
      "execution_count": null,
      "outputs": [
        {
          "output_type": "execute_result",
          "data": {
            "text/plain": [
              "['Mercury', 'Venus', 'Earth', 'Mars', 'Jupiter', 'Saturn', 'Uranus', 'Neptune']"
            ]
          },
          "metadata": {
            "tags": []
          },
          "execution_count": 2
        }
      ]
    },
    {
      "cell_type": "code",
      "metadata": {
        "id": "MkZYJ6SaKrkv",
        "outputId": "e95a4e3a-0ee9-4d5c-abbd-e9d52073dd69"
      },
      "source": [
        "planets[2:3] = ['Ear','Mar']\n",
        "planets"
      ],
      "execution_count": null,
      "outputs": [
        {
          "output_type": "execute_result",
          "data": {
            "text/plain": [
              "['Mercury',\n",
              " 'Venus',\n",
              " 'Ear',\n",
              " 'Mar',\n",
              " 'Mars',\n",
              " 'Jupiter',\n",
              " 'Saturn',\n",
              " 'Uranus',\n",
              " 'Neptune']"
            ]
          },
          "metadata": {
            "tags": []
          },
          "execution_count": 3
        }
      ]
    },
    {
      "cell_type": "markdown",
      "metadata": {
        "id": "yWSwugfmKrkv"
      },
      "source": [
        "As you can see you can create variables and access them in subsequent code blocks.  Now lets try something a little fancier:"
      ]
    },
    {
      "cell_type": "code",
      "metadata": {
        "id": "VFn2gO4wKrkv",
        "outputId": "f0037f38-7397-454d-8450-837ac570afef"
      },
      "source": [
        "import numpy as np\n",
        "from matplotlib import pyplot as plt\n",
        "\n",
        "data = np.random.randn(50)\n",
        "plt.plot(data)"
      ],
      "execution_count": null,
      "outputs": [
        {
          "output_type": "execute_result",
          "data": {
            "text/plain": [
              "[<matplotlib.lines.Line2D at 0x122acb130>]"
            ]
          },
          "metadata": {
            "tags": []
          },
          "execution_count": 15
        },
        {
          "output_type": "display_data",
          "data": {
            "text/plain": [
              "<Figure size 432x288 with 1 Axes>"
            ],
            "image/svg+xml": "<?xml version=\"1.0\" encoding=\"utf-8\" standalone=\"no\"?>\n<!DOCTYPE svg PUBLIC \"-//W3C//DTD SVG 1.1//EN\"\n  \"http://www.w3.org/Graphics/SVG/1.1/DTD/svg11.dtd\">\n<svg height=\"251.684023pt\" version=\"1.1\" viewBox=\"0 0 370.942187 251.684023\" width=\"370.942187pt\" xmlns=\"http://www.w3.org/2000/svg\" xmlns:xlink=\"http://www.w3.org/1999/xlink\">\n <metadata>\n  <rdf:RDF xmlns:cc=\"http://creativecommons.org/ns#\" xmlns:dc=\"http://purl.org/dc/elements/1.1/\" xmlns:rdf=\"http://www.w3.org/1999/02/22-rdf-syntax-ns#\">\n   <cc:Work>\n    <dc:type rdf:resource=\"http://purl.org/dc/dcmitype/StillImage\"/>\n    <dc:date>2021-05-22T12:00:52.687873</dc:date>\n    <dc:format>image/svg+xml</dc:format>\n    <dc:creator>\n     <cc:Agent>\n      <dc:title>Matplotlib v3.4.1, https://matplotlib.org/</dc:title>\n     </cc:Agent>\n    </dc:creator>\n   </cc:Work>\n  </rdf:RDF>\n </metadata>\n <defs>\n  <style type=\"text/css\">*{stroke-linecap:butt;stroke-linejoin:round;}</style>\n </defs>\n <g id=\"figure_1\">\n  <g id=\"patch_1\">\n   <path d=\"M 0 251.684023 \nL 370.942187 251.684023 \nL 370.942187 0 \nL 0 0 \nz\n\" style=\"fill:none;\"/>\n  </g>\n  <g id=\"axes_1\">\n   <g id=\"patch_2\">\n    <path d=\"M 28.942188 227.805898 \nL 363.742188 227.805898 \nL 363.742188 10.365898 \nL 28.942188 10.365898 \nz\n\" style=\"fill:#ffffff;\"/>\n   </g>\n   <g id=\"matplotlib.axis_1\">\n    <g id=\"xtick_1\">\n     <g id=\"line2d_1\">\n      <defs>\n       <path d=\"M 0 0 \nL 0 3.5 \n\" id=\"m0d89095bba\" style=\"stroke:#000000;stroke-width:0.8;\"/>\n      </defs>\n      <g>\n       <use style=\"stroke:#000000;stroke-width:0.8;\" x=\"44.160369\" xlink:href=\"#m0d89095bba\" y=\"227.805898\"/>\n      </g>\n     </g>\n     <g id=\"text_1\">\n      <!-- 0 -->\n      <g transform=\"translate(40.979119 242.404336)scale(0.1 -0.1)\">\n       <defs>\n        <path d=\"M 2034 4250 \nQ 1547 4250 1301 3770 \nQ 1056 3291 1056 2328 \nQ 1056 1369 1301 889 \nQ 1547 409 2034 409 \nQ 2525 409 2770 889 \nQ 3016 1369 3016 2328 \nQ 3016 3291 2770 3770 \nQ 2525 4250 2034 4250 \nz\nM 2034 4750 \nQ 2819 4750 3233 4129 \nQ 3647 3509 3647 2328 \nQ 3647 1150 3233 529 \nQ 2819 -91 2034 -91 \nQ 1250 -91 836 529 \nQ 422 1150 422 2328 \nQ 422 3509 836 4129 \nQ 1250 4750 2034 4750 \nz\n\" id=\"DejaVuSans-30\" transform=\"scale(0.015625)\"/>\n       </defs>\n       <use xlink:href=\"#DejaVuSans-30\"/>\n      </g>\n     </g>\n    </g>\n    <g id=\"xtick_2\">\n     <g id=\"line2d_2\">\n      <g>\n       <use style=\"stroke:#000000;stroke-width:0.8;\" x=\"106.275397\" xlink:href=\"#m0d89095bba\" y=\"227.805898\"/>\n      </g>\n     </g>\n     <g id=\"text_2\">\n      <!-- 10 -->\n      <g transform=\"translate(99.912897 242.404336)scale(0.1 -0.1)\">\n       <defs>\n        <path d=\"M 794 531 \nL 1825 531 \nL 1825 4091 \nL 703 3866 \nL 703 4441 \nL 1819 4666 \nL 2450 4666 \nL 2450 531 \nL 3481 531 \nL 3481 0 \nL 794 0 \nL 794 531 \nz\n\" id=\"DejaVuSans-31\" transform=\"scale(0.015625)\"/>\n       </defs>\n       <use xlink:href=\"#DejaVuSans-31\"/>\n       <use x=\"63.623047\" xlink:href=\"#DejaVuSans-30\"/>\n      </g>\n     </g>\n    </g>\n    <g id=\"xtick_3\">\n     <g id=\"line2d_3\">\n      <g>\n       <use style=\"stroke:#000000;stroke-width:0.8;\" x=\"168.390425\" xlink:href=\"#m0d89095bba\" y=\"227.805898\"/>\n      </g>\n     </g>\n     <g id=\"text_3\">\n      <!-- 20 -->\n      <g transform=\"translate(162.027925 242.404336)scale(0.1 -0.1)\">\n       <defs>\n        <path d=\"M 1228 531 \nL 3431 531 \nL 3431 0 \nL 469 0 \nL 469 531 \nQ 828 903 1448 1529 \nQ 2069 2156 2228 2338 \nQ 2531 2678 2651 2914 \nQ 2772 3150 2772 3378 \nQ 2772 3750 2511 3984 \nQ 2250 4219 1831 4219 \nQ 1534 4219 1204 4116 \nQ 875 4013 500 3803 \nL 500 4441 \nQ 881 4594 1212 4672 \nQ 1544 4750 1819 4750 \nQ 2544 4750 2975 4387 \nQ 3406 4025 3406 3419 \nQ 3406 3131 3298 2873 \nQ 3191 2616 2906 2266 \nQ 2828 2175 2409 1742 \nQ 1991 1309 1228 531 \nz\n\" id=\"DejaVuSans-32\" transform=\"scale(0.015625)\"/>\n       </defs>\n       <use xlink:href=\"#DejaVuSans-32\"/>\n       <use x=\"63.623047\" xlink:href=\"#DejaVuSans-30\"/>\n      </g>\n     </g>\n    </g>\n    <g id=\"xtick_4\">\n     <g id=\"line2d_4\">\n      <g>\n       <use style=\"stroke:#000000;stroke-width:0.8;\" x=\"230.505453\" xlink:href=\"#m0d89095bba\" y=\"227.805898\"/>\n      </g>\n     </g>\n     <g id=\"text_4\">\n      <!-- 30 -->\n      <g transform=\"translate(224.142953 242.404336)scale(0.1 -0.1)\">\n       <defs>\n        <path d=\"M 2597 2516 \nQ 3050 2419 3304 2112 \nQ 3559 1806 3559 1356 \nQ 3559 666 3084 287 \nQ 2609 -91 1734 -91 \nQ 1441 -91 1130 -33 \nQ 819 25 488 141 \nL 488 750 \nQ 750 597 1062 519 \nQ 1375 441 1716 441 \nQ 2309 441 2620 675 \nQ 2931 909 2931 1356 \nQ 2931 1769 2642 2001 \nQ 2353 2234 1838 2234 \nL 1294 2234 \nL 1294 2753 \nL 1863 2753 \nQ 2328 2753 2575 2939 \nQ 2822 3125 2822 3475 \nQ 2822 3834 2567 4026 \nQ 2313 4219 1838 4219 \nQ 1578 4219 1281 4162 \nQ 984 4106 628 3988 \nL 628 4550 \nQ 988 4650 1302 4700 \nQ 1616 4750 1894 4750 \nQ 2613 4750 3031 4423 \nQ 3450 4097 3450 3541 \nQ 3450 3153 3228 2886 \nQ 3006 2619 2597 2516 \nz\n\" id=\"DejaVuSans-33\" transform=\"scale(0.015625)\"/>\n       </defs>\n       <use xlink:href=\"#DejaVuSans-33\"/>\n       <use x=\"63.623047\" xlink:href=\"#DejaVuSans-30\"/>\n      </g>\n     </g>\n    </g>\n    <g id=\"xtick_5\">\n     <g id=\"line2d_5\">\n      <g>\n       <use style=\"stroke:#000000;stroke-width:0.8;\" x=\"292.620481\" xlink:href=\"#m0d89095bba\" y=\"227.805898\"/>\n      </g>\n     </g>\n     <g id=\"text_5\">\n      <!-- 40 -->\n      <g transform=\"translate(286.257981 242.404336)scale(0.1 -0.1)\">\n       <defs>\n        <path d=\"M 2419 4116 \nL 825 1625 \nL 2419 1625 \nL 2419 4116 \nz\nM 2253 4666 \nL 3047 4666 \nL 3047 1625 \nL 3713 1625 \nL 3713 1100 \nL 3047 1100 \nL 3047 0 \nL 2419 0 \nL 2419 1100 \nL 313 1100 \nL 313 1709 \nL 2253 4666 \nz\n\" id=\"DejaVuSans-34\" transform=\"scale(0.015625)\"/>\n       </defs>\n       <use xlink:href=\"#DejaVuSans-34\"/>\n       <use x=\"63.623047\" xlink:href=\"#DejaVuSans-30\"/>\n      </g>\n     </g>\n    </g>\n    <g id=\"xtick_6\">\n     <g id=\"line2d_6\">\n      <g>\n       <use style=\"stroke:#000000;stroke-width:0.8;\" x=\"354.735508\" xlink:href=\"#m0d89095bba\" y=\"227.805898\"/>\n      </g>\n     </g>\n     <g id=\"text_6\">\n      <!-- 50 -->\n      <g transform=\"translate(348.373008 242.404336)scale(0.1 -0.1)\">\n       <defs>\n        <path d=\"M 691 4666 \nL 3169 4666 \nL 3169 4134 \nL 1269 4134 \nL 1269 2991 \nQ 1406 3038 1543 3061 \nQ 1681 3084 1819 3084 \nQ 2600 3084 3056 2656 \nQ 3513 2228 3513 1497 \nQ 3513 744 3044 326 \nQ 2575 -91 1722 -91 \nQ 1428 -91 1123 -41 \nQ 819 9 494 109 \nL 494 744 \nQ 775 591 1075 516 \nQ 1375 441 1709 441 \nQ 2250 441 2565 725 \nQ 2881 1009 2881 1497 \nQ 2881 1984 2565 2268 \nQ 2250 2553 1709 2553 \nQ 1456 2553 1204 2497 \nQ 953 2441 691 2322 \nL 691 4666 \nz\n\" id=\"DejaVuSans-35\" transform=\"scale(0.015625)\"/>\n       </defs>\n       <use xlink:href=\"#DejaVuSans-35\"/>\n       <use x=\"63.623047\" xlink:href=\"#DejaVuSans-30\"/>\n      </g>\n     </g>\n    </g>\n   </g>\n   <g id=\"matplotlib.axis_2\">\n    <g id=\"ytick_1\">\n     <g id=\"line2d_7\">\n      <defs>\n       <path d=\"M 0 0 \nL -3.5 0 \n\" id=\"mf5e1bebf95\" style=\"stroke:#000000;stroke-width:0.8;\"/>\n      </defs>\n      <g>\n       <use style=\"stroke:#000000;stroke-width:0.8;\" x=\"28.942188\" xlink:href=\"#mf5e1bebf95\" y=\"218.945027\"/>\n      </g>\n     </g>\n     <g id=\"text_7\">\n      <!-- −2 -->\n      <g transform=\"translate(7.2 222.744246)scale(0.1 -0.1)\">\n       <defs>\n        <path d=\"M 678 2272 \nL 4684 2272 \nL 4684 1741 \nL 678 1741 \nL 678 2272 \nz\n\" id=\"DejaVuSans-2212\" transform=\"scale(0.015625)\"/>\n       </defs>\n       <use xlink:href=\"#DejaVuSans-2212\"/>\n       <use x=\"83.789062\" xlink:href=\"#DejaVuSans-32\"/>\n      </g>\n     </g>\n    </g>\n    <g id=\"ytick_2\">\n     <g id=\"line2d_8\">\n      <g>\n       <use style=\"stroke:#000000;stroke-width:0.8;\" x=\"28.942188\" xlink:href=\"#mf5e1bebf95\" y=\"177.355866\"/>\n      </g>\n     </g>\n     <g id=\"text_8\">\n      <!-- −1 -->\n      <g transform=\"translate(7.2 181.155084)scale(0.1 -0.1)\">\n       <use xlink:href=\"#DejaVuSans-2212\"/>\n       <use x=\"83.789062\" xlink:href=\"#DejaVuSans-31\"/>\n      </g>\n     </g>\n    </g>\n    <g id=\"ytick_3\">\n     <g id=\"line2d_9\">\n      <g>\n       <use style=\"stroke:#000000;stroke-width:0.8;\" x=\"28.942188\" xlink:href=\"#mf5e1bebf95\" y=\"135.766704\"/>\n      </g>\n     </g>\n     <g id=\"text_9\">\n      <!-- 0 -->\n      <g transform=\"translate(15.579688 139.565923)scale(0.1 -0.1)\">\n       <use xlink:href=\"#DejaVuSans-30\"/>\n      </g>\n     </g>\n    </g>\n    <g id=\"ytick_4\">\n     <g id=\"line2d_10\">\n      <g>\n       <use style=\"stroke:#000000;stroke-width:0.8;\" x=\"28.942188\" xlink:href=\"#mf5e1bebf95\" y=\"94.177542\"/>\n      </g>\n     </g>\n     <g id=\"text_10\">\n      <!-- 1 -->\n      <g transform=\"translate(15.579688 97.976761)scale(0.1 -0.1)\">\n       <use xlink:href=\"#DejaVuSans-31\"/>\n      </g>\n     </g>\n    </g>\n    <g id=\"ytick_5\">\n     <g id=\"line2d_11\">\n      <g>\n       <use style=\"stroke:#000000;stroke-width:0.8;\" x=\"28.942188\" xlink:href=\"#mf5e1bebf95\" y=\"52.58838\"/>\n      </g>\n     </g>\n     <g id=\"text_11\">\n      <!-- 2 -->\n      <g transform=\"translate(15.579688 56.387599)scale(0.1 -0.1)\">\n       <use xlink:href=\"#DejaVuSans-32\"/>\n      </g>\n     </g>\n    </g>\n    <g id=\"ytick_6\">\n     <g id=\"line2d_12\">\n      <g>\n       <use style=\"stroke:#000000;stroke-width:0.8;\" x=\"28.942188\" xlink:href=\"#mf5e1bebf95\" y=\"10.999219\"/>\n      </g>\n     </g>\n     <g id=\"text_12\">\n      <!-- 3 -->\n      <g transform=\"translate(15.579688 14.798437)scale(0.1 -0.1)\">\n       <use xlink:href=\"#DejaVuSans-33\"/>\n      </g>\n     </g>\n    </g>\n   </g>\n   <g id=\"line2d_13\">\n    <path clip-path=\"url(#p3afebc8ffc)\" d=\"M 44.160369 124.923855 \nL 50.371872 79.780541 \nL 56.583375 127.332953 \nL 62.794878 20.249535 \nL 69.00638 107.36968 \nL 75.217883 161.016314 \nL 81.429386 99.702099 \nL 87.640889 142.486484 \nL 93.852392 157.417343 \nL 100.063894 134.204273 \nL 106.275397 97.620029 \nL 112.4869 127.428546 \nL 118.698403 124.856681 \nL 124.909905 134.753715 \nL 131.121408 162.200677 \nL 137.332911 128.238101 \nL 143.544414 186.967755 \nL 149.755917 85.784659 \nL 155.967419 191.426588 \nL 162.178922 196.716435 \nL 168.390425 169.61804 \nL 174.601928 159.906131 \nL 180.813431 84.36631 \nL 187.024933 145.58439 \nL 193.236436 143.023703 \nL 199.447939 143.352353 \nL 205.659442 189.263334 \nL 211.870944 127.185203 \nL 218.082447 96.70238 \nL 224.29395 135.966976 \nL 230.505453 125.644342 \nL 236.716956 50.793106 \nL 242.928458 64.520561 \nL 249.139961 107.26976 \nL 255.351464 75.293569 \nL 261.562967 146.419789 \nL 267.77447 88.821041 \nL 273.985972 120.699855 \nL 280.197475 173.602924 \nL 286.408978 143.947815 \nL 292.620481 173.804468 \nL 298.831983 116.312825 \nL 305.043486 108.593674 \nL 311.254989 133.307707 \nL 317.466492 148.798413 \nL 323.677995 217.922262 \nL 329.889497 177.677452 \nL 336.101 153.732042 \nL 342.312503 144.996964 \nL 348.524006 155.648587 \n\" style=\"fill:none;stroke:#1f77b4;stroke-linecap:square;stroke-width:1.5;\"/>\n   </g>\n   <g id=\"patch_3\">\n    <path d=\"M 28.942188 227.805898 \nL 28.942188 10.365898 \n\" style=\"fill:none;stroke:#000000;stroke-linecap:square;stroke-linejoin:miter;stroke-width:0.8;\"/>\n   </g>\n   <g id=\"patch_4\">\n    <path d=\"M 363.742188 227.805898 \nL 363.742188 10.365898 \n\" style=\"fill:none;stroke:#000000;stroke-linecap:square;stroke-linejoin:miter;stroke-width:0.8;\"/>\n   </g>\n   <g id=\"patch_5\">\n    <path d=\"M 28.942188 227.805898 \nL 363.742188 227.805898 \n\" style=\"fill:none;stroke:#000000;stroke-linecap:square;stroke-linejoin:miter;stroke-width:0.8;\"/>\n   </g>\n   <g id=\"patch_6\">\n    <path d=\"M 28.942188 10.365898 \nL 363.742188 10.365898 \n\" style=\"fill:none;stroke:#000000;stroke-linecap:square;stroke-linejoin:miter;stroke-width:0.8;\"/>\n   </g>\n  </g>\n </g>\n <defs>\n  <clipPath id=\"p3afebc8ffc\">\n   <rect height=\"217.44\" width=\"334.8\" x=\"28.942188\" y=\"10.365898\"/>\n  </clipPath>\n </defs>\n</svg>\n",
            "image/png": "[encoded data removed]"
          },
          "metadata": {
            "tags": [],
            "needs_background": "light"
          }
        }
      ]
    },
    {
      "cell_type": "markdown",
      "metadata": {
        "id": "q1o0y7U0Krkw"
      },
      "source": [
        "In this sample code we're using the `numpy` library and the `matplotlib` for visualizations.  \n",
        "\n",
        "The first two lines import those libraries.  The last two lines generate an array of random data and generates a plot of this data.\n",
        "\n",
        "Since our data is nice and simple, we don't have to manipulate it, and we've decided to use the default plot.\n",
        "\n",
        "As you can see these libraries are very powerful out of the box.  Much of this course will be learning Python and these libraries, and the ability to find information on what functions and methods to use using resources such as documentation, Google, and stack overflow.  We'll learn many of these capabilities as we go.\n",
        "\n",
        "# Next up\n",
        "\n",
        "* Start our first project - analysing IGN data!\n",
        "* Before we dive in, you may want a Python refresher.  There is an excellent one at https://www.kaggle.com/learn/python\n"
      ]
    }
  ]
}
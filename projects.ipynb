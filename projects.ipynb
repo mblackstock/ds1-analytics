{
 "metadata": {
  "language_info": {
   "codemirror_mode": {
    "name": "ipython",
    "version": 3
   },
   "file_extension": ".py",
   "mimetype": "text/x-python",
   "name": "python",
   "nbconvert_exporter": "python",
   "pygments_lexer": "ipython3",
   "version": 3
  },
  "orig_nbformat": 2
 },
 "nbformat": 4,
 "nbformat_minor": 2,
 "cells": [
  {
   "source": [
    "# 7. Projects\n",
    "\n",
    "This notebook contains ideas for possible projects, as well as possible datasets that students can use for their projects.\n",
    "\n",
    "\n",
    "Projects should contain the following\n",
    "\n",
    "* Introduction to the project, discussing the dataset\n",
    "* List of questions that you are interested in answering\n",
    "* Code to manipulate data and add any new features needed to answer your questions\n",
    "* Commentary that answers questions, raises new questions, and highlights interesting findings\n",
    "* Visualizations that answer questions and highlight interesting aspects of the data.\n",
    "\n",
    "\n",
    "Feel free to use stack overflow, documentation and other sources.\n",
    "Avoid just copying another analysis, but feel free to borrow ideas.\n",
    "\n",
    "The main thing is to have fun!"
   ],
   "cell_type": "markdown",
   "metadata": {}
  },
  {
   "source": [
    "## Instacart data analysis\n",
    "\n",
    "What can we learn about what people buy on Instacart?\n",
    "\n",
    "* Data https://www.kaggle.com/c/instacart-market-basket-analysis/data\n",
    "* Information https://tech.instacart.com/3-million-instacart-orders-open-sourced-d40d29ead6f2\n",
    "\n"
   ],
   "cell_type": "markdown",
   "metadata": {}
  },
  {
   "source": [
    "## Global Warming\n",
    "\n",
    "Data: https://www.kaggle.com/berkeleyearth/climate-change-earth-surface-temperature-data\n",
    "\n",
    "Can you show us that the temperature is rising over time for the world?  By country?\n",
    "\n",
    "Can you create a map visualization of the data?\n"
   ],
   "cell_type": "markdown",
   "metadata": {}
  },
  {
   "source": [
    "## Kaggle Competition\n",
    "\n",
    "Join a Kaggle competition to learn more about analysis and get a head start on machine learning.\n",
    "\n",
    "www.kaggle.com"
   ],
   "cell_type": "markdown",
   "metadata": {}
  },
  {
   "source": [
    "## Canadian Open Data\n",
    "\n",
    "https://open.canada.ca/en/open-data\n",
    "https://www.data.gov.bc.ca/\n",
    "\n",
    "\n",
    "Explore the Canadian and BC Open Data sites for project ideas!\n"
   ],
   "cell_type": "markdown",
   "metadata": {}
  },
  {
   "source": [
    "## Covid cases\n",
    "\n",
    "Download covid case data for your own visuals and analyis!\n",
    "\n",
    "http://www.bccdc.ca/health-info/diseases-conditions/covid-19/data"
   ],
   "cell_type": "markdown",
   "metadata": {}
  }
 ]
}
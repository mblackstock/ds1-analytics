{
 "cells": [
  {
   "cell_type": "markdown",
   "metadata": {},
   "source": [
    "<img style=\"float:right\" width=\"400\" src=\"http://static1.squarespace.com/static/5a4e740c4c326d723144bf21/t/5a4ebe39ec212d389156642c/1515109949850/Group%402x.png?format=1500w\">\n",
    "\n",
    "# 2. IGN Ratings Project\n",
    "For our first project we'll do analysis on video game ratings.\n",
    "\n",
    "You've recently decided to create your very own video game! As an avid reader of IGN Game Reviews, you hear about all of the most recent game releases, along with the ranking they've received from experts, ranging from 0 (Disaster) to 10 (Masterpiece).\n",
    "\n",
    "## Getting started\n",
    "\n",
    "When doing data analysis we will often have a question in mind that we want to answer.  In this case, we want to know what gaming platform is the best one for your preferred game genre.\n",
    "\n",
    "To get started, create a new notebook, and add a markup block to the top to give the note book a title, some background, the questions you have, and perhaps an image to illustrate the problem.\n",
    "\n",
    "> This project is based on an exersize in the [Kaggle Data Visualization course](https://www.kaggle.com/learn/data-visualization).\n"
   ]
  },
  {
   "cell_type": "markdown",
   "metadata": {},
   "source": [
    "# Set up\n",
    "\n",
    "To make it easier to write code, we'll import and configure the libraries we want to use at the top of our notebook.  We can use the same code up front in all of our notebooks, or import what we need as we go."
   ]
  },
  {
   "cell_type": "code",
   "execution_count": 2,
   "metadata": {},
   "outputs": [
    {
     "name": "stdout",
     "output_type": "stream",
     "text": [
      "Setup Complete\n"
     ]
    }
   ],
   "source": [
    "import pandas as pd\n",
    "import matplotlib.pyplot as plt\n",
    "%matplotlib inline\n",
    "import seaborn as sns\n",
    "print(\"Setup Complete\")"
   ]
  },
  {
   "cell_type": "markdown",
   "metadata": {},
   "source": [
    "Lets look at this code block more carefully.\n",
    "\n",
    "First, we import the **pandas** library into our notebook so we can use them in our code.  Pandas is the key library we use for file input and output and data processing.  Much of this course will be about becoming familiar with using Python with Pandas.\n",
    "\n",
    "We then import the matplot visualization library and reference it as `plt`\n",
    "\n",
    "`%matplotlib inline` chooses the plotting 'engine' or 'backend' for drawing plots in Jupyter notebooks.  This may not be set to the default in some python environments so we set it here.  The `%` indicates it is a 'magic function' that is called by the Jupyter notebook environment.\n",
    "\n",
    "We then import the seaborn visualization library as `sns`."
   ]
  },
  {
   "cell_type": "markdown",
   "metadata": {},
   "source": [
    "# Accessing Data\n",
    "\n",
    "Before we can do anything, we need data for analysis and make it accessible by our notebook.\n",
    "\n",
    "For the projects we're working on in this course, we've made most of the data sets available in a github repository.  You can either download them from there and upload them to your notebook environment, or clone the repository in your environment.\n",
    "\n",
    "** ensure datasets are in a directory accessible by the notebook, either by uploading to Google Drive, or by cloning the dataset in the repository using: **\n",
    "\n",
    "```\n",
    "!git clone https://github.com/mblackstock/datasets.git\n",
    "```\n",
    "\n",
    "The datasets are now available in the directory `datasets`."
   ]
  },
  {
   "cell_type": "code",
   "execution_count": 3,
   "metadata": {},
   "outputs": [],
   "source": [
    "# Do this once if the dataset is not available yet\n",
    "# !git clone https://github.com/mblackstock/datasets.git"
   ]
  },
  {
   "cell_type": "markdown",
   "metadata": {},
   "source": [
    "## Ensuring data is accessible\n",
    "\n",
    "Now that the data is available, let's use a terminal command to make sure our data is accessible by Python and our notebook."
   ]
  },
  {
   "cell_type": "code",
   "execution_count": 4,
   "metadata": {},
   "outputs": [
    {
     "name": "stdout",
     "output_type": "stream",
     "text": [
      "Platform,Action,\"Action, Adventure\",Adventure,Fighting,Platformer,Puzzle,RPG,Racing,Shooter,Simulation,Sports,Strategy\n",
      "Dreamcast,6.8828571428571435,7.51111111111111,6.281818181818181,8.2,8.34,8.088888888888889,7.7,7.0424999999999995,7.616666666666668,7.628571428571428,7.272222222222222,6.433333333333333\n",
      "Game Boy Advance,6.373076923076922,7.507692307692309,6.057142857142857,6.226315789473684,6.970588235294118,6.5321428571428575,7.542857142857143,6.6571428571428575,6.444444444444445,6.928571428571429,6.694444444444444,7.175000000000001\n",
      "Game Boy Color,6.2727272727272725,8.166666666666666,5.3076923076923075,4.5,6.352941176470588,6.583333333333333,7.285714285714286,5.897435897435898,4.5,5.9,5.790697674418604,7.4\n",
      "GameCube,6.5325842696629195,7.608333333333334,6.753846153846154,7.422222222222222,6.665714285714286,6.133333333333333,7.890909090909091,6.85263157894737,6.981818181818183,8.028571428571428,7.4813186813186805,7.116666666666667\n"
     ]
    }
   ],
   "source": [
    "!head -n 5 datasets/ign/ign_scores.csv"
   ]
  },
  {
   "cell_type": "markdown",
   "metadata": {},
   "source": [
    "## Terminal and Magic Commands in Jupyter\n",
    "\n",
    "We can terminal commands from Jupyter notebooks by prepending an exclamation point or bang (!).  Here we ran the `head` command to see the beginning of the csv file to make sure it is where we expect it.\n",
    "\n",
    "This is a quick way of viewing the 'raw' data before we try to load it using python.\n",
    "\n",
    "In addition to using terminal commands, we can use *magic commands* supported by the underlying python environment by prepending percent (%).  For example, to see the current working directory:"
   ]
  },
  {
   "cell_type": "code",
   "execution_count": 5,
   "metadata": {},
   "outputs": [
    {
     "data": {
      "text/plain": [
       "'/Users/mike/dev/ds1-analytics'"
      ]
     },
     "execution_count": 5,
     "metadata": {},
     "output_type": "execute_result"
    }
   ],
   "source": [
    "%pwd"
   ]
  },
  {
   "cell_type": "markdown",
   "metadata": {},
   "source": [
    "You can also use `%run` to run python code in the notebook, or `%load` to load python code into the notebook, providing a path or a URL. To get a list of commands you can use `%quickref`.\n",
    "\n",
    "The %time command is a quick way of seeing how long things take:"
   ]
  },
  {
   "cell_type": "code",
   "execution_count": 6,
   "metadata": {},
   "outputs": [
    {
     "name": "stdout",
     "output_type": "stream",
     "text": [
      "CPU times: user 425 µs, sys: 20 µs, total: 445 µs\n",
      "Wall time: 449 µs\n"
     ]
    },
    {
     "data": {
      "text/plain": [
       "332833500"
      ]
     },
     "execution_count": 6,
     "metadata": {},
     "output_type": "execute_result"
    }
   ],
   "source": [
    "%time sum([x**2 for x in range(1000)])"
   ]
  },
  {
   "cell_type": "markdown",
   "metadata": {},
   "source": [
    "# Extracting Data\n",
    "\n",
    "Now that we know we can access the data, lets load it into our Python environment so we can work with it."
   ]
  },
  {
   "cell_type": "code",
   "execution_count": 7,
   "metadata": {},
   "outputs": [
    {
     "name": "stdout",
     "output_type": "stream",
     "text": [
      "Data loaded\n"
     ]
    }
   ],
   "source": [
    "import os\n",
    "\n",
    "# Path of the file to read\n",
    "ign_filepath = \"datasets/ign\"\n",
    "\n",
    "# Fill in the line below to read the file into a variable ign_data\n",
    "ign_data = pd.read_csv(os.path.join(ign_filepath, \"ign_scores.csv\"), index_col=\"Platform\")\n",
    "print(\"Data loaded\")"
   ]
  },
  {
   "cell_type": "markdown",
   "metadata": {},
   "source": [
    "Here we're setting a variable to the string that is the path to our data set which is a CSV file.  Notice that unlike Java, we don't have to declare the type of variables in Python.  Notice also that comments use the `#` character.\n",
    "\n",
    "We use the pandas `read_csv` method to read in csv files, a very common data format.  One of the named arguments for this method allows us to set the *index* of the pandas datastructure called a DataFrame to the *Platform* colum.n. More on DataFrames and indexes later.\n",
    "\n",
    "Lets have a look at the data we've loaded."
   ]
  },
  {
   "cell_type": "code",
   "execution_count": 8,
   "metadata": {},
   "outputs": [
    {
     "data": {
      "text/html": [
       "<div>\n",
       "<style scoped>\n",
       "    .dataframe tbody tr th:only-of-type {\n",
       "        vertical-align: middle;\n",
       "    }\n",
       "\n",
       "    .dataframe tbody tr th {\n",
       "        vertical-align: top;\n",
       "    }\n",
       "\n",
       "    .dataframe thead th {\n",
       "        text-align: right;\n",
       "    }\n",
       "</style>\n",
       "<table border=\"1\" class=\"dataframe\">\n",
       "  <thead>\n",
       "    <tr style=\"text-align: right;\">\n",
       "      <th></th>\n",
       "      <th>Action</th>\n",
       "      <th>Action, Adventure</th>\n",
       "      <th>Adventure</th>\n",
       "      <th>Fighting</th>\n",
       "      <th>Platformer</th>\n",
       "      <th>Puzzle</th>\n",
       "      <th>RPG</th>\n",
       "      <th>Racing</th>\n",
       "      <th>Shooter</th>\n",
       "      <th>Simulation</th>\n",
       "      <th>Sports</th>\n",
       "      <th>Strategy</th>\n",
       "    </tr>\n",
       "    <tr>\n",
       "      <th>Platform</th>\n",
       "      <th></th>\n",
       "      <th></th>\n",
       "      <th></th>\n",
       "      <th></th>\n",
       "      <th></th>\n",
       "      <th></th>\n",
       "      <th></th>\n",
       "      <th></th>\n",
       "      <th></th>\n",
       "      <th></th>\n",
       "      <th></th>\n",
       "      <th></th>\n",
       "    </tr>\n",
       "  </thead>\n",
       "  <tbody>\n",
       "    <tr>\n",
       "      <th>Dreamcast</th>\n",
       "      <td>6.882857</td>\n",
       "      <td>7.511111</td>\n",
       "      <td>6.281818</td>\n",
       "      <td>8.200000</td>\n",
       "      <td>8.340000</td>\n",
       "      <td>8.088889</td>\n",
       "      <td>7.700000</td>\n",
       "      <td>7.042500</td>\n",
       "      <td>7.616667</td>\n",
       "      <td>7.628571</td>\n",
       "      <td>7.272222</td>\n",
       "      <td>6.433333</td>\n",
       "    </tr>\n",
       "    <tr>\n",
       "      <th>Game Boy Advance</th>\n",
       "      <td>6.373077</td>\n",
       "      <td>7.507692</td>\n",
       "      <td>6.057143</td>\n",
       "      <td>6.226316</td>\n",
       "      <td>6.970588</td>\n",
       "      <td>6.532143</td>\n",
       "      <td>7.542857</td>\n",
       "      <td>6.657143</td>\n",
       "      <td>6.444444</td>\n",
       "      <td>6.928571</td>\n",
       "      <td>6.694444</td>\n",
       "      <td>7.175000</td>\n",
       "    </tr>\n",
       "    <tr>\n",
       "      <th>Game Boy Color</th>\n",
       "      <td>6.272727</td>\n",
       "      <td>8.166667</td>\n",
       "      <td>5.307692</td>\n",
       "      <td>4.500000</td>\n",
       "      <td>6.352941</td>\n",
       "      <td>6.583333</td>\n",
       "      <td>7.285714</td>\n",
       "      <td>5.897436</td>\n",
       "      <td>4.500000</td>\n",
       "      <td>5.900000</td>\n",
       "      <td>5.790698</td>\n",
       "      <td>7.400000</td>\n",
       "    </tr>\n",
       "    <tr>\n",
       "      <th>GameCube</th>\n",
       "      <td>6.532584</td>\n",
       "      <td>7.608333</td>\n",
       "      <td>6.753846</td>\n",
       "      <td>7.422222</td>\n",
       "      <td>6.665714</td>\n",
       "      <td>6.133333</td>\n",
       "      <td>7.890909</td>\n",
       "      <td>6.852632</td>\n",
       "      <td>6.981818</td>\n",
       "      <td>8.028571</td>\n",
       "      <td>7.481319</td>\n",
       "      <td>7.116667</td>\n",
       "    </tr>\n",
       "    <tr>\n",
       "      <th>Nintendo 3DS</th>\n",
       "      <td>6.670833</td>\n",
       "      <td>7.481818</td>\n",
       "      <td>7.414286</td>\n",
       "      <td>6.614286</td>\n",
       "      <td>7.503448</td>\n",
       "      <td>8.000000</td>\n",
       "      <td>7.719231</td>\n",
       "      <td>6.900000</td>\n",
       "      <td>7.033333</td>\n",
       "      <td>7.700000</td>\n",
       "      <td>6.388889</td>\n",
       "      <td>7.900000</td>\n",
       "    </tr>\n",
       "  </tbody>\n",
       "</table>\n",
       "</div>"
      ],
      "text/plain": [
       "                    Action  Action, Adventure  Adventure  Fighting  \\\n",
       "Platform                                                             \n",
       "Dreamcast         6.882857           7.511111   6.281818  8.200000   \n",
       "Game Boy Advance  6.373077           7.507692   6.057143  6.226316   \n",
       "Game Boy Color    6.272727           8.166667   5.307692  4.500000   \n",
       "GameCube          6.532584           7.608333   6.753846  7.422222   \n",
       "Nintendo 3DS      6.670833           7.481818   7.414286  6.614286   \n",
       "\n",
       "                  Platformer    Puzzle       RPG    Racing   Shooter  \\\n",
       "Platform                                                               \n",
       "Dreamcast           8.340000  8.088889  7.700000  7.042500  7.616667   \n",
       "Game Boy Advance    6.970588  6.532143  7.542857  6.657143  6.444444   \n",
       "Game Boy Color      6.352941  6.583333  7.285714  5.897436  4.500000   \n",
       "GameCube            6.665714  6.133333  7.890909  6.852632  6.981818   \n",
       "Nintendo 3DS        7.503448  8.000000  7.719231  6.900000  7.033333   \n",
       "\n",
       "                  Simulation    Sports  Strategy  \n",
       "Platform                                          \n",
       "Dreamcast           7.628571  7.272222  6.433333  \n",
       "Game Boy Advance    6.928571  6.694444  7.175000  \n",
       "Game Boy Color      5.900000  5.790698  7.400000  \n",
       "GameCube            8.028571  7.481319  7.116667  \n",
       "Nintendo 3DS        7.700000  6.388889  7.900000  "
      ]
     },
     "execution_count": 8,
     "metadata": {},
     "output_type": "execute_result"
    }
   ],
   "source": [
    "ign_data.head()"
   ]
  },
  {
   "cell_type": "markdown",
   "metadata": {},
   "source": [
    "We can see this data contains the average rating of different game genres for each platform. Cool!  Just what we need.  Before we can work with this data, we need to understand more about the data structure that it is in.\n",
    "\n"
   ]
  },
  {
   "cell_type": "markdown",
   "metadata": {},
   "source": [
    "# Pandas Data Structures\n",
    "\n",
    "This data has been loaded into a python object called a `DataFrame` which is one of the main data structures supported by Pandas.  The other important data structure is called a `Series`."
   ]
  },
  {
   "cell_type": "markdown",
   "metadata": {},
   "source": [
    "## Pandas Series\n",
    "\n",
    "A pandas Series is a one dimensional array-like object that has a sequence of values.  It also has an index which is assigned automatically to a range as shown.  Before we dive in to the IGN data, lets play with some data about countries.\n",
    "\n",
    "https://www.nationmaster.com/country-info/groups/Group-of-7-countries-(G7)\n",
    "\n",
    "First, we'll create a Series consisting of the population.\n"
   ]
  },
  {
   "cell_type": "code",
   "execution_count": 9,
   "metadata": {},
   "outputs": [
    {
     "data": {
      "text/plain": [
       "0     63.18\n",
       "1    316.67\n",
       "2    127.25\n",
       "3     81.15\n",
       "4     65.95\n",
       "5     61.48\n",
       "6     34.57\n",
       "Name: pop, dtype: float64"
      ]
     },
     "execution_count": 9,
     "metadata": {},
     "output_type": "execute_result"
    }
   ],
   "source": [
    "pop = pd.Series([63.18, 316.67, 127.25, 81.15, 65.95, 61.48, 34.57], name=\"pop\")\n",
    "pop"
   ]
  },
  {
   "cell_type": "markdown",
   "metadata": {},
   "source": [
    "You can access elements in a Series as you would arrays.  We can also arbitrarily change the index.  A range index is the default 0 to 6) as shown."
   ]
  },
  {
   "cell_type": "code",
   "execution_count": 10,
   "metadata": {},
   "outputs": [
    {
     "data": {
      "text/plain": [
       "127.25"
      ]
     },
     "execution_count": 10,
     "metadata": {},
     "output_type": "execute_result"
    }
   ],
   "source": [
    "pop[2]"
   ]
  },
  {
   "cell_type": "markdown",
   "metadata": {},
   "source": [
    "We can assign a different index to this series as follows:"
   ]
  },
  {
   "cell_type": "code",
   "execution_count": 11,
   "metadata": {},
   "outputs": [
    {
     "name": "stdout",
     "output_type": "stream",
     "text": [
      "United Kingdom     63.18\n",
      "United States     316.67\n",
      "Japan             127.25\n",
      "Germany            81.15\n",
      "France             65.95\n",
      "Italy              61.48\n",
      "Canada             34.57\n",
      "Name: pop, dtype: float64\n",
      "34.57\n"
     ]
    }
   ],
   "source": [
    "names = ['United Kingdom','United States','Japan','Germany', 'France', 'Italy', 'Canada']\n",
    "pop.index = names\n",
    "print(pop)\n",
    "print(pop['Canada'])"
   ]
  },
  {
   "cell_type": "markdown",
   "metadata": {},
   "source": [
    "You can also easily filter out elements in a Series using boolean Series:"
   ]
  },
  {
   "cell_type": "code",
   "execution_count": 12,
   "metadata": {},
   "outputs": [
    {
     "data": {
      "text/plain": [
       "United Kingdom    False\n",
       "United States      True\n",
       "Japan              True\n",
       "Germany            True\n",
       "France            False\n",
       "Italy             False\n",
       "Canada            False\n",
       "Name: pop, dtype: bool"
      ]
     },
     "execution_count": 12,
     "metadata": {},
     "output_type": "execute_result"
    }
   ],
   "source": [
    "pop > 70"
   ]
  },
  {
   "cell_type": "markdown",
   "metadata": {},
   "source": [
    "so we can get the countries with more than 70 million people:"
   ]
  },
  {
   "cell_type": "code",
   "execution_count": 13,
   "metadata": {},
   "outputs": [
    {
     "data": {
      "text/plain": [
       "United States    316.67\n",
       "Japan            127.25\n",
       "Germany           81.15\n",
       "Name: pop, dtype: float64"
      ]
     },
     "execution_count": 13,
     "metadata": {},
     "output_type": "execute_result"
    }
   ],
   "source": [
    "pop[pop > 70.0]"
   ]
  },
  {
   "cell_type": "markdown",
   "metadata": {},
   "source": [
    "## DataFrame\n",
    "\n",
    "A *Dataframe* is a table of data with a collection of columns that can be different types.\n",
    "\n",
    "DataFrames have both row and a column indices.  The index can be strings, times, numbers, or other types.  A `DataFrame` can be thought of as a collection of `Series` where all of the `Series` share the `DataFrame`s index.\n",
    "\n",
    "Let's add another column to our G7 population series to create a DataFrame"
   ]
  },
  {
   "cell_type": "code",
   "execution_count": 14,
   "metadata": {},
   "outputs": [
    {
     "data": {
      "text/plain": [
       "United Kingdom     2.44\n",
       "United States     15.68\n",
       "Japan              5.96\n",
       "Germany            3.40\n",
       "France             2.61\n",
       "Italy              2.01\n",
       "Canada             1.82\n",
       "Name: gdp, dtype: float64"
      ]
     },
     "execution_count": 14,
     "metadata": {},
     "output_type": "execute_result"
    }
   ],
   "source": [
    "gdp = pd.Series([2.44, 15.68, 5.96, 3.40, 2.61, 2.01, 1.82], name=\"gdp\", index = names)\n",
    "gdp"
   ]
  },
  {
   "cell_type": "markdown",
   "metadata": {},
   "source": [
    "We can glue together the two series using concat.  `axis=1` means concat using the row axis.  If we omit this, it will just concat the list on the end."
   ]
  },
  {
   "cell_type": "code",
   "execution_count": 15,
   "metadata": {},
   "outputs": [
    {
     "data": {
      "text/html": [
       "<div>\n",
       "<style scoped>\n",
       "    .dataframe tbody tr th:only-of-type {\n",
       "        vertical-align: middle;\n",
       "    }\n",
       "\n",
       "    .dataframe tbody tr th {\n",
       "        vertical-align: top;\n",
       "    }\n",
       "\n",
       "    .dataframe thead th {\n",
       "        text-align: right;\n",
       "    }\n",
       "</style>\n",
       "<table border=\"1\" class=\"dataframe\">\n",
       "  <thead>\n",
       "    <tr style=\"text-align: right;\">\n",
       "      <th></th>\n",
       "      <th>pop</th>\n",
       "      <th>gdp</th>\n",
       "    </tr>\n",
       "  </thead>\n",
       "  <tbody>\n",
       "    <tr>\n",
       "      <th>United Kingdom</th>\n",
       "      <td>63.18</td>\n",
       "      <td>2.44</td>\n",
       "    </tr>\n",
       "    <tr>\n",
       "      <th>United States</th>\n",
       "      <td>316.67</td>\n",
       "      <td>15.68</td>\n",
       "    </tr>\n",
       "    <tr>\n",
       "      <th>Japan</th>\n",
       "      <td>127.25</td>\n",
       "      <td>5.96</td>\n",
       "    </tr>\n",
       "    <tr>\n",
       "      <th>Germany</th>\n",
       "      <td>81.15</td>\n",
       "      <td>3.40</td>\n",
       "    </tr>\n",
       "    <tr>\n",
       "      <th>France</th>\n",
       "      <td>65.95</td>\n",
       "      <td>2.61</td>\n",
       "    </tr>\n",
       "    <tr>\n",
       "      <th>Italy</th>\n",
       "      <td>61.48</td>\n",
       "      <td>2.01</td>\n",
       "    </tr>\n",
       "    <tr>\n",
       "      <th>Canada</th>\n",
       "      <td>34.57</td>\n",
       "      <td>1.82</td>\n",
       "    </tr>\n",
       "  </tbody>\n",
       "</table>\n",
       "</div>"
      ],
      "text/plain": [
       "                   pop    gdp\n",
       "United Kingdom   63.18   2.44\n",
       "United States   316.67  15.68\n",
       "Japan           127.25   5.96\n",
       "Germany          81.15   3.40\n",
       "France           65.95   2.61\n",
       "Italy            61.48   2.01\n",
       "Canada           34.57   1.82"
      ]
     },
     "execution_count": 15,
     "metadata": {},
     "output_type": "execute_result"
    }
   ],
   "source": [
    "df = pd.concat([pop,gdp], axis='columns')\n",
    "df"
   ]
  },
  {
   "cell_type": "markdown",
   "metadata": {},
   "source": [
    "We can get the index like this:"
   ]
  },
  {
   "cell_type": "code",
   "execution_count": 16,
   "metadata": {},
   "outputs": [
    {
     "data": {
      "text/plain": [
       "Index(['United Kingdom', 'United States', 'Japan', 'Germany', 'France',\n",
       "       'Italy', 'Canada'],\n",
       "      dtype='object')"
      ]
     },
     "execution_count": 16,
     "metadata": {},
     "output_type": "execute_result"
    }
   ],
   "source": [
    "df.index"
   ]
  },
  {
   "cell_type": "markdown",
   "metadata": {},
   "source": [
    "We can get info about the DataFrame:"
   ]
  },
  {
   "cell_type": "code",
   "execution_count": 17,
   "metadata": {},
   "outputs": [
    {
     "name": "stdout",
     "output_type": "stream",
     "text": [
      "<class 'pandas.core.frame.DataFrame'>\n",
      "Index: 7 entries, United Kingdom to Canada\n",
      "Data columns (total 2 columns):\n",
      " #   Column  Non-Null Count  Dtype  \n",
      "---  ------  --------------  -----  \n",
      " 0   pop     7 non-null      float64\n",
      " 1   gdp     7 non-null      float64\n",
      "dtypes: float64(2)\n",
      "memory usage: 468.0+ bytes\n"
     ]
    }
   ],
   "source": [
    "df.info()"
   ]
  },
  {
   "cell_type": "markdown",
   "metadata": {},
   "source": [
    "We can get the number of elements in the DataFrame or Series:"
   ]
  },
  {
   "cell_type": "code",
   "execution_count": 18,
   "metadata": {},
   "outputs": [
    {
     "data": {
      "text/plain": [
       "14"
      ]
     },
     "execution_count": 18,
     "metadata": {},
     "output_type": "execute_result"
    }
   ],
   "source": [
    "df.size"
   ]
  },
  {
   "cell_type": "markdown",
   "metadata": {},
   "source": [
    "The dimensions:"
   ]
  },
  {
   "cell_type": "code",
   "execution_count": 19,
   "metadata": {},
   "outputs": [
    {
     "data": {
      "text/plain": [
       "(7, 2)"
      ]
     },
     "execution_count": 19,
     "metadata": {},
     "output_type": "execute_result"
    }
   ],
   "source": [
    "df.shape"
   ]
  },
  {
   "cell_type": "markdown",
   "metadata": {},
   "source": [
    "# Getting Help in Python\n",
    "\n",
    "In the intro we mentioned you can get help using the `help` function.  In case you forget what something does you can do this:"
   ]
  },
  {
   "cell_type": "code",
   "execution_count": 20,
   "metadata": {},
   "outputs": [
    {
     "name": "stdout",
     "output_type": "stream",
     "text": [
      "Help on method info in module pandas.core.frame:\n",
      "\n",
      "info(verbose: 'Optional[bool]' = None, buf: 'Optional[IO[str]]' = None, max_cols: 'Optional[int]' = None, memory_usage: 'Optional[Union[bool, str]]' = None, show_counts: 'Optional[bool]' = None, null_counts: 'Optional[bool]' = None) -> 'None' method of pandas.core.frame.DataFrame instance\n",
      "    Print a concise summary of a DataFrame.\n",
      "    \n",
      "    This method prints information about a DataFrame including\n",
      "    the index dtype and columns, non-null values and memory usage.\n",
      "    \n",
      "    Parameters\n",
      "    ----------\n",
      "    data : DataFrame\n",
      "        DataFrame to print information about.\n",
      "    verbose : bool, optional\n",
      "        Whether to print the full summary. By default, the setting in\n",
      "        ``pandas.options.display.max_info_columns`` is followed.\n",
      "    buf : writable buffer, defaults to sys.stdout\n",
      "        Where to send the output. By default, the output is printed to\n",
      "        sys.stdout. Pass a writable buffer if you need to further process\n",
      "        the output.\n",
      "    max_cols : int, optional\n",
      "        When to switch from the verbose to the truncated output. If the\n",
      "        DataFrame has more than `max_cols` columns, the truncated output\n",
      "        is used. By default, the setting in\n",
      "        ``pandas.options.display.max_info_columns`` is used.\n",
      "    memory_usage : bool, str, optional\n",
      "        Specifies whether total memory usage of the DataFrame\n",
      "        elements (including the index) should be displayed. By default,\n",
      "        this follows the ``pandas.options.display.memory_usage`` setting.\n",
      "    \n",
      "        True always show memory usage. False never shows memory usage.\n",
      "        A value of 'deep' is equivalent to \"True with deep introspection\".\n",
      "        Memory usage is shown in human-readable units (base-2\n",
      "        representation). Without deep introspection a memory estimation is\n",
      "        made based in column dtype and number of rows assuming values\n",
      "        consume the same memory amount for corresponding dtypes. With deep\n",
      "        memory introspection, a real memory usage calculation is performed\n",
      "        at the cost of computational resources.\n",
      "    show_counts : bool, optional\n",
      "        Whether to show the non-null counts. By default, this is shown\n",
      "        only if the DataFrame is smaller than\n",
      "        ``pandas.options.display.max_info_rows`` and\n",
      "        ``pandas.options.display.max_info_columns``. A value of True always\n",
      "        shows the counts, and False never shows the counts.\n",
      "    null_counts : bool, optional\n",
      "        .. deprecated:: 1.2.0\n",
      "            Use show_counts instead.\n",
      "    \n",
      "    Returns\n",
      "    -------\n",
      "    None\n",
      "        This method prints a summary of a DataFrame and returns None.\n",
      "    \n",
      "    See Also\n",
      "    --------\n",
      "    DataFrame.describe: Generate descriptive statistics of DataFrame\n",
      "        columns.\n",
      "    DataFrame.memory_usage: Memory usage of DataFrame columns.\n",
      "    \n",
      "    Examples\n",
      "    --------\n",
      "    >>> int_values = [1, 2, 3, 4, 5]\n",
      "    >>> text_values = ['alpha', 'beta', 'gamma', 'delta', 'epsilon']\n",
      "    >>> float_values = [0.0, 0.25, 0.5, 0.75, 1.0]\n",
      "    >>> df = pd.DataFrame({\"int_col\": int_values, \"text_col\": text_values,\n",
      "    ...                   \"float_col\": float_values})\n",
      "    >>> df\n",
      "        int_col text_col  float_col\n",
      "    0        1    alpha       0.00\n",
      "    1        2     beta       0.25\n",
      "    2        3    gamma       0.50\n",
      "    3        4    delta       0.75\n",
      "    4        5  epsilon       1.00\n",
      "    \n",
      "    Prints information of all columns:\n",
      "    \n",
      "    >>> df.info(verbose=True)\n",
      "    <class 'pandas.core.frame.DataFrame'>\n",
      "    RangeIndex: 5 entries, 0 to 4\n",
      "    Data columns (total 3 columns):\n",
      "     #   Column     Non-Null Count  Dtype\n",
      "    ---  ------     --------------  -----\n",
      "     0   int_col    5 non-null      int64\n",
      "     1   text_col   5 non-null      object\n",
      "     2   float_col  5 non-null      float64\n",
      "    dtypes: float64(1), int64(1), object(1)\n",
      "    memory usage: 248.0+ bytes\n",
      "    \n",
      "    Prints a summary of columns count and its dtypes but not per column\n",
      "    information:\n",
      "    \n",
      "    >>> df.info(verbose=False)\n",
      "    <class 'pandas.core.frame.DataFrame'>\n",
      "    RangeIndex: 5 entries, 0 to 4\n",
      "    Columns: 3 entries, int_col to float_col\n",
      "    dtypes: float64(1), int64(1), object(1)\n",
      "    memory usage: 248.0+ bytes\n",
      "    \n",
      "    Pipe output of DataFrame.info to buffer instead of sys.stdout, get\n",
      "    buffer content and writes to a text file:\n",
      "    \n",
      "    >>> import io\n",
      "    >>> buffer = io.StringIO()\n",
      "    >>> df.info(buf=buffer)\n",
      "    >>> s = buffer.getvalue()\n",
      "    >>> with open(\"df_info.txt\", \"w\",\n",
      "    ...           encoding=\"utf-8\") as f:  # doctest: +SKIP\n",
      "    ...     f.write(s)\n",
      "    260\n",
      "    \n",
      "    The `memory_usage` parameter allows deep introspection mode, specially\n",
      "    useful for big DataFrames and fine-tune memory optimization:\n",
      "    \n",
      "    >>> random_strings_array = np.random.choice(['a', 'b', 'c'], 10 ** 6)\n",
      "    >>> df = pd.DataFrame({\n",
      "    ...     'column_1': np.random.choice(['a', 'b', 'c'], 10 ** 6),\n",
      "    ...     'column_2': np.random.choice(['a', 'b', 'c'], 10 ** 6),\n",
      "    ...     'column_3': np.random.choice(['a', 'b', 'c'], 10 ** 6)\n",
      "    ... })\n",
      "    >>> df.info()\n",
      "    <class 'pandas.core.frame.DataFrame'>\n",
      "    RangeIndex: 1000000 entries, 0 to 999999\n",
      "    Data columns (total 3 columns):\n",
      "     #   Column    Non-Null Count    Dtype\n",
      "    ---  ------    --------------    -----\n",
      "     0   column_1  1000000 non-null  object\n",
      "     1   column_2  1000000 non-null  object\n",
      "     2   column_3  1000000 non-null  object\n",
      "    dtypes: object(3)\n",
      "    memory usage: 22.9+ MB\n",
      "    \n",
      "    >>> df.info(memory_usage='deep')\n",
      "    <class 'pandas.core.frame.DataFrame'>\n",
      "    RangeIndex: 1000000 entries, 0 to 999999\n",
      "    Data columns (total 3 columns):\n",
      "     #   Column    Non-Null Count    Dtype\n",
      "    ---  ------    --------------    -----\n",
      "     0   column_1  1000000 non-null  object\n",
      "     1   column_2  1000000 non-null  object\n",
      "     2   column_3  1000000 non-null  object\n",
      "    dtypes: object(3)\n",
      "    memory usage: 165.9 MB\n",
      "\n"
     ]
    }
   ],
   "source": [
    "help(ign_data.info)"
   ]
  },
  {
   "cell_type": "markdown",
   "metadata": {},
   "source": [
    "It's amazing we can get so much help.  In our own functions, we can add help by adding Docstrings to our methods.  For example:\n"
   ]
  },
  {
   "cell_type": "code",
   "execution_count": 21,
   "metadata": {},
   "outputs": [
    {
     "name": "stdout",
     "output_type": "stream",
     "text": [
      "Help on function greeter in module __main__:\n",
      "\n",
      "greeter(name)\n",
      "    This function prints a greeting for the supplied name\n",
      "    \n",
      "    >>>greeter(\"Bob\")\n",
      "    hello Bob\n",
      "\n"
     ]
    }
   ],
   "source": [
    "def greeter(name):\n",
    "    \"\"\"\n",
    "    This function prints a greeting for the supplied name\n",
    "\n",
    "    >>>greeter(\"Bob\")\n",
    "    hello Bob\n",
    "    \"\"\"\n",
    "    print(\"hello\", name)\n",
    "\n",
    "help(greeter)"
   ]
  },
  {
   "cell_type": "code",
   "execution_count": 22,
   "metadata": {},
   "outputs": [
    {
     "data": {
      "text/plain": [
       "\u001b[0;31mSignature:\u001b[0m \u001b[0mgreeter\u001b[0m\u001b[0;34m(\u001b[0m\u001b[0mname\u001b[0m\u001b[0;34m)\u001b[0m\u001b[0;34m\u001b[0m\u001b[0;34m\u001b[0m\u001b[0m\n",
       "\u001b[0;31mDocstring:\u001b[0m\n",
       "This function prints a greeting for the supplied name\n",
       "\n",
       ">>>greeter(\"Bob\")\n",
       "hello Bob\n",
       "\u001b[0;31mFile:\u001b[0m      ~/dev/ds1-analytics/<ipython-input-21-01b7d5e75438>\n",
       "\u001b[0;31mType:\u001b[0m      function\n"
      ]
     },
     "metadata": {},
     "output_type": "display_data"
    }
   ],
   "source": [
    "# short version for help\n",
    "greeter?"
   ]
  },
  {
   "cell_type": "markdown",
   "metadata": {},
   "source": [
    "It's a good idea when we create functions we want to reuse to add comments in this way so we can get help any time.\n",
    "\n",
    "Now that we understand DataFrames and Series, let's get back to IGN data!"
   ]
  },
  {
   "cell_type": "markdown",
   "metadata": {},
   "source": [
    "# Understanding data\n",
    "\n",
    "Once we've loaded data, the first thing we want to do is to understand the data better.  As I showed you, we can use Pandas to get some basic info about DataFrames.  One method to do this is the `info` method on DataFrames as we used before."
   ]
  },
  {
   "cell_type": "code",
   "execution_count": 23,
   "metadata": {},
   "outputs": [
    {
     "name": "stdout",
     "output_type": "stream",
     "text": [
      "<class 'pandas.core.frame.DataFrame'>\n",
      "Index: 21 entries, Dreamcast to iPhone\n",
      "Data columns (total 12 columns):\n",
      " #   Column             Non-Null Count  Dtype  \n",
      "---  ------             --------------  -----  \n",
      " 0   Action             21 non-null     float64\n",
      " 1   Action, Adventure  21 non-null     float64\n",
      " 2   Adventure          21 non-null     float64\n",
      " 3   Fighting           21 non-null     float64\n",
      " 4   Platformer         21 non-null     float64\n",
      " 5   Puzzle             21 non-null     float64\n",
      " 6   RPG                21 non-null     float64\n",
      " 7   Racing             21 non-null     float64\n",
      " 8   Shooter            21 non-null     float64\n",
      " 9   Simulation         21 non-null     float64\n",
      " 10  Sports             21 non-null     float64\n",
      " 11  Strategy           21 non-null     float64\n",
      "dtypes: float64(12)\n",
      "memory usage: 2.1+ KB\n"
     ]
    }
   ],
   "source": [
    "ign_data.info()"
   ]
  },
  {
   "cell_type": "markdown",
   "metadata": {},
   "source": [
    "This gives us the 'shape' of our data (Index has 21 entries, 12 columns) the types of each column, and the number of non-null values.\n",
    "\n",
    "We can also get some basic statistics about the data using the `describe()` method."
   ]
  },
  {
   "cell_type": "code",
   "execution_count": 24,
   "metadata": {},
   "outputs": [
    {
     "data": {
      "text/html": [
       "<div>\n",
       "<style scoped>\n",
       "    .dataframe tbody tr th:only-of-type {\n",
       "        vertical-align: middle;\n",
       "    }\n",
       "\n",
       "    .dataframe tbody tr th {\n",
       "        vertical-align: top;\n",
       "    }\n",
       "\n",
       "    .dataframe thead th {\n",
       "        text-align: right;\n",
       "    }\n",
       "</style>\n",
       "<table border=\"1\" class=\"dataframe\">\n",
       "  <thead>\n",
       "    <tr style=\"text-align: right;\">\n",
       "      <th></th>\n",
       "      <th>Action</th>\n",
       "      <th>Action, Adventure</th>\n",
       "      <th>Adventure</th>\n",
       "      <th>Fighting</th>\n",
       "      <th>Platformer</th>\n",
       "      <th>Puzzle</th>\n",
       "      <th>RPG</th>\n",
       "      <th>Racing</th>\n",
       "      <th>Shooter</th>\n",
       "      <th>Simulation</th>\n",
       "      <th>Sports</th>\n",
       "      <th>Strategy</th>\n",
       "    </tr>\n",
       "  </thead>\n",
       "  <tbody>\n",
       "    <tr>\n",
       "      <th>count</th>\n",
       "      <td>21.000000</td>\n",
       "      <td>21.000000</td>\n",
       "      <td>21.000000</td>\n",
       "      <td>21.000000</td>\n",
       "      <td>21.000000</td>\n",
       "      <td>21.000000</td>\n",
       "      <td>21.000000</td>\n",
       "      <td>21.000000</td>\n",
       "      <td>21.000000</td>\n",
       "      <td>21.000000</td>\n",
       "      <td>21.000000</td>\n",
       "      <td>21.000000</td>\n",
       "    </tr>\n",
       "    <tr>\n",
       "      <th>mean</th>\n",
       "      <td>6.707490</td>\n",
       "      <td>7.505402</td>\n",
       "      <td>6.762933</td>\n",
       "      <td>6.864066</td>\n",
       "      <td>7.304406</td>\n",
       "      <td>7.044883</td>\n",
       "      <td>7.539589</td>\n",
       "      <td>6.760007</td>\n",
       "      <td>7.010270</td>\n",
       "      <td>6.983722</td>\n",
       "      <td>6.909593</td>\n",
       "      <td>7.215837</td>\n",
       "    </tr>\n",
       "    <tr>\n",
       "      <th>std</th>\n",
       "      <td>0.442479</td>\n",
       "      <td>0.495720</td>\n",
       "      <td>0.641049</td>\n",
       "      <td>0.812402</td>\n",
       "      <td>0.592512</td>\n",
       "      <td>0.773113</td>\n",
       "      <td>0.520318</td>\n",
       "      <td>0.636959</td>\n",
       "      <td>0.759933</td>\n",
       "      <td>0.951588</td>\n",
       "      <td>0.626141</td>\n",
       "      <td>0.638597</td>\n",
       "    </tr>\n",
       "    <tr>\n",
       "      <th>min</th>\n",
       "      <td>5.903608</td>\n",
       "      <td>6.133333</td>\n",
       "      <td>5.307692</td>\n",
       "      <td>4.500000</td>\n",
       "      <td>6.352941</td>\n",
       "      <td>5.125000</td>\n",
       "      <td>6.050000</td>\n",
       "      <td>5.011667</td>\n",
       "      <td>4.500000</td>\n",
       "      <td>5.195652</td>\n",
       "      <td>5.644444</td>\n",
       "      <td>6.433333</td>\n",
       "    </tr>\n",
       "    <tr>\n",
       "      <th>25%</th>\n",
       "      <td>6.467361</td>\n",
       "      <td>7.294643</td>\n",
       "      <td>6.281818</td>\n",
       "      <td>6.553731</td>\n",
       "      <td>6.889655</td>\n",
       "      <td>6.583333</td>\n",
       "      <td>7.285714</td>\n",
       "      <td>6.563636</td>\n",
       "      <td>6.641667</td>\n",
       "      <td>6.327027</td>\n",
       "      <td>6.694444</td>\n",
       "      <td>6.644737</td>\n",
       "    </tr>\n",
       "    <tr>\n",
       "      <th>50%</th>\n",
       "      <td>6.719048</td>\n",
       "      <td>7.481818</td>\n",
       "      <td>6.821429</td>\n",
       "      <td>7.029630</td>\n",
       "      <td>7.250000</td>\n",
       "      <td>6.924706</td>\n",
       "      <td>7.542857</td>\n",
       "      <td>6.898305</td>\n",
       "      <td>7.033333</td>\n",
       "      <td>7.142857</td>\n",
       "      <td>7.130000</td>\n",
       "      <td>7.175000</td>\n",
       "    </tr>\n",
       "    <tr>\n",
       "      <th>75%</th>\n",
       "      <td>6.865445</td>\n",
       "      <td>7.764286</td>\n",
       "      <td>7.136798</td>\n",
       "      <td>7.422222</td>\n",
       "      <td>7.509091</td>\n",
       "      <td>7.461538</td>\n",
       "      <td>7.890909</td>\n",
       "      <td>7.021591</td>\n",
       "      <td>7.485417</td>\n",
       "      <td>7.628571</td>\n",
       "      <td>7.331818</td>\n",
       "      <td>7.400000</td>\n",
       "    </tr>\n",
       "    <tr>\n",
       "      <th>max</th>\n",
       "      <td>7.702857</td>\n",
       "      <td>8.500000</td>\n",
       "      <td>8.057143</td>\n",
       "      <td>8.200000</td>\n",
       "      <td>8.568750</td>\n",
       "      <td>8.250000</td>\n",
       "      <td>8.291667</td>\n",
       "      <td>8.163636</td>\n",
       "      <td>8.042857</td>\n",
       "      <td>9.250000</td>\n",
       "      <td>7.884397</td>\n",
       "      <td>8.900000</td>\n",
       "    </tr>\n",
       "  </tbody>\n",
       "</table>\n",
       "</div>"
      ],
      "text/plain": [
       "          Action  Action, Adventure  Adventure   Fighting  Platformer  \\\n",
       "count  21.000000          21.000000  21.000000  21.000000   21.000000   \n",
       "mean    6.707490           7.505402   6.762933   6.864066    7.304406   \n",
       "std     0.442479           0.495720   0.641049   0.812402    0.592512   \n",
       "min     5.903608           6.133333   5.307692   4.500000    6.352941   \n",
       "25%     6.467361           7.294643   6.281818   6.553731    6.889655   \n",
       "50%     6.719048           7.481818   6.821429   7.029630    7.250000   \n",
       "75%     6.865445           7.764286   7.136798   7.422222    7.509091   \n",
       "max     7.702857           8.500000   8.057143   8.200000    8.568750   \n",
       "\n",
       "          Puzzle        RPG     Racing    Shooter  Simulation     Sports  \\\n",
       "count  21.000000  21.000000  21.000000  21.000000   21.000000  21.000000   \n",
       "mean    7.044883   7.539589   6.760007   7.010270    6.983722   6.909593   \n",
       "std     0.773113   0.520318   0.636959   0.759933    0.951588   0.626141   \n",
       "min     5.125000   6.050000   5.011667   4.500000    5.195652   5.644444   \n",
       "25%     6.583333   7.285714   6.563636   6.641667    6.327027   6.694444   \n",
       "50%     6.924706   7.542857   6.898305   7.033333    7.142857   7.130000   \n",
       "75%     7.461538   7.890909   7.021591   7.485417    7.628571   7.331818   \n",
       "max     8.250000   8.291667   8.163636   8.042857    9.250000   7.884397   \n",
       "\n",
       "        Strategy  \n",
       "count  21.000000  \n",
       "mean    7.215837  \n",
       "std     0.638597  \n",
       "min     6.433333  \n",
       "25%     6.644737  \n",
       "50%     7.175000  \n",
       "75%     7.400000  \n",
       "max     8.900000  "
      ]
     },
     "execution_count": 24,
     "metadata": {},
     "output_type": "execute_result"
    }
   ],
   "source": [
    "ign_data.describe()"
   ]
  },
  {
   "cell_type": "markdown",
   "metadata": {},
   "source": [
    "Describe gives us some basic statistics about each of the columns of our data.\n",
    "\n",
    "* count - number of elements in the column\n",
    "* mean - average value (sum/count)\n",
    "* std - standard deviation, the average of how much each value is different from the mean squared\n",
    "* min - minimum\n",
    "* 25% - value where 25% of the values are below this\n",
    "* 50% - median (middle) value where half of the values are below this value\n",
    "* 75% - value where 75% of the values are below this value\n",
    "* max - max\n",
    "\n",
    "What does it mean when median and mean are similar?  It means there are no outliers that are pulling up or down the average and its a normal distribution.  If they are different, then we may have an odd distribution and the median might be a better notion of 'middle'"
   ]
  },
  {
   "cell_type": "markdown",
   "metadata": {},
   "source": [
    "# Indexing options in DataFrames\n",
    "\n",
    "We can use pandas to access parts of the data we're interested in.  For example, lets get just the `Action` column, and then print only the value for `GameCube`:"
   ]
  },
  {
   "cell_type": "code",
   "execution_count": 25,
   "metadata": {},
   "outputs": [
    {
     "name": "stdout",
     "output_type": "stream",
     "text": [
      "Platform\n",
      "Dreamcast               6.882857\n",
      "Game Boy Advance        6.373077\n",
      "Game Boy Color          6.272727\n",
      "GameCube                6.532584\n",
      "Nintendo 3DS            6.670833\n",
      "Nintendo 64             6.649057\n",
      "Nintendo DS             5.903608\n",
      "Nintendo DSi            6.827027\n",
      "PC                      6.805791\n",
      "PlayStation             6.016406\n",
      "PlayStation 2           6.467361\n",
      "PlayStation 3           6.853819\n",
      "PlayStation 4           7.550000\n",
      "PlayStation Portable    6.467797\n",
      "PlayStation Vita        7.173077\n",
      "Wii                     6.262718\n",
      "Wireless                7.041699\n",
      "Xbox                    6.819512\n",
      "Xbox 360                6.719048\n",
      "Xbox One                7.702857\n",
      "iPhone                  6.865445\n",
      "Name: Action, dtype: float64\n",
      "GameCube action rating average : 6.53258426966292\n"
     ]
    }
   ],
   "source": [
    "action_ratings = ign_data['Action'] # get the Action Series\n",
    "print(ign_data['Action'])\n",
    "print(\"GameCube action rating average :\",action_ratings['GameCube']) # print the value"
   ]
  },
  {
   "cell_type": "markdown",
   "metadata": {},
   "source": [
    "Notice that when getting single rows or columns, you get a *Series*, not a DataFrame.  If you want a DataFrame you can use to_frame."
   ]
  },
  {
   "cell_type": "code",
   "execution_count": 26,
   "metadata": {},
   "outputs": [
    {
     "data": {
      "text/html": [
       "<div>\n",
       "<style scoped>\n",
       "    .dataframe tbody tr th:only-of-type {\n",
       "        vertical-align: middle;\n",
       "    }\n",
       "\n",
       "    .dataframe tbody tr th {\n",
       "        vertical-align: top;\n",
       "    }\n",
       "\n",
       "    .dataframe thead th {\n",
       "        text-align: right;\n",
       "    }\n",
       "</style>\n",
       "<table border=\"1\" class=\"dataframe\">\n",
       "  <thead>\n",
       "    <tr style=\"text-align: right;\">\n",
       "      <th></th>\n",
       "      <th>Action</th>\n",
       "    </tr>\n",
       "    <tr>\n",
       "      <th>Platform</th>\n",
       "      <th></th>\n",
       "    </tr>\n",
       "  </thead>\n",
       "  <tbody>\n",
       "    <tr>\n",
       "      <th>Dreamcast</th>\n",
       "      <td>6.882857</td>\n",
       "    </tr>\n",
       "    <tr>\n",
       "      <th>Game Boy Advance</th>\n",
       "      <td>6.373077</td>\n",
       "    </tr>\n",
       "    <tr>\n",
       "      <th>Game Boy Color</th>\n",
       "      <td>6.272727</td>\n",
       "    </tr>\n",
       "    <tr>\n",
       "      <th>GameCube</th>\n",
       "      <td>6.532584</td>\n",
       "    </tr>\n",
       "    <tr>\n",
       "      <th>Nintendo 3DS</th>\n",
       "      <td>6.670833</td>\n",
       "    </tr>\n",
       "    <tr>\n",
       "      <th>Nintendo 64</th>\n",
       "      <td>6.649057</td>\n",
       "    </tr>\n",
       "    <tr>\n",
       "      <th>Nintendo DS</th>\n",
       "      <td>5.903608</td>\n",
       "    </tr>\n",
       "    <tr>\n",
       "      <th>Nintendo DSi</th>\n",
       "      <td>6.827027</td>\n",
       "    </tr>\n",
       "    <tr>\n",
       "      <th>PC</th>\n",
       "      <td>6.805791</td>\n",
       "    </tr>\n",
       "    <tr>\n",
       "      <th>PlayStation</th>\n",
       "      <td>6.016406</td>\n",
       "    </tr>\n",
       "    <tr>\n",
       "      <th>PlayStation 2</th>\n",
       "      <td>6.467361</td>\n",
       "    </tr>\n",
       "    <tr>\n",
       "      <th>PlayStation 3</th>\n",
       "      <td>6.853819</td>\n",
       "    </tr>\n",
       "    <tr>\n",
       "      <th>PlayStation 4</th>\n",
       "      <td>7.550000</td>\n",
       "    </tr>\n",
       "    <tr>\n",
       "      <th>PlayStation Portable</th>\n",
       "      <td>6.467797</td>\n",
       "    </tr>\n",
       "    <tr>\n",
       "      <th>PlayStation Vita</th>\n",
       "      <td>7.173077</td>\n",
       "    </tr>\n",
       "    <tr>\n",
       "      <th>Wii</th>\n",
       "      <td>6.262718</td>\n",
       "    </tr>\n",
       "    <tr>\n",
       "      <th>Wireless</th>\n",
       "      <td>7.041699</td>\n",
       "    </tr>\n",
       "    <tr>\n",
       "      <th>Xbox</th>\n",
       "      <td>6.819512</td>\n",
       "    </tr>\n",
       "    <tr>\n",
       "      <th>Xbox 360</th>\n",
       "      <td>6.719048</td>\n",
       "    </tr>\n",
       "    <tr>\n",
       "      <th>Xbox One</th>\n",
       "      <td>7.702857</td>\n",
       "    </tr>\n",
       "    <tr>\n",
       "      <th>iPhone</th>\n",
       "      <td>6.865445</td>\n",
       "    </tr>\n",
       "  </tbody>\n",
       "</table>\n",
       "</div>"
      ],
      "text/plain": [
       "                        Action\n",
       "Platform                      \n",
       "Dreamcast             6.882857\n",
       "Game Boy Advance      6.373077\n",
       "Game Boy Color        6.272727\n",
       "GameCube              6.532584\n",
       "Nintendo 3DS          6.670833\n",
       "Nintendo 64           6.649057\n",
       "Nintendo DS           5.903608\n",
       "Nintendo DSi          6.827027\n",
       "PC                    6.805791\n",
       "PlayStation           6.016406\n",
       "PlayStation 2         6.467361\n",
       "PlayStation 3         6.853819\n",
       "PlayStation 4         7.550000\n",
       "PlayStation Portable  6.467797\n",
       "PlayStation Vita      7.173077\n",
       "Wii                   6.262718\n",
       "Wireless              7.041699\n",
       "Xbox                  6.819512\n",
       "Xbox 360              6.719048\n",
       "Xbox One              7.702857\n",
       "iPhone                6.865445"
      ]
     },
     "execution_count": 26,
     "metadata": {},
     "output_type": "execute_result"
    }
   ],
   "source": [
    "ign_data['Action'].to_frame()"
   ]
  },
  {
   "cell_type": "markdown",
   "metadata": {},
   "source": [
    "We can get two columns like this."
   ]
  },
  {
   "cell_type": "code",
   "execution_count": 27,
   "metadata": {},
   "outputs": [
    {
     "data": {
      "text/html": [
       "<div>\n",
       "<style scoped>\n",
       "    .dataframe tbody tr th:only-of-type {\n",
       "        vertical-align: middle;\n",
       "    }\n",
       "\n",
       "    .dataframe tbody tr th {\n",
       "        vertical-align: top;\n",
       "    }\n",
       "\n",
       "    .dataframe thead th {\n",
       "        text-align: right;\n",
       "    }\n",
       "</style>\n",
       "<table border=\"1\" class=\"dataframe\">\n",
       "  <thead>\n",
       "    <tr style=\"text-align: right;\">\n",
       "      <th></th>\n",
       "      <th>Action</th>\n",
       "      <th>Adventure</th>\n",
       "    </tr>\n",
       "    <tr>\n",
       "      <th>Platform</th>\n",
       "      <th></th>\n",
       "      <th></th>\n",
       "    </tr>\n",
       "  </thead>\n",
       "  <tbody>\n",
       "    <tr>\n",
       "      <th>Dreamcast</th>\n",
       "      <td>6.882857</td>\n",
       "      <td>6.281818</td>\n",
       "    </tr>\n",
       "    <tr>\n",
       "      <th>Game Boy Advance</th>\n",
       "      <td>6.373077</td>\n",
       "      <td>6.057143</td>\n",
       "    </tr>\n",
       "    <tr>\n",
       "      <th>Game Boy Color</th>\n",
       "      <td>6.272727</td>\n",
       "      <td>5.307692</td>\n",
       "    </tr>\n",
       "    <tr>\n",
       "      <th>GameCube</th>\n",
       "      <td>6.532584</td>\n",
       "      <td>6.753846</td>\n",
       "    </tr>\n",
       "    <tr>\n",
       "      <th>Nintendo 3DS</th>\n",
       "      <td>6.670833</td>\n",
       "      <td>7.414286</td>\n",
       "    </tr>\n",
       "    <tr>\n",
       "      <th>Nintendo 64</th>\n",
       "      <td>6.649057</td>\n",
       "      <td>7.000000</td>\n",
       "    </tr>\n",
       "    <tr>\n",
       "      <th>Nintendo DS</th>\n",
       "      <td>5.903608</td>\n",
       "      <td>6.259804</td>\n",
       "    </tr>\n",
       "    <tr>\n",
       "      <th>Nintendo DSi</th>\n",
       "      <td>6.827027</td>\n",
       "      <td>6.090909</td>\n",
       "    </tr>\n",
       "    <tr>\n",
       "      <th>PC</th>\n",
       "      <td>6.805791</td>\n",
       "      <td>7.136798</td>\n",
       "    </tr>\n",
       "    <tr>\n",
       "      <th>PlayStation</th>\n",
       "      <td>6.016406</td>\n",
       "      <td>6.313725</td>\n",
       "    </tr>\n",
       "    <tr>\n",
       "      <th>PlayStation 2</th>\n",
       "      <td>6.467361</td>\n",
       "      <td>6.315152</td>\n",
       "    </tr>\n",
       "    <tr>\n",
       "      <th>PlayStation 3</th>\n",
       "      <td>6.853819</td>\n",
       "      <td>6.820988</td>\n",
       "    </tr>\n",
       "    <tr>\n",
       "      <th>PlayStation 4</th>\n",
       "      <td>7.550000</td>\n",
       "      <td>7.388571</td>\n",
       "    </tr>\n",
       "    <tr>\n",
       "      <th>PlayStation Portable</th>\n",
       "      <td>6.467797</td>\n",
       "      <td>6.938095</td>\n",
       "    </tr>\n",
       "    <tr>\n",
       "      <th>PlayStation Vita</th>\n",
       "      <td>7.173077</td>\n",
       "      <td>8.057143</td>\n",
       "    </tr>\n",
       "    <tr>\n",
       "      <th>Wii</th>\n",
       "      <td>6.262718</td>\n",
       "      <td>6.234043</td>\n",
       "    </tr>\n",
       "    <tr>\n",
       "      <th>Wireless</th>\n",
       "      <td>7.041699</td>\n",
       "      <td>6.972414</td>\n",
       "    </tr>\n",
       "    <tr>\n",
       "      <th>Xbox</th>\n",
       "      <td>6.819512</td>\n",
       "      <td>6.821429</td>\n",
       "    </tr>\n",
       "    <tr>\n",
       "      <th>Xbox 360</th>\n",
       "      <td>6.719048</td>\n",
       "      <td>6.857353</td>\n",
       "    </tr>\n",
       "    <tr>\n",
       "      <th>Xbox One</th>\n",
       "      <td>7.702857</td>\n",
       "      <td>7.254545</td>\n",
       "    </tr>\n",
       "    <tr>\n",
       "      <th>iPhone</th>\n",
       "      <td>6.865445</td>\n",
       "      <td>7.745833</td>\n",
       "    </tr>\n",
       "  </tbody>\n",
       "</table>\n",
       "</div>"
      ],
      "text/plain": [
       "                        Action  Adventure\n",
       "Platform                                 \n",
       "Dreamcast             6.882857   6.281818\n",
       "Game Boy Advance      6.373077   6.057143\n",
       "Game Boy Color        6.272727   5.307692\n",
       "GameCube              6.532584   6.753846\n",
       "Nintendo 3DS          6.670833   7.414286\n",
       "Nintendo 64           6.649057   7.000000\n",
       "Nintendo DS           5.903608   6.259804\n",
       "Nintendo DSi          6.827027   6.090909\n",
       "PC                    6.805791   7.136798\n",
       "PlayStation           6.016406   6.313725\n",
       "PlayStation 2         6.467361   6.315152\n",
       "PlayStation 3         6.853819   6.820988\n",
       "PlayStation 4         7.550000   7.388571\n",
       "PlayStation Portable  6.467797   6.938095\n",
       "PlayStation Vita      7.173077   8.057143\n",
       "Wii                   6.262718   6.234043\n",
       "Wireless              7.041699   6.972414\n",
       "Xbox                  6.819512   6.821429\n",
       "Xbox 360              6.719048   6.857353\n",
       "Xbox One              7.702857   7.254545\n",
       "iPhone                6.865445   7.745833"
      ]
     },
     "execution_count": 27,
     "metadata": {},
     "output_type": "execute_result"
    }
   ],
   "source": [
    "# action and adventure only\n",
    "ign_data[['Action', 'Adventure']]"
   ]
  },
  {
   "cell_type": "markdown",
   "metadata": {},
   "source": [
    "Say we want to get the first two rows.  We can use the Python slice syntax for convenience.\n",
    "\n",
    "(Normally using the square brackets gets columns, not rows, so this is for convenience only)"
   ]
  },
  {
   "cell_type": "code",
   "execution_count": 28,
   "metadata": {},
   "outputs": [
    {
     "data": {
      "text/html": [
       "<div>\n",
       "<style scoped>\n",
       "    .dataframe tbody tr th:only-of-type {\n",
       "        vertical-align: middle;\n",
       "    }\n",
       "\n",
       "    .dataframe tbody tr th {\n",
       "        vertical-align: top;\n",
       "    }\n",
       "\n",
       "    .dataframe thead th {\n",
       "        text-align: right;\n",
       "    }\n",
       "</style>\n",
       "<table border=\"1\" class=\"dataframe\">\n",
       "  <thead>\n",
       "    <tr style=\"text-align: right;\">\n",
       "      <th></th>\n",
       "      <th>Action</th>\n",
       "      <th>Action, Adventure</th>\n",
       "      <th>Adventure</th>\n",
       "      <th>Fighting</th>\n",
       "      <th>Platformer</th>\n",
       "      <th>Puzzle</th>\n",
       "      <th>RPG</th>\n",
       "      <th>Racing</th>\n",
       "      <th>Shooter</th>\n",
       "      <th>Simulation</th>\n",
       "      <th>Sports</th>\n",
       "      <th>Strategy</th>\n",
       "    </tr>\n",
       "    <tr>\n",
       "      <th>Platform</th>\n",
       "      <th></th>\n",
       "      <th></th>\n",
       "      <th></th>\n",
       "      <th></th>\n",
       "      <th></th>\n",
       "      <th></th>\n",
       "      <th></th>\n",
       "      <th></th>\n",
       "      <th></th>\n",
       "      <th></th>\n",
       "      <th></th>\n",
       "      <th></th>\n",
       "    </tr>\n",
       "  </thead>\n",
       "  <tbody>\n",
       "    <tr>\n",
       "      <th>Dreamcast</th>\n",
       "      <td>6.882857</td>\n",
       "      <td>7.511111</td>\n",
       "      <td>6.281818</td>\n",
       "      <td>8.200000</td>\n",
       "      <td>8.340000</td>\n",
       "      <td>8.088889</td>\n",
       "      <td>7.700000</td>\n",
       "      <td>7.042500</td>\n",
       "      <td>7.616667</td>\n",
       "      <td>7.628571</td>\n",
       "      <td>7.272222</td>\n",
       "      <td>6.433333</td>\n",
       "    </tr>\n",
       "    <tr>\n",
       "      <th>Game Boy Advance</th>\n",
       "      <td>6.373077</td>\n",
       "      <td>7.507692</td>\n",
       "      <td>6.057143</td>\n",
       "      <td>6.226316</td>\n",
       "      <td>6.970588</td>\n",
       "      <td>6.532143</td>\n",
       "      <td>7.542857</td>\n",
       "      <td>6.657143</td>\n",
       "      <td>6.444444</td>\n",
       "      <td>6.928571</td>\n",
       "      <td>6.694444</td>\n",
       "      <td>7.175000</td>\n",
       "    </tr>\n",
       "  </tbody>\n",
       "</table>\n",
       "</div>"
      ],
      "text/plain": [
       "                    Action  Action, Adventure  Adventure  Fighting  \\\n",
       "Platform                                                             \n",
       "Dreamcast         6.882857           7.511111   6.281818  8.200000   \n",
       "Game Boy Advance  6.373077           7.507692   6.057143  6.226316   \n",
       "\n",
       "                  Platformer    Puzzle       RPG    Racing   Shooter  \\\n",
       "Platform                                                               \n",
       "Dreamcast           8.340000  8.088889  7.700000  7.042500  7.616667   \n",
       "Game Boy Advance    6.970588  6.532143  7.542857  6.657143  6.444444   \n",
       "\n",
       "                  Simulation    Sports  Strategy  \n",
       "Platform                                          \n",
       "Dreamcast           7.628571  7.272222  6.433333  \n",
       "Game Boy Advance    6.928571  6.694444  7.175000  "
      ]
     },
     "execution_count": 28,
     "metadata": {},
     "output_type": "execute_result"
    }
   ],
   "source": [
    "# first two rows\n",
    "ign_data[:2]"
   ]
  },
  {
   "cell_type": "markdown",
   "metadata": {},
   "source": [
    "This means get all of the rows from the beginning up to the second one.\n",
    "\n",
    "Or we can use the `.loc` method to get a row using the index"
   ]
  },
  {
   "cell_type": "code",
   "execution_count": 29,
   "metadata": {},
   "outputs": [
    {
     "data": {
      "text/plain": [
       "Action               6.373077\n",
       "Action, Adventure    7.507692\n",
       "Adventure            6.057143\n",
       "Fighting             6.226316\n",
       "Platformer           6.970588\n",
       "Puzzle               6.532143\n",
       "RPG                  7.542857\n",
       "Racing               6.657143\n",
       "Shooter              6.444444\n",
       "Simulation           6.928571\n",
       "Sports               6.694444\n",
       "Strategy             7.175000\n",
       "Name: Game Boy Advance, dtype: float64"
      ]
     },
     "execution_count": 29,
     "metadata": {},
     "output_type": "execute_result"
    }
   ],
   "source": [
    "# Game Boy Advance averages only\n",
    "ign_data.loc['Game Boy Advance']"
   ]
  },
  {
   "cell_type": "markdown",
   "metadata": {},
   "source": [
    "Since there is a single row, this is returned as a Series.  To get it as a DataFrame with a single row, we pass in a list:\n",
    "\n"
   ]
  },
  {
   "cell_type": "code",
   "execution_count": 30,
   "metadata": {},
   "outputs": [
    {
     "data": {
      "text/html": [
       "<div>\n",
       "<style scoped>\n",
       "    .dataframe tbody tr th:only-of-type {\n",
       "        vertical-align: middle;\n",
       "    }\n",
       "\n",
       "    .dataframe tbody tr th {\n",
       "        vertical-align: top;\n",
       "    }\n",
       "\n",
       "    .dataframe thead th {\n",
       "        text-align: right;\n",
       "    }\n",
       "</style>\n",
       "<table border=\"1\" class=\"dataframe\">\n",
       "  <thead>\n",
       "    <tr style=\"text-align: right;\">\n",
       "      <th></th>\n",
       "      <th>Action</th>\n",
       "      <th>Action, Adventure</th>\n",
       "      <th>Adventure</th>\n",
       "      <th>Fighting</th>\n",
       "      <th>Platformer</th>\n",
       "      <th>Puzzle</th>\n",
       "      <th>RPG</th>\n",
       "      <th>Racing</th>\n",
       "      <th>Shooter</th>\n",
       "      <th>Simulation</th>\n",
       "      <th>Sports</th>\n",
       "      <th>Strategy</th>\n",
       "    </tr>\n",
       "    <tr>\n",
       "      <th>Platform</th>\n",
       "      <th></th>\n",
       "      <th></th>\n",
       "      <th></th>\n",
       "      <th></th>\n",
       "      <th></th>\n",
       "      <th></th>\n",
       "      <th></th>\n",
       "      <th></th>\n",
       "      <th></th>\n",
       "      <th></th>\n",
       "      <th></th>\n",
       "      <th></th>\n",
       "    </tr>\n",
       "  </thead>\n",
       "  <tbody>\n",
       "    <tr>\n",
       "      <th>Game Boy Advance</th>\n",
       "      <td>6.373077</td>\n",
       "      <td>7.507692</td>\n",
       "      <td>6.057143</td>\n",
       "      <td>6.226316</td>\n",
       "      <td>6.970588</td>\n",
       "      <td>6.532143</td>\n",
       "      <td>7.542857</td>\n",
       "      <td>6.657143</td>\n",
       "      <td>6.444444</td>\n",
       "      <td>6.928571</td>\n",
       "      <td>6.694444</td>\n",
       "      <td>7.175</td>\n",
       "    </tr>\n",
       "  </tbody>\n",
       "</table>\n",
       "</div>"
      ],
      "text/plain": [
       "                    Action  Action, Adventure  Adventure  Fighting  \\\n",
       "Platform                                                             \n",
       "Game Boy Advance  6.373077           7.507692   6.057143  6.226316   \n",
       "\n",
       "                  Platformer    Puzzle       RPG    Racing   Shooter  \\\n",
       "Platform                                                               \n",
       "Game Boy Advance    6.970588  6.532143  7.542857  6.657143  6.444444   \n",
       "\n",
       "                  Simulation    Sports  Strategy  \n",
       "Platform                                          \n",
       "Game Boy Advance    6.928571  6.694444     7.175  "
      ]
     },
     "execution_count": 30,
     "metadata": {},
     "output_type": "execute_result"
    }
   ],
   "source": [
    "ign_data.loc[['Game Boy Advance']]"
   ]
  },
  {
   "cell_type": "markdown",
   "metadata": {},
   "source": [
    "We can also get rows using the `iloc` method which uses the numeric range."
   ]
  },
  {
   "cell_type": "code",
   "execution_count": 31,
   "metadata": {},
   "outputs": [
    {
     "data": {
      "text/html": [
       "<div>\n",
       "<style scoped>\n",
       "    .dataframe tbody tr th:only-of-type {\n",
       "        vertical-align: middle;\n",
       "    }\n",
       "\n",
       "    .dataframe tbody tr th {\n",
       "        vertical-align: top;\n",
       "    }\n",
       "\n",
       "    .dataframe thead th {\n",
       "        text-align: right;\n",
       "    }\n",
       "</style>\n",
       "<table border=\"1\" class=\"dataframe\">\n",
       "  <thead>\n",
       "    <tr style=\"text-align: right;\">\n",
       "      <th></th>\n",
       "      <th>Action</th>\n",
       "      <th>Action, Adventure</th>\n",
       "      <th>Adventure</th>\n",
       "      <th>Fighting</th>\n",
       "      <th>Platformer</th>\n",
       "      <th>Puzzle</th>\n",
       "      <th>RPG</th>\n",
       "      <th>Racing</th>\n",
       "      <th>Shooter</th>\n",
       "      <th>Simulation</th>\n",
       "      <th>Sports</th>\n",
       "      <th>Strategy</th>\n",
       "    </tr>\n",
       "    <tr>\n",
       "      <th>Platform</th>\n",
       "      <th></th>\n",
       "      <th></th>\n",
       "      <th></th>\n",
       "      <th></th>\n",
       "      <th></th>\n",
       "      <th></th>\n",
       "      <th></th>\n",
       "      <th></th>\n",
       "      <th></th>\n",
       "      <th></th>\n",
       "      <th></th>\n",
       "      <th></th>\n",
       "    </tr>\n",
       "  </thead>\n",
       "  <tbody>\n",
       "    <tr>\n",
       "      <th>GameCube</th>\n",
       "      <td>6.532584</td>\n",
       "      <td>7.608333</td>\n",
       "      <td>6.753846</td>\n",
       "      <td>7.422222</td>\n",
       "      <td>6.665714</td>\n",
       "      <td>6.133333</td>\n",
       "      <td>7.890909</td>\n",
       "      <td>6.852632</td>\n",
       "      <td>6.981818</td>\n",
       "      <td>8.028571</td>\n",
       "      <td>7.481319</td>\n",
       "      <td>7.116667</td>\n",
       "    </tr>\n",
       "    <tr>\n",
       "      <th>Nintendo 3DS</th>\n",
       "      <td>6.670833</td>\n",
       "      <td>7.481818</td>\n",
       "      <td>7.414286</td>\n",
       "      <td>6.614286</td>\n",
       "      <td>7.503448</td>\n",
       "      <td>8.000000</td>\n",
       "      <td>7.719231</td>\n",
       "      <td>6.900000</td>\n",
       "      <td>7.033333</td>\n",
       "      <td>7.700000</td>\n",
       "      <td>6.388889</td>\n",
       "      <td>7.900000</td>\n",
       "    </tr>\n",
       "  </tbody>\n",
       "</table>\n",
       "</div>"
      ],
      "text/plain": [
       "                Action  Action, Adventure  Adventure  Fighting  Platformer  \\\n",
       "Platform                                                                     \n",
       "GameCube      6.532584           7.608333   6.753846  7.422222    6.665714   \n",
       "Nintendo 3DS  6.670833           7.481818   7.414286  6.614286    7.503448   \n",
       "\n",
       "                Puzzle       RPG    Racing   Shooter  Simulation    Sports  \\\n",
       "Platform                                                                     \n",
       "GameCube      6.133333  7.890909  6.852632  6.981818    8.028571  7.481319   \n",
       "Nintendo 3DS  8.000000  7.719231  6.900000  7.033333    7.700000  6.388889   \n",
       "\n",
       "              Strategy  \n",
       "Platform                \n",
       "GameCube      7.116667  \n",
       "Nintendo 3DS  7.900000  "
      ]
     },
     "execution_count": 31,
     "metadata": {},
     "output_type": "execute_result"
    }
   ],
   "source": [
    "ign_data.iloc[3:5]"
   ]
  },
  {
   "cell_type": "markdown",
   "metadata": {},
   "source": [
    "We can also get rows based on a certain conditions.  For example, say we want all of the rows where the Platformer rating is greater than 8.0.\n",
    "\n",
    "> How does this work?  We are getting the `ign_data['Platformer']` series and creating a boolean array of values where the value is greater than 8.0, then using this to get the rows.  Numpy provides much of this functionality used by pandas."
   ]
  },
  {
   "cell_type": "code",
   "execution_count": 31,
   "metadata": {
    "tags": []
   },
   "outputs": [
    {
     "data": {
      "text/html": [
       "<div>\n",
       "<style scoped>\n",
       "    .dataframe tbody tr th:only-of-type {\n",
       "        vertical-align: middle;\n",
       "    }\n",
       "\n",
       "    .dataframe tbody tr th {\n",
       "        vertical-align: top;\n",
       "    }\n",
       "\n",
       "    .dataframe thead th {\n",
       "        text-align: right;\n",
       "    }\n",
       "</style>\n",
       "<table border=\"1\" class=\"dataframe\">\n",
       "  <thead>\n",
       "    <tr style=\"text-align: right;\">\n",
       "      <th></th>\n",
       "      <th>Action</th>\n",
       "      <th>Action, Adventure</th>\n",
       "      <th>Adventure</th>\n",
       "      <th>Fighting</th>\n",
       "      <th>Platformer</th>\n",
       "      <th>Puzzle</th>\n",
       "      <th>RPG</th>\n",
       "      <th>Racing</th>\n",
       "      <th>Shooter</th>\n",
       "      <th>Simulation</th>\n",
       "      <th>Sports</th>\n",
       "      <th>Strategy</th>\n",
       "    </tr>\n",
       "    <tr>\n",
       "      <th>Platform</th>\n",
       "      <th></th>\n",
       "      <th></th>\n",
       "      <th></th>\n",
       "      <th></th>\n",
       "      <th></th>\n",
       "      <th></th>\n",
       "      <th></th>\n",
       "      <th></th>\n",
       "      <th></th>\n",
       "      <th></th>\n",
       "      <th></th>\n",
       "      <th></th>\n",
       "    </tr>\n",
       "  </thead>\n",
       "  <tbody>\n",
       "    <tr>\n",
       "      <th>Dreamcast</th>\n",
       "      <td>6.882857</td>\n",
       "      <td>7.511111</td>\n",
       "      <td>6.281818</td>\n",
       "      <td>8.200000</td>\n",
       "      <td>8.340000</td>\n",
       "      <td>8.088889</td>\n",
       "      <td>7.7000</td>\n",
       "      <td>7.0425</td>\n",
       "      <td>7.616667</td>\n",
       "      <td>7.628571</td>\n",
       "      <td>7.272222</td>\n",
       "      <td>6.433333</td>\n",
       "    </tr>\n",
       "    <tr>\n",
       "      <th>PlayStation 4</th>\n",
       "      <td>7.550000</td>\n",
       "      <td>7.835294</td>\n",
       "      <td>7.388571</td>\n",
       "      <td>7.280000</td>\n",
       "      <td>8.390909</td>\n",
       "      <td>7.400000</td>\n",
       "      <td>7.9440</td>\n",
       "      <td>7.5900</td>\n",
       "      <td>7.804444</td>\n",
       "      <td>9.250000</td>\n",
       "      <td>7.430000</td>\n",
       "      <td>6.566667</td>\n",
       "    </tr>\n",
       "    <tr>\n",
       "      <th>PlayStation Vita</th>\n",
       "      <td>7.173077</td>\n",
       "      <td>6.133333</td>\n",
       "      <td>8.057143</td>\n",
       "      <td>7.527273</td>\n",
       "      <td>8.568750</td>\n",
       "      <td>8.250000</td>\n",
       "      <td>7.3375</td>\n",
       "      <td>6.3000</td>\n",
       "      <td>7.660000</td>\n",
       "      <td>5.725000</td>\n",
       "      <td>7.130000</td>\n",
       "      <td>8.900000</td>\n",
       "    </tr>\n",
       "  </tbody>\n",
       "</table>\n",
       "</div>"
      ],
      "text/plain": [
       "                    Action  Action, Adventure  Adventure  Fighting  \\\n",
       "Platform                                                             \n",
       "Dreamcast         6.882857           7.511111   6.281818  8.200000   \n",
       "PlayStation 4     7.550000           7.835294   7.388571  7.280000   \n",
       "PlayStation Vita  7.173077           6.133333   8.057143  7.527273   \n",
       "\n",
       "                  Platformer    Puzzle     RPG  Racing   Shooter  Simulation  \\\n",
       "Platform                                                                       \n",
       "Dreamcast           8.340000  8.088889  7.7000  7.0425  7.616667    7.628571   \n",
       "PlayStation 4       8.390909  7.400000  7.9440  7.5900  7.804444    9.250000   \n",
       "PlayStation Vita    8.568750  8.250000  7.3375  6.3000  7.660000    5.725000   \n",
       "\n",
       "                    Sports  Strategy  \n",
       "Platform                              \n",
       "Dreamcast         7.272222  6.433333  \n",
       "PlayStation 4     7.430000  6.566667  \n",
       "PlayStation Vita  7.130000  8.900000  "
      ]
     },
     "execution_count": 31,
     "metadata": {},
     "output_type": "execute_result"
    }
   ],
   "source": [
    "# platforms where the platformer rating is greater than 8.0\n",
    "ign_data[ign_data.Platformer > 8.0]"
   ]
  },
  {
   "cell_type": "markdown",
   "metadata": {
    "tags": []
   },
   "source": [
    "You can have multiple conditions using and (`&`) or or (`|`) not that we use bitwise operators, not python `and` and `or` keywords."
   ]
  },
  {
   "cell_type": "code",
   "execution_count": 33,
   "metadata": {},
   "outputs": [
    {
     "data": {
      "text/html": [
       "<div>\n",
       "<style scoped>\n",
       "    .dataframe tbody tr th:only-of-type {\n",
       "        vertical-align: middle;\n",
       "    }\n",
       "\n",
       "    .dataframe tbody tr th {\n",
       "        vertical-align: top;\n",
       "    }\n",
       "\n",
       "    .dataframe thead th {\n",
       "        text-align: right;\n",
       "    }\n",
       "</style>\n",
       "<table border=\"1\" class=\"dataframe\">\n",
       "  <thead>\n",
       "    <tr style=\"text-align: right;\">\n",
       "      <th></th>\n",
       "      <th>Action</th>\n",
       "      <th>Action, Adventure</th>\n",
       "      <th>Adventure</th>\n",
       "      <th>Fighting</th>\n",
       "      <th>Platformer</th>\n",
       "      <th>Puzzle</th>\n",
       "      <th>RPG</th>\n",
       "      <th>Racing</th>\n",
       "      <th>Shooter</th>\n",
       "      <th>Simulation</th>\n",
       "      <th>Sports</th>\n",
       "      <th>Strategy</th>\n",
       "    </tr>\n",
       "    <tr>\n",
       "      <th>Platform</th>\n",
       "      <th></th>\n",
       "      <th></th>\n",
       "      <th></th>\n",
       "      <th></th>\n",
       "      <th></th>\n",
       "      <th></th>\n",
       "      <th></th>\n",
       "      <th></th>\n",
       "      <th></th>\n",
       "      <th></th>\n",
       "      <th></th>\n",
       "      <th></th>\n",
       "    </tr>\n",
       "  </thead>\n",
       "  <tbody>\n",
       "    <tr>\n",
       "      <th>Dreamcast</th>\n",
       "      <td>6.882857</td>\n",
       "      <td>7.511111</td>\n",
       "      <td>6.281818</td>\n",
       "      <td>8.20</td>\n",
       "      <td>8.340000</td>\n",
       "      <td>8.088889</td>\n",
       "      <td>7.700</td>\n",
       "      <td>7.0425</td>\n",
       "      <td>7.616667</td>\n",
       "      <td>7.628571</td>\n",
       "      <td>7.272222</td>\n",
       "      <td>6.433333</td>\n",
       "    </tr>\n",
       "    <tr>\n",
       "      <th>PlayStation 4</th>\n",
       "      <td>7.550000</td>\n",
       "      <td>7.835294</td>\n",
       "      <td>7.388571</td>\n",
       "      <td>7.28</td>\n",
       "      <td>8.390909</td>\n",
       "      <td>7.400000</td>\n",
       "      <td>7.944</td>\n",
       "      <td>7.5900</td>\n",
       "      <td>7.804444</td>\n",
       "      <td>9.250000</td>\n",
       "      <td>7.430000</td>\n",
       "      <td>6.566667</td>\n",
       "    </tr>\n",
       "  </tbody>\n",
       "</table>\n",
       "</div>"
      ],
      "text/plain": [
       "                 Action  Action, Adventure  Adventure  Fighting  Platformer  \\\n",
       "Platform                                                                      \n",
       "Dreamcast      6.882857           7.511111   6.281818      8.20    8.340000   \n",
       "PlayStation 4  7.550000           7.835294   7.388571      7.28    8.390909   \n",
       "\n",
       "                 Puzzle    RPG  Racing   Shooter  Simulation    Sports  \\\n",
       "Platform                                                                 \n",
       "Dreamcast      8.088889  7.700  7.0425  7.616667    7.628571  7.272222   \n",
       "PlayStation 4  7.400000  7.944  7.5900  7.804444    9.250000  7.430000   \n",
       "\n",
       "               Strategy  \n",
       "Platform                 \n",
       "Dreamcast      6.433333  \n",
       "PlayStation 4  6.566667  "
      ]
     },
     "execution_count": 33,
     "metadata": {},
     "output_type": "execute_result"
    }
   ],
   "source": [
    "ign_data[(ign_data.Platformer > 8.0) & (ign_data.Platformer < 8.5)]"
   ]
  },
  {
   "cell_type": "markdown",
   "metadata": {},
   "source": [
    "As you can see, when pandas returns multiple rows, it returns a new DataFrame.\n",
    "\n",
    "With loc we can also select using slicing with our indexes!"
   ]
  },
  {
   "cell_type": "code",
   "execution_count": 33,
   "metadata": {},
   "outputs": [
    {
     "data": {
      "text/html": [
       "<div>\n",
       "<style scoped>\n",
       "    .dataframe tbody tr th:only-of-type {\n",
       "        vertical-align: middle;\n",
       "    }\n",
       "\n",
       "    .dataframe tbody tr th {\n",
       "        vertical-align: top;\n",
       "    }\n",
       "\n",
       "    .dataframe thead th {\n",
       "        text-align: right;\n",
       "    }\n",
       "</style>\n",
       "<table border=\"1\" class=\"dataframe\">\n",
       "  <thead>\n",
       "    <tr style=\"text-align: right;\">\n",
       "      <th></th>\n",
       "      <th>Fighting</th>\n",
       "      <th>Platformer</th>\n",
       "    </tr>\n",
       "    <tr>\n",
       "      <th>Platform</th>\n",
       "      <th></th>\n",
       "      <th></th>\n",
       "    </tr>\n",
       "  </thead>\n",
       "  <tbody>\n",
       "    <tr>\n",
       "      <th>Dreamcast</th>\n",
       "      <td>8.200000</td>\n",
       "      <td>8.340000</td>\n",
       "    </tr>\n",
       "    <tr>\n",
       "      <th>Game Boy Advance</th>\n",
       "      <td>6.226316</td>\n",
       "      <td>6.970588</td>\n",
       "    </tr>\n",
       "    <tr>\n",
       "      <th>Game Boy Color</th>\n",
       "      <td>4.500000</td>\n",
       "      <td>6.352941</td>\n",
       "    </tr>\n",
       "  </tbody>\n",
       "</table>\n",
       "</div>"
      ],
      "text/plain": [
       "                  Fighting  Platformer\n",
       "Platform                              \n",
       "Dreamcast         8.200000    8.340000\n",
       "Game Boy Advance  6.226316    6.970588\n",
       "Game Boy Color    4.500000    6.352941"
      ]
     },
     "execution_count": 33,
     "metadata": {},
     "output_type": "execute_result"
    }
   ],
   "source": [
    "ign_data.loc[\"Dreamcast\":\"Game Boy Color\",\"Fighting\":\"Platformer\"]"
   ]
  },
  {
   "cell_type": "markdown",
   "metadata": {},
   "source": [
    "## Summary of Indexing Operations\n",
    "\n",
    "There are many ways to get data out of a DataFrame as you can see - here is a summary\n",
    "\n",
    "* `df[val]` - select single column, or sequence of columns.  Convenience options\n",
    "    * boolean array filters rows\n",
    "    * slice - slices rows\n",
    "    * boolean DataFrame - set values based on criterion\n",
    "* `df.loc[val]` - single row or subset of rows by label\n",
    "* `df.loc[:,val]` - select single column or subset of columns by label\n",
    "* `df.loc[val1, val2]` - select row and column by label\n",
    "* `df.iloc[where]` - select row or subset of rows by integer position\n",
    "* `df.iloc[:, where]` - select single column or subset of columns by integer position\n",
    "* `df.iloc[where_i, where_j]` - select rows and columns by integer position\n",
    "* `df.at[label_i, label_j]` - select single scalar value by label\n",
    "* `df.iat[i, j]` - select rows and columns by integer position\n",
    "* `get_value, set_value` - select single value by row and column label\n"
   ]
  },
  {
   "cell_type": "markdown",
   "metadata": {},
   "source": [
    "## Challenge\n",
    "\n",
    "How would I select the 7th and 9th row?"
   ]
  },
  {
   "cell_type": "code",
   "execution_count": 34,
   "metadata": {},
   "outputs": [
    {
     "data": {
      "text/html": [
       "<div>\n",
       "<style scoped>\n",
       "    .dataframe tbody tr th:only-of-type {\n",
       "        vertical-align: middle;\n",
       "    }\n",
       "\n",
       "    .dataframe tbody tr th {\n",
       "        vertical-align: top;\n",
       "    }\n",
       "\n",
       "    .dataframe thead th {\n",
       "        text-align: right;\n",
       "    }\n",
       "</style>\n",
       "<table border=\"1\" class=\"dataframe\">\n",
       "  <thead>\n",
       "    <tr style=\"text-align: right;\">\n",
       "      <th></th>\n",
       "      <th>Action</th>\n",
       "      <th>Action, Adventure</th>\n",
       "      <th>Adventure</th>\n",
       "      <th>Fighting</th>\n",
       "      <th>Platformer</th>\n",
       "      <th>Puzzle</th>\n",
       "      <th>RPG</th>\n",
       "      <th>Racing</th>\n",
       "      <th>Shooter</th>\n",
       "      <th>Simulation</th>\n",
       "      <th>Sports</th>\n",
       "      <th>Strategy</th>\n",
       "    </tr>\n",
       "    <tr>\n",
       "      <th>Platform</th>\n",
       "      <th></th>\n",
       "      <th></th>\n",
       "      <th></th>\n",
       "      <th></th>\n",
       "      <th></th>\n",
       "      <th></th>\n",
       "      <th></th>\n",
       "      <th></th>\n",
       "      <th></th>\n",
       "      <th></th>\n",
       "      <th></th>\n",
       "      <th></th>\n",
       "    </tr>\n",
       "  </thead>\n",
       "  <tbody>\n",
       "    <tr>\n",
       "      <th>Nintendo DS</th>\n",
       "      <td>5.903608</td>\n",
       "      <td>7.240000</td>\n",
       "      <td>6.259804</td>\n",
       "      <td>6.320000</td>\n",
       "      <td>6.840000</td>\n",
       "      <td>6.604615</td>\n",
       "      <td>7.222619</td>\n",
       "      <td>6.038636</td>\n",
       "      <td>6.965217</td>\n",
       "      <td>5.874359</td>\n",
       "      <td>5.936667</td>\n",
       "      <td>6.644737</td>\n",
       "    </tr>\n",
       "    <tr>\n",
       "      <th>PC</th>\n",
       "      <td>6.805791</td>\n",
       "      <td>7.334746</td>\n",
       "      <td>7.136798</td>\n",
       "      <td>7.166667</td>\n",
       "      <td>7.410938</td>\n",
       "      <td>6.924706</td>\n",
       "      <td>7.759930</td>\n",
       "      <td>7.032418</td>\n",
       "      <td>7.084878</td>\n",
       "      <td>7.104889</td>\n",
       "      <td>6.902424</td>\n",
       "      <td>7.310207</td>\n",
       "    </tr>\n",
       "  </tbody>\n",
       "</table>\n",
       "</div>"
      ],
      "text/plain": [
       "               Action  Action, Adventure  Adventure  Fighting  Platformer  \\\n",
       "Platform                                                                    \n",
       "Nintendo DS  5.903608           7.240000   6.259804  6.320000    6.840000   \n",
       "PC           6.805791           7.334746   7.136798  7.166667    7.410938   \n",
       "\n",
       "               Puzzle       RPG    Racing   Shooter  Simulation    Sports  \\\n",
       "Platform                                                                    \n",
       "Nintendo DS  6.604615  7.222619  6.038636  6.965217    5.874359  5.936667   \n",
       "PC           6.924706  7.759930  7.032418  7.084878    7.104889  6.902424   \n",
       "\n",
       "             Strategy  \n",
       "Platform               \n",
       "Nintendo DS  6.644737  \n",
       "PC           7.310207  "
      ]
     },
     "execution_count": 34,
     "metadata": {},
     "output_type": "execute_result"
    }
   ],
   "source": [
    "ign_data.iloc[[6,8]]"
   ]
  },
  {
   "cell_type": "markdown",
   "metadata": {},
   "source": [
    "How would I get all of the rows where the racing game ratings are greater than 7.0?"
   ]
  },
  {
   "cell_type": "markdown",
   "metadata": {},
   "source": [
    "# Visualizing Data\n",
    "\n",
    "Since you can remember, your favorite video game has been Mario Kart Wii, a racing game released for the Wii platform in 2008. And, IGN agrees with you that it is a great game -- their rating for this game is a whopping 8.9! Inspired by the success of this game, you're considering creating your very own racing game for the Wii platform.\n",
    "\n",
    "Lets create a bar chart that shows the average score for racing games, for each platform, one bar for each platform to see if this is a good decision."
   ]
  },
  {
   "cell_type": "markdown",
   "metadata": {},
   "source": [
    "## Simple chart using MatPlotLib\n",
    "\n",
    "We can create a simple barchart using matplot which is integrated into pandas as follows."
   ]
  },
  {
   "cell_type": "code",
   "execution_count": 34,
   "metadata": {},
   "outputs": [
    {
     "data": {
      "text/plain": [
       "Text(0.5, 1.0, 'Average Racing game ratings by platform')"
      ]
     },
     "execution_count": 34,
     "metadata": {},
     "output_type": "execute_result"
    },
    {
     "data": {
      "image/png": "[encoded data removed]",
      "text/plain": [
       "<Figure size 576x432 with 1 Axes>"
      ]
     },
     "metadata": {
      "needs_background": "light"
     },
     "output_type": "display_data"
    }
   ],
   "source": [
    "plt.figure(figsize=(8, 6))\n",
    "\n",
    "plt.barh(ign_data.index, ign_data[\"Racing\"])\n",
    "plt.ylabel(\"Platform\")\n",
    "plt.title(\"Average Racing game ratings by platform\")"
   ]
  },
  {
   "cell_type": "markdown",
   "metadata": {},
   "source": [
    "What is going on here?\n",
    "\n",
    "We're using the matplotlib to visualize our data.  We can also use pandas and another library called seaborn, but both are built on matplotlib.\n",
    "\n",
    "There are two styles of using matplotlib.  One is the OO approach, where we create figures and axes (plots) directly, or the pyplot (stateful/globals) approach where we let the library create axes automatically.\n",
    "\n",
    "In the above example, we used the pyplot approach.  To use the OO approach we could do the following:"
   ]
  },
  {
   "cell_type": "code",
   "execution_count": 36,
   "metadata": {},
   "outputs": [
    {
     "data": {
      "text/plain": [
       "Text(0.5, 1.0, 'Average Racing game ratings by platform')"
      ]
     },
     "execution_count": 36,
     "metadata": {},
     "output_type": "execute_result"
    },
    {
     "data": {
      "image/png": "[encoded data removed]",
      "text/plain": [
       "<Figure size 720x432 with 1 Axes>"
      ]
     },
     "metadata": {
      "needs_background": "light"
     },
     "output_type": "display_data"
    }
   ],
   "source": [
    "f = plt.figure(figsize=(10,6))\n",
    "ax = f.add_subplot()\n",
    "\n",
    "ax.barh(ign_data.index, ign_data[\"Racing\"])\n",
    "ax.set_ylabel(\"Platform\")\n",
    "ax.set_title(\"Average Racing game ratings by platform\")"
   ]
  },
  {
   "cell_type": "markdown",
   "metadata": {},
   "source": [
    "A good tutorial on it is at https://matplotlib.org/stable/tutorials/introductory/usage.html\n",
    "\n",
    "The documentation for matplotlib is at https://matplotlib.org/stable/index.html\n",
    "\n",
    "We'll get into matplotlib even more later in the course."
   ]
  },
  {
   "cell_type": "markdown",
   "metadata": {},
   "source": [
    "## Seaborn visualizations\n",
    "\n",
    "We can also use the **seaborn** library which extends matplotlib to create a fancier looking barchart.  Seaborn includes more visualizations, has some built in statistics and look nicer out of the box."
   ]
  },
  {
   "cell_type": "code",
   "execution_count": 37,
   "metadata": {},
   "outputs": [
    {
     "data": {
      "text/plain": [
       "Text(0.5, 1.0, 'Average Score for Racing Games, by Platform')"
      ]
     },
     "execution_count": 37,
     "metadata": {},
     "output_type": "execute_result"
    },
    {
     "data": {
      "image/png": "[encoded data removed]",
      "text/plain": [
       "<Figure size 576x360 with 1 Axes>"
      ]
     },
     "metadata": {
      "needs_background": "light"
     },
     "output_type": "display_data"
    }
   ],
   "source": [
    "# Set the width and height of the figure in inches (8 wide, 6 high)\n",
    "plt.figure(figsize=(8, 5))\n",
    "# nice gray background\n",
    "sns.set_style(\"dark\")\n",
    "# Bar chart showing average score for racing games by platform\n",
    "sns.barplot(x=ign_data[\"Racing\"], y=ign_data.index)\n",
    "# remove the x label since we already know this is Racing\n",
    "plt.xlabel(\"\")\n",
    "# Add label for vertical axis\n",
    "plt.title(\"Average Score for Racing Games, by Platform\")"
   ]
  },
  {
   "cell_type": "markdown",
   "metadata": {},
   "source": [
    "Documentation for seaborn can be found at https://seaborn.pydata.org/index.html\n",
    "\n",
    "Information on the barplot is https://seaborn.pydata.org/generated/seaborn.barplot.html\n",
    "The example datasets for the documentation are at https://github.com/mwaskom/seaborn-data\n"
   ]
  },
  {
   "cell_type": "markdown",
   "metadata": {},
   "source": [
    "Would you expect a racing game on the Wii platform to do well?  If not, which platform is the best bet for racing games?"
   ]
  },
  {
   "cell_type": "markdown",
   "metadata": {},
   "source": [
    "# Visualizing all Combinations\n",
    "\n",
    "Eventually, you decide against creating a racing game for Wii, but you're still committed to creating your own video game! Since your gaming interests are pretty broad (... you generally love most video games), you decide to use the IGN data to inform your new choice of genre and platform.\n",
    "\n",
    "Let's use the data to create a *heatmap* of the average ratings by genre and platform."
   ]
  },
  {
   "cell_type": "code",
   "execution_count": 38,
   "metadata": {},
   "outputs": [
    {
     "data": {
      "text/plain": [
       "Text(0.5, 1.0, 'Average Game Score, by Platform and Genre')"
      ]
     },
     "execution_count": 38,
     "metadata": {},
     "output_type": "execute_result"
    },
    {
     "data": {
      "image/png": "[encoded data removed]",
      "text/plain": [
       "<Figure size 720x720 with 2 Axes>"
      ]
     },
     "metadata": {},
     "output_type": "display_data"
    }
   ],
   "source": [
    "# Set the width and height of the figure\n",
    "plt.figure(figsize=(10,10))\n",
    "# Heatmap showing average game score by platform and genre\n",
    "sns.heatmap(ign_data, annot=True)\n",
    "# Add label for horizontal axis\n",
    "plt.xlabel(\"Genre\")\n",
    "# Add label for vertical axis\n",
    "plt.title(\"Average Game Score, by Platform and Genre\")"
   ]
  },
  {
   "cell_type": "markdown",
   "metadata": {},
   "source": [
    "Cool!  This makes it much easier to see the data.  Which combination of genre and platform receives the highest average ratings? Which combination receives the lowest average rankings?\n",
    "\n",
    "For more information and options for the heatmap visualization, see the documentation https://seaborn.pydata.org/generated/seaborn.heatmap.html"
   ]
  },
  {
   "cell_type": "markdown",
   "metadata": {},
   "source": [
    "# Data Aggregation\n",
    "\n",
    "Lets use some simple aggregation functions to understand the different platforms and genres a bit better.\n",
    "\n",
    "First, lets see what genres have the best ratings overall."
   ]
  },
  {
   "cell_type": "code",
   "execution_count": 39,
   "metadata": {},
   "outputs": [
    {
     "data": {
      "text/plain": [
       "RPG                  7.539589\n",
       "Action, Adventure    7.505402\n",
       "Platformer           7.304406\n",
       "Strategy             7.215837\n",
       "Puzzle               7.044883\n",
       "Shooter              7.010270\n",
       "Simulation           6.983722\n",
       "Sports               6.909593\n",
       "Fighting             6.864066\n",
       "Adventure            6.762933\n",
       "Racing               6.760007\n",
       "Action               6.707490\n",
       "dtype: float64"
      ]
     },
     "execution_count": 39,
     "metadata": {},
     "output_type": "execute_result"
    }
   ],
   "source": [
    "ign_data.mean().sort_values(ascending=False)"
   ]
  },
  {
   "cell_type": "markdown",
   "metadata": {},
   "source": [
    "Notice how we easily calculated the average for each column?  We then took this series and sorted it by value in decending order.\n",
    "\n",
    "Looks like people rate RPG games higher more consistently.\n",
    "\n",
    "Next lets look at the average rating by platform"
   ]
  },
  {
   "cell_type": "code",
   "execution_count": 40,
   "metadata": {},
   "outputs": [
    {
     "data": {
      "text/plain": [
       "Platform\n",
       "Game Boy Color          6.163101\n",
       "Nintendo DS             6.487522\n",
       "Wii                     6.514726\n",
       "Nintendo DSi            6.717961\n",
       "Game Boy Advance        6.759118\n",
       "PlayStation             6.785652\n",
       "PlayStation Portable    6.809053\n",
       "Nintendo 64             6.875570\n",
       "PlayStation 2           6.920915\n",
       "GameCube                7.122329\n",
       "Xbox                    7.143010\n",
       "PC                      7.164533\n",
       "Xbox 360                7.225540\n",
       "iPhone                  7.271501\n",
       "Nintendo 3DS            7.277177\n",
       "PlayStation 3           7.282974\n",
       "Wireless                7.313729\n",
       "PlayStation Vita        7.396840\n",
       "Dreamcast               7.416497\n",
       "PlayStation 4           7.702490\n",
       "Xbox One                7.714107\n",
       "dtype: float64"
      ]
     },
     "execution_count": 40,
     "metadata": {},
     "output_type": "execute_result"
    }
   ],
   "source": [
    "ign_data.mean(axis=1).sort_values()"
   ]
  },
  {
   "cell_type": "markdown",
   "metadata": {},
   "source": [
    "Here we set the axis to 1 meaning do the calculation across the rows instead of the columns.  Looks like games on Xbox One get the highest ratings.\n",
    "\n",
    "Lets add the mean and standard devation to the original `DataFrame` and sort the `DataFrame` by average (mean). With the barplot we can also add error bars to show the standard deviation. Standard deviation is a measure of the amount of deviation of a data set from the mean."
   ]
  },
  {
   "cell_type": "code",
   "execution_count": 41,
   "metadata": {},
   "outputs": [
    {
     "data": {
      "text/html": [
       "<div>\n",
       "<style scoped>\n",
       "    .dataframe tbody tr th:only-of-type {\n",
       "        vertical-align: middle;\n",
       "    }\n",
       "\n",
       "    .dataframe tbody tr th {\n",
       "        vertical-align: top;\n",
       "    }\n",
       "\n",
       "    .dataframe thead th {\n",
       "        text-align: right;\n",
       "    }\n",
       "</style>\n",
       "<table border=\"1\" class=\"dataframe\">\n",
       "  <thead>\n",
       "    <tr style=\"text-align: right;\">\n",
       "      <th></th>\n",
       "      <th>mean</th>\n",
       "      <th>std</th>\n",
       "    </tr>\n",
       "    <tr>\n",
       "      <th>Platform</th>\n",
       "      <th></th>\n",
       "      <th></th>\n",
       "    </tr>\n",
       "  </thead>\n",
       "  <tbody>\n",
       "    <tr>\n",
       "      <th>Game Boy Color</th>\n",
       "      <td>6.163101</td>\n",
       "      <td>1.063451</td>\n",
       "    </tr>\n",
       "    <tr>\n",
       "      <th>Nintendo DS</th>\n",
       "      <td>6.487522</td>\n",
       "      <td>0.482980</td>\n",
       "    </tr>\n",
       "    <tr>\n",
       "      <th>Wii</th>\n",
       "      <td>6.514726</td>\n",
       "      <td>0.626290</td>\n",
       "    </tr>\n",
       "    <tr>\n",
       "      <th>Nintendo DSi</th>\n",
       "      <td>6.717961</td>\n",
       "      <td>0.829125</td>\n",
       "    </tr>\n",
       "    <tr>\n",
       "      <th>Game Boy Advance</th>\n",
       "      <td>6.759118</td>\n",
       "      <td>0.457511</td>\n",
       "    </tr>\n",
       "    <tr>\n",
       "      <th>PlayStation</th>\n",
       "      <td>6.785652</td>\n",
       "      <td>0.557233</td>\n",
       "    </tr>\n",
       "    <tr>\n",
       "      <th>PlayStation Portable</th>\n",
       "      <td>6.809053</td>\n",
       "      <td>0.232902</td>\n",
       "    </tr>\n",
       "    <tr>\n",
       "      <th>Nintendo 64</th>\n",
       "      <td>6.875570</td>\n",
       "      <td>0.775914</td>\n",
       "    </tr>\n",
       "    <tr>\n",
       "      <th>PlayStation 2</th>\n",
       "      <td>6.920915</td>\n",
       "      <td>0.397826</td>\n",
       "    </tr>\n",
       "    <tr>\n",
       "      <th>GameCube</th>\n",
       "      <td>7.122329</td>\n",
       "      <td>0.549977</td>\n",
       "    </tr>\n",
       "    <tr>\n",
       "      <th>Xbox</th>\n",
       "      <td>7.143010</td>\n",
       "      <td>0.732032</td>\n",
       "    </tr>\n",
       "    <tr>\n",
       "      <th>PC</th>\n",
       "      <td>7.164533</td>\n",
       "      <td>0.249742</td>\n",
       "    </tr>\n",
       "    <tr>\n",
       "      <th>Xbox 360</th>\n",
       "      <td>7.225540</td>\n",
       "      <td>0.274159</td>\n",
       "    </tr>\n",
       "    <tr>\n",
       "      <th>iPhone</th>\n",
       "      <td>7.271501</td>\n",
       "      <td>0.459891</td>\n",
       "    </tr>\n",
       "    <tr>\n",
       "      <th>Nintendo 3DS</th>\n",
       "      <td>7.277177</td>\n",
       "      <td>0.515938</td>\n",
       "    </tr>\n",
       "    <tr>\n",
       "      <th>PlayStation 3</th>\n",
       "      <td>7.282974</td>\n",
       "      <td>0.285319</td>\n",
       "    </tr>\n",
       "    <tr>\n",
       "      <th>Wireless</th>\n",
       "      <td>7.313729</td>\n",
       "      <td>0.417950</td>\n",
       "    </tr>\n",
       "    <tr>\n",
       "      <th>PlayStation Vita</th>\n",
       "      <td>7.396840</td>\n",
       "      <td>0.939963</td>\n",
       "    </tr>\n",
       "    <tr>\n",
       "      <th>Dreamcast</th>\n",
       "      <td>7.416497</td>\n",
       "      <td>0.631980</td>\n",
       "    </tr>\n",
       "    <tr>\n",
       "      <th>PlayStation 4</th>\n",
       "      <td>7.702490</td>\n",
       "      <td>0.627419</td>\n",
       "    </tr>\n",
       "    <tr>\n",
       "      <th>Xbox One</th>\n",
       "      <td>7.714107</td>\n",
       "      <td>0.502639</td>\n",
       "    </tr>\n",
       "  </tbody>\n",
       "</table>\n",
       "</div>"
      ],
      "text/plain": [
       "                          mean       std\n",
       "Platform                                \n",
       "Game Boy Color        6.163101  1.063451\n",
       "Nintendo DS           6.487522  0.482980\n",
       "Wii                   6.514726  0.626290\n",
       "Nintendo DSi          6.717961  0.829125\n",
       "Game Boy Advance      6.759118  0.457511\n",
       "PlayStation           6.785652  0.557233\n",
       "PlayStation Portable  6.809053  0.232902\n",
       "Nintendo 64           6.875570  0.775914\n",
       "PlayStation 2         6.920915  0.397826\n",
       "GameCube              7.122329  0.549977\n",
       "Xbox                  7.143010  0.732032\n",
       "PC                    7.164533  0.249742\n",
       "Xbox 360              7.225540  0.274159\n",
       "iPhone                7.271501  0.459891\n",
       "Nintendo 3DS          7.277177  0.515938\n",
       "PlayStation 3         7.282974  0.285319\n",
       "Wireless              7.313729  0.417950\n",
       "PlayStation Vita      7.396840  0.939963\n",
       "Dreamcast             7.416497  0.631980\n",
       "PlayStation 4         7.702490  0.627419\n",
       "Xbox One              7.714107  0.502639"
      ]
     },
     "execution_count": 41,
     "metadata": {},
     "output_type": "execute_result"
    }
   ],
   "source": [
    "ign_data['mean'] = ign_data.mean(axis=1)\n",
    "ign_data = ign_data.sort_values(\"mean\")\n",
    "ign_data['std'] = ign_data.std(axis=1)\n",
    "ign_data[['mean','std']]"
   ]
  },
  {
   "cell_type": "code",
   "execution_count": 42,
   "metadata": {},
   "outputs": [
    {
     "data": {
      "text/plain": [
       "<AxesSubplot:xlabel='mean', ylabel='Platform'>"
      ]
     },
     "execution_count": 42,
     "metadata": {},
     "output_type": "execute_result"
    },
    {
     "data": {
      "image/png": "[encoded data removed]",
      "text/plain": [
       "<Figure size 720x432 with 1 Axes>"
      ]
     },
     "metadata": {},
     "output_type": "display_data"
    }
   ],
   "source": [
    "plt.figure(figsize=(10,6))\n",
    "sns.barplot(data=ign_data, y=ign_data.index, x=\"mean\", xerr=ign_data[\"std\"])"
   ]
  },
  {
   "cell_type": "markdown",
   "metadata": {},
   "source": [
    "Overall, the X-Box One has the highest rated games.  The standard deviation for the PSP is the lowest across genres.\n",
    "\n",
    "# Challenges\n",
    "\n",
    "It is possible to get the individual ratings of video games [here](https://www.kaggle.com/adakibet/igns-game-reviews) and [here](https://www.dropbox.com/s/09sh15zbtwg9eu3/gamedata.xlsx)\n",
    "\n",
    "What other questions are you interested in about video games?  What can you answer with this data or additional data available?\n",
    "\n"
   ]
  },
  {
   "cell_type": "code",
   "execution_count": null,
   "metadata": {},
   "outputs": [],
   "source": []
  }
 ],
 "metadata": {
  "interpreter": {
   "hash": "3df1606944222a76077e4e11e53aafc0257f67558b480efee00e2c5876e60577"
  },
  "kernelspec": {
   "display_name": "Python 3",
   "language": "python",
   "name": "python3"
  },
  "language_info": {
   "codemirror_mode": {
    "name": "ipython",
    "version": 3
   },
   "file_extension": ".py",
   "mimetype": "text/x-python",
   "name": "python",
   "nbconvert_exporter": "python",
   "pygments_lexer": "ipython3",
   "version": "3.9.0"
  }
 },
 "nbformat": 4,
 "nbformat_minor": 4
}

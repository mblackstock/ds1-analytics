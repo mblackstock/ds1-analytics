{
 "cells": [
  {
   "cell_type": "markdown",
   "metadata": {
    "id": "Aa0mJctTaPCW"
   },
   "source": [
    "# 6 Crypto Currency Returns\n",
    "\n",
    "Crypto currencies are hot these days!  In this project we'll show you how to download daily prices for different currencies, and then do some price analysis.\n",
    "\n",
    "<img src=\"https://www.trustetc.com/wp-content/uploads/2018/09/8crypto.png\" width=500/>\n",
    "\n",
    "We'll look at three different currencies - Bitcoin, Ethereum and Litcoin.\n",
    "\n",
    "* Learn more about how to get data from APIs\n",
    "* how can we explore crypto data to understand what the typical price of a currency is?\n",
    "* how can we compare the prices of three different currencies, or their change given they have different price ranges?\n",
    "* is there a correlation between the behaviour of these currencies?\n",
    "* how has profitability of these currencies changed over time?\n",
    "* if we were to buy one of these currencies a few years ago, which would have been the most profitable?"
   ]
  },
  {
   "cell_type": "markdown",
   "metadata": {},
   "source": [
    "## Set up"
   ]
  },
  {
   "cell_type": "code",
   "execution_count": 1,
   "metadata": {
    "id": "pSKJYjd3bC5J"
   },
   "outputs": [],
   "source": [
    "import pandas as pd\n",
    "import requests\n",
    "from datetime import datetime\n",
    "import seaborn as sns\n",
    "import matplotlib.pyplot as plt\n",
    "import numpy as np"
   ]
  },
  {
   "cell_type": "markdown",
   "metadata": {},
   "source": [
    "## Using an API to retrieve crypto data\n",
    "\n",
    "The company Cryptocompare kindly offers a free API that provides the historical values of different currencies and exchanges.\n",
    "\n",
    "Documentation for the API can be found at https://min-api.cryptocompare.com/documentation\n",
    "\n",
    "We'll use these APIs specifically to get daily data and then generalize it a bit so we can get hourly or minute data.\n",
    "\n",
    "First, lets get a list of the exchanges that this API supports\n",
    "https://min-api.cryptocompare.com/documentation?key=Other&cat=allExchangesV4Endpoint\n"
   ]
  },
  {
   "cell_type": "code",
   "execution_count": 2,
   "metadata": {},
   "outputs": [
    {
     "data": {
      "text/plain": [
       "['BTCBOX',\n",
       " 'BTCMarkets',\n",
       " 'BTCTurk',\n",
       " 'Bibox',\n",
       " 'BigONE',\n",
       " 'Binance',\n",
       " 'Bit2C',\n",
       " 'BitBank',\n",
       " 'BitBay',\n",
       " 'BitMart',\n",
       " 'BitTrex',\n",
       " 'Bitfinex',\n",
       " 'Bithumb',\n",
       " 'Bitkub',\n",
       " 'Bitso',\n",
       " 'Bitstamp',\n",
       " 'Bleutrade',\n",
       " 'Cexio',\n",
       " 'CoinBene',\n",
       " 'CoinCorner',\n",
       " 'CoinDeal',\n",
       " 'CoinEx',\n",
       " 'CoinFalcon',\n",
       " 'CoinJar',\n",
       " 'Coinbase',\n",
       " 'Coincheck',\n",
       " 'Coinfloor',\n",
       " 'Coinmate',\n",
       " 'Coinone',\n",
       " 'Coinsbit',\n",
       " 'DigiFinex',\n",
       " 'EXRATES',\n",
       " 'Exmo',\n",
       " 'Gateio',\n",
       " 'Gemini',\n",
       " 'Globitex',\n",
       " 'HitBTC',\n",
       " 'HuobiPro',\n",
       " 'IndependentReserve',\n",
       " 'Korbit',\n",
       " 'Kraken',\n",
       " 'Kucoin',\n",
       " 'Liquid',\n",
       " 'Luno',\n",
       " 'MercadoBitcoin',\n",
       " 'OKCoin',\n",
       " 'OKEX',\n",
       " 'P2PB2B',\n",
       " 'Paymium',\n",
       " 'Poloniex',\n",
       " 'RightBTC',\n",
       " 'TheRockTrading',\n",
       " 'Upbit',\n",
       " 'ZB',\n",
       " 'ZBG',\n",
       " 'Zaif',\n",
       " 'aax',\n",
       " 'beldex',\n",
       " 'bequant',\n",
       " 'binanceusa',\n",
       " 'bitFlyer',\n",
       " 'bitcoincom',\n",
       " 'bitflyereu',\n",
       " 'bitflyerus',\n",
       " 'bithumbglobal',\n",
       " 'bitpanda',\n",
       " 'blockchaincom',\n",
       " 'btse',\n",
       " 'coineal',\n",
       " 'coinfield',\n",
       " 'crex24',\n",
       " 'crosstower',\n",
       " 'currency',\n",
       " 'dcoin',\n",
       " 'decoin',\n",
       " 'equos',\n",
       " 'etoro',\n",
       " 'ftx',\n",
       " 'ftxus',\n",
       " 'gopax',\n",
       " 'huobijapan',\n",
       " 'huobikorea',\n",
       " 'indodax',\n",
       " 'itBit',\n",
       " 'lmax',\n",
       " 'nominex',\n",
       " 'valr']"
      ]
     },
     "execution_count": 2,
     "metadata": {},
     "output_type": "execute_result"
    }
   ],
   "source": [
    "params = {'topTier':'true'}\n",
    "url = 'https://min-api.cryptocompare.com/data/v4/all/exchanges'\n",
    "response = requests.get(url, params=params)\n",
    "data = response.json()['Data']['exchanges']\n",
    "\n",
    "top_exchanges = list(data)\n",
    "top_exchanges"
   ]
  },
  {
   "cell_type": "markdown",
   "metadata": {},
   "source": [
    "Next, lets look at the coins that are integrated that we can ask about.\n",
    "\n",
    "Docs: https://min-api.cryptocompare.com/documentation?key=Other&cat=allCoinsWithContentEndpoint\n"
   ]
  },
  {
   "cell_type": "code",
   "execution_count": 3,
   "metadata": {},
   "outputs": [
    {
     "data": {
      "text/html": [
       "<div>\n",
       "<style scoped>\n",
       "    .dataframe tbody tr th:only-of-type {\n",
       "        vertical-align: middle;\n",
       "    }\n",
       "\n",
       "    .dataframe tbody tr th {\n",
       "        vertical-align: top;\n",
       "    }\n",
       "\n",
       "    .dataframe thead th {\n",
       "        text-align: right;\n",
       "    }\n",
       "</style>\n",
       "<table border=\"1\" class=\"dataframe\">\n",
       "  <thead>\n",
       "    <tr style=\"text-align: right;\">\n",
       "      <th></th>\n",
       "      <th>Id</th>\n",
       "      <th>ImageUrl</th>\n",
       "      <th>Symbol</th>\n",
       "      <th>FullName</th>\n",
       "    </tr>\n",
       "  </thead>\n",
       "  <tbody>\n",
       "    <tr>\n",
       "      <th>42</th>\n",
       "      <td>4321</td>\n",
       "      <td>/media/35650717/42.jpg</td>\n",
       "      <td>42</td>\n",
       "      <td>42 Coin (42)</td>\n",
       "    </tr>\n",
       "    <tr>\n",
       "      <th>300</th>\n",
       "      <td>749869</td>\n",
       "      <td>/media/27010595/300.png</td>\n",
       "      <td>300</td>\n",
       "      <td>300 token (300)</td>\n",
       "    </tr>\n",
       "    <tr>\n",
       "      <th>365</th>\n",
       "      <td>33639</td>\n",
       "      <td>/media/352070/365.png</td>\n",
       "      <td>365</td>\n",
       "      <td>365Coin (365)</td>\n",
       "    </tr>\n",
       "    <tr>\n",
       "      <th>404</th>\n",
       "      <td>21227</td>\n",
       "      <td>/media/35650851/404-300x300.jpg</td>\n",
       "      <td>404</td>\n",
       "      <td>404Coin (404)</td>\n",
       "    </tr>\n",
       "    <tr>\n",
       "      <th>433</th>\n",
       "      <td>926547</td>\n",
       "      <td>/media/34836095/433.png</td>\n",
       "      <td>433</td>\n",
       "      <td>433 Token (433)</td>\n",
       "    </tr>\n",
       "    <tr>\n",
       "      <th>...</th>\n",
       "      <td>...</td>\n",
       "      <td>...</td>\n",
       "      <td>...</td>\n",
       "      <td>...</td>\n",
       "    </tr>\n",
       "    <tr>\n",
       "      <th>LATTE</th>\n",
       "      <td>945122</td>\n",
       "      <td>/media/39198210/latte.png</td>\n",
       "      <td>LATTE</td>\n",
       "      <td>LatteSwap (LATTE)</td>\n",
       "    </tr>\n",
       "    <tr>\n",
       "      <th>TOWN</th>\n",
       "      <td>945125</td>\n",
       "      <td>/media/39198213/town.png</td>\n",
       "      <td>TOWN</td>\n",
       "      <td>Town Star (TOWN)</td>\n",
       "    </tr>\n",
       "    <tr>\n",
       "      <th>MEME</th>\n",
       "      <td>936841</td>\n",
       "      <td>/media/37746996/meme.png</td>\n",
       "      <td>MEME</td>\n",
       "      <td>Meme (MEME)</td>\n",
       "    </tr>\n",
       "    <tr>\n",
       "      <th>MEMEINU</th>\n",
       "      <td>945127</td>\n",
       "      <td>/media/39198214/meme.png</td>\n",
       "      <td>MEMEINU</td>\n",
       "      <td>Meme Inu (MEMEINU)</td>\n",
       "    </tr>\n",
       "    <tr>\n",
       "      <th>TONCOIN</th>\n",
       "      <td>945129</td>\n",
       "      <td>/media/39198215/toncoin.png</td>\n",
       "      <td>TONCOIN</td>\n",
       "      <td>The Open Network (TONCOIN)</td>\n",
       "    </tr>\n",
       "  </tbody>\n",
       "</table>\n",
       "<p>7477 rows × 4 columns</p>\n",
       "</div>"
      ],
      "text/plain": [
       "             Id                         ImageUrl   Symbol  \\\n",
       "42         4321           /media/35650717/42.jpg       42   \n",
       "300      749869          /media/27010595/300.png      300   \n",
       "365       33639            /media/352070/365.png      365   \n",
       "404       21227  /media/35650851/404-300x300.jpg      404   \n",
       "433      926547          /media/34836095/433.png      433   \n",
       "...         ...                              ...      ...   \n",
       "LATTE    945122        /media/39198210/latte.png    LATTE   \n",
       "TOWN     945125         /media/39198213/town.png     TOWN   \n",
       "MEME     936841         /media/37746996/meme.png     MEME   \n",
       "MEMEINU  945127         /media/39198214/meme.png  MEMEINU   \n",
       "TONCOIN  945129      /media/39198215/toncoin.png  TONCOIN   \n",
       "\n",
       "                           FullName  \n",
       "42                     42 Coin (42)  \n",
       "300                 300 token (300)  \n",
       "365                   365Coin (365)  \n",
       "404                   404Coin (404)  \n",
       "433                 433 Token (433)  \n",
       "...                             ...  \n",
       "LATTE             LatteSwap (LATTE)  \n",
       "TOWN               Town Star (TOWN)  \n",
       "MEME                    Meme (MEME)  \n",
       "MEMEINU          Meme Inu (MEMEINU)  \n",
       "TONCOIN  The Open Network (TONCOIN)  \n",
       "\n",
       "[7477 rows x 4 columns]"
      ]
     },
     "execution_count": 3,
     "metadata": {},
     "output_type": "execute_result"
    }
   ],
   "source": [
    "params = {'summary':'true'}\n",
    "url = 'https://min-api.cryptocompare.com/data/all/coinlist'\n",
    "response = requests.get(url, params=params)\n",
    "data = response.json()\n",
    "\n",
    "# orient index means use the keys of the dictionary as the index of the dataframe\n",
    "df_coins = pd.DataFrame.from_dict(data['Data'], orient='index')\n",
    "df_coins"
   ]
  },
  {
   "cell_type": "markdown",
   "metadata": {},
   "source": [
    "Wow - that's a lot of coins.  Now we know which ones we can get inforation about.\n",
    "\n",
    "Next, lets see how we can get information about some of our favourite ones: Bitcoin, Ethereum, and LiteCoin."
   ]
  },
  {
   "cell_type": "code",
   "execution_count": 4,
   "metadata": {},
   "outputs": [
    {
     "data": {
      "text/html": [
       "<div>\n",
       "<style scoped>\n",
       "    .dataframe tbody tr th:only-of-type {\n",
       "        vertical-align: middle;\n",
       "    }\n",
       "\n",
       "    .dataframe tbody tr th {\n",
       "        vertical-align: top;\n",
       "    }\n",
       "\n",
       "    .dataframe thead th {\n",
       "        text-align: right;\n",
       "    }\n",
       "</style>\n",
       "<table border=\"1\" class=\"dataframe\">\n",
       "  <thead>\n",
       "    <tr style=\"text-align: right;\">\n",
       "      <th></th>\n",
       "      <th>Id</th>\n",
       "      <th>ImageUrl</th>\n",
       "      <th>Symbol</th>\n",
       "      <th>FullName</th>\n",
       "    </tr>\n",
       "  </thead>\n",
       "  <tbody>\n",
       "    <tr>\n",
       "      <th>BTC</th>\n",
       "      <td>1182</td>\n",
       "      <td>/media/37746251/btc.png</td>\n",
       "      <td>BTC</td>\n",
       "      <td>Bitcoin (BTC)</td>\n",
       "    </tr>\n",
       "    <tr>\n",
       "      <th>LTC</th>\n",
       "      <td>3808</td>\n",
       "      <td>/media/37746243/ltc.png</td>\n",
       "      <td>LTC</td>\n",
       "      <td>Litecoin (LTC)</td>\n",
       "    </tr>\n",
       "    <tr>\n",
       "      <th>ETH</th>\n",
       "      <td>7605</td>\n",
       "      <td>/media/37746238/eth.png</td>\n",
       "      <td>ETH</td>\n",
       "      <td>Ethereum (ETH)</td>\n",
       "    </tr>\n",
       "  </tbody>\n",
       "</table>\n",
       "</div>"
      ],
      "text/plain": [
       "       Id                 ImageUrl Symbol        FullName\n",
       "BTC  1182  /media/37746251/btc.png    BTC   Bitcoin (BTC)\n",
       "LTC  3808  /media/37746243/ltc.png    LTC  Litecoin (LTC)\n",
       "ETH  7605  /media/37746238/eth.png    ETH  Ethereum (ETH)"
      ]
     },
     "execution_count": 4,
     "metadata": {},
     "output_type": "execute_result"
    }
   ],
   "source": [
    "df_coins.loc[df_coins.Symbol.isin(['ETH','BTC','LTC'])]\n"
   ]
  },
  {
   "cell_type": "markdown",
   "metadata": {},
   "source": [
    "We're good to go!\n",
    "\n",
    "Next, lets get some history for Etherium\n",
    "\n",
    "To do this, we need to formulate the right API call.  Here is the documentation\n",
    "\n",
    "https://min-api.cryptocompare.com/documentation?key=Historical&cat=dataHistoday\n",
    "\n",
    "From the documentation it looks like the URL is as follows:\n",
    "\n",
    "'https://min-api.cryptocompare.com/data/histoday'\n",
    "\n",
    "histoday, histohour, histominute\n",
    "\n",
    "Then we need to add the exchange as a `e` parameter.  The symbol is `fsym`.  The currency is `tsym`.  We'll use a limit of `2000` entries, aggregate to 1 day leave others.\n"
   ]
  },
  {
   "cell_type": "code",
   "execution_count": 5,
   "metadata": {},
   "outputs": [
    {
     "data": {
      "text/html": [
       "<div>\n",
       "<style scoped>\n",
       "    .dataframe tbody tr th:only-of-type {\n",
       "        vertical-align: middle;\n",
       "    }\n",
       "\n",
       "    .dataframe tbody tr th {\n",
       "        vertical-align: top;\n",
       "    }\n",
       "\n",
       "    .dataframe thead th {\n",
       "        text-align: right;\n",
       "    }\n",
       "</style>\n",
       "<table border=\"1\" class=\"dataframe\">\n",
       "  <thead>\n",
       "    <tr style=\"text-align: right;\">\n",
       "      <th></th>\n",
       "      <th>time</th>\n",
       "      <th>close</th>\n",
       "      <th>high</th>\n",
       "      <th>low</th>\n",
       "      <th>open</th>\n",
       "      <th>volumefrom</th>\n",
       "      <th>volumeto</th>\n",
       "    </tr>\n",
       "  </thead>\n",
       "  <tbody>\n",
       "    <tr>\n",
       "      <th>0</th>\n",
       "      <td>1466208000</td>\n",
       "      <td>0.00</td>\n",
       "      <td>0.00</td>\n",
       "      <td>0.00</td>\n",
       "      <td>0.00</td>\n",
       "      <td>0.00</td>\n",
       "      <td>0.000000e+00</td>\n",
       "    </tr>\n",
       "    <tr>\n",
       "      <th>1</th>\n",
       "      <td>1466294400</td>\n",
       "      <td>0.00</td>\n",
       "      <td>0.00</td>\n",
       "      <td>0.00</td>\n",
       "      <td>0.00</td>\n",
       "      <td>0.00</td>\n",
       "      <td>0.000000e+00</td>\n",
       "    </tr>\n",
       "    <tr>\n",
       "      <th>2</th>\n",
       "      <td>1466380800</td>\n",
       "      <td>0.00</td>\n",
       "      <td>0.00</td>\n",
       "      <td>0.00</td>\n",
       "      <td>0.00</td>\n",
       "      <td>0.00</td>\n",
       "      <td>0.000000e+00</td>\n",
       "    </tr>\n",
       "    <tr>\n",
       "      <th>3</th>\n",
       "      <td>1466467200</td>\n",
       "      <td>0.00</td>\n",
       "      <td>0.00</td>\n",
       "      <td>0.00</td>\n",
       "      <td>0.00</td>\n",
       "      <td>0.00</td>\n",
       "      <td>0.000000e+00</td>\n",
       "    </tr>\n",
       "    <tr>\n",
       "      <th>4</th>\n",
       "      <td>1466553600</td>\n",
       "      <td>0.00</td>\n",
       "      <td>0.00</td>\n",
       "      <td>0.00</td>\n",
       "      <td>0.00</td>\n",
       "      <td>0.00</td>\n",
       "      <td>0.000000e+00</td>\n",
       "    </tr>\n",
       "    <tr>\n",
       "      <th>...</th>\n",
       "      <td>...</td>\n",
       "      <td>...</td>\n",
       "      <td>...</td>\n",
       "      <td>...</td>\n",
       "      <td>...</td>\n",
       "      <td>...</td>\n",
       "      <td>...</td>\n",
       "    </tr>\n",
       "    <tr>\n",
       "      <th>1996</th>\n",
       "      <td>1638662400</td>\n",
       "      <td>4198.73</td>\n",
       "      <td>4258.00</td>\n",
       "      <td>4036.12</td>\n",
       "      <td>4124.51</td>\n",
       "      <td>20058.71</td>\n",
       "      <td>8.359445e+07</td>\n",
       "    </tr>\n",
       "    <tr>\n",
       "      <th>1997</th>\n",
       "      <td>1638748800</td>\n",
       "      <td>4357.06</td>\n",
       "      <td>4382.02</td>\n",
       "      <td>3922.80</td>\n",
       "      <td>4198.73</td>\n",
       "      <td>51987.00</td>\n",
       "      <td>2.146102e+08</td>\n",
       "    </tr>\n",
       "    <tr>\n",
       "      <th>1998</th>\n",
       "      <td>1638835200</td>\n",
       "      <td>4311.66</td>\n",
       "      <td>4431.28</td>\n",
       "      <td>4256.06</td>\n",
       "      <td>4357.06</td>\n",
       "      <td>15870.26</td>\n",
       "      <td>6.920576e+07</td>\n",
       "    </tr>\n",
       "    <tr>\n",
       "      <th>1999</th>\n",
       "      <td>1638921600</td>\n",
       "      <td>4442.56</td>\n",
       "      <td>4457.43</td>\n",
       "      <td>4226.05</td>\n",
       "      <td>4311.66</td>\n",
       "      <td>11704.28</td>\n",
       "      <td>5.089590e+07</td>\n",
       "    </tr>\n",
       "    <tr>\n",
       "      <th>2000</th>\n",
       "      <td>1639008000</td>\n",
       "      <td>4141.41</td>\n",
       "      <td>4491.99</td>\n",
       "      <td>4099.24</td>\n",
       "      <td>4442.56</td>\n",
       "      <td>12499.62</td>\n",
       "      <td>5.358799e+07</td>\n",
       "    </tr>\n",
       "  </tbody>\n",
       "</table>\n",
       "<p>2001 rows × 7 columns</p>\n",
       "</div>"
      ],
      "text/plain": [
       "            time    close     high      low     open  volumefrom      volumeto\n",
       "0     1466208000     0.00     0.00     0.00     0.00        0.00  0.000000e+00\n",
       "1     1466294400     0.00     0.00     0.00     0.00        0.00  0.000000e+00\n",
       "2     1466380800     0.00     0.00     0.00     0.00        0.00  0.000000e+00\n",
       "3     1466467200     0.00     0.00     0.00     0.00        0.00  0.000000e+00\n",
       "4     1466553600     0.00     0.00     0.00     0.00        0.00  0.000000e+00\n",
       "...          ...      ...      ...      ...      ...         ...           ...\n",
       "1996  1638662400  4198.73  4258.00  4036.12  4124.51    20058.71  8.359445e+07\n",
       "1997  1638748800  4357.06  4382.02  3922.80  4198.73    51987.00  2.146102e+08\n",
       "1998  1638835200  4311.66  4431.28  4256.06  4357.06    15870.26  6.920576e+07\n",
       "1999  1638921600  4442.56  4457.43  4226.05  4311.66    11704.28  5.089590e+07\n",
       "2000  1639008000  4141.41  4491.99  4099.24  4442.56    12499.62  5.358799e+07\n",
       "\n",
       "[2001 rows x 7 columns]"
      ]
     },
     "execution_count": 5,
     "metadata": {},
     "output_type": "execute_result"
    }
   ],
   "source": [
    "params = {\n",
    "    'e':'Bitstamp',\n",
    "    'fsym':'ETH',\n",
    "    'tsym':'USD',\n",
    "    'limit':2000,\n",
    "    'aggregate':1}\n",
    "\n",
    "url = 'https://min-api.cryptocompare.com/data/histoday'\n",
    "response = requests.get(url, params=params)\n",
    "\n",
    "# we know the data is in the Data field\n",
    "data = response.json()['Data']\n",
    "# method to convert arrays of objects into rows\n",
    "df_eth = pd.json_normalize(data)\n",
    "# we only want these fields\n",
    "df_eth = df_eth[['time', 'close', 'high', 'low', 'open', 'volumefrom', 'volumeto']]\n",
    "df_eth"
   ]
  },
  {
   "cell_type": "markdown",
   "metadata": {},
   "source": [
    "Next, lets convert the timestamps to human readable dates, and drop the time field."
   ]
  },
  {
   "cell_type": "code",
   "execution_count": 6,
   "metadata": {},
   "outputs": [
    {
     "data": {
      "text/html": [
       "<div>\n",
       "<style scoped>\n",
       "    .dataframe tbody tr th:only-of-type {\n",
       "        vertical-align: middle;\n",
       "    }\n",
       "\n",
       "    .dataframe tbody tr th {\n",
       "        vertical-align: top;\n",
       "    }\n",
       "\n",
       "    .dataframe thead th {\n",
       "        text-align: right;\n",
       "    }\n",
       "</style>\n",
       "<table border=\"1\" class=\"dataframe\">\n",
       "  <thead>\n",
       "    <tr style=\"text-align: right;\">\n",
       "      <th></th>\n",
       "      <th>datetime</th>\n",
       "      <th>close</th>\n",
       "      <th>high</th>\n",
       "      <th>low</th>\n",
       "      <th>open</th>\n",
       "      <th>volumefrom</th>\n",
       "      <th>volumeto</th>\n",
       "    </tr>\n",
       "  </thead>\n",
       "  <tbody>\n",
       "    <tr>\n",
       "      <th>0</th>\n",
       "      <td>2016-06-18</td>\n",
       "      <td>0.00</td>\n",
       "      <td>0.00</td>\n",
       "      <td>0.00</td>\n",
       "      <td>0.00</td>\n",
       "      <td>0.00</td>\n",
       "      <td>0.000000e+00</td>\n",
       "    </tr>\n",
       "    <tr>\n",
       "      <th>1</th>\n",
       "      <td>2016-06-19</td>\n",
       "      <td>0.00</td>\n",
       "      <td>0.00</td>\n",
       "      <td>0.00</td>\n",
       "      <td>0.00</td>\n",
       "      <td>0.00</td>\n",
       "      <td>0.000000e+00</td>\n",
       "    </tr>\n",
       "    <tr>\n",
       "      <th>2</th>\n",
       "      <td>2016-06-20</td>\n",
       "      <td>0.00</td>\n",
       "      <td>0.00</td>\n",
       "      <td>0.00</td>\n",
       "      <td>0.00</td>\n",
       "      <td>0.00</td>\n",
       "      <td>0.000000e+00</td>\n",
       "    </tr>\n",
       "    <tr>\n",
       "      <th>3</th>\n",
       "      <td>2016-06-21</td>\n",
       "      <td>0.00</td>\n",
       "      <td>0.00</td>\n",
       "      <td>0.00</td>\n",
       "      <td>0.00</td>\n",
       "      <td>0.00</td>\n",
       "      <td>0.000000e+00</td>\n",
       "    </tr>\n",
       "    <tr>\n",
       "      <th>4</th>\n",
       "      <td>2016-06-22</td>\n",
       "      <td>0.00</td>\n",
       "      <td>0.00</td>\n",
       "      <td>0.00</td>\n",
       "      <td>0.00</td>\n",
       "      <td>0.00</td>\n",
       "      <td>0.000000e+00</td>\n",
       "    </tr>\n",
       "    <tr>\n",
       "      <th>...</th>\n",
       "      <td>...</td>\n",
       "      <td>...</td>\n",
       "      <td>...</td>\n",
       "      <td>...</td>\n",
       "      <td>...</td>\n",
       "      <td>...</td>\n",
       "      <td>...</td>\n",
       "    </tr>\n",
       "    <tr>\n",
       "      <th>1996</th>\n",
       "      <td>2021-12-05</td>\n",
       "      <td>4198.73</td>\n",
       "      <td>4258.00</td>\n",
       "      <td>4036.12</td>\n",
       "      <td>4124.51</td>\n",
       "      <td>20058.71</td>\n",
       "      <td>8.359445e+07</td>\n",
       "    </tr>\n",
       "    <tr>\n",
       "      <th>1997</th>\n",
       "      <td>2021-12-06</td>\n",
       "      <td>4357.06</td>\n",
       "      <td>4382.02</td>\n",
       "      <td>3922.80</td>\n",
       "      <td>4198.73</td>\n",
       "      <td>51987.00</td>\n",
       "      <td>2.146102e+08</td>\n",
       "    </tr>\n",
       "    <tr>\n",
       "      <th>1998</th>\n",
       "      <td>2021-12-07</td>\n",
       "      <td>4311.66</td>\n",
       "      <td>4431.28</td>\n",
       "      <td>4256.06</td>\n",
       "      <td>4357.06</td>\n",
       "      <td>15870.26</td>\n",
       "      <td>6.920576e+07</td>\n",
       "    </tr>\n",
       "    <tr>\n",
       "      <th>1999</th>\n",
       "      <td>2021-12-08</td>\n",
       "      <td>4442.56</td>\n",
       "      <td>4457.43</td>\n",
       "      <td>4226.05</td>\n",
       "      <td>4311.66</td>\n",
       "      <td>11704.28</td>\n",
       "      <td>5.089590e+07</td>\n",
       "    </tr>\n",
       "    <tr>\n",
       "      <th>2000</th>\n",
       "      <td>2021-12-09</td>\n",
       "      <td>4141.41</td>\n",
       "      <td>4491.99</td>\n",
       "      <td>4099.24</td>\n",
       "      <td>4442.56</td>\n",
       "      <td>12499.62</td>\n",
       "      <td>5.358799e+07</td>\n",
       "    </tr>\n",
       "  </tbody>\n",
       "</table>\n",
       "<p>2001 rows × 7 columns</p>\n",
       "</div>"
      ],
      "text/plain": [
       "       datetime    close     high      low     open  volumefrom      volumeto\n",
       "0    2016-06-18     0.00     0.00     0.00     0.00        0.00  0.000000e+00\n",
       "1    2016-06-19     0.00     0.00     0.00     0.00        0.00  0.000000e+00\n",
       "2    2016-06-20     0.00     0.00     0.00     0.00        0.00  0.000000e+00\n",
       "3    2016-06-21     0.00     0.00     0.00     0.00        0.00  0.000000e+00\n",
       "4    2016-06-22     0.00     0.00     0.00     0.00        0.00  0.000000e+00\n",
       "...         ...      ...      ...      ...      ...         ...           ...\n",
       "1996 2021-12-05  4198.73  4258.00  4036.12  4124.51    20058.71  8.359445e+07\n",
       "1997 2021-12-06  4357.06  4382.02  3922.80  4198.73    51987.00  2.146102e+08\n",
       "1998 2021-12-07  4311.66  4431.28  4256.06  4357.06    15870.26  6.920576e+07\n",
       "1999 2021-12-08  4442.56  4457.43  4226.05  4311.66    11704.28  5.089590e+07\n",
       "2000 2021-12-09  4141.41  4491.99  4099.24  4442.56    12499.62  5.358799e+07\n",
       "\n",
       "[2001 rows x 7 columns]"
      ]
     },
     "execution_count": 6,
     "metadata": {},
     "output_type": "execute_result"
    }
   ],
   "source": [
    "df_eth['datetime'] = pd.to_datetime(df_eth.time, unit='s')\n",
    "# reorder and drop time\n",
    "df_eth = df_eth[['datetime', 'close', 'high', 'low', 'open', 'volumefrom', 'volumeto']]\n",
    "# df_btc = df_btc.drop(columns=['time'])\n",
    "df_eth"
   ]
  },
  {
   "cell_type": "markdown",
   "metadata": {},
   "source": [
    "We've found cases where all of the values are zero, at the beginning.  Lets clean the data to make sure there are no entries where there is no data"
   ]
  },
  {
   "cell_type": "code",
   "execution_count": 7,
   "metadata": {},
   "outputs": [
    {
     "name": "stdout",
     "output_type": "stream",
     "text": [
      "Filtering 509 empty datapoints\n"
     ]
    },
    {
     "data": {
      "text/html": [
       "<div>\n",
       "<style scoped>\n",
       "    .dataframe tbody tr th:only-of-type {\n",
       "        vertical-align: middle;\n",
       "    }\n",
       "\n",
       "    .dataframe tbody tr th {\n",
       "        vertical-align: top;\n",
       "    }\n",
       "\n",
       "    .dataframe thead th {\n",
       "        text-align: right;\n",
       "    }\n",
       "</style>\n",
       "<table border=\"1\" class=\"dataframe\">\n",
       "  <thead>\n",
       "    <tr style=\"text-align: right;\">\n",
       "      <th></th>\n",
       "      <th>datetime</th>\n",
       "      <th>close</th>\n",
       "      <th>high</th>\n",
       "      <th>low</th>\n",
       "      <th>open</th>\n",
       "      <th>volumefrom</th>\n",
       "      <th>volumeto</th>\n",
       "    </tr>\n",
       "  </thead>\n",
       "  <tbody>\n",
       "    <tr>\n",
       "      <th>509</th>\n",
       "      <td>2017-11-09</td>\n",
       "      <td>321.32</td>\n",
       "      <td>331.70</td>\n",
       "      <td>317.29</td>\n",
       "      <td>322.15</td>\n",
       "      <td>13118.15</td>\n",
       "      <td>4.270935e+06</td>\n",
       "    </tr>\n",
       "    <tr>\n",
       "      <th>510</th>\n",
       "      <td>2017-11-10</td>\n",
       "      <td>298.66</td>\n",
       "      <td>325.61</td>\n",
       "      <td>291.00</td>\n",
       "      <td>321.32</td>\n",
       "      <td>34411.65</td>\n",
       "      <td>1.058054e+07</td>\n",
       "    </tr>\n",
       "    <tr>\n",
       "      <th>511</th>\n",
       "      <td>2017-11-11</td>\n",
       "      <td>315.76</td>\n",
       "      <td>322.19</td>\n",
       "      <td>298.00</td>\n",
       "      <td>298.66</td>\n",
       "      <td>23836.74</td>\n",
       "      <td>7.328432e+06</td>\n",
       "    </tr>\n",
       "    <tr>\n",
       "      <th>512</th>\n",
       "      <td>2017-11-12</td>\n",
       "      <td>306.10</td>\n",
       "      <td>318.98</td>\n",
       "      <td>300.11</td>\n",
       "      <td>315.76</td>\n",
       "      <td>48200.80</td>\n",
       "      <td>1.485482e+07</td>\n",
       "    </tr>\n",
       "    <tr>\n",
       "      <th>513</th>\n",
       "      <td>2017-11-13</td>\n",
       "      <td>316.14</td>\n",
       "      <td>320.69</td>\n",
       "      <td>305.91</td>\n",
       "      <td>306.10</td>\n",
       "      <td>36613.50</td>\n",
       "      <td>1.151786e+07</td>\n",
       "    </tr>\n",
       "    <tr>\n",
       "      <th>...</th>\n",
       "      <td>...</td>\n",
       "      <td>...</td>\n",
       "      <td>...</td>\n",
       "      <td>...</td>\n",
       "      <td>...</td>\n",
       "      <td>...</td>\n",
       "      <td>...</td>\n",
       "    </tr>\n",
       "    <tr>\n",
       "      <th>1996</th>\n",
       "      <td>2021-12-05</td>\n",
       "      <td>4198.73</td>\n",
       "      <td>4258.00</td>\n",
       "      <td>4036.12</td>\n",
       "      <td>4124.51</td>\n",
       "      <td>20058.71</td>\n",
       "      <td>8.359445e+07</td>\n",
       "    </tr>\n",
       "    <tr>\n",
       "      <th>1997</th>\n",
       "      <td>2021-12-06</td>\n",
       "      <td>4357.06</td>\n",
       "      <td>4382.02</td>\n",
       "      <td>3922.80</td>\n",
       "      <td>4198.73</td>\n",
       "      <td>51987.00</td>\n",
       "      <td>2.146102e+08</td>\n",
       "    </tr>\n",
       "    <tr>\n",
       "      <th>1998</th>\n",
       "      <td>2021-12-07</td>\n",
       "      <td>4311.66</td>\n",
       "      <td>4431.28</td>\n",
       "      <td>4256.06</td>\n",
       "      <td>4357.06</td>\n",
       "      <td>15870.26</td>\n",
       "      <td>6.920576e+07</td>\n",
       "    </tr>\n",
       "    <tr>\n",
       "      <th>1999</th>\n",
       "      <td>2021-12-08</td>\n",
       "      <td>4442.56</td>\n",
       "      <td>4457.43</td>\n",
       "      <td>4226.05</td>\n",
       "      <td>4311.66</td>\n",
       "      <td>11704.28</td>\n",
       "      <td>5.089590e+07</td>\n",
       "    </tr>\n",
       "    <tr>\n",
       "      <th>2000</th>\n",
       "      <td>2021-12-09</td>\n",
       "      <td>4141.41</td>\n",
       "      <td>4491.99</td>\n",
       "      <td>4099.24</td>\n",
       "      <td>4442.56</td>\n",
       "      <td>12499.62</td>\n",
       "      <td>5.358799e+07</td>\n",
       "    </tr>\n",
       "  </tbody>\n",
       "</table>\n",
       "<p>1492 rows × 7 columns</p>\n",
       "</div>"
      ],
      "text/plain": [
       "       datetime    close     high      low     open  volumefrom      volumeto\n",
       "509  2017-11-09   321.32   331.70   317.29   322.15    13118.15  4.270935e+06\n",
       "510  2017-11-10   298.66   325.61   291.00   321.32    34411.65  1.058054e+07\n",
       "511  2017-11-11   315.76   322.19   298.00   298.66    23836.74  7.328432e+06\n",
       "512  2017-11-12   306.10   318.98   300.11   315.76    48200.80  1.485482e+07\n",
       "513  2017-11-13   316.14   320.69   305.91   306.10    36613.50  1.151786e+07\n",
       "...         ...      ...      ...      ...      ...         ...           ...\n",
       "1996 2021-12-05  4198.73  4258.00  4036.12  4124.51    20058.71  8.359445e+07\n",
       "1997 2021-12-06  4357.06  4382.02  3922.80  4198.73    51987.00  2.146102e+08\n",
       "1998 2021-12-07  4311.66  4431.28  4256.06  4357.06    15870.26  6.920576e+07\n",
       "1999 2021-12-08  4442.56  4457.43  4226.05  4311.66    11704.28  5.089590e+07\n",
       "2000 2021-12-09  4141.41  4491.99  4099.24  4442.56    12499.62  5.358799e+07\n",
       "\n",
       "[1492 rows x 7 columns]"
      ]
     },
     "execution_count": 7,
     "metadata": {},
     "output_type": "execute_result"
    }
   ],
   "source": [
    "indices = df_eth[df_eth.sum(axis=1) == 0].index\n",
    "print('Filtering %d empty datapoints' % indices.shape[0])\n",
    "df_eth = df_eth.drop(indices)\n",
    "df_eth"
   ]
  },
  {
   "cell_type": "markdown",
   "metadata": {},
   "source": [
    "great - it looks like we now have clean data!"
   ]
  },
  {
   "cell_type": "markdown",
   "metadata": {},
   "source": [
    "## Saving data to a file\n",
    "\n",
    "Now that we have the history, lets save it to a file so we can reload it easier next time.  This is pretty easy with pandas but we want to make sure its in the right place."
   ]
  },
  {
   "cell_type": "code",
   "execution_count": 8,
   "metadata": {},
   "outputs": [
    {
     "name": "stdout",
     "output_type": "stream",
     "text": [
      "Saving data to datasets/crypto_data/eth_history.csv\n"
     ]
    }
   ],
   "source": [
    "path = 'datasets/crypto_data/'\n",
    "filename = 'eth_history.csv'\n",
    "print(f'Saving data to {path}{filename}')\n",
    "df_eth.to_csv(f'{path}{filename}', index=False)"
   ]
  },
  {
   "cell_type": "markdown",
   "metadata": {},
   "source": [
    "## Functions for reuse\n",
    "\n",
    "Nice, now that we've sorted this, we want to make this code reusable so we can easily download data for other coins, exchanges, and intervals (day, hour, minute).\n",
    "\n",
    "Lets build some functions:\n",
    "\n",
    "First function will generate a file name to save the data we've retrieved."
   ]
  },
  {
   "cell_type": "code",
   "execution_count": 9,
   "metadata": {},
   "outputs": [],
   "source": [
    "def get_filename(from_symbol, to_symbol, exchange, datetime_interval, download_date, data_path=''):\n",
    "    '''\n",
    "    return a filename using the supplied optional path and paramters\n",
    "    '''\n",
    "    return f'{data_path}{from_symbol}_{to_symbol}_{exchange}_{datetime_interval}_{download_date}.csv'"
   ]
  },
  {
   "cell_type": "code",
   "execution_count": 10,
   "metadata": {},
   "outputs": [],
   "source": [
    "def download_data(from_symbol, to_symbol, exchange, datetime_interval):\n",
    "    '''\n",
    "    download json data using the CryptoCompare history API\n",
    "    '''\n",
    "    supported_intervals = {'minute', 'hour', 'day'}\n",
    "    assert datetime_interval in supported_intervals,\\\n",
    "        'datetime_interval should be one of %s' % supported_intervals\n",
    "    \n",
    "    print('Downloading %s trading data for %s %s from %s' %\n",
    "          (datetime_interval, from_symbol, to_symbol, exchange))\n",
    "    base_url = 'https://min-api.cryptocompare.com/data/histo'\n",
    "    url = '%s%s' % (base_url, datetime_interval)\n",
    "    params = {'fsym': from_symbol, 'tsym': to_symbol,\n",
    "              'limit': 2000, 'aggregate': 1,\n",
    "              'e': exchange}\n",
    "    request = requests.get(url, params=params)\n",
    "    data = request.json()\n",
    "    return data"
   ]
  },
  {
   "cell_type": "code",
   "execution_count": 11,
   "metadata": {},
   "outputs": [],
   "source": [
    "def convert_to_dataframe(data):\n",
    "    '''\n",
    "    Convert data in dict to a pandas dataframe for analysis\n",
    "    We convert the time to a datetime, and keep only certain columns\n",
    "    '''\n",
    "\n",
    "    df = pd.json_normalize(data, ['Data'])\n",
    "    df['datetime'] = pd.to_datetime(df.time, unit='s')\n",
    "    df = df[['datetime', 'low', 'high', 'open', 'close', 'volumefrom', 'volumeto']]\n",
    "    return df"
   ]
  },
  {
   "cell_type": "code",
   "execution_count": 12,
   "metadata": {},
   "outputs": [],
   "source": [
    "def filter_empty_datapoints(df):\n",
    "    '''filter out rows where all of the columns are zero\n",
    "    '''\n",
    "    indices = df[df.sum(axis=1) == 0].index\n",
    "    print('Filtering %d empty datapoints' % indices.shape[0])\n",
    "    df = df.drop(indices)\n",
    "    return df\n",
    "\n",
    "def download_and_save(from_symbol, to_symbol, exchange, datetime_interval, data_path=''):\n",
    "    '''\n",
    "    Download data from the API, clean it, and save it to a CSV file!\n",
    "    '''\n",
    "    data = download_data(from_symbol, to_symbol, exchange, datetime_interval)\n",
    "    df = convert_to_dataframe(data)\n",
    "    df = filter_empty_datapoints(df)\n",
    "    current_datetime = datetime.now().date().isoformat()\n",
    "    filename = get_filename(from_symbol, to_symbol, exchange, datetime_interval, current_datetime, data_path=data_path)\n",
    "    print(f'Saving data to {filename}')\n",
    "    df.to_csv(filename, index=False)\n"
   ]
  },
  {
   "cell_type": "code",
   "execution_count": 13,
   "metadata": {},
   "outputs": [
    {
     "name": "stdout",
     "output_type": "stream",
     "text": [
      "Downloading day trading data for BTC USD from Bitstamp\n",
      "Filtering 0 empty datapoints\n",
      "Saving data to datasets/crypto_data/BTC_USD_Bitstamp_day_2021-12-09.csv\n",
      "Downloading day trading data for ETH USD from Bitstamp\n",
      "Filtering 509 empty datapoints\n",
      "Saving data to datasets/crypto_data/ETH_USD_Bitstamp_day_2021-12-09.csv\n",
      "Downloading day trading data for LTC USD from Bitstamp\n",
      "Filtering 372 empty datapoints\n",
      "Saving data to datasets/crypto_data/LTC_USD_Bitstamp_day_2021-12-09.csv\n"
     ]
    }
   ],
   "source": [
    "download = True    # disable/enable API calls\n",
    "\n",
    "# data_path = '/content/drive/MyDrive/Colab Notebooks/data/crypto_data/'\n",
    "data_path = 'datasets/crypto_data/'\n",
    "exchange = 'Bitstamp' # Coinbase\n",
    "datetime_interval = 'day'\n",
    "coins = ['BTC','ETH','LTC']\n",
    "currency = 'USD'\n",
    "if download:\n",
    "    for coin in coins:\n",
    "        download_and_save(coin, currency, exchange, datetime_interval, data_path=data_path)\n"
   ]
  },
  {
   "cell_type": "markdown",
   "metadata": {
    "id": "KzKZctwktCzH"
   },
   "source": [
    "Now that we have nice CSV files to work with, lets load one up for analysis.  We'll use the LTC file.\n"
   ]
  },
  {
   "cell_type": "code",
   "execution_count": 14,
   "metadata": {},
   "outputs": [
    {
     "name": "stdout",
     "output_type": "stream",
     "text": [
      "Reading data from datasets/crypto_data/LTC_USD_Bitstamp_day_2021-06-06.csv\n",
      "(1443, 6)\n"
     ]
    }
   ],
   "source": [
    "filename = get_filename('LTC', 'USD', 'Bitstamp', 'day', '2021-06-06', data_path=data_path)\n",
    "print(f'Reading data from {filename}')\n",
    "df = pd.read_csv(filename)\n",
    "# convert string from the csv file to a datetime\n",
    "df.datetime = pd.to_datetime(df.datetime)\n",
    "# change the index to the datetime\n",
    "df = df.set_index('datetime')     \n",
    "# sort it         \n",
    "df = df.sort_index() # sort by datetime\n",
    "print(df.shape)\n"
   ]
  },
  {
   "cell_type": "markdown",
   "metadata": {},
   "source": [
    "Lets create a function for this as well to make it easy to call this for different files"
   ]
  },
  {
   "cell_type": "code",
   "execution_count": 15,
   "metadata": {
    "id": "OLGqnJPagVSi"
   },
   "outputs": [],
   "source": [
    "def read_dataset(filename):\n",
    "    print(f'Reading data from {filename}')\n",
    "    df = pd.read_csv(filename)\n",
    "    df.datetime = pd.to_datetime(df.datetime)\n",
    "    df = df.set_index('datetime') \n",
    "    df = df.sort_index()\n",
    "    print(df.shape)\n",
    "    return df"
   ]
  },
  {
   "cell_type": "markdown",
   "metadata": {},
   "source": [
    "Now we'll load up several data frames"
   ]
  },
  {
   "cell_type": "code",
   "execution_count": 42,
   "metadata": {
    "colab": {
     "base_uri": "https://localhost:8080/"
    },
    "id": "DTtuPwzNgo4X",
    "outputId": "259d9511-dcc5-4059-8c97-40080884d59f"
   },
   "outputs": [
    {
     "name": "stdout",
     "output_type": "stream",
     "text": [
      "Reading data from datasets/crypto_data/BTC_USD_Bitstamp_day_2021-06-06.csv\n",
      "(2001, 6)\n",
      "Reading data from datasets/crypto_data/ETH_USD_Bitstamp_day_2021-06-06.csv\n",
      "(1306, 6)\n",
      "Reading data from datasets/crypto_data/LTC_USD_Bitstamp_day_2021-06-06.csv\n",
      "(1443, 6)\n"
     ]
    }
   ],
   "source": [
    "df_btc = read_dataset(get_filename('BTC', 'USD', 'Bitstamp', 'day', '2021-06-06',data_path=data_path))\n",
    "df_eth = read_dataset(get_filename('ETH', 'USD', 'Bitstamp', 'day', '2021-06-06',data_path=data_path))\n",
    "df_ltc = read_dataset(get_filename('LTC', 'USD', 'Bitstamp', 'day', '2021-06-06',data_path=data_path))"
   ]
  },
  {
   "cell_type": "code",
   "execution_count": 17,
   "metadata": {
    "colab": {
     "base_uri": "https://localhost:8080/",
     "height": 235
    },
    "id": "OsvKisLmhF1a",
    "outputId": "2c75b915-4503-4db4-aa38-a87479410ecb"
   },
   "outputs": [
    {
     "data": {
      "text/html": [
       "<div>\n",
       "<style scoped>\n",
       "    .dataframe tbody tr th:only-of-type {\n",
       "        vertical-align: middle;\n",
       "    }\n",
       "\n",
       "    .dataframe tbody tr th {\n",
       "        vertical-align: top;\n",
       "    }\n",
       "\n",
       "    .dataframe thead th {\n",
       "        text-align: right;\n",
       "    }\n",
       "</style>\n",
       "<table border=\"1\" class=\"dataframe\">\n",
       "  <thead>\n",
       "    <tr style=\"text-align: right;\">\n",
       "      <th></th>\n",
       "      <th>low</th>\n",
       "      <th>high</th>\n",
       "      <th>open</th>\n",
       "      <th>close</th>\n",
       "      <th>volumefrom</th>\n",
       "      <th>volumeto</th>\n",
       "    </tr>\n",
       "    <tr>\n",
       "      <th>datetime</th>\n",
       "      <th></th>\n",
       "      <th></th>\n",
       "      <th></th>\n",
       "      <th></th>\n",
       "      <th></th>\n",
       "      <th></th>\n",
       "    </tr>\n",
       "  </thead>\n",
       "  <tbody>\n",
       "    <tr>\n",
       "      <th>2017-11-09</th>\n",
       "      <td>317.29</td>\n",
       "      <td>331.70</td>\n",
       "      <td>322.15</td>\n",
       "      <td>321.32</td>\n",
       "      <td>13118.15</td>\n",
       "      <td>4270934.90</td>\n",
       "    </tr>\n",
       "    <tr>\n",
       "      <th>2017-11-10</th>\n",
       "      <td>291.00</td>\n",
       "      <td>325.61</td>\n",
       "      <td>321.32</td>\n",
       "      <td>298.66</td>\n",
       "      <td>34411.65</td>\n",
       "      <td>10580539.65</td>\n",
       "    </tr>\n",
       "    <tr>\n",
       "      <th>2017-11-11</th>\n",
       "      <td>298.00</td>\n",
       "      <td>322.19</td>\n",
       "      <td>298.66</td>\n",
       "      <td>315.76</td>\n",
       "      <td>23836.74</td>\n",
       "      <td>7328431.51</td>\n",
       "    </tr>\n",
       "    <tr>\n",
       "      <th>2017-11-12</th>\n",
       "      <td>300.11</td>\n",
       "      <td>318.98</td>\n",
       "      <td>315.76</td>\n",
       "      <td>306.10</td>\n",
       "      <td>48200.80</td>\n",
       "      <td>14854823.36</td>\n",
       "    </tr>\n",
       "    <tr>\n",
       "      <th>2017-11-13</th>\n",
       "      <td>305.91</td>\n",
       "      <td>320.69</td>\n",
       "      <td>306.10</td>\n",
       "      <td>316.14</td>\n",
       "      <td>36613.50</td>\n",
       "      <td>11517856.30</td>\n",
       "    </tr>\n",
       "  </tbody>\n",
       "</table>\n",
       "</div>"
      ],
      "text/plain": [
       "               low    high    open   close  volumefrom     volumeto\n",
       "datetime                                                           \n",
       "2017-11-09  317.29  331.70  322.15  321.32    13118.15   4270934.90\n",
       "2017-11-10  291.00  325.61  321.32  298.66    34411.65  10580539.65\n",
       "2017-11-11  298.00  322.19  298.66  315.76    23836.74   7328431.51\n",
       "2017-11-12  300.11  318.98  315.76  306.10    48200.80  14854823.36\n",
       "2017-11-13  305.91  320.69  306.10  316.14    36613.50  11517856.30"
      ]
     },
     "execution_count": 17,
     "metadata": {},
     "output_type": "execute_result"
    }
   ],
   "source": [
    "df_eth.head()"
   ]
  },
  {
   "cell_type": "code",
   "execution_count": 18,
   "metadata": {
    "colab": {
     "base_uri": "https://localhost:8080/",
     "height": 235
    },
    "id": "pC9WjoY5hQZK",
    "outputId": "fb37b231-6aa0-4eae-f265-031060359c08"
   },
   "outputs": [
    {
     "data": {
      "text/html": [
       "<div>\n",
       "<style scoped>\n",
       "    .dataframe tbody tr th:only-of-type {\n",
       "        vertical-align: middle;\n",
       "    }\n",
       "\n",
       "    .dataframe tbody tr th {\n",
       "        vertical-align: top;\n",
       "    }\n",
       "\n",
       "    .dataframe thead th {\n",
       "        text-align: right;\n",
       "    }\n",
       "</style>\n",
       "<table border=\"1\" class=\"dataframe\">\n",
       "  <thead>\n",
       "    <tr style=\"text-align: right;\">\n",
       "      <th></th>\n",
       "      <th>BTC</th>\n",
       "      <th>ETH</th>\n",
       "      <th>LTC</th>\n",
       "    </tr>\n",
       "    <tr>\n",
       "      <th>datetime</th>\n",
       "      <th></th>\n",
       "      <th></th>\n",
       "      <th></th>\n",
       "    </tr>\n",
       "  </thead>\n",
       "  <tbody>\n",
       "    <tr>\n",
       "      <th>2017-11-09</th>\n",
       "      <td>7148.00</td>\n",
       "      <td>321.32</td>\n",
       "      <td>64.48</td>\n",
       "    </tr>\n",
       "    <tr>\n",
       "      <th>2017-11-10</th>\n",
       "      <td>6588.18</td>\n",
       "      <td>298.66</td>\n",
       "      <td>59.08</td>\n",
       "    </tr>\n",
       "    <tr>\n",
       "      <th>2017-11-11</th>\n",
       "      <td>6355.13</td>\n",
       "      <td>315.76</td>\n",
       "      <td>62.47</td>\n",
       "    </tr>\n",
       "    <tr>\n",
       "      <th>2017-11-12</th>\n",
       "      <td>5870.37</td>\n",
       "      <td>306.10</td>\n",
       "      <td>58.70</td>\n",
       "    </tr>\n",
       "    <tr>\n",
       "      <th>2017-11-13</th>\n",
       "      <td>6525.17</td>\n",
       "      <td>316.14</td>\n",
       "      <td>61.03</td>\n",
       "    </tr>\n",
       "  </tbody>\n",
       "</table>\n",
       "</div>"
      ],
      "text/plain": [
       "                BTC     ETH    LTC\n",
       "datetime                          \n",
       "2017-11-09  7148.00  321.32  64.48\n",
       "2017-11-10  6588.18  298.66  59.08\n",
       "2017-11-11  6355.13  315.76  62.47\n",
       "2017-11-12  5870.37  306.10  58.70\n",
       "2017-11-13  6525.17  316.14  61.03"
      ]
     },
     "execution_count": 18,
     "metadata": {},
     "output_type": "execute_result"
    }
   ],
   "source": [
    "df = pd.DataFrame({'BTC': df_btc.close,\n",
    "                   'ETH': df_eth.close,\n",
    "                   'LTC': df_ltc.close})\n",
    "df = df.dropna()\n",
    "df.head()"
   ]
  },
  {
   "cell_type": "code",
   "execution_count": 19,
   "metadata": {
    "colab": {
     "base_uri": "https://localhost:8080/"
    },
    "id": "XwAOpEDYhcyN",
    "outputId": "8a131466-f26c-446e-a0db-7d791694df66"
   },
   "outputs": [
    {
     "name": "stdout",
     "output_type": "stream",
     "text": [
      "<class 'pandas.core.frame.DataFrame'>\n",
      "DatetimeIndex: 1306 entries, 2017-11-09 to 2021-06-06\n",
      "Freq: D\n",
      "Data columns (total 3 columns):\n",
      " #   Column  Non-Null Count  Dtype  \n",
      "---  ------  --------------  -----  \n",
      " 0   BTC     1306 non-null   float64\n",
      " 1   ETH     1306 non-null   float64\n",
      " 2   LTC     1306 non-null   float64\n",
      "dtypes: float64(3)\n",
      "memory usage: 40.8 KB\n"
     ]
    }
   ],
   "source": [
    "df.info()"
   ]
  },
  {
   "cell_type": "markdown",
   "metadata": {
    "id": "W0CXAzG4ugXM"
   },
   "source": [
    "Lets look at some stats"
   ]
  },
  {
   "cell_type": "code",
   "execution_count": 20,
   "metadata": {
    "colab": {
     "base_uri": "https://localhost:8080/",
     "height": 297
    },
    "id": "xVaSSrQiuklt",
    "outputId": "c48cde4a-ce4f-4cd4-b44a-8080b2458532"
   },
   "outputs": [
    {
     "data": {
      "text/html": [
       "<div>\n",
       "<style scoped>\n",
       "    .dataframe tbody tr th:only-of-type {\n",
       "        vertical-align: middle;\n",
       "    }\n",
       "\n",
       "    .dataframe tbody tr th {\n",
       "        vertical-align: top;\n",
       "    }\n",
       "\n",
       "    .dataframe thead th {\n",
       "        text-align: right;\n",
       "    }\n",
       "</style>\n",
       "<table border=\"1\" class=\"dataframe\">\n",
       "  <thead>\n",
       "    <tr style=\"text-align: right;\">\n",
       "      <th></th>\n",
       "      <th>BTC</th>\n",
       "      <th>ETH</th>\n",
       "      <th>LTC</th>\n",
       "    </tr>\n",
       "  </thead>\n",
       "  <tbody>\n",
       "    <tr>\n",
       "      <th>count</th>\n",
       "      <td>1306.000000</td>\n",
       "      <td>1306.000000</td>\n",
       "      <td>1306.000000</td>\n",
       "    </tr>\n",
       "    <tr>\n",
       "      <th>mean</th>\n",
       "      <td>13470.015613</td>\n",
       "      <td>538.038530</td>\n",
       "      <td>95.932550</td>\n",
       "    </tr>\n",
       "    <tr>\n",
       "      <th>std</th>\n",
       "      <td>13477.156522</td>\n",
       "      <td>649.683556</td>\n",
       "      <td>66.879637</td>\n",
       "    </tr>\n",
       "    <tr>\n",
       "      <th>min</th>\n",
       "      <td>3179.540000</td>\n",
       "      <td>82.910000</td>\n",
       "      <td>22.820000</td>\n",
       "    </tr>\n",
       "    <tr>\n",
       "      <th>25%</th>\n",
       "      <td>6738.032500</td>\n",
       "      <td>180.207500</td>\n",
       "      <td>48.632500</td>\n",
       "    </tr>\n",
       "    <tr>\n",
       "      <th>50%</th>\n",
       "      <td>8919.025000</td>\n",
       "      <td>268.970000</td>\n",
       "      <td>68.425000</td>\n",
       "    </tr>\n",
       "    <tr>\n",
       "      <th>75%</th>\n",
       "      <td>11428.625000</td>\n",
       "      <td>576.780000</td>\n",
       "      <td>127.695000</td>\n",
       "    </tr>\n",
       "    <tr>\n",
       "      <th>max</th>\n",
       "      <td>63564.480000</td>\n",
       "      <td>4179.470000</td>\n",
       "      <td>388.320000</td>\n",
       "    </tr>\n",
       "  </tbody>\n",
       "</table>\n",
       "</div>"
      ],
      "text/plain": [
       "                BTC          ETH          LTC\n",
       "count   1306.000000  1306.000000  1306.000000\n",
       "mean   13470.015613   538.038530    95.932550\n",
       "std    13477.156522   649.683556    66.879637\n",
       "min     3179.540000    82.910000    22.820000\n",
       "25%     6738.032500   180.207500    48.632500\n",
       "50%     8919.025000   268.970000    68.425000\n",
       "75%    11428.625000   576.780000   127.695000\n",
       "max    63564.480000  4179.470000   388.320000"
      ]
     },
     "execution_count": 20,
     "metadata": {},
     "output_type": "execute_result"
    }
   ],
   "source": [
    "df.describe()"
   ]
  },
  {
   "cell_type": "markdown",
   "metadata": {
    "id": "I9D3TSFYt_Q8",
    "tags": []
   },
   "source": [
    "# Visualizations\n",
    "\n",
    "##  Boxplot\n",
    "\n",
    "Look at LTC prices more closely using a boxplot.\n",
    "\n",
    "A box plot shows the quartiles of the dataset with points that are determined to be outliers using a method of the inter-quartile range (IQR). In other words, the IQR is the first quartile (25%) subtracted from the third quartile (75%).  Outliers are values above or below 1.5 times the IQR.\n",
    "\n",
    "So most of the prices are between 50 and 125 or so."
   ]
  },
  {
   "cell_type": "code",
   "execution_count": 21,
   "metadata": {},
   "outputs": [
    {
     "data": {
      "text/plain": [
       "<AxesSubplot:>"
      ]
     },
     "execution_count": 21,
     "metadata": {},
     "output_type": "execute_result"
    },
    {
     "data": {
      "image/png": "[encoded data removed]",
      "text/plain": [
       "<Figure size 432x288 with 1 Axes>"
      ]
     },
     "metadata": {
      "needs_background": "light"
     },
     "output_type": "display_data"
    }
   ],
   "source": [
    "df.boxplot()"
   ]
  },
  {
   "cell_type": "code",
   "execution_count": 22,
   "metadata": {
    "colab": {
     "base_uri": "https://localhost:8080/",
     "height": 265
    },
    "id": "jGsqlTFxt87C",
    "outputId": "5d47d8c0-49ec-4d6e-c285-f422e0ea1a29"
   },
   "outputs": [
    {
     "data": {
      "text/plain": [
       "<AxesSubplot:>"
      ]
     },
     "execution_count": 22,
     "metadata": {},
     "output_type": "execute_result"
    },
    {
     "data": {
      "image/png": "[encoded data removed]",
      "text/plain": [
       "<Figure size 432x288 with 1 Axes>"
      ]
     },
     "metadata": {
      "needs_background": "light"
     },
     "output_type": "display_data"
    }
   ],
   "source": [
    "import seaborn as sns\n",
    "sns.boxplot(data=df['LTC'], orient=\"h\")"
   ]
  },
  {
   "cell_type": "markdown",
   "metadata": {
    "id": "gwKMarBiuaxS"
   },
   "source": [
    "## Histogram of prices\n",
    "\n",
    "Lets look at a histogram of the prices and draw the median and mean"
   ]
  },
  {
   "cell_type": "code",
   "execution_count": 23,
   "metadata": {
    "colab": {
     "base_uri": "https://localhost:8080/",
     "height": 609
    },
    "id": "WWPiZaFiuX90",
    "outputId": "9a7472ae-8cc2-4ce2-d316-4857c53fa718"
   },
   "outputs": [
    {
     "data": {
      "text/plain": [
       "<matplotlib.lines.Line2D at 0x127148040>"
      ]
     },
     "execution_count": 23,
     "metadata": {},
     "output_type": "execute_result"
    },
    {
     "data": {
      "image/png": "[encoded data removed]",
      "text/plain": [
       "<Figure size 1080x720 with 1 Axes>"
      ]
     },
     "metadata": {
      "needs_background": "light"
     },
     "output_type": "display_data"
    }
   ],
   "source": [
    "ax = df['LTC'].hist(bins=30, figsize=(15,10))\n",
    "ax.axvline(df['LTC'].median(), color='b', linestyle='dashed', linewidth=2)\n",
    "ax.axvline(df['LTC'].mean(), color='r')"
   ]
  },
  {
   "cell_type": "markdown",
   "metadata": {
    "id": "hGsbZTH4jS0W"
   },
   "source": [
    "## Price time series\n",
    "\n",
    "Absolute price plot"
   ]
  },
  {
   "cell_type": "code",
   "execution_count": 24,
   "metadata": {
    "colab": {
     "base_uri": "https://localhost:8080/",
     "height": 634
    },
    "id": "YMsw1geDhmBv",
    "outputId": "6a950bf5-6e4d-45b4-c61a-e4af508dda2a"
   },
   "outputs": [
    {
     "data": {
      "text/plain": [
       "<AxesSubplot:xlabel='datetime'>"
      ]
     },
     "execution_count": 24,
     "metadata": {},
     "output_type": "execute_result"
    },
    {
     "data": {
      "image/png": "[encoded data removed]",
      "text/plain": [
       "<Figure size 1080x720 with 1 Axes>"
      ]
     },
     "metadata": {
      "needs_background": "light"
     },
     "output_type": "display_data"
    }
   ],
   "source": [
    "df.plot(grid=True, figsize=(15, 10))"
   ]
  },
  {
   "cell_type": "markdown",
   "metadata": {
    "id": "oiyXp0UVjVgx"
   },
   "source": [
    "relative plot\n",
    "\n",
    "We create an axis for each plot separately to show the prices relative to each other."
   ]
  },
  {
   "cell_type": "code",
   "execution_count": 25,
   "metadata": {
    "colab": {
     "base_uri": "https://localhost:8080/",
     "height": 614
    },
    "id": "LC4yztnFh1oC",
    "outputId": "cee89dc0-b665-4c35-bf96-2cd33754b845"
   },
   "outputs": [
    {
     "data": {
      "text/plain": [
       "<matplotlib.legend.Legend at 0x126f3e7c0>"
      ]
     },
     "execution_count": 25,
     "metadata": {},
     "output_type": "execute_result"
    },
    {
     "data": {
      "image/png": "[encoded data removed]",
      "text/plain": [
       "<Figure size 1440x720 with 3 Axes>"
      ]
     },
     "metadata": {
      "needs_background": "light"
     },
     "output_type": "display_data"
    }
   ],
   "source": [
    "fig, ax1 = plt.subplots(figsize=(20, 10))\n",
    "ax2 = ax1.twinx()  # instantiate a second axes that shares the same x-axis\n",
    "\n",
    "# move this axis over to the right a bit - magic.\n",
    "rspine = ax2.spines['right']\n",
    "rspine.set_position(('axes', 1.05))\n",
    "\n",
    "df['BTC'].plot(ax=ax1, style='b--')\n",
    "df['ETH'].plot(ax=ax1, style='r-', secondary_y=True)  # use a secondary y-axis on the right\n",
    "df['LTC'].plot(ax=ax2, style='g-')\n",
    "\n",
    "# legend\n",
    "ax2.legend([ax1.get_lines()[0],\n",
    "            ax1.right_ax.get_lines()[0],\n",
    "            ax2.get_lines()[0]],\n",
    "           ['BTC', 'ETH', 'LTC'])"
   ]
  },
  {
   "cell_type": "markdown",
   "metadata": {
    "id": "NeLvng8jpgux"
   },
   "source": [
    "## Correlation between crypto prices\n",
    "\n",
    "Generate correlation matrix for heatmap"
   ]
  },
  {
   "cell_type": "code",
   "execution_count": 26,
   "metadata": {
    "colab": {
     "base_uri": "https://localhost:8080/",
     "height": 341
    },
    "id": "-AhMtjlSpQFK",
    "outputId": "19a9e6ac-2b39-4977-bba3-acf07b23a0ce"
   },
   "outputs": [
    {
     "data": {
      "text/plain": [
       "<AxesSubplot:>"
      ]
     },
     "execution_count": 26,
     "metadata": {},
     "output_type": "execute_result"
    },
    {
     "data": {
      "image/png": "[encoded data removed]",
      "text/plain": [
       "<Figure size 360x360 with 2 Axes>"
      ]
     },
     "metadata": {
      "needs_background": "light"
     },
     "output_type": "display_data"
    }
   ],
   "source": [
    "\n",
    "# Compute the correlation matrix\n",
    "corr = df.corr()\n",
    "\n",
    "f, ax = plt.subplots(figsize=(5, 5))\n",
    "sns.heatmap(corr, annot=True)"
   ]
  },
  {
   "cell_type": "markdown",
   "metadata": {},
   "source": [
    "We can see fairly strong correlation between these currencies!"
   ]
  },
  {
   "cell_type": "markdown",
   "metadata": {
    "id": "1tz2eT2trckH"
   },
   "source": [
    "# Calculating Profitability\n",
    "\n",
    "Profitability if I bought one of these when all three were available.\n",
    "\n",
    "We apply a function to each that takes the current one divided by the first price."
   ]
  },
  {
   "cell_type": "code",
   "execution_count": 27,
   "metadata": {},
   "outputs": [
    {
     "data": {
      "text/plain": [
       "datetime\n",
       "2017-11-09    1.000000\n",
       "2017-11-10    0.921682\n",
       "2017-11-11    0.889078\n",
       "2017-11-12    0.821260\n",
       "2017-11-13    0.912867\n",
       "                ...   \n",
       "2021-06-02    5.258724\n",
       "2021-06-03    5.486833\n",
       "2021-06-04    5.160509\n",
       "2021-06-05    4.970921\n",
       "2021-06-06    4.973646\n",
       "Freq: D, Name: BTC, Length: 1306, dtype: float64"
      ]
     },
     "execution_count": 27,
     "metadata": {},
     "output_type": "execute_result"
    }
   ],
   "source": [
    "df['BTC']/df['BTC'][0]"
   ]
  },
  {
   "cell_type": "code",
   "execution_count": 28,
   "metadata": {
    "colab": {
     "base_uri": "https://localhost:8080/",
     "height": 235
    },
    "id": "EmTqmY5dq8RP",
    "outputId": "aa4aac51-6af7-4f47-dfbd-bbd1b0391200"
   },
   "outputs": [
    {
     "data": {
      "text/html": [
       "<div>\n",
       "<style scoped>\n",
       "    .dataframe tbody tr th:only-of-type {\n",
       "        vertical-align: middle;\n",
       "    }\n",
       "\n",
       "    .dataframe tbody tr th {\n",
       "        vertical-align: top;\n",
       "    }\n",
       "\n",
       "    .dataframe thead th {\n",
       "        text-align: right;\n",
       "    }\n",
       "</style>\n",
       "<table border=\"1\" class=\"dataframe\">\n",
       "  <thead>\n",
       "    <tr style=\"text-align: right;\">\n",
       "      <th></th>\n",
       "      <th>BTC</th>\n",
       "      <th>ETH</th>\n",
       "      <th>LTC</th>\n",
       "    </tr>\n",
       "    <tr>\n",
       "      <th>datetime</th>\n",
       "      <th></th>\n",
       "      <th></th>\n",
       "      <th></th>\n",
       "    </tr>\n",
       "  </thead>\n",
       "  <tbody>\n",
       "    <tr>\n",
       "      <th>2017-11-09</th>\n",
       "      <td>1.000000</td>\n",
       "      <td>1.000000</td>\n",
       "      <td>1.000000</td>\n",
       "    </tr>\n",
       "    <tr>\n",
       "      <th>2017-11-10</th>\n",
       "      <td>0.921682</td>\n",
       "      <td>0.929478</td>\n",
       "      <td>0.916253</td>\n",
       "    </tr>\n",
       "    <tr>\n",
       "      <th>2017-11-11</th>\n",
       "      <td>0.889078</td>\n",
       "      <td>0.982696</td>\n",
       "      <td>0.968828</td>\n",
       "    </tr>\n",
       "    <tr>\n",
       "      <th>2017-11-12</th>\n",
       "      <td>0.821260</td>\n",
       "      <td>0.952633</td>\n",
       "      <td>0.910360</td>\n",
       "    </tr>\n",
       "    <tr>\n",
       "      <th>2017-11-13</th>\n",
       "      <td>0.912867</td>\n",
       "      <td>0.983879</td>\n",
       "      <td>0.946495</td>\n",
       "    </tr>\n",
       "  </tbody>\n",
       "</table>\n",
       "</div>"
      ],
      "text/plain": [
       "                 BTC       ETH       LTC\n",
       "datetime                                \n",
       "2017-11-09  1.000000  1.000000  1.000000\n",
       "2017-11-10  0.921682  0.929478  0.916253\n",
       "2017-11-11  0.889078  0.982696  0.968828\n",
       "2017-11-12  0.821260  0.952633  0.910360\n",
       "2017-11-13  0.912867  0.983879  0.946495"
      ]
     },
     "execution_count": 28,
     "metadata": {},
     "output_type": "execute_result"
    }
   ],
   "source": [
    "df_return = df.apply(lambda x: x / x[0]) # series objects passed in\n",
    "df_return.head()"
   ]
  },
  {
   "cell_type": "code",
   "execution_count": 29,
   "metadata": {
    "colab": {
     "base_uri": "https://localhost:8080/",
     "height": 634
    },
    "id": "KwSv--I1rBVW",
    "outputId": "b09a8a6e-528d-4ebf-fbb5-dc9b5548aaaa"
   },
   "outputs": [
    {
     "data": {
      "text/plain": [
       "<matplotlib.lines.Line2D at 0x12734ca00>"
      ]
     },
     "execution_count": 29,
     "metadata": {},
     "output_type": "execute_result"
    },
    {
     "data": {
      "image/png": "[encoded data removed]",
      "text/plain": [
       "<Figure size 1080x720 with 1 Axes>"
      ]
     },
     "metadata": {
      "needs_background": "light"
     },
     "output_type": "display_data"
    }
   ],
   "source": [
    "df_return.plot(grid=True, figsize=(15, 10)).axhline(y = 1, color = \"black\", lw = 2)"
   ]
  },
  {
   "cell_type": "markdown",
   "metadata": {
    "id": "79tUE5Y7sxm-"
   },
   "source": [
    "# Currency comparisons\n",
    "\n",
    "what was the percentage increase?"
   ]
  },
  {
   "cell_type": "code",
   "execution_count": 30,
   "metadata": {
    "colab": {
     "base_uri": "https://localhost:8080/",
     "height": 359
    },
    "id": "DIs-oBPQsK5F",
    "outputId": "e326de32-88bd-4f0c-c2dc-0bd211f3269d"
   },
   "outputs": [
    {
     "data": {
      "text/html": [
       "<div>\n",
       "<style scoped>\n",
       "    .dataframe tbody tr th:only-of-type {\n",
       "        vertical-align: middle;\n",
       "    }\n",
       "\n",
       "    .dataframe tbody tr th {\n",
       "        vertical-align: top;\n",
       "    }\n",
       "\n",
       "    .dataframe thead th {\n",
       "        text-align: right;\n",
       "    }\n",
       "</style>\n",
       "<table border=\"1\" class=\"dataframe\">\n",
       "  <thead>\n",
       "    <tr style=\"text-align: right;\">\n",
       "      <th></th>\n",
       "      <th>BTC</th>\n",
       "      <th>ETH</th>\n",
       "      <th>LTC</th>\n",
       "    </tr>\n",
       "    <tr>\n",
       "      <th>datetime</th>\n",
       "      <th></th>\n",
       "      <th></th>\n",
       "      <th></th>\n",
       "    </tr>\n",
       "  </thead>\n",
       "  <tbody>\n",
       "    <tr>\n",
       "      <th>2021-06-06</th>\n",
       "      <td>497.364578</td>\n",
       "      <td>833.517988</td>\n",
       "      <td>268.998139</td>\n",
       "    </tr>\n",
       "  </tbody>\n",
       "</table>\n",
       "</div>"
      ],
      "text/plain": [
       "                   BTC         ETH         LTC\n",
       "datetime                                      \n",
       "2021-06-06  497.364578  833.517988  268.998139"
      ]
     },
     "execution_count": 30,
     "metadata": {},
     "output_type": "execute_result"
    },
    {
     "data": {
      "image/png": "[encoded data removed]",
      "text/plain": [
       "<Figure size 432x288 with 1 Axes>"
      ]
     },
     "metadata": {
      "needs_background": "light"
     },
     "output_type": "display_data"
    }
   ],
   "source": [
    "df_perc = df_return.tail(1) * 100\n",
    "ax = sns.barplot(data=df_perc)\n",
    "df_perc"
   ]
  },
  {
   "cell_type": "markdown",
   "metadata": {
    "id": "Ga3IoxOustV0"
   },
   "source": [
    "How many could we buy for $1000?"
   ]
  },
  {
   "cell_type": "code",
   "execution_count": 31,
   "metadata": {
    "colab": {
     "base_uri": "https://localhost:8080/",
     "height": 360
    },
    "id": "GnJgNt7gsOs8",
    "outputId": "e910b0c3-1329-4ba4-d6da-b947c8b758ce"
   },
   "outputs": [
    {
     "data": {
      "text/html": [
       "<div>\n",
       "<style scoped>\n",
       "    .dataframe tbody tr th:only-of-type {\n",
       "        vertical-align: middle;\n",
       "    }\n",
       "\n",
       "    .dataframe tbody tr th {\n",
       "        vertical-align: top;\n",
       "    }\n",
       "\n",
       "    .dataframe thead th {\n",
       "        text-align: right;\n",
       "    }\n",
       "</style>\n",
       "<table border=\"1\" class=\"dataframe\">\n",
       "  <thead>\n",
       "    <tr style=\"text-align: right;\">\n",
       "      <th></th>\n",
       "      <th>BTC</th>\n",
       "      <th>ETH</th>\n",
       "      <th>LTC</th>\n",
       "    </tr>\n",
       "    <tr>\n",
       "      <th>datetime</th>\n",
       "      <th></th>\n",
       "      <th></th>\n",
       "      <th></th>\n",
       "    </tr>\n",
       "  </thead>\n",
       "  <tbody>\n",
       "    <tr>\n",
       "      <th>2017-11-09</th>\n",
       "      <td>0.139899</td>\n",
       "      <td>3.112162</td>\n",
       "      <td>15.508685</td>\n",
       "    </tr>\n",
       "  </tbody>\n",
       "</table>\n",
       "</div>"
      ],
      "text/plain": [
       "                 BTC       ETH        LTC\n",
       "datetime                                 \n",
       "2017-11-09  0.139899  3.112162  15.508685"
      ]
     },
     "execution_count": 31,
     "metadata": {},
     "output_type": "execute_result"
    },
    {
     "data": {
      "image/png": "[encoded data removed]",
      "text/plain": [
       "<Figure size 432x288 with 1 Axes>"
      ]
     },
     "metadata": {
      "needs_background": "light"
     },
     "output_type": "display_data"
    }
   ],
   "source": [
    "budget = 1000 # USD\n",
    "df_coins = budget/df.head(1)\n",
    "\n",
    "ax = sns.barplot(data=df_coins)\n",
    "df_coins"
   ]
  },
  {
   "cell_type": "markdown",
   "metadata": {
    "id": "nR5TvHKKspF8"
   },
   "source": [
    "How much money would we make if we invested $1000 a while ago"
   ]
  },
  {
   "cell_type": "code",
   "execution_count": 32,
   "metadata": {
    "colab": {
     "base_uri": "https://localhost:8080/",
     "height": 359
    },
    "id": "wU5mXNcXsnmH",
    "outputId": "837402b5-f35e-4677-e3eb-b71d69273c80"
   },
   "outputs": [
    {
     "data": {
      "text/html": [
       "<div>\n",
       "<style scoped>\n",
       "    .dataframe tbody tr th:only-of-type {\n",
       "        vertical-align: middle;\n",
       "    }\n",
       "\n",
       "    .dataframe tbody tr th {\n",
       "        vertical-align: top;\n",
       "    }\n",
       "\n",
       "    .dataframe thead th {\n",
       "        text-align: right;\n",
       "    }\n",
       "</style>\n",
       "<table border=\"1\" class=\"dataframe\">\n",
       "  <thead>\n",
       "    <tr style=\"text-align: right;\">\n",
       "      <th></th>\n",
       "      <th>BTC</th>\n",
       "      <th>ETH</th>\n",
       "      <th>LTC</th>\n",
       "    </tr>\n",
       "    <tr>\n",
       "      <th>datetime</th>\n",
       "      <th></th>\n",
       "      <th></th>\n",
       "      <th></th>\n",
       "    </tr>\n",
       "  </thead>\n",
       "  <tbody>\n",
       "    <tr>\n",
       "      <th>2021-06-06</th>\n",
       "      <td>4973.645775</td>\n",
       "      <td>8335.179883</td>\n",
       "      <td>2689.98139</td>\n",
       "    </tr>\n",
       "  </tbody>\n",
       "</table>\n",
       "</div>"
      ],
      "text/plain": [
       "                    BTC          ETH         LTC\n",
       "datetime                                        \n",
       "2021-06-06  4973.645775  8335.179883  2689.98139"
      ]
     },
     "execution_count": 32,
     "metadata": {},
     "output_type": "execute_result"
    },
    {
     "data": {
      "image/png": "[encoded data removed]",
      "text/plain": [
       "<Figure size 432x288 with 1 Axes>"
      ]
     },
     "metadata": {
      "needs_background": "light"
     },
     "output_type": "display_data"
    }
   ],
   "source": [
    "df_profit = df_return.tail(1) * budget\n",
    "\n",
    "ax = sns.barplot(data=df_profit)\n",
    "df_profit"
   ]
  },
  {
   "cell_type": "markdown",
   "metadata": {},
   "source": [
    "# Project ideas and Experiments\n",
    "\n",
    "## Stockstats\n",
    "* Using a package called stockstats, can we provide more information for trading? (see refs).  How do these trading strategies work?\n",
    "* Can you normalize the data feed for this package and then use one of the trading strategies supported by this package?\n",
    "\n",
    "To install a package try\n",
    "!pip install stockstats\n",
    "\n",
    "## Interactive Visualizations\n",
    "There is another visualization library called bokeh that creates interactive visualizations.  Can you include these in your project?"
   ]
  },
  {
   "cell_type": "markdown",
   "metadata": {},
   "source": [
    "## Experiments- Stockstats"
   ]
  },
  {
   "cell_type": "code",
   "execution_count": 43,
   "metadata": {},
   "outputs": [
    {
     "name": "stdout",
     "output_type": "stream",
     "text": [
      "Requirement already satisfied: stockstats in /Users/mike/.virtualenvs/ds1-analytics/lib/python3.9/site-packages (0.3.2)\n",
      "Requirement already satisfied: int-date>=0.1.7 in /Users/mike/.virtualenvs/ds1-analytics/lib/python3.9/site-packages (from stockstats) (0.1.8)\n",
      "Requirement already satisfied: pandas>=0.18.1 in /Users/mike/.virtualenvs/ds1-analytics/lib/python3.9/site-packages (from stockstats) (1.2.5)\n",
      "Requirement already satisfied: numpy>=1.9.2 in /Users/mike/.virtualenvs/ds1-analytics/lib/python3.9/site-packages (from stockstats) (1.21.0)\n",
      "Requirement already satisfied: six>=1.9.0 in /Users/mike/.virtualenvs/ds1-analytics/lib/python3.9/site-packages (from int-date>=0.1.7->stockstats) (1.16.0)\n",
      "Requirement already satisfied: python-dateutil>=2.4.2 in /Users/mike/.virtualenvs/ds1-analytics/lib/python3.9/site-packages (from int-date>=0.1.7->stockstats) (2.8.1)\n",
      "Requirement already satisfied: pytz>=2017.3 in /Users/mike/.virtualenvs/ds1-analytics/lib/python3.9/site-packages (from pandas>=0.18.1->stockstats) (2021.1)\n",
      "\u001b[33mWARNING: You are using pip version 21.1.3; however, version 21.3.1 is available.\n",
      "You should consider upgrading via the '/Users/mike/.virtualenvs/ds1-analytics/bin/python -m pip install --upgrade pip' command.\u001b[0m\n"
     ]
    }
   ],
   "source": [
    "!pip install stockstats"
   ]
  },
  {
   "cell_type": "markdown",
   "metadata": {},
   "source": [
    "Stockstats wraps dataframes to provide indicators\n",
    "\n",
    "In the world of investing, indicators typically refer to technical chart patterns deriving from the price, volume, or open interest of a given security. Common technical indicators include moving averages, moving average convergence divergence (MACD), relative strength index (RSI), and on-balance-volume (OBV).\n",
    "\n",
    "For example, we can take our bitcoin data, wrap it and then request indicators:\n"
   ]
  },
  {
   "cell_type": "code",
   "execution_count": 47,
   "metadata": {},
   "outputs": [
    {
     "data": {
      "text/html": [
       "<div>\n",
       "<style scoped>\n",
       "    .dataframe tbody tr th:only-of-type {\n",
       "        vertical-align: middle;\n",
       "    }\n",
       "\n",
       "    .dataframe tbody tr th {\n",
       "        vertical-align: top;\n",
       "    }\n",
       "\n",
       "    .dataframe thead th {\n",
       "        text-align: right;\n",
       "    }\n",
       "</style>\n",
       "<table border=\"1\" class=\"dataframe\">\n",
       "  <thead>\n",
       "    <tr style=\"text-align: right;\">\n",
       "      <th></th>\n",
       "      <th>macd</th>\n",
       "      <th>close_7_sma</th>\n",
       "    </tr>\n",
       "    <tr>\n",
       "      <th>datetime</th>\n",
       "      <th></th>\n",
       "      <th></th>\n",
       "    </tr>\n",
       "  </thead>\n",
       "  <tbody>\n",
       "    <tr>\n",
       "      <th>2015-12-15</th>\n",
       "      <td>0.000000</td>\n",
       "      <td>463.610000</td>\n",
       "    </tr>\n",
       "    <tr>\n",
       "      <th>2015-12-16</th>\n",
       "      <td>-0.190929</td>\n",
       "      <td>459.355000</td>\n",
       "    </tr>\n",
       "    <tr>\n",
       "      <th>2015-12-17</th>\n",
       "      <td>-0.215063</td>\n",
       "      <td>458.240000</td>\n",
       "    </tr>\n",
       "    <tr>\n",
       "      <th>2015-12-18</th>\n",
       "      <td>0.031603</td>\n",
       "      <td>459.430000</td>\n",
       "    </tr>\n",
       "    <tr>\n",
       "      <th>2015-12-19</th>\n",
       "      <td>0.083795</td>\n",
       "      <td>459.736000</td>\n",
       "    </tr>\n",
       "    <tr>\n",
       "      <th>...</th>\n",
       "      <td>...</td>\n",
       "      <td>...</td>\n",
       "    </tr>\n",
       "    <tr>\n",
       "      <th>2021-06-02</th>\n",
       "      <td>-3903.501922</td>\n",
       "      <td>36589.971429</td>\n",
       "    </tr>\n",
       "    <tr>\n",
       "      <th>2021-06-03</th>\n",
       "      <td>-3519.381262</td>\n",
       "      <td>36692.315714</td>\n",
       "    </tr>\n",
       "    <tr>\n",
       "      <th>2021-06-04</th>\n",
       "      <td>-3364.398281</td>\n",
       "      <td>36863.010000</td>\n",
       "    </tr>\n",
       "    <tr>\n",
       "      <th>2021-06-05</th>\n",
       "      <td>-3312.737675</td>\n",
       "      <td>36991.590000</td>\n",
       "    </tr>\n",
       "    <tr>\n",
       "      <th>2021-06-06</th>\n",
       "      <td>-3232.956884</td>\n",
       "      <td>36973.575714</td>\n",
       "    </tr>\n",
       "  </tbody>\n",
       "</table>\n",
       "<p>2001 rows × 2 columns</p>\n",
       "</div>"
      ],
      "text/plain": [
       "                   macd   close_7_sma\n",
       "datetime                             \n",
       "2015-12-15     0.000000    463.610000\n",
       "2015-12-16    -0.190929    459.355000\n",
       "2015-12-17    -0.215063    458.240000\n",
       "2015-12-18     0.031603    459.430000\n",
       "2015-12-19     0.083795    459.736000\n",
       "...                 ...           ...\n",
       "2021-06-02 -3903.501922  36589.971429\n",
       "2021-06-03 -3519.381262  36692.315714\n",
       "2021-06-04 -3364.398281  36863.010000\n",
       "2021-06-05 -3312.737675  36991.590000\n",
       "2021-06-06 -3232.956884  36973.575714\n",
       "\n",
       "[2001 rows x 2 columns]"
      ]
     },
     "execution_count": 47,
     "metadata": {},
     "output_type": "execute_result"
    }
   ],
   "source": [
    "from stockstats import StockDataFrame\n",
    "\n",
    "# wrap dataframe\n",
    "df_btc = StockDataFrame.retype(df_btc)\n",
    "\n",
    "df_btc[[\"macd\",\"close_7_sma\"]]"
   ]
  },
  {
   "cell_type": "markdown",
   "metadata": {},
   "source": [
    "we can plot the closing price with some indicators like moving averages."
   ]
  },
  {
   "cell_type": "code",
   "execution_count": 51,
   "metadata": {},
   "outputs": [
    {
     "data": {
      "text/plain": [
       "<AxesSubplot:xlabel='datetime'>"
      ]
     },
     "execution_count": 51,
     "metadata": {},
     "output_type": "execute_result"
    },
    {
     "data": {
      "image/png": "[encoded data removed]",
      "text/plain": [
       "<Figure size 720x1080 with 1 Axes>"
      ]
     },
     "metadata": {
      "needs_background": "light"
     },
     "output_type": "display_data"
    }
   ],
   "source": [
    "df_btc[['close','close_10_sma', 'close_50_sma']].plot(figsize=(10,15))"
   ]
  },
  {
   "cell_type": "markdown",
   "metadata": {},
   "source": [
    "Here's how to use the bokeh visualization library to create a cool interactive visualization"
   ]
  },
  {
   "cell_type": "code",
   "execution_count": 39,
   "metadata": {},
   "outputs": [
    {
     "name": "stdout",
     "output_type": "stream",
     "text": [
      "Requirement already satisfied: bokeh in /Users/mike/.virtualenvs/ds1-analytics/lib/python3.9/site-packages (2.3.3)\n",
      "Requirement already satisfied: pillow>=7.1.0 in /Users/mike/.virtualenvs/ds1-analytics/lib/python3.9/site-packages (from bokeh) (8.2.0)\n",
      "Requirement already satisfied: tornado>=5.1 in /Users/mike/.virtualenvs/ds1-analytics/lib/python3.9/site-packages (from bokeh) (6.1)\n",
      "Requirement already satisfied: Jinja2>=2.9 in /Users/mike/.virtualenvs/ds1-analytics/lib/python3.9/site-packages (from bokeh) (3.0.1)\n",
      "Requirement already satisfied: python-dateutil>=2.1 in /Users/mike/.virtualenvs/ds1-analytics/lib/python3.9/site-packages (from bokeh) (2.8.1)\n",
      "Requirement already satisfied: typing-extensions>=3.7.4 in /Users/mike/.virtualenvs/ds1-analytics/lib/python3.9/site-packages (from bokeh) (3.10.0.0)\n",
      "Requirement already satisfied: packaging>=16.8 in /Users/mike/.virtualenvs/ds1-analytics/lib/python3.9/site-packages (from bokeh) (20.9)\n",
      "Requirement already satisfied: PyYAML>=3.10 in /Users/mike/.virtualenvs/ds1-analytics/lib/python3.9/site-packages (from bokeh) (5.4.1)\n",
      "Requirement already satisfied: numpy>=1.11.3 in /Users/mike/.virtualenvs/ds1-analytics/lib/python3.9/site-packages (from bokeh) (1.21.0)\n",
      "Requirement already satisfied: MarkupSafe>=2.0 in /Users/mike/.virtualenvs/ds1-analytics/lib/python3.9/site-packages (from Jinja2>=2.9->bokeh) (2.0.1)\n",
      "Requirement already satisfied: pyparsing>=2.0.2 in /Users/mike/.virtualenvs/ds1-analytics/lib/python3.9/site-packages (from packaging>=16.8->bokeh) (2.4.7)\n",
      "Requirement already satisfied: six>=1.5 in /Users/mike/.virtualenvs/ds1-analytics/lib/python3.9/site-packages (from python-dateutil>=2.1->bokeh) (1.16.0)\n",
      "\u001b[33mWARNING: You are using pip version 21.1.3; however, version 21.3.1 is available.\n",
      "You should consider upgrading via the '/Users/mike/.virtualenvs/ds1-analytics/bin/python -m pip install --upgrade pip' command.\u001b[0m\n"
     ]
    },
    {
     "data": {
      "text/html": [
       "\n",
       "    <div class=\"bk-root\">\n",
       "        <a href=\"https://bokeh.org\" target=\"_blank\" class=\"bk-logo bk-logo-small bk-logo-notebook\"></a>\n",
       "        <span id=\"1280\">Loading BokehJS ...</span>\n",
       "    </div>"
      ]
     },
     "metadata": {},
     "output_type": "display_data"
    },
    {
     "data": {
      "application/javascript": [
       "\n",
       "(function(root) {\n",
       "  function now() {\n",
       "    return new Date();\n",
       "  }\n",
       "\n",
       "  var force = true;\n",
       "\n",
       "  if (typeof root._bokeh_onload_callbacks === \"undefined\" || force === true) {\n",
       "    root._bokeh_onload_callbacks = [];\n",
       "    root._bokeh_is_loading = undefined;\n",
       "  }\n",
       "\n",
       "  var JS_MIME_TYPE = 'application/javascript';\n",
       "  var HTML_MIME_TYPE = 'text/html';\n",
       "  var EXEC_MIME_TYPE = 'application/vnd.bokehjs_exec.v0+json';\n",
       "  var CLASS_NAME = 'output_bokeh rendered_html';\n",
       "\n",
       "  /**\n",
       "   * Render data to the DOM node\n",
       "   */\n",
       "  function render(props, node) {\n",
       "    var script = document.createElement(\"script\");\n",
       "    node.appendChild(script);\n",
       "  }\n",
       "\n",
       "  /**\n",
       "   * Handle when an output is cleared or removed\n",
       "   */\n",
       "  function handleClearOutput(event, handle) {\n",
       "    var cell = handle.cell;\n",
       "\n",
       "    var id = cell.output_area._bokeh_element_id;\n",
       "    var server_id = cell.output_area._bokeh_server_id;\n",
       "    // Clean up Bokeh references\n",
       "    if (id != null && id in Bokeh.index) {\n",
       "      Bokeh.index[id].model.document.clear();\n",
       "      delete Bokeh.index[id];\n",
       "    }\n",
       "\n",
       "    if (server_id !== undefined) {\n",
       "      // Clean up Bokeh references\n",
       "      var cmd = \"from bokeh.io.state import curstate; print(curstate().uuid_to_server['\" + server_id + \"'].get_sessions()[0].document.roots[0]._id)\";\n",
       "      cell.notebook.kernel.execute(cmd, {\n",
       "        iopub: {\n",
       "          output: function(msg) {\n",
       "            var id = msg.content.text.trim();\n",
       "            if (id in Bokeh.index) {\n",
       "              Bokeh.index[id].model.document.clear();\n",
       "              delete Bokeh.index[id];\n",
       "            }\n",
       "          }\n",
       "        }\n",
       "      });\n",
       "      // Destroy server and session\n",
       "      var cmd = \"import bokeh.io.notebook as ion; ion.destroy_server('\" + server_id + \"')\";\n",
       "      cell.notebook.kernel.execute(cmd);\n",
       "    }\n",
       "  }\n",
       "\n",
       "  /**\n",
       "   * Handle when a new output is added\n",
       "   */\n",
       "  function handleAddOutput(event, handle) {\n",
       "    var output_area = handle.output_area;\n",
       "    var output = handle.output;\n",
       "\n",
       "    // limit handleAddOutput to display_data with EXEC_MIME_TYPE content only\n",
       "    if ((output.output_type != \"display_data\") || (!Object.prototype.hasOwnProperty.call(output.data, EXEC_MIME_TYPE))) {\n",
       "      return\n",
       "    }\n",
       "\n",
       "    var toinsert = output_area.element.find(\".\" + CLASS_NAME.split(' ')[0]);\n",
       "\n",
       "    if (output.metadata[EXEC_MIME_TYPE][\"id\"] !== undefined) {\n",
       "      toinsert[toinsert.length - 1].firstChild.textContent = output.data[JS_MIME_TYPE];\n",
       "      // store reference to embed id on output_area\n",
       "      output_area._bokeh_element_id = output.metadata[EXEC_MIME_TYPE][\"id\"];\n",
       "    }\n",
       "    if (output.metadata[EXEC_MIME_TYPE][\"server_id\"] !== undefined) {\n",
       "      var bk_div = document.createElement(\"div\");\n",
       "      bk_div.innerHTML = output.data[HTML_MIME_TYPE];\n",
       "      var script_attrs = bk_div.children[0].attributes;\n",
       "      for (var i = 0; i < script_attrs.length; i++) {\n",
       "        toinsert[toinsert.length - 1].firstChild.setAttribute(script_attrs[i].name, script_attrs[i].value);\n",
       "        toinsert[toinsert.length - 1].firstChild.textContent = bk_div.children[0].textContent\n",
       "      }\n",
       "      // store reference to server id on output_area\n",
       "      output_area._bokeh_server_id = output.metadata[EXEC_MIME_TYPE][\"server_id\"];\n",
       "    }\n",
       "  }\n",
       "\n",
       "  function register_renderer(events, OutputArea) {\n",
       "\n",
       "    function append_mime(data, metadata, element) {\n",
       "      // create a DOM node to render to\n",
       "      var toinsert = this.create_output_subarea(\n",
       "        metadata,\n",
       "        CLASS_NAME,\n",
       "        EXEC_MIME_TYPE\n",
       "      );\n",
       "      this.keyboard_manager.register_events(toinsert);\n",
       "      // Render to node\n",
       "      var props = {data: data, metadata: metadata[EXEC_MIME_TYPE]};\n",
       "      render(props, toinsert[toinsert.length - 1]);\n",
       "      element.append(toinsert);\n",
       "      return toinsert\n",
       "    }\n",
       "\n",
       "    /* Handle when an output is cleared or removed */\n",
       "    events.on('clear_output.CodeCell', handleClearOutput);\n",
       "    events.on('delete.Cell', handleClearOutput);\n",
       "\n",
       "    /* Handle when a new output is added */\n",
       "    events.on('output_added.OutputArea', handleAddOutput);\n",
       "\n",
       "    /**\n",
       "     * Register the mime type and append_mime function with output_area\n",
       "     */\n",
       "    OutputArea.prototype.register_mime_type(EXEC_MIME_TYPE, append_mime, {\n",
       "      /* Is output safe? */\n",
       "      safe: true,\n",
       "      /* Index of renderer in `output_area.display_order` */\n",
       "      index: 0\n",
       "    });\n",
       "  }\n",
       "\n",
       "  // register the mime type if in Jupyter Notebook environment and previously unregistered\n",
       "  if (root.Jupyter !== undefined) {\n",
       "    var events = require('base/js/events');\n",
       "    var OutputArea = require('notebook/js/outputarea').OutputArea;\n",
       "\n",
       "    if (OutputArea.prototype.mime_types().indexOf(EXEC_MIME_TYPE) == -1) {\n",
       "      register_renderer(events, OutputArea);\n",
       "    }\n",
       "  }\n",
       "\n",
       "  \n",
       "  if (typeof (root._bokeh_timeout) === \"undefined\" || force === true) {\n",
       "    root._bokeh_timeout = Date.now() + 5000;\n",
       "    root._bokeh_failed_load = false;\n",
       "  }\n",
       "\n",
       "  var NB_LOAD_WARNING = {'data': {'text/html':\n",
       "     \"<div style='background-color: #fdd'>\\n\"+\n",
       "     \"<p>\\n\"+\n",
       "     \"BokehJS does not appear to have successfully loaded. If loading BokehJS from CDN, this \\n\"+\n",
       "     \"may be due to a slow or bad network connection. Possible fixes:\\n\"+\n",
       "     \"</p>\\n\"+\n",
       "     \"<ul>\\n\"+\n",
       "     \"<li>re-rerun `output_notebook()` to attempt to load from CDN again, or</li>\\n\"+\n",
       "     \"<li>use INLINE resources instead, as so:</li>\\n\"+\n",
       "     \"</ul>\\n\"+\n",
       "     \"<code>\\n\"+\n",
       "     \"from bokeh.resources import INLINE\\n\"+\n",
       "     \"output_notebook(resources=INLINE)\\n\"+\n",
       "     \"</code>\\n\"+\n",
       "     \"</div>\"}};\n",
       "\n",
       "  function display_loaded() {\n",
       "    var el = document.getElementById(\"1280\");\n",
       "    if (el != null) {\n",
       "      el.textContent = \"BokehJS is loading...\";\n",
       "    }\n",
       "    if (root.Bokeh !== undefined) {\n",
       "      if (el != null) {\n",
       "        el.textContent = \"BokehJS \" + root.Bokeh.version + \" successfully loaded.\";\n",
       "      }\n",
       "    } else if (Date.now() < root._bokeh_timeout) {\n",
       "      setTimeout(display_loaded, 100)\n",
       "    }\n",
       "  }\n",
       "\n",
       "\n",
       "  function run_callbacks() {\n",
       "    try {\n",
       "      root._bokeh_onload_callbacks.forEach(function(callback) {\n",
       "        if (callback != null)\n",
       "          callback();\n",
       "      });\n",
       "    } finally {\n",
       "      delete root._bokeh_onload_callbacks\n",
       "    }\n",
       "    console.debug(\"Bokeh: all callbacks have finished\");\n",
       "  }\n",
       "\n",
       "  function load_libs(css_urls, js_urls, callback) {\n",
       "    if (css_urls == null) css_urls = [];\n",
       "    if (js_urls == null) js_urls = [];\n",
       "\n",
       "    root._bokeh_onload_callbacks.push(callback);\n",
       "    if (root._bokeh_is_loading > 0) {\n",
       "      console.debug(\"Bokeh: BokehJS is being loaded, scheduling callback at\", now());\n",
       "      return null;\n",
       "    }\n",
       "    if (js_urls == null || js_urls.length === 0) {\n",
       "      run_callbacks();\n",
       "      return null;\n",
       "    }\n",
       "    console.debug(\"Bokeh: BokehJS not loaded, scheduling load and callback at\", now());\n",
       "    root._bokeh_is_loading = css_urls.length + js_urls.length;\n",
       "\n",
       "    function on_load() {\n",
       "      root._bokeh_is_loading--;\n",
       "      if (root._bokeh_is_loading === 0) {\n",
       "        console.debug(\"Bokeh: all BokehJS libraries/stylesheets loaded\");\n",
       "        run_callbacks()\n",
       "      }\n",
       "    }\n",
       "\n",
       "    function on_error(url) {\n",
       "      console.error(\"failed to load \" + url);\n",
       "    }\n",
       "\n",
       "    for (let i = 0; i < css_urls.length; i++) {\n",
       "      const url = css_urls[i];\n",
       "      const element = document.createElement(\"link\");\n",
       "      element.onload = on_load;\n",
       "      element.onerror = on_error.bind(null, url);\n",
       "      element.rel = \"stylesheet\";\n",
       "      element.type = \"text/css\";\n",
       "      element.href = url;\n",
       "      console.debug(\"Bokeh: injecting link tag for BokehJS stylesheet: \", url);\n",
       "      document.body.appendChild(element);\n",
       "    }\n",
       "\n",
       "    const hashes = {\"https://cdn.bokeh.org/bokeh/release/bokeh-2.3.3.min.js\": \"dM3QQsP+wXdHg42wTqW85BjZQdLNNIXqlPw/BgKoExPmTG7ZLML4EGqLMfqHT6ON\", \"https://cdn.bokeh.org/bokeh/release/bokeh-tables-2.3.3.min.js\": \"8x57I4YuIfu8XyZfFo0XVr2WAT8EK4rh/uDe3wF7YuW2FNUSNEpJbsPaB1nJ2fz2\", \"https://cdn.bokeh.org/bokeh/release/bokeh-widgets-2.3.3.min.js\": \"3QTqdz9LyAm2i0sG5XTePsHec3UHWwVsrOL68SYRoAXsafvfAyqtQ+h440+qIBhS\"};\n",
       "\n",
       "    for (let i = 0; i < js_urls.length; i++) {\n",
       "      const url = js_urls[i];\n",
       "      const element = document.createElement('script');\n",
       "      element.onload = on_load;\n",
       "      element.onerror = on_error.bind(null, url);\n",
       "      element.async = false;\n",
       "      element.src = url;\n",
       "      if (url in hashes) {\n",
       "        element.crossOrigin = \"anonymous\";\n",
       "        element.integrity = \"sha384-\" + hashes[url];\n",
       "      }\n",
       "      console.debug(\"Bokeh: injecting script tag for BokehJS library: \", url);\n",
       "      document.head.appendChild(element);\n",
       "    }\n",
       "  };\n",
       "\n",
       "  function inject_raw_css(css) {\n",
       "    const element = document.createElement(\"style\");\n",
       "    element.appendChild(document.createTextNode(css));\n",
       "    document.body.appendChild(element);\n",
       "  }\n",
       "\n",
       "  \n",
       "  var js_urls = [\"https://cdn.bokeh.org/bokeh/release/bokeh-2.3.3.min.js\", \"https://cdn.bokeh.org/bokeh/release/bokeh-widgets-2.3.3.min.js\", \"https://cdn.bokeh.org/bokeh/release/bokeh-tables-2.3.3.min.js\"];\n",
       "  var css_urls = [];\n",
       "  \n",
       "\n",
       "  var inline_js = [\n",
       "    function(Bokeh) {\n",
       "      Bokeh.set_log_level(\"info\");\n",
       "    },\n",
       "    function(Bokeh) {\n",
       "    \n",
       "    \n",
       "    }\n",
       "  ];\n",
       "\n",
       "  function run_inline_js() {\n",
       "    \n",
       "    if (root.Bokeh !== undefined || force === true) {\n",
       "      \n",
       "    for (var i = 0; i < inline_js.length; i++) {\n",
       "      inline_js[i].call(root, root.Bokeh);\n",
       "    }\n",
       "    if (force === true) {\n",
       "        display_loaded();\n",
       "      }} else if (Date.now() < root._bokeh_timeout) {\n",
       "      setTimeout(run_inline_js, 100);\n",
       "    } else if (!root._bokeh_failed_load) {\n",
       "      console.log(\"Bokeh: BokehJS failed to load within specified timeout.\");\n",
       "      root._bokeh_failed_load = true;\n",
       "    } else if (force !== true) {\n",
       "      var cell = $(document.getElementById(\"1280\")).parents('.cell').data().cell;\n",
       "      cell.output_area.append_execute_result(NB_LOAD_WARNING)\n",
       "    }\n",
       "\n",
       "  }\n",
       "\n",
       "  if (root._bokeh_is_loading === 0) {\n",
       "    console.debug(\"Bokeh: BokehJS loaded, going straight to plotting\");\n",
       "    run_inline_js();\n",
       "  } else {\n",
       "    load_libs(css_urls, js_urls, function() {\n",
       "      console.debug(\"Bokeh: BokehJS plotting callback run at\", now());\n",
       "      run_inline_js();\n",
       "    });\n",
       "  }\n",
       "}(window));"
      ],
      "application/vnd.bokehjs_load.v0+json": "\n(function(root) {\n  function now() {\n    return new Date();\n  }\n\n  var force = true;\n\n  if (typeof root._bokeh_onload_callbacks === \"undefined\" || force === true) {\n    root._bokeh_onload_callbacks = [];\n    root._bokeh_is_loading = undefined;\n  }\n\n  \n\n  \n  if (typeof (root._bokeh_timeout) === \"undefined\" || force === true) {\n    root._bokeh_timeout = Date.now() + 5000;\n    root._bokeh_failed_load = false;\n  }\n\n  var NB_LOAD_WARNING = {'data': {'text/html':\n     \"<div style='background-color: #fdd'>\\n\"+\n     \"<p>\\n\"+\n     \"BokehJS does not appear to have successfully loaded. If loading BokehJS from CDN, this \\n\"+\n     \"may be due to a slow or bad network connection. Possible fixes:\\n\"+\n     \"</p>\\n\"+\n     \"<ul>\\n\"+\n     \"<li>re-rerun `output_notebook()` to attempt to load from CDN again, or</li>\\n\"+\n     \"<li>use INLINE resources instead, as so:</li>\\n\"+\n     \"</ul>\\n\"+\n     \"<code>\\n\"+\n     \"from bokeh.resources import INLINE\\n\"+\n     \"output_notebook(resources=INLINE)\\n\"+\n     \"</code>\\n\"+\n     \"</div>\"}};\n\n  function display_loaded() {\n    var el = document.getElementById(\"1280\");\n    if (el != null) {\n      el.textContent = \"BokehJS is loading...\";\n    }\n    if (root.Bokeh !== undefined) {\n      if (el != null) {\n        el.textContent = \"BokehJS \" + root.Bokeh.version + \" successfully loaded.\";\n      }\n    } else if (Date.now() < root._bokeh_timeout) {\n      setTimeout(display_loaded, 100)\n    }\n  }\n\n\n  function run_callbacks() {\n    try {\n      root._bokeh_onload_callbacks.forEach(function(callback) {\n        if (callback != null)\n          callback();\n      });\n    } finally {\n      delete root._bokeh_onload_callbacks\n    }\n    console.debug(\"Bokeh: all callbacks have finished\");\n  }\n\n  function load_libs(css_urls, js_urls, callback) {\n    if (css_urls == null) css_urls = [];\n    if (js_urls == null) js_urls = [];\n\n    root._bokeh_onload_callbacks.push(callback);\n    if (root._bokeh_is_loading > 0) {\n      console.debug(\"Bokeh: BokehJS is being loaded, scheduling callback at\", now());\n      return null;\n    }\n    if (js_urls == null || js_urls.length === 0) {\n      run_callbacks();\n      return null;\n    }\n    console.debug(\"Bokeh: BokehJS not loaded, scheduling load and callback at\", now());\n    root._bokeh_is_loading = css_urls.length + js_urls.length;\n\n    function on_load() {\n      root._bokeh_is_loading--;\n      if (root._bokeh_is_loading === 0) {\n        console.debug(\"Bokeh: all BokehJS libraries/stylesheets loaded\");\n        run_callbacks()\n      }\n    }\n\n    function on_error(url) {\n      console.error(\"failed to load \" + url);\n    }\n\n    for (let i = 0; i < css_urls.length; i++) {\n      const url = css_urls[i];\n      const element = document.createElement(\"link\");\n      element.onload = on_load;\n      element.onerror = on_error.bind(null, url);\n      element.rel = \"stylesheet\";\n      element.type = \"text/css\";\n      element.href = url;\n      console.debug(\"Bokeh: injecting link tag for BokehJS stylesheet: \", url);\n      document.body.appendChild(element);\n    }\n\n    const hashes = {\"https://cdn.bokeh.org/bokeh/release/bokeh-2.3.3.min.js\": \"dM3QQsP+wXdHg42wTqW85BjZQdLNNIXqlPw/BgKoExPmTG7ZLML4EGqLMfqHT6ON\", \"https://cdn.bokeh.org/bokeh/release/bokeh-tables-2.3.3.min.js\": \"8x57I4YuIfu8XyZfFo0XVr2WAT8EK4rh/uDe3wF7YuW2FNUSNEpJbsPaB1nJ2fz2\", \"https://cdn.bokeh.org/bokeh/release/bokeh-widgets-2.3.3.min.js\": \"3QTqdz9LyAm2i0sG5XTePsHec3UHWwVsrOL68SYRoAXsafvfAyqtQ+h440+qIBhS\"};\n\n    for (let i = 0; i < js_urls.length; i++) {\n      const url = js_urls[i];\n      const element = document.createElement('script');\n      element.onload = on_load;\n      element.onerror = on_error.bind(null, url);\n      element.async = false;\n      element.src = url;\n      if (url in hashes) {\n        element.crossOrigin = \"anonymous\";\n        element.integrity = \"sha384-\" + hashes[url];\n      }\n      console.debug(\"Bokeh: injecting script tag for BokehJS library: \", url);\n      document.head.appendChild(element);\n    }\n  };\n\n  function inject_raw_css(css) {\n    const element = document.createElement(\"style\");\n    element.appendChild(document.createTextNode(css));\n    document.body.appendChild(element);\n  }\n\n  \n  var js_urls = [\"https://cdn.bokeh.org/bokeh/release/bokeh-2.3.3.min.js\", \"https://cdn.bokeh.org/bokeh/release/bokeh-widgets-2.3.3.min.js\", \"https://cdn.bokeh.org/bokeh/release/bokeh-tables-2.3.3.min.js\"];\n  var css_urls = [];\n  \n\n  var inline_js = [\n    function(Bokeh) {\n      Bokeh.set_log_level(\"info\");\n    },\n    function(Bokeh) {\n    \n    \n    }\n  ];\n\n  function run_inline_js() {\n    \n    if (root.Bokeh !== undefined || force === true) {\n      \n    for (var i = 0; i < inline_js.length; i++) {\n      inline_js[i].call(root, root.Bokeh);\n    }\n    if (force === true) {\n        display_loaded();\n      }} else if (Date.now() < root._bokeh_timeout) {\n      setTimeout(run_inline_js, 100);\n    } else if (!root._bokeh_failed_load) {\n      console.log(\"Bokeh: BokehJS failed to load within specified timeout.\");\n      root._bokeh_failed_load = true;\n    } else if (force !== true) {\n      var cell = $(document.getElementById(\"1280\")).parents('.cell').data().cell;\n      cell.output_area.append_execute_result(NB_LOAD_WARNING)\n    }\n\n  }\n\n  if (root._bokeh_is_loading === 0) {\n    console.debug(\"Bokeh: BokehJS loaded, going straight to plotting\");\n    run_inline_js();\n  } else {\n    load_libs(css_urls, js_urls, function() {\n      console.debug(\"Bokeh: BokehJS plotting callback run at\", now());\n      run_inline_js();\n    });\n  }\n}(window));"
     },
     "metadata": {},
     "output_type": "display_data"
    }
   ],
   "source": [
    "!pip install bokeh\n",
    "import numpy as np\n",
    "from bokeh.plotting import figure, show\n",
    "from bokeh.io import output_notebook\n",
    "\n",
    "# Call once to configure Bokeh to display plots inline in the notebook.\n",
    "output_notebook()"
   ]
  },
  {
   "cell_type": "code",
   "execution_count": 40,
   "metadata": {},
   "outputs": [
    {
     "data": {
      "text/html": [
       "\n",
       "\n",
       "\n",
       "\n",
       "\n",
       "\n",
       "  <div class=\"bk-root\" id=\"c3ebbaa6-a7f3-40f3-9bb6-86da2a763730\" data-root-id=\"1281\"></div>\n"
      ]
     },
     "metadata": {},
     "output_type": "display_data"
    },
    {
     "data": {
      "application/javascript": [
       "(function(root) {\n",
       "  function embed_document(root) {\n",
       "    \n",
       "  var docs_json = {\"dbf1dc26-473b-41ef-876a-e54f9ceccbfe\":{\"defs\":[],\"roots\":{\"references\":[{\"attributes\":{\"below\":[{\"id\":\"1290\"}],\"center\":[{\"id\":\"1293\"},{\"id\":\"1297\"}],\"left\":[{\"id\":\"1294\"}],\"renderers\":[{\"id\":\"1316\"},{\"id\":\"1321\"},{\"id\":\"1326\"}],\"title\":{\"id\":\"1328\"},\"toolbar\":{\"id\":\"1305\"},\"x_range\":{\"id\":\"1282\"},\"x_scale\":{\"id\":\"1286\"},\"y_range\":{\"id\":\"1284\"},\"y_scale\":{\"id\":\"1288\"}},\"id\":\"1281\",\"subtype\":\"Figure\",\"type\":\"Plot\"},{\"attributes\":{\"line_color\":\"red\",\"line_width\":2,\"x\":{\"field\":\"datetime\"},\"y\":{\"field\":\"BTC\"}},\"id\":\"1314\",\"type\":\"Line\"},{\"attributes\":{\"base\":60,\"mantissas\":[1,2,5,10,15,20,30],\"max_interval\":1800000.0,\"min_interval\":1000.0,\"num_minor_ticks\":0},\"id\":\"1340\",\"type\":\"AdaptiveTicker\"},{\"attributes\":{\"base\":24,\"mantissas\":[1,2,4,6,8,12],\"max_interval\":43200000.0,\"min_interval\":3600000.0,\"num_minor_ticks\":0},\"id\":\"1341\",\"type\":\"AdaptiveTicker\"},{\"attributes\":{},\"id\":\"1350\",\"type\":\"YearsTicker\"},{\"attributes\":{},\"id\":\"1288\",\"type\":\"LinearScale\"},{\"attributes\":{\"months\":[0,1,2,3,4,5,6,7,8,9,10,11]},\"id\":\"1346\",\"type\":\"MonthsTicker\"},{\"attributes\":{\"days\":[1,15]},\"id\":\"1345\",\"type\":\"DaysTicker\"},{\"attributes\":{\"data_source\":{\"id\":\"1312\"},\"glyph\":{\"id\":\"1324\"},\"hover_glyph\":null,\"muted_glyph\":null,\"nonselection_glyph\":{\"id\":\"1325\"},\"view\":{\"id\":\"1327\"}},\"id\":\"1326\",\"type\":\"GlyphRenderer\"},{\"attributes\":{\"data_source\":{\"id\":\"1312\"},\"glyph\":{\"id\":\"1319\"},\"hover_glyph\":null,\"muted_glyph\":null,\"nonselection_glyph\":{\"id\":\"1320\"},\"view\":{\"id\":\"1322\"}},\"id\":\"1321\",\"type\":\"GlyphRenderer\"},{\"attributes\":{},\"id\":\"1299\",\"type\":\"WheelZoomTool\"},{\"attributes\":{},\"id\":\"1295\",\"type\":\"BasicTicker\"},{\"attributes\":{\"line_color\":\"blue\",\"line_width\":2,\"x\":{\"field\":\"datetime\"},\"y\":{\"field\":\"ETH\"}},\"id\":\"1319\",\"type\":\"Line\"},{\"attributes\":{\"days\":[1,2,3,4,5,6,7,8,9,10,11,12,13,14,15,16,17,18,19,20,21,22,23,24,25,26,27,28,29,30,31]},\"id\":\"1342\",\"type\":\"DaysTicker\"},{\"attributes\":{\"data\":{\"BTC\":{\"__ndarray__\":\"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\",\"dtype\":\"float64\",\"order\":\"little\",\"shape\":[1306]},\"ETH\":{\"__ndarray__\":\"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\",\"dtype\":\"float64\",\"order\":\"little\",\"shape\":[1306]},\"LTC\":{\"__ndarray__\":\"H4XrUbgeUEAK16NwPYpNQFyPwvUoPE9AmpmZmZlZTUCkcD0K14NOQB+F61G4/k5ArkfhehSuT0AAAAAAAJBRQK5H4XoUzlBAhetRuB5VUUCkcD0K1+NRQM3MzMzM7FFASOF6FK5nUUAAAAAAAABSQD0K16NwLVJAUrgehethU0AAAAAAABBWQOxRuB6FW1VAAAAAAACgVkD2KFyPwmVXQClcj8L1GFVArkfhehR+VUBcj8L1KFxYQOF6FK5H0VhAFK5H4Xo0WUAAAAAAAOBZQOF6FK5HAVlA9ihcj8IVWEDD9Shcj3JXQNejcD0KR15ASOF6FK6PYkAzMzMzM9thQOF6FK5HAWpACtejcD02c0A9CtejcM1yQGZmZmZmKnFAPQrXo3B1ckBxPQrXo2xyQKRwPQrXp3NAUrgehetRdkAAAAAAAKB1QD0K16NwHXNAAAAAAAAgc0BI4XoUro9wQOxRuB6Fl3FA7FG4HoUvcUA9CtejcMlwQAAAAAAAcHFApHA9CteHcEBmZmZmZj5vQAAAAAAAAG5APQrXo3BlakCF61G4HmVsQArXo3A98mtA4XoUrkdZb0ApXI/C9YBuQM3MzMzMvG1AFK5H4XqkbkBI4XoUrm9xQFK4HoXr8XBAj8L1KFzHb0BSuB6F67luQArXo3A9Mm9AXI/C9ShcbECkcD0K12ttQHE9CtejKHBA4XoUrkeZbUDD9ShcjwptQK5H4XoUnmdA4XoUrkeZZ0BSuB6F6xloQMP1KFyPEmhACtejcD1iakAAAAAAAOBnQClcj8L1YGZAhetRuB4tZkDNzMzMzJxmQAAAAAAAYGZAPQrXo3D9ZUCkcD0K18NmQLgehetROGhAw/UoXI+CZkBSuB6F62lkQAAAAAAAYGRASOF6FK6fYUCF61G4HlVgQHE9CtejEGRAhetRuB59YkCuR+F6FD5fQHE9Ctej4GFAhetRuB41YUBmZmZmZr5iQGZmZmZmdmRA16NwPQpHY0BxPQrXo6BiQI/C9ShcD2RArkfhehTmY0D2KFyPwpVqQFK4HoXrqWtAMzMzMzOLbEDhehSuR6lsQOF6FK5H0WpAH4XrUbi+a0BmZmZmZqZsQAAAAAAAOGpA9ihcj8IVaEAK16NwPeppQEjhehSup2lAFK5H4XpUa0B7FK5H4UJrQJqZmZmZ6WpAw/UoXI86aUDD9ShcjypqQGZmZmZmlmpAAAAAAABAakCamZmZmZlqQLgehetRSGpAcT0K16OIaEBmZmZmZjZnQOF6FK5H+WVA9ihcj8JFZ0BI4XoUrjdmQArXo3A9kmdAH4XrUbg2ZkDD9Shcj+plQKRwPQrXE2RA4XoUrkeRZED2KFyPwpVkQI/C9ShcB2NAexSuR+EyY0DhehSuRylkQOF6FK5HIWVAhetRuB4NZUAAAAAAAIBkQIXrUbgeHWVAexSuR+HKY0DhehSuRwlkQHE9CtejiGJAuB6F61HgYECkcD0K12tgQHE9CtejoFxAFK5H4XqUXUAfhetRuB5dQD0K16NwvVxA4XoUrkfBXUApXI/C9chgQArXo3A9ml1ArkfhehSeXUAK16NwPUpcQMP1KFyPAl1ApHA9CtdjXUCF61G4HrVcQJqZmZmZmVxACtejcD16XUBxPQrXozhgQHsUrkfhal9ApHA9CtejX0DhehSuR4lgQEjhehSuF2BAXI/C9SiEYEAK16NwPYJhQFyPwvUoVGJAH4XrUbhuY0DNzMzMzJRiQHE9CtejQGJA7FG4HoUTY0AK16NwPZpkQEjhehSuH2JAuB6F61EoY0AK16NwPUJiQPYoXI/CBWNAPQrXo3A9Y0ApXI/C9YhiQK5H4XoUfmJAPQrXo3DtYkBmZmZmZh5kQFK4HoXrAWVAMzMzMzNDZkBxPQrXo3hlQFyPwvUohGRAH4XrUbjeY0CkcD0K15NjQEjhehSuj2JApHA9CtcTYUCF61G4Hr1hQFyPwvUoBGJA4XoUrkdxYkApXI/C9XhhQNejcD0Kd2FAAAAAAACQYEAAAAAAAPhgQJqZmZmZ6WBA7FG4HoV7YUCkcD0K18tgQB+F61G4BmBAzczMzMy8XUBI4XoUrrdeQAAAAAAAwF1AzczMzMycXUA9CtejcG1dQGZmZmZm1ltAmpmZmZm5XUCuR+F6FE5dQGZmZmZmhl1AH4XrUbgOXkDhehSuR+FeQI/C9ShcP19ACtejcD36XUCPwvUoXH9eQD0K16NwTV5AcT0K16NQXkBcj8L1KAxeQMP1KFyPYl1AZmZmZma2WkDXo3A9CtdaQGZmZmZmBllAhetRuB5lV0CPwvUoXD9ZQOxRuB6F21dAPQrXo3AdWEAAAAAAAMBXQHsUrkfhqlhAexSuR+GqWEB7FK5H4XpYQM3MzMzMLFhAPQrXo3A9VUAUrkfhesRUQAAAAAAAMFRA7FG4HoVrVEBxPQrXowBTQFK4HoXrMVRAUrgeheuRUkBSuB6F68FTQM3MzMzMTFRACtejcD36U0B7FK5H4VpVQI/C9ShcP1VAj8L1KFxPVUD2KFyPwsVUQLgehetRyFRAw/UoXI9CVUBSuB6F65FUQHsUrkfhGlRASOF6FK73UkAAAAAAAJBTQJqZmZmZOVNAzczMzMwsU0AfhetRuA5TQGZmZmZmplNAAAAAAADwVEAK16NwPUpWQKRwPQrXg1VA9ihcj8KFVUApXI/C9WhUQHE9Ctej4FRA9ihcj8KVVEAzMzMzM1NUQOF6FK5HUVZAUrgeheuRVUBxPQrXo+BUQB+F61G4HlVAzczMzMwMVUAzMzMzMwNVQB+F61G4jlRA16NwPQq3U0A9CtejcG1TQB+F61G4DlNAexSuR+FqU0BxPQrXo0BSQAAAAAAAsFJAj8L1KFxfUkBI4XoUrtdQQDMzMzMzE09APQrXo3B9T0AzMzMzM5NNQIXrUbge5UxAH4XrUbieTUAAAAAAAEBMQAAAAAAAIEtAUrgehesxS0AAAAAAAKBLQKRwPQrX405A9ihcj8KVTEAzMzMzM/NMQHsUrkfhukpAXI/C9Sg8TEAzMzMzM5NLQAAAAAAAoExAexSuR+H6TEC4HoXrUfhMQMP1KFyPgkxAcT0K16NQTkBxPQrXo5BPQLgehetRuE5AzczMzMwMTkAzMzMzMxNPQM3MzMzMnFBASOF6FK6HUECkcD0K11NQQGZmZmZm5lBAexSuR+HaTEBI4XoUrqdMQNejcD0K10tAmpmZmZl5SkC4HoXrUVhLQGZmZmZmJktA9ihcj8L1SUAUrkfhetRJQLgehetROEtAZmZmZmYmTEDNzMzMzCxMQOF6FK5HYUxAPQrXo3AdSkCuR+F6FO5KQPYoXI/CFUtAAAAAAABATEDsUbgehWtOQKRwPQrXQ05Aj8L1KFyvTkDXo3A9CvdMQLgehetRuExAAAAAAACgTEBI4XoUrodPQI/C9Shcz05AmpmZmZmZTkAK16NwPWpOQGZmZmZmBk5AH4XrUbh+TUDXo3A9CpdMQNejcD0K90xACtejcD1KTUCPwvUoXO9MQAAAAAAAAE1Aj8L1KFyPTUDNzMzMzCxNQHE9CtejsExAMzMzMzNTSUD2KFyPwnVKQNejcD0KV0pA9ihcj8KVSUD2KFyPwrVKQGZmZmZmhkpAZmZmZmZmSkDD9Shcj+JJQHE9CtejMEpA4XoUrkdhSkAUrkfhehRKQDMzMzMz00lAzczMzMwMSkCPwvUoXO9JQM3MzMzM7ElA9ihcj8LVSUAfhetRuL5JQIXrUbgexUlAhetRuB5FSEB7FK5H4XpIQI/C9Shcr0hAuB6F61EYSUAfhetRuH5JQClcj8L1SElAw/UoXI8CS0AfhetRuL5KQBSuR+F69EtAj8L1KFzvSkAAAAAAAABKQLgehetR2ElAuB6F61HYSUAzMzMzM1NJQKRwPQrXI0lAUrgehetxSEDXo3A9CldFQKRwPQrXo0VAKVyPwvXoREDsUbgehctEQArXo3A96kRASOF6FK7nQUBmZmZmZiZAQIXrUbgeJUFAzczMzMxMP0CF61G4HsU/QNejcD0KlzxArkfhehRuPkDXo3A9Chc9QI/C9Shczz5AKVyPwvUoQUBmZmZmZsZAQClcj8L1qD9AFK5H4XrUQEDD9Shcj6JAQMP1KFyPgj5AMzMzMzOzPkDD9Shcj8I8QBSuR+F6VDpAj8L1KFzPOEAfhetRuB44QArXo3A9SjlAw/UoXI8COEC4HoXrUTg3QD0K16Nw/TdAUrgehevRNkBSuB6F6xE3QPYoXI/CdTdAMzMzMzMzOUApXI/C9eg8QBSuR+F6FD5AUrgehesRPUDNzMzMzCxAQDMzMzMzMz5A16NwPQqXP0CuR+F6FI5AQOxRuB6Fa0BAexSuR+G6PkAK16NwPYo+QPYoXI/CtTtAAAAAAAAgQEDD9Shcj4I+QIXrUbgehT9AZmZmZmbmPUBxPQrXo3A/QAAAAAAAgEBApHA9CtejP0B7FK5H4RpAQJqZmZmZOUFAXI/C9Sh8Q0CuR+F6FM5CQBSuR+F6lENA4XoUrkdBQ0DD9Shcj6JAQGZmZmZmpj9AzczMzMwMQECkcD0K1+M9QAAAAAAAAEBA16NwPQoXP0DsUbgehWs/QFyPwvUonD9A7FG4HoXrPkC4HoXrURhAQJqZmZmZmT5ApHA9CtfjPkBI4XoUroc/QB+F61G4nj9APQrXo3A9QEAAAAAAAGBAQOF6FK5HYUBACtejcD0KQEAfhetRuN4+QAAAAAAAwD5AXI/C9SicP0DD9Shcj0I/QKRwPQrXI0BAMzMzMzMTQUAAAAAAAIBAQLgehetR2EBAMzMzMzPzQEAfhetRuD5AQAAAAAAAYEBAw/UoXI9iRUC4HoXrURhGQGZmZmZmJkdAPQrXo3A9RUCF61G4HqVFQJqZmZmZmURA16NwPQp3REAzMzMzMxNFQNejcD0Kd0VAH4XrUbi+RUApXI/C9ahHQFK4HoXrcUdApHA9CteDSUAfhetRuD5IQOxRuB6Fi0hAAAAAAACgSUBSuB6F69FFQArXo3A9qkZAj8L1KFxPRkCPwvUoXG9GQMP1KFyPwkZA9ihcj8J1R0CuR+F6FC5IQDMzMzMz00dAXI/C9SjcRkBI4XoUridKQClcj8L1qEtAhetRuB5FTECF61G4HqVLQIXrUbgexUxApHA9CtcjTEBxPQrXo1BLQMP1KFyPIkxACtejcD2qS0B7FK5H4dpLQLgehetRGE1A9ihcj8J1TkAfhetRuB5OQFyPwvUofE1AXI/C9SicTUCuR+F6FA5OQM3MzMzMTE1AZmZmZmamTUBxPQrXozBOQClcj8L1yE1A9ihcj8JVTUAK16NwPSpNQAAAAAAAoE5A16NwPQoXTkAUrkfhepROQJqZmZmZGU5AFK5H4Xo0TkDXo3A9CjdOQBSuR+F6ZFNAexSuR+FqVUB7FK5H4SpVQGZmZmZmJlZAmpmZmZkpV0AUrkfhevRWQClcj8L1aFZAzczMzMy8VUD2KFyPwgVWQFyPwvUo3FNA9ihcj8LFU0CuR+F6FH5TQD0K16Nw7VRAZmZmZmaWU0CF61G4HkVUQOF6FK5H0VNAhetRuB6FVEDNzMzMzJxUQK5H4XoUXlRAcT0K16NgU0AzMzMzMzNTQArXo3A9ilJA16NwPQpHUkAAAAAAALBRQM3MzMzM7FFA4XoUrkeRUUApXI/C9ehQQAAAAAAAoFBAexSuR+FKUkBSuB6F6yFSQM3MzMzMHFJAAAAAAABwU0CkcD0K11NTQAAAAAAAsFJAAAAAAACQUkAAAAAAAFBSQFyPwvUobFJAzczMzMx8UkBxPQrXozBTQLgehetR+FVAPQrXo3AtVUBI4XoUrvdVQI/C9Shc31ZAmpmZmZmJWUDsUbgehetXQGZmZmZmdlZA7FG4HoW7VUAAAAAAAMBXQDMzMzMz41ZA7FG4HoXbVkA9CtejcO1VQB+F61G4PlZA16NwPQonWUBmZmZmZsZZQAAAAAAAMFxAKVyPwvUYXUC4HoXrUbhcQD0K16NwzVxAexSuR+EKW0A9CtejcI1cQOF6FK5HEVxAUrgeheuxXEDNzMzMzHxaQAAAAAAAgFlAAAAAAAAAWkBmZmZmZtZbQJqZmZmZSV1AcT0K16OgXUAUrkfhesRcQD0K16NwPWBA4XoUrkcJYUDXo3A9Cv9gQK5H4XoUXmBAzczMzMycYEBSuB6F60FhQOF6FK5HGWFAAAAAAADAYEAAAAAAAOBgQKRwPQrXE2FAcT0K16PwYEBcj8L1KFxhQB+F61G4rmFArkfhehQOYUDXo3A9CudgQB+F61G49mBAKVyPwvVQYEDNzMzMzHxcQIXrUbge1V1A7FG4HoWrYEBxPQrXo4BeQI/C9Shcn15ASOF6FK6nXUAUrkfhenReQDMzMzMz411AZmZmZmamXUCamZmZmYldQNejcD0KB15ASOF6FK7XXkDD9Shcj9JdQKRwPQrXE1tA4XoUrkfRWUApXI/C9UhaQNejcD0KR1lAH4XrUbhuVkDXo3A9CqdWQPYoXI/C5VNAZmZmZmaWVkDNzMzMzExZQDMzMzMzs1hAAAAAAAAgWUAzMzMzM/NYQD0K16NwzVdA4XoUrkdxVkDsUbgehZtXQHsUrkfhWldAZmZmZmaGV0CkcD0K1zNWQKRwPQrXg1ZAUrgeheuRVkDXo3A9CpdWQFK4HoXrsVhAj8L1KFy/WEDNzMzMzKxXQKRwPQrXk1dAhetRuB5FV0DsUbgehQtYQEjhehSuR1dAZmZmZmamVkCPwvUoXH9WQI/C9ShcD1VAmpmZmZlJVUBmZmZmZnZWQHsUrkfhalVAZmZmZmYWVUBI4XoUrudSQFyPwvUoDFNAj8L1KFy/UkBSuB6F6zFSQM3MzMzMDFNAXI/C9ShMU0DXo3A9CsdSQKRwPQrXQ1JApHA9CtdjUkCkcD0K1+NSQFK4HoXrUVJAmpmZmZkJUkDsUbgehVtSQBSuR+F6NFJArkfhehSuUEAUrkfherRPQJqZmZmZCVBACtejcD0aUECamZmZmYlQQClcj8L1yFBAAAAAAABAUUAK16NwPcpQQEjhehSuV1BA4XoUrkdBUECkcD0K1zNRQDMzMzMzo1FA16NwPQqHUUD2KFyPwrVRQMP1KFyPclFAPQrXo3BNUUCF61G4HjVRQClcj8L1qFFAMzMzMzODUUBxPQrXozBSQArXo3A9ilJAZmZmZmZmU0B7FK5H4TpTQOF6FK5HwVJAj8L1KFxPUkAfhetRuB5SQK5H4XoUnlBAFK5H4XpUS0Bcj8L1KLxMQKRwPQrXg0tASOF6FK4HTEAK16NwPapLQI/C9Shc70pAMzMzMzMTTEB7FK5H4dpLQPYoXI/CNUxAj8L1KFwvTEApXI/C9UhMQNejcD0Kd0xA4XoUrkdBS0CuR+F6FM5MQGZmZmZmhkxAH4XrUbieTUDXo3A9CtdMQMP1KFyP4ktApHA9CtfjS0DsUbgehUtMQArXo3A9akxAcT0K16NQS0A9CtejcD1KQFK4HoXrcUtASOF6FK6nSkAfhetRuN5KQDMzMzMzc0tAPQrXo3BdS0CamZmZmblKQMP1KFyPwkhA16NwPQrXSEDD9Shcj2JMQArXo3A9akxAmpmZmZn5TUD2KFyPwvVMQClcj8L16E1A9ihcj8L1TEAAAAAAAEBNQNejcD0KN01AFK5H4Xo0TUCamZmZmTlNQJqZmZmZuU5ArkfhehSOT0A9CtejcA1QQArXo3A9qk5AXI/C9SgcTkBmZmZmZgZPQD0K16Nw3U9AzczMzMzMTkAUrkfhepROQK5H4XoUbk5A7FG4HoVrTUBxPQrXo7BMQHE9CtejME1AUrgeheuRTUDD9Shcj+JLQArXo3A9iktAj8L1KFxvS0DsUbgehUtJQMP1KFyPwkdASOF6FK4nSEAAAAAAAABGQIXrUbge5UZAAAAAAACAR0CkcD0K1+NHQNejcD0Kd0dAPQrXo3BdSECPwvUoXK9HQIXrUbgexUdAZmZmZmbGRkApXI/C9WhGQHsUrkfhWkZAKVyPwvVoRkA9CtejcL1GQLgehetRmEZAj8L1KFzPRkBcj8L1KDxGQI/C9ShcD0ZAcT0K16PQRUCPwvUoXM9FQDMzMzMzM0ZAXI/C9SicRUAzMzMzM7NFQM3MzMzM7ENAcT0K16NwQkDXo3A9CndEQGZmZmZmxkNAPQrXo3AdREBSuB6F69FDQB+F61G4/kRAFK5H4XpUREBI4XoUridEQIXrUbgeBURAzczMzMzsQ0C4HoXrUXhEQLgehetRWEVASOF6FK6HRUDhehSuRyFFQOxRuB6Fi0RAUrgeheuxRECkcD0K16NDQDMzMzMzE0VAhetRuB5lRUAAAAAAAKBFQClcj8L16EZAUrgehesxR0ApXI/C9ahGQHE9CtejcEZAXI/C9SicSEDsUbgehatIQArXo3A9qklA4XoUrkfBSECuR+F6FE5NQOF6FK5HAU1AXI/C9SjcTEAK16NwPYpOQNejcD0Kl01AMzMzMzPTTEAAAAAAAKBMQNejcD0K10xASOF6FK4HTUBxPQrXozBLQDMzMzMzE0tAhetRuB6lSkBcj8L1KBxMQClcj8L1SE1A4XoUrkdhTkCPwvUoXO9NQMP1KFyPAlFAhetRuB71UEA9CtejcK1RQHsUrkfhalFAhetRuB5lUUD2KFyPwvVQQFyPwvUoHFJAuB6F61FYUkD2KFyPwpVSQMP1KFyPMlNAuB6F61FIU0DhehSuR5FSQAAAAAAAQFNAAAAAAABQVECPwvUoXB9UQAAAAAAA0FRAUrgeheshU0CPwvUoXL9SQJqZmZmZWVJAMzMzMzNTU0DXo3A9CqdRQOxRuB6Fa1FAXI/C9ShcUkD2KFyPwsVSQOF6FK5H8VNAuB6F61HoUkAfhetRuK5RQEjhehSuR05A7FG4HoXLTkDD9ShcjwJOQHE9CtejEE1AMzMzMzPzTEBxPQrXo7BOQI/C9Shcb05ApHA9CtcjTkCuR+F6FO5OQIXrUbgepU9A4XoUrkdBTkDsUbgehYtJQHsUrkfhOklAUrgehesRSUDNzMzMzExIQMP1KFyPwj5AMzMzMzPzQkDNzMzMzCxBQGZmZmZmJkJAXI/C9Si8QECamZmZmTlBQFK4HoXrUUFAZmZmZmaGQ0CPwvUoXA9DQPYoXI/CNUNAFK5H4Xq0QUAK16NwPYpDQFyPwvUoXERAAAAAAACgQ0CuR+F6FE5EQPYoXI/CFUNAXI/C9Sh8Q0DNzMzMzIxCQOxRuB6Fi0NAzczMzMysQ0BmZmZmZqZDQArXo3A96kNAj8L1KFxPREBmZmZmZmZEQFyPwvUoPERAzczMzMyMRkBmZmZmZmZGQClcj8L1SEdA7FG4HoUrR0AUrkfhehRFQNejcD0KV0VAAAAAAAAARUCF61G4HqVEQAAAAAAAoERASOF6FK6nQ0DsUbgehStFQM3MzMzMLEVAAAAAAAAgRkApXI/C9ShFQAAAAAAAIERAMzMzMzNTREBI4XoUrudEQDMzMzMzc0VA4XoUrkdBRkDsUbgehStGQDMzMzMzU0ZA7FG4HoVLRkBmZmZmZuZGQKRwPQrXY0hA4XoUrkchR0CF61G4HoVHQB+F61G4nkhAzczMzMwMSECPwvUoXI9HQFK4HoXrUUdAAAAAAACARkBcj8L1KLxHQFyPwvUo3EdAAAAAAACAR0C4HoXrURhFQD0K16Nw3URAuB6F61EYRUDhehSuR6FFQEjhehSuB0ZApHA9CtdjRUBcj8L1KJxFQNejcD0K10VAKVyPwvWoRkCkcD0K1+NGQPYoXI/CFUZA9ihcj8JVRUD2KFyPwhVGQDMzMzMz80VAzczMzMwMRUCamZmZmXlFQGZmZmZmJkVAcT0K16PwRUCkcD0K12NGQMP1KFyPQkZA4XoUrkfhR0ApXI/C9chGQIXrUbgeJUhAZmZmZmYGR0CPwvUoXI9HQFyPwvUovEdA7FG4HoVrR0CF61G4HmVHQGZmZmZmRkdAPQrXo3A9R0D2KFyPwvVGQI/C9ShcT0dA9ihcj8KVRUC4HoXrUVhGQK5H4XoUjkZAH4XrUbj+RUDNzMzMzOxFQIXrUbge5UVASOF6FK4HRkC4HoXrUbhFQI/C9Shcb0VACtejcD3KRUC4HoXrUXhFQM3MzMzMLEZAMzMzMzMTRkBxPQrXo1BFQClcj8L1KEVACtejcD2KRUCF61G4HoVEQI/C9Shcr0RAMzMzMzPzREBcj8L1KJxEQArXo3A96kRASOF6FK6HREC4HoXrUZhEQArXo3A9CkVAcT0K16PQREApXI/C9QhGQBSuR+F6tEVA7FG4HoWrRkAzMzMzMzNGQClcj8L1KEZAH4XrUbheRkAUrkfhelRGQBSuR+F69EVAcT0K16PwRUDD9Shcj6JFQArXo3A9CkVArkfhehTuREB7FK5H4TpFQPYoXI/CVUVAPQrXo3D9REBI4XoUrudFQOxRuB6Fi0ZAAAAAAACARkB7FK5H4RpGQBSuR+F6lEhA7FG4HoULSECuR+F6FK5KQBSuR+F69EtAXI/C9SicS0BmZmZmZmZMQJqZmZmZGU1A16NwPQrXTkDNzMzMzGxMQGZmZmZmRk1AUrgehevRTEAUrkfhenRNQClcj8L1iE1AH4XrUbieTEAAAAAAAEBNQAAAAAAAgExAMzMzMzMzTUAzMzMzMxNLQMP1KFyPQktACtejcD2KTEBcj8L1KFxMQFyPwvUo/E1Aj8L1KFzvT0CkcD0K19NQQFK4HoXrYVBAUrgehesRT0D2KFyPwnVPQI/C9Shcj01A4XoUrkchTkBI4XoUrkdOQBSuR+F6FE9Aj8L1KFxPTUBSuB6F6xFNQOxRuB6FC0xAMzMzMzOzTEAfhetRuH5MQHE9CtejcE9AexSuR+F6TkC4HoXrUVhPQI/C9ShcD01AZmZmZmbGR0CF61G4HkVJQJqZmZmZuUdAmpmZmZn5R0ApXI/C9WhIQPYoXI/CtUdACtejcD3qR0A9CtejcF1IQB+F61G4fkhArkfhehRuSUCuR+F6FA5IQM3MzMzMjEhAKVyPwvUoSEAfhetRuN5HQHE9CtejcEhAmpmZmZk5SEAK16NwPUpIQK5H4XoUjkdA16NwPQqXRUCamZmZmTlGQPYoXI/CdUVAXI/C9Sh8RkAzMzMzM/NGQKRwPQrXA0dAw/UoXI8CR0DhehSuR6FGQHsUrkfh2kZAexSuR+EaR0DD9ShcjyJHQLgehetReEZApHA9CtfDRkB7FK5H4VpHQI/C9ShcL0dA4XoUrkcBR0CPwvUoXE9HQKRwPQrXo0dAKVyPwvXoR0BmZmZmZmZIQGZmZmZmRklA9ihcj8JVSUCPwvUoXO9IQOxRuB6F60hAXI/C9Si8SEDsUbgehctHQFK4HoXrcUdAzczMzMzMR0DhehSuRwFIQFK4HoXrcUdAH4XrUbieSkCF61G4HkVLQNejcD0Kt0tA4XoUrkehTUDsUbgehWtNQPYoXI/CdUxAmpmZmZn5TECamZmZmflLQBSuR+F6dEtAKVyPwvUIS0AfhetRuN5LQM3MzMzMzEtA9ihcj8L1SkD2KFyPwvVKQFyPwvUoXEtAexSuR+F6TUBSuB6F67FPQAAAAAAAgE1ASOF6FK6HTkCkcD0K16NNQPYoXI/C9UxAhetRuB6lTUAfhetRuF5OQGZmZmZmdlBAH4XrUbj+T0CuR+F6FC5PQClcj8L1eFJAXI/C9SgcU0AUrkfhenRSQArXo3A9alRA4XoUrkehVEDNzMzMzMxVQFyPwvUovFRArkfhehROVkCF61G4HlVWQK5H4XoUblRAAAAAAADAUUD2KFyPwkVRQDMzMzMzI1JAH4XrUbi+U0AK16NwPepVQK5H4XoUTlVApHA9CtdDVkApXI/C9UhWQDMzMzMzA1RA7FG4HoXLVECF61G4HvVUQAAAAAAA4FRAMzMzMzMzU0Bcj8L1KFxTQFK4HoXrsVJAj8L1KFwPUkCF61G4HiVTQIXrUbgehVRAH4XrUbieVECkcD0K11NUQHE9CtejQFdAFK5H4XpEWUCF61G4HlVbQM3MzMzM/F1ApHA9CtezXEBI4XoUridaQAAAAAAAoFxAZmZmZmamWUCF61G4HvVbQMP1KFyP0l9AAAAAAAAwYECF61G4HvVfQI/C9ShcN2BAexSuR+EaYEDNzMzMzERgQNejcD0KF19AFK5H4XqUX0Bcj8L1KBxhQJqZmZmZGWRAUrgehethY0CamZmZmdljQM3MzMzMNGVArkfhehQ+ZUBxPQrXo5BlQB+F61G4PmZAZmZmZmZWZUD2KFyPwl1hQHsUrkfhomBA4XoUrkd5YkApXI/C9RhjQGZmZmZmBmJApHA9Ctf7YUBcj8L1KNRhQFyPwvUo9GJAFK5H4Xr8YkD2KFyPwr1iQMP1KFyPQmBAPQrXo3BFYUBxPQrXozhhQNejcD0Kp2FA9ihcj8IlYUAAAAAAANhgQM3MzMzMvF5AMzMzMzOzYED2KFyPwt1gQArXo3A9qmBAZmZmZmY2YEApXI/C9YBgQClcj8L10GFAAAAAAACQY0DNzMzMzCxiQPYoXI/CZWNAKVyPwvVwY0CuR+F6FOZiQM3MzMzM9GRAhetRuB69ZkCamZmZmblmQOF6FK5HAWdAj8L1KFyfaEAAAAAAAFBsQK5H4XoUtmpAexSuR+ECakBI4XoUrk9qQIXrUbgerW1AMzMzMzNTbEAK16NwPZptQKRwPQrXa2xA9ihcj8J1bEC4HoXrUQhqQAAAAAAAMGZArkfhehS+ZkAAAAAAAGhmQFK4HoXrSWVAzczMzMyEZUC4HoXrUaBkQOxRuB6FA2ZApHA9CtdLZkBmZmZmZnZnQClcj8L1mGZAj8L1KFyfZkCkcD0K19NmQOxRuB6F02dAmpmZmZnxZ0AAAAAAAIBpQOxRuB6FC2lAhetRuB4taUBmZmZmZpZrQMP1KFyPSmxAPQrXo3C9akBSuB6F6xlpQClcj8L1OGlACtejcD26aUAK16NwPfJoQHE9CtejCGlAmpmZmZkBaUAUrkfhemxoQAAAAAAAOGdAw/UoXI9CZ0D2KFyPwgVmQAAAAAAAcGVAcT0K16P4ZkCF61G4HgVnQDMzMzMzC2dArkfhehQ2aEDhehSuR3loQMP1KFyPkmhAUrgehetJaUApXI/C9YBqQBSuR+F6bGhAAAAAAABQaUAzMzMzM7NrQDMzMzMzo21AmpmZmZlha0BxPQrXo0hsQM3MzMzMnGtA9ihcj8L9b0AAAAAAAIBvQPYoXI/ClW5AzczMzMy0cEB7FK5H4XZxQArXo3A97nFAzczMzMxQc0D2KFyPwt1yQBSuR+F6GHFAhetRuB5ZcEDNzMzMzFBwQD0K16NwIXBAUrgeheuhb0B7FK5H4TJuQJqZmZmZKWxAH4XrUbj+a0CamZmZmfluQNejcD0KQ3BArkfhehQucEDhehSuR/lvQHE9Ctej+HBAzczMzMxMcUBxPQrXo9RwQIXrUbgeaXJAFK5H4XoUc0AUrkfhekR2QFK4HoXrKXZAuB6F61GMdUAK16NwPbZ1QIXrUbgeRXhAH4XrUbhydkA9CtejcKF3QMP1KFyPSnNA7FG4HoXXc0CkcD0K12d0QDMzMzMzw3JAH4XrUbiGckBxPQrXo5RxQClcj8L1YHJAhetRuB5VZ0BxPQrXo2BqQGZmZmZmjmZApHA9CtcrZUA9CtejcNVhQNejcD0KL2dAuB6F61H4ZkBmZmZmZuZoQEjhehSuL2hAH4XrUbguZkBcj8L1KHRkQI/C9ShcV2VAUrgeheuJZ0DD9Shcj9pmQI/C9ShcZ2dAj8L1KFwnaECkcD0K11NmQClcj8L1mGVAZmZmZmauZUA=\",\"dtype\":\"float64\",\"order\":\"little\",\"shape\":[1306]},\"datetime\":{\"__ndarray__\":\"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\",\"dtype\":\"float64\",\"order\":\"little\",\"shape\":[1306]}},\"selected\":{\"id\":\"1338\"},\"selection_policy\":{\"id\":\"1337\"}},\"id\":\"1312\",\"type\":\"ColumnDataSource\"},{\"attributes\":{\"days\":[1,4,7,10,13,16,19,22,25,28]},\"id\":\"1343\",\"type\":\"DaysTicker\"},{\"attributes\":{\"days\":[1,8,15,22]},\"id\":\"1344\",\"type\":\"DaysTicker\"},{\"attributes\":{\"formatter\":{\"id\":\"1334\"},\"major_label_policy\":{\"id\":\"1333\"},\"ticker\":{\"id\":\"1291\"}},\"id\":\"1290\",\"type\":\"DatetimeAxis\"},{\"attributes\":{},\"id\":\"1334\",\"type\":\"DatetimeTickFormatter\"},{\"attributes\":{\"bottom_units\":\"screen\",\"fill_alpha\":0.5,\"fill_color\":\"lightgrey\",\"left_units\":\"screen\",\"level\":\"overlay\",\"line_alpha\":1.0,\"line_color\":\"black\",\"line_dash\":[4,4],\"line_width\":2,\"right_units\":\"screen\",\"syncable\":false,\"top_units\":\"screen\"},\"id\":\"1304\",\"type\":\"BoxAnnotation\"},{\"attributes\":{},\"id\":\"1286\",\"type\":\"LinearScale\"},{\"attributes\":{},\"id\":\"1284\",\"type\":\"DataRange1d\"},{\"attributes\":{\"months\":[0,2,4,6,8,10]},\"id\":\"1347\",\"type\":\"MonthsTicker\"},{\"attributes\":{},\"id\":\"1328\",\"type\":\"Title\"},{\"attributes\":{\"months\":[0,6]},\"id\":\"1349\",\"type\":\"MonthsTicker\"},{\"attributes\":{},\"id\":\"1333\",\"type\":\"AllLabels\"},{\"attributes\":{\"data_source\":{\"id\":\"1312\"},\"glyph\":{\"id\":\"1314\"},\"hover_glyph\":null,\"muted_glyph\":null,\"nonselection_glyph\":{\"id\":\"1315\"},\"view\":{\"id\":\"1317\"}},\"id\":\"1316\",\"type\":\"GlyphRenderer\"},{\"attributes\":{\"months\":[0,4,8]},\"id\":\"1348\",\"type\":\"MonthsTicker\"},{\"attributes\":{\"num_minor_ticks\":5,\"tickers\":[{\"id\":\"1339\"},{\"id\":\"1340\"},{\"id\":\"1341\"},{\"id\":\"1342\"},{\"id\":\"1343\"},{\"id\":\"1344\"},{\"id\":\"1345\"},{\"id\":\"1346\"},{\"id\":\"1347\"},{\"id\":\"1348\"},{\"id\":\"1349\"},{\"id\":\"1350\"}]},\"id\":\"1291\",\"type\":\"DatetimeTicker\"},{\"attributes\":{\"axis\":{\"id\":\"1290\"},\"ticker\":null},\"id\":\"1293\",\"type\":\"Grid\"},{\"attributes\":{},\"id\":\"1298\",\"type\":\"PanTool\"},{\"attributes\":{},\"id\":\"1338\",\"type\":\"Selection\"},{\"attributes\":{},\"id\":\"1337\",\"type\":\"UnionRenderers\"},{\"attributes\":{\"source\":{\"id\":\"1312\"}},\"id\":\"1327\",\"type\":\"CDSView\"},{\"attributes\":{},\"id\":\"1303\",\"type\":\"HelpTool\"},{\"attributes\":{},\"id\":\"1331\",\"type\":\"BasicTickFormatter\"},{\"attributes\":{\"mantissas\":[1,2,5],\"max_interval\":500.0,\"num_minor_ticks\":0},\"id\":\"1339\",\"type\":\"AdaptiveTicker\"},{\"attributes\":{\"axis\":{\"id\":\"1294\"},\"dimension\":1,\"ticker\":null},\"id\":\"1297\",\"type\":\"Grid\"},{\"attributes\":{\"active_multi\":null,\"tools\":[{\"id\":\"1298\"},{\"id\":\"1299\"},{\"id\":\"1300\"},{\"id\":\"1301\"},{\"id\":\"1302\"},{\"id\":\"1303\"}]},\"id\":\"1305\",\"type\":\"Toolbar\"},{\"attributes\":{},\"id\":\"1330\",\"type\":\"AllLabels\"},{\"attributes\":{\"line_alpha\":0.1,\"line_color\":\"blue\",\"line_width\":2,\"x\":{\"field\":\"datetime\"},\"y\":{\"field\":\"ETH\"}},\"id\":\"1320\",\"type\":\"Line\"},{\"attributes\":{\"overlay\":{\"id\":\"1304\"}},\"id\":\"1300\",\"type\":\"BoxZoomTool\"},{\"attributes\":{\"line_color\":\"green\",\"line_width\":2,\"x\":{\"field\":\"datetime\"},\"y\":{\"field\":\"LTC\"}},\"id\":\"1324\",\"type\":\"Line\"},{\"attributes\":{\"line_alpha\":0.1,\"line_color\":\"red\",\"line_width\":2,\"x\":{\"field\":\"datetime\"},\"y\":{\"field\":\"BTC\"}},\"id\":\"1315\",\"type\":\"Line\"},{\"attributes\":{\"formatter\":{\"id\":\"1331\"},\"major_label_policy\":{\"id\":\"1330\"},\"ticker\":{\"id\":\"1295\"}},\"id\":\"1294\",\"type\":\"LinearAxis\"},{\"attributes\":{},\"id\":\"1282\",\"type\":\"DataRange1d\"},{\"attributes\":{},\"id\":\"1301\",\"type\":\"SaveTool\"},{\"attributes\":{},\"id\":\"1302\",\"type\":\"ResetTool\"},{\"attributes\":{\"source\":{\"id\":\"1312\"}},\"id\":\"1322\",\"type\":\"CDSView\"},{\"attributes\":{\"line_alpha\":0.1,\"line_color\":\"green\",\"line_width\":2,\"x\":{\"field\":\"datetime\"},\"y\":{\"field\":\"LTC\"}},\"id\":\"1325\",\"type\":\"Line\"},{\"attributes\":{\"source\":{\"id\":\"1312\"}},\"id\":\"1317\",\"type\":\"CDSView\"}],\"root_ids\":[\"1281\"]},\"title\":\"Bokeh Application\",\"version\":\"2.3.3\"}};\n",
       "  var render_items = [{\"docid\":\"dbf1dc26-473b-41ef-876a-e54f9ceccbfe\",\"root_ids\":[\"1281\"],\"roots\":{\"1281\":\"c3ebbaa6-a7f3-40f3-9bb6-86da2a763730\"}}];\n",
       "  root.Bokeh.embed.embed_items_notebook(docs_json, render_items);\n",
       "\n",
       "  }\n",
       "  if (root.Bokeh !== undefined) {\n",
       "    embed_document(root);\n",
       "  } else {\n",
       "    var attempts = 0;\n",
       "    var timer = setInterval(function(root) {\n",
       "      if (root.Bokeh !== undefined) {\n",
       "        clearInterval(timer);\n",
       "        embed_document(root);\n",
       "      } else {\n",
       "        attempts++;\n",
       "        if (attempts > 100) {\n",
       "          clearInterval(timer);\n",
       "          console.log(\"Bokeh: ERROR: Unable to run BokehJS code because BokehJS library is missing\");\n",
       "        }\n",
       "      }\n",
       "    }, 10, root)\n",
       "  }\n",
       "})(window);"
      ],
      "application/vnd.bokehjs_exec.v0+json": ""
     },
     "metadata": {
      "application/vnd.bokehjs_exec.v0+json": {
       "id": "1281"
      }
     },
     "output_type": "display_data"
    }
   ],
   "source": [
    "p = figure(x_axis_type='datetime')\n",
    "\n",
    "source = ColumnDataSource(df)\n",
    "\n",
    "p.line(x='datetime', y='BTC', line_width=2, source=source, line_color='red')\n",
    "p.line(x='datetime', y='ETH', line_width=2, source=source, line_color='blue')\n",
    "p.line(x='datetime', y='LTC', line_width=2, source=source, line_color='green')\n",
    "show(p)"
   ]
  },
  {
   "cell_type": "markdown",
   "metadata": {
    "id": "EboQlzu1isO4"
   },
   "source": [
    "# References\n",
    "\n",
    "* https://towardsdatascience.com/cryptocurrency-analysis-with-python-buy-and-hold-c3b0bc164ffa\n",
    "\n",
    "* https://towardsdatascience.com/cryptocurrency-analysis-with-python-macd-452ceb251d7c\n"
   ]
  }
 ],
 "metadata": {
  "colab": {
   "authorship_tag": "ABX9TyNhKsvO//HuImujeDPRlve6",
   "collapsed_sections": [],
   "mount_file_id": "11XGLaT5_190HE2arepjzftNLJHgoCbsI",
   "name": "crypto_data_api.ipynb",
   "provenance": []
  },
  "interpreter": {
   "hash": "293e2dea07eed22cf8c9200dfa67c76ea78bbef78f3f095ef93c7b987d1f9f8b"
  },
  "kernelspec": {
   "display_name": "Python 3",
   "language": "python",
   "name": "python3"
  },
  "language_info": {
   "codemirror_mode": {
    "name": "ipython",
    "version": 3
   },
   "file_extension": ".py",
   "mimetype": "text/x-python",
   "name": "python",
   "nbconvert_exporter": "python",
   "pygments_lexer": "ipython3",
   "version": "3.9.0"
  }
 },
 "nbformat": 4,
 "nbformat_minor": 4
}

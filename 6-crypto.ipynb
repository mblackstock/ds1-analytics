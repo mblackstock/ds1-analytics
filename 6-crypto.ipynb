{
 "cells": [
  {
   "cell_type": "markdown",
   "metadata": {
    "id": "Aa0mJctTaPCW"
   },
   "source": [
    "# 6 Crypto Currency Returns\n",
    "\n",
    "Crypto currencies are hot these days!  In this project we'll show you how to download daily prices for different currencies, and then do some price analysis.\n",
    "\n",
    "<img src=\"https://www.trustetc.com/wp-content/uploads/2018/09/8crypto.png\" width=500/>\n",
    "\n",
    "We'll look at three different currencies - Bitcoin, Ethereum and Litcoin.\n",
    "\n",
    "* how can we explore crypto data to understand what the typical price of a currency is?\n",
    "* how can we compare the prices of three different currencies, or their change given they have different price ranges?\n",
    "* is there a correlation between the behaviour of these currencies?\n",
    "* how has profitability of these currencies changed over time?\n",
    "* if we were to buy one of these currencies a few years ago, which would have been the most profitable?"
   ]
  },
  {
   "cell_type": "markdown",
   "metadata": {},
   "source": [
    "## Set up"
   ]
  },
  {
   "cell_type": "code",
   "execution_count": 1,
   "metadata": {
    "id": "pSKJYjd3bC5J"
   },
   "outputs": [],
   "source": [
    "import pandas as pd\n",
    "import requests\n",
    "from datetime import datetime\n",
    "import seaborn as sns\n",
    "import matplotlib.pyplot as plt\n",
    "import numpy as np"
   ]
  },
  {
   "cell_type": "markdown",
   "metadata": {},
   "source": [
    "## Using an API to retrieve crypto data\n",
    "\n",
    "The company Cryptocompare kindly offers a free API that provides the historical values of different currencies and exchanges.\n",
    "\n",
    "Documentation for the API can be found at https://min-api.cryptocompare.com/documentation\n",
    "\n",
    "We'll use these APIs specifically to get daily data and then generalize it a bit so we can get hourly or minute data.\n",
    "\n",
    "First, lets get a list of the exchanges that this API supports\n",
    "https://min-api.cryptocompare.com/documentation?key=Other&cat=allExchangesV4Endpoint\n"
   ]
  },
  {
   "cell_type": "code",
   "execution_count": 2,
   "metadata": {},
   "outputs": [
    {
     "data": {
      "text/plain": [
       "['BTCAlpha',\n",
       " 'BTCBOX',\n",
       " 'BTCMarkets',\n",
       " 'BTCTurk',\n",
       " 'Bibox',\n",
       " 'Binance',\n",
       " 'Bit2C',\n",
       " 'BitBank',\n",
       " 'BitBay',\n",
       " 'BitMart',\n",
       " 'BitTrex',\n",
       " 'BitZ',\n",
       " 'Bitfinex',\n",
       " 'Bithumb',\n",
       " 'Bitkub',\n",
       " 'Bitso',\n",
       " 'Bitstamp',\n",
       " 'Bleutrade',\n",
       " 'Cexio',\n",
       " 'CoinBene',\n",
       " 'CoinCorner',\n",
       " 'CoinDeal',\n",
       " 'CoinFalcon',\n",
       " 'CoinJar',\n",
       " 'Coinbase',\n",
       " 'Coincheck',\n",
       " 'Coinfloor',\n",
       " 'Coinmate',\n",
       " 'Coinone',\n",
       " 'Coinsbit',\n",
       " 'DigiFinex',\n",
       " 'EXRATES',\n",
       " 'Exmo',\n",
       " 'Gateio',\n",
       " 'Gemini',\n",
       " 'HitBTC',\n",
       " 'HuobiPro',\n",
       " 'IndependentReserve',\n",
       " 'Korbit',\n",
       " 'Kraken',\n",
       " 'Kucoin',\n",
       " 'Kuna',\n",
       " 'LBank',\n",
       " 'Liquid',\n",
       " 'Luno',\n",
       " 'Lykke',\n",
       " 'MercadoBitcoin',\n",
       " 'OKCoin',\n",
       " 'OKEX',\n",
       " 'Paymium',\n",
       " 'Poloniex',\n",
       " 'TheRockTrading',\n",
       " 'Upbit',\n",
       " 'ZB',\n",
       " 'ZBG',\n",
       " 'Zaif',\n",
       " 'aax',\n",
       " 'bequant',\n",
       " 'binanceusa',\n",
       " 'bitFlyer',\n",
       " 'bitcoincom',\n",
       " 'bitflyereu',\n",
       " 'bitflyerus',\n",
       " 'bithumbglobal',\n",
       " 'bitmax',\n",
       " 'bitpanda',\n",
       " 'blockchaincom',\n",
       " 'btse',\n",
       " 'coinfield',\n",
       " 'crosstower',\n",
       " 'currency',\n",
       " 'dcoin',\n",
       " 'equos',\n",
       " 'etoro',\n",
       " 'ftx',\n",
       " 'gopax',\n",
       " 'huobijapan',\n",
       " 'huobikorea',\n",
       " 'indodax',\n",
       " 'itBit',\n",
       " 'lmax',\n",
       " 'paribu',\n",
       " 'valr']"
      ]
     },
     "execution_count": 2,
     "metadata": {},
     "output_type": "execute_result"
    }
   ],
   "source": [
    "params = {'topTier':'true'}\n",
    "url = 'https://min-api.cryptocompare.com/data/v4/all/exchanges'\n",
    "response = requests.get(url, params=params)\n",
    "data = response.json()['Data']['exchanges']\n",
    "\n",
    "top_exchanges = list(data)\n",
    "top_exchanges"
   ]
  },
  {
   "cell_type": "markdown",
   "metadata": {},
   "source": [
    "Next, lets look at the coins that are integrated that we can ask about.\n",
    "\n",
    "Docs: https://min-api.cryptocompare.com/documentation?key=Other&cat=allCoinsWithContentEndpoint\n"
   ]
  },
  {
   "cell_type": "code",
   "execution_count": 3,
   "metadata": {},
   "outputs": [
    {
     "data": {
      "text/html": [
       "<div>\n",
       "<style scoped>\n",
       "    .dataframe tbody tr th:only-of-type {\n",
       "        vertical-align: middle;\n",
       "    }\n",
       "\n",
       "    .dataframe tbody tr th {\n",
       "        vertical-align: top;\n",
       "    }\n",
       "\n",
       "    .dataframe thead th {\n",
       "        text-align: right;\n",
       "    }\n",
       "</style>\n",
       "<table border=\"1\" class=\"dataframe\">\n",
       "  <thead>\n",
       "    <tr style=\"text-align: right;\">\n",
       "      <th></th>\n",
       "      <th>Id</th>\n",
       "      <th>ImageUrl</th>\n",
       "      <th>Symbol</th>\n",
       "      <th>FullName</th>\n",
       "    </tr>\n",
       "  </thead>\n",
       "  <tbody>\n",
       "    <tr>\n",
       "      <th>42</th>\n",
       "      <td>4321</td>\n",
       "      <td>/media/35650717/42.jpg</td>\n",
       "      <td>42</td>\n",
       "      <td>42 Coin (42)</td>\n",
       "    </tr>\n",
       "    <tr>\n",
       "      <th>300</th>\n",
       "      <td>749869</td>\n",
       "      <td>/media/27010595/300.png</td>\n",
       "      <td>300</td>\n",
       "      <td>300 token (300)</td>\n",
       "    </tr>\n",
       "    <tr>\n",
       "      <th>365</th>\n",
       "      <td>33639</td>\n",
       "      <td>/media/352070/365.png</td>\n",
       "      <td>365</td>\n",
       "      <td>365Coin (365)</td>\n",
       "    </tr>\n",
       "    <tr>\n",
       "      <th>404</th>\n",
       "      <td>21227</td>\n",
       "      <td>/media/35650851/404-300x300.jpg</td>\n",
       "      <td>404</td>\n",
       "      <td>404Coin (404)</td>\n",
       "    </tr>\n",
       "    <tr>\n",
       "      <th>433</th>\n",
       "      <td>926547</td>\n",
       "      <td>/media/34836095/433.png</td>\n",
       "      <td>433</td>\n",
       "      <td>433 Token (433)</td>\n",
       "    </tr>\n",
       "    <tr>\n",
       "      <th>...</th>\n",
       "      <td>...</td>\n",
       "      <td>...</td>\n",
       "      <td>...</td>\n",
       "      <td>...</td>\n",
       "    </tr>\n",
       "    <tr>\n",
       "      <th>DBZ</th>\n",
       "      <td>942732</td>\n",
       "      <td>/media/37748367/dbz.png</td>\n",
       "      <td>DBZ</td>\n",
       "      <td>Diamond Boyz Coin (DBZ)</td>\n",
       "    </tr>\n",
       "    <tr>\n",
       "      <th>BANKETH</th>\n",
       "      <td>942734</td>\n",
       "      <td>/media/37748368/banketh.png</td>\n",
       "      <td>BANKETH</td>\n",
       "      <td>BankEth (BANKETH)</td>\n",
       "    </tr>\n",
       "    <tr>\n",
       "      <th>VICEX</th>\n",
       "      <td>942740</td>\n",
       "      <td>/media/37748371/vicex.png</td>\n",
       "      <td>VICEX</td>\n",
       "      <td>ViceToken (VICEX)</td>\n",
       "    </tr>\n",
       "    <tr>\n",
       "      <th>EASYF</th>\n",
       "      <td>938891</td>\n",
       "      <td>/media/37745931/eft.png</td>\n",
       "      <td>EASYF</td>\n",
       "      <td>EasyFeedback (EASYF)</td>\n",
       "    </tr>\n",
       "    <tr>\n",
       "      <th>FIG</th>\n",
       "      <td>942743</td>\n",
       "      <td>/media/37748372/fig.png</td>\n",
       "      <td>FIG</td>\n",
       "      <td>FlowCom (FIG)</td>\n",
       "    </tr>\n",
       "  </tbody>\n",
       "</table>\n",
       "<p>6873 rows × 4 columns</p>\n",
       "</div>"
      ],
      "text/plain": [
       "             Id                         ImageUrl   Symbol  \\\n",
       "42         4321           /media/35650717/42.jpg       42   \n",
       "300      749869          /media/27010595/300.png      300   \n",
       "365       33639            /media/352070/365.png      365   \n",
       "404       21227  /media/35650851/404-300x300.jpg      404   \n",
       "433      926547          /media/34836095/433.png      433   \n",
       "...         ...                              ...      ...   \n",
       "DBZ      942732          /media/37748367/dbz.png      DBZ   \n",
       "BANKETH  942734      /media/37748368/banketh.png  BANKETH   \n",
       "VICEX    942740        /media/37748371/vicex.png    VICEX   \n",
       "EASYF    938891          /media/37745931/eft.png    EASYF   \n",
       "FIG      942743          /media/37748372/fig.png      FIG   \n",
       "\n",
       "                        FullName  \n",
       "42                  42 Coin (42)  \n",
       "300              300 token (300)  \n",
       "365                365Coin (365)  \n",
       "404                404Coin (404)  \n",
       "433              433 Token (433)  \n",
       "...                          ...  \n",
       "DBZ      Diamond Boyz Coin (DBZ)  \n",
       "BANKETH        BankEth (BANKETH)  \n",
       "VICEX          ViceToken (VICEX)  \n",
       "EASYF       EasyFeedback (EASYF)  \n",
       "FIG                FlowCom (FIG)  \n",
       "\n",
       "[6873 rows x 4 columns]"
      ]
     },
     "execution_count": 3,
     "metadata": {},
     "output_type": "execute_result"
    }
   ],
   "source": [
    "params = {'summary':'true'}\n",
    "url = 'https://min-api.cryptocompare.com/data/all/coinlist'\n",
    "response = requests.get(url, params=params)\n",
    "data = response.json()\n",
    "df_coins = pd.DataFrame.from_dict(data['Data'], orient='index')\n",
    "df_coins"
   ]
  },
  {
   "cell_type": "markdown",
   "metadata": {},
   "source": [
    "Wow - that's a lot of coins.  Now we know which ones we can get inforation about.\n",
    "\n",
    "Next, lets see how we can get information about some of our favourite ones: Bitcoin, Ethereum, and LiteCoin."
   ]
  },
  {
   "cell_type": "code",
   "execution_count": 4,
   "metadata": {},
   "outputs": [
    {
     "data": {
      "text/html": [
       "<div>\n",
       "<style scoped>\n",
       "    .dataframe tbody tr th:only-of-type {\n",
       "        vertical-align: middle;\n",
       "    }\n",
       "\n",
       "    .dataframe tbody tr th {\n",
       "        vertical-align: top;\n",
       "    }\n",
       "\n",
       "    .dataframe thead th {\n",
       "        text-align: right;\n",
       "    }\n",
       "</style>\n",
       "<table border=\"1\" class=\"dataframe\">\n",
       "  <thead>\n",
       "    <tr style=\"text-align: right;\">\n",
       "      <th></th>\n",
       "      <th>Id</th>\n",
       "      <th>ImageUrl</th>\n",
       "      <th>Symbol</th>\n",
       "      <th>FullName</th>\n",
       "    </tr>\n",
       "  </thead>\n",
       "  <tbody>\n",
       "    <tr>\n",
       "      <th>BTC</th>\n",
       "      <td>1182</td>\n",
       "      <td>/media/37746251/btc.png</td>\n",
       "      <td>BTC</td>\n",
       "      <td>Bitcoin (BTC)</td>\n",
       "    </tr>\n",
       "    <tr>\n",
       "      <th>LTC</th>\n",
       "      <td>3808</td>\n",
       "      <td>/media/37746243/ltc.png</td>\n",
       "      <td>LTC</td>\n",
       "      <td>Litecoin (LTC)</td>\n",
       "    </tr>\n",
       "    <tr>\n",
       "      <th>ETH</th>\n",
       "      <td>7605</td>\n",
       "      <td>/media/37746238/eth.png</td>\n",
       "      <td>ETH</td>\n",
       "      <td>Ethereum (ETH)</td>\n",
       "    </tr>\n",
       "  </tbody>\n",
       "</table>\n",
       "</div>"
      ],
      "text/plain": [
       "       Id                 ImageUrl Symbol        FullName\n",
       "BTC  1182  /media/37746251/btc.png    BTC   Bitcoin (BTC)\n",
       "LTC  3808  /media/37746243/ltc.png    LTC  Litecoin (LTC)\n",
       "ETH  7605  /media/37746238/eth.png    ETH  Ethereum (ETH)"
      ]
     },
     "execution_count": 4,
     "metadata": {},
     "output_type": "execute_result"
    }
   ],
   "source": [
    "df_coins.loc[df_coins.Symbol.isin(['ETH','BTC','LTC'])]\n"
   ]
  },
  {
   "cell_type": "markdown",
   "metadata": {},
   "source": [
    "We're good to go!\n",
    "\n",
    "Next, lets get some history for Etherium\n",
    "\n",
    "To do this, we need to formulate the right API call.  Here is the documentation\n",
    "\n",
    "https://min-api.cryptocompare.com/documentation?key=Historical&cat=dataHistoday\n",
    "\n",
    "From the documentation it looks like the URL is as follows:\n",
    "\n",
    "'https://min-api.cryptocompare.com/data/histoday'\n",
    "\n",
    "Then we need to add the exchange as a `e` parameter.  The symbol is `fsym`.  The currency is `tsym`.  We'll use a limit of `2000` entries, aggregate to 1 day leave others.\n"
   ]
  },
  {
   "cell_type": "code",
   "execution_count": 5,
   "metadata": {},
   "outputs": [
    {
     "data": {
      "text/html": [
       "<div>\n",
       "<style scoped>\n",
       "    .dataframe tbody tr th:only-of-type {\n",
       "        vertical-align: middle;\n",
       "    }\n",
       "\n",
       "    .dataframe tbody tr th {\n",
       "        vertical-align: top;\n",
       "    }\n",
       "\n",
       "    .dataframe thead th {\n",
       "        text-align: right;\n",
       "    }\n",
       "</style>\n",
       "<table border=\"1\" class=\"dataframe\">\n",
       "  <thead>\n",
       "    <tr style=\"text-align: right;\">\n",
       "      <th></th>\n",
       "      <th>time</th>\n",
       "      <th>close</th>\n",
       "      <th>high</th>\n",
       "      <th>low</th>\n",
       "      <th>open</th>\n",
       "      <th>volumefrom</th>\n",
       "      <th>volumeto</th>\n",
       "    </tr>\n",
       "  </thead>\n",
       "  <tbody>\n",
       "    <tr>\n",
       "      <th>0</th>\n",
       "      <td>1454716800</td>\n",
       "      <td>0.00</td>\n",
       "      <td>0.00</td>\n",
       "      <td>0.00</td>\n",
       "      <td>0.00</td>\n",
       "      <td>0.00</td>\n",
       "      <td>0.000000e+00</td>\n",
       "    </tr>\n",
       "    <tr>\n",
       "      <th>1</th>\n",
       "      <td>1454803200</td>\n",
       "      <td>0.00</td>\n",
       "      <td>0.00</td>\n",
       "      <td>0.00</td>\n",
       "      <td>0.00</td>\n",
       "      <td>0.00</td>\n",
       "      <td>0.000000e+00</td>\n",
       "    </tr>\n",
       "    <tr>\n",
       "      <th>2</th>\n",
       "      <td>1454889600</td>\n",
       "      <td>0.00</td>\n",
       "      <td>0.00</td>\n",
       "      <td>0.00</td>\n",
       "      <td>0.00</td>\n",
       "      <td>0.00</td>\n",
       "      <td>0.000000e+00</td>\n",
       "    </tr>\n",
       "    <tr>\n",
       "      <th>3</th>\n",
       "      <td>1454976000</td>\n",
       "      <td>0.00</td>\n",
       "      <td>0.00</td>\n",
       "      <td>0.00</td>\n",
       "      <td>0.00</td>\n",
       "      <td>0.00</td>\n",
       "      <td>0.000000e+00</td>\n",
       "    </tr>\n",
       "    <tr>\n",
       "      <th>4</th>\n",
       "      <td>1455062400</td>\n",
       "      <td>0.00</td>\n",
       "      <td>0.00</td>\n",
       "      <td>0.00</td>\n",
       "      <td>0.00</td>\n",
       "      <td>0.00</td>\n",
       "      <td>0.000000e+00</td>\n",
       "    </tr>\n",
       "    <tr>\n",
       "      <th>...</th>\n",
       "      <td>...</td>\n",
       "      <td>...</td>\n",
       "      <td>...</td>\n",
       "      <td>...</td>\n",
       "      <td>...</td>\n",
       "      <td>...</td>\n",
       "      <td>...</td>\n",
       "    </tr>\n",
       "    <tr>\n",
       "      <th>1996</th>\n",
       "      <td>1627171200</td>\n",
       "      <td>2194.00</td>\n",
       "      <td>2199.49</td>\n",
       "      <td>2108.00</td>\n",
       "      <td>2185.86</td>\n",
       "      <td>19955.29</td>\n",
       "      <td>4.322392e+07</td>\n",
       "    </tr>\n",
       "    <tr>\n",
       "      <th>1997</th>\n",
       "      <td>1627257600</td>\n",
       "      <td>2228.00</td>\n",
       "      <td>2435.01</td>\n",
       "      <td>2175.57</td>\n",
       "      <td>2194.00</td>\n",
       "      <td>58867.06</td>\n",
       "      <td>1.366236e+08</td>\n",
       "    </tr>\n",
       "    <tr>\n",
       "      <th>1998</th>\n",
       "      <td>1627344000</td>\n",
       "      <td>2304.62</td>\n",
       "      <td>2321.80</td>\n",
       "      <td>2150.62</td>\n",
       "      <td>2228.00</td>\n",
       "      <td>33758.20</td>\n",
       "      <td>7.594619e+07</td>\n",
       "    </tr>\n",
       "    <tr>\n",
       "      <th>1999</th>\n",
       "      <td>1627430400</td>\n",
       "      <td>2299.52</td>\n",
       "      <td>2347.15</td>\n",
       "      <td>2244.81</td>\n",
       "      <td>2304.62</td>\n",
       "      <td>33002.47</td>\n",
       "      <td>7.583673e+07</td>\n",
       "    </tr>\n",
       "    <tr>\n",
       "      <th>2000</th>\n",
       "      <td>1627516800</td>\n",
       "      <td>2375.63</td>\n",
       "      <td>2404.08</td>\n",
       "      <td>2266.51</td>\n",
       "      <td>2299.52</td>\n",
       "      <td>16064.12</td>\n",
       "      <td>3.730310e+07</td>\n",
       "    </tr>\n",
       "  </tbody>\n",
       "</table>\n",
       "<p>2001 rows × 7 columns</p>\n",
       "</div>"
      ],
      "text/plain": [
       "            time    close     high      low     open  volumefrom      volumeto\n",
       "0     1454716800     0.00     0.00     0.00     0.00        0.00  0.000000e+00\n",
       "1     1454803200     0.00     0.00     0.00     0.00        0.00  0.000000e+00\n",
       "2     1454889600     0.00     0.00     0.00     0.00        0.00  0.000000e+00\n",
       "3     1454976000     0.00     0.00     0.00     0.00        0.00  0.000000e+00\n",
       "4     1455062400     0.00     0.00     0.00     0.00        0.00  0.000000e+00\n",
       "...          ...      ...      ...      ...      ...         ...           ...\n",
       "1996  1627171200  2194.00  2199.49  2108.00  2185.86    19955.29  4.322392e+07\n",
       "1997  1627257600  2228.00  2435.01  2175.57  2194.00    58867.06  1.366236e+08\n",
       "1998  1627344000  2304.62  2321.80  2150.62  2228.00    33758.20  7.594619e+07\n",
       "1999  1627430400  2299.52  2347.15  2244.81  2304.62    33002.47  7.583673e+07\n",
       "2000  1627516800  2375.63  2404.08  2266.51  2299.52    16064.12  3.730310e+07\n",
       "\n",
       "[2001 rows x 7 columns]"
      ]
     },
     "execution_count": 5,
     "metadata": {},
     "output_type": "execute_result"
    }
   ],
   "source": [
    "params = {\n",
    "    'e':'Bitstamp',\n",
    "    'fsym':'ETH',\n",
    "    'tsym':'USD',\n",
    "    'limit':2000,\n",
    "    'aggregate':1}\n",
    "\n",
    "url = 'https://min-api.cryptocompare.com/data/histoday'\n",
    "response = requests.get(url, params=params)\n",
    "\n",
    "# we know the data is in the Data field\n",
    "data = response.json()['Data']\n",
    "# method to convert arrays of objects into rows\n",
    "df_eth = pd.json_normalize(data)\n",
    "# we only want these fields\n",
    "df_eth = df_eth[['time', 'close', 'high', 'low', 'open', 'volumefrom', 'volumeto']]\n",
    "df_eth"
   ]
  },
  {
   "cell_type": "markdown",
   "metadata": {},
   "source": [
    "Next, lets convert the timestamps to human readable dates, and drop the time field."
   ]
  },
  {
   "cell_type": "code",
   "execution_count": 6,
   "metadata": {},
   "outputs": [
    {
     "data": {
      "text/html": [
       "<div>\n",
       "<style scoped>\n",
       "    .dataframe tbody tr th:only-of-type {\n",
       "        vertical-align: middle;\n",
       "    }\n",
       "\n",
       "    .dataframe tbody tr th {\n",
       "        vertical-align: top;\n",
       "    }\n",
       "\n",
       "    .dataframe thead th {\n",
       "        text-align: right;\n",
       "    }\n",
       "</style>\n",
       "<table border=\"1\" class=\"dataframe\">\n",
       "  <thead>\n",
       "    <tr style=\"text-align: right;\">\n",
       "      <th></th>\n",
       "      <th>datetime</th>\n",
       "      <th>close</th>\n",
       "      <th>high</th>\n",
       "      <th>low</th>\n",
       "      <th>open</th>\n",
       "      <th>volumefrom</th>\n",
       "      <th>volumeto</th>\n",
       "    </tr>\n",
       "  </thead>\n",
       "  <tbody>\n",
       "    <tr>\n",
       "      <th>0</th>\n",
       "      <td>2016-02-06</td>\n",
       "      <td>0.00</td>\n",
       "      <td>0.00</td>\n",
       "      <td>0.00</td>\n",
       "      <td>0.00</td>\n",
       "      <td>0.00</td>\n",
       "      <td>0.000000e+00</td>\n",
       "    </tr>\n",
       "    <tr>\n",
       "      <th>1</th>\n",
       "      <td>2016-02-07</td>\n",
       "      <td>0.00</td>\n",
       "      <td>0.00</td>\n",
       "      <td>0.00</td>\n",
       "      <td>0.00</td>\n",
       "      <td>0.00</td>\n",
       "      <td>0.000000e+00</td>\n",
       "    </tr>\n",
       "    <tr>\n",
       "      <th>2</th>\n",
       "      <td>2016-02-08</td>\n",
       "      <td>0.00</td>\n",
       "      <td>0.00</td>\n",
       "      <td>0.00</td>\n",
       "      <td>0.00</td>\n",
       "      <td>0.00</td>\n",
       "      <td>0.000000e+00</td>\n",
       "    </tr>\n",
       "    <tr>\n",
       "      <th>3</th>\n",
       "      <td>2016-02-09</td>\n",
       "      <td>0.00</td>\n",
       "      <td>0.00</td>\n",
       "      <td>0.00</td>\n",
       "      <td>0.00</td>\n",
       "      <td>0.00</td>\n",
       "      <td>0.000000e+00</td>\n",
       "    </tr>\n",
       "    <tr>\n",
       "      <th>4</th>\n",
       "      <td>2016-02-10</td>\n",
       "      <td>0.00</td>\n",
       "      <td>0.00</td>\n",
       "      <td>0.00</td>\n",
       "      <td>0.00</td>\n",
       "      <td>0.00</td>\n",
       "      <td>0.000000e+00</td>\n",
       "    </tr>\n",
       "    <tr>\n",
       "      <th>...</th>\n",
       "      <td>...</td>\n",
       "      <td>...</td>\n",
       "      <td>...</td>\n",
       "      <td>...</td>\n",
       "      <td>...</td>\n",
       "      <td>...</td>\n",
       "      <td>...</td>\n",
       "    </tr>\n",
       "    <tr>\n",
       "      <th>1996</th>\n",
       "      <td>2021-07-25</td>\n",
       "      <td>2194.00</td>\n",
       "      <td>2199.49</td>\n",
       "      <td>2108.00</td>\n",
       "      <td>2185.86</td>\n",
       "      <td>19955.29</td>\n",
       "      <td>4.322392e+07</td>\n",
       "    </tr>\n",
       "    <tr>\n",
       "      <th>1997</th>\n",
       "      <td>2021-07-26</td>\n",
       "      <td>2228.00</td>\n",
       "      <td>2435.01</td>\n",
       "      <td>2175.57</td>\n",
       "      <td>2194.00</td>\n",
       "      <td>58867.06</td>\n",
       "      <td>1.366236e+08</td>\n",
       "    </tr>\n",
       "    <tr>\n",
       "      <th>1998</th>\n",
       "      <td>2021-07-27</td>\n",
       "      <td>2304.62</td>\n",
       "      <td>2321.80</td>\n",
       "      <td>2150.62</td>\n",
       "      <td>2228.00</td>\n",
       "      <td>33758.20</td>\n",
       "      <td>7.594619e+07</td>\n",
       "    </tr>\n",
       "    <tr>\n",
       "      <th>1999</th>\n",
       "      <td>2021-07-28</td>\n",
       "      <td>2299.52</td>\n",
       "      <td>2347.15</td>\n",
       "      <td>2244.81</td>\n",
       "      <td>2304.62</td>\n",
       "      <td>33002.47</td>\n",
       "      <td>7.583673e+07</td>\n",
       "    </tr>\n",
       "    <tr>\n",
       "      <th>2000</th>\n",
       "      <td>2021-07-29</td>\n",
       "      <td>2375.63</td>\n",
       "      <td>2404.08</td>\n",
       "      <td>2266.51</td>\n",
       "      <td>2299.52</td>\n",
       "      <td>16064.12</td>\n",
       "      <td>3.730310e+07</td>\n",
       "    </tr>\n",
       "  </tbody>\n",
       "</table>\n",
       "<p>2001 rows × 7 columns</p>\n",
       "</div>"
      ],
      "text/plain": [
       "       datetime    close     high      low     open  volumefrom      volumeto\n",
       "0    2016-02-06     0.00     0.00     0.00     0.00        0.00  0.000000e+00\n",
       "1    2016-02-07     0.00     0.00     0.00     0.00        0.00  0.000000e+00\n",
       "2    2016-02-08     0.00     0.00     0.00     0.00        0.00  0.000000e+00\n",
       "3    2016-02-09     0.00     0.00     0.00     0.00        0.00  0.000000e+00\n",
       "4    2016-02-10     0.00     0.00     0.00     0.00        0.00  0.000000e+00\n",
       "...         ...      ...      ...      ...      ...         ...           ...\n",
       "1996 2021-07-25  2194.00  2199.49  2108.00  2185.86    19955.29  4.322392e+07\n",
       "1997 2021-07-26  2228.00  2435.01  2175.57  2194.00    58867.06  1.366236e+08\n",
       "1998 2021-07-27  2304.62  2321.80  2150.62  2228.00    33758.20  7.594619e+07\n",
       "1999 2021-07-28  2299.52  2347.15  2244.81  2304.62    33002.47  7.583673e+07\n",
       "2000 2021-07-29  2375.63  2404.08  2266.51  2299.52    16064.12  3.730310e+07\n",
       "\n",
       "[2001 rows x 7 columns]"
      ]
     },
     "execution_count": 6,
     "metadata": {},
     "output_type": "execute_result"
    }
   ],
   "source": [
    "df_eth['datetime'] = pd.to_datetime(df_eth.time, unit='s')\n",
    "# reorder and drop time\n",
    "df_eth = df_eth[['datetime', 'close', 'high', 'low', 'open', 'volumefrom', 'volumeto']]\n",
    "# df_btc = df_btc.drop(columns=['time'])\n",
    "df_eth"
   ]
  },
  {
   "cell_type": "markdown",
   "metadata": {},
   "source": [
    "We've found cases where all of the values are zero, at the beginning.  Lets clean the data to make sure there are no entries where there is no data"
   ]
  },
  {
   "cell_type": "code",
   "execution_count": 7,
   "metadata": {},
   "outputs": [
    {
     "name": "stdout",
     "output_type": "stream",
     "text": [
      "Filtering 642 empty datapoints\n"
     ]
    },
    {
     "data": {
      "text/html": [
       "<div>\n",
       "<style scoped>\n",
       "    .dataframe tbody tr th:only-of-type {\n",
       "        vertical-align: middle;\n",
       "    }\n",
       "\n",
       "    .dataframe tbody tr th {\n",
       "        vertical-align: top;\n",
       "    }\n",
       "\n",
       "    .dataframe thead th {\n",
       "        text-align: right;\n",
       "    }\n",
       "</style>\n",
       "<table border=\"1\" class=\"dataframe\">\n",
       "  <thead>\n",
       "    <tr style=\"text-align: right;\">\n",
       "      <th></th>\n",
       "      <th>datetime</th>\n",
       "      <th>close</th>\n",
       "      <th>high</th>\n",
       "      <th>low</th>\n",
       "      <th>open</th>\n",
       "      <th>volumefrom</th>\n",
       "      <th>volumeto</th>\n",
       "    </tr>\n",
       "  </thead>\n",
       "  <tbody>\n",
       "    <tr>\n",
       "      <th>642</th>\n",
       "      <td>2017-11-09</td>\n",
       "      <td>321.32</td>\n",
       "      <td>331.70</td>\n",
       "      <td>317.29</td>\n",
       "      <td>322.15</td>\n",
       "      <td>13118.15</td>\n",
       "      <td>4.270935e+06</td>\n",
       "    </tr>\n",
       "    <tr>\n",
       "      <th>643</th>\n",
       "      <td>2017-11-10</td>\n",
       "      <td>298.66</td>\n",
       "      <td>325.61</td>\n",
       "      <td>291.00</td>\n",
       "      <td>321.32</td>\n",
       "      <td>34411.65</td>\n",
       "      <td>1.058054e+07</td>\n",
       "    </tr>\n",
       "    <tr>\n",
       "      <th>644</th>\n",
       "      <td>2017-11-11</td>\n",
       "      <td>315.76</td>\n",
       "      <td>322.19</td>\n",
       "      <td>298.00</td>\n",
       "      <td>298.66</td>\n",
       "      <td>23836.74</td>\n",
       "      <td>7.328432e+06</td>\n",
       "    </tr>\n",
       "    <tr>\n",
       "      <th>645</th>\n",
       "      <td>2017-11-12</td>\n",
       "      <td>306.10</td>\n",
       "      <td>318.98</td>\n",
       "      <td>300.11</td>\n",
       "      <td>315.76</td>\n",
       "      <td>48200.80</td>\n",
       "      <td>1.485482e+07</td>\n",
       "    </tr>\n",
       "    <tr>\n",
       "      <th>646</th>\n",
       "      <td>2017-11-13</td>\n",
       "      <td>316.14</td>\n",
       "      <td>320.69</td>\n",
       "      <td>305.91</td>\n",
       "      <td>306.10</td>\n",
       "      <td>36613.50</td>\n",
       "      <td>1.151786e+07</td>\n",
       "    </tr>\n",
       "    <tr>\n",
       "      <th>...</th>\n",
       "      <td>...</td>\n",
       "      <td>...</td>\n",
       "      <td>...</td>\n",
       "      <td>...</td>\n",
       "      <td>...</td>\n",
       "      <td>...</td>\n",
       "      <td>...</td>\n",
       "    </tr>\n",
       "    <tr>\n",
       "      <th>1996</th>\n",
       "      <td>2021-07-25</td>\n",
       "      <td>2194.00</td>\n",
       "      <td>2199.49</td>\n",
       "      <td>2108.00</td>\n",
       "      <td>2185.86</td>\n",
       "      <td>19955.29</td>\n",
       "      <td>4.322392e+07</td>\n",
       "    </tr>\n",
       "    <tr>\n",
       "      <th>1997</th>\n",
       "      <td>2021-07-26</td>\n",
       "      <td>2228.00</td>\n",
       "      <td>2435.01</td>\n",
       "      <td>2175.57</td>\n",
       "      <td>2194.00</td>\n",
       "      <td>58867.06</td>\n",
       "      <td>1.366236e+08</td>\n",
       "    </tr>\n",
       "    <tr>\n",
       "      <th>1998</th>\n",
       "      <td>2021-07-27</td>\n",
       "      <td>2304.62</td>\n",
       "      <td>2321.80</td>\n",
       "      <td>2150.62</td>\n",
       "      <td>2228.00</td>\n",
       "      <td>33758.20</td>\n",
       "      <td>7.594619e+07</td>\n",
       "    </tr>\n",
       "    <tr>\n",
       "      <th>1999</th>\n",
       "      <td>2021-07-28</td>\n",
       "      <td>2299.52</td>\n",
       "      <td>2347.15</td>\n",
       "      <td>2244.81</td>\n",
       "      <td>2304.62</td>\n",
       "      <td>33002.47</td>\n",
       "      <td>7.583673e+07</td>\n",
       "    </tr>\n",
       "    <tr>\n",
       "      <th>2000</th>\n",
       "      <td>2021-07-29</td>\n",
       "      <td>2375.63</td>\n",
       "      <td>2404.08</td>\n",
       "      <td>2266.51</td>\n",
       "      <td>2299.52</td>\n",
       "      <td>16064.12</td>\n",
       "      <td>3.730310e+07</td>\n",
       "    </tr>\n",
       "  </tbody>\n",
       "</table>\n",
       "<p>1359 rows × 7 columns</p>\n",
       "</div>"
      ],
      "text/plain": [
       "       datetime    close     high      low     open  volumefrom      volumeto\n",
       "642  2017-11-09   321.32   331.70   317.29   322.15    13118.15  4.270935e+06\n",
       "643  2017-11-10   298.66   325.61   291.00   321.32    34411.65  1.058054e+07\n",
       "644  2017-11-11   315.76   322.19   298.00   298.66    23836.74  7.328432e+06\n",
       "645  2017-11-12   306.10   318.98   300.11   315.76    48200.80  1.485482e+07\n",
       "646  2017-11-13   316.14   320.69   305.91   306.10    36613.50  1.151786e+07\n",
       "...         ...      ...      ...      ...      ...         ...           ...\n",
       "1996 2021-07-25  2194.00  2199.49  2108.00  2185.86    19955.29  4.322392e+07\n",
       "1997 2021-07-26  2228.00  2435.01  2175.57  2194.00    58867.06  1.366236e+08\n",
       "1998 2021-07-27  2304.62  2321.80  2150.62  2228.00    33758.20  7.594619e+07\n",
       "1999 2021-07-28  2299.52  2347.15  2244.81  2304.62    33002.47  7.583673e+07\n",
       "2000 2021-07-29  2375.63  2404.08  2266.51  2299.52    16064.12  3.730310e+07\n",
       "\n",
       "[1359 rows x 7 columns]"
      ]
     },
     "execution_count": 7,
     "metadata": {},
     "output_type": "execute_result"
    }
   ],
   "source": [
    "indices = df_eth[df_eth.sum(axis=1) == 0].index\n",
    "print('Filtering %d empty datapoints' % indices.shape[0])\n",
    "df_eth = df_eth.drop(indices)\n",
    "df_eth"
   ]
  },
  {
   "cell_type": "markdown",
   "metadata": {},
   "source": [
    "great - it looks like we now have clean data!"
   ]
  },
  {
   "cell_type": "markdown",
   "metadata": {},
   "source": [
    "## Saving data to a file\n",
    "\n",
    "Now that we have the history, lets save it to a file so we can reload it easier next time.  This is pretty easy with pandas but we want to make sure its in the right place."
   ]
  },
  {
   "cell_type": "code",
   "execution_count": 18,
   "metadata": {},
   "outputs": [
    {
     "name": "stdout",
     "output_type": "stream",
     "text": [
      "Saving data to datasets/crypto_data/eth_history.csv\n"
     ]
    }
   ],
   "source": [
    "path = 'datasets/crypto_data/'\n",
    "filename = 'eth_history.csv'\n",
    "print(f'Saving data to {path}{filename}')\n",
    "df_eth.to_csv(f'{path}{filename}', index=False)"
   ]
  },
  {
   "cell_type": "markdown",
   "metadata": {},
   "source": [
    "## Functions for reuse\n",
    "\n",
    "Nice, now that we've sorted this, we want to make this code reusable so we can easily download data for other coins, exchanges, and intervals (day, hour, minute).\n",
    "\n",
    "Lets build some functions:\n",
    "\n",
    "First function will generate a file name to save the data we've retrieved."
   ]
  },
  {
   "cell_type": "code",
   "execution_count": 4,
   "metadata": {},
   "outputs": [],
   "source": [
    "def get_filename(from_symbol, to_symbol, exchange, datetime_interval, download_date, data_path=''):\n",
    "    '''\n",
    "    return a filename using the supplied optional path and paramters\n",
    "    '''\n",
    "    return f'{data_path}{from_symbol}_{to_symbol}_{exchange}_{datetime_interval}_{download_date}.csv'"
   ]
  },
  {
   "cell_type": "code",
   "execution_count": 5,
   "metadata": {},
   "outputs": [],
   "source": [
    "def download_data(from_symbol, to_symbol, exchange, datetime_interval):\n",
    "    '''\n",
    "    download json data using the CryptoCompare history API\n",
    "    '''\n",
    "    supported_intervals = {'minute', 'hour', 'day'}\n",
    "    assert datetime_interval in supported_intervals,\\\n",
    "        'datetime_interval should be one of %s' % supported_intervals\n",
    "    print('Downloading %s trading data for %s %s from %s' %\n",
    "          (datetime_interval, from_symbol, to_symbol, exchange))\n",
    "    base_url = 'https://min-api.cryptocompare.com/data/histo'\n",
    "    url = '%s%s' % (base_url, datetime_interval)\n",
    "    params = {'fsym': from_symbol, 'tsym': to_symbol,\n",
    "              'limit': 2000, 'aggregate': 1,\n",
    "              'e': exchange}\n",
    "    request = requests.get(url, params=params)\n",
    "    data = request.json()\n",
    "    return data"
   ]
  },
  {
   "cell_type": "code",
   "execution_count": 6,
   "metadata": {},
   "outputs": [],
   "source": [
    "def convert_to_dataframe(data):\n",
    "    '''\n",
    "    Convert data in dict to a pandas dataframe for analysis\n",
    "    We convert the time to a datetime, and keep only certain columns\n",
    "    '''\n",
    "\n",
    "    df = pd.json_normalize(data, ['Data'])\n",
    "    df['datetime'] = pd.to_datetime(df.time, unit='s')\n",
    "    df = df[['datetime', 'low', 'high', 'open',\n",
    "             'close', 'volumefrom', 'volumeto']]\n",
    "    return df"
   ]
  },
  {
   "cell_type": "code",
   "execution_count": 7,
   "metadata": {},
   "outputs": [],
   "source": [
    "def filter_empty_datapoints(df):\n",
    "    '''filter out rows where all of the columns are zero\n",
    "    '''\n",
    "    indices = df[df.sum(axis=1) == 0].index\n",
    "    print('Filtering %d empty datapoints' % indices.shape[0])\n",
    "    df = df.drop(indices)\n",
    "    return df\n",
    "\n",
    "def download_and_save(from_symbol, to_symbol, exchange, datetime_interval, data_path=''):\n",
    "    '''\n",
    "    Download data from the API, clean it, and save it to a CSV file!\n",
    "    '''\n",
    "    data = download_data(from_symbol, to_symbol, exchange, datetime_interval)\n",
    "    df = convert_to_dataframe(data)\n",
    "    df = filter_empty_datapoints(df)\n",
    "    current_datetime = datetime.now().date().isoformat()\n",
    "    filename = get_filename(from_symbol, to_symbol, exchange, datetime_interval, current_datetime, data_path=data_path)\n",
    "    print(f'Saving data to {filename}')\n",
    "    df.to_csv(filename, index=False)\n"
   ]
  },
  {
   "cell_type": "code",
   "execution_count": 8,
   "metadata": {},
   "outputs": [],
   "source": [
    "download = False    # disable/enable API calls\n",
    "\n",
    "# data_path = '/content/drive/MyDrive/Colab Notebooks/data/crypto_data/'\n",
    "data_path = 'datasets/crypto_data/'\n",
    "exchange = 'Bitstamp' # Coinbase\n",
    "datetime_interval = 'day'\n",
    "coins = ['BTC','ETH','LTC']\n",
    "currency = 'USD'\n",
    "if download:\n",
    "    for coin in coins:\n",
    "        download_and_save(coin, currency, exchange, datetime_interval, data_path=data_path)\n"
   ]
  },
  {
   "cell_type": "markdown",
   "metadata": {
    "id": "KzKZctwktCzH"
   },
   "source": [
    "Now that we have nice CSV files to work with, lets load one up for analysis.  We'll use the LTC file.\n"
   ]
  },
  {
   "cell_type": "code",
   "execution_count": 9,
   "metadata": {},
   "outputs": [
    {
     "name": "stdout",
     "output_type": "stream",
     "text": [
      "Reading data from datasets/crypto_data/LTC_USD_Bitstamp_day_2021-06-06.csv\n",
      "(1443, 6)\n"
     ]
    }
   ],
   "source": [
    "filename = get_filename('LTC', 'USD', 'Bitstamp', 'day', '2021-06-06', data_path=data_path)\n",
    "print(f'Reading data from {filename}')\n",
    "df = pd.read_csv(filename)\n",
    "# convert string from the csv file to a datetime\n",
    "df.datetime = pd.to_datetime(df.datetime)\n",
    "# change the index to the datetime\n",
    "df = df.set_index('datetime')     \n",
    "# sort it         \n",
    "df = df.sort_index() # sort by datetime\n",
    "print(df.shape)\n"
   ]
  },
  {
   "cell_type": "markdown",
   "metadata": {},
   "source": [
    "Lets create a function for this as well to make it easy to call this for different files"
   ]
  },
  {
   "cell_type": "code",
   "execution_count": 10,
   "metadata": {
    "id": "OLGqnJPagVSi"
   },
   "outputs": [],
   "source": [
    "def read_dataset(filename):\n",
    "    print(f'Reading data from {filename}')\n",
    "    df = pd.read_csv(filename)\n",
    "    df.datetime = pd.to_datetime(df.datetime)\n",
    "    df = df.set_index('datetime') \n",
    "    df = df.sort_index()\n",
    "    print(df.shape)\n",
    "    return df"
   ]
  },
  {
   "cell_type": "markdown",
   "metadata": {},
   "source": [
    "Now we'll load up several data frames"
   ]
  },
  {
   "cell_type": "code",
   "execution_count": 11,
   "metadata": {
    "colab": {
     "base_uri": "https://localhost:8080/"
    },
    "id": "DTtuPwzNgo4X",
    "outputId": "259d9511-dcc5-4059-8c97-40080884d59f"
   },
   "outputs": [
    {
     "name": "stdout",
     "output_type": "stream",
     "text": [
      "Reading data from datasets/crypto_data/BTC_USD_Bitstamp_day_2021-06-06.csv\n",
      "(2001, 6)\n",
      "Reading data from datasets/crypto_data/ETH_USD_Bitstamp_day_2021-06-06.csv\n",
      "(1306, 6)\n",
      "Reading data from datasets/crypto_data/LTC_USD_Bitstamp_day_2021-06-06.csv\n",
      "(1443, 6)\n"
     ]
    }
   ],
   "source": [
    "df_btc = read_dataset(get_filename('BTC', 'USD', 'Bitstamp', 'day', '2021-06-06',data_path=data_path))\n",
    "df_eth = read_dataset(get_filename('ETH', 'USD', 'Bitstamp', 'day', '2021-06-06',data_path=data_path))\n",
    "df_ltc = read_dataset(get_filename('LTC', 'USD', 'Bitstamp', 'day', '2021-06-06',data_path=data_path))"
   ]
  },
  {
   "cell_type": "code",
   "execution_count": 12,
   "metadata": {
    "colab": {
     "base_uri": "https://localhost:8080/",
     "height": 235
    },
    "id": "OsvKisLmhF1a",
    "outputId": "2c75b915-4503-4db4-aa38-a87479410ecb"
   },
   "outputs": [
    {
     "data": {
      "text/html": [
       "<div>\n",
       "<style scoped>\n",
       "    .dataframe tbody tr th:only-of-type {\n",
       "        vertical-align: middle;\n",
       "    }\n",
       "\n",
       "    .dataframe tbody tr th {\n",
       "        vertical-align: top;\n",
       "    }\n",
       "\n",
       "    .dataframe thead th {\n",
       "        text-align: right;\n",
       "    }\n",
       "</style>\n",
       "<table border=\"1\" class=\"dataframe\">\n",
       "  <thead>\n",
       "    <tr style=\"text-align: right;\">\n",
       "      <th></th>\n",
       "      <th>low</th>\n",
       "      <th>high</th>\n",
       "      <th>open</th>\n",
       "      <th>close</th>\n",
       "      <th>volumefrom</th>\n",
       "      <th>volumeto</th>\n",
       "    </tr>\n",
       "    <tr>\n",
       "      <th>datetime</th>\n",
       "      <th></th>\n",
       "      <th></th>\n",
       "      <th></th>\n",
       "      <th></th>\n",
       "      <th></th>\n",
       "      <th></th>\n",
       "    </tr>\n",
       "  </thead>\n",
       "  <tbody>\n",
       "    <tr>\n",
       "      <th>2017-11-09</th>\n",
       "      <td>317.29</td>\n",
       "      <td>331.70</td>\n",
       "      <td>322.15</td>\n",
       "      <td>321.32</td>\n",
       "      <td>13118.15</td>\n",
       "      <td>4270934.90</td>\n",
       "    </tr>\n",
       "    <tr>\n",
       "      <th>2017-11-10</th>\n",
       "      <td>291.00</td>\n",
       "      <td>325.61</td>\n",
       "      <td>321.32</td>\n",
       "      <td>298.66</td>\n",
       "      <td>34411.65</td>\n",
       "      <td>10580539.65</td>\n",
       "    </tr>\n",
       "    <tr>\n",
       "      <th>2017-11-11</th>\n",
       "      <td>298.00</td>\n",
       "      <td>322.19</td>\n",
       "      <td>298.66</td>\n",
       "      <td>315.76</td>\n",
       "      <td>23836.74</td>\n",
       "      <td>7328431.51</td>\n",
       "    </tr>\n",
       "    <tr>\n",
       "      <th>2017-11-12</th>\n",
       "      <td>300.11</td>\n",
       "      <td>318.98</td>\n",
       "      <td>315.76</td>\n",
       "      <td>306.10</td>\n",
       "      <td>48200.80</td>\n",
       "      <td>14854823.36</td>\n",
       "    </tr>\n",
       "    <tr>\n",
       "      <th>2017-11-13</th>\n",
       "      <td>305.91</td>\n",
       "      <td>320.69</td>\n",
       "      <td>306.10</td>\n",
       "      <td>316.14</td>\n",
       "      <td>36613.50</td>\n",
       "      <td>11517856.30</td>\n",
       "    </tr>\n",
       "  </tbody>\n",
       "</table>\n",
       "</div>"
      ],
      "text/plain": [
       "               low    high    open   close  volumefrom     volumeto\n",
       "datetime                                                           \n",
       "2017-11-09  317.29  331.70  322.15  321.32    13118.15   4270934.90\n",
       "2017-11-10  291.00  325.61  321.32  298.66    34411.65  10580539.65\n",
       "2017-11-11  298.00  322.19  298.66  315.76    23836.74   7328431.51\n",
       "2017-11-12  300.11  318.98  315.76  306.10    48200.80  14854823.36\n",
       "2017-11-13  305.91  320.69  306.10  316.14    36613.50  11517856.30"
      ]
     },
     "execution_count": 12,
     "metadata": {},
     "output_type": "execute_result"
    }
   ],
   "source": [
    "df_eth.head()"
   ]
  },
  {
   "cell_type": "code",
   "execution_count": 13,
   "metadata": {
    "colab": {
     "base_uri": "https://localhost:8080/",
     "height": 235
    },
    "id": "pC9WjoY5hQZK",
    "outputId": "fb37b231-6aa0-4eae-f265-031060359c08"
   },
   "outputs": [
    {
     "data": {
      "text/html": [
       "<div>\n",
       "<style scoped>\n",
       "    .dataframe tbody tr th:only-of-type {\n",
       "        vertical-align: middle;\n",
       "    }\n",
       "\n",
       "    .dataframe tbody tr th {\n",
       "        vertical-align: top;\n",
       "    }\n",
       "\n",
       "    .dataframe thead th {\n",
       "        text-align: right;\n",
       "    }\n",
       "</style>\n",
       "<table border=\"1\" class=\"dataframe\">\n",
       "  <thead>\n",
       "    <tr style=\"text-align: right;\">\n",
       "      <th></th>\n",
       "      <th>BTC</th>\n",
       "      <th>ETH</th>\n",
       "      <th>LTC</th>\n",
       "    </tr>\n",
       "    <tr>\n",
       "      <th>datetime</th>\n",
       "      <th></th>\n",
       "      <th></th>\n",
       "      <th></th>\n",
       "    </tr>\n",
       "  </thead>\n",
       "  <tbody>\n",
       "    <tr>\n",
       "      <th>2017-11-09</th>\n",
       "      <td>7148.00</td>\n",
       "      <td>321.32</td>\n",
       "      <td>64.48</td>\n",
       "    </tr>\n",
       "    <tr>\n",
       "      <th>2017-11-10</th>\n",
       "      <td>6588.18</td>\n",
       "      <td>298.66</td>\n",
       "      <td>59.08</td>\n",
       "    </tr>\n",
       "    <tr>\n",
       "      <th>2017-11-11</th>\n",
       "      <td>6355.13</td>\n",
       "      <td>315.76</td>\n",
       "      <td>62.47</td>\n",
       "    </tr>\n",
       "    <tr>\n",
       "      <th>2017-11-12</th>\n",
       "      <td>5870.37</td>\n",
       "      <td>306.10</td>\n",
       "      <td>58.70</td>\n",
       "    </tr>\n",
       "    <tr>\n",
       "      <th>2017-11-13</th>\n",
       "      <td>6525.17</td>\n",
       "      <td>316.14</td>\n",
       "      <td>61.03</td>\n",
       "    </tr>\n",
       "  </tbody>\n",
       "</table>\n",
       "</div>"
      ],
      "text/plain": [
       "                BTC     ETH    LTC\n",
       "datetime                          \n",
       "2017-11-09  7148.00  321.32  64.48\n",
       "2017-11-10  6588.18  298.66  59.08\n",
       "2017-11-11  6355.13  315.76  62.47\n",
       "2017-11-12  5870.37  306.10  58.70\n",
       "2017-11-13  6525.17  316.14  61.03"
      ]
     },
     "execution_count": 13,
     "metadata": {},
     "output_type": "execute_result"
    }
   ],
   "source": [
    "df = pd.DataFrame({'BTC': df_btc.close,\n",
    "                   'ETH': df_eth.close,\n",
    "                   'LTC': df_ltc.close})\n",
    "df = df.dropna()\n",
    "df.head()"
   ]
  },
  {
   "cell_type": "code",
   "execution_count": 14,
   "metadata": {
    "colab": {
     "base_uri": "https://localhost:8080/"
    },
    "id": "XwAOpEDYhcyN",
    "outputId": "8a131466-f26c-446e-a0db-7d791694df66"
   },
   "outputs": [
    {
     "name": "stdout",
     "output_type": "stream",
     "text": [
      "<class 'pandas.core.frame.DataFrame'>\n",
      "DatetimeIndex: 1306 entries, 2017-11-09 to 2021-06-06\n",
      "Freq: D\n",
      "Data columns (total 3 columns):\n",
      " #   Column  Non-Null Count  Dtype  \n",
      "---  ------  --------------  -----  \n",
      " 0   BTC     1306 non-null   float64\n",
      " 1   ETH     1306 non-null   float64\n",
      " 2   LTC     1306 non-null   float64\n",
      "dtypes: float64(3)\n",
      "memory usage: 40.8 KB\n"
     ]
    }
   ],
   "source": [
    "df.info()"
   ]
  },
  {
   "cell_type": "markdown",
   "metadata": {
    "id": "W0CXAzG4ugXM"
   },
   "source": [
    "Lets look at some stats"
   ]
  },
  {
   "cell_type": "code",
   "execution_count": 15,
   "metadata": {
    "colab": {
     "base_uri": "https://localhost:8080/",
     "height": 297
    },
    "id": "xVaSSrQiuklt",
    "outputId": "c48cde4a-ce4f-4cd4-b44a-8080b2458532"
   },
   "outputs": [
    {
     "data": {
      "text/html": [
       "<div>\n",
       "<style scoped>\n",
       "    .dataframe tbody tr th:only-of-type {\n",
       "        vertical-align: middle;\n",
       "    }\n",
       "\n",
       "    .dataframe tbody tr th {\n",
       "        vertical-align: top;\n",
       "    }\n",
       "\n",
       "    .dataframe thead th {\n",
       "        text-align: right;\n",
       "    }\n",
       "</style>\n",
       "<table border=\"1\" class=\"dataframe\">\n",
       "  <thead>\n",
       "    <tr style=\"text-align: right;\">\n",
       "      <th></th>\n",
       "      <th>BTC</th>\n",
       "      <th>ETH</th>\n",
       "      <th>LTC</th>\n",
       "    </tr>\n",
       "  </thead>\n",
       "  <tbody>\n",
       "    <tr>\n",
       "      <th>count</th>\n",
       "      <td>1306.000000</td>\n",
       "      <td>1306.000000</td>\n",
       "      <td>1306.000000</td>\n",
       "    </tr>\n",
       "    <tr>\n",
       "      <th>mean</th>\n",
       "      <td>13470.015613</td>\n",
       "      <td>538.038530</td>\n",
       "      <td>95.932550</td>\n",
       "    </tr>\n",
       "    <tr>\n",
       "      <th>std</th>\n",
       "      <td>13477.156522</td>\n",
       "      <td>649.683556</td>\n",
       "      <td>66.879637</td>\n",
       "    </tr>\n",
       "    <tr>\n",
       "      <th>min</th>\n",
       "      <td>3179.540000</td>\n",
       "      <td>82.910000</td>\n",
       "      <td>22.820000</td>\n",
       "    </tr>\n",
       "    <tr>\n",
       "      <th>25%</th>\n",
       "      <td>6738.032500</td>\n",
       "      <td>180.207500</td>\n",
       "      <td>48.632500</td>\n",
       "    </tr>\n",
       "    <tr>\n",
       "      <th>50%</th>\n",
       "      <td>8919.025000</td>\n",
       "      <td>268.970000</td>\n",
       "      <td>68.425000</td>\n",
       "    </tr>\n",
       "    <tr>\n",
       "      <th>75%</th>\n",
       "      <td>11428.625000</td>\n",
       "      <td>576.780000</td>\n",
       "      <td>127.695000</td>\n",
       "    </tr>\n",
       "    <tr>\n",
       "      <th>max</th>\n",
       "      <td>63564.480000</td>\n",
       "      <td>4179.470000</td>\n",
       "      <td>388.320000</td>\n",
       "    </tr>\n",
       "  </tbody>\n",
       "</table>\n",
       "</div>"
      ],
      "text/plain": [
       "                BTC          ETH          LTC\n",
       "count   1306.000000  1306.000000  1306.000000\n",
       "mean   13470.015613   538.038530    95.932550\n",
       "std    13477.156522   649.683556    66.879637\n",
       "min     3179.540000    82.910000    22.820000\n",
       "25%     6738.032500   180.207500    48.632500\n",
       "50%     8919.025000   268.970000    68.425000\n",
       "75%    11428.625000   576.780000   127.695000\n",
       "max    63564.480000  4179.470000   388.320000"
      ]
     },
     "execution_count": 15,
     "metadata": {},
     "output_type": "execute_result"
    }
   ],
   "source": [
    "df.describe()"
   ]
  },
  {
   "cell_type": "markdown",
   "metadata": {
    "id": "I9D3TSFYt_Q8",
    "tags": []
   },
   "source": [
    "# Visualizations\n",
    "\n",
    "##  Boxplot\n",
    "\n",
    "Look at LTC prices more closely using a boxplot.\n",
    "\n",
    "A box plot shows the quartiles of the dataset with points that are determined to be outliers using a method of the inter-quartile range (IQR). In other words, the IQR is the first quartile (25%) subtracted from the third quartile (75%).\n",
    "\n",
    "So most of the prices are between 50 and 100.  Anything else is unsual."
   ]
  },
  {
   "cell_type": "code",
   "execution_count": 16,
   "metadata": {
    "colab": {
     "base_uri": "https://localhost:8080/",
     "height": 265
    },
    "id": "jGsqlTFxt87C",
    "outputId": "5d47d8c0-49ec-4d6e-c285-f422e0ea1a29"
   },
   "outputs": [
    {
     "data": {
      "image/png": "[encoded data removed]",
      "text/plain": [
       "<Figure size 432x288 with 1 Axes>"
      ]
     },
     "metadata": {
      "needs_background": "light"
     },
     "output_type": "display_data"
    }
   ],
   "source": [
    "import seaborn as sns\n",
    "ax = sns.boxplot(data=df['LTC'], orient=\"h\")"
   ]
  },
  {
   "cell_type": "markdown",
   "metadata": {
    "id": "gwKMarBiuaxS"
   },
   "source": [
    "## Histogram of prices\n",
    "\n",
    "Lets look at a histogram of the prices and draw the median and mean"
   ]
  },
  {
   "cell_type": "code",
   "execution_count": 17,
   "metadata": {
    "colab": {
     "base_uri": "https://localhost:8080/",
     "height": 609
    },
    "id": "WWPiZaFiuX90",
    "outputId": "9a7472ae-8cc2-4ce2-d316-4857c53fa718"
   },
   "outputs": [
    {
     "data": {
      "text/plain": [
       "<matplotlib.lines.Line2D at 0x130f7bb20>"
      ]
     },
     "execution_count": 17,
     "metadata": {},
     "output_type": "execute_result"
    },
    {
     "data": {
      "image/png": "[encoded data removed]",
      "text/plain": [
       "<Figure size 1080x720 with 1 Axes>"
      ]
     },
     "metadata": {
      "needs_background": "light"
     },
     "output_type": "display_data"
    }
   ],
   "source": [
    "df['LTC'].hist(bins=30, figsize=(15,10)).axvline(df['LTC'].median(), color='b', linestyle='dashed', linewidth=2)"
   ]
  },
  {
   "cell_type": "markdown",
   "metadata": {
    "id": "hGsbZTH4jS0W"
   },
   "source": [
    "## Price time series\n",
    "\n",
    "Absolute price plot"
   ]
  },
  {
   "cell_type": "code",
   "execution_count": 18,
   "metadata": {
    "colab": {
     "base_uri": "https://localhost:8080/",
     "height": 634
    },
    "id": "YMsw1geDhmBv",
    "outputId": "6a950bf5-6e4d-45b4-c61a-e4af508dda2a"
   },
   "outputs": [
    {
     "data": {
      "text/plain": [
       "<AxesSubplot:xlabel='datetime'>"
      ]
     },
     "execution_count": 18,
     "metadata": {},
     "output_type": "execute_result"
    },
    {
     "data": {
      "image/png": "[encoded data removed]",
      "text/plain": [
       "<Figure size 1080x720 with 1 Axes>"
      ]
     },
     "metadata": {
      "needs_background": "light"
     },
     "output_type": "display_data"
    }
   ],
   "source": [
    "df.plot(grid=True, figsize=(15, 10))"
   ]
  },
  {
   "cell_type": "markdown",
   "metadata": {
    "id": "oiyXp0UVjVgx"
   },
   "source": [
    "relative plot\n",
    "\n",
    "We create an axis for each plot separately."
   ]
  },
  {
   "cell_type": "code",
   "execution_count": 19,
   "metadata": {
    "colab": {
     "base_uri": "https://localhost:8080/",
     "height": 614
    },
    "id": "LC4yztnFh1oC",
    "outputId": "cee89dc0-b665-4c35-bf96-2cd33754b845"
   },
   "outputs": [
    {
     "data": {
      "text/plain": [
       "<matplotlib.legend.Legend at 0x1311f6ac0>"
      ]
     },
     "execution_count": 19,
     "metadata": {},
     "output_type": "execute_result"
    },
    {
     "data": {
      "image/png": "[encoded data removed]",
      "text/plain": [
       "<Figure size 1440x720 with 3 Axes>"
      ]
     },
     "metadata": {
      "needs_background": "light"
     },
     "output_type": "display_data"
    }
   ],
   "source": [
    "fig, ax1 = plt.subplots(figsize=(20, 10))\n",
    "ax2 = ax1.twinx()  # instantiate a second axes that shares the same x-axis\n",
    "\n",
    "# move this axis over to the right a bit - magic.\n",
    "rspine = ax2.spines['right']\n",
    "rspine.set_position(('axes', 1.05))\n",
    "\n",
    "df['BTC'].plot(ax=ax1, style='b--')\n",
    "df['ETH'].plot(ax=ax1, style='r-', secondary_y=True)  # use a secondary y-axis on the right\n",
    "df['LTC'].plot(ax=ax2, style='g-')\n",
    "\n",
    "# legend\n",
    "ax2.legend([ax1.get_lines()[0],\n",
    "            ax1.right_ax.get_lines()[0],\n",
    "            ax2.get_lines()[0]],\n",
    "           ['BTC', 'ETH', 'LTC'])"
   ]
  },
  {
   "cell_type": "markdown",
   "metadata": {
    "id": "NeLvng8jpgux"
   },
   "source": [
    "## Correlation between crypto prices\n",
    "\n",
    "Generate correlation matrix for heatmap"
   ]
  },
  {
   "cell_type": "code",
   "execution_count": 20,
   "metadata": {
    "colab": {
     "base_uri": "https://localhost:8080/",
     "height": 341
    },
    "id": "-AhMtjlSpQFK",
    "outputId": "19a9e6ac-2b39-4977-bba3-acf07b23a0ce"
   },
   "outputs": [
    {
     "data": {
      "text/plain": [
       "<AxesSubplot:>"
      ]
     },
     "execution_count": 20,
     "metadata": {},
     "output_type": "execute_result"
    },
    {
     "data": {
      "image/png": "[encoded data removed]",
      "text/plain": [
       "<Figure size 360x360 with 2 Axes>"
      ]
     },
     "metadata": {
      "needs_background": "light"
     },
     "output_type": "display_data"
    }
   ],
   "source": [
    "\n",
    "# Compute the correlation matrix\n",
    "corr = df.corr()\n",
    "\n",
    "f, ax = plt.subplots(figsize=(5, 5))\n",
    "sns.heatmap(corr, annot=True)"
   ]
  },
  {
   "cell_type": "markdown",
   "metadata": {
    "id": "1tz2eT2trckH"
   },
   "source": [
    "# Calculating Profitability\n",
    "\n",
    "Profitability if I bought one of these when all three were available.\n",
    "\n",
    "We apply a function to each that takes the current one divided by the first price"
   ]
  },
  {
   "cell_type": "code",
   "execution_count": 21,
   "metadata": {
    "colab": {
     "base_uri": "https://localhost:8080/",
     "height": 235
    },
    "id": "EmTqmY5dq8RP",
    "outputId": "aa4aac51-6af7-4f47-dfbd-bbd1b0391200"
   },
   "outputs": [
    {
     "data": {
      "text/html": [
       "<div>\n",
       "<style scoped>\n",
       "    .dataframe tbody tr th:only-of-type {\n",
       "        vertical-align: middle;\n",
       "    }\n",
       "\n",
       "    .dataframe tbody tr th {\n",
       "        vertical-align: top;\n",
       "    }\n",
       "\n",
       "    .dataframe thead th {\n",
       "        text-align: right;\n",
       "    }\n",
       "</style>\n",
       "<table border=\"1\" class=\"dataframe\">\n",
       "  <thead>\n",
       "    <tr style=\"text-align: right;\">\n",
       "      <th></th>\n",
       "      <th>BTC</th>\n",
       "      <th>ETH</th>\n",
       "      <th>LTC</th>\n",
       "    </tr>\n",
       "    <tr>\n",
       "      <th>datetime</th>\n",
       "      <th></th>\n",
       "      <th></th>\n",
       "      <th></th>\n",
       "    </tr>\n",
       "  </thead>\n",
       "  <tbody>\n",
       "    <tr>\n",
       "      <th>2017-11-09</th>\n",
       "      <td>1.000000</td>\n",
       "      <td>1.000000</td>\n",
       "      <td>1.000000</td>\n",
       "    </tr>\n",
       "    <tr>\n",
       "      <th>2017-11-10</th>\n",
       "      <td>0.921682</td>\n",
       "      <td>0.929478</td>\n",
       "      <td>0.916253</td>\n",
       "    </tr>\n",
       "    <tr>\n",
       "      <th>2017-11-11</th>\n",
       "      <td>0.889078</td>\n",
       "      <td>0.982696</td>\n",
       "      <td>0.968828</td>\n",
       "    </tr>\n",
       "    <tr>\n",
       "      <th>2017-11-12</th>\n",
       "      <td>0.821260</td>\n",
       "      <td>0.952633</td>\n",
       "      <td>0.910360</td>\n",
       "    </tr>\n",
       "    <tr>\n",
       "      <th>2017-11-13</th>\n",
       "      <td>0.912867</td>\n",
       "      <td>0.983879</td>\n",
       "      <td>0.946495</td>\n",
       "    </tr>\n",
       "  </tbody>\n",
       "</table>\n",
       "</div>"
      ],
      "text/plain": [
       "                 BTC       ETH       LTC\n",
       "datetime                                \n",
       "2017-11-09  1.000000  1.000000  1.000000\n",
       "2017-11-10  0.921682  0.929478  0.916253\n",
       "2017-11-11  0.889078  0.982696  0.968828\n",
       "2017-11-12  0.821260  0.952633  0.910360\n",
       "2017-11-13  0.912867  0.983879  0.946495"
      ]
     },
     "execution_count": 21,
     "metadata": {},
     "output_type": "execute_result"
    }
   ],
   "source": [
    "df_return = df.apply(lambda x: x / x[0]) # drop null rows\n",
    "df_return.head()"
   ]
  },
  {
   "cell_type": "code",
   "execution_count": 22,
   "metadata": {
    "colab": {
     "base_uri": "https://localhost:8080/",
     "height": 634
    },
    "id": "KwSv--I1rBVW",
    "outputId": "b09a8a6e-528d-4ebf-fbb5-dc9b5548aaaa"
   },
   "outputs": [
    {
     "data": {
      "text/plain": [
       "<matplotlib.lines.Line2D at 0x131368070>"
      ]
     },
     "execution_count": 22,
     "metadata": {},
     "output_type": "execute_result"
    },
    {
     "data": {
      "image/png": "[encoded data removed]",
      "text/plain": [
       "<Figure size 1080x720 with 1 Axes>"
      ]
     },
     "metadata": {
      "needs_background": "light"
     },
     "output_type": "display_data"
    }
   ],
   "source": [
    "df_return.plot(grid=True, figsize=(15, 10)).axhline(y = 1, color = \"black\", lw = 2)"
   ]
  },
  {
   "cell_type": "markdown",
   "metadata": {
    "id": "79tUE5Y7sxm-"
   },
   "source": [
    "# Currency comparisons\n",
    "\n",
    "what was the percentage increase?"
   ]
  },
  {
   "cell_type": "code",
   "execution_count": 34,
   "metadata": {
    "colab": {
     "base_uri": "https://localhost:8080/",
     "height": 359
    },
    "id": "DIs-oBPQsK5F",
    "outputId": "e326de32-88bd-4f0c-c2dc-0bd211f3269d"
   },
   "outputs": [
    {
     "data": {
      "text/html": [
       "<div>\n",
       "<style scoped>\n",
       "    .dataframe tbody tr th:only-of-type {\n",
       "        vertical-align: middle;\n",
       "    }\n",
       "\n",
       "    .dataframe tbody tr th {\n",
       "        vertical-align: top;\n",
       "    }\n",
       "\n",
       "    .dataframe thead th {\n",
       "        text-align: right;\n",
       "    }\n",
       "</style>\n",
       "<table border=\"1\" class=\"dataframe\">\n",
       "  <thead>\n",
       "    <tr style=\"text-align: right;\">\n",
       "      <th></th>\n",
       "      <th>BTC</th>\n",
       "      <th>ETH</th>\n",
       "      <th>LTC</th>\n",
       "    </tr>\n",
       "    <tr>\n",
       "      <th>datetime</th>\n",
       "      <th></th>\n",
       "      <th></th>\n",
       "      <th></th>\n",
       "    </tr>\n",
       "  </thead>\n",
       "  <tbody>\n",
       "    <tr>\n",
       "      <th>2021-06-06</th>\n",
       "      <td>497.364578</td>\n",
       "      <td>833.517988</td>\n",
       "      <td>268.998139</td>\n",
       "    </tr>\n",
       "  </tbody>\n",
       "</table>\n",
       "</div>"
      ],
      "text/plain": [
       "                   BTC         ETH         LTC\n",
       "datetime                                      \n",
       "2021-06-06  497.364578  833.517988  268.998139"
      ]
     },
     "execution_count": 34,
     "metadata": {},
     "output_type": "execute_result"
    },
    {
     "data": {
      "image/png": "[encoded data removed]",
      "text/plain": [
       "<Figure size 432x288 with 1 Axes>"
      ]
     },
     "metadata": {
      "needs_background": "light"
     },
     "output_type": "display_data"
    }
   ],
   "source": [
    "df_perc = df_return.tail(1) * 100\n",
    "ax = sns.barplot(data=df_perc)\n",
    "df_perc"
   ]
  },
  {
   "cell_type": "markdown",
   "metadata": {
    "id": "Ga3IoxOustV0"
   },
   "source": [
    "How many could we buy for $1000?"
   ]
  },
  {
   "cell_type": "code",
   "execution_count": 35,
   "metadata": {
    "colab": {
     "base_uri": "https://localhost:8080/",
     "height": 360
    },
    "id": "GnJgNt7gsOs8",
    "outputId": "e910b0c3-1329-4ba4-d6da-b947c8b758ce"
   },
   "outputs": [
    {
     "data": {
      "text/html": [
       "<div>\n",
       "<style scoped>\n",
       "    .dataframe tbody tr th:only-of-type {\n",
       "        vertical-align: middle;\n",
       "    }\n",
       "\n",
       "    .dataframe tbody tr th {\n",
       "        vertical-align: top;\n",
       "    }\n",
       "\n",
       "    .dataframe thead th {\n",
       "        text-align: right;\n",
       "    }\n",
       "</style>\n",
       "<table border=\"1\" class=\"dataframe\">\n",
       "  <thead>\n",
       "    <tr style=\"text-align: right;\">\n",
       "      <th></th>\n",
       "      <th>BTC</th>\n",
       "      <th>ETH</th>\n",
       "      <th>LTC</th>\n",
       "    </tr>\n",
       "    <tr>\n",
       "      <th>datetime</th>\n",
       "      <th></th>\n",
       "      <th></th>\n",
       "      <th></th>\n",
       "    </tr>\n",
       "  </thead>\n",
       "  <tbody>\n",
       "    <tr>\n",
       "      <th>2017-11-09</th>\n",
       "      <td>0.139899</td>\n",
       "      <td>3.112162</td>\n",
       "      <td>15.508685</td>\n",
       "    </tr>\n",
       "  </tbody>\n",
       "</table>\n",
       "</div>"
      ],
      "text/plain": [
       "                 BTC       ETH        LTC\n",
       "datetime                                 \n",
       "2017-11-09  0.139899  3.112162  15.508685"
      ]
     },
     "execution_count": 35,
     "metadata": {},
     "output_type": "execute_result"
    },
    {
     "data": {
      "image/png": "[encoded data removed]",
      "text/plain": [
       "<Figure size 432x288 with 1 Axes>"
      ]
     },
     "metadata": {
      "needs_background": "light"
     },
     "output_type": "display_data"
    }
   ],
   "source": [
    "budget = 1000 # USD\n",
    "df_coins = budget/df.head(1)\n",
    "\n",
    "ax = sns.barplot(data=df_coins)\n",
    "df_coins"
   ]
  },
  {
   "cell_type": "markdown",
   "metadata": {
    "id": "nR5TvHKKspF8"
   },
   "source": [
    "How much money would we make if we invested $1000 a while ago"
   ]
  },
  {
   "cell_type": "code",
   "execution_count": 36,
   "metadata": {
    "colab": {
     "base_uri": "https://localhost:8080/",
     "height": 359
    },
    "id": "wU5mXNcXsnmH",
    "outputId": "837402b5-f35e-4677-e3eb-b71d69273c80"
   },
   "outputs": [
    {
     "data": {
      "text/html": [
       "<div>\n",
       "<style scoped>\n",
       "    .dataframe tbody tr th:only-of-type {\n",
       "        vertical-align: middle;\n",
       "    }\n",
       "\n",
       "    .dataframe tbody tr th {\n",
       "        vertical-align: top;\n",
       "    }\n",
       "\n",
       "    .dataframe thead th {\n",
       "        text-align: right;\n",
       "    }\n",
       "</style>\n",
       "<table border=\"1\" class=\"dataframe\">\n",
       "  <thead>\n",
       "    <tr style=\"text-align: right;\">\n",
       "      <th></th>\n",
       "      <th>BTC</th>\n",
       "      <th>ETH</th>\n",
       "      <th>LTC</th>\n",
       "    </tr>\n",
       "    <tr>\n",
       "      <th>datetime</th>\n",
       "      <th></th>\n",
       "      <th></th>\n",
       "      <th></th>\n",
       "    </tr>\n",
       "  </thead>\n",
       "  <tbody>\n",
       "    <tr>\n",
       "      <th>2021-06-06</th>\n",
       "      <td>4973.645775</td>\n",
       "      <td>8335.179883</td>\n",
       "      <td>2689.98139</td>\n",
       "    </tr>\n",
       "  </tbody>\n",
       "</table>\n",
       "</div>"
      ],
      "text/plain": [
       "                    BTC          ETH         LTC\n",
       "datetime                                        \n",
       "2021-06-06  4973.645775  8335.179883  2689.98139"
      ]
     },
     "execution_count": 36,
     "metadata": {},
     "output_type": "execute_result"
    },
    {
     "data": {
      "image/png": "[encoded data removed]",
      "text/plain": [
       "<Figure size 432x288 with 1 Axes>"
      ]
     },
     "metadata": {
      "needs_background": "light"
     },
     "output_type": "display_data"
    }
   ],
   "source": [
    "df_profit = df_return.tail(1) * budget\n",
    "\n",
    "ax = sns.barplot(data=df_profit)\n",
    "df_profit"
   ]
  },
  {
   "cell_type": "markdown",
   "metadata": {},
   "source": [
    "# Challenges\n",
    "\n",
    "Using a package called stockstats, can we provide more information for trading? (see refs).  How do these trading strategies work?\n",
    "Can you normalize the data feed for this package and then use one of the trading strategies supported by this package?\n",
    "\n",
    "\n",
    "To install a package try\n",
    "!pip install stockstats\n",
    "\n",
    "Can you create an interactive visualization using the bokeh package?\n"
   ]
  },
  {
   "cell_type": "markdown",
   "metadata": {},
   "source": [
    "## Experiments"
   ]
  },
  {
   "cell_type": "code",
   "execution_count": 37,
   "metadata": {},
   "outputs": [
    {
     "name": "stdout",
     "output_type": "stream",
     "text": [
      "Requirement already satisfied: stockstats in /Users/mike/.virtualenvs/ds1-analytics/lib/python3.9/site-packages (0.3.2)\n",
      "Requirement already satisfied: pandas>=0.18.1 in /Users/mike/.virtualenvs/ds1-analytics/lib/python3.9/site-packages (from stockstats) (1.2.5)\n",
      "Requirement already satisfied: int-date>=0.1.7 in /Users/mike/.virtualenvs/ds1-analytics/lib/python3.9/site-packages (from stockstats) (0.1.8)\n",
      "Requirement already satisfied: numpy>=1.9.2 in /Users/mike/.virtualenvs/ds1-analytics/lib/python3.9/site-packages (from stockstats) (1.21.0)\n",
      "Requirement already satisfied: six>=1.9.0 in /Users/mike/.virtualenvs/ds1-analytics/lib/python3.9/site-packages (from int-date>=0.1.7->stockstats) (1.16.0)\n",
      "Requirement already satisfied: python-dateutil>=2.4.2 in /Users/mike/.virtualenvs/ds1-analytics/lib/python3.9/site-packages (from int-date>=0.1.7->stockstats) (2.8.1)\n",
      "Requirement already satisfied: pytz>=2017.3 in /Users/mike/.virtualenvs/ds1-analytics/lib/python3.9/site-packages (from pandas>=0.18.1->stockstats) (2021.1)\n",
      "\u001b[33mWARNING: You are using pip version 21.1.3; however, version 21.2.3 is available.\n",
      "You should consider upgrading via the '/Users/mike/.virtualenvs/ds1-analytics/bin/python -m pip install --upgrade pip' command.\u001b[0m\n"
     ]
    }
   ],
   "source": [
    "!pip install stockstats"
   ]
  },
  {
   "cell_type": "code",
   "execution_count": 27,
   "metadata": {},
   "outputs": [
    {
     "data": {
      "text/html": [
       "<div>\n",
       "<style scoped>\n",
       "    .dataframe tbody tr th:only-of-type {\n",
       "        vertical-align: middle;\n",
       "    }\n",
       "\n",
       "    .dataframe tbody tr th {\n",
       "        vertical-align: top;\n",
       "    }\n",
       "\n",
       "    .dataframe thead th {\n",
       "        text-align: right;\n",
       "    }\n",
       "</style>\n",
       "<table border=\"1\" class=\"dataframe\">\n",
       "  <thead>\n",
       "    <tr style=\"text-align: right;\">\n",
       "      <th></th>\n",
       "      <th>low</th>\n",
       "      <th>high</th>\n",
       "      <th>open</th>\n",
       "      <th>close</th>\n",
       "      <th>volumefrom</th>\n",
       "      <th>volumeto</th>\n",
       "      <th>macd</th>\n",
       "      <th>macds</th>\n",
       "      <th>macdh</th>\n",
       "    </tr>\n",
       "    <tr>\n",
       "      <th>datetime</th>\n",
       "      <th></th>\n",
       "      <th></th>\n",
       "      <th></th>\n",
       "      <th></th>\n",
       "      <th></th>\n",
       "      <th></th>\n",
       "      <th></th>\n",
       "      <th></th>\n",
       "      <th></th>\n",
       "    </tr>\n",
       "  </thead>\n",
       "  <tbody>\n",
       "    <tr>\n",
       "      <th>2021-06-02</th>\n",
       "      <td>35933.19</td>\n",
       "      <td>38256.30</td>\n",
       "      <td>36693.30</td>\n",
       "      <td>37589.36</td>\n",
       "      <td>4270.10</td>\n",
       "      <td>1.595423e+08</td>\n",
       "      <td>-3903.501922</td>\n",
       "      <td>-4277.061516</td>\n",
       "      <td>373.559594</td>\n",
       "    </tr>\n",
       "    <tr>\n",
       "      <th>2021-06-03</th>\n",
       "      <td>37176.06</td>\n",
       "      <td>39490.00</td>\n",
       "      <td>37589.36</td>\n",
       "      <td>39219.88</td>\n",
       "      <td>4058.94</td>\n",
       "      <td>1.567207e+08</td>\n",
       "      <td>-3519.381262</td>\n",
       "      <td>-4125.525465</td>\n",
       "      <td>606.144203</td>\n",
       "    </tr>\n",
       "    <tr>\n",
       "      <th>2021-06-04</th>\n",
       "      <td>35576.67</td>\n",
       "      <td>39277.36</td>\n",
       "      <td>39219.88</td>\n",
       "      <td>36887.32</td>\n",
       "      <td>5786.19</td>\n",
       "      <td>2.137323e+08</td>\n",
       "      <td>-3364.398281</td>\n",
       "      <td>-3973.300028</td>\n",
       "      <td>608.901747</td>\n",
       "    </tr>\n",
       "    <tr>\n",
       "      <th>2021-06-05</th>\n",
       "      <td>34849.65</td>\n",
       "      <td>37927.93</td>\n",
       "      <td>36887.32</td>\n",
       "      <td>35532.14</td>\n",
       "      <td>4106.35</td>\n",
       "      <td>1.492555e+08</td>\n",
       "      <td>-3312.737675</td>\n",
       "      <td>-3841.187558</td>\n",
       "      <td>528.449883</td>\n",
       "    </tr>\n",
       "    <tr>\n",
       "      <th>2021-06-06</th>\n",
       "      <td>35437.86</td>\n",
       "      <td>36510.58</td>\n",
       "      <td>35532.14</td>\n",
       "      <td>35551.62</td>\n",
       "      <td>2288.95</td>\n",
       "      <td>8.229941e+07</td>\n",
       "      <td>-3232.956884</td>\n",
       "      <td>-3719.541423</td>\n",
       "      <td>486.584539</td>\n",
       "    </tr>\n",
       "  </tbody>\n",
       "</table>\n",
       "</div>"
      ],
      "text/plain": [
       "                 low      high      open     close  volumefrom      volumeto  \\\n",
       "datetime                                                                       \n",
       "2021-06-02  35933.19  38256.30  36693.30  37589.36     4270.10  1.595423e+08   \n",
       "2021-06-03  37176.06  39490.00  37589.36  39219.88     4058.94  1.567207e+08   \n",
       "2021-06-04  35576.67  39277.36  39219.88  36887.32     5786.19  2.137323e+08   \n",
       "2021-06-05  34849.65  37927.93  36887.32  35532.14     4106.35  1.492555e+08   \n",
       "2021-06-06  35437.86  36510.58  35532.14  35551.62     2288.95  8.229941e+07   \n",
       "\n",
       "                   macd        macds       macdh  \n",
       "datetime                                          \n",
       "2021-06-02 -3903.501922 -4277.061516  373.559594  \n",
       "2021-06-03 -3519.381262 -4125.525465  606.144203  \n",
       "2021-06-04 -3364.398281 -3973.300028  608.901747  \n",
       "2021-06-05 -3312.737675 -3841.187558  528.449883  \n",
       "2021-06-06 -3232.956884 -3719.541423  486.584539  "
      ]
     },
     "execution_count": 27,
     "metadata": {},
     "output_type": "execute_result"
    }
   ],
   "source": [
    "from stockstats import StockDataFrame\n",
    "df_btc = StockDataFrame.retype(df_btc)\n",
    "df_btc['macd'] = df_btc.get('macd') # calculate MACD\n",
    "df_btc.tail()"
   ]
  },
  {
   "cell_type": "code",
   "execution_count": 30,
   "metadata": {},
   "outputs": [
    {
     "data": {
      "text/plain": [
       "<AxesSubplot:xlabel='datetime'>"
      ]
     },
     "execution_count": 30,
     "metadata": {},
     "output_type": "execute_result"
    },
    {
     "data": {
      "image/png": "[encoded data removed]",
      "text/plain": [
       "<Figure size 432x288 with 1 Axes>"
      ]
     },
     "metadata": {
      "needs_background": "light"
     },
     "output_type": "display_data"
    }
   ],
   "source": [
    "df_btc[['close','macd', 'macds']].plot()"
   ]
  },
  {
   "cell_type": "code",
   "execution_count": 31,
   "metadata": {},
   "outputs": [
    {
     "data": {
      "text/html": [
       "<div>\n",
       "<style scoped>\n",
       "    .dataframe tbody tr th:only-of-type {\n",
       "        vertical-align: middle;\n",
       "    }\n",
       "\n",
       "    .dataframe tbody tr th {\n",
       "        vertical-align: top;\n",
       "    }\n",
       "\n",
       "    .dataframe thead th {\n",
       "        text-align: right;\n",
       "    }\n",
       "</style>\n",
       "<table border=\"1\" class=\"dataframe\">\n",
       "  <thead>\n",
       "    <tr style=\"text-align: right;\">\n",
       "      <th></th>\n",
       "      <th>BTC</th>\n",
       "      <th>ETH</th>\n",
       "      <th>LTC</th>\n",
       "    </tr>\n",
       "    <tr>\n",
       "      <th>datetime</th>\n",
       "      <th></th>\n",
       "      <th></th>\n",
       "      <th></th>\n",
       "    </tr>\n",
       "  </thead>\n",
       "  <tbody>\n",
       "    <tr>\n",
       "      <th>2017-11-09</th>\n",
       "      <td>7148.00</td>\n",
       "      <td>321.32</td>\n",
       "      <td>64.48</td>\n",
       "    </tr>\n",
       "    <tr>\n",
       "      <th>2017-11-10</th>\n",
       "      <td>6588.18</td>\n",
       "      <td>298.66</td>\n",
       "      <td>59.08</td>\n",
       "    </tr>\n",
       "    <tr>\n",
       "      <th>2017-11-11</th>\n",
       "      <td>6355.13</td>\n",
       "      <td>315.76</td>\n",
       "      <td>62.47</td>\n",
       "    </tr>\n",
       "    <tr>\n",
       "      <th>2017-11-12</th>\n",
       "      <td>5870.37</td>\n",
       "      <td>306.10</td>\n",
       "      <td>58.70</td>\n",
       "    </tr>\n",
       "    <tr>\n",
       "      <th>2017-11-13</th>\n",
       "      <td>6525.17</td>\n",
       "      <td>316.14</td>\n",
       "      <td>61.03</td>\n",
       "    </tr>\n",
       "    <tr>\n",
       "      <th>...</th>\n",
       "      <td>...</td>\n",
       "      <td>...</td>\n",
       "      <td>...</td>\n",
       "    </tr>\n",
       "    <tr>\n",
       "      <th>2021-06-02</th>\n",
       "      <td>37589.36</td>\n",
       "      <td>2707.66</td>\n",
       "      <td>187.23</td>\n",
       "    </tr>\n",
       "    <tr>\n",
       "      <th>2021-06-03</th>\n",
       "      <td>39219.88</td>\n",
       "      <td>2856.41</td>\n",
       "      <td>193.23</td>\n",
       "    </tr>\n",
       "    <tr>\n",
       "      <th>2021-06-04</th>\n",
       "      <td>36887.32</td>\n",
       "      <td>2691.14</td>\n",
       "      <td>178.62</td>\n",
       "    </tr>\n",
       "    <tr>\n",
       "      <th>2021-06-05</th>\n",
       "      <td>35532.14</td>\n",
       "      <td>2629.40</td>\n",
       "      <td>172.78</td>\n",
       "    </tr>\n",
       "    <tr>\n",
       "      <th>2021-06-06</th>\n",
       "      <td>35551.62</td>\n",
       "      <td>2678.26</td>\n",
       "      <td>173.45</td>\n",
       "    </tr>\n",
       "  </tbody>\n",
       "</table>\n",
       "<p>1306 rows × 3 columns</p>\n",
       "</div>"
      ],
      "text/plain": [
       "                 BTC      ETH     LTC\n",
       "datetime                             \n",
       "2017-11-09   7148.00   321.32   64.48\n",
       "2017-11-10   6588.18   298.66   59.08\n",
       "2017-11-11   6355.13   315.76   62.47\n",
       "2017-11-12   5870.37   306.10   58.70\n",
       "2017-11-13   6525.17   316.14   61.03\n",
       "...              ...      ...     ...\n",
       "2021-06-02  37589.36  2707.66  187.23\n",
       "2021-06-03  39219.88  2856.41  193.23\n",
       "2021-06-04  36887.32  2691.14  178.62\n",
       "2021-06-05  35532.14  2629.40  172.78\n",
       "2021-06-06  35551.62  2678.26  173.45\n",
       "\n",
       "[1306 rows x 3 columns]"
      ]
     },
     "execution_count": 31,
     "metadata": {},
     "output_type": "execute_result"
    }
   ],
   "source": [
    "df"
   ]
  },
  {
   "cell_type": "code",
   "execution_count": 32,
   "metadata": {},
   "outputs": [
    {
     "name": "stdout",
     "output_type": "stream",
     "text": [
      "Collecting bokeh\n",
      "  Downloading bokeh-2.3.3.tar.gz (10.7 MB)\n",
      "\u001b[K     |████████████████████████████████| 10.7 MB 5.2 MB/s eta 0:00:01\n",
      "\u001b[?25hCollecting PyYAML>=3.10\n",
      "  Using cached PyYAML-5.4.1-cp39-cp39-macosx_10_9_x86_64.whl (259 kB)\n",
      "Requirement already satisfied: python-dateutil>=2.1 in /Users/mike/.virtualenvs/ds1-analytics/lib/python3.9/site-packages (from bokeh) (2.8.1)\n",
      "Requirement already satisfied: Jinja2>=2.9 in /Users/mike/.virtualenvs/ds1-analytics/lib/python3.9/site-packages (from bokeh) (3.0.1)\n",
      "Requirement already satisfied: numpy>=1.11.3 in /Users/mike/.virtualenvs/ds1-analytics/lib/python3.9/site-packages (from bokeh) (1.21.0)\n",
      "Requirement already satisfied: pillow>=7.1.0 in /Users/mike/.virtualenvs/ds1-analytics/lib/python3.9/site-packages (from bokeh) (8.2.0)\n",
      "Requirement already satisfied: packaging>=16.8 in /Users/mike/.virtualenvs/ds1-analytics/lib/python3.9/site-packages (from bokeh) (20.9)\n",
      "Requirement already satisfied: tornado>=5.1 in /Users/mike/.virtualenvs/ds1-analytics/lib/python3.9/site-packages (from bokeh) (6.1)\n",
      "Collecting typing_extensions>=3.7.4\n",
      "  Using cached typing_extensions-3.10.0.0-py3-none-any.whl (26 kB)\n",
      "Requirement already satisfied: MarkupSafe>=2.0 in /Users/mike/.virtualenvs/ds1-analytics/lib/python3.9/site-packages (from Jinja2>=2.9->bokeh) (2.0.1)\n",
      "Requirement already satisfied: pyparsing>=2.0.2 in /Users/mike/.virtualenvs/ds1-analytics/lib/python3.9/site-packages (from packaging>=16.8->bokeh) (2.4.7)\n",
      "Requirement already satisfied: six>=1.5 in /Users/mike/.virtualenvs/ds1-analytics/lib/python3.9/site-packages (from python-dateutil>=2.1->bokeh) (1.16.0)\n",
      "Building wheels for collected packages: bokeh\n",
      "  Building wheel for bokeh (setup.py) ... \u001b[?25ldone\n",
      "\u001b[?25h  Created wheel for bokeh: filename=bokeh-2.3.3-py3-none-any.whl size=11342778 sha256=bf4f51c438429d6dfa0d9adf61e6943f3708c69fea33860ac7198d170d592fb7\n",
      "  Stored in directory: /Users/mike/Library/Caches/pip/wheels/b5/c4/82/45a0af76d9cf21105cace3ca73378a7799601153a02b0f58ae\n",
      "Successfully built bokeh\n",
      "Installing collected packages: typing-extensions, PyYAML, bokeh\n",
      "Successfully installed PyYAML-5.4.1 bokeh-2.3.3 typing-extensions-3.10.0.0\n",
      "\u001b[33mWARNING: You are using pip version 21.1.3; however, version 21.2.3 is available.\n",
      "You should consider upgrading via the '/Users/mike/.virtualenvs/ds1-analytics/bin/python -m pip install --upgrade pip' command.\u001b[0m\n"
     ]
    }
   ],
   "source": [
    "!pip install bokeh"
   ]
  },
  {
   "cell_type": "code",
   "execution_count": 33,
   "metadata": {},
   "outputs": [],
   "source": [
    "from bokeh.plotting import figure, show\n",
    "from bokeh.models import ColumnDataSource\n",
    "\n",
    "p = figure(x_axis_type='datetime')\n",
    "\n",
    "source = ColumnDataSource(df)\n",
    "\n",
    "p.line(x='datetime', y='BTC', line_width=2, source=source, line_color='red')\n",
    "p.line(x='datetime', y='ETH', line_width=2, source=source, line_color='blue')\n",
    "p.line(x='datetime', y='LTC', line_width=2, source=source, line_color='green')\n",
    "show(p)\n"
   ]
  },
  {
   "cell_type": "markdown",
   "metadata": {
    "id": "EboQlzu1isO4"
   },
   "source": [
    "# References\n",
    "\n",
    "* https://towardsdatascience.com/cryptocurrency-analysis-with-python-buy-and-hold-c3b0bc164ffa\n",
    "\n",
    "* https://towardsdatascience.com/cryptocurrency-analysis-with-python-macd-452ceb251d7c\n"
   ]
  }
 ],
 "metadata": {
  "colab": {
   "authorship_tag": "ABX9TyNhKsvO//HuImujeDPRlve6",
   "collapsed_sections": [],
   "mount_file_id": "11XGLaT5_190HE2arepjzftNLJHgoCbsI",
   "name": "crypto_data_api.ipynb",
   "provenance": []
  },
  "interpreter": {
   "hash": "293e2dea07eed22cf8c9200dfa67c76ea78bbef78f3f095ef93c7b987d1f9f8b"
  },
  "kernelspec": {
   "display_name": "Python 3",
   "language": "python",
   "name": "python3"
  },
  "language_info": {
   "codemirror_mode": {
    "name": "ipython",
    "version": 3
   },
   "file_extension": ".py",
   "mimetype": "text/x-python",
   "name": "python",
   "nbconvert_exporter": "python",
   "pygments_lexer": "ipython3",
   "version": "3.9.0"
  }
 },
 "nbformat": 4,
 "nbformat_minor": 4
}

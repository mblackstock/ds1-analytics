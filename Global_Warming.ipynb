{
  "nbformat": 4,
  "nbformat_minor": 0,
  "metadata": {
    "colab": {
      "name": "Global_Warming.ipynb",
      "provenance": [],
      "authorship_tag": "ABX9TyOdQyfDv7S7TVcPwvbeAb0b",
      "include_colab_link": true
    },
    "kernelspec": {
      "name": "python3",
      "display_name": "Python 3"
    },
    "language_info": {
      "name": "python"
    }
  },
  "cells": [
    {
      "cell_type": "markdown",
      "metadata": {
        "id": "view-in-github",
        "colab_type": "text"
      },
      "source": [
        "<a href=\"https://colab.research.google.com/github/mblackstock/notebooks/blob/main/notebooks/Global_Warming.ipynb\" target=\"_parent\"><img src=\"https://colab.research.google.com/assets/colab-badge.svg\" alt=\"Open In Colab\"/></a>"
      ]
    },
    {
      "cell_type": "markdown",
      "metadata": {
        "id": "5RhN4lGaSlU0"
      },
      "source": [
        "Data: https://www.kaggle.com/berkeleyearth/climate-change-earth-surface-temperature-data\n",
        "\n",
        "See https://www.kaggle.com/ash316/is-the-mercury-rising"
      ]
    }
  ]
}
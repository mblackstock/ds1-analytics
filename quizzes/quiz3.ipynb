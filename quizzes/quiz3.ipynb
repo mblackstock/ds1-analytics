{
 "cells": [
  {
   "cell_type": "markdown",
   "id": "8ad0a1a2-360a-424f-9a25-43c3bbf74236",
   "metadata": {},
   "source": [
    "# Quiz 3\n",
    "\n",
    "Loading and understanding data."
   ]
  },
  {
   "cell_type": "markdown",
   "id": "99a3e276-e4e7-4434-9991-519e5a776eb6",
   "metadata": {},
   "source": [
    "1. How would you load a csv file located in a sub directory `datasets/ign/ign_scores.csv` into a pandas DataFrame when the first row of the csv file is the column headings and the first column is the index column (`index_col`)?"
   ]
  },
  {
   "cell_type": "markdown",
   "id": "c55e3f3b-da00-4fd6-bb71-b91c0247ba68",
   "metadata": {},
   "source": [
    "2. What is the DataFrame method used to get basic statistics of each column in a DataFrame?"
   ]
  },
  {
   "cell_type": "markdown",
   "id": "4c280433-e6bb-4b44-93cf-60b4702d1a86",
   "metadata": {},
   "source": [
    "3. How would you write code to select the first two rows of a DataFrame?"
   ]
  },
  {
   "cell_type": "markdown",
   "id": "729a88b2-a80b-4cfb-b529-d473d6817f11",
   "metadata": {},
   "source": [
    "4. Given the following DataFrame, how would you print the population of France"
   ]
  },
  {
   "cell_type": "code",
   "execution_count": 35,
   "id": "13fe5a1a-4b56-480b-80d6-1d47be49f5d4",
   "metadata": {},
   "outputs": [],
   "source": [
    "import pandas as pd\n",
    "countries = pd.DataFrame({'names':['United Kingdom','United States','Japan','Germany', 'France', 'Italy', 'Canada'],\n",
    "                    'gdp':[2.44, 15.68, 5.96, 3.40, 2.61, 2.01, 1.82],\n",
    "                   'pop':[63.18, 316.67, 127.25, 81.15, 65.95, 61.48, 34.57]})\n",
    "\n",
    "countries.set_index('names',inplace=True)"
   ]
  },
  {
   "cell_type": "code",
   "execution_count": null,
   "id": "6860436e-9124-4efb-b455-1137b3fd7271",
   "metadata": {},
   "outputs": [],
   "source": []
  }
 ],
 "metadata": {
  "kernelspec": {
   "display_name": "Python 3",
   "language": "python",
   "name": "python3"
  },
  "language_info": {
   "codemirror_mode": {
    "name": "ipython",
    "version": 3
   },
   "file_extension": ".py",
   "mimetype": "text/x-python",
   "name": "python",
   "nbconvert_exporter": "python",
   "pygments_lexer": "ipython3",
   "version": "3.9.0"
  }
 },
 "nbformat": 4,
 "nbformat_minor": 5
}

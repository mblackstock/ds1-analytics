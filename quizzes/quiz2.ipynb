{
 "cells": [
  {
   "cell_type": "markdown",
   "id": "b5c14f2f-4936-4e6a-87ab-fef0a79b68ad",
   "metadata": {},
   "source": [
    "# Quiz 2\n",
    "\n",
    "Pandas Series and DataFrames"
   ]
  },
  {
   "cell_type": "markdown",
   "id": "92801f05-ba0d-4b96-835b-d8f74fcfe3d7",
   "metadata": {},
   "source": [
    "1. What is a pandas `Series` object?"
   ]
  },
  {
   "cell_type": "markdown",
   "id": "45715180-d892-4d10-8659-187d795db922",
   "metadata": {},
   "source": [
    "2. What is a pandas `DataFrame` object?"
   ]
  },
  {
   "cell_type": "markdown",
   "id": "2d3a2ec8-eba5-4a36-a181-319ff3c7799a",
   "metadata": {},
   "source": [
    "3. How are they related to each other?"
   ]
  },
  {
   "cell_type": "markdown",
   "id": "87311598-f261-4862-b66b-41bcf5b13294",
   "metadata": {},
   "source": [
    "4. Given the following code how would you create a DataFrame objects with the columns containing the `names` and `mass` arrays given?"
   ]
  },
  {
   "cell_type": "code",
   "execution_count": 3,
   "id": "df2c234b-3ce0-4e4c-a4c7-1c1c84c37f45",
   "metadata": {},
   "outputs": [],
   "source": [
    "names = [\"MERCURY\",\"VENUS\",\"EARTH\",\"MOON\",\"MARS\",\"JUPITER\",\"SATURN\",\"URANUS\",\"NEPTUNE\",\"PLUTO\"]\n",
    "mass = [0.330,4.87,5.97,0.073,0.642,1898,568,86.8,102,0.0146]"
   ]
  },
  {
   "cell_type": "code",
   "execution_count": null,
   "id": "a0b12c53-52a8-4be9-9446-f2bccd0f844d",
   "metadata": {},
   "outputs": [],
   "source": []
  }
 ],
 "metadata": {
  "kernelspec": {
   "display_name": "Python 3",
   "language": "python",
   "name": "python3"
  },
  "language_info": {
   "codemirror_mode": {
    "name": "ipython",
    "version": 3
   },
   "file_extension": ".py",
   "mimetype": "text/x-python",
   "name": "python",
   "nbconvert_exporter": "python",
   "pygments_lexer": "ipython3",
   "version": "3.9.0"
  }
 },
 "nbformat": 4,
 "nbformat_minor": 5
}

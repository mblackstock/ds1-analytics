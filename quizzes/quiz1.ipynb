{
 "cells": [
  {
   "cell_type": "markdown",
   "id": "0a583270-e968-42dc-a680-3e82926a3c20",
   "metadata": {},
   "source": [
    "# Quiz 1\n",
    "\n",
    "Introduction"
   ]
  },
  {
   "cell_type": "markdown",
   "id": "cf12d883-8a40-4246-b79c-5b1b403504a0",
   "metadata": {},
   "source": [
    "1. What is the difference between structured and unstructured data?"
   ]
  },
  {
   "cell_type": "markdown",
   "id": "a7f73d5c-d0ed-4add-8e54-43d008d6feb2",
   "metadata": {},
   "source": [
    "2. What are three steps in the process of data analysis"
   ]
  },
  {
   "cell_type": "markdown",
   "id": "3790c065-91b0-4c9f-a984-d46ae0da973f",
   "metadata": {},
   "source": [
    "3. How do you create markdown consisting of a heading and a bullet list using markdown?"
   ]
  },
  {
   "cell_type": "markdown",
   "id": "4d8be6de-bbd3-4012-ab77-eeb4ab1ba84c",
   "metadata": {},
   "source": [
    "4. What would be the output from this python code:\n",
    "    \n",
    "```python\n",
    "seq = [7,2,3,7,5,6,0,1]\n",
    "seq[1:5]\n",
    "```"
   ]
  },
  {
   "cell_type": "code",
   "execution_count": null,
   "id": "80d23dd7-ef57-4bcb-8c71-3b0bca3ded4d",
   "metadata": {},
   "outputs": [],
   "source": []
  }
 ],
 "metadata": {
  "kernelspec": {
   "display_name": "Python 3",
   "language": "python",
   "name": "python3"
  },
  "language_info": {
   "codemirror_mode": {
    "name": "ipython",
    "version": 3
   },
   "file_extension": ".py",
   "mimetype": "text/x-python",
   "name": "python",
   "nbconvert_exporter": "python",
   "pygments_lexer": "ipython3",
   "version": "3.9.0"
  }
 },
 "nbformat": 4,
 "nbformat_minor": 5
}

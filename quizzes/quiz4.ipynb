{
 "cells": [
  {
   "cell_type": "markdown",
   "id": "e427682a-a307-46ef-9f94-2cc2055e60f2",
   "metadata": {},
   "source": [
    "# Quiz 4\n",
    "\n",
    "Data transformation and visualization"
   ]
  },
  {
   "cell_type": "markdown",
   "id": "f53af713-506c-432e-bbc7-85dd1e3e2194",
   "metadata": {},
   "source": [
    "1. What is the `shape` of a DataFrame?"
   ]
  },
  {
   "cell_type": "markdown",
   "id": "946e28a0-f54f-4873-a355-26443fa8bdb4",
   "metadata": {},
   "source": [
    "2. How would I create a bar chart of the values in column 3 given this dataframe"
   ]
  },
  {
   "cell_type": "code",
   "execution_count": 96,
   "id": "6e9f9ea2-9121-4069-aa31-f12f271bffe2",
   "metadata": {},
   "outputs": [
    {
     "data": {
      "text/html": [
       "<div>\n",
       "<style scoped>\n",
       "    .dataframe tbody tr th:only-of-type {\n",
       "        vertical-align: middle;\n",
       "    }\n",
       "\n",
       "    .dataframe tbody tr th {\n",
       "        vertical-align: top;\n",
       "    }\n",
       "\n",
       "    .dataframe thead th {\n",
       "        text-align: right;\n",
       "    }\n",
       "</style>\n",
       "<table border=\"1\" class=\"dataframe\">\n",
       "  <thead>\n",
       "    <tr style=\"text-align: right;\">\n",
       "      <th></th>\n",
       "      <th>0</th>\n",
       "      <th>1</th>\n",
       "      <th>2</th>\n",
       "      <th>3</th>\n",
       "      <th>4</th>\n",
       "    </tr>\n",
       "  </thead>\n",
       "  <tbody>\n",
       "    <tr>\n",
       "      <th>A</th>\n",
       "      <td>-1.933095</td>\n",
       "      <td>-1.631878</td>\n",
       "      <td>1.025763</td>\n",
       "      <td>-0.227709</td>\n",
       "      <td>0.237235</td>\n",
       "    </tr>\n",
       "    <tr>\n",
       "      <th>B</th>\n",
       "      <td>-0.062418</td>\n",
       "      <td>-0.253116</td>\n",
       "      <td>-0.833613</td>\n",
       "      <td>0.450493</td>\n",
       "      <td>-1.895938</td>\n",
       "    </tr>\n",
       "    <tr>\n",
       "      <th>C</th>\n",
       "      <td>-1.146091</td>\n",
       "      <td>0.745927</td>\n",
       "      <td>-0.591740</td>\n",
       "      <td>-0.735269</td>\n",
       "      <td>1.039825</td>\n",
       "    </tr>\n",
       "    <tr>\n",
       "      <th>D</th>\n",
       "      <td>-1.158863</td>\n",
       "      <td>0.516311</td>\n",
       "      <td>1.238701</td>\n",
       "      <td>-0.407789</td>\n",
       "      <td>-0.422654</td>\n",
       "    </tr>\n",
       "  </tbody>\n",
       "</table>\n",
       "</div>"
      ],
      "text/plain": [
       "          0         1         2         3         4\n",
       "A -1.933095 -1.631878  1.025763 -0.227709  0.237235\n",
       "B -0.062418 -0.253116 -0.833613  0.450493 -1.895938\n",
       "C -1.146091  0.745927 -0.591740 -0.735269  1.039825\n",
       "D -1.158863  0.516311  1.238701 -0.407789 -0.422654"
      ]
     },
     "execution_count": 96,
     "metadata": {},
     "output_type": "execute_result"
    }
   ],
   "source": [
    "import numpy as np\n",
    "import pandas as pd\n",
    "import matplotlib.pyplot as plt\n",
    "\n",
    "data = np.random.randn(4,5)\n",
    "df = pd.DataFrame(data)\n",
    "df.index = ['A','B','C','D']\n",
    "df"
   ]
  },
  {
   "cell_type": "markdown",
   "id": "8caeb24f-c1c9-4313-ad9e-e16f1e7a3c20",
   "metadata": {},
   "source": [
    "2. How would I create a line chart containing only the values in column 2 and 3?"
   ]
  },
  {
   "cell_type": "markdown",
   "id": "1c2822eb-305b-493a-bcff-8140f2db7e2c",
   "metadata": {},
   "source": [
    "4. How would we filter the following DataFrame to only contain data values greater than 5?"
   ]
  },
  {
   "cell_type": "code",
   "execution_count": 97,
   "id": "d8a3fa30-67b3-46cb-97e2-f09e186959a1",
   "metadata": {
    "tags": []
   },
   "outputs": [
    {
     "data": {
      "text/html": [
       "<div>\n",
       "<style scoped>\n",
       "    .dataframe tbody tr th:only-of-type {\n",
       "        vertical-align: middle;\n",
       "    }\n",
       "\n",
       "    .dataframe tbody tr th {\n",
       "        vertical-align: top;\n",
       "    }\n",
       "\n",
       "    .dataframe thead th {\n",
       "        text-align: right;\n",
       "    }\n",
       "</style>\n",
       "<table border=\"1\" class=\"dataframe\">\n",
       "  <thead>\n",
       "    <tr style=\"text-align: right;\">\n",
       "      <th></th>\n",
       "      <th>key</th>\n",
       "      <th>data</th>\n",
       "    </tr>\n",
       "  </thead>\n",
       "  <tbody>\n",
       "    <tr>\n",
       "      <th>0</th>\n",
       "      <td>A</td>\n",
       "      <td>0</td>\n",
       "    </tr>\n",
       "    <tr>\n",
       "      <th>1</th>\n",
       "      <td>B</td>\n",
       "      <td>5</td>\n",
       "    </tr>\n",
       "    <tr>\n",
       "      <th>2</th>\n",
       "      <td>C</td>\n",
       "      <td>10</td>\n",
       "    </tr>\n",
       "    <tr>\n",
       "      <th>3</th>\n",
       "      <td>A</td>\n",
       "      <td>5</td>\n",
       "    </tr>\n",
       "    <tr>\n",
       "      <th>4</th>\n",
       "      <td>B</td>\n",
       "      <td>10</td>\n",
       "    </tr>\n",
       "    <tr>\n",
       "      <th>5</th>\n",
       "      <td>C</td>\n",
       "      <td>15</td>\n",
       "    </tr>\n",
       "    <tr>\n",
       "      <th>6</th>\n",
       "      <td>A</td>\n",
       "      <td>10</td>\n",
       "    </tr>\n",
       "    <tr>\n",
       "      <th>7</th>\n",
       "      <td>B</td>\n",
       "      <td>15</td>\n",
       "    </tr>\n",
       "    <tr>\n",
       "      <th>8</th>\n",
       "      <td>C</td>\n",
       "      <td>20</td>\n",
       "    </tr>\n",
       "  </tbody>\n",
       "</table>\n",
       "</div>"
      ],
      "text/plain": [
       "  key  data\n",
       "0   A     0\n",
       "1   B     5\n",
       "2   C    10\n",
       "3   A     5\n",
       "4   B    10\n",
       "5   C    15\n",
       "6   A    10\n",
       "7   B    15\n",
       "8   C    20"
      ]
     },
     "execution_count": 97,
     "metadata": {},
     "output_type": "execute_result"
    }
   ],
   "source": [
    "import pandas as pd\n",
    "\n",
    "df = pd.DataFrame({\"key\":['A','B','C','A','B','C','A','B','C',],\n",
    "                      \"data\":[0,5,10,5,10,15,10,15,20]})\n",
    "df"
   ]
  },
  {
   "cell_type": "markdown",
   "id": "a130aa0c-1d6d-4546-87d0-24ab3179dfa9",
   "metadata": {},
   "source": [
    "4. How would sum up all of the elements in the same DataFrame by `key`, that is, create a new DataFrame that is the sum of all of the values with the key 'A', then 'B' and then 'C' using `groupby`?"
   ]
  },
  {
   "cell_type": "markdown",
   "id": "e4d4eff4-3c1b-40d8-979a-69f20b6b9526",
   "metadata": {},
   "source": [
    "5. How would we use the `pivot_table` function to do the same thing?"
   ]
  },
  {
   "cell_type": "code",
   "execution_count": null,
   "id": "505ce136-3b5c-488c-8d86-db39a3775cac",
   "metadata": {},
   "outputs": [],
   "source": []
  }
 ],
 "metadata": {
  "kernelspec": {
   "display_name": "Python 3",
   "language": "python",
   "name": "python3"
  },
  "language_info": {
   "codemirror_mode": {
    "name": "ipython",
    "version": 3
   },
   "file_extension": ".py",
   "mimetype": "text/x-python",
   "name": "python",
   "nbconvert_exporter": "python",
   "pygments_lexer": "ipython3",
   "version": "3.9.0"
  }
 },
 "nbformat": 4,
 "nbformat_minor": 5
}

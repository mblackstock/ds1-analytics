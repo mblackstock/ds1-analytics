{
  "nbformat": 4,
  "nbformat_minor": 0,
  "metadata": {
    "colab": {
      "name": "Movie_Ratings.ipynb",
      "provenance": [],
      "authorship_tag": "ABX9TyMNKA1wwrSEkLSDqCMJKYJw",
      "include_colab_link": true
    },
    "kernelspec": {
      "name": "python390jvsc74a57bd0fc433edbda7ed0756f38b26b53dae0b45ff459d6d1e8dc00bd78991799830354",
      "display_name": "Python 3.9.0 64-bit ('notebooks': virtualenvwrapper)"
    },
    "language_info": {
      "name": "python",
      "version": "3.9.0"
    },
    "metadata": {
      "interpreter": {
        "hash": "3df1606944222a76077e4e11e53aafc0257f67558b480efee00e2c5876e60577"
      }
    }
  },
  "cells": [
    {
      "cell_type": "markdown",
      "metadata": {
        "id": "a052PSQ9MRqd"
      },
      "source": [
        "<img src=\"https://media.hearstapps.com/hmg-prod/images/best-movies-1614634680.jpg?crop=1920,960,x0,y0,safe&width=768&auto=webp&optimize=small\" width=\"400\" style=\"float:right\">\n",
        "\n",
        "# 3. Movie Ratings\n",
        "\n",
        "For this project we'll do some data loading, wrangling and plot some data from movie ratings.  GroupLens research https://grouplens.org/ has provided data sets on movie ratings from the web site https://movielens.org/\n",
        "\n",
        "The data contains how users rated movies, movie title and meta data (genre and year) and info about the users that rated the movies.\n",
        "\n",
        "In this project, we'll do some analysis of this data to find out what some of the most popular movies are overall and the differences in opinions between people."
      ]
    },
    {
      "cell_type": "code",
      "metadata": {
        "colab": {
          "base_uri": "https://localhost:8080/"
        },
        "id": "sujKgVpgEVRA",
        "outputId": "a28b38e3-d5aa-419e-c910-d4def87d9790"
      },
      "source": [
        "import pandas as pd\n",
        "import matplotlib.pyplot as plt\n",
        "\n",
        "print(\"We're set up!\")"
      ],
      "execution_count": 1,
      "outputs": [
        {
          "output_type": "stream",
          "name": "stdout",
          "text": [
            "We're set up!\n"
          ]
        }
      ]
    },
    {
      "cell_type": "markdown",
      "metadata": {
        "id": "2UVGM86YLKOR"
      },
      "source": [
        "# Accessing and examining data\n",
        "\n",
        "Once we have access to our data, lets have a look at the raw data format so we can figure out how to load it for analysis."
      ]
    },
    {
      "cell_type": "code",
      "execution_count": 2,
      "metadata": {},
      "outputs": [],
      "source": [
        "# !git clone https://github.com/mblackstock/datasets.git"
      ]
    },
    {
      "cell_type": "code",
      "execution_count": 3,
      "metadata": {},
      "outputs": [
        {
          "output_type": "stream",
          "name": "stdout",
          "text": [
            "1::F::1::10::48067\n2::M::56::16::70072\n3::M::25::15::55117\n4::M::45::7::02460\n5::M::25::20::55455\n6::F::50::9::55117\n7::M::35::1::06810\n8::M::25::12::11413\n9::M::25::17::61614\n10::F::35::1::95370\n"
          ]
        }
      ],
      "source": [
        "!head -n 10 datasets/movies/ml-1m/users.dat"
      ]
    },
    {
      "source": [
        "We can see this file quite different from the CSV file we used in the previous project.  It is organized in a table with no row or column headings.  Columns are separated using colons (::).\n",
        "\n",
        "Fortunately we can use the README information supplied with the data to know what the data in each column represents.  The columns are as follows:\n",
        "\n",
        "- user id\n",
        "- gender\n",
        "- age\n",
        "- occupation code\n",
        "- zip code\n",
        "\n",
        "Using this information we can get an understanding of the person who rated movies."
      ],
      "cell_type": "markdown",
      "metadata": {}
    },
    {
      "cell_type": "code",
      "execution_count": 4,
      "metadata": {},
      "outputs": [
        {
          "output_type": "stream",
          "name": "stdout",
          "text": [
            "1::1193::5::978300760\n1::661::3::978302109\n1::914::3::978301968\n1::3408::4::978300275\n1::2355::5::978824291\n1::1197::3::978302268\n1::1287::5::978302039\n1::2804::5::978300719\n1::594::4::978302268\n1::919::4::978301368\n"
          ]
        }
      ],
      "source": [
        "!head -n 10 datasets/movies/ml-1m/ratings.dat"
      ]
    },
    {
      "source": [
        "This file contains the following columns:\n",
        "\n",
        "- user id\n",
        "- movie id\n",
        "- rating (1-5)\n",
        "- unix timestamp in seconds"
      ],
      "cell_type": "markdown",
      "metadata": {}
    },
    {
      "cell_type": "code",
      "execution_count": 5,
      "metadata": {},
      "outputs": [
        {
          "output_type": "stream",
          "name": "stdout",
          "text": [
            "1::Toy Story (1995)::Animation|Children's|Comedy\n2::Jumanji (1995)::Adventure|Children's|Fantasy\n3::Grumpier Old Men (1995)::Comedy|Romance\n4::Waiting to Exhale (1995)::Comedy|Drama\n5::Father of the Bride Part II (1995)::Comedy\n6::Heat (1995)::Action|Crime|Thriller\n7::Sabrina (1995)::Comedy|Romance\n8::Tom and Huck (1995)::Adventure|Children's\n9::Sudden Death (1995)::Action\n10::GoldenEye (1995)::Action|Adventure|Thriller\n"
          ]
        }
      ],
      "source": [
        "!head -n 10 datasets/movies/ml-1m/movies.dat"
      ]
    },
    {
      "source": [
        "This file contains:\n",
        "\n",
        "- movie id\n",
        "- movie title\n",
        "- list of genres\n",
        "\n",
        "It looks like we have a lot of interesting data.  Next, lets load up the data and use it for some analysis!"
      ],
      "cell_type": "markdown",
      "metadata": {}
    },
    {
      "source": [
        "# Loading Data\n",
        "\n",
        "To load the data we can't use `read_csv` since it is not a csv file.  Instead we use `read_table` as shown."
      ],
      "cell_type": "markdown",
      "metadata": {}
    },
    {
      "cell_type": "code",
      "metadata": {
        "colab": {
          "base_uri": "https://localhost:8080/"
        },
        "id": "Axwl7xzgFqBn",
        "outputId": "175ca771-af7a-4263-ec37-fba01f740feb"
      },
      "source": [
        "unames = ['user_id', 'gender', 'age', 'occupation', 'zip']\n",
        "users = pd.read_table('datasets/movies/ml-1m/users.dat',sep='::', header=None, names=unames)\n",
        "\n",
        "rnames = ['user_id', 'movie_id', 'rating', 'timestamp']\n",
        "ratings = pd.read_table('datasets/movies/ml-1m/ratings.dat',sep='::', header=None, names=rnames)\n",
        "\n",
        "mnames = ['movie_id', 'title', 'genre']\n",
        "movies = pd.read_table('datasets/movies/ml-1m/movies.dat',sep='::', header=None, names=mnames)\n"
      ],
      "execution_count": 6,
      "outputs": [
        {
          "output_type": "stream",
          "name": "stderr",
          "text": [
            "<ipython-input-6-7afca1f73fa1>:2: ParserWarning: Falling back to the 'python' engine because the 'c' engine does not support regex separators (separators > 1 char and different from '\\s+' are interpreted as regex); you can avoid this warning by specifying engine='python'.\n",
            "  users = pd.read_table('datasets/movies/ml-1m/users.dat',sep='::', header=None, names=unames)\n",
            "<ipython-input-6-7afca1f73fa1>:5: ParserWarning: Falling back to the 'python' engine because the 'c' engine does not support regex separators (separators > 1 char and different from '\\s+' are interpreted as regex); you can avoid this warning by specifying engine='python'.\n",
            "  ratings = pd.read_table('datasets/movies/ml-1m/ratings.dat',sep='::', header=None, names=rnames)\n",
            "<ipython-input-6-7afca1f73fa1>:8: ParserWarning: Falling back to the 'python' engine because the 'c' engine does not support regex separators (separators > 1 char and different from '\\s+' are interpreted as regex); you can avoid this warning by specifying engine='python'.\n",
            "  movies = pd.read_table('datasets/movies/ml-1m/movies.dat',sep='::', header=None, names=mnames)\n"
          ]
        }
      ]
    },
    {
      "source": [
        "Now that their loaded, let's look at the DataFrames we've loaded."
      ],
      "cell_type": "markdown",
      "metadata": {}
    },
    {
      "cell_type": "code",
      "execution_count": 7,
      "metadata": {},
      "outputs": [
        {
          "output_type": "execute_result",
          "data": {
            "text/plain": [
              "   user_id gender  age  occupation    zip\n",
              "0        1      F    1          10  48067\n",
              "1        2      M   56          16  70072\n",
              "2        3      M   25          15  55117\n",
              "3        4      M   45           7  02460\n",
              "4        5      M   25          20  55455"
            ],
            "text/html": "<div>\n<style scoped>\n    .dataframe tbody tr th:only-of-type {\n        vertical-align: middle;\n    }\n\n    .dataframe tbody tr th {\n        vertical-align: top;\n    }\n\n    .dataframe thead th {\n        text-align: right;\n    }\n</style>\n<table border=\"1\" class=\"dataframe\">\n  <thead>\n    <tr style=\"text-align: right;\">\n      <th></th>\n      <th>user_id</th>\n      <th>gender</th>\n      <th>age</th>\n      <th>occupation</th>\n      <th>zip</th>\n    </tr>\n  </thead>\n  <tbody>\n    <tr>\n      <th>0</th>\n      <td>1</td>\n      <td>F</td>\n      <td>1</td>\n      <td>10</td>\n      <td>48067</td>\n    </tr>\n    <tr>\n      <th>1</th>\n      <td>2</td>\n      <td>M</td>\n      <td>56</td>\n      <td>16</td>\n      <td>70072</td>\n    </tr>\n    <tr>\n      <th>2</th>\n      <td>3</td>\n      <td>M</td>\n      <td>25</td>\n      <td>15</td>\n      <td>55117</td>\n    </tr>\n    <tr>\n      <th>3</th>\n      <td>4</td>\n      <td>M</td>\n      <td>45</td>\n      <td>7</td>\n      <td>02460</td>\n    </tr>\n    <tr>\n      <th>4</th>\n      <td>5</td>\n      <td>M</td>\n      <td>25</td>\n      <td>20</td>\n      <td>55455</td>\n    </tr>\n  </tbody>\n</table>\n</div>"
          },
          "metadata": {},
          "execution_count": 7
        }
      ],
      "source": [
        "users[:5]"
      ]
    },
    {
      "source": [
        "Another way to do this is using the head method:"
      ],
      "cell_type": "markdown",
      "metadata": {}
    },
    {
      "cell_type": "code",
      "execution_count": 8,
      "metadata": {},
      "outputs": [
        {
          "output_type": "execute_result",
          "data": {
            "text/plain": [
              "   user_id gender  age  occupation    zip\n",
              "0        1      F    1          10  48067\n",
              "1        2      M   56          16  70072\n",
              "2        3      M   25          15  55117\n",
              "3        4      M   45           7  02460\n",
              "4        5      M   25          20  55455"
            ],
            "text/html": "<div>\n<style scoped>\n    .dataframe tbody tr th:only-of-type {\n        vertical-align: middle;\n    }\n\n    .dataframe tbody tr th {\n        vertical-align: top;\n    }\n\n    .dataframe thead th {\n        text-align: right;\n    }\n</style>\n<table border=\"1\" class=\"dataframe\">\n  <thead>\n    <tr style=\"text-align: right;\">\n      <th></th>\n      <th>user_id</th>\n      <th>gender</th>\n      <th>age</th>\n      <th>occupation</th>\n      <th>zip</th>\n    </tr>\n  </thead>\n  <tbody>\n    <tr>\n      <th>0</th>\n      <td>1</td>\n      <td>F</td>\n      <td>1</td>\n      <td>10</td>\n      <td>48067</td>\n    </tr>\n    <tr>\n      <th>1</th>\n      <td>2</td>\n      <td>M</td>\n      <td>56</td>\n      <td>16</td>\n      <td>70072</td>\n    </tr>\n    <tr>\n      <th>2</th>\n      <td>3</td>\n      <td>M</td>\n      <td>25</td>\n      <td>15</td>\n      <td>55117</td>\n    </tr>\n    <tr>\n      <th>3</th>\n      <td>4</td>\n      <td>M</td>\n      <td>45</td>\n      <td>7</td>\n      <td>02460</td>\n    </tr>\n    <tr>\n      <th>4</th>\n      <td>5</td>\n      <td>M</td>\n      <td>25</td>\n      <td>20</td>\n      <td>55455</td>\n    </tr>\n  </tbody>\n</table>\n</div>"
          },
          "metadata": {},
          "execution_count": 8
        }
      ],
      "source": [
        "users.head()"
      ]
    },
    {
      "cell_type": "code",
      "execution_count": 9,
      "metadata": {},
      "outputs": [
        {
          "output_type": "execute_result",
          "data": {
            "text/plain": [
              "   user_id  movie_id  rating  timestamp\n",
              "0        1      1193       5  978300760\n",
              "1        1       661       3  978302109\n",
              "2        1       914       3  978301968\n",
              "3        1      3408       4  978300275\n",
              "4        1      2355       5  978824291"
            ],
            "text/html": "<div>\n<style scoped>\n    .dataframe tbody tr th:only-of-type {\n        vertical-align: middle;\n    }\n\n    .dataframe tbody tr th {\n        vertical-align: top;\n    }\n\n    .dataframe thead th {\n        text-align: right;\n    }\n</style>\n<table border=\"1\" class=\"dataframe\">\n  <thead>\n    <tr style=\"text-align: right;\">\n      <th></th>\n      <th>user_id</th>\n      <th>movie_id</th>\n      <th>rating</th>\n      <th>timestamp</th>\n    </tr>\n  </thead>\n  <tbody>\n    <tr>\n      <th>0</th>\n      <td>1</td>\n      <td>1193</td>\n      <td>5</td>\n      <td>978300760</td>\n    </tr>\n    <tr>\n      <th>1</th>\n      <td>1</td>\n      <td>661</td>\n      <td>3</td>\n      <td>978302109</td>\n    </tr>\n    <tr>\n      <th>2</th>\n      <td>1</td>\n      <td>914</td>\n      <td>3</td>\n      <td>978301968</td>\n    </tr>\n    <tr>\n      <th>3</th>\n      <td>1</td>\n      <td>3408</td>\n      <td>4</td>\n      <td>978300275</td>\n    </tr>\n    <tr>\n      <th>4</th>\n      <td>1</td>\n      <td>2355</td>\n      <td>5</td>\n      <td>978824291</td>\n    </tr>\n  </tbody>\n</table>\n</div>"
          },
          "metadata": {},
          "execution_count": 9
        }
      ],
      "source": [
        "ratings[:5]"
      ]
    },
    {
      "cell_type": "code",
      "execution_count": 10,
      "metadata": {},
      "outputs": [
        {
          "output_type": "execute_result",
          "data": {
            "text/plain": [
              "   movie_id                               title                         genre\n",
              "0         1                    Toy Story (1995)   Animation|Children's|Comedy\n",
              "1         2                      Jumanji (1995)  Adventure|Children's|Fantasy\n",
              "2         3             Grumpier Old Men (1995)                Comedy|Romance\n",
              "3         4            Waiting to Exhale (1995)                  Comedy|Drama\n",
              "4         5  Father of the Bride Part II (1995)                        Comedy"
            ],
            "text/html": "<div>\n<style scoped>\n    .dataframe tbody tr th:only-of-type {\n        vertical-align: middle;\n    }\n\n    .dataframe tbody tr th {\n        vertical-align: top;\n    }\n\n    .dataframe thead th {\n        text-align: right;\n    }\n</style>\n<table border=\"1\" class=\"dataframe\">\n  <thead>\n    <tr style=\"text-align: right;\">\n      <th></th>\n      <th>movie_id</th>\n      <th>title</th>\n      <th>genre</th>\n    </tr>\n  </thead>\n  <tbody>\n    <tr>\n      <th>0</th>\n      <td>1</td>\n      <td>Toy Story (1995)</td>\n      <td>Animation|Children's|Comedy</td>\n    </tr>\n    <tr>\n      <th>1</th>\n      <td>2</td>\n      <td>Jumanji (1995)</td>\n      <td>Adventure|Children's|Fantasy</td>\n    </tr>\n    <tr>\n      <th>2</th>\n      <td>3</td>\n      <td>Grumpier Old Men (1995)</td>\n      <td>Comedy|Romance</td>\n    </tr>\n    <tr>\n      <th>3</th>\n      <td>4</td>\n      <td>Waiting to Exhale (1995)</td>\n      <td>Comedy|Drama</td>\n    </tr>\n    <tr>\n      <th>4</th>\n      <td>5</td>\n      <td>Father of the Bride Part II (1995)</td>\n      <td>Comedy</td>\n    </tr>\n  </tbody>\n</table>\n</div>"
          },
          "metadata": {},
          "execution_count": 10
        }
      ],
      "source": [
        "movies[:5]"
      ]
    },
    {
      "cell_type": "markdown",
      "metadata": {
        "id": "tOWBZdx_LOD4"
      },
      "source": [
        "# Merging Datasets\n",
        "\n",
        "We'd like to answer questions that span all three tables, for example, to understand what the most highly rated movies are on average, and how ratings differ between men and women.\n",
        "\n",
        "To allow us to do analysis, we can merge all of the tables into one big table.  To do this we'll use the `merge` method that connects rows in DataFrames based on one or more keys.  If you're familiar with databases, this is similar to how a database does *join* operations.\n",
        "\n",
        "Here's how the merge function works.  First lets set up some simple DataFrames for an example:"
      ]
    },
    {
      "cell_type": "code",
      "execution_count": 11,
      "metadata": {},
      "outputs": [
        {
          "output_type": "execute_result",
          "data": {
            "text/plain": [
              "  key  data1\n",
              "0   b      0\n",
              "1   b      1\n",
              "2   a      2\n",
              "3   c      3\n",
              "4   a      4\n",
              "5   a      5\n",
              "6   b      6"
            ],
            "text/html": "<div>\n<style scoped>\n    .dataframe tbody tr th:only-of-type {\n        vertical-align: middle;\n    }\n\n    .dataframe tbody tr th {\n        vertical-align: top;\n    }\n\n    .dataframe thead th {\n        text-align: right;\n    }\n</style>\n<table border=\"1\" class=\"dataframe\">\n  <thead>\n    <tr style=\"text-align: right;\">\n      <th></th>\n      <th>key</th>\n      <th>data1</th>\n    </tr>\n  </thead>\n  <tbody>\n    <tr>\n      <th>0</th>\n      <td>b</td>\n      <td>0</td>\n    </tr>\n    <tr>\n      <th>1</th>\n      <td>b</td>\n      <td>1</td>\n    </tr>\n    <tr>\n      <th>2</th>\n      <td>a</td>\n      <td>2</td>\n    </tr>\n    <tr>\n      <th>3</th>\n      <td>c</td>\n      <td>3</td>\n    </tr>\n    <tr>\n      <th>4</th>\n      <td>a</td>\n      <td>4</td>\n    </tr>\n    <tr>\n      <th>5</th>\n      <td>a</td>\n      <td>5</td>\n    </tr>\n    <tr>\n      <th>6</th>\n      <td>b</td>\n      <td>6</td>\n    </tr>\n  </tbody>\n</table>\n</div>"
          },
          "metadata": {},
          "execution_count": 11
        }
      ],
      "source": [
        "df1 = pd.DataFrame({'key': ['b','b','a','c','a','a','b'], 'data1':range(7)})\n",
        "df2 = pd.DataFrame({'key': ['a','b','d'], 'data2':range(3)})\n",
        "df1"
      ]
    },
    {
      "cell_type": "code",
      "execution_count": 12,
      "metadata": {},
      "outputs": [
        {
          "output_type": "execute_result",
          "data": {
            "text/plain": [
              "  key  data2\n",
              "0   a      0\n",
              "1   b      1\n",
              "2   d      2"
            ],
            "text/html": "<div>\n<style scoped>\n    .dataframe tbody tr th:only-of-type {\n        vertical-align: middle;\n    }\n\n    .dataframe tbody tr th {\n        vertical-align: top;\n    }\n\n    .dataframe thead th {\n        text-align: right;\n    }\n</style>\n<table border=\"1\" class=\"dataframe\">\n  <thead>\n    <tr style=\"text-align: right;\">\n      <th></th>\n      <th>key</th>\n      <th>data2</th>\n    </tr>\n  </thead>\n  <tbody>\n    <tr>\n      <th>0</th>\n      <td>a</td>\n      <td>0</td>\n    </tr>\n    <tr>\n      <th>1</th>\n      <td>b</td>\n      <td>1</td>\n    </tr>\n    <tr>\n      <th>2</th>\n      <td>d</td>\n      <td>2</td>\n    </tr>\n  </tbody>\n</table>\n</div>"
          },
          "metadata": {},
          "execution_count": 12
        }
      ],
      "source": [
        "df2"
      ]
    },
    {
      "source": [
        "now lets merget to see what happens!"
      ],
      "cell_type": "markdown",
      "metadata": {}
    },
    {
      "cell_type": "code",
      "execution_count": 13,
      "metadata": {},
      "outputs": [
        {
          "output_type": "execute_result",
          "data": {
            "text/plain": [
              "  key  data1  data2\n",
              "0   b      0      1\n",
              "1   b      1      1\n",
              "2   b      6      1\n",
              "3   a      2      0\n",
              "4   a      4      0\n",
              "5   a      5      0"
            ],
            "text/html": "<div>\n<style scoped>\n    .dataframe tbody tr th:only-of-type {\n        vertical-align: middle;\n    }\n\n    .dataframe tbody tr th {\n        vertical-align: top;\n    }\n\n    .dataframe thead th {\n        text-align: right;\n    }\n</style>\n<table border=\"1\" class=\"dataframe\">\n  <thead>\n    <tr style=\"text-align: right;\">\n      <th></th>\n      <th>key</th>\n      <th>data1</th>\n      <th>data2</th>\n    </tr>\n  </thead>\n  <tbody>\n    <tr>\n      <th>0</th>\n      <td>b</td>\n      <td>0</td>\n      <td>1</td>\n    </tr>\n    <tr>\n      <th>1</th>\n      <td>b</td>\n      <td>1</td>\n      <td>1</td>\n    </tr>\n    <tr>\n      <th>2</th>\n      <td>b</td>\n      <td>6</td>\n      <td>1</td>\n    </tr>\n    <tr>\n      <th>3</th>\n      <td>a</td>\n      <td>2</td>\n      <td>0</td>\n    </tr>\n    <tr>\n      <th>4</th>\n      <td>a</td>\n      <td>4</td>\n      <td>0</td>\n    </tr>\n    <tr>\n      <th>5</th>\n      <td>a</td>\n      <td>5</td>\n      <td>0</td>\n    </tr>\n  </tbody>\n</table>\n</div>"
          },
          "metadata": {},
          "execution_count": 13
        }
      ],
      "source": [
        "pd.merge(df1,df2)"
      ]
    },
    {
      "source": [
        "How does this work?  It merged the two tables using the columns with the same name (key).  It only included the keys that are common in both tables.  This means it is in 'inner' join. You can also specify outer, left or right join where the keys are a union of both, only the left, or only the right.\n",
        "\n",
        "It's a good idea to specify the key, so we can do the following"
      ],
      "cell_type": "markdown",
      "metadata": {}
    },
    {
      "cell_type": "code",
      "execution_count": 14,
      "metadata": {},
      "outputs": [
        {
          "output_type": "execute_result",
          "data": {
            "text/plain": [
              "  key  data1  data2\n",
              "0   b      0      1\n",
              "1   b      1      1\n",
              "2   b      6      1\n",
              "3   a      2      0\n",
              "4   a      4      0\n",
              "5   a      5      0"
            ],
            "text/html": "<div>\n<style scoped>\n    .dataframe tbody tr th:only-of-type {\n        vertical-align: middle;\n    }\n\n    .dataframe tbody tr th {\n        vertical-align: top;\n    }\n\n    .dataframe thead th {\n        text-align: right;\n    }\n</style>\n<table border=\"1\" class=\"dataframe\">\n  <thead>\n    <tr style=\"text-align: right;\">\n      <th></th>\n      <th>key</th>\n      <th>data1</th>\n      <th>data2</th>\n    </tr>\n  </thead>\n  <tbody>\n    <tr>\n      <th>0</th>\n      <td>b</td>\n      <td>0</td>\n      <td>1</td>\n    </tr>\n    <tr>\n      <th>1</th>\n      <td>b</td>\n      <td>1</td>\n      <td>1</td>\n    </tr>\n    <tr>\n      <th>2</th>\n      <td>b</td>\n      <td>6</td>\n      <td>1</td>\n    </tr>\n    <tr>\n      <th>3</th>\n      <td>a</td>\n      <td>2</td>\n      <td>0</td>\n    </tr>\n    <tr>\n      <th>4</th>\n      <td>a</td>\n      <td>4</td>\n      <td>0</td>\n    </tr>\n    <tr>\n      <th>5</th>\n      <td>a</td>\n      <td>5</td>\n      <td>0</td>\n    </tr>\n  </tbody>\n</table>\n</div>"
          },
          "metadata": {},
          "execution_count": 14
        }
      ],
      "source": [
        "pd.merge(df1,df2,on='key')"
      ]
    },
    {
      "source": [
        "If the keys aren't the same, we can specify them on each table like this."
      ],
      "cell_type": "markdown",
      "metadata": {}
    },
    {
      "cell_type": "code",
      "execution_count": 15,
      "metadata": {},
      "outputs": [
        {
          "output_type": "execute_result",
          "data": {
            "text/plain": [
              "  lkey  data3 rkey  data4\n",
              "0    b      0    b      1\n",
              "1    b      1    b      1\n",
              "2    b      6    b      1\n",
              "3    a      2    a      0\n",
              "4    a      4    a      0\n",
              "5    a      5    a      0"
            ],
            "text/html": "<div>\n<style scoped>\n    .dataframe tbody tr th:only-of-type {\n        vertical-align: middle;\n    }\n\n    .dataframe tbody tr th {\n        vertical-align: top;\n    }\n\n    .dataframe thead th {\n        text-align: right;\n    }\n</style>\n<table border=\"1\" class=\"dataframe\">\n  <thead>\n    <tr style=\"text-align: right;\">\n      <th></th>\n      <th>lkey</th>\n      <th>data3</th>\n      <th>rkey</th>\n      <th>data4</th>\n    </tr>\n  </thead>\n  <tbody>\n    <tr>\n      <th>0</th>\n      <td>b</td>\n      <td>0</td>\n      <td>b</td>\n      <td>1</td>\n    </tr>\n    <tr>\n      <th>1</th>\n      <td>b</td>\n      <td>1</td>\n      <td>b</td>\n      <td>1</td>\n    </tr>\n    <tr>\n      <th>2</th>\n      <td>b</td>\n      <td>6</td>\n      <td>b</td>\n      <td>1</td>\n    </tr>\n    <tr>\n      <th>3</th>\n      <td>a</td>\n      <td>2</td>\n      <td>a</td>\n      <td>0</td>\n    </tr>\n    <tr>\n      <th>4</th>\n      <td>a</td>\n      <td>4</td>\n      <td>a</td>\n      <td>0</td>\n    </tr>\n    <tr>\n      <th>5</th>\n      <td>a</td>\n      <td>5</td>\n      <td>a</td>\n      <td>0</td>\n    </tr>\n  </tbody>\n</table>\n</div>"
          },
          "metadata": {},
          "execution_count": 15
        }
      ],
      "source": [
        "df3 = pd.DataFrame({'lkey': ['b','b','a','c','a','a','b'], 'data3':range(7)})\n",
        "df4 = pd.DataFrame({'rkey': ['a','b','d'], 'data4':range(3)})\n",
        "pd.merge(df3, df4, left_on=\"lkey\", right_on='rkey')"
      ]
    },
    {
      "source": [
        "So, lets merge the ratings and user tables together first."
      ],
      "cell_type": "markdown",
      "metadata": {}
    },
    {
      "cell_type": "code",
      "execution_count": 16,
      "metadata": {},
      "outputs": [
        {
          "output_type": "execute_result",
          "data": {
            "text/plain": [
              "         user_id  movie_id  rating  timestamp gender  age  occupation    zip\n",
              "0              1      1193       5  978300760      F    1          10  48067\n",
              "1              1       661       3  978302109      F    1          10  48067\n",
              "2              1       914       3  978301968      F    1          10  48067\n",
              "3              1      3408       4  978300275      F    1          10  48067\n",
              "4              1      2355       5  978824291      F    1          10  48067\n",
              "...          ...       ...     ...        ...    ...  ...         ...    ...\n",
              "1000204     6040      1091       1  956716541      M   25           6  11106\n",
              "1000205     6040      1094       5  956704887      M   25           6  11106\n",
              "1000206     6040       562       5  956704746      M   25           6  11106\n",
              "1000207     6040      1096       4  956715648      M   25           6  11106\n",
              "1000208     6040      1097       4  956715569      M   25           6  11106\n",
              "\n",
              "[1000209 rows x 8 columns]"
            ],
            "text/html": "<div>\n<style scoped>\n    .dataframe tbody tr th:only-of-type {\n        vertical-align: middle;\n    }\n\n    .dataframe tbody tr th {\n        vertical-align: top;\n    }\n\n    .dataframe thead th {\n        text-align: right;\n    }\n</style>\n<table border=\"1\" class=\"dataframe\">\n  <thead>\n    <tr style=\"text-align: right;\">\n      <th></th>\n      <th>user_id</th>\n      <th>movie_id</th>\n      <th>rating</th>\n      <th>timestamp</th>\n      <th>gender</th>\n      <th>age</th>\n      <th>occupation</th>\n      <th>zip</th>\n    </tr>\n  </thead>\n  <tbody>\n    <tr>\n      <th>0</th>\n      <td>1</td>\n      <td>1193</td>\n      <td>5</td>\n      <td>978300760</td>\n      <td>F</td>\n      <td>1</td>\n      <td>10</td>\n      <td>48067</td>\n    </tr>\n    <tr>\n      <th>1</th>\n      <td>1</td>\n      <td>661</td>\n      <td>3</td>\n      <td>978302109</td>\n      <td>F</td>\n      <td>1</td>\n      <td>10</td>\n      <td>48067</td>\n    </tr>\n    <tr>\n      <th>2</th>\n      <td>1</td>\n      <td>914</td>\n      <td>3</td>\n      <td>978301968</td>\n      <td>F</td>\n      <td>1</td>\n      <td>10</td>\n      <td>48067</td>\n    </tr>\n    <tr>\n      <th>3</th>\n      <td>1</td>\n      <td>3408</td>\n      <td>4</td>\n      <td>978300275</td>\n      <td>F</td>\n      <td>1</td>\n      <td>10</td>\n      <td>48067</td>\n    </tr>\n    <tr>\n      <th>4</th>\n      <td>1</td>\n      <td>2355</td>\n      <td>5</td>\n      <td>978824291</td>\n      <td>F</td>\n      <td>1</td>\n      <td>10</td>\n      <td>48067</td>\n    </tr>\n    <tr>\n      <th>...</th>\n      <td>...</td>\n      <td>...</td>\n      <td>...</td>\n      <td>...</td>\n      <td>...</td>\n      <td>...</td>\n      <td>...</td>\n      <td>...</td>\n    </tr>\n    <tr>\n      <th>1000204</th>\n      <td>6040</td>\n      <td>1091</td>\n      <td>1</td>\n      <td>956716541</td>\n      <td>M</td>\n      <td>25</td>\n      <td>6</td>\n      <td>11106</td>\n    </tr>\n    <tr>\n      <th>1000205</th>\n      <td>6040</td>\n      <td>1094</td>\n      <td>5</td>\n      <td>956704887</td>\n      <td>M</td>\n      <td>25</td>\n      <td>6</td>\n      <td>11106</td>\n    </tr>\n    <tr>\n      <th>1000206</th>\n      <td>6040</td>\n      <td>562</td>\n      <td>5</td>\n      <td>956704746</td>\n      <td>M</td>\n      <td>25</td>\n      <td>6</td>\n      <td>11106</td>\n    </tr>\n    <tr>\n      <th>1000207</th>\n      <td>6040</td>\n      <td>1096</td>\n      <td>4</td>\n      <td>956715648</td>\n      <td>M</td>\n      <td>25</td>\n      <td>6</td>\n      <td>11106</td>\n    </tr>\n    <tr>\n      <th>1000208</th>\n      <td>6040</td>\n      <td>1097</td>\n      <td>4</td>\n      <td>956715569</td>\n      <td>M</td>\n      <td>25</td>\n      <td>6</td>\n      <td>11106</td>\n    </tr>\n  </tbody>\n</table>\n<p>1000209 rows × 8 columns</p>\n</div>"
          },
          "metadata": {},
          "execution_count": 16
        }
      ],
      "source": [
        "ratings_users = pd.merge(ratings, users)\n",
        "ratings_users"
      ]
    },
    {
      "source": [
        "Now we have the user information from the users table along with each user's rating from the ratings table.\n",
        "\n",
        "Next we'll merge this table with the movies table.  The most important data is the ratings so that goes first."
      ],
      "cell_type": "markdown",
      "metadata": {}
    },
    {
      "cell_type": "code",
      "execution_count": 17,
      "metadata": {},
      "outputs": [
        {
          "output_type": "execute_result",
          "data": {
            "text/plain": [
              "         user_id  movie_id  rating  timestamp gender  age  occupation    zip  \\\n",
              "0              1      1193       5  978300760      F    1          10  48067   \n",
              "1              2      1193       5  978298413      M   56          16  70072   \n",
              "2             12      1193       4  978220179      M   25          12  32793   \n",
              "3             15      1193       4  978199279      M   25           7  22903   \n",
              "4             17      1193       5  978158471      M   50           1  95350   \n",
              "...          ...       ...     ...        ...    ...  ...         ...    ...   \n",
              "1000204     5949      2198       5  958846401      M   18          17  47901   \n",
              "1000205     5675      2703       3  976029116      M   35          14  30030   \n",
              "1000206     5780      2845       1  958153068      M   18          17  92886   \n",
              "1000207     5851      3607       5  957756608      F   18          20  55410   \n",
              "1000208     5938      2909       4  957273353      M   25           1  35401   \n",
              "\n",
              "                                               title                 genre  \n",
              "0             One Flew Over the Cuckoo's Nest (1975)                 Drama  \n",
              "1             One Flew Over the Cuckoo's Nest (1975)                 Drama  \n",
              "2             One Flew Over the Cuckoo's Nest (1975)                 Drama  \n",
              "3             One Flew Over the Cuckoo's Nest (1975)                 Drama  \n",
              "4             One Flew Over the Cuckoo's Nest (1975)                 Drama  \n",
              "...                                              ...                   ...  \n",
              "1000204                           Modulations (1998)           Documentary  \n",
              "1000205                        Broken Vessels (1998)                 Drama  \n",
              "1000206                            White Boys (1999)                 Drama  \n",
              "1000207                     One Little Indian (1973)  Comedy|Drama|Western  \n",
              "1000208  Five Wives, Three Secretaries and Me (1998)           Documentary  \n",
              "\n",
              "[1000209 rows x 10 columns]"
            ],
            "text/html": "<div>\n<style scoped>\n    .dataframe tbody tr th:only-of-type {\n        vertical-align: middle;\n    }\n\n    .dataframe tbody tr th {\n        vertical-align: top;\n    }\n\n    .dataframe thead th {\n        text-align: right;\n    }\n</style>\n<table border=\"1\" class=\"dataframe\">\n  <thead>\n    <tr style=\"text-align: right;\">\n      <th></th>\n      <th>user_id</th>\n      <th>movie_id</th>\n      <th>rating</th>\n      <th>timestamp</th>\n      <th>gender</th>\n      <th>age</th>\n      <th>occupation</th>\n      <th>zip</th>\n      <th>title</th>\n      <th>genre</th>\n    </tr>\n  </thead>\n  <tbody>\n    <tr>\n      <th>0</th>\n      <td>1</td>\n      <td>1193</td>\n      <td>5</td>\n      <td>978300760</td>\n      <td>F</td>\n      <td>1</td>\n      <td>10</td>\n      <td>48067</td>\n      <td>One Flew Over the Cuckoo's Nest (1975)</td>\n      <td>Drama</td>\n    </tr>\n    <tr>\n      <th>1</th>\n      <td>2</td>\n      <td>1193</td>\n      <td>5</td>\n      <td>978298413</td>\n      <td>M</td>\n      <td>56</td>\n      <td>16</td>\n      <td>70072</td>\n      <td>One Flew Over the Cuckoo's Nest (1975)</td>\n      <td>Drama</td>\n    </tr>\n    <tr>\n      <th>2</th>\n      <td>12</td>\n      <td>1193</td>\n      <td>4</td>\n      <td>978220179</td>\n      <td>M</td>\n      <td>25</td>\n      <td>12</td>\n      <td>32793</td>\n      <td>One Flew Over the Cuckoo's Nest (1975)</td>\n      <td>Drama</td>\n    </tr>\n    <tr>\n      <th>3</th>\n      <td>15</td>\n      <td>1193</td>\n      <td>4</td>\n      <td>978199279</td>\n      <td>M</td>\n      <td>25</td>\n      <td>7</td>\n      <td>22903</td>\n      <td>One Flew Over the Cuckoo's Nest (1975)</td>\n      <td>Drama</td>\n    </tr>\n    <tr>\n      <th>4</th>\n      <td>17</td>\n      <td>1193</td>\n      <td>5</td>\n      <td>978158471</td>\n      <td>M</td>\n      <td>50</td>\n      <td>1</td>\n      <td>95350</td>\n      <td>One Flew Over the Cuckoo's Nest (1975)</td>\n      <td>Drama</td>\n    </tr>\n    <tr>\n      <th>...</th>\n      <td>...</td>\n      <td>...</td>\n      <td>...</td>\n      <td>...</td>\n      <td>...</td>\n      <td>...</td>\n      <td>...</td>\n      <td>...</td>\n      <td>...</td>\n      <td>...</td>\n    </tr>\n    <tr>\n      <th>1000204</th>\n      <td>5949</td>\n      <td>2198</td>\n      <td>5</td>\n      <td>958846401</td>\n      <td>M</td>\n      <td>18</td>\n      <td>17</td>\n      <td>47901</td>\n      <td>Modulations (1998)</td>\n      <td>Documentary</td>\n    </tr>\n    <tr>\n      <th>1000205</th>\n      <td>5675</td>\n      <td>2703</td>\n      <td>3</td>\n      <td>976029116</td>\n      <td>M</td>\n      <td>35</td>\n      <td>14</td>\n      <td>30030</td>\n      <td>Broken Vessels (1998)</td>\n      <td>Drama</td>\n    </tr>\n    <tr>\n      <th>1000206</th>\n      <td>5780</td>\n      <td>2845</td>\n      <td>1</td>\n      <td>958153068</td>\n      <td>M</td>\n      <td>18</td>\n      <td>17</td>\n      <td>92886</td>\n      <td>White Boys (1999)</td>\n      <td>Drama</td>\n    </tr>\n    <tr>\n      <th>1000207</th>\n      <td>5851</td>\n      <td>3607</td>\n      <td>5</td>\n      <td>957756608</td>\n      <td>F</td>\n      <td>18</td>\n      <td>20</td>\n      <td>55410</td>\n      <td>One Little Indian (1973)</td>\n      <td>Comedy|Drama|Western</td>\n    </tr>\n    <tr>\n      <th>1000208</th>\n      <td>5938</td>\n      <td>2909</td>\n      <td>4</td>\n      <td>957273353</td>\n      <td>M</td>\n      <td>25</td>\n      <td>1</td>\n      <td>35401</td>\n      <td>Five Wives, Three Secretaries and Me (1998)</td>\n      <td>Documentary</td>\n    </tr>\n  </tbody>\n</table>\n<p>1000209 rows × 10 columns</p>\n</div>"
          },
          "metadata": {},
          "execution_count": 17
        }
      ],
      "source": [
        "data = pd.merge(ratings_users, movies)\n",
        "data"
      ]
    },
    {
      "source": [
        "Looks like all the info is there in one large table!  Lets get info on the table."
      ],
      "cell_type": "markdown",
      "metadata": {}
    },
    {
      "cell_type": "code",
      "metadata": {
        "colab": {
          "base_uri": "https://localhost:8080/"
        },
        "id": "KWnaYODfGX_f",
        "outputId": "8cdc62a3-7689-47b8-da24-728b8029a787"
      },
      "source": [
        "data.info()"
      ],
      "execution_count": 18,
      "outputs": [
        {
          "output_type": "stream",
          "name": "stdout",
          "text": [
            "<class 'pandas.core.frame.DataFrame'>\nInt64Index: 1000209 entries, 0 to 1000208\nData columns (total 10 columns):\n #   Column      Non-Null Count    Dtype \n---  ------      --------------    ----- \n 0   user_id     1000209 non-null  int64 \n 1   movie_id    1000209 non-null  int64 \n 2   rating      1000209 non-null  int64 \n 3   timestamp   1000209 non-null  int64 \n 4   gender      1000209 non-null  object\n 5   age         1000209 non-null  int64 \n 6   occupation  1000209 non-null  int64 \n 7   zip         1000209 non-null  object\n 8   title       1000209 non-null  object\n 9   genre       1000209 non-null  object\ndtypes: int64(6), object(4)\nmemory usage: 83.9+ MB\n"
          ]
        }
      ]
    },
    {
      "cell_type": "markdown",
      "metadata": {
        "id": "0oWoAnJlLRls"
      },
      "source": [
        "# Data aggregation and grouping\n",
        "\n",
        "Lets look at how we can calculate the average rating for each movie.  Currently our data is a long list of user ratings.  What we want is a table where the key is the title of the movie, and the data is the average rating.  How would we do this?\n",
        "\n",
        "## Groupby method\n",
        "\n",
        "What we want to do is calculate statistics on different groups of data.\n",
        "\n",
        "One way to do this is using the `groupby` method on the dataset that splits a DataFrame or Series into pieces by one or more keys.\n",
        "\n",
        "Then we can apply some summary statistics like count, mean, or standard deviation or some user-defined function on the pieces (groups).\n",
        "\n",
        "So, for example, to calculate the average rating of each movie we can do this:"
      ]
    },
    {
      "cell_type": "code",
      "execution_count": 19,
      "metadata": {},
      "outputs": [
        {
          "output_type": "execute_result",
          "data": {
            "text/plain": [
              "title\n",
              "$1,000,000 Duck (1971)                        3.027027\n",
              "'Night Mother (1986)                          3.371429\n",
              "'Til There Was You (1997)                     2.692308\n",
              "'burbs, The (1989)                            2.910891\n",
              "...And Justice for All (1979)                 3.713568\n",
              "                                                ...   \n",
              "Zed & Two Noughts, A (1985)                   3.413793\n",
              "Zero Effect (1998)                            3.750831\n",
              "Zero Kelvin (Kj�rlighetens kj�tere) (1995)    3.500000\n",
              "Zeus and Roxanne (1997)                       2.521739\n",
              "eXistenZ (1999)                               3.256098\n",
              "Name: rating, Length: 3706, dtype: float64"
            ]
          },
          "metadata": {},
          "execution_count": 19
        }
      ],
      "source": [
        "data.groupby('title')['rating'].mean()"
      ]
    },
    {
      "source": [
        "What this does is split the data into groups that have the same title, then get only the 'rating' column of those groups, then calculate the average for each group.\n",
        "\n",
        "## Pivot Table\n",
        "\n",
        "Another way to do this is with the `pivot_table` method. A pivot table is a data summarization tool frequently found in spreadsheet applications like excel.  It aggregates a table of data by one ore more keys, arranging the data in a rectable with some of the group keys along the rows, and others along the columns.   \n",
        "For example, to accomplish the same thing as our `groupby` method above we can do the following:"
      ],
      "cell_type": "markdown",
      "metadata": {}
    },
    {
      "cell_type": "code",
      "metadata": {
        "colab": {
          "base_uri": "https://localhost:8080/",
          "height": 450
        },
        "id": "pEkqxftXHGFM",
        "outputId": "5b4ba00e-ca9f-4319-bdae-0c0b641b5965"
      },
      "source": [
        "data.pivot_table('rating', index='title', )"
      ],
      "execution_count": 20,
      "outputs": [
        {
          "output_type": "execute_result",
          "data": {
            "text/plain": [
              "                                              rating\n",
              "title                                               \n",
              "$1,000,000 Duck (1971)                      3.027027\n",
              "'Night Mother (1986)                        3.371429\n",
              "'Til There Was You (1997)                   2.692308\n",
              "'burbs, The (1989)                          2.910891\n",
              "...And Justice for All (1979)               3.713568\n",
              "...                                              ...\n",
              "Zed & Two Noughts, A (1985)                 3.413793\n",
              "Zero Effect (1998)                          3.750831\n",
              "Zero Kelvin (Kj�rlighetens kj�tere) (1995)  3.500000\n",
              "Zeus and Roxanne (1997)                     2.521739\n",
              "eXistenZ (1999)                             3.256098\n",
              "\n",
              "[3706 rows x 1 columns]"
            ],
            "text/html": "<div>\n<style scoped>\n    .dataframe tbody tr th:only-of-type {\n        vertical-align: middle;\n    }\n\n    .dataframe tbody tr th {\n        vertical-align: top;\n    }\n\n    .dataframe thead th {\n        text-align: right;\n    }\n</style>\n<table border=\"1\" class=\"dataframe\">\n  <thead>\n    <tr style=\"text-align: right;\">\n      <th></th>\n      <th>rating</th>\n    </tr>\n    <tr>\n      <th>title</th>\n      <th></th>\n    </tr>\n  </thead>\n  <tbody>\n    <tr>\n      <th>$1,000,000 Duck (1971)</th>\n      <td>3.027027</td>\n    </tr>\n    <tr>\n      <th>'Night Mother (1986)</th>\n      <td>3.371429</td>\n    </tr>\n    <tr>\n      <th>'Til There Was You (1997)</th>\n      <td>2.692308</td>\n    </tr>\n    <tr>\n      <th>'burbs, The (1989)</th>\n      <td>2.910891</td>\n    </tr>\n    <tr>\n      <th>...And Justice for All (1979)</th>\n      <td>3.713568</td>\n    </tr>\n    <tr>\n      <th>...</th>\n      <td>...</td>\n    </tr>\n    <tr>\n      <th>Zed &amp; Two Noughts, A (1985)</th>\n      <td>3.413793</td>\n    </tr>\n    <tr>\n      <th>Zero Effect (1998)</th>\n      <td>3.750831</td>\n    </tr>\n    <tr>\n      <th>Zero Kelvin (Kj�rlighetens kj�tere) (1995)</th>\n      <td>3.500000</td>\n    </tr>\n    <tr>\n      <th>Zeus and Roxanne (1997)</th>\n      <td>2.521739</td>\n    </tr>\n    <tr>\n      <th>eXistenZ (1999)</th>\n      <td>3.256098</td>\n    </tr>\n  </tbody>\n</table>\n<p>3706 rows × 1 columns</p>\n</div>"
          },
          "metadata": {},
          "execution_count": 20
        }
      ]
    },
    {
      "source": [
        "The pivot_table function we can also group the aggregation using values in other columns.  For example to get ratings by gender we can do the following:"
      ],
      "cell_type": "markdown",
      "metadata": {}
    },
    {
      "cell_type": "code",
      "execution_count": 21,
      "metadata": {},
      "outputs": [
        {
          "output_type": "execute_result",
          "data": {
            "text/plain": [
              "gender                                             F         M       All\n",
              "title                                                                   \n",
              "$1,000,000 Duck (1971)                      3.375000  2.761905  3.027027\n",
              "'Night Mother (1986)                        3.388889  3.352941  3.371429\n",
              "'Til There Was You (1997)                   2.675676  2.733333  2.692308\n",
              "'burbs, The (1989)                          2.793478  2.962085  2.910891\n",
              "...And Justice for All (1979)               3.828571  3.689024  3.713568\n",
              "...                                              ...       ...       ...\n",
              "Zero Effect (1998)                          3.864407  3.723140  3.750831\n",
              "Zero Kelvin (Kj�rlighetens kj�tere) (1995)       NaN  3.500000  3.500000\n",
              "Zeus and Roxanne (1997)                     2.777778  2.357143  2.521739\n",
              "eXistenZ (1999)                             3.098592  3.289086  3.256098\n",
              "All                                         3.620366  3.568879  3.581564\n",
              "\n",
              "[3707 rows x 3 columns]"
            ],
            "text/html": "<div>\n<style scoped>\n    .dataframe tbody tr th:only-of-type {\n        vertical-align: middle;\n    }\n\n    .dataframe tbody tr th {\n        vertical-align: top;\n    }\n\n    .dataframe thead th {\n        text-align: right;\n    }\n</style>\n<table border=\"1\" class=\"dataframe\">\n  <thead>\n    <tr style=\"text-align: right;\">\n      <th>gender</th>\n      <th>F</th>\n      <th>M</th>\n      <th>All</th>\n    </tr>\n    <tr>\n      <th>title</th>\n      <th></th>\n      <th></th>\n      <th></th>\n    </tr>\n  </thead>\n  <tbody>\n    <tr>\n      <th>$1,000,000 Duck (1971)</th>\n      <td>3.375000</td>\n      <td>2.761905</td>\n      <td>3.027027</td>\n    </tr>\n    <tr>\n      <th>'Night Mother (1986)</th>\n      <td>3.388889</td>\n      <td>3.352941</td>\n      <td>3.371429</td>\n    </tr>\n    <tr>\n      <th>'Til There Was You (1997)</th>\n      <td>2.675676</td>\n      <td>2.733333</td>\n      <td>2.692308</td>\n    </tr>\n    <tr>\n      <th>'burbs, The (1989)</th>\n      <td>2.793478</td>\n      <td>2.962085</td>\n      <td>2.910891</td>\n    </tr>\n    <tr>\n      <th>...And Justice for All (1979)</th>\n      <td>3.828571</td>\n      <td>3.689024</td>\n      <td>3.713568</td>\n    </tr>\n    <tr>\n      <th>...</th>\n      <td>...</td>\n      <td>...</td>\n      <td>...</td>\n    </tr>\n    <tr>\n      <th>Zero Effect (1998)</th>\n      <td>3.864407</td>\n      <td>3.723140</td>\n      <td>3.750831</td>\n    </tr>\n    <tr>\n      <th>Zero Kelvin (Kj�rlighetens kj�tere) (1995)</th>\n      <td>NaN</td>\n      <td>3.500000</td>\n      <td>3.500000</td>\n    </tr>\n    <tr>\n      <th>Zeus and Roxanne (1997)</th>\n      <td>2.777778</td>\n      <td>2.357143</td>\n      <td>2.521739</td>\n    </tr>\n    <tr>\n      <th>eXistenZ (1999)</th>\n      <td>3.098592</td>\n      <td>3.289086</td>\n      <td>3.256098</td>\n    </tr>\n    <tr>\n      <th>All</th>\n      <td>3.620366</td>\n      <td>3.568879</td>\n      <td>3.581564</td>\n    </tr>\n  </tbody>\n</table>\n<p>3707 rows × 3 columns</p>\n</div>"
          },
          "metadata": {},
          "execution_count": 21
        }
      ],
      "source": [
        "data.pivot_table('rating', index='title', columns='gender', aggfunc='mean', margins=True)"
      ]
    },
    {
      "cell_type": "markdown",
      "metadata": {
        "id": "rHVFiLueLeAr"
      },
      "source": [
        "Note that we specify the aggregate function explicity here - by default the aggregation used is `mean`.  We also specify columns that we want to group the ratings by.  Another feature of pivot table is that we can set `margins=True` to include an `All` column that is the aggregate of all of the members of the column group.  Nice!\n",
        "\n",
        "Lets keep just the gender averages and drop the margins.\n"
      ]
    },
    {
      "cell_type": "code",
      "execution_count": 22,
      "metadata": {},
      "outputs": [
        {
          "output_type": "execute_result",
          "data": {
            "text/plain": [
              "gender                                F         M\n",
              "title                                            \n",
              "$1,000,000 Duck (1971)         3.375000  2.761905\n",
              "'Night Mother (1986)           3.388889  3.352941\n",
              "'Til There Was You (1997)      2.675676  2.733333\n",
              "'burbs, The (1989)             2.793478  2.962085\n",
              "...And Justice for All (1979)  3.828571  3.689024"
            ],
            "text/html": "<div>\n<style scoped>\n    .dataframe tbody tr th:only-of-type {\n        vertical-align: middle;\n    }\n\n    .dataframe tbody tr th {\n        vertical-align: top;\n    }\n\n    .dataframe thead th {\n        text-align: right;\n    }\n</style>\n<table border=\"1\" class=\"dataframe\">\n  <thead>\n    <tr style=\"text-align: right;\">\n      <th>gender</th>\n      <th>F</th>\n      <th>M</th>\n    </tr>\n    <tr>\n      <th>title</th>\n      <th></th>\n      <th></th>\n    </tr>\n  </thead>\n  <tbody>\n    <tr>\n      <th>$1,000,000 Duck (1971)</th>\n      <td>3.375000</td>\n      <td>2.761905</td>\n    </tr>\n    <tr>\n      <th>'Night Mother (1986)</th>\n      <td>3.388889</td>\n      <td>3.352941</td>\n    </tr>\n    <tr>\n      <th>'Til There Was You (1997)</th>\n      <td>2.675676</td>\n      <td>2.733333</td>\n    </tr>\n    <tr>\n      <th>'burbs, The (1989)</th>\n      <td>2.793478</td>\n      <td>2.962085</td>\n    </tr>\n    <tr>\n      <th>...And Justice for All (1979)</th>\n      <td>3.828571</td>\n      <td>3.689024</td>\n    </tr>\n  </tbody>\n</table>\n</div>"
          },
          "metadata": {},
          "execution_count": 22
        }
      ],
      "source": [
        "mean_ratings = data.pivot_table('rating', index='title', columns='gender', aggfunc='mean')\n",
        "mean_ratings.head(5)"
      ]
    },
    {
      "source": [
        "# Data Filtering\n",
        "\n",
        "Let's focus only on movies that have been watched and rates more than few times.\n",
        "\n",
        "How can we do that?\n",
        "\n",
        "First, lets get the number of times each movie has been rated.  We can do that using `groupby`."
      ],
      "cell_type": "markdown",
      "metadata": {}
    },
    {
      "cell_type": "code",
      "metadata": {
        "colab": {
          "base_uri": "https://localhost:8080/"
        },
        "id": "cClm_iuZHi5f",
        "outputId": "d7edb9ec-06c4-46a4-cfee-eb2fd560a1b7"
      },
      "source": [
        "ratings_by_title = data.groupby('title').size()\n",
        "ratings_by_title[:5]"
      ],
      "execution_count": 23,
      "outputs": [
        {
          "output_type": "execute_result",
          "data": {
            "text/plain": [
              "title\n",
              "$1,000,000 Duck (1971)            37\n",
              "'Night Mother (1986)              70\n",
              "'Til There Was You (1997)         52\n",
              "'burbs, The (1989)               303\n",
              "...And Justice for All (1979)    199\n",
              "dtype: int64"
            ]
          },
          "metadata": {},
          "execution_count": 23
        }
      ]
    },
    {
      "cell_type": "markdown",
      "metadata": {
        "id": "caF1Bi2kL2Iq"
      },
      "source": [
        "Now, lets get the index values of the ratings_by_title series where the number of ratings is greater than or equal to some reasonable number, say 250 ratings."
      ]
    },
    {
      "cell_type": "code",
      "metadata": {
        "colab": {
          "base_uri": "https://localhost:8080/"
        },
        "id": "9e6dGO4jHqHt",
        "outputId": "0e4c9a55-b020-4331-f819-48fe012db641"
      },
      "source": [
        "active_titles = ratings_by_title.index[ratings_by_title >=250]\n",
        "active_titles"
      ],
      "execution_count": 24,
      "outputs": [
        {
          "output_type": "execute_result",
          "data": {
            "text/plain": [
              "Index([''burbs, The (1989)', '10 Things I Hate About You (1999)',\n",
              "       '101 Dalmatians (1961)', '101 Dalmatians (1996)', '12 Angry Men (1957)',\n",
              "       '13th Warrior, The (1999)', '2 Days in the Valley (1996)',\n",
              "       '20,000 Leagues Under the Sea (1954)', '2001: A Space Odyssey (1968)',\n",
              "       '2010 (1984)',\n",
              "       ...\n",
              "       'X-Men (2000)', 'Year of Living Dangerously (1982)',\n",
              "       'Yellow Submarine (1968)', 'You've Got Mail (1998)',\n",
              "       'Young Frankenstein (1974)', 'Young Guns (1988)',\n",
              "       'Young Guns II (1990)', 'Young Sherlock Holmes (1985)',\n",
              "       'Zero Effect (1998)', 'eXistenZ (1999)'],\n",
              "      dtype='object', name='title', length=1216)"
            ]
          },
          "metadata": {},
          "execution_count": 24
        }
      ]
    },
    {
      "cell_type": "markdown",
      "metadata": {
        "id": "bzrzVBMZLveK"
      },
      "source": [
        "Now we select only the rows that are in the active titles list to keep only the movies that have been rated many times."
      ]
    },
    {
      "cell_type": "code",
      "metadata": {
        "colab": {
          "base_uri": "https://localhost:8080/",
          "height": 450
        },
        "id": "Dr8bKlHhH6Ty",
        "outputId": "853cf9d3-05da-40f3-cd77-056e1cefd159"
      },
      "source": [
        "mean_ratings = mean_ratings.loc[active_titles]\n",
        "mean_ratings"
      ],
      "execution_count": 25,
      "outputs": [
        {
          "output_type": "execute_result",
          "data": {
            "text/plain": [
              "gender                                    F         M\n",
              "title                                                \n",
              "'burbs, The (1989)                 2.793478  2.962085\n",
              "10 Things I Hate About You (1999)  3.646552  3.311966\n",
              "101 Dalmatians (1961)              3.791444  3.500000\n",
              "101 Dalmatians (1996)              3.240000  2.911215\n",
              "12 Angry Men (1957)                4.184397  4.328421\n",
              "...                                     ...       ...\n",
              "Young Guns (1988)                  3.371795  3.425620\n",
              "Young Guns II (1990)               2.934783  2.904025\n",
              "Young Sherlock Holmes (1985)       3.514706  3.363344\n",
              "Zero Effect (1998)                 3.864407  3.723140\n",
              "eXistenZ (1999)                    3.098592  3.289086\n",
              "\n",
              "[1216 rows x 2 columns]"
            ],
            "text/html": "<div>\n<style scoped>\n    .dataframe tbody tr th:only-of-type {\n        vertical-align: middle;\n    }\n\n    .dataframe tbody tr th {\n        vertical-align: top;\n    }\n\n    .dataframe thead th {\n        text-align: right;\n    }\n</style>\n<table border=\"1\" class=\"dataframe\">\n  <thead>\n    <tr style=\"text-align: right;\">\n      <th>gender</th>\n      <th>F</th>\n      <th>M</th>\n    </tr>\n    <tr>\n      <th>title</th>\n      <th></th>\n      <th></th>\n    </tr>\n  </thead>\n  <tbody>\n    <tr>\n      <th>'burbs, The (1989)</th>\n      <td>2.793478</td>\n      <td>2.962085</td>\n    </tr>\n    <tr>\n      <th>10 Things I Hate About You (1999)</th>\n      <td>3.646552</td>\n      <td>3.311966</td>\n    </tr>\n    <tr>\n      <th>101 Dalmatians (1961)</th>\n      <td>3.791444</td>\n      <td>3.500000</td>\n    </tr>\n    <tr>\n      <th>101 Dalmatians (1996)</th>\n      <td>3.240000</td>\n      <td>2.911215</td>\n    </tr>\n    <tr>\n      <th>12 Angry Men (1957)</th>\n      <td>4.184397</td>\n      <td>4.328421</td>\n    </tr>\n    <tr>\n      <th>...</th>\n      <td>...</td>\n      <td>...</td>\n    </tr>\n    <tr>\n      <th>Young Guns (1988)</th>\n      <td>3.371795</td>\n      <td>3.425620</td>\n    </tr>\n    <tr>\n      <th>Young Guns II (1990)</th>\n      <td>2.934783</td>\n      <td>2.904025</td>\n    </tr>\n    <tr>\n      <th>Young Sherlock Holmes (1985)</th>\n      <td>3.514706</td>\n      <td>3.363344</td>\n    </tr>\n    <tr>\n      <th>Zero Effect (1998)</th>\n      <td>3.864407</td>\n      <td>3.723140</td>\n    </tr>\n    <tr>\n      <th>eXistenZ (1999)</th>\n      <td>3.098592</td>\n      <td>3.289086</td>\n    </tr>\n  </tbody>\n</table>\n<p>1216 rows × 2 columns</p>\n</div>"
          },
          "metadata": {},
          "execution_count": 25
        }
      ]
    },
    {
      "cell_type": "markdown",
      "metadata": {
        "id": "WtoxIaKMMLqO"
      },
      "source": [
        "now, lets sort them by rating, descending order, and plot the top movie ratings"
      ]
    },
    {
      "source": [
        "# Sorting data\n",
        "\n",
        "Now that we have the ratings for active movies for both men and women, lets sort them."
      ],
      "cell_type": "markdown",
      "metadata": {}
    },
    {
      "cell_type": "code",
      "metadata": {
        "colab": {
          "base_uri": "https://localhost:8080/",
          "height": 483
        },
        "id": "RfUIoG3aIZ5G",
        "outputId": "1437b324-e8f8-4e27-e15a-d01d0daa6dc9"
      },
      "source": [
        "top_movies = mean_ratings.sort_values(by='F',ascending=False)\n",
        "top_movies[:10]\n"
      ],
      "execution_count": 26,
      "outputs": [
        {
          "output_type": "execute_result",
          "data": {
            "text/plain": [
              "gender                                                     F         M\n",
              "title                                                                 \n",
              "Close Shave, A (1995)                               4.644444  4.473795\n",
              "Wrong Trousers, The (1993)                          4.588235  4.478261\n",
              "Sunset Blvd. (a.k.a. Sunset Boulevard) (1950)       4.572650  4.464589\n",
              "Wallace & Gromit: The Best of Aardman Animation...  4.563107  4.385075\n",
              "Schindler's List (1993)                             4.562602  4.491415\n",
              "Shawshank Redemption, The (1994)                    4.539075  4.560625\n",
              "Grand Day Out, A (1992)                             4.537879  4.293255\n",
              "To Kill a Mockingbird (1962)                        4.536667  4.372611\n",
              "Creature Comforts (1990)                            4.513889  4.272277\n",
              "Usual Suspects, The (1995)                          4.513317  4.518248"
            ],
            "text/html": "<div>\n<style scoped>\n    .dataframe tbody tr th:only-of-type {\n        vertical-align: middle;\n    }\n\n    .dataframe tbody tr th {\n        vertical-align: top;\n    }\n\n    .dataframe thead th {\n        text-align: right;\n    }\n</style>\n<table border=\"1\" class=\"dataframe\">\n  <thead>\n    <tr style=\"text-align: right;\">\n      <th>gender</th>\n      <th>F</th>\n      <th>M</th>\n    </tr>\n    <tr>\n      <th>title</th>\n      <th></th>\n      <th></th>\n    </tr>\n  </thead>\n  <tbody>\n    <tr>\n      <th>Close Shave, A (1995)</th>\n      <td>4.644444</td>\n      <td>4.473795</td>\n    </tr>\n    <tr>\n      <th>Wrong Trousers, The (1993)</th>\n      <td>4.588235</td>\n      <td>4.478261</td>\n    </tr>\n    <tr>\n      <th>Sunset Blvd. (a.k.a. Sunset Boulevard) (1950)</th>\n      <td>4.572650</td>\n      <td>4.464589</td>\n    </tr>\n    <tr>\n      <th>Wallace &amp; Gromit: The Best of Aardman Animation (1996)</th>\n      <td>4.563107</td>\n      <td>4.385075</td>\n    </tr>\n    <tr>\n      <th>Schindler's List (1993)</th>\n      <td>4.562602</td>\n      <td>4.491415</td>\n    </tr>\n    <tr>\n      <th>Shawshank Redemption, The (1994)</th>\n      <td>4.539075</td>\n      <td>4.560625</td>\n    </tr>\n    <tr>\n      <th>Grand Day Out, A (1992)</th>\n      <td>4.537879</td>\n      <td>4.293255</td>\n    </tr>\n    <tr>\n      <th>To Kill a Mockingbird (1962)</th>\n      <td>4.536667</td>\n      <td>4.372611</td>\n    </tr>\n    <tr>\n      <th>Creature Comforts (1990)</th>\n      <td>4.513889</td>\n      <td>4.272277</td>\n    </tr>\n    <tr>\n      <th>Usual Suspects, The (1995)</th>\n      <td>4.513317</td>\n      <td>4.518248</td>\n    </tr>\n  </tbody>\n</table>\n</div>"
          },
          "metadata": {},
          "execution_count": 26
        }
      ]
    },
    {
      "source": [
        "We can plot the top 10 movies ad rated by females."
      ],
      "cell_type": "markdown",
      "metadata": {}
    },
    {
      "cell_type": "code",
      "execution_count": 27,
      "metadata": {},
      "outputs": [
        {
          "output_type": "execute_result",
          "data": {
            "text/plain": [
              "Text(0.5, 1.0, 'Top movies as rated by females')"
            ]
          },
          "metadata": {},
          "execution_count": 27
        },
        {
          "output_type": "display_data",
          "data": {
            "text/plain": "<Figure size 432x288 with 1 Axes>",
            "image/svg+xml": "<?xml version=\"1.0\" encoding=\"utf-8\" standalone=\"no\"?>\n<!DOCTYPE svg PUBLIC \"-//W3C//DTD SVG 1.1//EN\"\n  \"http://www.w3.org/Graphics/SVG/1.1/DTD/svg11.dtd\">\n<svg height=\"263.63625pt\" version=\"1.1\" viewBox=\"0 0 659.45 263.63625\" width=\"659.45pt\" xmlns=\"http://www.w3.org/2000/svg\" xmlns:xlink=\"http://www.w3.org/1999/xlink\">\n <metadata>\n  <rdf:RDF xmlns:cc=\"http://creativecommons.org/ns#\" xmlns:dc=\"http://purl.org/dc/elements/1.1/\" xmlns:rdf=\"http://www.w3.org/1999/02/22-rdf-syntax-ns#\">\n   <cc:Work>\n    <dc:type rdf:resource=\"http://purl.org/dc/dcmitype/StillImage\"/>\n    <dc:date>2021-06-07T15:07:05.269291</dc:date>\n    <dc:format>image/svg+xml</dc:format>\n    <dc:creator>\n     <cc:Agent>\n      <dc:title>Matplotlib v3.4.1, https://matplotlib.org/</dc:title>\n     </cc:Agent>\n    </dc:creator>\n   </cc:Work>\n  </rdf:RDF>\n </metadata>\n <defs>\n  <style type=\"text/css\">*{stroke-linecap:butt;stroke-linejoin:round;}</style>\n </defs>\n <g id=\"figure_1\">\n  <g id=\"patch_1\">\n   <path d=\"M 0 263.63625 \nL 659.45 263.63625 \nL 659.45 0 \nL 0 0 \nz\n\" style=\"fill:none;\"/>\n  </g>\n  <g id=\"axes_1\">\n   <g id=\"patch_2\">\n    <path d=\"M 317.45 239.758125 \nL 652.25 239.758125 \nL 652.25 22.318125 \nL 317.45 22.318125 \nz\n\" style=\"fill:#ffffff;\"/>\n   </g>\n   <g id=\"patch_3\">\n    <path clip-path=\"url(#pb1e98af882)\" d=\"M 317.45 27.754125 \nL 636.307143 27.754125 \nL 636.307143 33.190125 \nL 317.45 33.190125 \nz\n\" style=\"fill:#1f77b4;\"/>\n   </g>\n   <g id=\"patch_4\">\n    <path clip-path=\"url(#pb1e98af882)\" d=\"M 317.45 49.498125 \nL 632.448191 49.498125 \nL 632.448191 54.934125 \nL 317.45 54.934125 \nz\n\" style=\"fill:#1f77b4;\"/>\n   </g>\n   <g id=\"patch_5\">\n    <path clip-path=\"url(#pb1e98af882)\" d=\"M 317.45 71.242125 \nL 631.378177 71.242125 \nL 631.378177 76.678125 \nL 317.45 76.678125 \nz\n\" style=\"fill:#1f77b4;\"/>\n   </g>\n   <g id=\"patch_6\">\n    <path clip-path=\"url(#pb1e98af882)\" d=\"M 317.45 92.986125 \nL 630.723033 92.986125 \nL 630.723033 98.422125 \nL 317.45 98.422125 \nz\n\" style=\"fill:#1f77b4;\"/>\n   </g>\n   <g id=\"patch_7\">\n    <path clip-path=\"url(#pb1e98af882)\" d=\"M 317.45 114.730125 \nL 630.688351 114.730125 \nL 630.688351 120.166125 \nL 317.45 120.166125 \nz\n\" style=\"fill:#1f77b4;\"/>\n   </g>\n   <g id=\"patch_8\">\n    <path clip-path=\"url(#pb1e98af882)\" d=\"M 317.45 136.474125 \nL 629.073164 136.474125 \nL 629.073164 141.910125 \nL 317.45 141.910125 \nz\n\" style=\"fill:#1f77b4;\"/>\n   </g>\n   <g id=\"patch_9\">\n    <path clip-path=\"url(#pb1e98af882)\" d=\"M 317.45 158.218125 \nL 628.991043 158.218125 \nL 628.991043 163.654125 \nL 317.45 163.654125 \nz\n\" style=\"fill:#1f77b4;\"/>\n   </g>\n   <g id=\"patch_10\">\n    <path clip-path=\"url(#pb1e98af882)\" d=\"M 317.45 179.962125 \nL 628.907826 179.962125 \nL 628.907826 185.398125 \nL 317.45 185.398125 \nz\n\" style=\"fill:#1f77b4;\"/>\n   </g>\n   <g id=\"patch_11\">\n    <path clip-path=\"url(#pb1e98af882)\" d=\"M 317.45 201.706125 \nL 627.344053 201.706125 \nL 627.344053 207.142125 \nL 317.45 207.142125 \nz\n\" style=\"fill:#1f77b4;\"/>\n   </g>\n   <g id=\"patch_12\">\n    <path clip-path=\"url(#pb1e98af882)\" d=\"M 317.45 223.450125 \nL 627.304804 223.450125 \nL 627.304804 228.886125 \nL 317.45 228.886125 \nz\n\" style=\"fill:#1f77b4;\"/>\n   </g>\n   <g id=\"patch_13\">\n    <path clip-path=\"url(#pb1e98af882)\" d=\"M 317.45 33.190125 \nL 624.591439 33.190125 \nL 624.591439 38.626125 \nL 317.45 38.626125 \nz\n\" style=\"fill:#ff7f0e;\"/>\n   </g>\n   <g id=\"patch_14\">\n    <path clip-path=\"url(#pb1e98af882)\" d=\"M 317.45 54.934125 \nL 624.898067 54.934125 \nL 624.898067 60.370125 \nL 317.45 60.370125 \nz\n\" style=\"fill:#ff7f0e;\"/>\n   </g>\n   <g id=\"patch_15\">\n    <path clip-path=\"url(#pb1e98af882)\" d=\"M 317.45 76.678125 \nL 623.959462 76.678125 \nL 623.959462 82.114125 \nL 317.45 82.114125 \nz\n\" style=\"fill:#ff7f0e;\"/>\n   </g>\n   <g id=\"patch_16\">\n    <path clip-path=\"url(#pb1e98af882)\" d=\"M 317.45 98.422125 \nL 618.50051 98.422125 \nL 618.50051 103.858125 \nL 317.45 103.858125 \nz\n\" style=\"fill:#ff7f0e;\"/>\n   </g>\n   <g id=\"patch_17\">\n    <path clip-path=\"url(#pb1e98af882)\" d=\"M 317.45 120.166125 \nL 625.801146 120.166125 \nL 625.801146 125.602125 \nL 317.45 125.602125 \nz\n\" style=\"fill:#ff7f0e;\"/>\n   </g>\n   <g id=\"patch_18\">\n    <path clip-path=\"url(#pb1e98af882)\" d=\"M 317.45 141.910125 \nL 630.552649 141.910125 \nL 630.552649 147.346125 \nL 317.45 147.346125 \nz\n\" style=\"fill:#ff7f0e;\"/>\n   </g>\n   <g id=\"patch_19\">\n    <path clip-path=\"url(#pb1e98af882)\" d=\"M 317.45 163.654125 \nL 612.196784 163.654125 \nL 612.196784 169.090125 \nL 317.45 169.090125 \nz\n\" style=\"fill:#ff7f0e;\"/>\n   </g>\n   <g id=\"patch_20\">\n    <path clip-path=\"url(#pb1e98af882)\" d=\"M 317.45 185.398125 \nL 617.64487 185.398125 \nL 617.64487 190.834125 \nL 317.45 190.834125 \nz\n\" style=\"fill:#ff7f0e;\"/>\n   </g>\n   <g id=\"patch_21\">\n    <path clip-path=\"url(#pb1e98af882)\" d=\"M 317.45 207.142125 \nL 610.756579 207.142125 \nL 610.756579 212.578125 \nL 317.45 212.578125 \nz\n\" style=\"fill:#ff7f0e;\"/>\n   </g>\n   <g id=\"patch_22\">\n    <path clip-path=\"url(#pb1e98af882)\" d=\"M 317.45 228.886125 \nL 627.643333 228.886125 \nL 627.643333 234.322125 \nL 317.45 234.322125 \nz\n\" style=\"fill:#ff7f0e;\"/>\n   </g>\n   <g id=\"matplotlib.axis_1\">\n    <g id=\"xtick_1\">\n     <g id=\"line2d_1\">\n      <defs>\n       <path d=\"M 0 0 \nL 0 3.5 \n\" id=\"mbc65b67d98\" style=\"stroke:#000000;stroke-width:0.8;\"/>\n      </defs>\n      <g>\n       <use style=\"stroke:#000000;stroke-width:0.8;\" x=\"317.45\" xlink:href=\"#mbc65b67d98\" y=\"239.758125\"/>\n      </g>\n     </g>\n     <g id=\"text_1\">\n      <!-- 0 -->\n      <g transform=\"translate(314.26875 254.356563)scale(0.1 -0.1)\">\n       <defs>\n        <path d=\"M 2034 4250 \nQ 1547 4250 1301 3770 \nQ 1056 3291 1056 2328 \nQ 1056 1369 1301 889 \nQ 1547 409 2034 409 \nQ 2525 409 2770 889 \nQ 3016 1369 3016 2328 \nQ 3016 3291 2770 3770 \nQ 2525 4250 2034 4250 \nz\nM 2034 4750 \nQ 2819 4750 3233 4129 \nQ 3647 3509 3647 2328 \nQ 3647 1150 3233 529 \nQ 2819 -91 2034 -91 \nQ 1250 -91 836 529 \nQ 422 1150 422 2328 \nQ 422 3509 836 4129 \nQ 1250 4750 2034 4750 \nz\n\" id=\"DejaVuSans-30\" transform=\"scale(0.015625)\"/>\n       </defs>\n       <use xlink:href=\"#DejaVuSans-30\"/>\n      </g>\n     </g>\n    </g>\n    <g id=\"xtick_2\">\n     <g id=\"line2d_2\">\n      <g>\n       <use style=\"stroke:#000000;stroke-width:0.8;\" x=\"386.103452\" xlink:href=\"#mbc65b67d98\" y=\"239.758125\"/>\n      </g>\n     </g>\n     <g id=\"text_2\">\n      <!-- 1 -->\n      <g transform=\"translate(382.922202 254.356563)scale(0.1 -0.1)\">\n       <defs>\n        <path d=\"M 794 531 \nL 1825 531 \nL 1825 4091 \nL 703 3866 \nL 703 4441 \nL 1819 4666 \nL 2450 4666 \nL 2450 531 \nL 3481 531 \nL 3481 0 \nL 794 0 \nL 794 531 \nz\n\" id=\"DejaVuSans-31\" transform=\"scale(0.015625)\"/>\n       </defs>\n       <use xlink:href=\"#DejaVuSans-31\"/>\n      </g>\n     </g>\n    </g>\n    <g id=\"xtick_3\">\n     <g id=\"line2d_3\">\n      <g>\n       <use style=\"stroke:#000000;stroke-width:0.8;\" x=\"454.756904\" xlink:href=\"#mbc65b67d98\" y=\"239.758125\"/>\n      </g>\n     </g>\n     <g id=\"text_3\">\n      <!-- 2 -->\n      <g transform=\"translate(451.575654 254.356563)scale(0.1 -0.1)\">\n       <defs>\n        <path d=\"M 1228 531 \nL 3431 531 \nL 3431 0 \nL 469 0 \nL 469 531 \nQ 828 903 1448 1529 \nQ 2069 2156 2228 2338 \nQ 2531 2678 2651 2914 \nQ 2772 3150 2772 3378 \nQ 2772 3750 2511 3984 \nQ 2250 4219 1831 4219 \nQ 1534 4219 1204 4116 \nQ 875 4013 500 3803 \nL 500 4441 \nQ 881 4594 1212 4672 \nQ 1544 4750 1819 4750 \nQ 2544 4750 2975 4387 \nQ 3406 4025 3406 3419 \nQ 3406 3131 3298 2873 \nQ 3191 2616 2906 2266 \nQ 2828 2175 2409 1742 \nQ 1991 1309 1228 531 \nz\n\" id=\"DejaVuSans-32\" transform=\"scale(0.015625)\"/>\n       </defs>\n       <use xlink:href=\"#DejaVuSans-32\"/>\n      </g>\n     </g>\n    </g>\n    <g id=\"xtick_4\">\n     <g id=\"line2d_4\">\n      <g>\n       <use style=\"stroke:#000000;stroke-width:0.8;\" x=\"523.410355\" xlink:href=\"#mbc65b67d98\" y=\"239.758125\"/>\n      </g>\n     </g>\n     <g id=\"text_4\">\n      <!-- 3 -->\n      <g transform=\"translate(520.229105 254.356563)scale(0.1 -0.1)\">\n       <defs>\n        <path d=\"M 2597 2516 \nQ 3050 2419 3304 2112 \nQ 3559 1806 3559 1356 \nQ 3559 666 3084 287 \nQ 2609 -91 1734 -91 \nQ 1441 -91 1130 -33 \nQ 819 25 488 141 \nL 488 750 \nQ 750 597 1062 519 \nQ 1375 441 1716 441 \nQ 2309 441 2620 675 \nQ 2931 909 2931 1356 \nQ 2931 1769 2642 2001 \nQ 2353 2234 1838 2234 \nL 1294 2234 \nL 1294 2753 \nL 1863 2753 \nQ 2328 2753 2575 2939 \nQ 2822 3125 2822 3475 \nQ 2822 3834 2567 4026 \nQ 2313 4219 1838 4219 \nQ 1578 4219 1281 4162 \nQ 984 4106 628 3988 \nL 628 4550 \nQ 988 4650 1302 4700 \nQ 1616 4750 1894 4750 \nQ 2613 4750 3031 4423 \nQ 3450 4097 3450 3541 \nQ 3450 3153 3228 2886 \nQ 3006 2619 2597 2516 \nz\n\" id=\"DejaVuSans-33\" transform=\"scale(0.015625)\"/>\n       </defs>\n       <use xlink:href=\"#DejaVuSans-33\"/>\n      </g>\n     </g>\n    </g>\n    <g id=\"xtick_5\">\n     <g id=\"line2d_5\">\n      <g>\n       <use style=\"stroke:#000000;stroke-width:0.8;\" x=\"592.063807\" xlink:href=\"#mbc65b67d98\" y=\"239.758125\"/>\n      </g>\n     </g>\n     <g id=\"text_5\">\n      <!-- 4 -->\n      <g transform=\"translate(588.882557 254.356563)scale(0.1 -0.1)\">\n       <defs>\n        <path d=\"M 2419 4116 \nL 825 1625 \nL 2419 1625 \nL 2419 4116 \nz\nM 2253 4666 \nL 3047 4666 \nL 3047 1625 \nL 3713 1625 \nL 3713 1100 \nL 3047 1100 \nL 3047 0 \nL 2419 0 \nL 2419 1100 \nL 313 1100 \nL 313 1709 \nL 2253 4666 \nz\n\" id=\"DejaVuSans-34\" transform=\"scale(0.015625)\"/>\n       </defs>\n       <use xlink:href=\"#DejaVuSans-34\"/>\n      </g>\n     </g>\n    </g>\n   </g>\n   <g id=\"matplotlib.axis_2\">\n    <g id=\"ytick_1\">\n     <g id=\"line2d_6\">\n      <defs>\n       <path d=\"M 0 0 \nL -3.5 0 \n\" id=\"m9393b0d851\" style=\"stroke:#000000;stroke-width:0.8;\"/>\n      </defs>\n      <g>\n       <use style=\"stroke:#000000;stroke-width:0.8;\" x=\"317.45\" xlink:href=\"#m9393b0d851\" y=\"33.190125\"/>\n      </g>\n     </g>\n     <g id=\"text_6\">\n      <!-- Close Shave, A (1995) -->\n      <g transform=\"translate(199.515625 36.989344)scale(0.1 -0.1)\">\n       <defs>\n        <path d=\"M 4122 4306 \nL 4122 3641 \nQ 3803 3938 3442 4084 \nQ 3081 4231 2675 4231 \nQ 1875 4231 1450 3742 \nQ 1025 3253 1025 2328 \nQ 1025 1406 1450 917 \nQ 1875 428 2675 428 \nQ 3081 428 3442 575 \nQ 3803 722 4122 1019 \nL 4122 359 \nQ 3791 134 3420 21 \nQ 3050 -91 2638 -91 \nQ 1578 -91 968 557 \nQ 359 1206 359 2328 \nQ 359 3453 968 4101 \nQ 1578 4750 2638 4750 \nQ 3056 4750 3426 4639 \nQ 3797 4528 4122 4306 \nz\n\" id=\"DejaVuSans-43\" transform=\"scale(0.015625)\"/>\n        <path d=\"M 603 4863 \nL 1178 4863 \nL 1178 0 \nL 603 0 \nL 603 4863 \nz\n\" id=\"DejaVuSans-6c\" transform=\"scale(0.015625)\"/>\n        <path d=\"M 1959 3097 \nQ 1497 3097 1228 2736 \nQ 959 2375 959 1747 \nQ 959 1119 1226 758 \nQ 1494 397 1959 397 \nQ 2419 397 2687 759 \nQ 2956 1122 2956 1747 \nQ 2956 2369 2687 2733 \nQ 2419 3097 1959 3097 \nz\nM 1959 3584 \nQ 2709 3584 3137 3096 \nQ 3566 2609 3566 1747 \nQ 3566 888 3137 398 \nQ 2709 -91 1959 -91 \nQ 1206 -91 779 398 \nQ 353 888 353 1747 \nQ 353 2609 779 3096 \nQ 1206 3584 1959 3584 \nz\n\" id=\"DejaVuSans-6f\" transform=\"scale(0.015625)\"/>\n        <path d=\"M 2834 3397 \nL 2834 2853 \nQ 2591 2978 2328 3040 \nQ 2066 3103 1784 3103 \nQ 1356 3103 1142 2972 \nQ 928 2841 928 2578 \nQ 928 2378 1081 2264 \nQ 1234 2150 1697 2047 \nL 1894 2003 \nQ 2506 1872 2764 1633 \nQ 3022 1394 3022 966 \nQ 3022 478 2636 193 \nQ 2250 -91 1575 -91 \nQ 1294 -91 989 -36 \nQ 684 19 347 128 \nL 347 722 \nQ 666 556 975 473 \nQ 1284 391 1588 391 \nQ 1994 391 2212 530 \nQ 2431 669 2431 922 \nQ 2431 1156 2273 1281 \nQ 2116 1406 1581 1522 \nL 1381 1569 \nQ 847 1681 609 1914 \nQ 372 2147 372 2553 \nQ 372 3047 722 3315 \nQ 1072 3584 1716 3584 \nQ 2034 3584 2315 3537 \nQ 2597 3491 2834 3397 \nz\n\" id=\"DejaVuSans-73\" transform=\"scale(0.015625)\"/>\n        <path d=\"M 3597 1894 \nL 3597 1613 \nL 953 1613 \nQ 991 1019 1311 708 \nQ 1631 397 2203 397 \nQ 2534 397 2845 478 \nQ 3156 559 3463 722 \nL 3463 178 \nQ 3153 47 2828 -22 \nQ 2503 -91 2169 -91 \nQ 1331 -91 842 396 \nQ 353 884 353 1716 \nQ 353 2575 817 3079 \nQ 1281 3584 2069 3584 \nQ 2775 3584 3186 3129 \nQ 3597 2675 3597 1894 \nz\nM 3022 2063 \nQ 3016 2534 2758 2815 \nQ 2500 3097 2075 3097 \nQ 1594 3097 1305 2825 \nQ 1016 2553 972 2059 \nL 3022 2063 \nz\n\" id=\"DejaVuSans-65\" transform=\"scale(0.015625)\"/>\n        <path id=\"DejaVuSans-20\" transform=\"scale(0.015625)\"/>\n        <path d=\"M 3425 4513 \nL 3425 3897 \nQ 3066 4069 2747 4153 \nQ 2428 4238 2131 4238 \nQ 1616 4238 1336 4038 \nQ 1056 3838 1056 3469 \nQ 1056 3159 1242 3001 \nQ 1428 2844 1947 2747 \nL 2328 2669 \nQ 3034 2534 3370 2195 \nQ 3706 1856 3706 1288 \nQ 3706 609 3251 259 \nQ 2797 -91 1919 -91 \nQ 1588 -91 1214 -16 \nQ 841 59 441 206 \nL 441 856 \nQ 825 641 1194 531 \nQ 1563 422 1919 422 \nQ 2459 422 2753 634 \nQ 3047 847 3047 1241 \nQ 3047 1584 2836 1778 \nQ 2625 1972 2144 2069 \nL 1759 2144 \nQ 1053 2284 737 2584 \nQ 422 2884 422 3419 \nQ 422 4038 858 4394 \nQ 1294 4750 2059 4750 \nQ 2388 4750 2728 4690 \nQ 3069 4631 3425 4513 \nz\n\" id=\"DejaVuSans-53\" transform=\"scale(0.015625)\"/>\n        <path d=\"M 3513 2113 \nL 3513 0 \nL 2938 0 \nL 2938 2094 \nQ 2938 2591 2744 2837 \nQ 2550 3084 2163 3084 \nQ 1697 3084 1428 2787 \nQ 1159 2491 1159 1978 \nL 1159 0 \nL 581 0 \nL 581 4863 \nL 1159 4863 \nL 1159 2956 \nQ 1366 3272 1645 3428 \nQ 1925 3584 2291 3584 \nQ 2894 3584 3203 3211 \nQ 3513 2838 3513 2113 \nz\n\" id=\"DejaVuSans-68\" transform=\"scale(0.015625)\"/>\n        <path d=\"M 2194 1759 \nQ 1497 1759 1228 1600 \nQ 959 1441 959 1056 \nQ 959 750 1161 570 \nQ 1363 391 1709 391 \nQ 2188 391 2477 730 \nQ 2766 1069 2766 1631 \nL 2766 1759 \nL 2194 1759 \nz\nM 3341 1997 \nL 3341 0 \nL 2766 0 \nL 2766 531 \nQ 2569 213 2275 61 \nQ 1981 -91 1556 -91 \nQ 1019 -91 701 211 \nQ 384 513 384 1019 \nQ 384 1609 779 1909 \nQ 1175 2209 1959 2209 \nL 2766 2209 \nL 2766 2266 \nQ 2766 2663 2505 2880 \nQ 2244 3097 1772 3097 \nQ 1472 3097 1187 3025 \nQ 903 2953 641 2809 \nL 641 3341 \nQ 956 3463 1253 3523 \nQ 1550 3584 1831 3584 \nQ 2591 3584 2966 3190 \nQ 3341 2797 3341 1997 \nz\n\" id=\"DejaVuSans-61\" transform=\"scale(0.015625)\"/>\n        <path d=\"M 191 3500 \nL 800 3500 \nL 1894 563 \nL 2988 3500 \nL 3597 3500 \nL 2284 0 \nL 1503 0 \nL 191 3500 \nz\n\" id=\"DejaVuSans-76\" transform=\"scale(0.015625)\"/>\n        <path d=\"M 750 794 \nL 1409 794 \nL 1409 256 \nL 897 -744 \nL 494 -744 \nL 750 256 \nL 750 794 \nz\n\" id=\"DejaVuSans-2c\" transform=\"scale(0.015625)\"/>\n        <path d=\"M 2188 4044 \nL 1331 1722 \nL 3047 1722 \nL 2188 4044 \nz\nM 1831 4666 \nL 2547 4666 \nL 4325 0 \nL 3669 0 \nL 3244 1197 \nL 1141 1197 \nL 716 0 \nL 50 0 \nL 1831 4666 \nz\n\" id=\"DejaVuSans-41\" transform=\"scale(0.015625)\"/>\n        <path d=\"M 1984 4856 \nQ 1566 4138 1362 3434 \nQ 1159 2731 1159 2009 \nQ 1159 1288 1364 580 \nQ 1569 -128 1984 -844 \nL 1484 -844 \nQ 1016 -109 783 600 \nQ 550 1309 550 2009 \nQ 550 2706 781 3412 \nQ 1013 4119 1484 4856 \nL 1984 4856 \nz\n\" id=\"DejaVuSans-28\" transform=\"scale(0.015625)\"/>\n        <path d=\"M 703 97 \nL 703 672 \nQ 941 559 1184 500 \nQ 1428 441 1663 441 \nQ 2288 441 2617 861 \nQ 2947 1281 2994 2138 \nQ 2813 1869 2534 1725 \nQ 2256 1581 1919 1581 \nQ 1219 1581 811 2004 \nQ 403 2428 403 3163 \nQ 403 3881 828 4315 \nQ 1253 4750 1959 4750 \nQ 2769 4750 3195 4129 \nQ 3622 3509 3622 2328 \nQ 3622 1225 3098 567 \nQ 2575 -91 1691 -91 \nQ 1453 -91 1209 -44 \nQ 966 3 703 97 \nz\nM 1959 2075 \nQ 2384 2075 2632 2365 \nQ 2881 2656 2881 3163 \nQ 2881 3666 2632 3958 \nQ 2384 4250 1959 4250 \nQ 1534 4250 1286 3958 \nQ 1038 3666 1038 3163 \nQ 1038 2656 1286 2365 \nQ 1534 2075 1959 2075 \nz\n\" id=\"DejaVuSans-39\" transform=\"scale(0.015625)\"/>\n        <path d=\"M 691 4666 \nL 3169 4666 \nL 3169 4134 \nL 1269 4134 \nL 1269 2991 \nQ 1406 3038 1543 3061 \nQ 1681 3084 1819 3084 \nQ 2600 3084 3056 2656 \nQ 3513 2228 3513 1497 \nQ 3513 744 3044 326 \nQ 2575 -91 1722 -91 \nQ 1428 -91 1123 -41 \nQ 819 9 494 109 \nL 494 744 \nQ 775 591 1075 516 \nQ 1375 441 1709 441 \nQ 2250 441 2565 725 \nQ 2881 1009 2881 1497 \nQ 2881 1984 2565 2268 \nQ 2250 2553 1709 2553 \nQ 1456 2553 1204 2497 \nQ 953 2441 691 2322 \nL 691 4666 \nz\n\" id=\"DejaVuSans-35\" transform=\"scale(0.015625)\"/>\n        <path d=\"M 513 4856 \nL 1013 4856 \nQ 1481 4119 1714 3412 \nQ 1947 2706 1947 2009 \nQ 1947 1309 1714 600 \nQ 1481 -109 1013 -844 \nL 513 -844 \nQ 928 -128 1133 580 \nQ 1338 1288 1338 2009 \nQ 1338 2731 1133 3434 \nQ 928 4138 513 4856 \nz\n\" id=\"DejaVuSans-29\" transform=\"scale(0.015625)\"/>\n       </defs>\n       <use xlink:href=\"#DejaVuSans-43\"/>\n       <use x=\"69.824219\" xlink:href=\"#DejaVuSans-6c\"/>\n       <use x=\"97.607422\" xlink:href=\"#DejaVuSans-6f\"/>\n       <use x=\"158.789062\" xlink:href=\"#DejaVuSans-73\"/>\n       <use x=\"210.888672\" xlink:href=\"#DejaVuSans-65\"/>\n       <use x=\"272.412109\" xlink:href=\"#DejaVuSans-20\"/>\n       <use x=\"304.199219\" xlink:href=\"#DejaVuSans-53\"/>\n       <use x=\"367.675781\" xlink:href=\"#DejaVuSans-68\"/>\n       <use x=\"431.054688\" xlink:href=\"#DejaVuSans-61\"/>\n       <use x=\"492.333984\" xlink:href=\"#DejaVuSans-76\"/>\n       <use x=\"551.513672\" xlink:href=\"#DejaVuSans-65\"/>\n       <use x=\"613.037109\" xlink:href=\"#DejaVuSans-2c\"/>\n       <use x=\"644.824219\" xlink:href=\"#DejaVuSans-20\"/>\n       <use x=\"676.611328\" xlink:href=\"#DejaVuSans-41\"/>\n       <use x=\"745.019531\" xlink:href=\"#DejaVuSans-20\"/>\n       <use x=\"776.806641\" xlink:href=\"#DejaVuSans-28\"/>\n       <use x=\"815.820312\" xlink:href=\"#DejaVuSans-31\"/>\n       <use x=\"879.443359\" xlink:href=\"#DejaVuSans-39\"/>\n       <use x=\"943.066406\" xlink:href=\"#DejaVuSans-39\"/>\n       <use x=\"1006.689453\" xlink:href=\"#DejaVuSans-35\"/>\n       <use x=\"1070.3125\" xlink:href=\"#DejaVuSans-29\"/>\n      </g>\n     </g>\n    </g>\n    <g id=\"ytick_2\">\n     <g id=\"line2d_7\">\n      <g>\n       <use style=\"stroke:#000000;stroke-width:0.8;\" x=\"317.45\" xlink:href=\"#m9393b0d851\" y=\"54.934125\"/>\n      </g>\n     </g>\n     <g id=\"text_7\">\n      <!-- Wrong Trousers, The (1993) -->\n      <g transform=\"translate(172.1 58.733344)scale(0.1 -0.1)\">\n       <defs>\n        <path d=\"M 213 4666 \nL 850 4666 \nL 1831 722 \nL 2809 4666 \nL 3519 4666 \nL 4500 722 \nL 5478 4666 \nL 6119 4666 \nL 4947 0 \nL 4153 0 \nL 3169 4050 \nL 2175 0 \nL 1381 0 \nL 213 4666 \nz\n\" id=\"DejaVuSans-57\" transform=\"scale(0.015625)\"/>\n        <path d=\"M 2631 2963 \nQ 2534 3019 2420 3045 \nQ 2306 3072 2169 3072 \nQ 1681 3072 1420 2755 \nQ 1159 2438 1159 1844 \nL 1159 0 \nL 581 0 \nL 581 3500 \nL 1159 3500 \nL 1159 2956 \nQ 1341 3275 1631 3429 \nQ 1922 3584 2338 3584 \nQ 2397 3584 2469 3576 \nQ 2541 3569 2628 3553 \nL 2631 2963 \nz\n\" id=\"DejaVuSans-72\" transform=\"scale(0.015625)\"/>\n        <path d=\"M 3513 2113 \nL 3513 0 \nL 2938 0 \nL 2938 2094 \nQ 2938 2591 2744 2837 \nQ 2550 3084 2163 3084 \nQ 1697 3084 1428 2787 \nQ 1159 2491 1159 1978 \nL 1159 0 \nL 581 0 \nL 581 3500 \nL 1159 3500 \nL 1159 2956 \nQ 1366 3272 1645 3428 \nQ 1925 3584 2291 3584 \nQ 2894 3584 3203 3211 \nQ 3513 2838 3513 2113 \nz\n\" id=\"DejaVuSans-6e\" transform=\"scale(0.015625)\"/>\n        <path d=\"M 2906 1791 \nQ 2906 2416 2648 2759 \nQ 2391 3103 1925 3103 \nQ 1463 3103 1205 2759 \nQ 947 2416 947 1791 \nQ 947 1169 1205 825 \nQ 1463 481 1925 481 \nQ 2391 481 2648 825 \nQ 2906 1169 2906 1791 \nz\nM 3481 434 \nQ 3481 -459 3084 -895 \nQ 2688 -1331 1869 -1331 \nQ 1566 -1331 1297 -1286 \nQ 1028 -1241 775 -1147 \nL 775 -588 \nQ 1028 -725 1275 -790 \nQ 1522 -856 1778 -856 \nQ 2344 -856 2625 -561 \nQ 2906 -266 2906 331 \nL 2906 616 \nQ 2728 306 2450 153 \nQ 2172 0 1784 0 \nQ 1141 0 747 490 \nQ 353 981 353 1791 \nQ 353 2603 747 3093 \nQ 1141 3584 1784 3584 \nQ 2172 3584 2450 3431 \nQ 2728 3278 2906 2969 \nL 2906 3500 \nL 3481 3500 \nL 3481 434 \nz\n\" id=\"DejaVuSans-67\" transform=\"scale(0.015625)\"/>\n        <path d=\"M -19 4666 \nL 3928 4666 \nL 3928 4134 \nL 2272 4134 \nL 2272 0 \nL 1638 0 \nL 1638 4134 \nL -19 4134 \nL -19 4666 \nz\n\" id=\"DejaVuSans-54\" transform=\"scale(0.015625)\"/>\n        <path d=\"M 544 1381 \nL 544 3500 \nL 1119 3500 \nL 1119 1403 \nQ 1119 906 1312 657 \nQ 1506 409 1894 409 \nQ 2359 409 2629 706 \nQ 2900 1003 2900 1516 \nL 2900 3500 \nL 3475 3500 \nL 3475 0 \nL 2900 0 \nL 2900 538 \nQ 2691 219 2414 64 \nQ 2138 -91 1772 -91 \nQ 1169 -91 856 284 \nQ 544 659 544 1381 \nz\nM 1991 3584 \nL 1991 3584 \nz\n\" id=\"DejaVuSans-75\" transform=\"scale(0.015625)\"/>\n       </defs>\n       <use xlink:href=\"#DejaVuSans-57\"/>\n       <use x=\"94.376953\" xlink:href=\"#DejaVuSans-72\"/>\n       <use x=\"133.240234\" xlink:href=\"#DejaVuSans-6f\"/>\n       <use x=\"194.421875\" xlink:href=\"#DejaVuSans-6e\"/>\n       <use x=\"257.800781\" xlink:href=\"#DejaVuSans-67\"/>\n       <use x=\"321.277344\" xlink:href=\"#DejaVuSans-20\"/>\n       <use x=\"353.064453\" xlink:href=\"#DejaVuSans-54\"/>\n       <use x=\"399.398438\" xlink:href=\"#DejaVuSans-72\"/>\n       <use x=\"438.261719\" xlink:href=\"#DejaVuSans-6f\"/>\n       <use x=\"499.443359\" xlink:href=\"#DejaVuSans-75\"/>\n       <use x=\"562.822266\" xlink:href=\"#DejaVuSans-73\"/>\n       <use x=\"614.921875\" xlink:href=\"#DejaVuSans-65\"/>\n       <use x=\"676.445312\" xlink:href=\"#DejaVuSans-72\"/>\n       <use x=\"717.558594\" xlink:href=\"#DejaVuSans-73\"/>\n       <use x=\"769.658203\" xlink:href=\"#DejaVuSans-2c\"/>\n       <use x=\"801.445312\" xlink:href=\"#DejaVuSans-20\"/>\n       <use x=\"833.232422\" xlink:href=\"#DejaVuSans-54\"/>\n       <use x=\"894.316406\" xlink:href=\"#DejaVuSans-68\"/>\n       <use x=\"957.695312\" xlink:href=\"#DejaVuSans-65\"/>\n       <use x=\"1019.21875\" xlink:href=\"#DejaVuSans-20\"/>\n       <use x=\"1051.005859\" xlink:href=\"#DejaVuSans-28\"/>\n       <use x=\"1090.019531\" xlink:href=\"#DejaVuSans-31\"/>\n       <use x=\"1153.642578\" xlink:href=\"#DejaVuSans-39\"/>\n       <use x=\"1217.265625\" xlink:href=\"#DejaVuSans-39\"/>\n       <use x=\"1280.888672\" xlink:href=\"#DejaVuSans-33\"/>\n       <use x=\"1344.511719\" xlink:href=\"#DejaVuSans-29\"/>\n      </g>\n     </g>\n    </g>\n    <g id=\"ytick_3\">\n     <g id=\"line2d_8\">\n      <g>\n       <use style=\"stroke:#000000;stroke-width:0.8;\" x=\"317.45\" xlink:href=\"#m9393b0d851\" y=\"76.678125\"/>\n      </g>\n     </g>\n     <g id=\"text_8\">\n      <!-- Sunset Blvd. (a.k.a. Sunset Boulevard) (1950) -->\n      <g transform=\"translate(81.645313 80.477344)scale(0.1 -0.1)\">\n       <defs>\n        <path d=\"M 1172 4494 \nL 1172 3500 \nL 2356 3500 \nL 2356 3053 \nL 1172 3053 \nL 1172 1153 \nQ 1172 725 1289 603 \nQ 1406 481 1766 481 \nL 2356 481 \nL 2356 0 \nL 1766 0 \nQ 1100 0 847 248 \nQ 594 497 594 1153 \nL 594 3053 \nL 172 3053 \nL 172 3500 \nL 594 3500 \nL 594 4494 \nL 1172 4494 \nz\n\" id=\"DejaVuSans-74\" transform=\"scale(0.015625)\"/>\n        <path d=\"M 1259 2228 \nL 1259 519 \nL 2272 519 \nQ 2781 519 3026 730 \nQ 3272 941 3272 1375 \nQ 3272 1813 3026 2020 \nQ 2781 2228 2272 2228 \nL 1259 2228 \nz\nM 1259 4147 \nL 1259 2741 \nL 2194 2741 \nQ 2656 2741 2882 2914 \nQ 3109 3088 3109 3444 \nQ 3109 3797 2882 3972 \nQ 2656 4147 2194 4147 \nL 1259 4147 \nz\nM 628 4666 \nL 2241 4666 \nQ 2963 4666 3353 4366 \nQ 3744 4066 3744 3513 \nQ 3744 3084 3544 2831 \nQ 3344 2578 2956 2516 \nQ 3422 2416 3680 2098 \nQ 3938 1781 3938 1306 \nQ 3938 681 3513 340 \nQ 3088 0 2303 0 \nL 628 0 \nL 628 4666 \nz\n\" id=\"DejaVuSans-42\" transform=\"scale(0.015625)\"/>\n        <path d=\"M 2906 2969 \nL 2906 4863 \nL 3481 4863 \nL 3481 0 \nL 2906 0 \nL 2906 525 \nQ 2725 213 2448 61 \nQ 2172 -91 1784 -91 \nQ 1150 -91 751 415 \nQ 353 922 353 1747 \nQ 353 2572 751 3078 \nQ 1150 3584 1784 3584 \nQ 2172 3584 2448 3432 \nQ 2725 3281 2906 2969 \nz\nM 947 1747 \nQ 947 1113 1208 752 \nQ 1469 391 1925 391 \nQ 2381 391 2643 752 \nQ 2906 1113 2906 1747 \nQ 2906 2381 2643 2742 \nQ 2381 3103 1925 3103 \nQ 1469 3103 1208 2742 \nQ 947 2381 947 1747 \nz\n\" id=\"DejaVuSans-64\" transform=\"scale(0.015625)\"/>\n        <path d=\"M 684 794 \nL 1344 794 \nL 1344 0 \nL 684 0 \nL 684 794 \nz\n\" id=\"DejaVuSans-2e\" transform=\"scale(0.015625)\"/>\n        <path d=\"M 581 4863 \nL 1159 4863 \nL 1159 1991 \nL 2875 3500 \nL 3609 3500 \nL 1753 1863 \nL 3688 0 \nL 2938 0 \nL 1159 1709 \nL 1159 0 \nL 581 0 \nL 581 4863 \nz\n\" id=\"DejaVuSans-6b\" transform=\"scale(0.015625)\"/>\n       </defs>\n       <use xlink:href=\"#DejaVuSans-53\"/>\n       <use x=\"63.476562\" xlink:href=\"#DejaVuSans-75\"/>\n       <use x=\"126.855469\" xlink:href=\"#DejaVuSans-6e\"/>\n       <use x=\"190.234375\" xlink:href=\"#DejaVuSans-73\"/>\n       <use x=\"242.333984\" xlink:href=\"#DejaVuSans-65\"/>\n       <use x=\"303.857422\" xlink:href=\"#DejaVuSans-74\"/>\n       <use x=\"343.066406\" xlink:href=\"#DejaVuSans-20\"/>\n       <use x=\"374.853516\" xlink:href=\"#DejaVuSans-42\"/>\n       <use x=\"443.457031\" xlink:href=\"#DejaVuSans-6c\"/>\n       <use x=\"471.240234\" xlink:href=\"#DejaVuSans-76\"/>\n       <use x=\"530.419922\" xlink:href=\"#DejaVuSans-64\"/>\n       <use x=\"593.896484\" xlink:href=\"#DejaVuSans-2e\"/>\n       <use x=\"625.683594\" xlink:href=\"#DejaVuSans-20\"/>\n       <use x=\"657.470703\" xlink:href=\"#DejaVuSans-28\"/>\n       <use x=\"696.484375\" xlink:href=\"#DejaVuSans-61\"/>\n       <use x=\"757.763672\" xlink:href=\"#DejaVuSans-2e\"/>\n       <use x=\"789.550781\" xlink:href=\"#DejaVuSans-6b\"/>\n       <use x=\"847.460938\" xlink:href=\"#DejaVuSans-2e\"/>\n       <use x=\"879.248047\" xlink:href=\"#DejaVuSans-61\"/>\n       <use x=\"940.527344\" xlink:href=\"#DejaVuSans-2e\"/>\n       <use x=\"972.314453\" xlink:href=\"#DejaVuSans-20\"/>\n       <use x=\"1004.101562\" xlink:href=\"#DejaVuSans-53\"/>\n       <use x=\"1067.578125\" xlink:href=\"#DejaVuSans-75\"/>\n       <use x=\"1130.957031\" xlink:href=\"#DejaVuSans-6e\"/>\n       <use x=\"1194.335938\" xlink:href=\"#DejaVuSans-73\"/>\n       <use x=\"1246.435547\" xlink:href=\"#DejaVuSans-65\"/>\n       <use x=\"1307.958984\" xlink:href=\"#DejaVuSans-74\"/>\n       <use x=\"1347.167969\" xlink:href=\"#DejaVuSans-20\"/>\n       <use x=\"1378.955078\" xlink:href=\"#DejaVuSans-42\"/>\n       <use x=\"1447.558594\" xlink:href=\"#DejaVuSans-6f\"/>\n       <use x=\"1508.740234\" xlink:href=\"#DejaVuSans-75\"/>\n       <use x=\"1572.119141\" xlink:href=\"#DejaVuSans-6c\"/>\n       <use x=\"1599.902344\" xlink:href=\"#DejaVuSans-65\"/>\n       <use x=\"1661.425781\" xlink:href=\"#DejaVuSans-76\"/>\n       <use x=\"1720.605469\" xlink:href=\"#DejaVuSans-61\"/>\n       <use x=\"1781.884766\" xlink:href=\"#DejaVuSans-72\"/>\n       <use x=\"1821.248047\" xlink:href=\"#DejaVuSans-64\"/>\n       <use x=\"1884.724609\" xlink:href=\"#DejaVuSans-29\"/>\n       <use x=\"1923.738281\" xlink:href=\"#DejaVuSans-20\"/>\n       <use x=\"1955.525391\" xlink:href=\"#DejaVuSans-28\"/>\n       <use x=\"1994.539062\" xlink:href=\"#DejaVuSans-31\"/>\n       <use x=\"2058.162109\" xlink:href=\"#DejaVuSans-39\"/>\n       <use x=\"2121.785156\" xlink:href=\"#DejaVuSans-35\"/>\n       <use x=\"2185.408203\" xlink:href=\"#DejaVuSans-30\"/>\n       <use x=\"2249.03125\" xlink:href=\"#DejaVuSans-29\"/>\n      </g>\n     </g>\n    </g>\n    <g id=\"ytick_4\">\n     <g id=\"line2d_9\">\n      <g>\n       <use style=\"stroke:#000000;stroke-width:0.8;\" x=\"317.45\" xlink:href=\"#m9393b0d851\" y=\"98.422125\"/>\n      </g>\n     </g>\n     <g id=\"text_9\">\n      <!-- Wallace &amp; Gromit: The Best of Aardman Animation (1996) -->\n      <g transform=\"translate(20.878125 102.221344)scale(0.1 -0.1)\">\n       <defs>\n        <path d=\"M 3122 3366 \nL 3122 2828 \nQ 2878 2963 2633 3030 \nQ 2388 3097 2138 3097 \nQ 1578 3097 1268 2742 \nQ 959 2388 959 1747 \nQ 959 1106 1268 751 \nQ 1578 397 2138 397 \nQ 2388 397 2633 464 \nQ 2878 531 3122 666 \nL 3122 134 \nQ 2881 22 2623 -34 \nQ 2366 -91 2075 -91 \nQ 1284 -91 818 406 \nQ 353 903 353 1747 \nQ 353 2603 823 3093 \nQ 1294 3584 2113 3584 \nQ 2378 3584 2631 3529 \nQ 2884 3475 3122 3366 \nz\n\" id=\"DejaVuSans-63\" transform=\"scale(0.015625)\"/>\n        <path d=\"M 1556 2509 \nQ 1272 2256 1139 2004 \nQ 1006 1753 1006 1478 \nQ 1006 1022 1337 719 \nQ 1669 416 2169 416 \nQ 2466 416 2725 514 \nQ 2984 613 3213 813 \nL 1556 2509 \nz\nM 1997 2859 \nL 3584 1234 \nQ 3769 1513 3872 1830 \nQ 3975 2147 3994 2503 \nL 4575 2503 \nQ 4538 2091 4375 1687 \nQ 4213 1284 3922 891 \nL 4794 0 \nL 4006 0 \nL 3559 459 \nQ 3234 181 2878 45 \nQ 2522 -91 2113 -91 \nQ 1359 -91 881 339 \nQ 403 769 403 1441 \nQ 403 1841 612 2192 \nQ 822 2544 1241 2853 \nQ 1091 3050 1012 3245 \nQ 934 3441 934 3628 \nQ 934 4134 1281 4442 \nQ 1628 4750 2203 4750 \nQ 2463 4750 2720 4694 \nQ 2978 4638 3244 4525 \nL 3244 3956 \nQ 2972 4103 2725 4179 \nQ 2478 4256 2266 4256 \nQ 1938 4256 1733 4082 \nQ 1528 3909 1528 3634 \nQ 1528 3475 1620 3314 \nQ 1713 3153 1997 2859 \nz\n\" id=\"DejaVuSans-26\" transform=\"scale(0.015625)\"/>\n        <path d=\"M 3809 666 \nL 3809 1919 \nL 2778 1919 \nL 2778 2438 \nL 4434 2438 \nL 4434 434 \nQ 4069 175 3628 42 \nQ 3188 -91 2688 -91 \nQ 1594 -91 976 548 \nQ 359 1188 359 2328 \nQ 359 3472 976 4111 \nQ 1594 4750 2688 4750 \nQ 3144 4750 3555 4637 \nQ 3966 4525 4313 4306 \nL 4313 3634 \nQ 3963 3931 3569 4081 \nQ 3175 4231 2741 4231 \nQ 1884 4231 1454 3753 \nQ 1025 3275 1025 2328 \nQ 1025 1384 1454 906 \nQ 1884 428 2741 428 \nQ 3075 428 3337 486 \nQ 3600 544 3809 666 \nz\n\" id=\"DejaVuSans-47\" transform=\"scale(0.015625)\"/>\n        <path d=\"M 3328 2828 \nQ 3544 3216 3844 3400 \nQ 4144 3584 4550 3584 \nQ 5097 3584 5394 3201 \nQ 5691 2819 5691 2113 \nL 5691 0 \nL 5113 0 \nL 5113 2094 \nQ 5113 2597 4934 2840 \nQ 4756 3084 4391 3084 \nQ 3944 3084 3684 2787 \nQ 3425 2491 3425 1978 \nL 3425 0 \nL 2847 0 \nL 2847 2094 \nQ 2847 2600 2669 2842 \nQ 2491 3084 2119 3084 \nQ 1678 3084 1418 2786 \nQ 1159 2488 1159 1978 \nL 1159 0 \nL 581 0 \nL 581 3500 \nL 1159 3500 \nL 1159 2956 \nQ 1356 3278 1631 3431 \nQ 1906 3584 2284 3584 \nQ 2666 3584 2933 3390 \nQ 3200 3197 3328 2828 \nz\n\" id=\"DejaVuSans-6d\" transform=\"scale(0.015625)\"/>\n        <path d=\"M 603 3500 \nL 1178 3500 \nL 1178 0 \nL 603 0 \nL 603 3500 \nz\nM 603 4863 \nL 1178 4863 \nL 1178 4134 \nL 603 4134 \nL 603 4863 \nz\n\" id=\"DejaVuSans-69\" transform=\"scale(0.015625)\"/>\n        <path d=\"M 750 794 \nL 1409 794 \nL 1409 0 \nL 750 0 \nL 750 794 \nz\nM 750 3309 \nL 1409 3309 \nL 1409 2516 \nL 750 2516 \nL 750 3309 \nz\n\" id=\"DejaVuSans-3a\" transform=\"scale(0.015625)\"/>\n        <path d=\"M 2375 4863 \nL 2375 4384 \nL 1825 4384 \nQ 1516 4384 1395 4259 \nQ 1275 4134 1275 3809 \nL 1275 3500 \nL 2222 3500 \nL 2222 3053 \nL 1275 3053 \nL 1275 0 \nL 697 0 \nL 697 3053 \nL 147 3053 \nL 147 3500 \nL 697 3500 \nL 697 3744 \nQ 697 4328 969 4595 \nQ 1241 4863 1831 4863 \nL 2375 4863 \nz\n\" id=\"DejaVuSans-66\" transform=\"scale(0.015625)\"/>\n        <path d=\"M 2113 2584 \nQ 1688 2584 1439 2293 \nQ 1191 2003 1191 1497 \nQ 1191 994 1439 701 \nQ 1688 409 2113 409 \nQ 2538 409 2786 701 \nQ 3034 994 3034 1497 \nQ 3034 2003 2786 2293 \nQ 2538 2584 2113 2584 \nz\nM 3366 4563 \nL 3366 3988 \nQ 3128 4100 2886 4159 \nQ 2644 4219 2406 4219 \nQ 1781 4219 1451 3797 \nQ 1122 3375 1075 2522 \nQ 1259 2794 1537 2939 \nQ 1816 3084 2150 3084 \nQ 2853 3084 3261 2657 \nQ 3669 2231 3669 1497 \nQ 3669 778 3244 343 \nQ 2819 -91 2113 -91 \nQ 1303 -91 875 529 \nQ 447 1150 447 2328 \nQ 447 3434 972 4092 \nQ 1497 4750 2381 4750 \nQ 2619 4750 2861 4703 \nQ 3103 4656 3366 4563 \nz\n\" id=\"DejaVuSans-36\" transform=\"scale(0.015625)\"/>\n       </defs>\n       <use xlink:href=\"#DejaVuSans-57\"/>\n       <use x=\"92.501953\" xlink:href=\"#DejaVuSans-61\"/>\n       <use x=\"153.78125\" xlink:href=\"#DejaVuSans-6c\"/>\n       <use x=\"181.564453\" xlink:href=\"#DejaVuSans-6c\"/>\n       <use x=\"209.347656\" xlink:href=\"#DejaVuSans-61\"/>\n       <use x=\"270.626953\" xlink:href=\"#DejaVuSans-63\"/>\n       <use x=\"325.607422\" xlink:href=\"#DejaVuSans-65\"/>\n       <use x=\"387.130859\" xlink:href=\"#DejaVuSans-20\"/>\n       <use x=\"418.917969\" xlink:href=\"#DejaVuSans-26\"/>\n       <use x=\"496.896484\" xlink:href=\"#DejaVuSans-20\"/>\n       <use x=\"528.683594\" xlink:href=\"#DejaVuSans-47\"/>\n       <use x=\"606.173828\" xlink:href=\"#DejaVuSans-72\"/>\n       <use x=\"645.037109\" xlink:href=\"#DejaVuSans-6f\"/>\n       <use x=\"706.21875\" xlink:href=\"#DejaVuSans-6d\"/>\n       <use x=\"803.630859\" xlink:href=\"#DejaVuSans-69\"/>\n       <use x=\"831.414062\" xlink:href=\"#DejaVuSans-74\"/>\n       <use x=\"870.623047\" xlink:href=\"#DejaVuSans-3a\"/>\n       <use x=\"904.314453\" xlink:href=\"#DejaVuSans-20\"/>\n       <use x=\"936.101562\" xlink:href=\"#DejaVuSans-54\"/>\n       <use x=\"997.185547\" xlink:href=\"#DejaVuSans-68\"/>\n       <use x=\"1060.564453\" xlink:href=\"#DejaVuSans-65\"/>\n       <use x=\"1122.087891\" xlink:href=\"#DejaVuSans-20\"/>\n       <use x=\"1153.875\" xlink:href=\"#DejaVuSans-42\"/>\n       <use x=\"1222.478516\" xlink:href=\"#DejaVuSans-65\"/>\n       <use x=\"1284.001953\" xlink:href=\"#DejaVuSans-73\"/>\n       <use x=\"1336.101562\" xlink:href=\"#DejaVuSans-74\"/>\n       <use x=\"1375.310547\" xlink:href=\"#DejaVuSans-20\"/>\n       <use x=\"1407.097656\" xlink:href=\"#DejaVuSans-6f\"/>\n       <use x=\"1468.279297\" xlink:href=\"#DejaVuSans-66\"/>\n       <use x=\"1503.484375\" xlink:href=\"#DejaVuSans-20\"/>\n       <use x=\"1535.271484\" xlink:href=\"#DejaVuSans-41\"/>\n       <use x=\"1603.679688\" xlink:href=\"#DejaVuSans-61\"/>\n       <use x=\"1664.958984\" xlink:href=\"#DejaVuSans-72\"/>\n       <use x=\"1704.322266\" xlink:href=\"#DejaVuSans-64\"/>\n       <use x=\"1767.798828\" xlink:href=\"#DejaVuSans-6d\"/>\n       <use x=\"1865.210938\" xlink:href=\"#DejaVuSans-61\"/>\n       <use x=\"1926.490234\" xlink:href=\"#DejaVuSans-6e\"/>\n       <use x=\"1989.869141\" xlink:href=\"#DejaVuSans-20\"/>\n       <use x=\"2021.65625\" xlink:href=\"#DejaVuSans-41\"/>\n       <use x=\"2090.064453\" xlink:href=\"#DejaVuSans-6e\"/>\n       <use x=\"2153.443359\" xlink:href=\"#DejaVuSans-69\"/>\n       <use x=\"2181.226562\" xlink:href=\"#DejaVuSans-6d\"/>\n       <use x=\"2278.638672\" xlink:href=\"#DejaVuSans-61\"/>\n       <use x=\"2339.917969\" xlink:href=\"#DejaVuSans-74\"/>\n       <use x=\"2379.126953\" xlink:href=\"#DejaVuSans-69\"/>\n       <use x=\"2406.910156\" xlink:href=\"#DejaVuSans-6f\"/>\n       <use x=\"2468.091797\" xlink:href=\"#DejaVuSans-6e\"/>\n       <use x=\"2531.470703\" xlink:href=\"#DejaVuSans-20\"/>\n       <use x=\"2563.257812\" xlink:href=\"#DejaVuSans-28\"/>\n       <use x=\"2602.271484\" xlink:href=\"#DejaVuSans-31\"/>\n       <use x=\"2665.894531\" xlink:href=\"#DejaVuSans-39\"/>\n       <use x=\"2729.517578\" xlink:href=\"#DejaVuSans-39\"/>\n       <use x=\"2793.140625\" xlink:href=\"#DejaVuSans-36\"/>\n       <use x=\"2856.763672\" xlink:href=\"#DejaVuSans-29\"/>\n      </g>\n     </g>\n    </g>\n    <g id=\"ytick_5\">\n     <g id=\"line2d_10\">\n      <g>\n       <use style=\"stroke:#000000;stroke-width:0.8;\" x=\"317.45\" xlink:href=\"#m9393b0d851\" y=\"120.166125\"/>\n      </g>\n     </g>\n     <g id=\"text_10\">\n      <!-- Schindler's List (1993) -->\n      <g transform=\"translate(198.7125 123.965344)scale(0.1 -0.1)\">\n       <defs>\n        <path d=\"M 1147 4666 \nL 1147 2931 \nL 616 2931 \nL 616 4666 \nL 1147 4666 \nz\n\" id=\"DejaVuSans-27\" transform=\"scale(0.015625)\"/>\n        <path d=\"M 628 4666 \nL 1259 4666 \nL 1259 531 \nL 3531 531 \nL 3531 0 \nL 628 0 \nL 628 4666 \nz\n\" id=\"DejaVuSans-4c\" transform=\"scale(0.015625)\"/>\n       </defs>\n       <use xlink:href=\"#DejaVuSans-53\"/>\n       <use x=\"63.476562\" xlink:href=\"#DejaVuSans-63\"/>\n       <use x=\"118.457031\" xlink:href=\"#DejaVuSans-68\"/>\n       <use x=\"181.835938\" xlink:href=\"#DejaVuSans-69\"/>\n       <use x=\"209.619141\" xlink:href=\"#DejaVuSans-6e\"/>\n       <use x=\"272.998047\" xlink:href=\"#DejaVuSans-64\"/>\n       <use x=\"336.474609\" xlink:href=\"#DejaVuSans-6c\"/>\n       <use x=\"364.257812\" xlink:href=\"#DejaVuSans-65\"/>\n       <use x=\"425.78125\" xlink:href=\"#DejaVuSans-72\"/>\n       <use x=\"466.894531\" xlink:href=\"#DejaVuSans-27\"/>\n       <use x=\"494.384766\" xlink:href=\"#DejaVuSans-73\"/>\n       <use x=\"546.484375\" xlink:href=\"#DejaVuSans-20\"/>\n       <use x=\"578.271484\" xlink:href=\"#DejaVuSans-4c\"/>\n       <use x=\"633.984375\" xlink:href=\"#DejaVuSans-69\"/>\n       <use x=\"661.767578\" xlink:href=\"#DejaVuSans-73\"/>\n       <use x=\"713.867188\" xlink:href=\"#DejaVuSans-74\"/>\n       <use x=\"753.076172\" xlink:href=\"#DejaVuSans-20\"/>\n       <use x=\"784.863281\" xlink:href=\"#DejaVuSans-28\"/>\n       <use x=\"823.876953\" xlink:href=\"#DejaVuSans-31\"/>\n       <use x=\"887.5\" xlink:href=\"#DejaVuSans-39\"/>\n       <use x=\"951.123047\" xlink:href=\"#DejaVuSans-39\"/>\n       <use x=\"1014.746094\" xlink:href=\"#DejaVuSans-33\"/>\n       <use x=\"1078.369141\" xlink:href=\"#DejaVuSans-29\"/>\n      </g>\n     </g>\n    </g>\n    <g id=\"ytick_6\">\n     <g id=\"line2d_11\">\n      <g>\n       <use style=\"stroke:#000000;stroke-width:0.8;\" x=\"317.45\" xlink:href=\"#m9393b0d851\" y=\"141.910125\"/>\n      </g>\n     </g>\n     <g id=\"text_11\">\n      <!-- Shawshank Redemption, The (1994) -->\n      <g transform=\"translate(128.69375 145.709344)scale(0.1 -0.1)\">\n       <defs>\n        <path d=\"M 269 3500 \nL 844 3500 \nL 1563 769 \nL 2278 3500 \nL 2956 3500 \nL 3675 769 \nL 4391 3500 \nL 4966 3500 \nL 4050 0 \nL 3372 0 \nL 2619 2869 \nL 1863 0 \nL 1184 0 \nL 269 3500 \nz\n\" id=\"DejaVuSans-77\" transform=\"scale(0.015625)\"/>\n        <path d=\"M 2841 2188 \nQ 3044 2119 3236 1894 \nQ 3428 1669 3622 1275 \nL 4263 0 \nL 3584 0 \nL 2988 1197 \nQ 2756 1666 2539 1819 \nQ 2322 1972 1947 1972 \nL 1259 1972 \nL 1259 0 \nL 628 0 \nL 628 4666 \nL 2053 4666 \nQ 2853 4666 3247 4331 \nQ 3641 3997 3641 3322 \nQ 3641 2881 3436 2590 \nQ 3231 2300 2841 2188 \nz\nM 1259 4147 \nL 1259 2491 \nL 2053 2491 \nQ 2509 2491 2742 2702 \nQ 2975 2913 2975 3322 \nQ 2975 3731 2742 3939 \nQ 2509 4147 2053 4147 \nL 1259 4147 \nz\n\" id=\"DejaVuSans-52\" transform=\"scale(0.015625)\"/>\n        <path d=\"M 1159 525 \nL 1159 -1331 \nL 581 -1331 \nL 581 3500 \nL 1159 3500 \nL 1159 2969 \nQ 1341 3281 1617 3432 \nQ 1894 3584 2278 3584 \nQ 2916 3584 3314 3078 \nQ 3713 2572 3713 1747 \nQ 3713 922 3314 415 \nQ 2916 -91 2278 -91 \nQ 1894 -91 1617 61 \nQ 1341 213 1159 525 \nz\nM 3116 1747 \nQ 3116 2381 2855 2742 \nQ 2594 3103 2138 3103 \nQ 1681 3103 1420 2742 \nQ 1159 2381 1159 1747 \nQ 1159 1113 1420 752 \nQ 1681 391 2138 391 \nQ 2594 391 2855 752 \nQ 3116 1113 3116 1747 \nz\n\" id=\"DejaVuSans-70\" transform=\"scale(0.015625)\"/>\n       </defs>\n       <use xlink:href=\"#DejaVuSans-53\"/>\n       <use x=\"63.476562\" xlink:href=\"#DejaVuSans-68\"/>\n       <use x=\"126.855469\" xlink:href=\"#DejaVuSans-61\"/>\n       <use x=\"188.134766\" xlink:href=\"#DejaVuSans-77\"/>\n       <use x=\"269.921875\" xlink:href=\"#DejaVuSans-73\"/>\n       <use x=\"322.021484\" xlink:href=\"#DejaVuSans-68\"/>\n       <use x=\"385.400391\" xlink:href=\"#DejaVuSans-61\"/>\n       <use x=\"446.679688\" xlink:href=\"#DejaVuSans-6e\"/>\n       <use x=\"510.058594\" xlink:href=\"#DejaVuSans-6b\"/>\n       <use x=\"567.96875\" xlink:href=\"#DejaVuSans-20\"/>\n       <use x=\"599.755859\" xlink:href=\"#DejaVuSans-52\"/>\n       <use x=\"664.738281\" xlink:href=\"#DejaVuSans-65\"/>\n       <use x=\"726.261719\" xlink:href=\"#DejaVuSans-64\"/>\n       <use x=\"789.738281\" xlink:href=\"#DejaVuSans-65\"/>\n       <use x=\"851.261719\" xlink:href=\"#DejaVuSans-6d\"/>\n       <use x=\"948.673828\" xlink:href=\"#DejaVuSans-70\"/>\n       <use x=\"1012.150391\" xlink:href=\"#DejaVuSans-74\"/>\n       <use x=\"1051.359375\" xlink:href=\"#DejaVuSans-69\"/>\n       <use x=\"1079.142578\" xlink:href=\"#DejaVuSans-6f\"/>\n       <use x=\"1140.324219\" xlink:href=\"#DejaVuSans-6e\"/>\n       <use x=\"1203.703125\" xlink:href=\"#DejaVuSans-2c\"/>\n       <use x=\"1235.490234\" xlink:href=\"#DejaVuSans-20\"/>\n       <use x=\"1267.277344\" xlink:href=\"#DejaVuSans-54\"/>\n       <use x=\"1328.361328\" xlink:href=\"#DejaVuSans-68\"/>\n       <use x=\"1391.740234\" xlink:href=\"#DejaVuSans-65\"/>\n       <use x=\"1453.263672\" xlink:href=\"#DejaVuSans-20\"/>\n       <use x=\"1485.050781\" xlink:href=\"#DejaVuSans-28\"/>\n       <use x=\"1524.064453\" xlink:href=\"#DejaVuSans-31\"/>\n       <use x=\"1587.6875\" xlink:href=\"#DejaVuSans-39\"/>\n       <use x=\"1651.310547\" xlink:href=\"#DejaVuSans-39\"/>\n       <use x=\"1714.933594\" xlink:href=\"#DejaVuSans-34\"/>\n       <use x=\"1778.556641\" xlink:href=\"#DejaVuSans-29\"/>\n      </g>\n     </g>\n    </g>\n    <g id=\"ytick_7\">\n     <g id=\"line2d_12\">\n      <g>\n       <use style=\"stroke:#000000;stroke-width:0.8;\" x=\"317.45\" xlink:href=\"#m9393b0d851\" y=\"163.654125\"/>\n      </g>\n     </g>\n     <g id=\"text_12\">\n      <!-- Grand Day Out, A (1992) -->\n      <g transform=\"translate(185.915625 167.453344)scale(0.1 -0.1)\">\n       <defs>\n        <path d=\"M 1259 4147 \nL 1259 519 \nL 2022 519 \nQ 2988 519 3436 956 \nQ 3884 1394 3884 2338 \nQ 3884 3275 3436 3711 \nQ 2988 4147 2022 4147 \nL 1259 4147 \nz\nM 628 4666 \nL 1925 4666 \nQ 3281 4666 3915 4102 \nQ 4550 3538 4550 2338 \nQ 4550 1131 3912 565 \nQ 3275 0 1925 0 \nL 628 0 \nL 628 4666 \nz\n\" id=\"DejaVuSans-44\" transform=\"scale(0.015625)\"/>\n        <path d=\"M 2059 -325 \nQ 1816 -950 1584 -1140 \nQ 1353 -1331 966 -1331 \nL 506 -1331 \nL 506 -850 \nL 844 -850 \nQ 1081 -850 1212 -737 \nQ 1344 -625 1503 -206 \nL 1606 56 \nL 191 3500 \nL 800 3500 \nL 1894 763 \nL 2988 3500 \nL 3597 3500 \nL 2059 -325 \nz\n\" id=\"DejaVuSans-79\" transform=\"scale(0.015625)\"/>\n        <path d=\"M 2522 4238 \nQ 1834 4238 1429 3725 \nQ 1025 3213 1025 2328 \nQ 1025 1447 1429 934 \nQ 1834 422 2522 422 \nQ 3209 422 3611 934 \nQ 4013 1447 4013 2328 \nQ 4013 3213 3611 3725 \nQ 3209 4238 2522 4238 \nz\nM 2522 4750 \nQ 3503 4750 4090 4092 \nQ 4678 3434 4678 2328 \nQ 4678 1225 4090 567 \nQ 3503 -91 2522 -91 \nQ 1538 -91 948 565 \nQ 359 1222 359 2328 \nQ 359 3434 948 4092 \nQ 1538 4750 2522 4750 \nz\n\" id=\"DejaVuSans-4f\" transform=\"scale(0.015625)\"/>\n       </defs>\n       <use xlink:href=\"#DejaVuSans-47\"/>\n       <use x=\"77.490234\" xlink:href=\"#DejaVuSans-72\"/>\n       <use x=\"118.603516\" xlink:href=\"#DejaVuSans-61\"/>\n       <use x=\"179.882812\" xlink:href=\"#DejaVuSans-6e\"/>\n       <use x=\"243.261719\" xlink:href=\"#DejaVuSans-64\"/>\n       <use x=\"306.738281\" xlink:href=\"#DejaVuSans-20\"/>\n       <use x=\"338.525391\" xlink:href=\"#DejaVuSans-44\"/>\n       <use x=\"415.527344\" xlink:href=\"#DejaVuSans-61\"/>\n       <use x=\"476.806641\" xlink:href=\"#DejaVuSans-79\"/>\n       <use x=\"535.986328\" xlink:href=\"#DejaVuSans-20\"/>\n       <use x=\"567.773438\" xlink:href=\"#DejaVuSans-4f\"/>\n       <use x=\"646.484375\" xlink:href=\"#DejaVuSans-75\"/>\n       <use x=\"709.863281\" xlink:href=\"#DejaVuSans-74\"/>\n       <use x=\"749.072266\" xlink:href=\"#DejaVuSans-2c\"/>\n       <use x=\"780.859375\" xlink:href=\"#DejaVuSans-20\"/>\n       <use x=\"812.646484\" xlink:href=\"#DejaVuSans-41\"/>\n       <use x=\"881.054688\" xlink:href=\"#DejaVuSans-20\"/>\n       <use x=\"912.841797\" xlink:href=\"#DejaVuSans-28\"/>\n       <use x=\"951.855469\" xlink:href=\"#DejaVuSans-31\"/>\n       <use x=\"1015.478516\" xlink:href=\"#DejaVuSans-39\"/>\n       <use x=\"1079.101562\" xlink:href=\"#DejaVuSans-39\"/>\n       <use x=\"1142.724609\" xlink:href=\"#DejaVuSans-32\"/>\n       <use x=\"1206.347656\" xlink:href=\"#DejaVuSans-29\"/>\n      </g>\n     </g>\n    </g>\n    <g id=\"ytick_8\">\n     <g id=\"line2d_13\">\n      <g>\n       <use style=\"stroke:#000000;stroke-width:0.8;\" x=\"317.45\" xlink:href=\"#m9393b0d851\" y=\"185.398125\"/>\n      </g>\n     </g>\n     <g id=\"text_13\">\n      <!-- To Kill a Mockingbird (1962) -->\n      <g transform=\"translate(172.026563 189.197344)scale(0.1 -0.1)\">\n       <defs>\n        <path d=\"M 628 4666 \nL 1259 4666 \nL 1259 2694 \nL 3353 4666 \nL 4166 4666 \nL 1850 2491 \nL 4331 0 \nL 3500 0 \nL 1259 2247 \nL 1259 0 \nL 628 0 \nL 628 4666 \nz\n\" id=\"DejaVuSans-4b\" transform=\"scale(0.015625)\"/>\n        <path d=\"M 628 4666 \nL 1569 4666 \nL 2759 1491 \nL 3956 4666 \nL 4897 4666 \nL 4897 0 \nL 4281 0 \nL 4281 4097 \nL 3078 897 \nL 2444 897 \nL 1241 4097 \nL 1241 0 \nL 628 0 \nL 628 4666 \nz\n\" id=\"DejaVuSans-4d\" transform=\"scale(0.015625)\"/>\n        <path d=\"M 3116 1747 \nQ 3116 2381 2855 2742 \nQ 2594 3103 2138 3103 \nQ 1681 3103 1420 2742 \nQ 1159 2381 1159 1747 \nQ 1159 1113 1420 752 \nQ 1681 391 2138 391 \nQ 2594 391 2855 752 \nQ 3116 1113 3116 1747 \nz\nM 1159 2969 \nQ 1341 3281 1617 3432 \nQ 1894 3584 2278 3584 \nQ 2916 3584 3314 3078 \nQ 3713 2572 3713 1747 \nQ 3713 922 3314 415 \nQ 2916 -91 2278 -91 \nQ 1894 -91 1617 61 \nQ 1341 213 1159 525 \nL 1159 0 \nL 581 0 \nL 581 4863 \nL 1159 4863 \nL 1159 2969 \nz\n\" id=\"DejaVuSans-62\" transform=\"scale(0.015625)\"/>\n       </defs>\n       <use xlink:href=\"#DejaVuSans-54\"/>\n       <use x=\"44.083984\" xlink:href=\"#DejaVuSans-6f\"/>\n       <use x=\"105.265625\" xlink:href=\"#DejaVuSans-20\"/>\n       <use x=\"137.052734\" xlink:href=\"#DejaVuSans-4b\"/>\n       <use x=\"202.628906\" xlink:href=\"#DejaVuSans-69\"/>\n       <use x=\"230.412109\" xlink:href=\"#DejaVuSans-6c\"/>\n       <use x=\"258.195312\" xlink:href=\"#DejaVuSans-6c\"/>\n       <use x=\"285.978516\" xlink:href=\"#DejaVuSans-20\"/>\n       <use x=\"317.765625\" xlink:href=\"#DejaVuSans-61\"/>\n       <use x=\"379.044922\" xlink:href=\"#DejaVuSans-20\"/>\n       <use x=\"410.832031\" xlink:href=\"#DejaVuSans-4d\"/>\n       <use x=\"497.111328\" xlink:href=\"#DejaVuSans-6f\"/>\n       <use x=\"558.292969\" xlink:href=\"#DejaVuSans-63\"/>\n       <use x=\"613.273438\" xlink:href=\"#DejaVuSans-6b\"/>\n       <use x=\"671.183594\" xlink:href=\"#DejaVuSans-69\"/>\n       <use x=\"698.966797\" xlink:href=\"#DejaVuSans-6e\"/>\n       <use x=\"762.345703\" xlink:href=\"#DejaVuSans-67\"/>\n       <use x=\"825.822266\" xlink:href=\"#DejaVuSans-62\"/>\n       <use x=\"889.298828\" xlink:href=\"#DejaVuSans-69\"/>\n       <use x=\"917.082031\" xlink:href=\"#DejaVuSans-72\"/>\n       <use x=\"956.445312\" xlink:href=\"#DejaVuSans-64\"/>\n       <use x=\"1019.921875\" xlink:href=\"#DejaVuSans-20\"/>\n       <use x=\"1051.708984\" xlink:href=\"#DejaVuSans-28\"/>\n       <use x=\"1090.722656\" xlink:href=\"#DejaVuSans-31\"/>\n       <use x=\"1154.345703\" xlink:href=\"#DejaVuSans-39\"/>\n       <use x=\"1217.96875\" xlink:href=\"#DejaVuSans-36\"/>\n       <use x=\"1281.591797\" xlink:href=\"#DejaVuSans-32\"/>\n       <use x=\"1345.214844\" xlink:href=\"#DejaVuSans-29\"/>\n      </g>\n     </g>\n    </g>\n    <g id=\"ytick_9\">\n     <g id=\"line2d_14\">\n      <g>\n       <use style=\"stroke:#000000;stroke-width:0.8;\" x=\"317.45\" xlink:href=\"#m9393b0d851\" y=\"207.142125\"/>\n      </g>\n     </g>\n     <g id=\"text_14\">\n      <!-- Creature Comforts (1990) -->\n      <g transform=\"translate(181.671875 210.941344)scale(0.1 -0.1)\">\n       <use xlink:href=\"#DejaVuSans-43\"/>\n       <use x=\"69.824219\" xlink:href=\"#DejaVuSans-72\"/>\n       <use x=\"108.6875\" xlink:href=\"#DejaVuSans-65\"/>\n       <use x=\"170.210938\" xlink:href=\"#DejaVuSans-61\"/>\n       <use x=\"231.490234\" xlink:href=\"#DejaVuSans-74\"/>\n       <use x=\"270.699219\" xlink:href=\"#DejaVuSans-75\"/>\n       <use x=\"334.078125\" xlink:href=\"#DejaVuSans-72\"/>\n       <use x=\"372.941406\" xlink:href=\"#DejaVuSans-65\"/>\n       <use x=\"434.464844\" xlink:href=\"#DejaVuSans-20\"/>\n       <use x=\"466.251953\" xlink:href=\"#DejaVuSans-43\"/>\n       <use x=\"536.076172\" xlink:href=\"#DejaVuSans-6f\"/>\n       <use x=\"597.257812\" xlink:href=\"#DejaVuSans-6d\"/>\n       <use x=\"694.669922\" xlink:href=\"#DejaVuSans-66\"/>\n       <use x=\"729.875\" xlink:href=\"#DejaVuSans-6f\"/>\n       <use x=\"791.056641\" xlink:href=\"#DejaVuSans-72\"/>\n       <use x=\"832.169922\" xlink:href=\"#DejaVuSans-74\"/>\n       <use x=\"871.378906\" xlink:href=\"#DejaVuSans-73\"/>\n       <use x=\"923.478516\" xlink:href=\"#DejaVuSans-20\"/>\n       <use x=\"955.265625\" xlink:href=\"#DejaVuSans-28\"/>\n       <use x=\"994.279297\" xlink:href=\"#DejaVuSans-31\"/>\n       <use x=\"1057.902344\" xlink:href=\"#DejaVuSans-39\"/>\n       <use x=\"1121.525391\" xlink:href=\"#DejaVuSans-39\"/>\n       <use x=\"1185.148438\" xlink:href=\"#DejaVuSans-30\"/>\n       <use x=\"1248.771484\" xlink:href=\"#DejaVuSans-29\"/>\n      </g>\n     </g>\n    </g>\n    <g id=\"ytick_10\">\n     <g id=\"line2d_15\">\n      <g>\n       <use style=\"stroke:#000000;stroke-width:0.8;\" x=\"317.45\" xlink:href=\"#m9393b0d851\" y=\"228.886125\"/>\n      </g>\n     </g>\n     <g id=\"text_15\">\n      <!-- Usual Suspects, The (1995) -->\n      <g transform=\"translate(173.089063 232.685344)scale(0.1 -0.1)\">\n       <defs>\n        <path d=\"M 556 4666 \nL 1191 4666 \nL 1191 1831 \nQ 1191 1081 1462 751 \nQ 1734 422 2344 422 \nQ 2950 422 3222 751 \nQ 3494 1081 3494 1831 \nL 3494 4666 \nL 4128 4666 \nL 4128 1753 \nQ 4128 841 3676 375 \nQ 3225 -91 2344 -91 \nQ 1459 -91 1007 375 \nQ 556 841 556 1753 \nL 556 4666 \nz\n\" id=\"DejaVuSans-55\" transform=\"scale(0.015625)\"/>\n       </defs>\n       <use xlink:href=\"#DejaVuSans-55\"/>\n       <use x=\"73.193359\" xlink:href=\"#DejaVuSans-73\"/>\n       <use x=\"125.292969\" xlink:href=\"#DejaVuSans-75\"/>\n       <use x=\"188.671875\" xlink:href=\"#DejaVuSans-61\"/>\n       <use x=\"249.951172\" xlink:href=\"#DejaVuSans-6c\"/>\n       <use x=\"277.734375\" xlink:href=\"#DejaVuSans-20\"/>\n       <use x=\"309.521484\" xlink:href=\"#DejaVuSans-53\"/>\n       <use x=\"372.998047\" xlink:href=\"#DejaVuSans-75\"/>\n       <use x=\"436.376953\" xlink:href=\"#DejaVuSans-73\"/>\n       <use x=\"488.476562\" xlink:href=\"#DejaVuSans-70\"/>\n       <use x=\"551.953125\" xlink:href=\"#DejaVuSans-65\"/>\n       <use x=\"613.476562\" xlink:href=\"#DejaVuSans-63\"/>\n       <use x=\"668.457031\" xlink:href=\"#DejaVuSans-74\"/>\n       <use x=\"707.666016\" xlink:href=\"#DejaVuSans-73\"/>\n       <use x=\"759.765625\" xlink:href=\"#DejaVuSans-2c\"/>\n       <use x=\"791.552734\" xlink:href=\"#DejaVuSans-20\"/>\n       <use x=\"823.339844\" xlink:href=\"#DejaVuSans-54\"/>\n       <use x=\"884.423828\" xlink:href=\"#DejaVuSans-68\"/>\n       <use x=\"947.802734\" xlink:href=\"#DejaVuSans-65\"/>\n       <use x=\"1009.326172\" xlink:href=\"#DejaVuSans-20\"/>\n       <use x=\"1041.113281\" xlink:href=\"#DejaVuSans-28\"/>\n       <use x=\"1080.126953\" xlink:href=\"#DejaVuSans-31\"/>\n       <use x=\"1143.75\" xlink:href=\"#DejaVuSans-39\"/>\n       <use x=\"1207.373047\" xlink:href=\"#DejaVuSans-39\"/>\n       <use x=\"1270.996094\" xlink:href=\"#DejaVuSans-35\"/>\n       <use x=\"1334.619141\" xlink:href=\"#DejaVuSans-29\"/>\n      </g>\n     </g>\n    </g>\n    <g id=\"text_16\">\n     <!-- title -->\n     <g transform=\"translate(14.798438 140.813125)rotate(-90)scale(0.1 -0.1)\">\n      <use xlink:href=\"#DejaVuSans-74\"/>\n      <use x=\"39.208984\" xlink:href=\"#DejaVuSans-69\"/>\n      <use x=\"66.992188\" xlink:href=\"#DejaVuSans-74\"/>\n      <use x=\"106.201172\" xlink:href=\"#DejaVuSans-6c\"/>\n      <use x=\"133.984375\" xlink:href=\"#DejaVuSans-65\"/>\n     </g>\n    </g>\n   </g>\n   <g id=\"patch_23\">\n    <path d=\"M 317.45 239.758125 \nL 317.45 22.318125 \n\" style=\"fill:none;stroke:#000000;stroke-linecap:square;stroke-linejoin:miter;stroke-width:0.8;\"/>\n   </g>\n   <g id=\"patch_24\">\n    <path d=\"M 652.25 239.758125 \nL 652.25 22.318125 \n\" style=\"fill:none;stroke:#000000;stroke-linecap:square;stroke-linejoin:miter;stroke-width:0.8;\"/>\n   </g>\n   <g id=\"patch_25\">\n    <path d=\"M 317.45 239.758125 \nL 652.25 239.758125 \n\" style=\"fill:none;stroke:#000000;stroke-linecap:square;stroke-linejoin:miter;stroke-width:0.8;\"/>\n   </g>\n   <g id=\"patch_26\">\n    <path d=\"M 317.45 22.318125 \nL 652.25 22.318125 \n\" style=\"fill:none;stroke:#000000;stroke-linecap:square;stroke-linejoin:miter;stroke-width:0.8;\"/>\n   </g>\n   <g id=\"text_17\">\n    <!-- Top movies as rated by females -->\n    <g transform=\"translate(389.670313 16.318125)scale(0.12 -0.12)\">\n     <use xlink:href=\"#DejaVuSans-54\"/>\n     <use x=\"44.083984\" xlink:href=\"#DejaVuSans-6f\"/>\n     <use x=\"105.265625\" xlink:href=\"#DejaVuSans-70\"/>\n     <use x=\"168.742188\" xlink:href=\"#DejaVuSans-20\"/>\n     <use x=\"200.529297\" xlink:href=\"#DejaVuSans-6d\"/>\n     <use x=\"297.941406\" xlink:href=\"#DejaVuSans-6f\"/>\n     <use x=\"359.123047\" xlink:href=\"#DejaVuSans-76\"/>\n     <use x=\"418.302734\" xlink:href=\"#DejaVuSans-69\"/>\n     <use x=\"446.085938\" xlink:href=\"#DejaVuSans-65\"/>\n     <use x=\"507.609375\" xlink:href=\"#DejaVuSans-73\"/>\n     <use x=\"559.708984\" xlink:href=\"#DejaVuSans-20\"/>\n     <use x=\"591.496094\" xlink:href=\"#DejaVuSans-61\"/>\n     <use x=\"652.775391\" xlink:href=\"#DejaVuSans-73\"/>\n     <use x=\"704.875\" xlink:href=\"#DejaVuSans-20\"/>\n     <use x=\"736.662109\" xlink:href=\"#DejaVuSans-72\"/>\n     <use x=\"777.775391\" xlink:href=\"#DejaVuSans-61\"/>\n     <use x=\"839.054688\" xlink:href=\"#DejaVuSans-74\"/>\n     <use x=\"878.263672\" xlink:href=\"#DejaVuSans-65\"/>\n     <use x=\"939.787109\" xlink:href=\"#DejaVuSans-64\"/>\n     <use x=\"1003.263672\" xlink:href=\"#DejaVuSans-20\"/>\n     <use x=\"1035.050781\" xlink:href=\"#DejaVuSans-62\"/>\n     <use x=\"1098.527344\" xlink:href=\"#DejaVuSans-79\"/>\n     <use x=\"1157.707031\" xlink:href=\"#DejaVuSans-20\"/>\n     <use x=\"1189.494141\" xlink:href=\"#DejaVuSans-66\"/>\n     <use x=\"1224.699219\" xlink:href=\"#DejaVuSans-65\"/>\n     <use x=\"1286.222656\" xlink:href=\"#DejaVuSans-6d\"/>\n     <use x=\"1383.634766\" xlink:href=\"#DejaVuSans-61\"/>\n     <use x=\"1444.914062\" xlink:href=\"#DejaVuSans-6c\"/>\n     <use x=\"1472.697266\" xlink:href=\"#DejaVuSans-65\"/>\n     <use x=\"1534.220703\" xlink:href=\"#DejaVuSans-73\"/>\n    </g>\n   </g>\n   <g id=\"legend_1\">\n    <g id=\"patch_27\">\n     <path d=\"M 604.621875 154.555313 \nL 645.25 154.555313 \nQ 647.25 154.555313 647.25 152.555313 \nL 647.25 109.520938 \nQ 647.25 107.520938 645.25 107.520938 \nL 604.621875 107.520938 \nQ 602.621875 107.520938 602.621875 109.520938 \nL 602.621875 152.555313 \nQ 602.621875 154.555313 604.621875 154.555313 \nz\n\" style=\"fill:#ffffff;opacity:0.8;stroke:#cccccc;stroke-linejoin:miter;\"/>\n    </g>\n    <g id=\"text_18\">\n     <!-- gender -->\n     <g transform=\"translate(607.210156 119.119375)scale(0.1 -0.1)\">\n      <use xlink:href=\"#DejaVuSans-67\"/>\n      <use x=\"63.476562\" xlink:href=\"#DejaVuSans-65\"/>\n      <use x=\"125\" xlink:href=\"#DejaVuSans-6e\"/>\n      <use x=\"188.378906\" xlink:href=\"#DejaVuSans-64\"/>\n      <use x=\"251.855469\" xlink:href=\"#DejaVuSans-65\"/>\n      <use x=\"313.378906\" xlink:href=\"#DejaVuSans-72\"/>\n     </g>\n    </g>\n    <g id=\"patch_28\">\n     <path d=\"M 606.621875 133.7975 \nL 626.621875 133.7975 \nL 626.621875 126.7975 \nL 606.621875 126.7975 \nz\n\" style=\"fill:#1f77b4;\"/>\n    </g>\n    <g id=\"text_19\">\n     <!-- F -->\n     <g transform=\"translate(634.621875 133.7975)scale(0.1 -0.1)\">\n      <defs>\n       <path d=\"M 628 4666 \nL 3309 4666 \nL 3309 4134 \nL 1259 4134 \nL 1259 2759 \nL 3109 2759 \nL 3109 2228 \nL 1259 2228 \nL 1259 0 \nL 628 0 \nL 628 4666 \nz\n\" id=\"DejaVuSans-46\" transform=\"scale(0.015625)\"/>\n      </defs>\n      <use xlink:href=\"#DejaVuSans-46\"/>\n     </g>\n    </g>\n    <g id=\"patch_29\">\n     <path d=\"M 606.621875 148.475625 \nL 626.621875 148.475625 \nL 626.621875 141.475625 \nL 606.621875 141.475625 \nz\n\" style=\"fill:#ff7f0e;\"/>\n    </g>\n    <g id=\"text_20\">\n     <!-- M -->\n     <g transform=\"translate(634.621875 148.475625)scale(0.1 -0.1)\">\n      <use xlink:href=\"#DejaVuSans-4d\"/>\n     </g>\n    </g>\n   </g>\n  </g>\n </g>\n <defs>\n  <clipPath id=\"pb1e98af882\">\n   <rect height=\"217.44\" width=\"334.8\" x=\"317.45\" y=\"22.318125\"/>\n  </clipPath>\n </defs>\n</svg>\n",
            "image/png": "[encoded data removed]"
          },
          "metadata": {
            "needs_background": "light"
          }
        }
      ],
      "source": [
        "top_movies[:10].plot.barh().invert_yaxis()\n",
        "plt.title('Top movies as rated by females')"
      ]
    },
    {
      "source": [
        "Can you improve on this simple visualization?  "
      ],
      "cell_type": "markdown",
      "metadata": {}
    },
    {
      "source": [
        "# Adding new columns\n",
        "\n",
        "Lets add a new column called `diff` to the data that contains the difference between the average ratings to understand differences in movie ratings based on gender, and variation on the ratings.\n",
        "\n",
        "We'll then sort by this difference to get the movies where the difference between men and women's ratings were the greatest on average."
      ],
      "cell_type": "markdown",
      "metadata": {}
    },
    {
      "cell_type": "code",
      "execution_count": 28,
      "metadata": {},
      "outputs": [
        {
          "output_type": "execute_result",
          "data": {
            "text/plain": [
              "gender                                        F         M      diff\n",
              "title                                                              \n",
              "Dirty Dancing (1987)                   3.790378  2.959596 -0.830782\n",
              "Jumpin' Jack Flash (1986)              3.254717  2.578358 -0.676359\n",
              "Grease (1978)                          3.975265  3.367041 -0.608224\n",
              "Little Women (1994)                    3.870588  3.321739 -0.548849\n",
              "Steel Magnolias (1989)                 3.901734  3.365957 -0.535777\n",
              "Anastasia (1997)                       3.800000  3.281609 -0.518391\n",
              "Rocky Horror Picture Show, The (1975)  3.673016  3.160131 -0.512885\n",
              "Color Purple, The (1985)               4.158192  3.659341 -0.498851\n",
              "Age of Innocence, The (1993)           3.827068  3.339506 -0.487561\n",
              "Free Willy (1993)                      2.921348  2.438776 -0.482573"
            ],
            "text/html": "<div>\n<style scoped>\n    .dataframe tbody tr th:only-of-type {\n        vertical-align: middle;\n    }\n\n    .dataframe tbody tr th {\n        vertical-align: top;\n    }\n\n    .dataframe thead th {\n        text-align: right;\n    }\n</style>\n<table border=\"1\" class=\"dataframe\">\n  <thead>\n    <tr style=\"text-align: right;\">\n      <th>gender</th>\n      <th>F</th>\n      <th>M</th>\n      <th>diff</th>\n    </tr>\n    <tr>\n      <th>title</th>\n      <th></th>\n      <th></th>\n      <th></th>\n    </tr>\n  </thead>\n  <tbody>\n    <tr>\n      <th>Dirty Dancing (1987)</th>\n      <td>3.790378</td>\n      <td>2.959596</td>\n      <td>-0.830782</td>\n    </tr>\n    <tr>\n      <th>Jumpin' Jack Flash (1986)</th>\n      <td>3.254717</td>\n      <td>2.578358</td>\n      <td>-0.676359</td>\n    </tr>\n    <tr>\n      <th>Grease (1978)</th>\n      <td>3.975265</td>\n      <td>3.367041</td>\n      <td>-0.608224</td>\n    </tr>\n    <tr>\n      <th>Little Women (1994)</th>\n      <td>3.870588</td>\n      <td>3.321739</td>\n      <td>-0.548849</td>\n    </tr>\n    <tr>\n      <th>Steel Magnolias (1989)</th>\n      <td>3.901734</td>\n      <td>3.365957</td>\n      <td>-0.535777</td>\n    </tr>\n    <tr>\n      <th>Anastasia (1997)</th>\n      <td>3.800000</td>\n      <td>3.281609</td>\n      <td>-0.518391</td>\n    </tr>\n    <tr>\n      <th>Rocky Horror Picture Show, The (1975)</th>\n      <td>3.673016</td>\n      <td>3.160131</td>\n      <td>-0.512885</td>\n    </tr>\n    <tr>\n      <th>Color Purple, The (1985)</th>\n      <td>4.158192</td>\n      <td>3.659341</td>\n      <td>-0.498851</td>\n    </tr>\n    <tr>\n      <th>Age of Innocence, The (1993)</th>\n      <td>3.827068</td>\n      <td>3.339506</td>\n      <td>-0.487561</td>\n    </tr>\n    <tr>\n      <th>Free Willy (1993)</th>\n      <td>2.921348</td>\n      <td>2.438776</td>\n      <td>-0.482573</td>\n    </tr>\n  </tbody>\n</table>\n</div>"
          },
          "metadata": {},
          "execution_count": 28
        }
      ],
      "source": [
        "mean_ratings['diff'] = mean_ratings['M'] - mean_ratings['F']\n",
        "sorted_by_diff = mean_ratings.sort_values(by='diff')\n",
        "sorted_by_diff[:10]"
      ]
    },
    {
      "source": [
        "We can use the Python slice syntax to reverse the order of the rows, and then slice off the top 10 to get the movies that men liked a lot more than women.\n",
        "\n",
        "Note the syntax for slice - we want all of the elements but step through them in reverse order (-1)"
      ],
      "cell_type": "markdown",
      "metadata": {}
    },
    {
      "cell_type": "code",
      "execution_count": 29,
      "metadata": {},
      "outputs": [
        {
          "output_type": "execute_result",
          "data": {
            "text/plain": [
              "gender                                         F         M      diff\n",
              "title                                                               \n",
              "Good, The Bad and The Ugly, The (1966)  3.494949  4.221300  0.726351\n",
              "Kentucky Fried Movie, The (1977)        2.878788  3.555147  0.676359\n",
              "Dumb & Dumber (1994)                    2.697987  3.336595  0.638608\n",
              "Longest Day, The (1962)                 3.411765  4.031447  0.619682\n",
              "Cable Guy, The (1996)                   2.250000  2.863787  0.613787\n",
              "Evil Dead II (Dead By Dawn) (1987)      3.297297  3.909283  0.611985\n",
              "Hidden, The (1987)                      3.137931  3.745098  0.607167\n",
              "Rocky III (1982)                        2.361702  2.943503  0.581801\n",
              "Caddyshack (1980)                       3.396135  3.969737  0.573602\n",
              "For a Few Dollars More (1965)           3.409091  3.953795  0.544704"
            ],
            "text/html": "<div>\n<style scoped>\n    .dataframe tbody tr th:only-of-type {\n        vertical-align: middle;\n    }\n\n    .dataframe tbody tr th {\n        vertical-align: top;\n    }\n\n    .dataframe thead th {\n        text-align: right;\n    }\n</style>\n<table border=\"1\" class=\"dataframe\">\n  <thead>\n    <tr style=\"text-align: right;\">\n      <th>gender</th>\n      <th>F</th>\n      <th>M</th>\n      <th>diff</th>\n    </tr>\n    <tr>\n      <th>title</th>\n      <th></th>\n      <th></th>\n      <th></th>\n    </tr>\n  </thead>\n  <tbody>\n    <tr>\n      <th>Good, The Bad and The Ugly, The (1966)</th>\n      <td>3.494949</td>\n      <td>4.221300</td>\n      <td>0.726351</td>\n    </tr>\n    <tr>\n      <th>Kentucky Fried Movie, The (1977)</th>\n      <td>2.878788</td>\n      <td>3.555147</td>\n      <td>0.676359</td>\n    </tr>\n    <tr>\n      <th>Dumb &amp; Dumber (1994)</th>\n      <td>2.697987</td>\n      <td>3.336595</td>\n      <td>0.638608</td>\n    </tr>\n    <tr>\n      <th>Longest Day, The (1962)</th>\n      <td>3.411765</td>\n      <td>4.031447</td>\n      <td>0.619682</td>\n    </tr>\n    <tr>\n      <th>Cable Guy, The (1996)</th>\n      <td>2.250000</td>\n      <td>2.863787</td>\n      <td>0.613787</td>\n    </tr>\n    <tr>\n      <th>Evil Dead II (Dead By Dawn) (1987)</th>\n      <td>3.297297</td>\n      <td>3.909283</td>\n      <td>0.611985</td>\n    </tr>\n    <tr>\n      <th>Hidden, The (1987)</th>\n      <td>3.137931</td>\n      <td>3.745098</td>\n      <td>0.607167</td>\n    </tr>\n    <tr>\n      <th>Rocky III (1982)</th>\n      <td>2.361702</td>\n      <td>2.943503</td>\n      <td>0.581801</td>\n    </tr>\n    <tr>\n      <th>Caddyshack (1980)</th>\n      <td>3.396135</td>\n      <td>3.969737</td>\n      <td>0.573602</td>\n    </tr>\n    <tr>\n      <th>For a Few Dollars More (1965)</th>\n      <td>3.409091</td>\n      <td>3.953795</td>\n      <td>0.544704</td>\n    </tr>\n  </tbody>\n</table>\n</div>"
          },
          "metadata": {},
          "execution_count": 29
        }
      ],
      "source": [
        "sorted_by_diff[::-1][:10]"
      ]
    },
    {
      "source": [
        "This seems to make sense!\n",
        "\n",
        "Lets look a the movies that had the most disagreement between individual ratings indepedent of gender.  This means that the *standard deviation*, or the measure of the difference between individual measurements and the mean is the largest.  This might help us find the most 'controversial' movies."
      ],
      "cell_type": "markdown",
      "metadata": {}
    },
    {
      "cell_type": "code",
      "execution_count": 30,
      "metadata": {},
      "outputs": [
        {
          "output_type": "execute_result",
          "data": {
            "text/plain": [
              "title\n",
              "Dumb & Dumber (1994)                     1.321333\n",
              "Blair Witch Project, The (1999)          1.316368\n",
              "Natural Born Killers (1994)              1.307198\n",
              "Tank Girl (1995)                         1.277695\n",
              "Rocky Horror Picture Show, The (1975)    1.260177\n",
              "Eyes Wide Shut (1999)                    1.259624\n",
              "Evita (1996)                             1.253631\n",
              "Billy Madison (1995)                     1.249970\n",
              "Fear and Loathing in Las Vegas (1998)    1.246408\n",
              "Bicentennial Man (1999)                  1.245533\n",
              "Name: rating, dtype: float64"
            ]
          },
          "metadata": {},
          "execution_count": 30
        }
      ],
      "source": [
        "rating_std_by_title = data.groupby('title')['rating'].std()\n",
        "# filter to only the active titles again\n",
        "rating_std_by_title = rating_std_by_title.loc[active_titles]\n",
        "# sort descending and then show the top 10\n",
        "rating_std_by_title.sort_values(ascending=False)[:10]"
      ]
    },
    {
      "source": [
        "It's interesting that Dumb and Dumber has a big difference rating, but not that surprising if you have seen the movie!\n",
        "\n",
        "How would you visualize this data?"
      ],
      "cell_type": "markdown",
      "metadata": {}
    },
    {
      "source": [
        "# Next\n",
        "\n",
        "You will have noticed that the movie genres have been split using the `|` character.  With more processing we can analyse the movie data by genre - i.e. what genres of movies do men and women prefer.  How would we do this processing?  How would we visualize this data?\n",
        "\n",
        "Check out this stack exchange question for a big hint:\n",
        "\n",
        "https://datascience.stackexchange.com/questions/14847/multiple-categorical-values-for-a-single-feature-how-to-convert-them-to-binary-u\n",
        "\n",
        "* What are some of the other questions we can ask?\n",
        "  * What are the favourite genres of men vs women?  How would you determine that?\n",
        "\n",
        "* Ratings also include a time stamp.  How would you graph the number of ratings over a period of time?  What would this tell us?\n",
        "\n"
      ],
      "cell_type": "markdown",
      "metadata": {}
    },
    {
      "cell_type": "code",
      "execution_count": 31,
      "metadata": {},
      "outputs": [],
      "source": [
        "cleaned = movies.set_index('title').genre.str.split('|', expand=True).stack()\n",
        "# movies.set_index('title').genre.str.split('|', expand=True).stack()[:10]\n"
      ]
    },
    {
      "cell_type": "code",
      "execution_count": 32,
      "metadata": {},
      "outputs": [
        {
          "output_type": "execute_result",
          "data": {
            "text/plain": [
              "title                        \n",
              "Toy Story (1995)            0     Animation\n",
              "                            1    Children's\n",
              "                            2        Comedy\n",
              "Jumanji (1995)              0     Adventure\n",
              "                            1    Children's\n",
              "                                    ...    \n",
              "Requiem for a Dream (2000)  0         Drama\n",
              "Tigerland (2000)            0         Drama\n",
              "Two Family House (2000)     0         Drama\n",
              "Contender, The (2000)       0         Drama\n",
              "                            1      Thriller\n",
              "Length: 6408, dtype: object"
            ]
          },
          "metadata": {},
          "execution_count": 32
        }
      ],
      "source": [
        "cleaned"
      ]
    },
    {
      "cell_type": "code",
      "execution_count": 33,
      "metadata": {},
      "outputs": [
        {
          "output_type": "execute_result",
          "data": {
            "text/plain": [
              "                                            Action  Adventure  Animation  \\\n",
              "title                                                                      \n",
              "$1,000,000 Duck (1971)                       False      False      False   \n",
              "'Night Mother (1986)                         False      False      False   \n",
              "'Til There Was You (1997)                    False      False      False   \n",
              "'burbs, The (1989)                           False      False      False   \n",
              "...And Justice for All (1979)                False      False      False   \n",
              "...                                            ...        ...        ...   \n",
              "Zero Effect (1998)                           False      False      False   \n",
              "Zero Kelvin (Kj�rlighetens kj�tere) (1995)    True      False      False   \n",
              "Zeus and Roxanne (1997)                      False      False      False   \n",
              "Zone 39 (1997)                               False      False      False   \n",
              "eXistenZ (1999)                               True      False      False   \n",
              "\n",
              "                                            Children's  Comedy  Crime  \\\n",
              "title                                                                   \n",
              "$1,000,000 Duck (1971)                            True    True  False   \n",
              "'Night Mother (1986)                             False   False  False   \n",
              "'Til There Was You (1997)                        False   False  False   \n",
              "'burbs, The (1989)                               False    True  False   \n",
              "...And Justice for All (1979)                    False   False  False   \n",
              "...                                                ...     ...    ...   \n",
              "Zero Effect (1998)                               False    True  False   \n",
              "Zero Kelvin (Kj�rlighetens kj�tere) (1995)       False   False  False   \n",
              "Zeus and Roxanne (1997)                           True   False  False   \n",
              "Zone 39 (1997)                                   False   False  False   \n",
              "eXistenZ (1999)                                  False   False  False   \n",
              "\n",
              "                                            Documentary  Drama  Fantasy  \\\n",
              "title                                                                     \n",
              "$1,000,000 Duck (1971)                            False  False    False   \n",
              "'Night Mother (1986)                              False   True    False   \n",
              "'Til There Was You (1997)                         False   True    False   \n",
              "'burbs, The (1989)                                False  False    False   \n",
              "...And Justice for All (1979)                     False   True    False   \n",
              "...                                                 ...    ...      ...   \n",
              "Zero Effect (1998)                                False  False    False   \n",
              "Zero Kelvin (Kj�rlighetens kj�tere) (1995)        False  False    False   \n",
              "Zeus and Roxanne (1997)                           False  False    False   \n",
              "Zone 39 (1997)                                    False  False    False   \n",
              "eXistenZ (1999)                                   False  False    False   \n",
              "\n",
              "                                            Film-Noir  Horror  Musical  \\\n",
              "title                                                                    \n",
              "$1,000,000 Duck (1971)                          False   False    False   \n",
              "'Night Mother (1986)                            False   False    False   \n",
              "'Til There Was You (1997)                       False   False    False   \n",
              "'burbs, The (1989)                              False   False    False   \n",
              "...And Justice for All (1979)                   False   False    False   \n",
              "...                                               ...     ...      ...   \n",
              "Zero Effect (1998)                              False   False    False   \n",
              "Zero Kelvin (Kj�rlighetens kj�tere) (1995)      False   False    False   \n",
              "Zeus and Roxanne (1997)                         False   False    False   \n",
              "Zone 39 (1997)                                  False   False    False   \n",
              "eXistenZ (1999)                                 False   False    False   \n",
              "\n",
              "                                            Mystery  Romance  Sci-Fi  \\\n",
              "title                                                                  \n",
              "$1,000,000 Duck (1971)                        False    False   False   \n",
              "'Night Mother (1986)                          False    False   False   \n",
              "'Til There Was You (1997)                     False     True   False   \n",
              "'burbs, The (1989)                            False    False   False   \n",
              "...And Justice for All (1979)                 False    False   False   \n",
              "...                                             ...      ...     ...   \n",
              "Zero Effect (1998)                            False    False   False   \n",
              "Zero Kelvin (Kj�rlighetens kj�tere) (1995)    False    False   False   \n",
              "Zeus and Roxanne (1997)                       False    False   False   \n",
              "Zone 39 (1997)                                False    False    True   \n",
              "eXistenZ (1999)                               False    False    True   \n",
              "\n",
              "                                            Thriller    War  Western  \n",
              "title                                                                 \n",
              "$1,000,000 Duck (1971)                         False  False    False  \n",
              "'Night Mother (1986)                           False  False    False  \n",
              "'Til There Was You (1997)                      False  False    False  \n",
              "'burbs, The (1989)                             False  False    False  \n",
              "...And Justice for All (1979)                   True  False    False  \n",
              "...                                              ...    ...      ...  \n",
              "Zero Effect (1998)                              True  False    False  \n",
              "Zero Kelvin (Kj�rlighetens kj�tere) (1995)     False  False    False  \n",
              "Zeus and Roxanne (1997)                        False  False    False  \n",
              "Zone 39 (1997)                                 False  False    False  \n",
              "eXistenZ (1999)                                 True  False    False  \n",
              "\n",
              "[3883 rows x 18 columns]"
            ],
            "text/html": "<div>\n<style scoped>\n    .dataframe tbody tr th:only-of-type {\n        vertical-align: middle;\n    }\n\n    .dataframe tbody tr th {\n        vertical-align: top;\n    }\n\n    .dataframe thead th {\n        text-align: right;\n    }\n</style>\n<table border=\"1\" class=\"dataframe\">\n  <thead>\n    <tr style=\"text-align: right;\">\n      <th></th>\n      <th>Action</th>\n      <th>Adventure</th>\n      <th>Animation</th>\n      <th>Children's</th>\n      <th>Comedy</th>\n      <th>Crime</th>\n      <th>Documentary</th>\n      <th>Drama</th>\n      <th>Fantasy</th>\n      <th>Film-Noir</th>\n      <th>Horror</th>\n      <th>Musical</th>\n      <th>Mystery</th>\n      <th>Romance</th>\n      <th>Sci-Fi</th>\n      <th>Thriller</th>\n      <th>War</th>\n      <th>Western</th>\n    </tr>\n    <tr>\n      <th>title</th>\n      <th></th>\n      <th></th>\n      <th></th>\n      <th></th>\n      <th></th>\n      <th></th>\n      <th></th>\n      <th></th>\n      <th></th>\n      <th></th>\n      <th></th>\n      <th></th>\n      <th></th>\n      <th></th>\n      <th></th>\n      <th></th>\n      <th></th>\n      <th></th>\n    </tr>\n  </thead>\n  <tbody>\n    <tr>\n      <th>$1,000,000 Duck (1971)</th>\n      <td>False</td>\n      <td>False</td>\n      <td>False</td>\n      <td>True</td>\n      <td>True</td>\n      <td>False</td>\n      <td>False</td>\n      <td>False</td>\n      <td>False</td>\n      <td>False</td>\n      <td>False</td>\n      <td>False</td>\n      <td>False</td>\n      <td>False</td>\n      <td>False</td>\n      <td>False</td>\n      <td>False</td>\n      <td>False</td>\n    </tr>\n    <tr>\n      <th>'Night Mother (1986)</th>\n      <td>False</td>\n      <td>False</td>\n      <td>False</td>\n      <td>False</td>\n      <td>False</td>\n      <td>False</td>\n      <td>False</td>\n      <td>True</td>\n      <td>False</td>\n      <td>False</td>\n      <td>False</td>\n      <td>False</td>\n      <td>False</td>\n      <td>False</td>\n      <td>False</td>\n      <td>False</td>\n      <td>False</td>\n      <td>False</td>\n    </tr>\n    <tr>\n      <th>'Til There Was You (1997)</th>\n      <td>False</td>\n      <td>False</td>\n      <td>False</td>\n      <td>False</td>\n      <td>False</td>\n      <td>False</td>\n      <td>False</td>\n      <td>True</td>\n      <td>False</td>\n      <td>False</td>\n      <td>False</td>\n      <td>False</td>\n      <td>False</td>\n      <td>True</td>\n      <td>False</td>\n      <td>False</td>\n      <td>False</td>\n      <td>False</td>\n    </tr>\n    <tr>\n      <th>'burbs, The (1989)</th>\n      <td>False</td>\n      <td>False</td>\n      <td>False</td>\n      <td>False</td>\n      <td>True</td>\n      <td>False</td>\n      <td>False</td>\n      <td>False</td>\n      <td>False</td>\n      <td>False</td>\n      <td>False</td>\n      <td>False</td>\n      <td>False</td>\n      <td>False</td>\n      <td>False</td>\n      <td>False</td>\n      <td>False</td>\n      <td>False</td>\n    </tr>\n    <tr>\n      <th>...And Justice for All (1979)</th>\n      <td>False</td>\n      <td>False</td>\n      <td>False</td>\n      <td>False</td>\n      <td>False</td>\n      <td>False</td>\n      <td>False</td>\n      <td>True</td>\n      <td>False</td>\n      <td>False</td>\n      <td>False</td>\n      <td>False</td>\n      <td>False</td>\n      <td>False</td>\n      <td>False</td>\n      <td>True</td>\n      <td>False</td>\n      <td>False</td>\n    </tr>\n    <tr>\n      <th>...</th>\n      <td>...</td>\n      <td>...</td>\n      <td>...</td>\n      <td>...</td>\n      <td>...</td>\n      <td>...</td>\n      <td>...</td>\n      <td>...</td>\n      <td>...</td>\n      <td>...</td>\n      <td>...</td>\n      <td>...</td>\n      <td>...</td>\n      <td>...</td>\n      <td>...</td>\n      <td>...</td>\n      <td>...</td>\n      <td>...</td>\n    </tr>\n    <tr>\n      <th>Zero Effect (1998)</th>\n      <td>False</td>\n      <td>False</td>\n      <td>False</td>\n      <td>False</td>\n      <td>True</td>\n      <td>False</td>\n      <td>False</td>\n      <td>False</td>\n      <td>False</td>\n      <td>False</td>\n      <td>False</td>\n      <td>False</td>\n      <td>False</td>\n      <td>False</td>\n      <td>False</td>\n      <td>True</td>\n      <td>False</td>\n      <td>False</td>\n    </tr>\n    <tr>\n      <th>Zero Kelvin (Kj�rlighetens kj�tere) (1995)</th>\n      <td>True</td>\n      <td>False</td>\n      <td>False</td>\n      <td>False</td>\n      <td>False</td>\n      <td>False</td>\n      <td>False</td>\n      <td>False</td>\n      <td>False</td>\n      <td>False</td>\n      <td>False</td>\n      <td>False</td>\n      <td>False</td>\n      <td>False</td>\n      <td>False</td>\n      <td>False</td>\n      <td>False</td>\n      <td>False</td>\n    </tr>\n    <tr>\n      <th>Zeus and Roxanne (1997)</th>\n      <td>False</td>\n      <td>False</td>\n      <td>False</td>\n      <td>True</td>\n      <td>False</td>\n      <td>False</td>\n      <td>False</td>\n      <td>False</td>\n      <td>False</td>\n      <td>False</td>\n      <td>False</td>\n      <td>False</td>\n      <td>False</td>\n      <td>False</td>\n      <td>False</td>\n      <td>False</td>\n      <td>False</td>\n      <td>False</td>\n    </tr>\n    <tr>\n      <th>Zone 39 (1997)</th>\n      <td>False</td>\n      <td>False</td>\n      <td>False</td>\n      <td>False</td>\n      <td>False</td>\n      <td>False</td>\n      <td>False</td>\n      <td>False</td>\n      <td>False</td>\n      <td>False</td>\n      <td>False</td>\n      <td>False</td>\n      <td>False</td>\n      <td>False</td>\n      <td>True</td>\n      <td>False</td>\n      <td>False</td>\n      <td>False</td>\n    </tr>\n    <tr>\n      <th>eXistenZ (1999)</th>\n      <td>True</td>\n      <td>False</td>\n      <td>False</td>\n      <td>False</td>\n      <td>False</td>\n      <td>False</td>\n      <td>False</td>\n      <td>False</td>\n      <td>False</td>\n      <td>False</td>\n      <td>False</td>\n      <td>False</td>\n      <td>False</td>\n      <td>False</td>\n      <td>True</td>\n      <td>True</td>\n      <td>False</td>\n      <td>False</td>\n    </tr>\n  </tbody>\n</table>\n<p>3883 rows × 18 columns</p>\n</div>"
          },
          "metadata": {},
          "execution_count": 33
        }
      ],
      "source": [
        "dummies = pd.get_dummies(cleaned) # what does this do?\n",
        "dummies.groupby(level=0).apply(lambda x: x.sum() > 0)\n",
        "# merge with index\n",
        "# get all of the horror movies, etc.."
      ]
    },
    {
      "cell_type": "code",
      "execution_count": null,
      "metadata": {},
      "outputs": [],
      "source": []
    }
  ]
}
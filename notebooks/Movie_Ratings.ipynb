{
  "nbformat": 4,
  "nbformat_minor": 0,
  "metadata": {
    "colab": {
      "name": "Movie_Ratings.ipynb",
      "provenance": [],
      "authorship_tag": "ABX9TyNq14K0DSzw9FLIv89IrRg7",
      "include_colab_link": true
    },
    "kernelspec": {
      "name": "python3",
      "display_name": "Python 3"
    },
    "language_info": {
      "name": "python"
    }
  },
  "cells": [
    {
      "cell_type": "markdown",
      "metadata": {
        "id": "view-in-github",
        "colab_type": "text"
      },
      "source": [
        "<a href=\"https://colab.research.google.com/github/mblackstock/notebooks/blob/main/notebooks/Movie_Ratings.ipynb\" target=\"_parent\"><img src=\"https://colab.research.google.com/assets/colab-badge.svg\" alt=\"Open In Colab\"/></a>"
      ]
    },
    {
      "cell_type": "markdown",
      "metadata": {
        "id": "a052PSQ9MRqd"
      },
      "source": [
        "In this notebook we'll do some data loading, wrangling and plot some data from movie ratings.  The data is from..."
      ]
    },
    {
      "cell_type": "code",
      "metadata": {
        "colab": {
          "base_uri": "https://localhost:8080/"
        },
        "id": "sujKgVpgEVRA",
        "outputId": "a28b38e3-d5aa-419e-c910-d4def87d9790"
      },
      "source": [
        "# !rm -rf notebooks\n",
        "# !git clone https://github.com/mblackstock/notebooks.git\n",
        "!ls notebooks/data\n",
        "\n"
      ],
      "execution_count": 11,
      "outputs": [
        {
          "output_type": "stream",
          "text": [
            "bike_sales  movies  names\n"
          ],
          "name": "stdout"
        }
      ]
    },
    {
      "cell_type": "markdown",
      "metadata": {
        "id": "2UVGM86YLKOR"
      },
      "source": [
        "Load the movie data"
      ]
    },
    {
      "cell_type": "code",
      "metadata": {
        "colab": {
          "base_uri": "https://localhost:8080/"
        },
        "id": "Axwl7xzgFqBn",
        "outputId": "175ca771-af7a-4263-ec37-fba01f740feb"
      },
      "source": [
        "import pandas as pd\n",
        "\n",
        "unames = ['user_id', 'gender', 'age', 'occupation', 'zip']\n",
        "users = pd.read_table('notebooks/data/movies/ml-1m/users.dat',sep='::', header=None, names=unames)\n",
        "\n",
        "rnames = ['user_id', 'movie_id', 'rating', 'timestamp']\n",
        "ratings = pd.read_table('notebooks/data/movies/ml-1m/ratings.dat',sep='::', header=None, names=rnames)\n",
        "\n",
        "mnames = ['movie_id', 'title', 'genre']\n",
        "movies = pd.read_table('notebooks/data/movies/ml-1m/movies.dat',sep='::', header=None, names=mnames)\n"
      ],
      "execution_count": 17,
      "outputs": [
        {
          "output_type": "stream",
          "text": [
            "/usr/local/lib/python3.7/dist-packages/pandas/io/parsers.py:767: ParserWarning: Falling back to the 'python' engine because the 'c' engine does not support regex separators (separators > 1 char and different from '\\s+' are interpreted as regex); you can avoid this warning by specifying engine='python'.\n",
            "  return read_csv(**locals())\n"
          ],
          "name": "stderr"
        }
      ]
    },
    {
      "cell_type": "markdown",
      "metadata": {
        "id": "tOWBZdx_LOD4"
      },
      "source": [
        "merge it, creating a wide table"
      ]
    },
    {
      "cell_type": "code",
      "metadata": {
        "colab": {
          "base_uri": "https://localhost:8080/",
          "height": 419
        },
        "id": "KWnaYODfGX_f",
        "outputId": "36fea1a6-f8ef-4377-9620-ee107160bb0e"
      },
      "source": [
        "data = pd.merge(pd.merge(ratings, users), movies)\n",
        "data"
      ],
      "execution_count": 19,
      "outputs": [
        {
          "output_type": "execute_result",
          "data": {
            "text/html": [
              "<div>\n",
              "<style scoped>\n",
              "    .dataframe tbody tr th:only-of-type {\n",
              "        vertical-align: middle;\n",
              "    }\n",
              "\n",
              "    .dataframe tbody tr th {\n",
              "        vertical-align: top;\n",
              "    }\n",
              "\n",
              "    .dataframe thead th {\n",
              "        text-align: right;\n",
              "    }\n",
              "</style>\n",
              "<table border=\"1\" class=\"dataframe\">\n",
              "  <thead>\n",
              "    <tr style=\"text-align: right;\">\n",
              "      <th></th>\n",
              "      <th>user_id</th>\n",
              "      <th>movie_id</th>\n",
              "      <th>rating</th>\n",
              "      <th>timestamp</th>\n",
              "      <th>gender</th>\n",
              "      <th>age</th>\n",
              "      <th>occupation</th>\n",
              "      <th>zip</th>\n",
              "      <th>title</th>\n",
              "      <th>genre</th>\n",
              "    </tr>\n",
              "  </thead>\n",
              "  <tbody>\n",
              "    <tr>\n",
              "      <th>0</th>\n",
              "      <td>1</td>\n",
              "      <td>1193</td>\n",
              "      <td>5</td>\n",
              "      <td>978300760</td>\n",
              "      <td>F</td>\n",
              "      <td>1</td>\n",
              "      <td>10</td>\n",
              "      <td>48067</td>\n",
              "      <td>One Flew Over the Cuckoo's Nest (1975)</td>\n",
              "      <td>Drama</td>\n",
              "    </tr>\n",
              "    <tr>\n",
              "      <th>1</th>\n",
              "      <td>2</td>\n",
              "      <td>1193</td>\n",
              "      <td>5</td>\n",
              "      <td>978298413</td>\n",
              "      <td>M</td>\n",
              "      <td>56</td>\n",
              "      <td>16</td>\n",
              "      <td>70072</td>\n",
              "      <td>One Flew Over the Cuckoo's Nest (1975)</td>\n",
              "      <td>Drama</td>\n",
              "    </tr>\n",
              "    <tr>\n",
              "      <th>2</th>\n",
              "      <td>12</td>\n",
              "      <td>1193</td>\n",
              "      <td>4</td>\n",
              "      <td>978220179</td>\n",
              "      <td>M</td>\n",
              "      <td>25</td>\n",
              "      <td>12</td>\n",
              "      <td>32793</td>\n",
              "      <td>One Flew Over the Cuckoo's Nest (1975)</td>\n",
              "      <td>Drama</td>\n",
              "    </tr>\n",
              "    <tr>\n",
              "      <th>3</th>\n",
              "      <td>15</td>\n",
              "      <td>1193</td>\n",
              "      <td>4</td>\n",
              "      <td>978199279</td>\n",
              "      <td>M</td>\n",
              "      <td>25</td>\n",
              "      <td>7</td>\n",
              "      <td>22903</td>\n",
              "      <td>One Flew Over the Cuckoo's Nest (1975)</td>\n",
              "      <td>Drama</td>\n",
              "    </tr>\n",
              "    <tr>\n",
              "      <th>4</th>\n",
              "      <td>17</td>\n",
              "      <td>1193</td>\n",
              "      <td>5</td>\n",
              "      <td>978158471</td>\n",
              "      <td>M</td>\n",
              "      <td>50</td>\n",
              "      <td>1</td>\n",
              "      <td>95350</td>\n",
              "      <td>One Flew Over the Cuckoo's Nest (1975)</td>\n",
              "      <td>Drama</td>\n",
              "    </tr>\n",
              "    <tr>\n",
              "      <th>...</th>\n",
              "      <td>...</td>\n",
              "      <td>...</td>\n",
              "      <td>...</td>\n",
              "      <td>...</td>\n",
              "      <td>...</td>\n",
              "      <td>...</td>\n",
              "      <td>...</td>\n",
              "      <td>...</td>\n",
              "      <td>...</td>\n",
              "      <td>...</td>\n",
              "    </tr>\n",
              "    <tr>\n",
              "      <th>1000204</th>\n",
              "      <td>5949</td>\n",
              "      <td>2198</td>\n",
              "      <td>5</td>\n",
              "      <td>958846401</td>\n",
              "      <td>M</td>\n",
              "      <td>18</td>\n",
              "      <td>17</td>\n",
              "      <td>47901</td>\n",
              "      <td>Modulations (1998)</td>\n",
              "      <td>Documentary</td>\n",
              "    </tr>\n",
              "    <tr>\n",
              "      <th>1000205</th>\n",
              "      <td>5675</td>\n",
              "      <td>2703</td>\n",
              "      <td>3</td>\n",
              "      <td>976029116</td>\n",
              "      <td>M</td>\n",
              "      <td>35</td>\n",
              "      <td>14</td>\n",
              "      <td>30030</td>\n",
              "      <td>Broken Vessels (1998)</td>\n",
              "      <td>Drama</td>\n",
              "    </tr>\n",
              "    <tr>\n",
              "      <th>1000206</th>\n",
              "      <td>5780</td>\n",
              "      <td>2845</td>\n",
              "      <td>1</td>\n",
              "      <td>958153068</td>\n",
              "      <td>M</td>\n",
              "      <td>18</td>\n",
              "      <td>17</td>\n",
              "      <td>92886</td>\n",
              "      <td>White Boys (1999)</td>\n",
              "      <td>Drama</td>\n",
              "    </tr>\n",
              "    <tr>\n",
              "      <th>1000207</th>\n",
              "      <td>5851</td>\n",
              "      <td>3607</td>\n",
              "      <td>5</td>\n",
              "      <td>957756608</td>\n",
              "      <td>F</td>\n",
              "      <td>18</td>\n",
              "      <td>20</td>\n",
              "      <td>55410</td>\n",
              "      <td>One Little Indian (1973)</td>\n",
              "      <td>Comedy|Drama|Western</td>\n",
              "    </tr>\n",
              "    <tr>\n",
              "      <th>1000208</th>\n",
              "      <td>5938</td>\n",
              "      <td>2909</td>\n",
              "      <td>4</td>\n",
              "      <td>957273353</td>\n",
              "      <td>M</td>\n",
              "      <td>25</td>\n",
              "      <td>1</td>\n",
              "      <td>35401</td>\n",
              "      <td>Five Wives, Three Secretaries and Me (1998)</td>\n",
              "      <td>Documentary</td>\n",
              "    </tr>\n",
              "  </tbody>\n",
              "</table>\n",
              "<p>1000209 rows × 10 columns</p>\n",
              "</div>"
            ],
            "text/plain": [
              "         user_id  ...                 genre\n",
              "0              1  ...                 Drama\n",
              "1              2  ...                 Drama\n",
              "2             12  ...                 Drama\n",
              "3             15  ...                 Drama\n",
              "4             17  ...                 Drama\n",
              "...          ...  ...                   ...\n",
              "1000204     5949  ...           Documentary\n",
              "1000205     5675  ...                 Drama\n",
              "1000206     5780  ...                 Drama\n",
              "1000207     5851  ...  Comedy|Drama|Western\n",
              "1000208     5938  ...           Documentary\n",
              "\n",
              "[1000209 rows x 10 columns]"
            ]
          },
          "metadata": {
            "tags": []
          },
          "execution_count": 19
        }
      ]
    },
    {
      "cell_type": "markdown",
      "metadata": {
        "id": "0oWoAnJlLRls"
      },
      "source": [
        "pivot the table, with title as the index, and rating as the only column, using the mean aggregation function.  We now have the average rating of all movies!"
      ]
    },
    {
      "cell_type": "code",
      "metadata": {
        "colab": {
          "base_uri": "https://localhost:8080/",
          "height": 450
        },
        "id": "pEkqxftXHGFM",
        "outputId": "5b4ba00e-ca9f-4319-bdae-0c0b641b5965"
      },
      "source": [
        "mean_ratings = data.pivot_table('rating', index='title', aggfunc='mean')\n",
        "mean_ratings"
      ],
      "execution_count": 22,
      "outputs": [
        {
          "output_type": "execute_result",
          "data": {
            "text/html": [
              "<div>\n",
              "<style scoped>\n",
              "    .dataframe tbody tr th:only-of-type {\n",
              "        vertical-align: middle;\n",
              "    }\n",
              "\n",
              "    .dataframe tbody tr th {\n",
              "        vertical-align: top;\n",
              "    }\n",
              "\n",
              "    .dataframe thead th {\n",
              "        text-align: right;\n",
              "    }\n",
              "</style>\n",
              "<table border=\"1\" class=\"dataframe\">\n",
              "  <thead>\n",
              "    <tr style=\"text-align: right;\">\n",
              "      <th></th>\n",
              "      <th>rating</th>\n",
              "    </tr>\n",
              "    <tr>\n",
              "      <th>title</th>\n",
              "      <th></th>\n",
              "    </tr>\n",
              "  </thead>\n",
              "  <tbody>\n",
              "    <tr>\n",
              "      <th>$1,000,000 Duck (1971)</th>\n",
              "      <td>3.027027</td>\n",
              "    </tr>\n",
              "    <tr>\n",
              "      <th>'Night Mother (1986)</th>\n",
              "      <td>3.371429</td>\n",
              "    </tr>\n",
              "    <tr>\n",
              "      <th>'Til There Was You (1997)</th>\n",
              "      <td>2.692308</td>\n",
              "    </tr>\n",
              "    <tr>\n",
              "      <th>'burbs, The (1989)</th>\n",
              "      <td>2.910891</td>\n",
              "    </tr>\n",
              "    <tr>\n",
              "      <th>...And Justice for All (1979)</th>\n",
              "      <td>3.713568</td>\n",
              "    </tr>\n",
              "    <tr>\n",
              "      <th>...</th>\n",
              "      <td>...</td>\n",
              "    </tr>\n",
              "    <tr>\n",
              "      <th>Zed &amp; Two Noughts, A (1985)</th>\n",
              "      <td>3.413793</td>\n",
              "    </tr>\n",
              "    <tr>\n",
              "      <th>Zero Effect (1998)</th>\n",
              "      <td>3.750831</td>\n",
              "    </tr>\n",
              "    <tr>\n",
              "      <th>Zero Kelvin (Kj�rlighetens kj�tere) (1995)</th>\n",
              "      <td>3.500000</td>\n",
              "    </tr>\n",
              "    <tr>\n",
              "      <th>Zeus and Roxanne (1997)</th>\n",
              "      <td>2.521739</td>\n",
              "    </tr>\n",
              "    <tr>\n",
              "      <th>eXistenZ (1999)</th>\n",
              "      <td>3.256098</td>\n",
              "    </tr>\n",
              "  </tbody>\n",
              "</table>\n",
              "<p>3706 rows × 1 columns</p>\n",
              "</div>"
            ],
            "text/plain": [
              "                                              rating\n",
              "title                                               \n",
              "$1,000,000 Duck (1971)                      3.027027\n",
              "'Night Mother (1986)                        3.371429\n",
              "'Til There Was You (1997)                   2.692308\n",
              "'burbs, The (1989)                          2.910891\n",
              "...And Justice for All (1979)               3.713568\n",
              "...                                              ...\n",
              "Zed & Two Noughts, A (1985)                 3.413793\n",
              "Zero Effect (1998)                          3.750831\n",
              "Zero Kelvin (Kj�rlighetens kj�tere) (1995)  3.500000\n",
              "Zeus and Roxanne (1997)                     2.521739\n",
              "eXistenZ (1999)                             3.256098\n",
              "\n",
              "[3706 rows x 1 columns]"
            ]
          },
          "metadata": {
            "tags": []
          },
          "execution_count": 22
        }
      ]
    },
    {
      "cell_type": "markdown",
      "metadata": {
        "id": "rHVFiLueLeAr"
      },
      "source": [
        "Now, what we want to do is know what movies actually have been rated more than a few times, otherwise, noone is seeing them."
      ]
    },
    {
      "cell_type": "code",
      "metadata": {
        "colab": {
          "base_uri": "https://localhost:8080/"
        },
        "id": "cClm_iuZHi5f",
        "outputId": "d7edb9ec-06c4-46a4-cfee-eb2fd560a1b7"
      },
      "source": [
        "ratings_by_title = data.groupby('title').size()\n",
        "ratings_by_title"
      ],
      "execution_count": 55,
      "outputs": [
        {
          "output_type": "execute_result",
          "data": {
            "text/plain": [
              "title\n",
              "$1,000,000 Duck (1971)                         37\n",
              "'Night Mother (1986)                           70\n",
              "'Til There Was You (1997)                      52\n",
              "'burbs, The (1989)                            303\n",
              "...And Justice for All (1979)                 199\n",
              "                                             ... \n",
              "Zed & Two Noughts, A (1985)                    29\n",
              "Zero Effect (1998)                            301\n",
              "Zero Kelvin (Kj�rlighetens kj�tere) (1995)      2\n",
              "Zeus and Roxanne (1997)                        23\n",
              "eXistenZ (1999)                               410\n",
              "Length: 3706, dtype: int64"
            ]
          },
          "metadata": {
            "tags": []
          },
          "execution_count": 55
        }
      ]
    },
    {
      "cell_type": "markdown",
      "metadata": {
        "id": "caF1Bi2kL2Iq"
      },
      "source": [
        "Now, lets get the index values of the ratings_by_title series where the number of ratings is greater than or equal to 250"
      ]
    },
    {
      "cell_type": "code",
      "metadata": {
        "colab": {
          "base_uri": "https://localhost:8080/"
        },
        "id": "9e6dGO4jHqHt",
        "outputId": "0e4c9a55-b020-4331-f819-48fe012db641"
      },
      "source": [
        "active_titles = ratings_by_title.index[ratings_by_title >=250]\n",
        "active_titles"
      ],
      "execution_count": 24,
      "outputs": [
        {
          "output_type": "execute_result",
          "data": {
            "text/plain": [
              "Index([''burbs, The (1989)', '10 Things I Hate About You (1999)',\n",
              "       '101 Dalmatians (1961)', '101 Dalmatians (1996)', '12 Angry Men (1957)',\n",
              "       '13th Warrior, The (1999)', '2 Days in the Valley (1996)',\n",
              "       '20,000 Leagues Under the Sea (1954)', '2001: A Space Odyssey (1968)',\n",
              "       '2010 (1984)',\n",
              "       ...\n",
              "       'X-Men (2000)', 'Year of Living Dangerously (1982)',\n",
              "       'Yellow Submarine (1968)', 'You've Got Mail (1998)',\n",
              "       'Young Frankenstein (1974)', 'Young Guns (1988)',\n",
              "       'Young Guns II (1990)', 'Young Sherlock Holmes (1985)',\n",
              "       'Zero Effect (1998)', 'eXistenZ (1999)'],\n",
              "      dtype='object', name='title', length=1216)"
            ]
          },
          "metadata": {
            "tags": []
          },
          "execution_count": 24
        }
      ]
    },
    {
      "cell_type": "markdown",
      "metadata": {
        "id": "bzrzVBMZLveK"
      },
      "source": [
        "Now we select only the rows that are in the active titles list"
      ]
    },
    {
      "cell_type": "code",
      "metadata": {
        "colab": {
          "base_uri": "https://localhost:8080/",
          "height": 450
        },
        "id": "Dr8bKlHhH6Ty",
        "outputId": "853cf9d3-05da-40f3-cd77-056e1cefd159"
      },
      "source": [
        "mean_ratings = mean_ratings.loc[active_titles]\n",
        "mean_ratings"
      ],
      "execution_count": 54,
      "outputs": [
        {
          "output_type": "execute_result",
          "data": {
            "text/html": [
              "<div>\n",
              "<style scoped>\n",
              "    .dataframe tbody tr th:only-of-type {\n",
              "        vertical-align: middle;\n",
              "    }\n",
              "\n",
              "    .dataframe tbody tr th {\n",
              "        vertical-align: top;\n",
              "    }\n",
              "\n",
              "    .dataframe thead th {\n",
              "        text-align: right;\n",
              "    }\n",
              "</style>\n",
              "<table border=\"1\" class=\"dataframe\">\n",
              "  <thead>\n",
              "    <tr style=\"text-align: right;\">\n",
              "      <th></th>\n",
              "      <th>rating</th>\n",
              "    </tr>\n",
              "    <tr>\n",
              "      <th>title</th>\n",
              "      <th></th>\n",
              "    </tr>\n",
              "  </thead>\n",
              "  <tbody>\n",
              "    <tr>\n",
              "      <th>'burbs, The (1989)</th>\n",
              "      <td>2.910891</td>\n",
              "    </tr>\n",
              "    <tr>\n",
              "      <th>10 Things I Hate About You (1999)</th>\n",
              "      <td>3.422857</td>\n",
              "    </tr>\n",
              "    <tr>\n",
              "      <th>101 Dalmatians (1961)</th>\n",
              "      <td>3.596460</td>\n",
              "    </tr>\n",
              "    <tr>\n",
              "      <th>101 Dalmatians (1996)</th>\n",
              "      <td>3.046703</td>\n",
              "    </tr>\n",
              "    <tr>\n",
              "      <th>12 Angry Men (1957)</th>\n",
              "      <td>4.295455</td>\n",
              "    </tr>\n",
              "    <tr>\n",
              "      <th>...</th>\n",
              "      <td>...</td>\n",
              "    </tr>\n",
              "    <tr>\n",
              "      <th>Young Guns (1988)</th>\n",
              "      <td>3.418149</td>\n",
              "    </tr>\n",
              "    <tr>\n",
              "      <th>Young Guns II (1990)</th>\n",
              "      <td>2.907859</td>\n",
              "    </tr>\n",
              "    <tr>\n",
              "      <th>Young Sherlock Holmes (1985)</th>\n",
              "      <td>3.390501</td>\n",
              "    </tr>\n",
              "    <tr>\n",
              "      <th>Zero Effect (1998)</th>\n",
              "      <td>3.750831</td>\n",
              "    </tr>\n",
              "    <tr>\n",
              "      <th>eXistenZ (1999)</th>\n",
              "      <td>3.256098</td>\n",
              "    </tr>\n",
              "  </tbody>\n",
              "</table>\n",
              "<p>1216 rows × 1 columns</p>\n",
              "</div>"
            ],
            "text/plain": [
              "                                     rating\n",
              "title                                      \n",
              "'burbs, The (1989)                 2.910891\n",
              "10 Things I Hate About You (1999)  3.422857\n",
              "101 Dalmatians (1961)              3.596460\n",
              "101 Dalmatians (1996)              3.046703\n",
              "12 Angry Men (1957)                4.295455\n",
              "...                                     ...\n",
              "Young Guns (1988)                  3.418149\n",
              "Young Guns II (1990)               2.907859\n",
              "Young Sherlock Holmes (1985)       3.390501\n",
              "Zero Effect (1998)                 3.750831\n",
              "eXistenZ (1999)                    3.256098\n",
              "\n",
              "[1216 rows x 1 columns]"
            ]
          },
          "metadata": {
            "tags": []
          },
          "execution_count": 54
        }
      ]
    },
    {
      "cell_type": "markdown",
      "metadata": {
        "id": "WtoxIaKMMLqO"
      },
      "source": [
        "now, lets sort them by rating, descending order, and plot the top movie ratings"
      ]
    },
    {
      "cell_type": "code",
      "metadata": {
        "colab": {
          "base_uri": "https://localhost:8080/",
          "height": 700
        },
        "id": "RfUIoG3aIZ5G",
        "outputId": "e3274845-fd86-47bb-bf17-a26e377addeb"
      },
      "source": [
        "top_10 = mean_ratings.sort_values(by='rating',ascending=False)\n",
        "ax = top_10.head(30).plot(kind='barh', figsize=(12,12))\n",
        "ax.invert_yaxis()\n"
      ],
      "execution_count": 52,
      "outputs": [
        {
          "output_type": "display_data",
          "data": {
            "image/png": "[encoded data removed]",
            "text/plain": [
              "<Figure size 864x864 with 1 Axes>"
            ]
          },
          "metadata": {
            "tags": [],
            "needs_background": "light"
          }
        }
      ]
    }
  ]
}
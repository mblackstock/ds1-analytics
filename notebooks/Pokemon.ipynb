{
  "nbformat": 4,
  "nbformat_minor": 0,
  "metadata": {
    "colab": {
      "name": "Pokemon.ipynb",
      "provenance": [],
      "authorship_tag": "ABX9TyOoDGRTDyUhAtwWk/0/ORFu",
      "include_colab_link": true
    },
    "kernelspec": {
      "name": "python3",
      "display_name": "Python 3"
    },
    "language_info": {
      "name": "python"
    }
  },
  "cells": [
    {
      "cell_type": "markdown",
      "metadata": {
        "id": "view-in-github",
        "colab_type": "text"
      },
      "source": [
        "<a href=\"https://colab.research.google.com/github/mblackstock/notebooks/blob/main/notebooks/Pokemon.ipynb\" target=\"_parent\"><img src=\"https://colab.research.google.com/assets/colab-badge.svg\" alt=\"Open In Colab\"/></a>"
      ]
    },
    {
      "cell_type": "markdown",
      "metadata": {
        "id": "hSSN2UHNTOjJ"
      },
      "source": [
        "Pokemon dataset and analysis\n",
        "\n",
        "References\n",
        "*   https://www.kaggle.com/rounakbanik/pokemon\n",
        "*   https://www.kaggle.com/mmetter/pokemon-data-analysis-tutorial\n"
      ]
    },
    {
      "cell_type": "code",
      "metadata": {
        "colab": {
          "base_uri": "https://localhost:8080/"
        },
        "id": "JrV6c4iXLJ3u",
        "outputId": "e30e694b-7263-4e90-9f48-890ff91a375e"
      },
      "source": [
        "!rm -rf notebooks\n",
        "!git clone https://github.com/mblackstock/notebooks.git"
      ],
      "execution_count": 2,
      "outputs": [
        {
          "output_type": "stream",
          "text": [
            "Cloning into 'notebooks'...\n",
            "remote: Enumerating objects: 259, done.\u001b[K\n",
            "remote: Counting objects: 100% (259/259), done.\u001b[K\n",
            "remote: Compressing objects: 100% (249/249), done.\u001b[K\n",
            "remote: Total 259 (delta 42), reused 171 (delta 3), pack-reused 0\u001b[K\n",
            "Receiving objects: 100% (259/259), 15.64 MiB | 10.81 MiB/s, done.\n",
            "Resolving deltas: 100% (42/42), done.\n"
          ],
          "name": "stdout"
        }
      ]
    },
    {
      "cell_type": "code",
      "metadata": {
        "colab": {
          "base_uri": "https://localhost:8080/",
          "height": 343
        },
        "id": "kUgHcZqMKw_o",
        "outputId": "22a11285-1816-479c-b1c8-1aed98e1d93f"
      },
      "source": [
        "import numpy as np # linear algebra\n",
        "import pandas as pd # data processing, CSV file I/O (e.g. pd.read_csv)\n",
        "import matplotlib as plt # data visualization\n",
        "\n",
        "import seaborn as sns #data visualization\n",
        "import random \n",
        "\n",
        "random.seed(1)\n",
        "# Import the dataset\n",
        "pokemon = pd.read_csv(\"notebooks/data/pokemon/pokemon.csv\")\n",
        "# rename the column with a pound sign/hashtag as \"number\" its name\n",
        "# The reason for this is when  we try and access this column later it will comment out the code\n",
        "pokemon = pokemon.rename(index=str, columns={\"#\": \"Number\"})\n",
        "combat = pd.read_csv(\"notebooks/data/pokemon/combats.csv\")\n",
        "pokemon.head()"
      ],
      "execution_count": 3,
      "outputs": [
        {
          "output_type": "execute_result",
          "data": {
            "text/html": [
              "<div>\n",
              "<style scoped>\n",
              "    .dataframe tbody tr th:only-of-type {\n",
              "        vertical-align: middle;\n",
              "    }\n",
              "\n",
              "    .dataframe tbody tr th {\n",
              "        vertical-align: top;\n",
              "    }\n",
              "\n",
              "    .dataframe thead th {\n",
              "        text-align: right;\n",
              "    }\n",
              "</style>\n",
              "<table border=\"1\" class=\"dataframe\">\n",
              "  <thead>\n",
              "    <tr style=\"text-align: right;\">\n",
              "      <th></th>\n",
              "      <th>abilities</th>\n",
              "      <th>against_bug</th>\n",
              "      <th>against_dark</th>\n",
              "      <th>against_dragon</th>\n",
              "      <th>against_electric</th>\n",
              "      <th>against_fairy</th>\n",
              "      <th>against_fight</th>\n",
              "      <th>against_fire</th>\n",
              "      <th>against_flying</th>\n",
              "      <th>against_ghost</th>\n",
              "      <th>against_grass</th>\n",
              "      <th>against_ground</th>\n",
              "      <th>against_ice</th>\n",
              "      <th>against_normal</th>\n",
              "      <th>against_poison</th>\n",
              "      <th>against_psychic</th>\n",
              "      <th>against_rock</th>\n",
              "      <th>against_steel</th>\n",
              "      <th>against_water</th>\n",
              "      <th>attack</th>\n",
              "      <th>base_egg_steps</th>\n",
              "      <th>base_happiness</th>\n",
              "      <th>base_total</th>\n",
              "      <th>capture_rate</th>\n",
              "      <th>classfication</th>\n",
              "      <th>defense</th>\n",
              "      <th>experience_growth</th>\n",
              "      <th>height_m</th>\n",
              "      <th>hp</th>\n",
              "      <th>japanese_name</th>\n",
              "      <th>name</th>\n",
              "      <th>percentage_male</th>\n",
              "      <th>pokedex_number</th>\n",
              "      <th>sp_attack</th>\n",
              "      <th>sp_defense</th>\n",
              "      <th>speed</th>\n",
              "      <th>type1</th>\n",
              "      <th>type2</th>\n",
              "      <th>weight_kg</th>\n",
              "      <th>generation</th>\n",
              "      <th>is_legendary</th>\n",
              "    </tr>\n",
              "  </thead>\n",
              "  <tbody>\n",
              "    <tr>\n",
              "      <th>0</th>\n",
              "      <td>['Overgrow', 'Chlorophyll']</td>\n",
              "      <td>1.0</td>\n",
              "      <td>1.0</td>\n",
              "      <td>1.0</td>\n",
              "      <td>0.5</td>\n",
              "      <td>0.5</td>\n",
              "      <td>0.5</td>\n",
              "      <td>2.0</td>\n",
              "      <td>2.0</td>\n",
              "      <td>1.0</td>\n",
              "      <td>0.25</td>\n",
              "      <td>1.0</td>\n",
              "      <td>2.0</td>\n",
              "      <td>1.0</td>\n",
              "      <td>1.0</td>\n",
              "      <td>2.0</td>\n",
              "      <td>1.0</td>\n",
              "      <td>1.0</td>\n",
              "      <td>0.5</td>\n",
              "      <td>49</td>\n",
              "      <td>5120</td>\n",
              "      <td>70</td>\n",
              "      <td>318</td>\n",
              "      <td>45</td>\n",
              "      <td>Seed Pokémon</td>\n",
              "      <td>49</td>\n",
              "      <td>1059860</td>\n",
              "      <td>0.7</td>\n",
              "      <td>45</td>\n",
              "      <td>Fushigidaneフシギダネ</td>\n",
              "      <td>Bulbasaur</td>\n",
              "      <td>88.1</td>\n",
              "      <td>1</td>\n",
              "      <td>65</td>\n",
              "      <td>65</td>\n",
              "      <td>45</td>\n",
              "      <td>grass</td>\n",
              "      <td>poison</td>\n",
              "      <td>6.9</td>\n",
              "      <td>1</td>\n",
              "      <td>0</td>\n",
              "    </tr>\n",
              "    <tr>\n",
              "      <th>1</th>\n",
              "      <td>['Overgrow', 'Chlorophyll']</td>\n",
              "      <td>1.0</td>\n",
              "      <td>1.0</td>\n",
              "      <td>1.0</td>\n",
              "      <td>0.5</td>\n",
              "      <td>0.5</td>\n",
              "      <td>0.5</td>\n",
              "      <td>2.0</td>\n",
              "      <td>2.0</td>\n",
              "      <td>1.0</td>\n",
              "      <td>0.25</td>\n",
              "      <td>1.0</td>\n",
              "      <td>2.0</td>\n",
              "      <td>1.0</td>\n",
              "      <td>1.0</td>\n",
              "      <td>2.0</td>\n",
              "      <td>1.0</td>\n",
              "      <td>1.0</td>\n",
              "      <td>0.5</td>\n",
              "      <td>62</td>\n",
              "      <td>5120</td>\n",
              "      <td>70</td>\n",
              "      <td>405</td>\n",
              "      <td>45</td>\n",
              "      <td>Seed Pokémon</td>\n",
              "      <td>63</td>\n",
              "      <td>1059860</td>\n",
              "      <td>1.0</td>\n",
              "      <td>60</td>\n",
              "      <td>Fushigisouフシギソウ</td>\n",
              "      <td>Ivysaur</td>\n",
              "      <td>88.1</td>\n",
              "      <td>2</td>\n",
              "      <td>80</td>\n",
              "      <td>80</td>\n",
              "      <td>60</td>\n",
              "      <td>grass</td>\n",
              "      <td>poison</td>\n",
              "      <td>13.0</td>\n",
              "      <td>1</td>\n",
              "      <td>0</td>\n",
              "    </tr>\n",
              "    <tr>\n",
              "      <th>2</th>\n",
              "      <td>['Overgrow', 'Chlorophyll']</td>\n",
              "      <td>1.0</td>\n",
              "      <td>1.0</td>\n",
              "      <td>1.0</td>\n",
              "      <td>0.5</td>\n",
              "      <td>0.5</td>\n",
              "      <td>0.5</td>\n",
              "      <td>2.0</td>\n",
              "      <td>2.0</td>\n",
              "      <td>1.0</td>\n",
              "      <td>0.25</td>\n",
              "      <td>1.0</td>\n",
              "      <td>2.0</td>\n",
              "      <td>1.0</td>\n",
              "      <td>1.0</td>\n",
              "      <td>2.0</td>\n",
              "      <td>1.0</td>\n",
              "      <td>1.0</td>\n",
              "      <td>0.5</td>\n",
              "      <td>100</td>\n",
              "      <td>5120</td>\n",
              "      <td>70</td>\n",
              "      <td>625</td>\n",
              "      <td>45</td>\n",
              "      <td>Seed Pokémon</td>\n",
              "      <td>123</td>\n",
              "      <td>1059860</td>\n",
              "      <td>2.0</td>\n",
              "      <td>80</td>\n",
              "      <td>Fushigibanaフシギバナ</td>\n",
              "      <td>Venusaur</td>\n",
              "      <td>88.1</td>\n",
              "      <td>3</td>\n",
              "      <td>122</td>\n",
              "      <td>120</td>\n",
              "      <td>80</td>\n",
              "      <td>grass</td>\n",
              "      <td>poison</td>\n",
              "      <td>100.0</td>\n",
              "      <td>1</td>\n",
              "      <td>0</td>\n",
              "    </tr>\n",
              "    <tr>\n",
              "      <th>3</th>\n",
              "      <td>['Blaze', 'Solar Power']</td>\n",
              "      <td>0.5</td>\n",
              "      <td>1.0</td>\n",
              "      <td>1.0</td>\n",
              "      <td>1.0</td>\n",
              "      <td>0.5</td>\n",
              "      <td>1.0</td>\n",
              "      <td>0.5</td>\n",
              "      <td>1.0</td>\n",
              "      <td>1.0</td>\n",
              "      <td>0.50</td>\n",
              "      <td>2.0</td>\n",
              "      <td>0.5</td>\n",
              "      <td>1.0</td>\n",
              "      <td>1.0</td>\n",
              "      <td>1.0</td>\n",
              "      <td>2.0</td>\n",
              "      <td>0.5</td>\n",
              "      <td>2.0</td>\n",
              "      <td>52</td>\n",
              "      <td>5120</td>\n",
              "      <td>70</td>\n",
              "      <td>309</td>\n",
              "      <td>45</td>\n",
              "      <td>Lizard Pokémon</td>\n",
              "      <td>43</td>\n",
              "      <td>1059860</td>\n",
              "      <td>0.6</td>\n",
              "      <td>39</td>\n",
              "      <td>Hitokageヒトカゲ</td>\n",
              "      <td>Charmander</td>\n",
              "      <td>88.1</td>\n",
              "      <td>4</td>\n",
              "      <td>60</td>\n",
              "      <td>50</td>\n",
              "      <td>65</td>\n",
              "      <td>fire</td>\n",
              "      <td>NaN</td>\n",
              "      <td>8.5</td>\n",
              "      <td>1</td>\n",
              "      <td>0</td>\n",
              "    </tr>\n",
              "    <tr>\n",
              "      <th>4</th>\n",
              "      <td>['Blaze', 'Solar Power']</td>\n",
              "      <td>0.5</td>\n",
              "      <td>1.0</td>\n",
              "      <td>1.0</td>\n",
              "      <td>1.0</td>\n",
              "      <td>0.5</td>\n",
              "      <td>1.0</td>\n",
              "      <td>0.5</td>\n",
              "      <td>1.0</td>\n",
              "      <td>1.0</td>\n",
              "      <td>0.50</td>\n",
              "      <td>2.0</td>\n",
              "      <td>0.5</td>\n",
              "      <td>1.0</td>\n",
              "      <td>1.0</td>\n",
              "      <td>1.0</td>\n",
              "      <td>2.0</td>\n",
              "      <td>0.5</td>\n",
              "      <td>2.0</td>\n",
              "      <td>64</td>\n",
              "      <td>5120</td>\n",
              "      <td>70</td>\n",
              "      <td>405</td>\n",
              "      <td>45</td>\n",
              "      <td>Flame Pokémon</td>\n",
              "      <td>58</td>\n",
              "      <td>1059860</td>\n",
              "      <td>1.1</td>\n",
              "      <td>58</td>\n",
              "      <td>Lizardoリザード</td>\n",
              "      <td>Charmeleon</td>\n",
              "      <td>88.1</td>\n",
              "      <td>5</td>\n",
              "      <td>80</td>\n",
              "      <td>65</td>\n",
              "      <td>80</td>\n",
              "      <td>fire</td>\n",
              "      <td>NaN</td>\n",
              "      <td>19.0</td>\n",
              "      <td>1</td>\n",
              "      <td>0</td>\n",
              "    </tr>\n",
              "  </tbody>\n",
              "</table>\n",
              "</div>"
            ],
            "text/plain": [
              "                     abilities  against_bug  ...  generation  is_legendary\n",
              "0  ['Overgrow', 'Chlorophyll']          1.0  ...           1             0\n",
              "1  ['Overgrow', 'Chlorophyll']          1.0  ...           1             0\n",
              "2  ['Overgrow', 'Chlorophyll']          1.0  ...           1             0\n",
              "3     ['Blaze', 'Solar Power']          0.5  ...           1             0\n",
              "4     ['Blaze', 'Solar Power']          0.5  ...           1             0\n",
              "\n",
              "[5 rows x 41 columns]"
            ]
          },
          "metadata": {
            "tags": []
          },
          "execution_count": 3
        }
      ]
    },
    {
      "cell_type": "code",
      "metadata": {
        "colab": {
          "base_uri": "https://localhost:8080/",
          "height": 204
        },
        "id": "Q937Uo6AL27K",
        "outputId": "74176c38-9a4b-477d-da21-38a734512e22"
      },
      "source": [
        "combat.head()"
      ],
      "execution_count": 4,
      "outputs": [
        {
          "output_type": "execute_result",
          "data": {
            "text/html": [
              "<div>\n",
              "<style scoped>\n",
              "    .dataframe tbody tr th:only-of-type {\n",
              "        vertical-align: middle;\n",
              "    }\n",
              "\n",
              "    .dataframe tbody tr th {\n",
              "        vertical-align: top;\n",
              "    }\n",
              "\n",
              "    .dataframe thead th {\n",
              "        text-align: right;\n",
              "    }\n",
              "</style>\n",
              "<table border=\"1\" class=\"dataframe\">\n",
              "  <thead>\n",
              "    <tr style=\"text-align: right;\">\n",
              "      <th></th>\n",
              "      <th>First_pokemon</th>\n",
              "      <th>Second_pokemon</th>\n",
              "      <th>Winner</th>\n",
              "    </tr>\n",
              "  </thead>\n",
              "  <tbody>\n",
              "    <tr>\n",
              "      <th>0</th>\n",
              "      <td>266</td>\n",
              "      <td>298</td>\n",
              "      <td>298</td>\n",
              "    </tr>\n",
              "    <tr>\n",
              "      <th>1</th>\n",
              "      <td>702</td>\n",
              "      <td>701</td>\n",
              "      <td>701</td>\n",
              "    </tr>\n",
              "    <tr>\n",
              "      <th>2</th>\n",
              "      <td>191</td>\n",
              "      <td>668</td>\n",
              "      <td>668</td>\n",
              "    </tr>\n",
              "    <tr>\n",
              "      <th>3</th>\n",
              "      <td>237</td>\n",
              "      <td>683</td>\n",
              "      <td>683</td>\n",
              "    </tr>\n",
              "    <tr>\n",
              "      <th>4</th>\n",
              "      <td>151</td>\n",
              "      <td>231</td>\n",
              "      <td>151</td>\n",
              "    </tr>\n",
              "  </tbody>\n",
              "</table>\n",
              "</div>"
            ],
            "text/plain": [
              "   First_pokemon  Second_pokemon  Winner\n",
              "0            266             298     298\n",
              "1            702             701     701\n",
              "2            191             668     668\n",
              "3            237             683     683\n",
              "4            151             231     151"
            ]
          },
          "metadata": {
            "tags": []
          },
          "execution_count": 4
        }
      ]
    },
    {
      "cell_type": "code",
      "metadata": {
        "colab": {
          "base_uri": "https://localhost:8080/"
        },
        "id": "7GpHfRgjMGpr",
        "outputId": "f8ac1471-869b-481d-9ae8-3614e0831b0e"
      },
      "source": [
        "print(\"Dimenstions of Pokemon: \" + str(pokemon.shape))\n",
        "print(\"Dimenstions of Combat: \" + str(combat.shape))"
      ],
      "execution_count": 5,
      "outputs": [
        {
          "output_type": "stream",
          "text": [
            "Dimenstions of Pokemon: (801, 41)\n",
            "Dimenstions of Combat: (50000, 3)\n"
          ],
          "name": "stdout"
        }
      ]
    },
    {
      "cell_type": "markdown",
      "metadata": {
        "id": "b9hSQz0pMl8e"
      },
      "source": [
        "Lets look for some missing data.  Why are there missing type2 entries?  Why are there missing heights?"
      ]
    },
    {
      "cell_type": "code",
      "metadata": {
        "colab": {
          "base_uri": "https://localhost:8080/"
        },
        "id": "24L8zmypMhH0",
        "outputId": "48791757-cfed-455e-d862-5ad776ea4396"
      },
      "source": [
        "pokemon.isnull().sum()"
      ],
      "execution_count": 6,
      "outputs": [
        {
          "output_type": "execute_result",
          "data": {
            "text/plain": [
              "abilities              0\n",
              "against_bug            0\n",
              "against_dark           0\n",
              "against_dragon         0\n",
              "against_electric       0\n",
              "against_fairy          0\n",
              "against_fight          0\n",
              "against_fire           0\n",
              "against_flying         0\n",
              "against_ghost          0\n",
              "against_grass          0\n",
              "against_ground         0\n",
              "against_ice            0\n",
              "against_normal         0\n",
              "against_poison         0\n",
              "against_psychic        0\n",
              "against_rock           0\n",
              "against_steel          0\n",
              "against_water          0\n",
              "attack                 0\n",
              "base_egg_steps         0\n",
              "base_happiness         0\n",
              "base_total             0\n",
              "capture_rate           0\n",
              "classfication          0\n",
              "defense                0\n",
              "experience_growth      0\n",
              "height_m              20\n",
              "hp                     0\n",
              "japanese_name          0\n",
              "name                   0\n",
              "percentage_male       98\n",
              "pokedex_number         0\n",
              "sp_attack              0\n",
              "sp_defense             0\n",
              "speed                  0\n",
              "type1                  0\n",
              "type2                384\n",
              "weight_kg             20\n",
              "generation             0\n",
              "is_legendary           0\n",
              "dtype: int64"
            ]
          },
          "metadata": {
            "tags": []
          },
          "execution_count": 6
        }
      ]
    },
    {
      "cell_type": "code",
      "metadata": {
        "colab": {
          "base_uri": "https://localhost:8080/"
        },
        "id": "oU4CukRVOVOG",
        "outputId": "55c3ff3a-120a-4c31-fc34-46f91cf1926f"
      },
      "source": [
        "# calculate the win % of each pokemon \n",
        "# add the calculation to the pokemon dataset \n",
        "total_Wins = combat.Winner.value_counts()\n",
        "total_Wins\n"
      ],
      "execution_count": 14,
      "outputs": [
        {
          "output_type": "execute_result",
          "data": {
            "text/plain": [
              "163    152\n",
              "154    136\n",
              "438    136\n",
              "428    134\n",
              "432    133\n",
              "      ... \n",
              "189      5\n",
              "237      4\n",
              "639      4\n",
              "190      3\n",
              "290      3\n",
              "Name: Winner, Length: 783, dtype: int64"
            ]
          },
          "metadata": {
            "tags": []
          },
          "execution_count": 14
        }
      ]
    },
    {
      "cell_type": "code",
      "metadata": {
        "colab": {
          "base_uri": "https://localhost:8080/",
          "height": 450
        },
        "id": "wXGZgX3DQZze",
        "outputId": "a1b0e5cf-5c66-4ab0-98e2-d0db3361458f"
      },
      "source": [
        "# get the number of wins for each pokemon\n",
        "numberOfWins = combat.groupby('Winner').count()\n",
        "numberOfWins"
      ],
      "execution_count": 15,
      "outputs": [
        {
          "output_type": "execute_result",
          "data": {
            "text/html": [
              "<div>\n",
              "<style scoped>\n",
              "    .dataframe tbody tr th:only-of-type {\n",
              "        vertical-align: middle;\n",
              "    }\n",
              "\n",
              "    .dataframe tbody tr th {\n",
              "        vertical-align: top;\n",
              "    }\n",
              "\n",
              "    .dataframe thead th {\n",
              "        text-align: right;\n",
              "    }\n",
              "</style>\n",
              "<table border=\"1\" class=\"dataframe\">\n",
              "  <thead>\n",
              "    <tr style=\"text-align: right;\">\n",
              "      <th></th>\n",
              "      <th>First_pokemon</th>\n",
              "      <th>Second_pokemon</th>\n",
              "    </tr>\n",
              "    <tr>\n",
              "      <th>Winner</th>\n",
              "      <th></th>\n",
              "      <th></th>\n",
              "    </tr>\n",
              "  </thead>\n",
              "  <tbody>\n",
              "    <tr>\n",
              "      <th>1</th>\n",
              "      <td>37</td>\n",
              "      <td>37</td>\n",
              "    </tr>\n",
              "    <tr>\n",
              "      <th>2</th>\n",
              "      <td>46</td>\n",
              "      <td>46</td>\n",
              "    </tr>\n",
              "    <tr>\n",
              "      <th>3</th>\n",
              "      <td>89</td>\n",
              "      <td>89</td>\n",
              "    </tr>\n",
              "    <tr>\n",
              "      <th>4</th>\n",
              "      <td>70</td>\n",
              "      <td>70</td>\n",
              "    </tr>\n",
              "    <tr>\n",
              "      <th>5</th>\n",
              "      <td>55</td>\n",
              "      <td>55</td>\n",
              "    </tr>\n",
              "    <tr>\n",
              "      <th>...</th>\n",
              "      <td>...</td>\n",
              "      <td>...</td>\n",
              "    </tr>\n",
              "    <tr>\n",
              "      <th>796</th>\n",
              "      <td>39</td>\n",
              "      <td>39</td>\n",
              "    </tr>\n",
              "    <tr>\n",
              "      <th>797</th>\n",
              "      <td>116</td>\n",
              "      <td>116</td>\n",
              "    </tr>\n",
              "    <tr>\n",
              "      <th>798</th>\n",
              "      <td>60</td>\n",
              "      <td>60</td>\n",
              "    </tr>\n",
              "    <tr>\n",
              "      <th>799</th>\n",
              "      <td>89</td>\n",
              "      <td>89</td>\n",
              "    </tr>\n",
              "    <tr>\n",
              "      <th>800</th>\n",
              "      <td>75</td>\n",
              "      <td>75</td>\n",
              "    </tr>\n",
              "  </tbody>\n",
              "</table>\n",
              "<p>783 rows × 2 columns</p>\n",
              "</div>"
            ],
            "text/plain": [
              "        First_pokemon  Second_pokemon\n",
              "Winner                               \n",
              "1                  37              37\n",
              "2                  46              46\n",
              "3                  89              89\n",
              "4                  70              70\n",
              "5                  55              55\n",
              "...               ...             ...\n",
              "796                39              39\n",
              "797               116             116\n",
              "798                60              60\n",
              "799                89              89\n",
              "800                75              75\n",
              "\n",
              "[783 rows x 2 columns]"
            ]
          },
          "metadata": {
            "tags": []
          },
          "execution_count": 15
        }
      ]
    },
    {
      "cell_type": "code",
      "metadata": {
        "colab": {
          "base_uri": "https://localhost:8080/",
          "height": 450
        },
        "id": "Wq8rVo7JQgVl",
        "outputId": "b7995180-d3c9-461f-d1d3-3717e3ef69a0"
      },
      "source": [
        "#both methods produce the same results\n",
        "countByFirst = combat.groupby('Second_pokemon').count()\n",
        "countBySecond = combat.groupby('First_pokemon').count()\n",
        "countByFirst\n",
        "\n"
      ],
      "execution_count": 16,
      "outputs": [
        {
          "output_type": "execute_result",
          "data": {
            "text/html": [
              "<div>\n",
              "<style scoped>\n",
              "    .dataframe tbody tr th:only-of-type {\n",
              "        vertical-align: middle;\n",
              "    }\n",
              "\n",
              "    .dataframe tbody tr th {\n",
              "        vertical-align: top;\n",
              "    }\n",
              "\n",
              "    .dataframe thead th {\n",
              "        text-align: right;\n",
              "    }\n",
              "</style>\n",
              "<table border=\"1\" class=\"dataframe\">\n",
              "  <thead>\n",
              "    <tr style=\"text-align: right;\">\n",
              "      <th></th>\n",
              "      <th>First_pokemon</th>\n",
              "      <th>Winner</th>\n",
              "    </tr>\n",
              "    <tr>\n",
              "      <th>Second_pokemon</th>\n",
              "      <th></th>\n",
              "      <th></th>\n",
              "    </tr>\n",
              "  </thead>\n",
              "  <tbody>\n",
              "    <tr>\n",
              "      <th>1</th>\n",
              "      <td>63</td>\n",
              "      <td>63</td>\n",
              "    </tr>\n",
              "    <tr>\n",
              "      <th>2</th>\n",
              "      <td>66</td>\n",
              "      <td>66</td>\n",
              "    </tr>\n",
              "    <tr>\n",
              "      <th>3</th>\n",
              "      <td>64</td>\n",
              "      <td>64</td>\n",
              "    </tr>\n",
              "    <tr>\n",
              "      <th>4</th>\n",
              "      <td>63</td>\n",
              "      <td>63</td>\n",
              "    </tr>\n",
              "    <tr>\n",
              "      <th>5</th>\n",
              "      <td>62</td>\n",
              "      <td>62</td>\n",
              "    </tr>\n",
              "    <tr>\n",
              "      <th>...</th>\n",
              "      <td>...</td>\n",
              "      <td>...</td>\n",
              "    </tr>\n",
              "    <tr>\n",
              "      <th>796</th>\n",
              "      <td>56</td>\n",
              "      <td>56</td>\n",
              "    </tr>\n",
              "    <tr>\n",
              "      <th>797</th>\n",
              "      <td>67</td>\n",
              "      <td>67</td>\n",
              "    </tr>\n",
              "    <tr>\n",
              "      <th>798</th>\n",
              "      <td>59</td>\n",
              "      <td>59</td>\n",
              "    </tr>\n",
              "    <tr>\n",
              "      <th>799</th>\n",
              "      <td>69</td>\n",
              "      <td>69</td>\n",
              "    </tr>\n",
              "    <tr>\n",
              "      <th>800</th>\n",
              "      <td>60</td>\n",
              "      <td>60</td>\n",
              "    </tr>\n",
              "  </tbody>\n",
              "</table>\n",
              "<p>784 rows × 2 columns</p>\n",
              "</div>"
            ],
            "text/plain": [
              "                First_pokemon  Winner\n",
              "Second_pokemon                       \n",
              "1                          63      63\n",
              "2                          66      66\n",
              "3                          64      64\n",
              "4                          63      63\n",
              "5                          62      62\n",
              "...                       ...     ...\n",
              "796                        56      56\n",
              "797                        67      67\n",
              "798                        59      59\n",
              "799                        69      69\n",
              "800                        60      60\n",
              "\n",
              "[784 rows x 2 columns]"
            ]
          },
          "metadata": {
            "tags": []
          },
          "execution_count": 16
        }
      ]
    },
    {
      "cell_type": "code",
      "metadata": {
        "colab": {
          "base_uri": "https://localhost:8080/"
        },
        "id": "3cT9hx-NRAsV",
        "outputId": "71dc4980-3f52-4f70-fa3c-3b7ba3f6442e"
      },
      "source": [
        "print(\"Looking at the dimensions of our dataframes\")\n",
        "print(\"Count by first winner shape: \" + str(countByFirst.shape))\n",
        "print(\"Count by second winner shape: \" + str(countBySecond.shape))\n",
        "print(\"Total Wins shape : \" + str(total_Wins.shape))"
      ],
      "execution_count": 17,
      "outputs": [
        {
          "output_type": "stream",
          "text": [
            "Looking at the dimensions of our dataframes\n",
            "Count by first winner shape: (784, 2)\n",
            "Count by second winner shape: (784, 2)\n",
            "Total Wins shape : (783,)\n"
          ],
          "name": "stdout"
        }
      ]
    },
    {
      "cell_type": "markdown",
      "metadata": {
        "id": "7axLsKe9RNGT"
      },
      "source": [
        "Since the total wins has fewer rows than the first and second winner shape, one of the pokemon never won."
      ]
    },
    {
      "cell_type": "code",
      "metadata": {
        "colab": {
          "base_uri": "https://localhost:8080/"
        },
        "id": "OFmpZ6jtRZ4e",
        "outputId": "180a2977-d9c0-4444-c4b4-1b14b42184e1"
      },
      "source": [
        "find_losing_pokemon= np.setdiff1d(countByFirst.index.values, numberOfWins.index.values)-1 #offset because the index and pokedex number are off by one\n",
        "losing_pokemon = pokemon.iloc[find_losing_pokemon[0]] # using the number as the pokemon index\n",
        "print(losing_pokemon)"
      ],
      "execution_count": 26,
      "outputs": [
        {
          "output_type": "stream",
          "text": [
            "abilities            ['Pickup', 'Sand Veil']\n",
            "against_bug                                1\n",
            "against_dark                               1\n",
            "against_dragon                             1\n",
            "against_electric                           0\n",
            "against_fairy                              1\n",
            "against_fight                              1\n",
            "against_fire                               1\n",
            "against_flying                             1\n",
            "against_ghost                              1\n",
            "against_grass                              2\n",
            "against_ground                             1\n",
            "against_ice                                2\n",
            "against_normal                             1\n",
            "against_poison                           0.5\n",
            "against_psychic                            1\n",
            "against_rock                             0.5\n",
            "against_steel                              1\n",
            "against_water                              2\n",
            "attack                                    60\n",
            "base_egg_steps                          5120\n",
            "base_happiness                            70\n",
            "base_total                               330\n",
            "capture_rate                             120\n",
            "classfication              Long Nose Pokémon\n",
            "defense                                   60\n",
            "experience_growth                    1000000\n",
            "height_m                                 0.5\n",
            "hp                                        90\n",
            "japanese_name                    Gomazouゴマゾウ\n",
            "name                                  Phanpy\n",
            "percentage_male                           50\n",
            "pokedex_number                           231\n",
            "sp_attack                                 40\n",
            "sp_defense                                40\n",
            "speed                                     40\n",
            "type1                                 ground\n",
            "type2                                    NaN\n",
            "weight_kg                               33.5\n",
            "generation                                 2\n",
            "is_legendary                               0\n",
            "Name: 230, dtype: object\n"
          ],
          "name": "stdout"
        }
      ]
    }
  ]
}
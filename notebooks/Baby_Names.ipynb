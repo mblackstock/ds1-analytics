{
  "nbformat": 4,
  "nbformat_minor": 0,
  "metadata": {
    "colab": {
      "name": "Baby Names.ipynb",
      "provenance": [],
      "authorship_tag": "ABX9TyMAOawpIV70USuhmEPN6twY",
      "include_colab_link": true
    },
    "kernelspec": {
      "name": "python3",
      "display_name": "Python 3"
    },
    "language_info": {
      "name": "python"
    }
  },
  "cells": [
    {
      "cell_type": "markdown",
      "metadata": {
        "id": "view-in-github",
        "colab_type": "text"
      },
      "source": [
        "<a href=\"https://colab.research.google.com/github/mblackstock/notebooks/blob/main/notebooks/Baby_Names.ipynb\" target=\"_parent\"><img src=\"https://colab.research.google.com/assets/colab-badge.svg\" alt=\"Open In Colab\"/></a>"
      ]
    },
    {
      "cell_type": "markdown",
      "metadata": {
        "id": "uHEAhACKqJ1L"
      },
      "source": [
        "# Baby names part 1\n",
        "\n",
        "First, lets get the baby names data.  You can find it yourself at https://www.ssa.gov/oact/babynames/limits.html\n",
        "\n",
        "I've stored it in my github repository at mblackstock/notebooks"
      ]
    },
    {
      "cell_type": "code",
      "metadata": {
        "colab": {
          "base_uri": "https://localhost:8080/"
        },
        "id": "cHGUvsi2qPsE",
        "outputId": "760aa756-f7fc-4cd6-b3ce-bf3a539e1fbf"
      },
      "source": [
        "!git clone https://github.com/mblackstock/notebooks.git\n",
        "!ls"
      ],
      "execution_count": 1,
      "outputs": [
        {
          "output_type": "stream",
          "text": [
            "Cloning into 'notebooks'...\n",
            "remote: Enumerating objects: 207, done.\u001b[K\n",
            "remote: Counting objects: 100% (207/207), done.\u001b[K\n",
            "remote: Compressing objects: 100% (204/204), done.\u001b[K\n",
            "remote: Total 207 (delta 25), reused 146 (delta 0), pack-reused 0\u001b[K\n",
            "Receiving objects: 100% (207/207), 8.37 MiB | 19.35 MiB/s, done.\n",
            "Resolving deltas: 100% (25/25), done.\n"
          ],
          "name": "stdout"
        }
      ]
    },
    {
      "cell_type": "markdown",
      "metadata": {
        "id": "gz64r70rwu9m"
      },
      "source": [
        "Let's load up one of the files and have a look at it:"
      ]
    },
    {
      "cell_type": "code",
      "metadata": {
        "colab": {
          "base_uri": "https://localhost:8080/",
          "height": 419
        },
        "id": "3aeqfgt0s6hH",
        "outputId": "6f011150-1d1c-4032-fb05-15492311efb1"
      },
      "source": [
        "import pandas as pd\n",
        "names1880 = pd.read_csv('notebooks/data/names/yob1880.txt', names=['name','sex','births'])\n",
        "names1880"
      ],
      "execution_count": 6,
      "outputs": [
        {
          "output_type": "execute_result",
          "data": {
            "text/html": [
              "<div>\n",
              "<style scoped>\n",
              "    .dataframe tbody tr th:only-of-type {\n",
              "        vertical-align: middle;\n",
              "    }\n",
              "\n",
              "    .dataframe tbody tr th {\n",
              "        vertical-align: top;\n",
              "    }\n",
              "\n",
              "    .dataframe thead th {\n",
              "        text-align: right;\n",
              "    }\n",
              "</style>\n",
              "<table border=\"1\" class=\"dataframe\">\n",
              "  <thead>\n",
              "    <tr style=\"text-align: right;\">\n",
              "      <th></th>\n",
              "      <th>name</th>\n",
              "      <th>sex</th>\n",
              "      <th>births</th>\n",
              "    </tr>\n",
              "  </thead>\n",
              "  <tbody>\n",
              "    <tr>\n",
              "      <th>0</th>\n",
              "      <td>Mary</td>\n",
              "      <td>F</td>\n",
              "      <td>7065</td>\n",
              "    </tr>\n",
              "    <tr>\n",
              "      <th>1</th>\n",
              "      <td>Anna</td>\n",
              "      <td>F</td>\n",
              "      <td>2604</td>\n",
              "    </tr>\n",
              "    <tr>\n",
              "      <th>2</th>\n",
              "      <td>Emma</td>\n",
              "      <td>F</td>\n",
              "      <td>2003</td>\n",
              "    </tr>\n",
              "    <tr>\n",
              "      <th>3</th>\n",
              "      <td>Elizabeth</td>\n",
              "      <td>F</td>\n",
              "      <td>1939</td>\n",
              "    </tr>\n",
              "    <tr>\n",
              "      <th>4</th>\n",
              "      <td>Minnie</td>\n",
              "      <td>F</td>\n",
              "      <td>1746</td>\n",
              "    </tr>\n",
              "    <tr>\n",
              "      <th>...</th>\n",
              "      <td>...</td>\n",
              "      <td>...</td>\n",
              "      <td>...</td>\n",
              "    </tr>\n",
              "    <tr>\n",
              "      <th>1995</th>\n",
              "      <td>Woodie</td>\n",
              "      <td>M</td>\n",
              "      <td>5</td>\n",
              "    </tr>\n",
              "    <tr>\n",
              "      <th>1996</th>\n",
              "      <td>Worthy</td>\n",
              "      <td>M</td>\n",
              "      <td>5</td>\n",
              "    </tr>\n",
              "    <tr>\n",
              "      <th>1997</th>\n",
              "      <td>Wright</td>\n",
              "      <td>M</td>\n",
              "      <td>5</td>\n",
              "    </tr>\n",
              "    <tr>\n",
              "      <th>1998</th>\n",
              "      <td>York</td>\n",
              "      <td>M</td>\n",
              "      <td>5</td>\n",
              "    </tr>\n",
              "    <tr>\n",
              "      <th>1999</th>\n",
              "      <td>Zachariah</td>\n",
              "      <td>M</td>\n",
              "      <td>5</td>\n",
              "    </tr>\n",
              "  </tbody>\n",
              "</table>\n",
              "<p>2000 rows × 3 columns</p>\n",
              "</div>"
            ],
            "text/plain": [
              "           name sex  births\n",
              "0          Mary   F    7065\n",
              "1          Anna   F    2604\n",
              "2          Emma   F    2003\n",
              "3     Elizabeth   F    1939\n",
              "4        Minnie   F    1746\n",
              "...         ...  ..     ...\n",
              "1995     Woodie   M       5\n",
              "1996     Worthy   M       5\n",
              "1997     Wright   M       5\n",
              "1998       York   M       5\n",
              "1999  Zachariah   M       5\n",
              "\n",
              "[2000 rows x 3 columns]"
            ]
          },
          "metadata": {
            "tags": []
          },
          "execution_count": 6
        }
      ]
    },
    {
      "cell_type": "markdown",
      "metadata": {
        "id": "1WUrAREkwziG"
      },
      "source": [
        "We can manipulate the data by summing up the number of births by sex:"
      ]
    },
    {
      "cell_type": "code",
      "metadata": {
        "colab": {
          "base_uri": "https://localhost:8080/"
        },
        "id": "bmZo5fcZtT1P",
        "outputId": "4b03e0b1-d0c4-480b-df1a-5d261c4d055d"
      },
      "source": [
        "names1880.groupby('sex').births.sum()"
      ],
      "execution_count": 7,
      "outputs": [
        {
          "output_type": "execute_result",
          "data": {
            "text/plain": [
              "sex\n",
              "F     90994\n",
              "M    110490\n",
              "Name: births, dtype: int64"
            ]
          },
          "metadata": {
            "tags": []
          },
          "execution_count": 7
        }
      ]
    },
    {
      "cell_type": "markdown",
      "metadata": {
        "id": "RcXfNdnEteGA"
      },
      "source": [
        "In this data set, all of the birth data is split up by year, so if we want to analyse all of the data together, we can load them all up using a for loop."
      ]
    },
    {
      "cell_type": "code",
      "metadata": {
        "id": "tRKKWZqnuFy5"
      },
      "source": [
        "years = range(1880, 2019)\n",
        "\n",
        "pieces = []\n",
        "columns = ['name', 'sex', 'births']\n",
        "\n",
        "for year in years:\n",
        "  path = 'notebooks/data/names/yob%d.txt' % year\n",
        "  frame = pd.read_csv(path, names=columns)\n",
        "  frame['year'] = year    # add a new column to the data frame\n",
        "  pieces.append(frame)\n"
      ],
      "execution_count": 10,
      "outputs": []
    },
    {
      "cell_type": "markdown",
      "metadata": {
        "id": "aaK3QGj1w_YZ"
      },
      "source": [
        "Then we concatenate all of the pieces to make one big data frame"
      ]
    },
    {
      "cell_type": "code",
      "metadata": {
        "id": "y8toEe5kxDMH"
      },
      "source": [
        "# now concatenate all of the pieces together into one big data frame\n",
        "names = pd.concat(pieces, ignore_index=True)"
      ],
      "execution_count": null,
      "outputs": []
    },
    {
      "cell_type": "markdown",
      "metadata": {
        "id": "i1-757UOxEX9"
      },
      "source": [
        "We can use the pivot_table function to sum up the number of births by year like this:"
      ]
    },
    {
      "cell_type": "code",
      "metadata": {
        "colab": {
          "base_uri": "https://localhost:8080/",
          "height": 450
        },
        "id": "9QitN36Yu-de",
        "outputId": "b12a0931-08f5-4254-a108-928af14ad5b2"
      },
      "source": [
        "total_births = names.pivot_table('births', index='year',columns='sex', aggfunc=sum)\n",
        "total_births"
      ],
      "execution_count": 18,
      "outputs": [
        {
          "output_type": "execute_result",
          "data": {
            "text/html": [
              "<div>\n",
              "<style scoped>\n",
              "    .dataframe tbody tr th:only-of-type {\n",
              "        vertical-align: middle;\n",
              "    }\n",
              "\n",
              "    .dataframe tbody tr th {\n",
              "        vertical-align: top;\n",
              "    }\n",
              "\n",
              "    .dataframe thead th {\n",
              "        text-align: right;\n",
              "    }\n",
              "</style>\n",
              "<table border=\"1\" class=\"dataframe\">\n",
              "  <thead>\n",
              "    <tr style=\"text-align: right;\">\n",
              "      <th>sex</th>\n",
              "      <th>F</th>\n",
              "      <th>M</th>\n",
              "    </tr>\n",
              "    <tr>\n",
              "      <th>year</th>\n",
              "      <th></th>\n",
              "      <th></th>\n",
              "    </tr>\n",
              "  </thead>\n",
              "  <tbody>\n",
              "    <tr>\n",
              "      <th>1880</th>\n",
              "      <td>90994</td>\n",
              "      <td>110490</td>\n",
              "    </tr>\n",
              "    <tr>\n",
              "      <th>1881</th>\n",
              "      <td>91953</td>\n",
              "      <td>100743</td>\n",
              "    </tr>\n",
              "    <tr>\n",
              "      <th>1882</th>\n",
              "      <td>107847</td>\n",
              "      <td>113686</td>\n",
              "    </tr>\n",
              "    <tr>\n",
              "      <th>1883</th>\n",
              "      <td>112319</td>\n",
              "      <td>104625</td>\n",
              "    </tr>\n",
              "    <tr>\n",
              "      <th>1884</th>\n",
              "      <td>129019</td>\n",
              "      <td>114442</td>\n",
              "    </tr>\n",
              "    <tr>\n",
              "      <th>...</th>\n",
              "      <td>...</td>\n",
              "      <td>...</td>\n",
              "    </tr>\n",
              "    <tr>\n",
              "      <th>2014</th>\n",
              "      <td>1783445</td>\n",
              "      <td>1917773</td>\n",
              "    </tr>\n",
              "    <tr>\n",
              "      <th>2015</th>\n",
              "      <td>1781725</td>\n",
              "      <td>1913059</td>\n",
              "    </tr>\n",
              "    <tr>\n",
              "      <th>2016</th>\n",
              "      <td>1767902</td>\n",
              "      <td>1893471</td>\n",
              "    </tr>\n",
              "    <tr>\n",
              "      <th>2017</th>\n",
              "      <td>1721550</td>\n",
              "      <td>1845472</td>\n",
              "    </tr>\n",
              "    <tr>\n",
              "      <th>2018</th>\n",
              "      <td>1694640</td>\n",
              "      <td>1809166</td>\n",
              "    </tr>\n",
              "  </tbody>\n",
              "</table>\n",
              "<p>139 rows × 2 columns</p>\n",
              "</div>"
            ],
            "text/plain": [
              "sex         F        M\n",
              "year                  \n",
              "1880    90994   110490\n",
              "1881    91953   100743\n",
              "1882   107847   113686\n",
              "1883   112319   104625\n",
              "1884   129019   114442\n",
              "...       ...      ...\n",
              "2014  1783445  1917773\n",
              "2015  1781725  1913059\n",
              "2016  1767902  1893471\n",
              "2017  1721550  1845472\n",
              "2018  1694640  1809166\n",
              "\n",
              "[139 rows x 2 columns]"
            ]
          },
          "metadata": {
            "tags": []
          },
          "execution_count": 18
        }
      ]
    },
    {
      "cell_type": "markdown",
      "metadata": {
        "id": "S-9bsaXaxQby"
      },
      "source": [
        "Now we have a data frame where the index is year, and the columns are the number of male and female births.  We can plot this fairly easily!"
      ]
    },
    {
      "cell_type": "code",
      "metadata": {
        "colab": {
          "base_uri": "https://localhost:8080/",
          "height": 312
        },
        "id": "nNI9-IThwRqZ",
        "outputId": "4486b5ec-a518-4abe-daa1-1c54af680a9a"
      },
      "source": [
        "total_births.plot(title='Total births by sex and year')"
      ],
      "execution_count": 20,
      "outputs": [
        {
          "output_type": "execute_result",
          "data": {
            "text/plain": [
              "<matplotlib.axes._subplots.AxesSubplot at 0x7fd67ed7a710>"
            ]
          },
          "metadata": {
            "tags": []
          },
          "execution_count": 20
        },
        {
          "output_type": "display_data",
          "data": {
            "image/png": "[encoded data removed]",
            "text/plain": [
              "<Figure size 432x288 with 1 Axes>"
            ]
          },
          "metadata": {
            "tags": [],
            "needs_background": "light"
          }
        }
      ]
    }
  ]
}
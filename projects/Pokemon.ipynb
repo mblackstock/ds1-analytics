{
  "nbformat": 4,
  "nbformat_minor": 0,
  "metadata": {
    "colab": {
      "name": "Pokemon.ipynb",
      "provenance": [],
      "authorship_tag": "ABX9TyOdvx1fyawhszKYa7YfWZXj",
      "include_colab_link": true
    },
    "kernelspec": {
      "name": "python390jvsc74a57bd03df1606944222a76077e4e11e53aafc0257f67558b480efee00e2c5876e60577",
      "display_name": "Python 3.9.0 64-bit ('notebooks': virtualenvwrapper)"
    },
    "language_info": {
      "name": "python",
      "version": "3.9.0"
    },
    "metadata": {
      "interpreter": {
        "hash": "3df1606944222a76077e4e11e53aafc0257f67558b480efee00e2c5876e60577"
      }
    }
  },
  "cells": [
    {
      "cell_type": "markdown",
      "metadata": {
        "id": "view-in-github",
        "colab_type": "text"
      },
      "source": [
        "<a href=\"https://colab.research.google.com/github/mblackstock/notebooks/blob/main/notebooks/Pokemon.ipynb\" target=\"_parent\"><img src=\"https://colab.research.google.com/assets/colab-badge.svg\" alt=\"Open In Colab\"/></a>"
      ]
    },
    {
      "cell_type": "markdown",
      "metadata": {
        "id": "hSSN2UHNTOjJ"
      },
      "source": [
        "Pokemon dataset and analysis.\n",
        "\n",
        "We want to find out which Pokemon win the most!\n",
        "\n",
        "References\n",
        "*   https://www.kaggle.com/rounakbanik/pokemon\n",
        "*   https://www.kaggle.com/mmetter/pokemon-data-analysis-tutorial\n",
        "*   https://www.kaggle.com/rtatman/which-pokemon-win-the-most/notebook\n"
      ]
    },
    {
      "cell_type": "code",
      "metadata": {
        "colab": {
          "base_uri": "https://localhost:8080/"
        },
        "id": "JrV6c4iXLJ3u",
        "outputId": "e30e694b-7263-4e90-9f48-890ff91a375e"
      },
      "source": [
        "!rm -rf notebooks\n",
        "!git clone https://github.com/mblackstock/datasets.git"
      ],
      "execution_count": 2,
      "outputs": [
        {
          "output_type": "stream",
          "text": [
            "Cloning into 'notebooks'...\n",
            "remote: Enumerating objects: 259, done.\u001b[K\n",
            "remote: Counting objects: 100% (259/259), done.\u001b[K\n",
            "remote: Compressing objects: 100% (249/249), done.\u001b[K\n",
            "remote: Total 259 (delta 42), reused 171 (delta 3), pack-reused 0\u001b[K\n",
            "Receiving objects: 100% (259/259), 15.64 MiB | 10.81 MiB/s, done.\n",
            "Resolving deltas: 100% (42/42), done.\n"
          ],
          "name": "stdout"
        }
      ]
    },
    {
      "cell_type": "code",
      "metadata": {
        "colab": {
          "base_uri": "https://localhost:8080/"
        },
        "id": "kUgHcZqMKw_o",
        "outputId": "70e422e5-f34d-4031-f63e-9eedc0c600eb"
      },
      "source": [
        "import numpy as np # linear algebra\n",
        "import pandas as pd # data processing, CSV file I/O (e.g. pd.read_csv)\n",
        "import matplotlib as plt # data visualization\n",
        "\n",
        "import seaborn as sns #data visualization\n",
        "import random \n",
        "\n",
        "random.seed(1)\n",
        "# Import the dataset\n",
        "pokemon = pd.read_csv(\"../datasets/pokemon/pokemon.csv\")\n",
        "# rename the column with a pound sign/hashtag as \"number\" its name\n",
        "# The reason for this is when  we try and access this column later it will comment out the code\n",
        "pokemon = pokemon.rename(index=str, columns={\"#\": \"Number\"})\n",
        "combat = pd.read_csv(\"../datasets/pokemon/combats.csv\")\n",
        "pokemon.loc['230']"
      ],
      "execution_count": 1,
      "outputs": [
        {
          "output_type": "execute_result",
          "data": {
            "text/plain": [
              "Number            231\n",
              "Name          Shuckle\n",
              "Type 1            Bug\n",
              "Type 2           Rock\n",
              "HP                 20\n",
              "Attack             10\n",
              "Defense           230\n",
              "Sp. Atk            10\n",
              "Sp. Def           230\n",
              "Speed               5\n",
              "Generation          2\n",
              "Legendary       False\n",
              "Name: 230, dtype: object"
            ]
          },
          "metadata": {},
          "execution_count": 1
        }
      ]
    },
    {
      "cell_type": "code",
      "metadata": {
        "colab": {
          "base_uri": "https://localhost:8080/",
          "height": 204
        },
        "id": "Q937Uo6AL27K",
        "outputId": "74176c38-9a4b-477d-da21-38a734512e22"
      },
      "source": [
        "combat.head()"
      ],
      "execution_count": 2,
      "outputs": [
        {
          "output_type": "execute_result",
          "data": {
            "text/plain": [
              "   First_pokemon  Second_pokemon  Winner\n",
              "0            266             298     298\n",
              "1            702             701     701\n",
              "2            191             668     668\n",
              "3            237             683     683\n",
              "4            151             231     151"
            ],
            "text/html": "<div>\n<style scoped>\n    .dataframe tbody tr th:only-of-type {\n        vertical-align: middle;\n    }\n\n    .dataframe tbody tr th {\n        vertical-align: top;\n    }\n\n    .dataframe thead th {\n        text-align: right;\n    }\n</style>\n<table border=\"1\" class=\"dataframe\">\n  <thead>\n    <tr style=\"text-align: right;\">\n      <th></th>\n      <th>First_pokemon</th>\n      <th>Second_pokemon</th>\n      <th>Winner</th>\n    </tr>\n  </thead>\n  <tbody>\n    <tr>\n      <th>0</th>\n      <td>266</td>\n      <td>298</td>\n      <td>298</td>\n    </tr>\n    <tr>\n      <th>1</th>\n      <td>702</td>\n      <td>701</td>\n      <td>701</td>\n    </tr>\n    <tr>\n      <th>2</th>\n      <td>191</td>\n      <td>668</td>\n      <td>668</td>\n    </tr>\n    <tr>\n      <th>3</th>\n      <td>237</td>\n      <td>683</td>\n      <td>683</td>\n    </tr>\n    <tr>\n      <th>4</th>\n      <td>151</td>\n      <td>231</td>\n      <td>151</td>\n    </tr>\n  </tbody>\n</table>\n</div>"
          },
          "metadata": {},
          "execution_count": 2
        }
      ]
    },
    {
      "cell_type": "code",
      "metadata": {
        "colab": {
          "base_uri": "https://localhost:8080/"
        },
        "id": "7GpHfRgjMGpr",
        "outputId": "f8ac1471-869b-481d-9ae8-3614e0831b0e"
      },
      "source": [
        "print(\"Dimenstions of Pokemon: \" + str(pokemon.shape))\n",
        "print(\"Dimenstions of Combat: \" + str(combat.shape))"
      ],
      "execution_count": 3,
      "outputs": [
        {
          "output_type": "stream",
          "name": "stdout",
          "text": [
            "Dimenstions of Pokemon: (800, 12)\nDimenstions of Combat: (50000, 3)\n"
          ]
        }
      ]
    },
    {
      "cell_type": "markdown",
      "metadata": {
        "id": "b9hSQz0pMl8e"
      },
      "source": [
        "Lets look for some missing data.  Why are there missing type2 entries?  Why are there missing heights?"
      ]
    },
    {
      "cell_type": "code",
      "metadata": {
        "colab": {
          "base_uri": "https://localhost:8080/"
        },
        "id": "24L8zmypMhH0",
        "outputId": "48791757-cfed-455e-d862-5ad776ea4396"
      },
      "source": [
        "pokemon.isnull().sum()"
      ],
      "execution_count": 4,
      "outputs": [
        {
          "output_type": "execute_result",
          "data": {
            "text/plain": [
              "Number          0\n",
              "Name            1\n",
              "Type 1          0\n",
              "Type 2        386\n",
              "HP              0\n",
              "Attack          0\n",
              "Defense         0\n",
              "Sp. Atk         0\n",
              "Sp. Def         0\n",
              "Speed           0\n",
              "Generation      0\n",
              "Legendary       0\n",
              "dtype: int64"
            ]
          },
          "metadata": {},
          "execution_count": 4
        }
      ]
    },
    {
      "cell_type": "code",
      "metadata": {
        "colab": {
          "base_uri": "https://localhost:8080/"
        },
        "id": "oU4CukRVOVOG",
        "outputId": "55c3ff3a-120a-4c31-fc34-46f91cf1926f"
      },
      "source": [
        "# calculate the win % of each pokemon \n",
        "# add the calculation to the pokemon dataset \n",
        "total_Wins = combat.Winner.value_counts()\n",
        "total_Wins\n"
      ],
      "execution_count": 5,
      "outputs": [
        {
          "output_type": "execute_result",
          "data": {
            "text/plain": [
              "163    152\n",
              "438    136\n",
              "154    136\n",
              "428    134\n",
              "314    133\n",
              "      ... \n",
              "189      5\n",
              "639      4\n",
              "237      4\n",
              "190      3\n",
              "290      3\n",
              "Name: Winner, Length: 783, dtype: int64"
            ]
          },
          "metadata": {},
          "execution_count": 5
        }
      ]
    },
    {
      "cell_type": "code",
      "metadata": {
        "colab": {
          "base_uri": "https://localhost:8080/",
          "height": 450
        },
        "id": "wXGZgX3DQZze",
        "outputId": "a1b0e5cf-5c66-4ab0-98e2-d0db3361458f"
      },
      "source": [
        "# get the number of wins for each pokemon\n",
        "numberOfWins = combat.groupby('Winner').count()\n",
        "numberOfWins"
      ],
      "execution_count": 6,
      "outputs": [
        {
          "output_type": "execute_result",
          "data": {
            "text/plain": [
              "        First_pokemon  Second_pokemon\n",
              "Winner                               \n",
              "1                  37              37\n",
              "2                  46              46\n",
              "3                  89              89\n",
              "4                  70              70\n",
              "5                  55              55\n",
              "...               ...             ...\n",
              "796                39              39\n",
              "797               116             116\n",
              "798                60              60\n",
              "799                89              89\n",
              "800                75              75\n",
              "\n",
              "[783 rows x 2 columns]"
            ],
            "text/html": "<div>\n<style scoped>\n    .dataframe tbody tr th:only-of-type {\n        vertical-align: middle;\n    }\n\n    .dataframe tbody tr th {\n        vertical-align: top;\n    }\n\n    .dataframe thead th {\n        text-align: right;\n    }\n</style>\n<table border=\"1\" class=\"dataframe\">\n  <thead>\n    <tr style=\"text-align: right;\">\n      <th></th>\n      <th>First_pokemon</th>\n      <th>Second_pokemon</th>\n    </tr>\n    <tr>\n      <th>Winner</th>\n      <th></th>\n      <th></th>\n    </tr>\n  </thead>\n  <tbody>\n    <tr>\n      <th>1</th>\n      <td>37</td>\n      <td>37</td>\n    </tr>\n    <tr>\n      <th>2</th>\n      <td>46</td>\n      <td>46</td>\n    </tr>\n    <tr>\n      <th>3</th>\n      <td>89</td>\n      <td>89</td>\n    </tr>\n    <tr>\n      <th>4</th>\n      <td>70</td>\n      <td>70</td>\n    </tr>\n    <tr>\n      <th>5</th>\n      <td>55</td>\n      <td>55</td>\n    </tr>\n    <tr>\n      <th>...</th>\n      <td>...</td>\n      <td>...</td>\n    </tr>\n    <tr>\n      <th>796</th>\n      <td>39</td>\n      <td>39</td>\n    </tr>\n    <tr>\n      <th>797</th>\n      <td>116</td>\n      <td>116</td>\n    </tr>\n    <tr>\n      <th>798</th>\n      <td>60</td>\n      <td>60</td>\n    </tr>\n    <tr>\n      <th>799</th>\n      <td>89</td>\n      <td>89</td>\n    </tr>\n    <tr>\n      <th>800</th>\n      <td>75</td>\n      <td>75</td>\n    </tr>\n  </tbody>\n</table>\n<p>783 rows × 2 columns</p>\n</div>"
          },
          "metadata": {},
          "execution_count": 6
        }
      ]
    },
    {
      "cell_type": "code",
      "metadata": {
        "colab": {
          "base_uri": "https://localhost:8080/",
          "height": 450
        },
        "id": "Wq8rVo7JQgVl",
        "outputId": "b7995180-d3c9-461f-d1d3-3717e3ef69a0"
      },
      "source": [
        "#both methods produce the same results\n",
        "countByFirst = combat.groupby('Second_pokemon').count()\n",
        "countBySecond = combat.groupby('First_pokemon').count()\n",
        "countByFirst\n",
        "\n"
      ],
      "execution_count": 7,
      "outputs": [
        {
          "output_type": "execute_result",
          "data": {
            "text/plain": [
              "                First_pokemon  Winner\n",
              "Second_pokemon                       \n",
              "1                          63      63\n",
              "2                          66      66\n",
              "3                          64      64\n",
              "4                          63      63\n",
              "5                          62      62\n",
              "...                       ...     ...\n",
              "796                        56      56\n",
              "797                        67      67\n",
              "798                        59      59\n",
              "799                        69      69\n",
              "800                        60      60\n",
              "\n",
              "[784 rows x 2 columns]"
            ],
            "text/html": "<div>\n<style scoped>\n    .dataframe tbody tr th:only-of-type {\n        vertical-align: middle;\n    }\n\n    .dataframe tbody tr th {\n        vertical-align: top;\n    }\n\n    .dataframe thead th {\n        text-align: right;\n    }\n</style>\n<table border=\"1\" class=\"dataframe\">\n  <thead>\n    <tr style=\"text-align: right;\">\n      <th></th>\n      <th>First_pokemon</th>\n      <th>Winner</th>\n    </tr>\n    <tr>\n      <th>Second_pokemon</th>\n      <th></th>\n      <th></th>\n    </tr>\n  </thead>\n  <tbody>\n    <tr>\n      <th>1</th>\n      <td>63</td>\n      <td>63</td>\n    </tr>\n    <tr>\n      <th>2</th>\n      <td>66</td>\n      <td>66</td>\n    </tr>\n    <tr>\n      <th>3</th>\n      <td>64</td>\n      <td>64</td>\n    </tr>\n    <tr>\n      <th>4</th>\n      <td>63</td>\n      <td>63</td>\n    </tr>\n    <tr>\n      <th>5</th>\n      <td>62</td>\n      <td>62</td>\n    </tr>\n    <tr>\n      <th>...</th>\n      <td>...</td>\n      <td>...</td>\n    </tr>\n    <tr>\n      <th>796</th>\n      <td>56</td>\n      <td>56</td>\n    </tr>\n    <tr>\n      <th>797</th>\n      <td>67</td>\n      <td>67</td>\n    </tr>\n    <tr>\n      <th>798</th>\n      <td>59</td>\n      <td>59</td>\n    </tr>\n    <tr>\n      <th>799</th>\n      <td>69</td>\n      <td>69</td>\n    </tr>\n    <tr>\n      <th>800</th>\n      <td>60</td>\n      <td>60</td>\n    </tr>\n  </tbody>\n</table>\n<p>784 rows × 2 columns</p>\n</div>"
          },
          "metadata": {},
          "execution_count": 7
        }
      ]
    },
    {
      "cell_type": "code",
      "metadata": {
        "colab": {
          "base_uri": "https://localhost:8080/"
        },
        "id": "3cT9hx-NRAsV",
        "outputId": "71dc4980-3f52-4f70-fa3c-3b7ba3f6442e"
      },
      "source": [
        "print(\"Looking at the dimensions of our dataframes\")\n",
        "print(\"Count by first winner shape: \" + str(countByFirst.shape))\n",
        "print(\"Count by second winner shape: \" + str(countBySecond.shape))\n",
        "print(\"Total Wins shape : \" + str(total_Wins.shape))"
      ],
      "execution_count": 8,
      "outputs": [
        {
          "output_type": "stream",
          "name": "stdout",
          "text": [
            "Looking at the dimensions of our dataframes\nCount by first winner shape: (784, 2)\nCount by second winner shape: (784, 2)\nTotal Wins shape : (783,)\n"
          ]
        }
      ]
    },
    {
      "cell_type": "markdown",
      "metadata": {
        "id": "7axLsKe9RNGT"
      },
      "source": [
        "Since the total wins has fewer rows than the first and second winner shape, one of the pokemon never won."
      ]
    },
    {
      "cell_type": "code",
      "metadata": {
        "colab": {
          "base_uri": "https://localhost:8080/"
        },
        "id": "OFmpZ6jtRZ4e",
        "outputId": "b8561512-976a-42e2-ddcf-dc6050111177"
      },
      "source": [
        "find_losing_pokemon= np.setdiff1d(countByFirst.index.values, numberOfWins.index.values)-1 #offset because the index and pokedex number are off by one\n",
        "losing_pokemon = pokemon.iloc[find_losing_pokemon[0]] # using the number as the pokemon index\n",
        "print(losing_pokemon)"
      ],
      "execution_count": 9,
      "outputs": [
        {
          "output_type": "stream",
          "name": "stdout",
          "text": [
            "Number            231\nName          Shuckle\nType 1            Bug\nType 2           Rock\nHP                 20\nAttack             10\nDefense           230\nSp. Atk            10\nSp. Def           230\nSpeed               5\nGeneration          2\nLegendary       False\nName: 230, dtype: object\n"
          ]
        }
      ]
    }
  ]
}
{
  "nbformat": 4,
  "nbformat_minor": 0,
  "metadata": {
    "colab": {
      "name": "Pokemon.ipynb",
      "provenance": [],
      "authorship_tag": "ABX9TyOdvx1fyawhszKYa7YfWZXj",
      "include_colab_link": true
    },
    "kernelspec": {
      "name": "python390jvsc74a57bd0fc433edbda7ed0756f38b26b53dae0b45ff459d6d1e8dc00bd78991799830354",
      "display_name": "Python 3.9.0 64-bit ('notebooks': virtualenvwrapper)"
    },
    "language_info": {
      "name": "python",
      "version": "3.9.0"
    },
    "metadata": {
      "interpreter": {
        "hash": "3df1606944222a76077e4e11e53aafc0257f67558b480efee00e2c5876e60577"
      }
    }
  },
  "cells": [
    {
      "cell_type": "markdown",
      "metadata": {
        "id": "view-in-github",
        "colab_type": "text"
      },
      "source": [
        "<a href=\"https://colab.research.google.com/github/mblackstock/notebooks/blob/main/notebooks/Pokemon.ipynb\" target=\"_parent\"><img src=\"https://colab.research.google.com/assets/colab-badge.svg\" alt=\"Open In Colab\"/></a>"
      ]
    },
    {
      "cell_type": "markdown",
      "metadata": {
        "id": "hSSN2UHNTOjJ"
      },
      "source": [
        "# Pokemon Data analysis\n",
        "\n",
        "In this project, lets do some data analysis on Pokemon data!\n",
        "\n",
        "<img src=\"https://miro.medium.com/max/1400/0*ZLujw1b18CnMFxFa.jpg\"\n",
        "    style=\"width:400px; float: right; margin: 0 40px 40px 40px;\"></img>\n",
        "\n",
        "We have two data sources.  The first source is a list of Pokemon and various characteristics.  The second is a table of the results of combat between pokemon, that is, given two Pokemon that battle, who wins.\n",
        "\n",
        "Let's pretend there is a company called **Team Rocket** who makes millions of dollars off of pokemon battles. As a data consultant, Team Rocket gives you this data set and ask you to come up with some useful insight on how to improve their business. This can be difficult because there in not much direction given for the analysis.\n",
        "\n",
        "Lets break down the task.\n",
        "\n",
        "First, we want to understand the data.  Since the company makes money from battles, we want to direct our efforts toward finding the best pokemon.\n",
        "\n",
        "It's good to start simple, then dive deeper into the data.\n",
        "\n",
        "Once we've done some analysis, we should related it back to the business to make suggestions for the company on how they can improve things.\n",
        "\n",
        "First thing we need to do is to load the data and understand it better.\n",
        "We may then need to clean the data to fill in any missing values, delete duplicates, fix any problems.\n",
        "\n",
        "References\n",
        "* https://www.kaggle.com/rounakbanik/pokemon\n",
        "* https://www.kaggle.com/mmetter/pokemon-data-analysis-tutorial\n",
        "* https://www.kaggle.com/rtatman/which-pokemon-win-the-most/notebook\n",
        "* https://towardsdatascience.com/exploratory-analysis-of-pokemons-using-r-8600229346fb\n"
      ]
    },
    {
      "source": [
        "# Load Pokemon Data\n",
        "\n",
        "First, lets make sure we have access to our dataset.  The following two lines change the working directory and then *clone* the github repository containing our data to our local runtime in the cloud.  If the directory datasets is already there, you don't need to run this again and can disable it or comment out the lines."
      ],
      "cell_type": "markdown",
      "metadata": {}
    },
    {
      "cell_type": "code",
      "metadata": {
        "colab": {
          "base_uri": "https://localhost:8080/"
        },
        "id": "JrV6c4iXLJ3u",
        "outputId": "e30e694b-7263-4e90-9f48-890ff91a375e"
      },
      "source": [
        "%cd ..\n",
        "!git clone https://github.com/mblackstock/datasets.git"
      ],
      "execution_count": 5,
      "outputs": [
        {
          "output_type": "stream",
          "name": "stdout",
          "text": [
            "/Users/mike/dev/notebooks\nfatal: destination path 'datasets' already exists and is not an empty directory.\n"
          ]
        }
      ]
    },
    {
      "source": [
        "First, we'll import the **pandas** library into our notebook so we can use them in our code.  Pandas is the key library we use for file input and output and data processing.  Much of this course will be about becoming familiar with using Python with Pandas."
      ],
      "cell_type": "markdown",
      "metadata": {}
    },
    {
      "cell_type": "code",
      "metadata": {
        "colab": {
          "base_uri": "https://localhost:8080/"
        },
        "id": "kUgHcZqMKw_o",
        "outputId": "70e422e5-f34d-4031-f63e-9eedc0c600eb"
      },
      "source": [
        "import pandas as pd"
      ],
      "execution_count": 3,
      "outputs": []
    },
    {
      "source": [
        "Next, lets import the data containing info about different pokemon and have a quick look at it to see what it looks like."
      ],
      "cell_type": "markdown",
      "metadata": {}
    },
    {
      "cell_type": "code",
      "execution_count": 6,
      "metadata": {},
      "outputs": [
        {
          "output_type": "execute_result",
          "data": {
            "text/plain": [
              "   #           Name Type 1  Type 2  HP  Attack  Defense  Sp. Atk  Sp. Def  \\\n",
              "0  1      Bulbasaur  Grass  Poison  45      49       49       65       65   \n",
              "1  2        Ivysaur  Grass  Poison  60      62       63       80       80   \n",
              "2  3       Venusaur  Grass  Poison  80      82       83      100      100   \n",
              "3  4  Mega Venusaur  Grass  Poison  80     100      123      122      120   \n",
              "4  5     Charmander   Fire     NaN  39      52       43       60       50   \n",
              "\n",
              "   Speed  Generation  Legendary  \n",
              "0     45           1      False  \n",
              "1     60           1      False  \n",
              "2     80           1      False  \n",
              "3     80           1      False  \n",
              "4     65           1      False  "
            ],
            "text/html": "<div>\n<style scoped>\n    .dataframe tbody tr th:only-of-type {\n        vertical-align: middle;\n    }\n\n    .dataframe tbody tr th {\n        vertical-align: top;\n    }\n\n    .dataframe thead th {\n        text-align: right;\n    }\n</style>\n<table border=\"1\" class=\"dataframe\">\n  <thead>\n    <tr style=\"text-align: right;\">\n      <th></th>\n      <th>#</th>\n      <th>Name</th>\n      <th>Type 1</th>\n      <th>Type 2</th>\n      <th>HP</th>\n      <th>Attack</th>\n      <th>Defense</th>\n      <th>Sp. Atk</th>\n      <th>Sp. Def</th>\n      <th>Speed</th>\n      <th>Generation</th>\n      <th>Legendary</th>\n    </tr>\n  </thead>\n  <tbody>\n    <tr>\n      <th>0</th>\n      <td>1</td>\n      <td>Bulbasaur</td>\n      <td>Grass</td>\n      <td>Poison</td>\n      <td>45</td>\n      <td>49</td>\n      <td>49</td>\n      <td>65</td>\n      <td>65</td>\n      <td>45</td>\n      <td>1</td>\n      <td>False</td>\n    </tr>\n    <tr>\n      <th>1</th>\n      <td>2</td>\n      <td>Ivysaur</td>\n      <td>Grass</td>\n      <td>Poison</td>\n      <td>60</td>\n      <td>62</td>\n      <td>63</td>\n      <td>80</td>\n      <td>80</td>\n      <td>60</td>\n      <td>1</td>\n      <td>False</td>\n    </tr>\n    <tr>\n      <th>2</th>\n      <td>3</td>\n      <td>Venusaur</td>\n      <td>Grass</td>\n      <td>Poison</td>\n      <td>80</td>\n      <td>82</td>\n      <td>83</td>\n      <td>100</td>\n      <td>100</td>\n      <td>80</td>\n      <td>1</td>\n      <td>False</td>\n    </tr>\n    <tr>\n      <th>3</th>\n      <td>4</td>\n      <td>Mega Venusaur</td>\n      <td>Grass</td>\n      <td>Poison</td>\n      <td>80</td>\n      <td>100</td>\n      <td>123</td>\n      <td>122</td>\n      <td>120</td>\n      <td>80</td>\n      <td>1</td>\n      <td>False</td>\n    </tr>\n    <tr>\n      <th>4</th>\n      <td>5</td>\n      <td>Charmander</td>\n      <td>Fire</td>\n      <td>NaN</td>\n      <td>39</td>\n      <td>52</td>\n      <td>43</td>\n      <td>60</td>\n      <td>50</td>\n      <td>65</td>\n      <td>1</td>\n      <td>False</td>\n    </tr>\n  </tbody>\n</table>\n</div>"
          },
          "metadata": {},
          "execution_count": 6
        }
      ],
      "source": [
        "pokemon = pd.read_csv(\"datasets/pokemon/pokemon.csv\")\n",
        "pokemon.head()"
      ]
    },
    {
      "source": [
        "The `read_csv()` method loads csv files into our notebook into what is called a `DataFrame` object.\n",
        "\n",
        "A DataFrame is a pandas data structure that represents a table.  It is contains an array of individual entries, each entry corresponds to a row and column.\n",
        "\n",
        "The `head()` method gives us the first 5 rows of a `DataFrame` object.  You can specify the number of rows, or use the `tail()` method to get the last rows.\n",
        "\n",
        "To get to know DataFrames a bit better, lets get the name of the 3rd pokemon, we specify the column, and then the row."
      ],
      "cell_type": "markdown",
      "metadata": {}
    },
    {
      "cell_type": "code",
      "execution_count": 7,
      "metadata": {},
      "outputs": [
        {
          "output_type": "execute_result",
          "data": {
            "text/plain": [
              "'Venusaur'"
            ]
          },
          "metadata": {},
          "execution_count": 7
        }
      ],
      "source": [
        "pokemon['Name'][2]"
      ]
    },
    {
      "source": [
        "We can get  whole rows using loc to specify the row index.  In this case the index is integer values, but as we'll show later, it doesn't need to be."
      ],
      "cell_type": "markdown",
      "metadata": {}
    },
    {
      "cell_type": "code",
      "execution_count": 8,
      "metadata": {},
      "outputs": [
        {
          "output_type": "stream",
          "name": "stdout",
          "text": [
            "#                    3\nName          Venusaur\nType 1           Grass\nType 2          Poison\nHP                  80\nAttack              82\nDefense             83\nSp. Atk            100\nSp. Def            100\nSpeed               80\nGeneration           1\nLegendary        False\nName: 2, dtype: object\n---------------\n   #           Name Type 1  Type 2  HP  Attack  Defense  Sp. Atk  Sp. Def  \\\n2  3       Venusaur  Grass  Poison  80      82       83      100      100   \n3  4  Mega Venusaur  Grass  Poison  80     100      123      122      120   \n\n   Speed  Generation  Legendary  \n2     80           1      False  \n3     80           1      False  \n"
          ]
        }
      ],
      "source": [
        "print(pokemon.loc[2])\n",
        "print('---------------')\n",
        "print(pokemon.loc[[2,3]])"
      ]
    },
    {
      "source": [
        "Let's get some more information about the DataFrame using the `info()` method. \n",
        "\n"
      ],
      "cell_type": "markdown",
      "metadata": {}
    },
    {
      "cell_type": "code",
      "execution_count": 9,
      "metadata": {},
      "outputs": [
        {
          "output_type": "stream",
          "name": "stdout",
          "text": [
            "<class 'pandas.core.frame.DataFrame'>\nRangeIndex: 800 entries, 0 to 799\nData columns (total 12 columns):\n #   Column      Non-Null Count  Dtype \n---  ------      --------------  ----- \n 0   #           800 non-null    int64 \n 1   Name        799 non-null    object\n 2   Type 1      800 non-null    object\n 3   Type 2      414 non-null    object\n 4   HP          800 non-null    int64 \n 5   Attack      800 non-null    int64 \n 6   Defense     800 non-null    int64 \n 7   Sp. Atk     800 non-null    int64 \n 8   Sp. Def     800 non-null    int64 \n 9   Speed       800 non-null    int64 \n 10  Generation  800 non-null    int64 \n 11  Legendary   800 non-null    bool  \ndtypes: bool(1), int64(8), object(3)\nmemory usage: 69.7+ KB\n"
          ]
        }
      ],
      "source": [
        "pokemon.info()"
      ]
    },
    {
      "source": [
        "Using the `info()` method, we can get lots of interesting and important information about our table (DataFrame).\n",
        "\n",
        "It tells us about the *index* of our DataFrame.  The index is how we identify the rows in the table.  Here it is a range of values from 0 to 799.\n",
        "\n",
        "It tells us about all of the columns in each row.  This includes the column number, the name of the column, how many non-null values are in the column, and the type of each column.\n",
        "\n",
        "It's intersting to note that the Name column has 799 non-null names, meaning there is a pokemon in our table that has a null name.  This could be a problem!\n",
        "\n"
      ],
      "cell_type": "markdown",
      "metadata": {}
    },
    {
      "source": [
        "# Cleaning Pokemon Data\n",
        "\n",
        "Now that we have our pokemon data loaded and have an idea of what is in it, lets see if there is any data cleaning we need to do.\n",
        "\n",
        "First, we'll make sure we like all of the column names we have.  Then, lets look for any missing data fields.\n",
        "\n",
        "The first column name is `#` which could be a problem since this is the same character used in Python comments.  Lets change this to something that is more consistent with the other column names:"
      ],
      "cell_type": "markdown",
      "metadata": {}
    },
    {
      "cell_type": "code",
      "execution_count": 10,
      "metadata": {},
      "outputs": [
        {
          "output_type": "stream",
          "name": "stdout",
          "text": [
            "<class 'pandas.core.frame.DataFrame'>\nRangeIndex: 800 entries, 0 to 799\nData columns (total 12 columns):\n #   Column      Non-Null Count  Dtype \n---  ------      --------------  ----- \n 0   Number      800 non-null    int64 \n 1   Name        799 non-null    object\n 2   Type 1      800 non-null    object\n 3   Type 2      414 non-null    object\n 4   HP          800 non-null    int64 \n 5   Attack      800 non-null    int64 \n 6   Defense     800 non-null    int64 \n 7   Sp. Atk     800 non-null    int64 \n 8   Sp. Def     800 non-null    int64 \n 9   Speed       800 non-null    int64 \n 10  Generation  800 non-null    int64 \n 11  Legendary   800 non-null    bool  \ndtypes: bool(1), int64(8), object(3)\nmemory usage: 69.7+ KB\n"
          ]
        }
      ],
      "source": [
        "pokemon.rename(columns={\"#\":\"Number\"}, inplace=True)\n",
        "pokemon.info()"
      ]
    },
    {
      "source": [
        "The rename method renames the columns as specified.  If you say `inplace=False` the original DataFrame is not modified, rather a new one is created and returned with the changed columns.  We'll just modify the current one.\n",
        "\n",
        "Next, lets look at how many null entries there are in our DataFrame.  This is done by first using the `isNull()` method, that returns a new DataFrame containing booleans for every entry indicating whether it is null or not.\n",
        "\n",
        "We then want to get the sum of all True entries, so we use the `sum()` method as shown."
      ],
      "cell_type": "markdown",
      "metadata": {}
    },
    {
      "cell_type": "code",
      "metadata": {
        "colab": {
          "base_uri": "https://localhost:8080/"
        },
        "id": "24L8zmypMhH0",
        "outputId": "48791757-cfed-455e-d862-5ad776ea4396"
      },
      "source": [
        "pokemon.isnull().sum()"
      ],
      "execution_count": 11,
      "outputs": [
        {
          "output_type": "execute_result",
          "data": {
            "text/plain": [
              "Number          0\n",
              "Name            1\n",
              "Type 1          0\n",
              "Type 2        386\n",
              "HP              0\n",
              "Attack          0\n",
              "Defense         0\n",
              "Sp. Atk         0\n",
              "Sp. Def         0\n",
              "Speed           0\n",
              "Generation      0\n",
              "Legendary       0\n",
              "dtype: int64"
            ]
          },
          "metadata": {},
          "execution_count": 11
        }
      ]
    },
    {
      "source": [
        "We can see there is one null Name value, and 386 null Type 2 values.  This is OK since only some Pokemon have secondary classification values.  For example, some pokemon can breath fire and fly, so its Type 1 would be fire, and its secondary would be `flying`.  Some pokemon don't have a secondary type, so its OK to be null there.\n",
        "\n",
        "There is one pokemon without a name though.  We should see if we can fix that!\n",
        "\n",
        "First, lets find the row that contains the null pokemon.  Here's one way to do that"
      ],
      "cell_type": "markdown",
      "metadata": {}
    },
    {
      "cell_type": "code",
      "execution_count": 12,
      "metadata": {},
      "outputs": [
        {
          "output_type": "execute_result",
          "data": {
            "text/plain": [
              "    Number Name    Type 1 Type 2  HP  Attack  Defense  Sp. Atk  Sp. Def  \\\n",
              "62      63  NaN  Fighting    NaN  65     105       60       60       70   \n",
              "\n",
              "    Speed  Generation  Legendary  \n",
              "62     95           1      False  "
            ],
            "text/html": "<div>\n<style scoped>\n    .dataframe tbody tr th:only-of-type {\n        vertical-align: middle;\n    }\n\n    .dataframe tbody tr th {\n        vertical-align: top;\n    }\n\n    .dataframe thead th {\n        text-align: right;\n    }\n</style>\n<table border=\"1\" class=\"dataframe\">\n  <thead>\n    <tr style=\"text-align: right;\">\n      <th></th>\n      <th>Number</th>\n      <th>Name</th>\n      <th>Type 1</th>\n      <th>Type 2</th>\n      <th>HP</th>\n      <th>Attack</th>\n      <th>Defense</th>\n      <th>Sp. Atk</th>\n      <th>Sp. Def</th>\n      <th>Speed</th>\n      <th>Generation</th>\n      <th>Legendary</th>\n    </tr>\n  </thead>\n  <tbody>\n    <tr>\n      <th>62</th>\n      <td>63</td>\n      <td>NaN</td>\n      <td>Fighting</td>\n      <td>NaN</td>\n      <td>65</td>\n      <td>105</td>\n      <td>60</td>\n      <td>60</td>\n      <td>70</td>\n      <td>95</td>\n      <td>1</td>\n      <td>False</td>\n    </tr>\n  </tbody>\n</table>\n</div>"
          },
          "metadata": {},
          "execution_count": 12
        }
      ],
      "source": [
        "pokemon.loc[pokemon['Name'].isnull()]"
      ]
    },
    {
      "source": [
        "Cool, now that we have that, lets fix the table by setting the name.  Let's assume that the indexes follow the official [National Pokedex Number](https://bulbapedia.bulbagarden.net/wiki/List_of_Pok%C3%A9mon_by_National_Pok%C3%A9dex_number) table.  Lets look for the one before and after that pokemon, and assume the one missing is between them.\n"
      ],
      "cell_type": "markdown",
      "metadata": {}
    },
    {
      "cell_type": "code",
      "execution_count": 13,
      "metadata": {},
      "outputs": [
        {
          "output_type": "stream",
          "name": "stdout",
          "text": [
            "The one before is Mankey\nThe one after is Growlithe\n"
          ]
        }
      ],
      "source": [
        "print(\"The one before is \"+pokemon['Name'][61])\n",
        "print(\"The one after is \"+pokemon['Name'][63])"
      ]
    },
    {
      "source": [
        "The one between Mankey and Growlithe is Primeape, so that's the one.  We can fix it like this:"
      ],
      "cell_type": "markdown",
      "metadata": {}
    },
    {
      "cell_type": "code",
      "execution_count": 57,
      "metadata": {},
      "outputs": [
        {
          "output_type": "stream",
          "name": "stderr",
          "text": [
            "<ipython-input-57-13c6e2773b38>:1: SettingWithCopyWarning: \nA value is trying to be set on a copy of a slice from a DataFrame\n\nSee the caveats in the documentation: https://pandas.pydata.org/pandas-docs/stable/user_guide/indexing.html#returning-a-view-versus-a-copy\n  pokemon['Name'][62] = 'Primeape'\n"
          ]
        },
        {
          "output_type": "execute_result",
          "data": {
            "text/plain": [
              "Number              63\n",
              "Name          Primeape\n",
              "Type 1        Fighting\n",
              "Type 2             NaN\n",
              "HP                  65\n",
              "Attack             105\n",
              "Defense             60\n",
              "Sp. Atk             60\n",
              "Sp. Def             70\n",
              "Speed               95\n",
              "Generation           1\n",
              "Legendary        False\n",
              "Name: 62, dtype: object"
            ]
          },
          "metadata": {},
          "execution_count": 57
        }
      ],
      "source": [
        "pokemon['Name'][62] = 'Primeape'\n",
        "pokemon.loc[62]"
      ]
    },
    {
      "source": [
        "Cool - the data is fixed.  Now we can start to analyze the combat data!"
      ],
      "cell_type": "markdown",
      "metadata": {}
    },
    {
      "source": [
        "# Combat DataFrame\n",
        "\n",
        "Next, lets load our combat data and have a look at that in the same way.\n",
        "\n",
        "First, lets load the data, and have a look at it:"
      ],
      "cell_type": "markdown",
      "metadata": {}
    },
    {
      "cell_type": "code",
      "metadata": {
        "colab": {
          "base_uri": "https://localhost:8080/",
          "height": 204
        },
        "id": "Q937Uo6AL27K",
        "outputId": "74176c38-9a4b-477d-da21-38a734512e22"
      },
      "source": [
        "combat = pd.read_csv(\"datasets/pokemon/combats.csv\")\n",
        "combat.head()"
      ],
      "execution_count": 25,
      "outputs": [
        {
          "output_type": "execute_result",
          "data": {
            "text/plain": [
              "   First_pokemon  Second_pokemon  Winner\n",
              "0            266             298     298\n",
              "1            702             701     701\n",
              "2            191             668     668\n",
              "3            237             683     683\n",
              "4            151             231     151"
            ],
            "text/html": "<div>\n<style scoped>\n    .dataframe tbody tr th:only-of-type {\n        vertical-align: middle;\n    }\n\n    .dataframe tbody tr th {\n        vertical-align: top;\n    }\n\n    .dataframe thead th {\n        text-align: right;\n    }\n</style>\n<table border=\"1\" class=\"dataframe\">\n  <thead>\n    <tr style=\"text-align: right;\">\n      <th></th>\n      <th>First_pokemon</th>\n      <th>Second_pokemon</th>\n      <th>Winner</th>\n    </tr>\n  </thead>\n  <tbody>\n    <tr>\n      <th>0</th>\n      <td>266</td>\n      <td>298</td>\n      <td>298</td>\n    </tr>\n    <tr>\n      <th>1</th>\n      <td>702</td>\n      <td>701</td>\n      <td>701</td>\n    </tr>\n    <tr>\n      <th>2</th>\n      <td>191</td>\n      <td>668</td>\n      <td>668</td>\n    </tr>\n    <tr>\n      <th>3</th>\n      <td>237</td>\n      <td>683</td>\n      <td>683</td>\n    </tr>\n    <tr>\n      <th>4</th>\n      <td>151</td>\n      <td>231</td>\n      <td>151</td>\n    </tr>\n  </tbody>\n</table>\n</div>"
          },
          "metadata": {},
          "execution_count": 25
        }
      ]
    },
    {
      "cell_type": "code",
      "execution_count": 27,
      "metadata": {},
      "outputs": [
        {
          "output_type": "stream",
          "name": "stdout",
          "text": [
            "<class 'pandas.core.frame.DataFrame'>\nRangeIndex: 50000 entries, 0 to 49999\nData columns (total 3 columns):\n #   Column          Non-Null Count  Dtype\n---  ------          --------------  -----\n 0   First_pokemon   50000 non-null  int64\n 1   Second_pokemon  50000 non-null  int64\n 2   Winner          50000 non-null  int64\ndtypes: int64(3)\nmemory usage: 1.1 MB\n"
          ]
        }
      ],
      "source": [
        "combat.info()"
      ]
    },
    {
      "source": [
        "We can see that the combat DataFrame has 3 columns, all integers.\n",
        "\n",
        "The first column, `First_pokemon` is the first pokemon in the fight, `Second_pokemon` is the second, and `Winner` is the winner of the battle.\n",
        "\n",
        "There are 50000 fights recorded - cool!  The index into the fights is a range of integers like before.\n",
        "\n",
        "We can also get a quick look at the *shape* of our two tables like this:"
      ],
      "cell_type": "markdown",
      "metadata": {}
    },
    {
      "cell_type": "code",
      "metadata": {
        "colab": {
          "base_uri": "https://localhost:8080/"
        },
        "id": "7GpHfRgjMGpr",
        "outputId": "f8ac1471-869b-481d-9ae8-3614e0831b0e"
      },
      "source": [
        "print(\"Dimensions of Pokemon: \" + str(pokemon.shape))\n",
        "print(\"Dimensions of Combat: \" + str(combat.shape))"
      ],
      "execution_count": 28,
      "outputs": [
        {
          "output_type": "stream",
          "name": "stdout",
          "text": [
            "Dimensions of Pokemon: (800, 12)\nDimensions of Combat: (50000, 3)\n"
          ]
        }
      ]
    },
    {
      "cell_type": "code",
      "metadata": {
        "colab": {
          "base_uri": "https://localhost:8080/"
        },
        "id": "oU4CukRVOVOG",
        "outputId": "55c3ff3a-120a-4c31-fc34-46f91cf1926f"
      },
      "source": [
        "# calculate the win % of each pokemon \n",
        "# add the calculation to the pokemon dataset \n",
        "total_Wins = combat.Winner.value_counts()\n",
        "total_Wins\n"
      ],
      "execution_count": 5,
      "outputs": [
        {
          "output_type": "execute_result",
          "data": {
            "text/plain": [
              "163    152\n",
              "438    136\n",
              "154    136\n",
              "428    134\n",
              "314    133\n",
              "      ... \n",
              "189      5\n",
              "639      4\n",
              "237      4\n",
              "190      3\n",
              "290      3\n",
              "Name: Winner, Length: 783, dtype: int64"
            ]
          },
          "metadata": {},
          "execution_count": 5
        }
      ]
    },
    {
      "cell_type": "code",
      "metadata": {
        "colab": {
          "base_uri": "https://localhost:8080/",
          "height": 450
        },
        "id": "wXGZgX3DQZze",
        "outputId": "a1b0e5cf-5c66-4ab0-98e2-d0db3361458f"
      },
      "source": [
        "# get the number of wins for each pokemon\n",
        "numberOfWins = combat.groupby('Winner').count()\n",
        "numberOfWins"
      ],
      "execution_count": 6,
      "outputs": [
        {
          "output_type": "execute_result",
          "data": {
            "text/plain": [
              "        First_pokemon  Second_pokemon\n",
              "Winner                               \n",
              "1                  37              37\n",
              "2                  46              46\n",
              "3                  89              89\n",
              "4                  70              70\n",
              "5                  55              55\n",
              "...               ...             ...\n",
              "796                39              39\n",
              "797               116             116\n",
              "798                60              60\n",
              "799                89              89\n",
              "800                75              75\n",
              "\n",
              "[783 rows x 2 columns]"
            ],
            "text/html": "<div>\n<style scoped>\n    .dataframe tbody tr th:only-of-type {\n        vertical-align: middle;\n    }\n\n    .dataframe tbody tr th {\n        vertical-align: top;\n    }\n\n    .dataframe thead th {\n        text-align: right;\n    }\n</style>\n<table border=\"1\" class=\"dataframe\">\n  <thead>\n    <tr style=\"text-align: right;\">\n      <th></th>\n      <th>First_pokemon</th>\n      <th>Second_pokemon</th>\n    </tr>\n    <tr>\n      <th>Winner</th>\n      <th></th>\n      <th></th>\n    </tr>\n  </thead>\n  <tbody>\n    <tr>\n      <th>1</th>\n      <td>37</td>\n      <td>37</td>\n    </tr>\n    <tr>\n      <th>2</th>\n      <td>46</td>\n      <td>46</td>\n    </tr>\n    <tr>\n      <th>3</th>\n      <td>89</td>\n      <td>89</td>\n    </tr>\n    <tr>\n      <th>4</th>\n      <td>70</td>\n      <td>70</td>\n    </tr>\n    <tr>\n      <th>5</th>\n      <td>55</td>\n      <td>55</td>\n    </tr>\n    <tr>\n      <th>...</th>\n      <td>...</td>\n      <td>...</td>\n    </tr>\n    <tr>\n      <th>796</th>\n      <td>39</td>\n      <td>39</td>\n    </tr>\n    <tr>\n      <th>797</th>\n      <td>116</td>\n      <td>116</td>\n    </tr>\n    <tr>\n      <th>798</th>\n      <td>60</td>\n      <td>60</td>\n    </tr>\n    <tr>\n      <th>799</th>\n      <td>89</td>\n      <td>89</td>\n    </tr>\n    <tr>\n      <th>800</th>\n      <td>75</td>\n      <td>75</td>\n    </tr>\n  </tbody>\n</table>\n<p>783 rows × 2 columns</p>\n</div>"
          },
          "metadata": {},
          "execution_count": 6
        }
      ]
    },
    {
      "cell_type": "code",
      "metadata": {
        "colab": {
          "base_uri": "https://localhost:8080/",
          "height": 450
        },
        "id": "Wq8rVo7JQgVl",
        "outputId": "b7995180-d3c9-461f-d1d3-3717e3ef69a0"
      },
      "source": [
        "#both methods produce the same results\n",
        "countByFirst = combat.groupby('Second_pokemon').count()\n",
        "countBySecond = combat.groupby('First_pokemon').count()\n",
        "countByFirst\n",
        "\n"
      ],
      "execution_count": 7,
      "outputs": [
        {
          "output_type": "execute_result",
          "data": {
            "text/plain": [
              "                First_pokemon  Winner\n",
              "Second_pokemon                       \n",
              "1                          63      63\n",
              "2                          66      66\n",
              "3                          64      64\n",
              "4                          63      63\n",
              "5                          62      62\n",
              "...                       ...     ...\n",
              "796                        56      56\n",
              "797                        67      67\n",
              "798                        59      59\n",
              "799                        69      69\n",
              "800                        60      60\n",
              "\n",
              "[784 rows x 2 columns]"
            ],
            "text/html": "<div>\n<style scoped>\n    .dataframe tbody tr th:only-of-type {\n        vertical-align: middle;\n    }\n\n    .dataframe tbody tr th {\n        vertical-align: top;\n    }\n\n    .dataframe thead th {\n        text-align: right;\n    }\n</style>\n<table border=\"1\" class=\"dataframe\">\n  <thead>\n    <tr style=\"text-align: right;\">\n      <th></th>\n      <th>First_pokemon</th>\n      <th>Winner</th>\n    </tr>\n    <tr>\n      <th>Second_pokemon</th>\n      <th></th>\n      <th></th>\n    </tr>\n  </thead>\n  <tbody>\n    <tr>\n      <th>1</th>\n      <td>63</td>\n      <td>63</td>\n    </tr>\n    <tr>\n      <th>2</th>\n      <td>66</td>\n      <td>66</td>\n    </tr>\n    <tr>\n      <th>3</th>\n      <td>64</td>\n      <td>64</td>\n    </tr>\n    <tr>\n      <th>4</th>\n      <td>63</td>\n      <td>63</td>\n    </tr>\n    <tr>\n      <th>5</th>\n      <td>62</td>\n      <td>62</td>\n    </tr>\n    <tr>\n      <th>...</th>\n      <td>...</td>\n      <td>...</td>\n    </tr>\n    <tr>\n      <th>796</th>\n      <td>56</td>\n      <td>56</td>\n    </tr>\n    <tr>\n      <th>797</th>\n      <td>67</td>\n      <td>67</td>\n    </tr>\n    <tr>\n      <th>798</th>\n      <td>59</td>\n      <td>59</td>\n    </tr>\n    <tr>\n      <th>799</th>\n      <td>69</td>\n      <td>69</td>\n    </tr>\n    <tr>\n      <th>800</th>\n      <td>60</td>\n      <td>60</td>\n    </tr>\n  </tbody>\n</table>\n<p>784 rows × 2 columns</p>\n</div>"
          },
          "metadata": {},
          "execution_count": 7
        }
      ]
    },
    {
      "cell_type": "code",
      "metadata": {
        "colab": {
          "base_uri": "https://localhost:8080/"
        },
        "id": "3cT9hx-NRAsV",
        "outputId": "71dc4980-3f52-4f70-fa3c-3b7ba3f6442e"
      },
      "source": [
        "print(\"Looking at the dimensions of our dataframes\")\n",
        "print(\"Count by first winner shape: \" + str(countByFirst.shape))\n",
        "print(\"Count by second winner shape: \" + str(countBySecond.shape))\n",
        "print(\"Total Wins shape : \" + str(total_Wins.shape))"
      ],
      "execution_count": 8,
      "outputs": [
        {
          "output_type": "stream",
          "name": "stdout",
          "text": [
            "Looking at the dimensions of our dataframes\nCount by first winner shape: (784, 2)\nCount by second winner shape: (784, 2)\nTotal Wins shape : (783,)\n"
          ]
        }
      ]
    },
    {
      "cell_type": "markdown",
      "metadata": {
        "id": "7axLsKe9RNGT"
      },
      "source": [
        "Since the total wins has fewer rows than the first and second winner shape, one of the pokemon never won."
      ]
    },
    {
      "cell_type": "code",
      "metadata": {
        "colab": {
          "base_uri": "https://localhost:8080/"
        },
        "id": "OFmpZ6jtRZ4e",
        "outputId": "b8561512-976a-42e2-ddcf-dc6050111177"
      },
      "source": [
        "find_losing_pokemon= np.setdiff1d(countByFirst.index.values, numberOfWins.index.values)-1 #offset because the index and pokedex number are off by one\n",
        "losing_pokemon = pokemon.iloc[find_losing_pokemon[0]] # using the number as the pokemon index\n",
        "print(losing_pokemon)"
      ],
      "execution_count": 9,
      "outputs": [
        {
          "output_type": "stream",
          "name": "stdout",
          "text": [
            "Number            231\nName          Shuckle\nType 1            Bug\nType 2           Rock\nHP                 20\nAttack             10\nDefense           230\nSp. Atk            10\nSp. Def           230\nSpeed               5\nGeneration          2\nLegendary       False\nName: 230, dtype: object\n"
          ]
        }
      ]
    }
  ]
}
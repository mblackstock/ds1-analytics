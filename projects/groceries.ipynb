{
 "metadata": {
  "language_info": {
   "codemirror_mode": {
    "name": "ipython",
    "version": 3
   },
   "file_extension": ".py",
   "mimetype": "text/x-python",
   "name": "python",
   "nbconvert_exporter": "python",
   "pygments_lexer": "ipython3",
   "version": 3
  },
  "orig_nbformat": 2
 },
 "nbformat": 4,
 "nbformat_minor": 2,
 "cells": [
  {
   "source": [
    "Instacart grocery order analysis\n",
    "\n",
    "* https://www.kaggle.com/c/instacart-market-basket-analysis/data\n",
    "* https://tech.instacart.com/3-million-instacart-orders-open-sourced-d40d29ead6f2\n",
    "* https://p8105.com/dataset_instacart.html\n"
   ],
   "cell_type": "markdown",
   "metadata": {}
  }
 ]
}
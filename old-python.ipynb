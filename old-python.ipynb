{
 "metadata": {
  "language_info": {
   "codemirror_mode": {
    "name": "ipython",
    "version": 3
   },
   "file_extension": ".py",
   "mimetype": "text/x-python",
   "name": "python",
   "nbconvert_exporter": "python",
   "pygments_lexer": "ipython3",
   "version": "3.9.0"
  },
  "orig_nbformat": 2,
  "kernelspec": {
   "name": "python390jvsc74a57bd0fc433edbda7ed0756f38b26b53dae0b45ff459d6d1e8dc00bd78991799830354",
   "display_name": "Python 3.9.0 64-bit ('notebooks': virtualenvwrapper)"
  }
 },
 "nbformat": 4,
 "nbformat_minor": 2,
 "cells": [
  {
   "source": [
    "# Python and Jupyter Introduction\n",
    "\n",
    "One of the post popular languages for data science today is Python.  It is easy to pick up for anyone who has some previous coding experience.  It is also used in the early UTG courses with PixelPad so it is likely familiar to many of you!\n",
    "\n",
    "Python was named after the comedy troupe and show Monty Python's Flying Circus.  \n",
    "\n",
    "We're using Python in the context of a Jupyter Notebook system.  The Jupyter Notebook is an open source web application that we'll use to create and share documents that contain live code, equations, visualizations, and text.\n",
    "\n",
    "Let's get started with a review of Python on Jupyter Notebook."
   ],
   "cell_type": "markdown",
   "metadata": {}
  },
  {
   "cell_type": "code",
   "execution_count": 7,
   "metadata": {},
   "outputs": [
    {
     "output_type": "stream",
     "name": "stdout",
     "text": [
      "0\nBut I don't want ANY spam!\nSpam Spam Spam Spam \n"
     ]
    }
   ],
   "source": [
    "spam_amount = 0\n",
    "print(spam_amount)\n",
    "\n",
    "# Ordering Spam, egg, Spam, Spam, bacon and Spam (4 more servings of Spam)\n",
    "spam_amount = spam_amount + 4\n",
    "\n",
    "if spam_amount > 0:\n",
    "    print(\"But I don't want ANY spam!\")\n",
    "\n",
    "viking_song = \"Spam \" * spam_amount\n",
    "print(viking_song)"
   ]
  },
  {
   "source": [
    "In this code you can see a variable assignment to an integer, some arithmentic, an if statement and multiplying strings.\n",
    "\n",
    "Some things to remember about the syntax of Python:\n",
    "* that there are no semicolons as in Java\n",
    "* no brackets `{` for code blocks, and indentation is very important.  The colon at the end of the if statement says there is more code to write after.  This is the same for function definitions\n",
    "* We don't declare the type of the value.  Even though the type is not declared, variables have types."
   ],
   "cell_type": "markdown",
   "metadata": {}
  },
  {
   "cell_type": "code",
   "execution_count": 9,
   "metadata": {},
   "outputs": [
    {
     "output_type": "stream",
     "name": "stdout",
     "text": [
      "<class 'int'>\n<class 'float'>\n"
     ]
    }
   ],
   "source": [
    "print(type(spam_amount))\n",
    "print(type(19.5))\n"
   ]
  },
  {
   "source": [
    "## Getting help\n",
    "\n",
    "One thing is that in data science we use a lot of libraries and built in Python functions.  With Python you can get help if you don't remember what something does.  Lets say you can't remember what the `abs` function does, you can use the help function like this."
   ],
   "cell_type": "markdown",
   "metadata": {}
  },
  {
   "cell_type": "code",
   "execution_count": 15,
   "metadata": {},
   "outputs": [
    {
     "output_type": "stream",
     "name": "stdout",
     "text": [
      "Help on built-in function abs in module builtins:\n\nabs(x, /)\n    Return the absolute value of the argument.\n\n"
     ]
    }
   ],
   "source": [
    "help(abs)"
   ]
  },
  {
   "source": [
    "Note that you don't want to provide the output of the function, just the function itself.  So this would be wrong:\n",
    "\n",
    "```\n",
    "help(round(2.3))\n",
    "```\n",
    "Whereas this is right:\n",
    "```\n",
    "help(round)\n",
    "```"
   ],
   "cell_type": "markdown",
   "metadata": {}
  },
  {
   "source": [
    "Also, you should not hestiate to Google your questions, or use Stack Overflow.  The Python and Pandas community is large, and you can most likely find the answer to any of your questions there.\n",
    "\n",
    "## Defining functions\n",
    "\n",
    "One thing that we do a lot is create reusable functions ourselves.  These can be used to do the same thing repeatedly, and can be used as arguments to other functions as shown later.  When doing data analysis, we may need to create functions to pass in to another function to aggregate data in some way.\n",
    "\n",
    "Lets create a function that finds the least difference between some numbers\n"
   ],
   "cell_type": "markdown",
   "metadata": {}
  },
  {
   "cell_type": "code",
   "execution_count": 17,
   "metadata": {},
   "outputs": [],
   "source": [
    "def least_difference(a, b, c):\n",
    "    diff1 = abs(a - b)\n",
    "    diff2 = abs(b - c)\n",
    "    diff3 = abs(a - c)\n",
    "    return min(diff1, diff2, diff3)"
   ]
  },
  {
   "source": [
    "We can then call it like this to test it out and understand better what it does."
   ],
   "cell_type": "markdown",
   "metadata": {}
  },
  {
   "cell_type": "code",
   "execution_count": 19,
   "metadata": {},
   "outputs": [
    {
     "output_type": "stream",
     "name": "stdout",
     "text": [
      "9 0 1\n"
     ]
    }
   ],
   "source": [
    "print (least_difference(1,10,100),\n",
    "least_difference(1,10,10),\n",
    "least_difference(5,6,7),\n",
    ")"
   ]
  },
  {
   "source": [
    "We can start to get an idea of what it does, but what if we forget.  Let's use help!"
   ],
   "cell_type": "markdown",
   "metadata": {}
  },
  {
   "cell_type": "code",
   "execution_count": 20,
   "metadata": {},
   "outputs": [
    {
     "output_type": "stream",
     "name": "stdout",
     "text": [
      "Help on function least_difference in module __main__:\n\nleast_difference(a, b, c)\n\n"
     ]
    }
   ],
   "source": [
    "help(least_difference)"
   ]
  },
  {
   "source": [
    "Nothing to show here.  That's because we need to write our help for it!  Computers aren't mind readers.\n",
    "\n",
    "Here's how you document functions so that help works."
   ],
   "cell_type": "markdown",
   "metadata": {}
  },
  {
   "cell_type": "code",
   "execution_count": 21,
   "metadata": {},
   "outputs": [],
   "source": [
    "def least_difference(a, b, c):\n",
    "    \"\"\"Return the smallest difference between any two numbers\n",
    "    among a, b and c.\n",
    "    \n",
    "    >>> least_difference(1, 5, -5)\n",
    "    4\n",
    "    \"\"\"\n",
    "    diff1 = abs(a - b)\n",
    "    diff2 = abs(b - c)\n",
    "    diff3 = abs(a - c)\n",
    "    return min(diff1, diff2, diff3)"
   ]
  },
  {
   "source": [
    "If you're going to reuse a function, its good to document it so you can get help!"
   ],
   "cell_type": "markdown",
   "metadata": {}
  },
  {
   "cell_type": "code",
   "execution_count": 22,
   "metadata": {},
   "outputs": [
    {
     "output_type": "stream",
     "name": "stdout",
     "text": [
      "Help on function least_difference in module __main__:\n\nleast_difference(a, b, c)\n    Return the smallest difference between any two numbers\n    among a, b and c.\n    \n    >>> least_difference(1, 5, -5)\n    4\n\n"
     ]
    }
   ],
   "source": [
    "help(least_difference)"
   ]
  },
  {
   "source": [
    "## Default arguments in functions\n",
    "\n",
    "When we get help for `print` we can see that it has some optional arguments."
   ],
   "cell_type": "markdown",
   "metadata": {}
  },
  {
   "cell_type": "code",
   "execution_count": 23,
   "metadata": {},
   "outputs": [
    {
     "output_type": "stream",
     "name": "stdout",
     "text": [
      "Help on built-in function print in module builtins:\n\nprint(...)\n    print(value, ..., sep=' ', end='\\n', file=sys.stdout, flush=False)\n    \n    Prints the values to a stream, or to sys.stdout by default.\n    Optional keyword arguments:\n    file:  a file-like object (stream); defaults to the current sys.stdout.\n    sep:   string inserted between values, default a space.\n    end:   string appended after the last value, default a newline.\n    flush: whether to forcibly flush the stream.\n\n"
     ]
    }
   ],
   "source": [
    "help(print)"
   ]
  },
  {
   "source": [
    "Changing default arguments is easy, and adding them to our own functions is straightforward:"
   ],
   "cell_type": "markdown",
   "metadata": {}
  },
  {
   "cell_type": "code",
   "execution_count": 24,
   "metadata": {},
   "outputs": [
    {
     "output_type": "stream",
     "name": "stdout",
     "text": [
      "1 < 2 < 3\n"
     ]
    }
   ],
   "source": [
    "print(1,2,3,sep=\" < \")"
   ]
  },
  {
   "cell_type": "code",
   "execution_count": 27,
   "metadata": {},
   "outputs": [
    {
     "output_type": "stream",
     "name": "stdout",
     "text": [
      "hello  world !\nhello  Bob .\nhello  Everyone! !\n"
     ]
    }
   ],
   "source": [
    "def greet(who=\"world\",punct=\"!\"):\n",
    "    print(\"hello \",who,punct)\n",
    "\n",
    "greet()\n",
    "greet(\"Bob\",\".\")\n",
    "greet(who=\"Everyone\")"
   ]
  },
  {
   "source": [
    "## Functions used in Functions\n",
    "\n",
    "One idea that is very powerful is the idea of using functions as arguments to other functions.  When a function uses another function as an argument, it is called a higher order function.\n",
    "\n",
    "For example:"
   ],
   "cell_type": "markdown",
   "metadata": {}
  },
  {
   "cell_type": "code",
   "execution_count": 28,
   "metadata": {},
   "outputs": [
    {
     "output_type": "stream",
     "name": "stdout",
     "text": [
      "5\n25\n"
     ]
    }
   ],
   "source": [
    "def mult_by_five(x):\n",
    "    return 5 * x\n",
    "\n",
    "def call(fn, arg):\n",
    "    \"\"\"Call fn on arg\"\"\"\n",
    "    return fn(arg)\n",
    "\n",
    "def squared_call(fn, arg):\n",
    "    \"\"\"Call fn on the result of calling fn on arg\"\"\"\n",
    "    return fn(fn(arg))\n",
    "\n",
    "print(\n",
    "    call(mult_by_five, 1),\n",
    "    squared_call(mult_by_five, 1), \n",
    "    sep='\\n', # '\\n' is the newline character - it starts a new line\n",
    ")"
   ]
  },
  {
   "source": [
    "By default, max returns the largest of its arguments. But if we pass in a function using the optional key argument, it returns the argument x that maximizes key(x) (aka the 'argmax')."
   ],
   "cell_type": "markdown",
   "metadata": {}
  },
  {
   "cell_type": "code",
   "execution_count": 30,
   "metadata": {},
   "outputs": [
    {
     "output_type": "stream",
     "name": "stdout",
     "text": [
      "Help on built-in function max in module builtins:\n\nmax(...)\n    max(iterable, *[, default=obj, key=func]) -> value\n    max(arg1, arg2, *args, *[, key=func]) -> value\n    \n    With a single iterable argument, return its biggest item. The\n    default keyword-only argument specifies an object to return if\n    the provided iterable is empty.\n    With two or more arguments, return the largest argument.\n\nWhich number is biggest?\n100\nWhich number is the biggest modulo 5?\n14\n"
     ]
    }
   ],
   "source": [
    "def mod_5(x):\n",
    "    \"\"\"Return the remainder of x after dividing by 5\"\"\"\n",
    "    return x % 5\n",
    "\n",
    "print(\n",
    "    'Which number is biggest?',\n",
    "    max(100, 51, 14),\n",
    "    'Which number is the biggest modulo 5?',\n",
    "    max(100, 51, 14, key=mod_5),\n",
    "    sep='\\n',\n",
    ")"
   ]
  },
  {
   "source": [
    "## Booleans and Conditionals\n",
    "\n",
    "In Python boolean values can be `True` or `False`"
   ],
   "cell_type": "markdown",
   "metadata": {}
  },
  {
   "cell_type": "code",
   "execution_count": 31,
   "metadata": {},
   "outputs": [
    {
     "output_type": "stream",
     "name": "stdout",
     "text": [
      "True\n<class 'bool'>\n"
     ]
    }
   ],
   "source": [
    "x = True\n",
    "print(x)\n",
    "print(type(x))"
   ]
  },
  {
   "source": [
    "The boolean operators are similar to other languages.  Here's an example of a function that prints info about an argument:"
   ],
   "cell_type": "markdown",
   "metadata": {}
  },
  {
   "cell_type": "code",
   "execution_count": 32,
   "metadata": {},
   "outputs": [
    {
     "output_type": "stream",
     "name": "stdout",
     "text": [
      "0 is zero\n-15 is negative\n"
     ]
    }
   ],
   "source": [
    "def inspect(x):\n",
    "    if x == 0:\n",
    "        print(x, \"is zero\")\n",
    "    elif x > 0:\n",
    "        print(x, \"is positive\")\n",
    "    elif x < 0:\n",
    "        print(x, \"is negative\")\n",
    "    else:\n",
    "        print(x, \"is unlike anything I've ever seen...\")\n",
    "\n",
    "inspect(0)\n",
    "inspect(-15)"
   ]
  },
  {
   "source": [
    "Note the use of colons and whitespace"
   ],
   "cell_type": "markdown",
   "metadata": {}
  },
  {
   "source": [
    "## Lists\n",
    "\n",
    "Lists represent ordered sequences of values.\n",
    "\n",
    "* Arrays\n",
    "* Accessing Arrays\n",
    "* 2D Arrays\n",
    "* Slicing\n",
    "* Sorting"
   ],
   "cell_type": "markdown",
   "metadata": {}
  },
  {
   "cell_type": "code",
   "execution_count": 43,
   "metadata": {},
   "outputs": [
    {
     "output_type": "execute_result",
     "data": {
      "text/plain": [
       "1"
      ]
     },
     "metadata": {},
     "execution_count": 43
    }
   ],
   "source": [
    "numbers = [1,2,3,4,5,6,7]\n",
    "numbers[0]"
   ]
  },
  {
   "cell_type": "code",
   "execution_count": 44,
   "metadata": {},
   "outputs": [
    {
     "output_type": "execute_result",
     "data": {
      "text/plain": [
       "[2, 3]"
      ]
     },
     "metadata": {},
     "execution_count": 44
    }
   ],
   "source": [
    "numbers[1:3]"
   ]
  },
  {
   "cell_type": "code",
   "execution_count": 45,
   "metadata": {},
   "outputs": [
    {
     "output_type": "execute_result",
     "data": {
      "text/plain": [
       "[7, 6, 5, 4, 3, 2, 1]"
      ]
     },
     "metadata": {},
     "execution_count": 45
    }
   ],
   "source": [
    "numbers[::-1]"
   ]
  },
  {
   "cell_type": "code",
   "execution_count": 52,
   "metadata": {},
   "outputs": [
    {
     "output_type": "execute_result",
     "data": {
      "text/plain": [
       "[1, 4, 9, 16, 25, 36, 49]"
      ]
     },
     "metadata": {},
     "execution_count": 52
    }
   ],
   "source": [
    "squared = map(lambda x:x**2,numbers)\n",
    "list(squared)"
   ]
  },
  {
   "cell_type": "code",
   "execution_count": 55,
   "metadata": {},
   "outputs": [
    {
     "output_type": "execute_result",
     "data": {
      "text/plain": [
       "'A'"
      ]
     },
     "metadata": {},
     "execution_count": 55
    }
   ],
   "source": [
    "hands = [\n",
    "    ['J', 'Q', 'K'],\n",
    "    ['2', '2', '2'],\n",
    "    ['6', 'A', 'K'], # (Comma after the last element is optional)\n",
    "]\n",
    "hands[2][1]"
   ]
  },
  {
   "cell_type": "code",
   "execution_count": 57,
   "metadata": {},
   "outputs": [
    {
     "output_type": "execute_result",
     "data": {
      "text/plain": [
       "['Mercury',\n",
       " 'Venus',\n",
       " 'Earth',\n",
       " 'Malacandra',\n",
       " 'Jupiter',\n",
       " 'Saturn',\n",
       " 'Uranus',\n",
       " 'Neptune']"
      ]
     },
     "metadata": {},
     "execution_count": 57
    }
   ],
   "source": [
    "planets = ['Mercury', 'Venus', 'Earth', 'Malacandra', 'Jupiter', 'Saturn', 'Uranus', 'Neptune']\n",
    "planets"
   ]
  },
  {
   "cell_type": "code",
   "execution_count": 60,
   "metadata": {},
   "outputs": [
    {
     "output_type": "execute_result",
     "data": {
      "text/plain": [
       "['Mer', 'Ven', 'Ear', 'Malacandra', 'Jupiter', 'Saturn', 'Uranus', 'Neptune']"
      ]
     },
     "metadata": {},
     "execution_count": 60
    }
   ],
   "source": [
    "planets[:3] = ['Mer','Ven','Ur']\n",
    "planets"
   ]
  },
  {
   "cell_type": "code",
   "execution_count": 64,
   "metadata": {},
   "outputs": [
    {
     "output_type": "execute_result",
     "data": {
      "text/plain": [
       "['Earth', 'Jupiter', 'Mars', 'Mercury', 'Neptune', 'Saturn', 'Uranus', 'Venus']"
      ]
     },
     "metadata": {},
     "execution_count": 64
    }
   ],
   "source": [
    "planets[:4] = ['Mercury', 'Venus', 'Earth', 'Mars',]\n",
    "sorted(planets)"
   ]
  },
  {
   "cell_type": "code",
   "execution_count": 65,
   "metadata": {},
   "outputs": [
    {
     "output_type": "execute_result",
     "data": {
      "text/plain": [
       "8"
      ]
     },
     "metadata": {},
     "execution_count": 65
    }
   ],
   "source": [
    "len(planets)"
   ]
  },
  {
   "cell_type": "code",
   "execution_count": 66,
   "metadata": {},
   "outputs": [
    {
     "output_type": "execute_result",
     "data": {
      "text/plain": [
       "28"
      ]
     },
     "metadata": {},
     "execution_count": 66
    }
   ],
   "source": [
    "sum(numbers)"
   ]
  },
  {
   "cell_type": "code",
   "execution_count": 67,
   "metadata": {},
   "outputs": [
    {
     "output_type": "execute_result",
     "data": {
      "text/plain": [
       "7"
      ]
     },
     "metadata": {},
     "execution_count": 67
    }
   ],
   "source": [
    "max(numbers)"
   ]
  },
  {
   "cell_type": "code",
   "execution_count": 68,
   "metadata": {},
   "outputs": [
    {
     "output_type": "execute_result",
     "data": {
      "text/plain": [
       "['Mercury',\n",
       " 'Venus',\n",
       " 'Earth',\n",
       " 'Mars',\n",
       " 'Jupiter',\n",
       " 'Saturn',\n",
       " 'Uranus',\n",
       " 'Neptune',\n",
       " 'Pluto']"
      ]
     },
     "metadata": {},
     "execution_count": 68
    }
   ],
   "source": [
    "planets.append('Pluto')\n",
    "planets"
   ]
  },
  {
   "cell_type": "code",
   "execution_count": 70,
   "metadata": {},
   "outputs": [
    {
     "output_type": "execute_result",
     "data": {
      "text/plain": [
       "2"
      ]
     },
     "metadata": {},
     "execution_count": 70
    }
   ],
   "source": [
    "planets.index('Earth')"
   ]
  },
  {
   "cell_type": "code",
   "execution_count": 71,
   "metadata": {},
   "outputs": [
    {
     "output_type": "error",
     "ename": "ValueError",
     "evalue": "'PlanetX' is not in list",
     "traceback": [
      "\u001b[0;31m---------------------------------------------------------------------------\u001b[0m",
      "\u001b[0;31mValueError\u001b[0m                                Traceback (most recent call last)",
      "\u001b[0;32m<ipython-input-71-0d08f0cc863c>\u001b[0m in \u001b[0;36m<module>\u001b[0;34m\u001b[0m\n\u001b[0;32m----> 1\u001b[0;31m \u001b[0mplanets\u001b[0m\u001b[0;34m.\u001b[0m\u001b[0mindex\u001b[0m\u001b[0;34m(\u001b[0m\u001b[0;34m'PlanetX'\u001b[0m\u001b[0;34m)\u001b[0m\u001b[0;34m\u001b[0m\u001b[0;34m\u001b[0m\u001b[0m\n\u001b[0m",
      "\u001b[0;31mValueError\u001b[0m: 'PlanetX' is not in list"
     ]
    }
   ],
   "source": [
    "planets.index('PlanetX')"
   ]
  },
  {
   "cell_type": "code",
   "execution_count": 72,
   "metadata": {},
   "outputs": [
    {
     "output_type": "execute_result",
     "data": {
      "text/plain": [
       "True"
      ]
     },
     "metadata": {},
     "execution_count": 72
    }
   ],
   "source": [
    "'Pluto' in planets"
   ]
  },
  {
   "cell_type": "code",
   "execution_count": 73,
   "metadata": {},
   "outputs": [
    {
     "output_type": "stream",
     "name": "stdout",
     "text": [
      "Help on list object:\n\nclass list(object)\n |  list(iterable=(), /)\n |  \n |  Built-in mutable sequence.\n |  \n |  If no argument is given, the constructor creates a new empty list.\n |  The argument must be an iterable if specified.\n |  \n |  Methods defined here:\n |  \n |  __add__(self, value, /)\n |      Return self+value.\n |  \n |  __contains__(self, key, /)\n |      Return key in self.\n |  \n |  __delitem__(self, key, /)\n |      Delete self[key].\n |  \n |  __eq__(self, value, /)\n |      Return self==value.\n |  \n |  __ge__(self, value, /)\n |      Return self>=value.\n |  \n |  __getattribute__(self, name, /)\n |      Return getattr(self, name).\n |  \n |  __getitem__(...)\n |      x.__getitem__(y) <==> x[y]\n |  \n |  __gt__(self, value, /)\n |      Return self>value.\n |  \n |  __iadd__(self, value, /)\n |      Implement self+=value.\n |  \n |  __imul__(self, value, /)\n |      Implement self*=value.\n |  \n |  __init__(self, /, *args, **kwargs)\n |      Initialize self.  See help(type(self)) for accurate signature.\n |  \n |  __iter__(self, /)\n |      Implement iter(self).\n |  \n |  __le__(self, value, /)\n |      Return self<=value.\n |  \n |  __len__(self, /)\n |      Return len(self).\n |  \n |  __lt__(self, value, /)\n |      Return self<value.\n |  \n |  __mul__(self, value, /)\n |      Return self*value.\n |  \n |  __ne__(self, value, /)\n |      Return self!=value.\n |  \n |  __repr__(self, /)\n |      Return repr(self).\n |  \n |  __reversed__(self, /)\n |      Return a reverse iterator over the list.\n |  \n |  __rmul__(self, value, /)\n |      Return value*self.\n |  \n |  __setitem__(self, key, value, /)\n |      Set self[key] to value.\n |  \n |  __sizeof__(self, /)\n |      Return the size of the list in memory, in bytes.\n |  \n |  append(self, object, /)\n |      Append object to the end of the list.\n |  \n |  clear(self, /)\n |      Remove all items from list.\n |  \n |  copy(self, /)\n |      Return a shallow copy of the list.\n |  \n |  count(self, value, /)\n |      Return number of occurrences of value.\n |  \n |  extend(self, iterable, /)\n |      Extend list by appending elements from the iterable.\n |  \n |  index(self, value, start=0, stop=9223372036854775807, /)\n |      Return first index of value.\n |      \n |      Raises ValueError if the value is not present.\n |  \n |  insert(self, index, object, /)\n |      Insert object before index.\n |  \n |  pop(self, index=-1, /)\n |      Remove and return item at index (default last).\n |      \n |      Raises IndexError if list is empty or index is out of range.\n |  \n |  remove(self, value, /)\n |      Remove first occurrence of value.\n |      \n |      Raises ValueError if the value is not present.\n |  \n |  reverse(self, /)\n |      Reverse *IN PLACE*.\n |  \n |  sort(self, /, *, key=None, reverse=False)\n |      Sort the list in ascending order and return None.\n |      \n |      The sort is in-place (i.e. the list itself is modified) and stable (i.e. the\n |      order of two equal elements is maintained).\n |      \n |      If a key function is given, apply it once to each list item and sort them,\n |      ascending or descending, according to their function values.\n |      \n |      The reverse flag can be set to sort in descending order.\n |  \n |  ----------------------------------------------------------------------\n |  Class methods defined here:\n |  \n |  __class_getitem__(...) from builtins.type\n |      See PEP 585\n |  \n |  ----------------------------------------------------------------------\n |  Static methods defined here:\n |  \n |  __new__(*args, **kwargs) from builtins.type\n |      Create and return a new object.  See help(type) for accurate signature.\n |  \n |  ----------------------------------------------------------------------\n |  Data and other attributes defined here:\n |  \n |  __hash__ = None\n\n"
     ]
    }
   ],
   "source": [
    "help(planets)"
   ]
  },
  {
   "source": [
    "### Tuples\n",
    "\n",
    "Tuples are like lists but they are not mutable.  The syntax uses the parenthesis not square brackets.\n",
    "They are often used to return multiple values from functions."
   ],
   "cell_type": "markdown",
   "metadata": {}
  },
  {
   "cell_type": "code",
   "execution_count": 74,
   "metadata": {},
   "outputs": [
    {
     "output_type": "error",
     "ename": "TypeError",
     "evalue": "'tuple' object does not support item assignment",
     "traceback": [
      "\u001b[0;31m---------------------------------------------------------------------------\u001b[0m",
      "\u001b[0;31mTypeError\u001b[0m                                 Traceback (most recent call last)",
      "\u001b[0;32m<ipython-input-74-9ada026276c9>\u001b[0m in \u001b[0;36m<module>\u001b[0;34m\u001b[0m\n\u001b[1;32m      1\u001b[0m \u001b[0mx\u001b[0m \u001b[0;34m=\u001b[0m \u001b[0;34m(\u001b[0m\u001b[0;36m1\u001b[0m\u001b[0;34m,\u001b[0m\u001b[0;36m2\u001b[0m\u001b[0;34m,\u001b[0m\u001b[0;36m3\u001b[0m\u001b[0;34m)\u001b[0m\u001b[0;34m\u001b[0m\u001b[0;34m\u001b[0m\u001b[0m\n\u001b[0;32m----> 2\u001b[0;31m \u001b[0mx\u001b[0m\u001b[0;34m[\u001b[0m\u001b[0;36m1\u001b[0m\u001b[0;34m]\u001b[0m \u001b[0;34m=\u001b[0m \u001b[0;36m20\u001b[0m\u001b[0;34m\u001b[0m\u001b[0;34m\u001b[0m\u001b[0m\n\u001b[0m",
      "\u001b[0;31mTypeError\u001b[0m: 'tuple' object does not support item assignment"
     ]
    }
   ],
   "source": [
    "x = (1,2,3)\n",
    "x[1] = 20"
   ]
  },
  {
   "cell_type": "code",
   "execution_count": 75,
   "metadata": {},
   "outputs": [
    {
     "output_type": "execute_result",
     "data": {
      "text/plain": [
       "(1, 8)"
      ]
     },
     "metadata": {},
     "execution_count": 75
    }
   ],
   "source": [
    "value = 0.125\n",
    "value.as_integer_ratio()"
   ]
  },
  {
   "source": [
    "## Loops and List Comprehensions"
   ],
   "cell_type": "markdown",
   "metadata": {}
  },
  {
   "source": [
    "## Strings and Dictionaries"
   ],
   "cell_type": "markdown",
   "metadata": {}
  },
  {
   "source": [
    "## Using External Libraries"
   ],
   "cell_type": "markdown",
   "metadata": {}
  }
 ]
}